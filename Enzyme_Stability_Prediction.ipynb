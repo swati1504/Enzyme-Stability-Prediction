{
  "cells": [
    {
      "cell_type": "code",
      "execution_count": null,
      "metadata": {
        "colab": {
          "base_uri": "https://localhost:8080/"
        },
        "id": "Px6779AVBfPx",
        "outputId": "0c580854-7523-43c2-8af5-9cc43a819bde"
      },
      "outputs": [
        {
          "output_type": "stream",
          "name": "stdout",
          "text": [
            "Looking in indexes: https://pypi.org/simple, https://us-python.pkg.dev/colab-wheels/public/simple/\n",
            "Collecting biopython\n",
            "  Downloading biopython-1.81-cp39-cp39-manylinux_2_17_x86_64.manylinux2014_x86_64.whl (3.1 MB)\n",
            "\u001b[2K     \u001b[90m━━━━━━━━━━━━━━━━━━━━━━━━━━━━━━━━━━━━━━━━\u001b[0m \u001b[32m3.1/3.1 MB\u001b[0m \u001b[31m65.4 MB/s\u001b[0m eta \u001b[36m0:00:00\u001b[0m\n",
            "\u001b[?25hRequirement already satisfied: numpy in /usr/local/lib/python3.9/dist-packages (from biopython) (1.22.4)\n",
            "Installing collected packages: biopython\n",
            "Successfully installed biopython-1.81\n"
          ]
        }
      ],
      "source": [
        "!pip install biopython"
      ]
    },
    {
      "cell_type": "code",
      "execution_count": null,
      "metadata": {
        "colab": {
          "base_uri": "https://localhost:8080/"
        },
        "id": "_g95DQmm2daw",
        "outputId": "a13805aa-b75e-4e27-e705-d60d9f61403c"
      },
      "outputs": [
        {
          "output_type": "stream",
          "name": "stdout",
          "text": [
            "Looking in indexes: https://pypi.org/simple, https://us-python.pkg.dev/colab-wheels/public/simple/\n",
            "Collecting transformers\n",
            "  Downloading transformers-4.28.1-py3-none-any.whl (7.0 MB)\n",
            "\u001b[2K     \u001b[90m━━━━━━━━━━━━━━━━━━━━━━━━━━━━━━━━━━━━━━━━\u001b[0m \u001b[32m7.0/7.0 MB\u001b[0m \u001b[31m78.8 MB/s\u001b[0m eta \u001b[36m0:00:00\u001b[0m\n",
            "\u001b[?25hRequirement already satisfied: packaging>=20.0 in /usr/local/lib/python3.9/dist-packages (from transformers) (23.0)\n",
            "Requirement already satisfied: numpy>=1.17 in /usr/local/lib/python3.9/dist-packages (from transformers) (1.22.4)\n",
            "Collecting tokenizers!=0.11.3,<0.14,>=0.11.1\n",
            "  Downloading tokenizers-0.13.3-cp39-cp39-manylinux_2_17_x86_64.manylinux2014_x86_64.whl (7.8 MB)\n",
            "\u001b[2K     \u001b[90m━━━━━━━━━━━━━━━━━━━━━━━━━━━━━━━━━━━━━━━━\u001b[0m \u001b[32m7.8/7.8 MB\u001b[0m \u001b[31m105.3 MB/s\u001b[0m eta \u001b[36m0:00:00\u001b[0m\n",
            "\u001b[?25hRequirement already satisfied: regex!=2019.12.17 in /usr/local/lib/python3.9/dist-packages (from transformers) (2022.10.31)\n",
            "Collecting huggingface-hub<1.0,>=0.11.0\n",
            "  Downloading huggingface_hub-0.13.4-py3-none-any.whl (200 kB)\n",
            "\u001b[2K     \u001b[90m━━━━━━━━━━━━━━━━━━━━━━━━━━━━━━━━━━━━━━\u001b[0m \u001b[32m200.1/200.1 kB\u001b[0m \u001b[31m26.2 MB/s\u001b[0m eta \u001b[36m0:00:00\u001b[0m\n",
            "\u001b[?25hRequirement already satisfied: tqdm>=4.27 in /usr/local/lib/python3.9/dist-packages (from transformers) (4.65.0)\n",
            "Requirement already satisfied: filelock in /usr/local/lib/python3.9/dist-packages (from transformers) (3.11.0)\n",
            "Requirement already satisfied: requests in /usr/local/lib/python3.9/dist-packages (from transformers) (2.27.1)\n",
            "Requirement already satisfied: pyyaml>=5.1 in /usr/local/lib/python3.9/dist-packages (from transformers) (6.0)\n",
            "Requirement already satisfied: typing-extensions>=3.7.4.3 in /usr/local/lib/python3.9/dist-packages (from huggingface-hub<1.0,>=0.11.0->transformers) (4.5.0)\n",
            "Requirement already satisfied: charset-normalizer~=2.0.0 in /usr/local/lib/python3.9/dist-packages (from requests->transformers) (2.0.12)\n",
            "Requirement already satisfied: idna<4,>=2.5 in /usr/local/lib/python3.9/dist-packages (from requests->transformers) (3.4)\n",
            "Requirement already satisfied: certifi>=2017.4.17 in /usr/local/lib/python3.9/dist-packages (from requests->transformers) (2022.12.7)\n",
            "Requirement already satisfied: urllib3<1.27,>=1.21.1 in /usr/local/lib/python3.9/dist-packages (from requests->transformers) (1.26.15)\n",
            "Installing collected packages: tokenizers, huggingface-hub, transformers\n",
            "Successfully installed huggingface-hub-0.13.4 tokenizers-0.13.3 transformers-4.28.1\n"
          ]
        }
      ],
      "source": [
        "!pip install transformers"
      ]
    },
    {
      "cell_type": "code",
      "source": [
        "!pip3 install catboost"
      ],
      "metadata": {
        "colab": {
          "base_uri": "https://localhost:8080/"
        },
        "id": "Lewxg9UEC_zB",
        "outputId": "ca9e02fa-e7a4-4c13-82f1-61d1a876bfac"
      },
      "execution_count": null,
      "outputs": [
        {
          "output_type": "stream",
          "name": "stdout",
          "text": [
            "Looking in indexes: https://pypi.org/simple, https://us-python.pkg.dev/colab-wheels/public/simple/\n",
            "Collecting catboost\n",
            "  Downloading catboost-1.1.1-cp39-none-manylinux1_x86_64.whl (76.6 MB)\n",
            "\u001b[2K     \u001b[90m━━━━━━━━━━━━━━━━━━━━━━━━━━━━━━━━━━━━━━━━\u001b[0m \u001b[32m76.6/76.6 MB\u001b[0m \u001b[31m11.5 MB/s\u001b[0m eta \u001b[36m0:00:00\u001b[0m\n",
            "\u001b[?25hRequirement already satisfied: graphviz in /usr/local/lib/python3.9/dist-packages (from catboost) (0.20.1)\n",
            "Requirement already satisfied: numpy>=1.16.0 in /usr/local/lib/python3.9/dist-packages (from catboost) (1.22.4)\n",
            "Requirement already satisfied: plotly in /usr/local/lib/python3.9/dist-packages (from catboost) (5.13.1)\n",
            "Requirement already satisfied: pandas>=0.24.0 in /usr/local/lib/python3.9/dist-packages (from catboost) (1.5.3)\n",
            "Requirement already satisfied: matplotlib in /usr/local/lib/python3.9/dist-packages (from catboost) (3.7.1)\n",
            "Requirement already satisfied: six in /usr/local/lib/python3.9/dist-packages (from catboost) (1.16.0)\n",
            "Requirement already satisfied: scipy in /usr/local/lib/python3.9/dist-packages (from catboost) (1.10.1)\n",
            "Requirement already satisfied: python-dateutil>=2.8.1 in /usr/local/lib/python3.9/dist-packages (from pandas>=0.24.0->catboost) (2.8.2)\n",
            "Requirement already satisfied: pytz>=2020.1 in /usr/local/lib/python3.9/dist-packages (from pandas>=0.24.0->catboost) (2022.7.1)\n",
            "Requirement already satisfied: importlib-resources>=3.2.0 in /usr/local/lib/python3.9/dist-packages (from matplotlib->catboost) (5.12.0)\n",
            "Requirement already satisfied: packaging>=20.0 in /usr/local/lib/python3.9/dist-packages (from matplotlib->catboost) (23.0)\n",
            "Requirement already satisfied: pyparsing>=2.3.1 in /usr/local/lib/python3.9/dist-packages (from matplotlib->catboost) (3.0.9)\n",
            "Requirement already satisfied: fonttools>=4.22.0 in /usr/local/lib/python3.9/dist-packages (from matplotlib->catboost) (4.39.3)\n",
            "Requirement already satisfied: kiwisolver>=1.0.1 in /usr/local/lib/python3.9/dist-packages (from matplotlib->catboost) (1.4.4)\n",
            "Requirement already satisfied: contourpy>=1.0.1 in /usr/local/lib/python3.9/dist-packages (from matplotlib->catboost) (1.0.7)\n",
            "Requirement already satisfied: pillow>=6.2.0 in /usr/local/lib/python3.9/dist-packages (from matplotlib->catboost) (8.4.0)\n",
            "Requirement already satisfied: cycler>=0.10 in /usr/local/lib/python3.9/dist-packages (from matplotlib->catboost) (0.11.0)\n",
            "Requirement already satisfied: tenacity>=6.2.0 in /usr/local/lib/python3.9/dist-packages (from plotly->catboost) (8.2.2)\n",
            "Requirement already satisfied: zipp>=3.1.0 in /usr/local/lib/python3.9/dist-packages (from importlib-resources>=3.2.0->matplotlib->catboost) (3.15.0)\n",
            "Installing collected packages: catboost\n",
            "Successfully installed catboost-1.1.1\n"
          ]
        }
      ]
    },
    {
      "cell_type": "code",
      "execution_count": null,
      "metadata": {
        "id": "Ke-4PsV-WtS3"
      },
      "outputs": [],
      "source": [
        "#import the reqired libraries\n",
        "import pandas as pd\n",
        "import numpy as np\n",
        "import matplotlib.pyplot as plt\n",
        "import seaborn as sns\n",
        "from sklearn.preprocessing import LabelEncoder\n",
        "from transformers import BertModel, BertTokenizer\n",
        "from Bio.SeqUtils.ProtParam import ProteinAnalysis\n",
        "from sklearn.model_selection import train_test_split\n",
        "import torch\n",
        "import re\n",
        "import math\n",
        "import plotly.express as px\n",
        "from tqdm import tqdm\n",
        "from sklearn.feature_selection import RFECV\n",
        "from sklearn import metrics\n",
        "from scipy.stats import spearmanr\n",
        "from sklearn.metrics import r2_score\n",
        "import plotly.graph_objects as go\n",
        "from sklearn.linear_model import LinearRegression  \n",
        "from sklearn.ensemble import RandomForestRegressor\n",
        "from xgboost import XGBRegressor\n",
        "import lightgbm as lgb\n",
        "import catboost as cb\n",
        "from catboost import CatBoostRegressor\n",
        "from sklearn.model_selection import RandomizedSearchCV, GridSearchCV\n",
        "from sklearn.metrics import mean_absolute_error\n",
        "from sklearn.metrics import mean_squared_error\n",
        "from sklearn.preprocessing import StandardScaler"
      ]
    },
    {
      "cell_type": "code",
      "execution_count": null,
      "metadata": {
        "id": "0Hsz3m-yJKc6"
      },
      "outputs": [],
      "source": [
        "#read the files\n",
        "train_df=pd.read_csv('train.csv')\n",
        "train_updates_df=pd.read_csv('train_updates_20220929.csv')\n",
        "test_df=pd.read_csv(\"test.csv\")"
      ]
    },
    {
      "cell_type": "markdown",
      "metadata": {
        "id": "AyObs1NNQWvI"
      },
      "source": [
        "\n",
        "## Exploratory Data Anaysis\n"
      ]
    },
    {
      "cell_type": "code",
      "execution_count": null,
      "metadata": {
        "colab": {
          "base_uri": "https://localhost:8080/",
          "height": 337
        },
        "id": "pzOxIro_KsNm",
        "outputId": "9de6ce24-e9bb-47e7-dede-f8ad69de35cc"
      },
      "outputs": [
        {
          "output_type": "execute_result",
          "data": {
            "text/plain": [
              "   seq_id                                   protein_sequence   pH  \\\n",
              "0       0  AAAAKAAALALLGEAPEVVDIWLPAGWRQPFRVFRLERKGDGVLVG...  7.0   \n",
              "1       1  AAADGEPLHNEEERAGAGQVGRSLPQESEEQRTGSRPRRRRDLGSR...  7.0   \n",
              "2       2  AAAFSTPRATSYRILSSAGSGSTRADAPQVRRLHTTRDLLAKDYYA...  7.0   \n",
              "3       3  AAASGLRTAIPAQPLRHLLQPAPRPCLRPFGLLSVRAGSARRSGLL...  7.0   \n",
              "4       4  AAATKSGPRRQSQGASVRTFTPFYFLVEPVDTLSVRGSSVILNCSA...  7.0   \n",
              "\n",
              "                         data_source    tm  \n",
              "0  doi.org/10.1038/s41592-020-0801-4  75.7  \n",
              "1  doi.org/10.1038/s41592-020-0801-4  50.5  \n",
              "2  doi.org/10.1038/s41592-020-0801-4  40.5  \n",
              "3  doi.org/10.1038/s41592-020-0801-4  47.2  \n",
              "4  doi.org/10.1038/s41592-020-0801-4  49.5  "
            ],
            "text/html": [
              "\n",
              "  <div id=\"df-7ff351a5-d137-4e52-a997-7b88d4d92551\">\n",
              "    <div class=\"colab-df-container\">\n",
              "      <div>\n",
              "<style scoped>\n",
              "    .dataframe tbody tr th:only-of-type {\n",
              "        vertical-align: middle;\n",
              "    }\n",
              "\n",
              "    .dataframe tbody tr th {\n",
              "        vertical-align: top;\n",
              "    }\n",
              "\n",
              "    .dataframe thead th {\n",
              "        text-align: right;\n",
              "    }\n",
              "</style>\n",
              "<table border=\"1\" class=\"dataframe\">\n",
              "  <thead>\n",
              "    <tr style=\"text-align: right;\">\n",
              "      <th></th>\n",
              "      <th>seq_id</th>\n",
              "      <th>protein_sequence</th>\n",
              "      <th>pH</th>\n",
              "      <th>data_source</th>\n",
              "      <th>tm</th>\n",
              "    </tr>\n",
              "  </thead>\n",
              "  <tbody>\n",
              "    <tr>\n",
              "      <th>0</th>\n",
              "      <td>0</td>\n",
              "      <td>AAAAKAAALALLGEAPEVVDIWLPAGWRQPFRVFRLERKGDGVLVG...</td>\n",
              "      <td>7.0</td>\n",
              "      <td>doi.org/10.1038/s41592-020-0801-4</td>\n",
              "      <td>75.7</td>\n",
              "    </tr>\n",
              "    <tr>\n",
              "      <th>1</th>\n",
              "      <td>1</td>\n",
              "      <td>AAADGEPLHNEEERAGAGQVGRSLPQESEEQRTGSRPRRRRDLGSR...</td>\n",
              "      <td>7.0</td>\n",
              "      <td>doi.org/10.1038/s41592-020-0801-4</td>\n",
              "      <td>50.5</td>\n",
              "    </tr>\n",
              "    <tr>\n",
              "      <th>2</th>\n",
              "      <td>2</td>\n",
              "      <td>AAAFSTPRATSYRILSSAGSGSTRADAPQVRRLHTTRDLLAKDYYA...</td>\n",
              "      <td>7.0</td>\n",
              "      <td>doi.org/10.1038/s41592-020-0801-4</td>\n",
              "      <td>40.5</td>\n",
              "    </tr>\n",
              "    <tr>\n",
              "      <th>3</th>\n",
              "      <td>3</td>\n",
              "      <td>AAASGLRTAIPAQPLRHLLQPAPRPCLRPFGLLSVRAGSARRSGLL...</td>\n",
              "      <td>7.0</td>\n",
              "      <td>doi.org/10.1038/s41592-020-0801-4</td>\n",
              "      <td>47.2</td>\n",
              "    </tr>\n",
              "    <tr>\n",
              "      <th>4</th>\n",
              "      <td>4</td>\n",
              "      <td>AAATKSGPRRQSQGASVRTFTPFYFLVEPVDTLSVRGSSVILNCSA...</td>\n",
              "      <td>7.0</td>\n",
              "      <td>doi.org/10.1038/s41592-020-0801-4</td>\n",
              "      <td>49.5</td>\n",
              "    </tr>\n",
              "  </tbody>\n",
              "</table>\n",
              "</div>\n",
              "      <button class=\"colab-df-convert\" onclick=\"convertToInteractive('df-7ff351a5-d137-4e52-a997-7b88d4d92551')\"\n",
              "              title=\"Convert this dataframe to an interactive table.\"\n",
              "              style=\"display:none;\">\n",
              "        \n",
              "  <svg xmlns=\"http://www.w3.org/2000/svg\" height=\"24px\"viewBox=\"0 0 24 24\"\n",
              "       width=\"24px\">\n",
              "    <path d=\"M0 0h24v24H0V0z\" fill=\"none\"/>\n",
              "    <path d=\"M18.56 5.44l.94 2.06.94-2.06 2.06-.94-2.06-.94-.94-2.06-.94 2.06-2.06.94zm-11 1L8.5 8.5l.94-2.06 2.06-.94-2.06-.94L8.5 2.5l-.94 2.06-2.06.94zm10 10l.94 2.06.94-2.06 2.06-.94-2.06-.94-.94-2.06-.94 2.06-2.06.94z\"/><path d=\"M17.41 7.96l-1.37-1.37c-.4-.4-.92-.59-1.43-.59-.52 0-1.04.2-1.43.59L10.3 9.45l-7.72 7.72c-.78.78-.78 2.05 0 2.83L4 21.41c.39.39.9.59 1.41.59.51 0 1.02-.2 1.41-.59l7.78-7.78 2.81-2.81c.8-.78.8-2.07 0-2.86zM5.41 20L4 18.59l7.72-7.72 1.47 1.35L5.41 20z\"/>\n",
              "  </svg>\n",
              "      </button>\n",
              "      \n",
              "  <style>\n",
              "    .colab-df-container {\n",
              "      display:flex;\n",
              "      flex-wrap:wrap;\n",
              "      gap: 12px;\n",
              "    }\n",
              "\n",
              "    .colab-df-convert {\n",
              "      background-color: #E8F0FE;\n",
              "      border: none;\n",
              "      border-radius: 50%;\n",
              "      cursor: pointer;\n",
              "      display: none;\n",
              "      fill: #1967D2;\n",
              "      height: 32px;\n",
              "      padding: 0 0 0 0;\n",
              "      width: 32px;\n",
              "    }\n",
              "\n",
              "    .colab-df-convert:hover {\n",
              "      background-color: #E2EBFA;\n",
              "      box-shadow: 0px 1px 2px rgba(60, 64, 67, 0.3), 0px 1px 3px 1px rgba(60, 64, 67, 0.15);\n",
              "      fill: #174EA6;\n",
              "    }\n",
              "\n",
              "    [theme=dark] .colab-df-convert {\n",
              "      background-color: #3B4455;\n",
              "      fill: #D2E3FC;\n",
              "    }\n",
              "\n",
              "    [theme=dark] .colab-df-convert:hover {\n",
              "      background-color: #434B5C;\n",
              "      box-shadow: 0px 1px 3px 1px rgba(0, 0, 0, 0.15);\n",
              "      filter: drop-shadow(0px 1px 2px rgba(0, 0, 0, 0.3));\n",
              "      fill: #FFFFFF;\n",
              "    }\n",
              "  </style>\n",
              "\n",
              "      <script>\n",
              "        const buttonEl =\n",
              "          document.querySelector('#df-7ff351a5-d137-4e52-a997-7b88d4d92551 button.colab-df-convert');\n",
              "        buttonEl.style.display =\n",
              "          google.colab.kernel.accessAllowed ? 'block' : 'none';\n",
              "\n",
              "        async function convertToInteractive(key) {\n",
              "          const element = document.querySelector('#df-7ff351a5-d137-4e52-a997-7b88d4d92551');\n",
              "          const dataTable =\n",
              "            await google.colab.kernel.invokeFunction('convertToInteractive',\n",
              "                                                     [key], {});\n",
              "          if (!dataTable) return;\n",
              "\n",
              "          const docLinkHtml = 'Like what you see? Visit the ' +\n",
              "            '<a target=\"_blank\" href=https://colab.research.google.com/notebooks/data_table.ipynb>data table notebook</a>'\n",
              "            + ' to learn more about interactive tables.';\n",
              "          element.innerHTML = '';\n",
              "          dataTable['output_type'] = 'display_data';\n",
              "          await google.colab.output.renderOutput(dataTable, element);\n",
              "          const docLink = document.createElement('div');\n",
              "          docLink.innerHTML = docLinkHtml;\n",
              "          element.appendChild(docLink);\n",
              "        }\n",
              "      </script>\n",
              "    </div>\n",
              "  </div>\n",
              "  "
            ]
          },
          "metadata": {},
          "execution_count": 12
        }
      ],
      "source": [
        "train_df.head()"
      ]
    },
    {
      "cell_type": "code",
      "execution_count": null,
      "metadata": {
        "colab": {
          "base_uri": "https://localhost:8080/"
        },
        "id": "PkCFBBdRKtkz",
        "outputId": "ad7d8b44-e931-4c3f-a66a-1dad2c4be1a2"
      },
      "outputs": [
        {
          "output_type": "execute_result",
          "data": {
            "text/plain": [
              "(31390, 5)"
            ]
          },
          "metadata": {},
          "execution_count": 13
        }
      ],
      "source": [
        "train_df.shape"
      ]
    },
    {
      "cell_type": "code",
      "execution_count": null,
      "metadata": {
        "colab": {
          "base_uri": "https://localhost:8080/",
          "height": 206
        },
        "id": "4gwNQWSWfwHZ",
        "outputId": "f171d10d-77f7-49e0-c17c-838ef0d382ec"
      },
      "outputs": [
        {
          "output_type": "execute_result",
          "data": {
            "text/plain": [
              "   seq_id protein_sequence  pH  data_source  tm\n",
              "0      69              NaN NaN          NaN NaN\n",
              "1      70              NaN NaN          NaN NaN\n",
              "2      71              NaN NaN          NaN NaN\n",
              "3      72              NaN NaN          NaN NaN\n",
              "4      73              NaN NaN          NaN NaN"
            ],
            "text/html": [
              "\n",
              "  <div id=\"df-8040b879-43af-4cd5-85dd-ecd0dab4846e\">\n",
              "    <div class=\"colab-df-container\">\n",
              "      <div>\n",
              "<style scoped>\n",
              "    .dataframe tbody tr th:only-of-type {\n",
              "        vertical-align: middle;\n",
              "    }\n",
              "\n",
              "    .dataframe tbody tr th {\n",
              "        vertical-align: top;\n",
              "    }\n",
              "\n",
              "    .dataframe thead th {\n",
              "        text-align: right;\n",
              "    }\n",
              "</style>\n",
              "<table border=\"1\" class=\"dataframe\">\n",
              "  <thead>\n",
              "    <tr style=\"text-align: right;\">\n",
              "      <th></th>\n",
              "      <th>seq_id</th>\n",
              "      <th>protein_sequence</th>\n",
              "      <th>pH</th>\n",
              "      <th>data_source</th>\n",
              "      <th>tm</th>\n",
              "    </tr>\n",
              "  </thead>\n",
              "  <tbody>\n",
              "    <tr>\n",
              "      <th>0</th>\n",
              "      <td>69</td>\n",
              "      <td>NaN</td>\n",
              "      <td>NaN</td>\n",
              "      <td>NaN</td>\n",
              "      <td>NaN</td>\n",
              "    </tr>\n",
              "    <tr>\n",
              "      <th>1</th>\n",
              "      <td>70</td>\n",
              "      <td>NaN</td>\n",
              "      <td>NaN</td>\n",
              "      <td>NaN</td>\n",
              "      <td>NaN</td>\n",
              "    </tr>\n",
              "    <tr>\n",
              "      <th>2</th>\n",
              "      <td>71</td>\n",
              "      <td>NaN</td>\n",
              "      <td>NaN</td>\n",
              "      <td>NaN</td>\n",
              "      <td>NaN</td>\n",
              "    </tr>\n",
              "    <tr>\n",
              "      <th>3</th>\n",
              "      <td>72</td>\n",
              "      <td>NaN</td>\n",
              "      <td>NaN</td>\n",
              "      <td>NaN</td>\n",
              "      <td>NaN</td>\n",
              "    </tr>\n",
              "    <tr>\n",
              "      <th>4</th>\n",
              "      <td>73</td>\n",
              "      <td>NaN</td>\n",
              "      <td>NaN</td>\n",
              "      <td>NaN</td>\n",
              "      <td>NaN</td>\n",
              "    </tr>\n",
              "  </tbody>\n",
              "</table>\n",
              "</div>\n",
              "      <button class=\"colab-df-convert\" onclick=\"convertToInteractive('df-8040b879-43af-4cd5-85dd-ecd0dab4846e')\"\n",
              "              title=\"Convert this dataframe to an interactive table.\"\n",
              "              style=\"display:none;\">\n",
              "        \n",
              "  <svg xmlns=\"http://www.w3.org/2000/svg\" height=\"24px\"viewBox=\"0 0 24 24\"\n",
              "       width=\"24px\">\n",
              "    <path d=\"M0 0h24v24H0V0z\" fill=\"none\"/>\n",
              "    <path d=\"M18.56 5.44l.94 2.06.94-2.06 2.06-.94-2.06-.94-.94-2.06-.94 2.06-2.06.94zm-11 1L8.5 8.5l.94-2.06 2.06-.94-2.06-.94L8.5 2.5l-.94 2.06-2.06.94zm10 10l.94 2.06.94-2.06 2.06-.94-2.06-.94-.94-2.06-.94 2.06-2.06.94z\"/><path d=\"M17.41 7.96l-1.37-1.37c-.4-.4-.92-.59-1.43-.59-.52 0-1.04.2-1.43.59L10.3 9.45l-7.72 7.72c-.78.78-.78 2.05 0 2.83L4 21.41c.39.39.9.59 1.41.59.51 0 1.02-.2 1.41-.59l7.78-7.78 2.81-2.81c.8-.78.8-2.07 0-2.86zM5.41 20L4 18.59l7.72-7.72 1.47 1.35L5.41 20z\"/>\n",
              "  </svg>\n",
              "      </button>\n",
              "      \n",
              "  <style>\n",
              "    .colab-df-container {\n",
              "      display:flex;\n",
              "      flex-wrap:wrap;\n",
              "      gap: 12px;\n",
              "    }\n",
              "\n",
              "    .colab-df-convert {\n",
              "      background-color: #E8F0FE;\n",
              "      border: none;\n",
              "      border-radius: 50%;\n",
              "      cursor: pointer;\n",
              "      display: none;\n",
              "      fill: #1967D2;\n",
              "      height: 32px;\n",
              "      padding: 0 0 0 0;\n",
              "      width: 32px;\n",
              "    }\n",
              "\n",
              "    .colab-df-convert:hover {\n",
              "      background-color: #E2EBFA;\n",
              "      box-shadow: 0px 1px 2px rgba(60, 64, 67, 0.3), 0px 1px 3px 1px rgba(60, 64, 67, 0.15);\n",
              "      fill: #174EA6;\n",
              "    }\n",
              "\n",
              "    [theme=dark] .colab-df-convert {\n",
              "      background-color: #3B4455;\n",
              "      fill: #D2E3FC;\n",
              "    }\n",
              "\n",
              "    [theme=dark] .colab-df-convert:hover {\n",
              "      background-color: #434B5C;\n",
              "      box-shadow: 0px 1px 3px 1px rgba(0, 0, 0, 0.15);\n",
              "      filter: drop-shadow(0px 1px 2px rgba(0, 0, 0, 0.3));\n",
              "      fill: #FFFFFF;\n",
              "    }\n",
              "  </style>\n",
              "\n",
              "      <script>\n",
              "        const buttonEl =\n",
              "          document.querySelector('#df-8040b879-43af-4cd5-85dd-ecd0dab4846e button.colab-df-convert');\n",
              "        buttonEl.style.display =\n",
              "          google.colab.kernel.accessAllowed ? 'block' : 'none';\n",
              "\n",
              "        async function convertToInteractive(key) {\n",
              "          const element = document.querySelector('#df-8040b879-43af-4cd5-85dd-ecd0dab4846e');\n",
              "          const dataTable =\n",
              "            await google.colab.kernel.invokeFunction('convertToInteractive',\n",
              "                                                     [key], {});\n",
              "          if (!dataTable) return;\n",
              "\n",
              "          const docLinkHtml = 'Like what you see? Visit the ' +\n",
              "            '<a target=\"_blank\" href=https://colab.research.google.com/notebooks/data_table.ipynb>data table notebook</a>'\n",
              "            + ' to learn more about interactive tables.';\n",
              "          element.innerHTML = '';\n",
              "          dataTable['output_type'] = 'display_data';\n",
              "          await google.colab.output.renderOutput(dataTable, element);\n",
              "          const docLink = document.createElement('div');\n",
              "          docLink.innerHTML = docLinkHtml;\n",
              "          element.appendChild(docLink);\n",
              "        }\n",
              "      </script>\n",
              "    </div>\n",
              "  </div>\n",
              "  "
            ]
          },
          "metadata": {},
          "execution_count": 14
        }
      ],
      "source": [
        "train_updates_df.head()"
      ]
    },
    {
      "cell_type": "code",
      "execution_count": null,
      "metadata": {
        "colab": {
          "base_uri": "https://localhost:8080/"
        },
        "id": "_S8FWv7mm8eD",
        "outputId": "e60e9b68-8c5a-4bfa-e15c-e4b6b93273c7"
      },
      "outputs": [
        {
          "output_type": "execute_result",
          "data": {
            "text/plain": [
              "(2434, 5)"
            ]
          },
          "metadata": {},
          "execution_count": 15
        }
      ],
      "source": [
        "train_updates_df.shape"
      ]
    },
    {
      "cell_type": "code",
      "execution_count": null,
      "metadata": {
        "id": "a0mEwqiSl7lr"
      },
      "outputs": [],
      "source": [
        "for i in train_updates_df['seq_id'] :\n",
        "    train_df[train_df['seq_id'] == i] = train_updates_df[train_updates_df['seq_id'] == i]"
      ]
    },
    {
      "cell_type": "code",
      "execution_count": null,
      "metadata": {
        "id": "rqwAqC0E4S0L",
        "colab": {
          "base_uri": "https://localhost:8080/"
        },
        "outputId": "8f61e4ba-bc0e-4844-9eaa-e7d60c9610cb"
      },
      "outputs": [
        {
          "output_type": "execute_result",
          "data": {
            "text/plain": [
              "(31390, 5)"
            ]
          },
          "metadata": {},
          "execution_count": 17
        }
      ],
      "source": [
        "train_df.shape"
      ]
    },
    {
      "cell_type": "code",
      "execution_count": null,
      "metadata": {
        "colab": {
          "base_uri": "https://localhost:8080/"
        },
        "id": "rdwNaFhiK3Vh",
        "outputId": "b8eb2354-dbd2-4e81-a0b5-2e0c7b0258dd"
      },
      "outputs": [
        {
          "output_type": "stream",
          "name": "stdout",
          "text": [
            "<class 'pandas.core.frame.DataFrame'>\n",
            "RangeIndex: 31390 entries, 0 to 31389\n",
            "Data columns (total 5 columns):\n",
            " #   Column            Non-Null Count  Dtype  \n",
            "---  ------            --------------  -----  \n",
            " 0   seq_id            28956 non-null  float64\n",
            " 1   protein_sequence  28956 non-null  object \n",
            " 2   pH                28670 non-null  float64\n",
            " 3   data_source       28001 non-null  object \n",
            " 4   tm                28956 non-null  float64\n",
            "dtypes: float64(3), object(2)\n",
            "memory usage: 1.2+ MB\n"
          ]
        }
      ],
      "source": [
        "train_df.info()"
      ]
    },
    {
      "cell_type": "code",
      "execution_count": null,
      "metadata": {
        "colab": {
          "base_uri": "https://localhost:8080/",
          "height": 143
        },
        "id": "mBvpzcCkK874",
        "outputId": "d0dbb339-a183-465b-9a79-5c8e79f6f40d"
      },
      "outputs": [
        {
          "output_type": "execute_result",
          "data": {
            "text/plain": [
              "          count          mean          std    min      25%      50%       75%  \\\n",
              "seq_id  28956.0  15744.916529  9251.179714   0.00  7526.75  15587.5  23902.25   \n",
              "pH      28670.0      6.872918     0.792550   1.99     7.00      7.0      7.00   \n",
              "tm      28956.0     51.360399    12.060858  25.10    43.60     48.8     54.60   \n",
              "\n",
              "            max  \n",
              "seq_id  31389.0  \n",
              "pH         11.0  \n",
              "tm        130.0  "
            ],
            "text/html": [
              "\n",
              "  <div id=\"df-68f7417e-43fe-4de4-9e9e-1885815ca6d6\">\n",
              "    <div class=\"colab-df-container\">\n",
              "      <div>\n",
              "<style scoped>\n",
              "    .dataframe tbody tr th:only-of-type {\n",
              "        vertical-align: middle;\n",
              "    }\n",
              "\n",
              "    .dataframe tbody tr th {\n",
              "        vertical-align: top;\n",
              "    }\n",
              "\n",
              "    .dataframe thead th {\n",
              "        text-align: right;\n",
              "    }\n",
              "</style>\n",
              "<table border=\"1\" class=\"dataframe\">\n",
              "  <thead>\n",
              "    <tr style=\"text-align: right;\">\n",
              "      <th></th>\n",
              "      <th>count</th>\n",
              "      <th>mean</th>\n",
              "      <th>std</th>\n",
              "      <th>min</th>\n",
              "      <th>25%</th>\n",
              "      <th>50%</th>\n",
              "      <th>75%</th>\n",
              "      <th>max</th>\n",
              "    </tr>\n",
              "  </thead>\n",
              "  <tbody>\n",
              "    <tr>\n",
              "      <th>seq_id</th>\n",
              "      <td>28956.0</td>\n",
              "      <td>15744.916529</td>\n",
              "      <td>9251.179714</td>\n",
              "      <td>0.00</td>\n",
              "      <td>7526.75</td>\n",
              "      <td>15587.5</td>\n",
              "      <td>23902.25</td>\n",
              "      <td>31389.0</td>\n",
              "    </tr>\n",
              "    <tr>\n",
              "      <th>pH</th>\n",
              "      <td>28670.0</td>\n",
              "      <td>6.872918</td>\n",
              "      <td>0.792550</td>\n",
              "      <td>1.99</td>\n",
              "      <td>7.00</td>\n",
              "      <td>7.0</td>\n",
              "      <td>7.00</td>\n",
              "      <td>11.0</td>\n",
              "    </tr>\n",
              "    <tr>\n",
              "      <th>tm</th>\n",
              "      <td>28956.0</td>\n",
              "      <td>51.360399</td>\n",
              "      <td>12.060858</td>\n",
              "      <td>25.10</td>\n",
              "      <td>43.60</td>\n",
              "      <td>48.8</td>\n",
              "      <td>54.60</td>\n",
              "      <td>130.0</td>\n",
              "    </tr>\n",
              "  </tbody>\n",
              "</table>\n",
              "</div>\n",
              "      <button class=\"colab-df-convert\" onclick=\"convertToInteractive('df-68f7417e-43fe-4de4-9e9e-1885815ca6d6')\"\n",
              "              title=\"Convert this dataframe to an interactive table.\"\n",
              "              style=\"display:none;\">\n",
              "        \n",
              "  <svg xmlns=\"http://www.w3.org/2000/svg\" height=\"24px\"viewBox=\"0 0 24 24\"\n",
              "       width=\"24px\">\n",
              "    <path d=\"M0 0h24v24H0V0z\" fill=\"none\"/>\n",
              "    <path d=\"M18.56 5.44l.94 2.06.94-2.06 2.06-.94-2.06-.94-.94-2.06-.94 2.06-2.06.94zm-11 1L8.5 8.5l.94-2.06 2.06-.94-2.06-.94L8.5 2.5l-.94 2.06-2.06.94zm10 10l.94 2.06.94-2.06 2.06-.94-2.06-.94-.94-2.06-.94 2.06-2.06.94z\"/><path d=\"M17.41 7.96l-1.37-1.37c-.4-.4-.92-.59-1.43-.59-.52 0-1.04.2-1.43.59L10.3 9.45l-7.72 7.72c-.78.78-.78 2.05 0 2.83L4 21.41c.39.39.9.59 1.41.59.51 0 1.02-.2 1.41-.59l7.78-7.78 2.81-2.81c.8-.78.8-2.07 0-2.86zM5.41 20L4 18.59l7.72-7.72 1.47 1.35L5.41 20z\"/>\n",
              "  </svg>\n",
              "      </button>\n",
              "      \n",
              "  <style>\n",
              "    .colab-df-container {\n",
              "      display:flex;\n",
              "      flex-wrap:wrap;\n",
              "      gap: 12px;\n",
              "    }\n",
              "\n",
              "    .colab-df-convert {\n",
              "      background-color: #E8F0FE;\n",
              "      border: none;\n",
              "      border-radius: 50%;\n",
              "      cursor: pointer;\n",
              "      display: none;\n",
              "      fill: #1967D2;\n",
              "      height: 32px;\n",
              "      padding: 0 0 0 0;\n",
              "      width: 32px;\n",
              "    }\n",
              "\n",
              "    .colab-df-convert:hover {\n",
              "      background-color: #E2EBFA;\n",
              "      box-shadow: 0px 1px 2px rgba(60, 64, 67, 0.3), 0px 1px 3px 1px rgba(60, 64, 67, 0.15);\n",
              "      fill: #174EA6;\n",
              "    }\n",
              "\n",
              "    [theme=dark] .colab-df-convert {\n",
              "      background-color: #3B4455;\n",
              "      fill: #D2E3FC;\n",
              "    }\n",
              "\n",
              "    [theme=dark] .colab-df-convert:hover {\n",
              "      background-color: #434B5C;\n",
              "      box-shadow: 0px 1px 3px 1px rgba(0, 0, 0, 0.15);\n",
              "      filter: drop-shadow(0px 1px 2px rgba(0, 0, 0, 0.3));\n",
              "      fill: #FFFFFF;\n",
              "    }\n",
              "  </style>\n",
              "\n",
              "      <script>\n",
              "        const buttonEl =\n",
              "          document.querySelector('#df-68f7417e-43fe-4de4-9e9e-1885815ca6d6 button.colab-df-convert');\n",
              "        buttonEl.style.display =\n",
              "          google.colab.kernel.accessAllowed ? 'block' : 'none';\n",
              "\n",
              "        async function convertToInteractive(key) {\n",
              "          const element = document.querySelector('#df-68f7417e-43fe-4de4-9e9e-1885815ca6d6');\n",
              "          const dataTable =\n",
              "            await google.colab.kernel.invokeFunction('convertToInteractive',\n",
              "                                                     [key], {});\n",
              "          if (!dataTable) return;\n",
              "\n",
              "          const docLinkHtml = 'Like what you see? Visit the ' +\n",
              "            '<a target=\"_blank\" href=https://colab.research.google.com/notebooks/data_table.ipynb>data table notebook</a>'\n",
              "            + ' to learn more about interactive tables.';\n",
              "          element.innerHTML = '';\n",
              "          dataTable['output_type'] = 'display_data';\n",
              "          await google.colab.output.renderOutput(dataTable, element);\n",
              "          const docLink = document.createElement('div');\n",
              "          docLink.innerHTML = docLinkHtml;\n",
              "          element.appendChild(docLink);\n",
              "        }\n",
              "      </script>\n",
              "    </div>\n",
              "  </div>\n",
              "  "
            ]
          },
          "metadata": {},
          "execution_count": 19
        }
      ],
      "source": [
        "train_df.describe().T"
      ]
    },
    {
      "cell_type": "code",
      "execution_count": null,
      "metadata": {
        "colab": {
          "base_uri": "https://localhost:8080/"
        },
        "id": "bG4gvOyNK6BA",
        "outputId": "850a7152-bf85-4e9c-f979-76a9288fa70d"
      },
      "outputs": [
        {
          "output_type": "execute_result",
          "data": {
            "text/plain": [
              "seq_id              2434\n",
              "protein_sequence    2434\n",
              "pH                  2720\n",
              "data_source         3389\n",
              "tm                  2434\n",
              "dtype: int64"
            ]
          },
          "metadata": {},
          "execution_count": 20
        }
      ],
      "source": [
        "#check for null values\n",
        "train_df.isnull().sum()"
      ]
    },
    {
      "cell_type": "code",
      "execution_count": null,
      "metadata": {
        "id": "p4unG8ZlwEfR"
      },
      "outputs": [],
      "source": [
        "train_df=train_df.dropna(how='all')"
      ]
    },
    {
      "cell_type": "code",
      "execution_count": null,
      "metadata": {
        "colab": {
          "base_uri": "https://localhost:8080/"
        },
        "id": "MFd9E9nCNpeF",
        "outputId": "9cad1672-1fde-4f49-edbb-c1efa2316921"
      },
      "outputs": [
        {
          "output_type": "execute_result",
          "data": {
            "text/plain": [
              "seq_id                0\n",
              "protein_sequence      0\n",
              "pH                  286\n",
              "data_source         955\n",
              "tm                    0\n",
              "dtype: int64"
            ]
          },
          "metadata": {},
          "execution_count": 22
        }
      ],
      "source": [
        "train_df.isnull().sum()"
      ]
    },
    {
      "cell_type": "code",
      "execution_count": null,
      "metadata": {
        "id": "kNTd7furnnYI",
        "colab": {
          "base_uri": "https://localhost:8080/"
        },
        "outputId": "6927716c-11bb-4a6d-d8aa-bd5326b99370"
      },
      "outputs": [
        {
          "output_type": "stream",
          "name": "stderr",
          "text": [
            "<ipython-input-23-fa1860bb7f95>:1: SettingWithCopyWarning: \n",
            "A value is trying to be set on a copy of a slice from a DataFrame.\n",
            "Try using .loc[row_indexer,col_indexer] = value instead\n",
            "\n",
            "See the caveats in the documentation: https://pandas.pydata.org/pandas-docs/stable/user_guide/indexing.html#returning-a-view-versus-a-copy\n",
            "  train_df['pH'] = train_df['pH'].fillna(train_df['pH'].mean())\n"
          ]
        }
      ],
      "source": [
        "train_df['pH'] = train_df['pH'].fillna(train_df['pH'].mean())"
      ]
    },
    {
      "cell_type": "code",
      "execution_count": null,
      "metadata": {
        "id": "lnFKk5Ty4Wvq",
        "colab": {
          "base_uri": "https://localhost:8080/"
        },
        "outputId": "82e8fc7d-44b8-42df-a619-a570a026d689"
      },
      "outputs": [
        {
          "output_type": "execute_result",
          "data": {
            "text/plain": [
              "(28956, 5)"
            ]
          },
          "metadata": {},
          "execution_count": 24
        }
      ],
      "source": [
        "train_df.shape"
      ]
    },
    {
      "cell_type": "code",
      "execution_count": null,
      "metadata": {
        "colab": {
          "base_uri": "https://localhost:8080/",
          "height": 417
        },
        "id": "QsOFNB5yLJZn",
        "outputId": "54ba6aec-2232-41ac-a4a4-d586b2e45a20"
      },
      "outputs": [
        {
          "output_type": "display_data",
          "data": {
            "text/html": [
              "<html>\n",
              "<head><meta charset=\"utf-8\" /></head>\n",
              "<body>\n",
              "    <div>            <script src=\"https://cdnjs.cloudflare.com/ajax/libs/mathjax/2.7.5/MathJax.js?config=TeX-AMS-MML_SVG\"></script><script type=\"text/javascript\">if (window.MathJax && window.MathJax.Hub && window.MathJax.Hub.Config) {window.MathJax.Hub.Config({SVG: {font: \"STIX-Web\"}});}</script>                <script type=\"text/javascript\">window.PlotlyConfig = {MathJaxConfig: 'local'};</script>\n",
              "        <script src=\"https://cdn.plot.ly/plotly-2.18.2.min.js\"></script>                <div id=\"79be2967-507e-4f7d-b8d7-383dfeefffb7\" class=\"plotly-graph-div\" style=\"height:400px; width:800px;\"></div>            <script type=\"text/javascript\">                                    window.PLOTLYENV=window.PLOTLYENV || {};                                    if (document.getElementById(\"79be2967-507e-4f7d-b8d7-383dfeefffb7\")) {                    Plotly.newPlot(                        \"79be2967-507e-4f7d-b8d7-383dfeefffb7\",                        [{\"alignmentgroup\":\"True\",\"bingroup\":\"x\",\"hovertemplate\":\"tm=%{x}<br>count=%{y}<extra></extra>\",\"legendgroup\":\"\",\"marker\":{\"color\":\"#636efa\",\"pattern\":{\"shape\":\"\"}},\"name\":\"\",\"offsetgroup\":\"\",\"orientation\":\"v\",\"showlegend\":false,\"x\":[75.7,50.5,40.5,47.2,49.5,48.4,45.7,55.9,48.1,49.7,45.1,60.6,62.8,62.0,36.3,44.7,83.0,43.3,45.7,44.3,42.5,51.7,37.9,65.1,44.5,50.6,65.4,37.9,45.2,42.7,52.8,40.8,46.3,61.5,75.0,46.7,41.2,52.4,46.4,49.5,45.7,49.9,65.9,58.8,41.3,94.2,53.3,60.9,49.8,45.8,39.9,57.0,52.8,47.8,47.9,52.7,52.4,54.5,50.3,54.4,40.2,37.1,46.1,75.5,48.1,64.2,48.3,62.3,44.2,51.4,54.2,36.6,51.2,46.1,64.4,41.0,51.1,40.5,53.1,55.0,46.7,48.8,42.1,53.7,41.1,56.2,40.3,52.6,49.8,49.0,49.7,51.2,51.2,52.0,60.5,42.8,55.4,46.3,50.4,47.6,41.9,80.7,60.3,41.2,36.7,68.4,69.6,37.1,49.0,42.2,53.5,60.6,42.8,51.8,41.8,53.4,50.2,44.9,62.1,50.5,51.5,43.2,54.5,57.3,56.6,43.2,64.2,42.0,47.6,63.1,49.2,63.7,64.9,49.7,39.7,49.8,56.7,53.9,51.5,38.8,62.2,54.3,48.5,60.7,80.7,62.4,52.1,59.0,51.7,52.1,49.6,50.0,45.6,48.0,55.7,52.2,53.6,50.9,52.0,45.3,43.1,57.5,49.1,94.4,45.0,53.0,38.3,54.3,41.0,46.1,56.6,83.9,51.7,81.4,54.0,67.5,48.0,43.6,67.5,74.1,47.6,42.6,49.3,47.7,60.9,49.1,53.5,77.5,45.0,56.7,61.3,38.5,60.5,40.2,48.5,80.1,43.5,53.0,42.4,44.6,34.4,40.4,53.2,47.2,38.6,78.9,49.6,62.9,47.4,55.4,46.2,46.4,42.6,55.9,66.5,47.1,42.7,45.3,53.9,89.3,67.8,49.0,42.5,51.3,52.7,54.6,55.5,50.0,50.8,40.3,75.6,45.8,55.6,52.6,37.0,38.4,55.2,38.6,64.3,54.8,40.9,50.4,49.8,44.5,49.3,49.6,40.6,45.5,50.2,39.5,59.2,46.4,58.0,44.0,41.5,45.4,62.7,49.4,43.1,42.6,45.6,39.7,45.0,58.2,46.8,57.0,42.4,41.1,51.5,49.0,52.2,45.3,51.9,57.1,49.1,43.5,32.9,50.0,56.8,58.2,65.8,42.6,45.8,40.3,45.8,53.6,54.1,50.0,56.4,65.9,50.9,47.6,53.3,58.1,50.4,49.4,54.2,45.1,33.9,62.3,51.4,50.7,48.6,57.6,41.5,50.0,43.6,81.4,40.1,90.3,48.8,45.7,47.6,47.3,50.5,46.3,87.9,49.7,90.6,51.9,54.4,40.2,81.6,63.5,56.0,37.6,47.9,48.6,50.7,37.8,50.2,64.0,62.6,41.7,39.1,55.1,39.1,43.9,56.1,54.5,44.2,44.7,39.3,41.0,34.2,43.3,44.0,51.1,39.7,50.5,49.1,40.9,51.8,60.5,41.5,79.1,50.9,36.5,51.4,39.9,52.4,47.7,47.3,52.8,57.7,52.8,47.8,60.5,41.6,52.4,47.1,39.3,42.2,38.7,39.8,49.6,51.7,60.1,53.2,51.3,51.9,49.0,44.2,54.3,50.2,68.8,52.2,53.7,86.2,47.8,50.8,50.5,53.8,49.8,45.2,51.3,58.3,51.9,73.0,47.0,81.4,47.5,77.7,37.1,60.5,55.1,50.9,54.5,47.9,56.5,48.9,44.0,66.5,66.5,50.8,39.8,51.8,60.4,51.2,48.9,47.4,49.0,41.2,49.0,45.8,45.2,46.3,39.5,41.9,38.7,49.6,44.7,48.7,47.0,71.8,55.1,62.0,45.7,54.7,43.7,51.5,68.7,56.9,67.2,42.0,47.8,55.5,41.5,45.0,52.0,39.8,45.3,50.7,49.4,45.2,48.6,62.4,37.0,41.3,64.0,61.6,44.2,44.6,62.5,50.5,48.6,52.9,47.2,49.9,39.3,84.0,50.2,72.3,42.5,46.3,61.6,35.6,37.7,50.1,57.2,54.8,52.4,50.8,63.5,43.9,54.8,47.6,50.1,43.2,43.1,50.8,34.8,48.3,43.8,63.4,49.3,53.8,47.3,48.8,52.7,56.4,61.7,44.8,47.2,49.4,51.1,51.3,55.1,45.3,40.4,45.9,72.6,42.4,46.6,42.9,53.8,39.0,43.3,52.4,36.9,52.8,53.0,48.4,55.6,51.5,61.9,50.7,49.8,53.9,38.9,39.2,48.9,57.2,37.5,60.8,46.5,36.0,38.4,47.9,49.5,43.1,46.7,64.7,68.6,49.2,43.5,47.8,43.4,54.7,50.8,43.0,60.9,50.2,53.9,44.1,44.6,40.4,62.6,55.0,50.4,37.8,52.4,51.0,42.9,57.2,52.2,57.1,81.4,57.3,85.4,56.0,67.0,95.5,60.3,43.1,40.3,46.5,51.3,44.6,48.5,39.3,46.5,45.9,46.0,47.7,50.0,57.9,46.6,45.5,55.0,41.7,44.6,86.1,77.8,55.4,46.4,54.4,53.3,45.5,54.0,73.2,88.5,36.3,54.7,51.8,47.9,45.8,48.8,51.3,49.0,43.1,57.7,64.3,36.9,44.5,41.9,55.2,50.4,45.0,50.1,49.8,50.1,48.5,60.7,49.9,46.7,45.1,82.2,54.4,44.7,40.1,47.4,49.7,47.8,38.8,50.2,48.9,53.8,62.4,46.3,45.6,62.9,52.7,42.5,45.1,50.1,53.8,50.0,40.3,42.3,51.1,39.2,45.8,39.9,91.7,57.4,47.7,48.9,51.2,51.7,44.2,95.1,44.3,38.9,40.4,82.2,54.9,73.0,73.7,73.2,47.5,50.5,50.8,51.3,47.6,52.6,39.7,45.4,45.6,45.5,45.1,58.8,47.4,53.0,52.9,65.5,49.8,45.4,43.4,43.9,44.4,45.0,60.2,39.6,79.6,61.5,51.0,57.7,43.4,62.3,40.0,53.8,46.2,44.4,50.7,39.2,43.2,38.2,40.9,47.3,39.9,46.1,62.2,48.6,51.3,61.0,59.8,50.4,44.9,55.8,51.7,55.0,50.6,41.8,41.0,39.1,47.0,54.8,46.8,45.5,43.8,50.6,52.3,63.3,45.4,52.0,85.2,63.1,43.2,49.2,54.9,44.7,45.5,50.1,53.0,51.9,40.5,57.0,47.7,45.8,45.8,49.3,55.3,44.5,42.3,48.9,46.3,46.9,52.8,96.1,51.5,50.2,47.7,41.8,52.1,39.6,44.7,51.2,64.2,62.7,45.0,46.9,55.1,53.5,40.3,39.1,53.4,60.0,64.3,50.8,45.9,48.9,44.1,66.9,52.2,60.5,42.0,78.7,42.4,46.9,64.4,38.8,40.3,52.4,50.1,53.4,37.8,48.9,48.8,39.4,59.0,76.5,38.3,54.3,53.4,64.5,58.6,46.6,39.5,55.5,49.5,38.3,44.7,50.8,44.3,48.9,51.2,45.5,39.0,50.9,55.2,53.5,53.7,38.7,42.1,48.1,65.3,54.5,49.6,44.1,40.5,87.9,37.5,37.5,42.4,54.6,72.4,47.4,36.5,46.5,51.3,42.2,45.9,52.2,46.8,52.0,55.0,58.9,48.8,50.3,50.0,54.7,41.1,41.8,55.2,38.6,51.3,39.4,46.9,45.6,52.9,51.0,35.2,33.5,62.8,38.7,51.1,51.1,44.5,35.1,46.3,53.0,56.3,51.3,64.8,56.1,46.0,41.1,44.6,39.9,41.4,53.2,52.4,48.4,74.7,57.4,45.4,55.1,42.5,43.7,43.6,43.7,86.8,48.9,48.3,39.6,48.1,88.9,53.7,40.3,47.8,51.1,53.5,49.8,41.7,70.0,40.1,40.2,57.7,40.9,61.8,49.0,50.2,42.5,59.1,42.6,55.7,46.4,57.7,55.4,59.9,46.5,71.4,50.7,46.6,45.7,46.8,53.3,70.2,38.2,43.8,44.5,41.5,40.7,47.3,43.9,52.4,60.0,47.8,49.8,64.5,48.8,63.5,96.5,39.0,41.5,41.2,45.2,48.0,49.0,55.0,51.9,72.1,56.2,39.0,31.8,52.6,43.8,48.0,52.3,56.9,51.9,52.5,49.0,48.4,48.0,40.8,48.0,43.2,48.4,46.8,48.0,33.4,48.0,51.9,52.3,49.0,45.6,51.1,50.4,38.6,49.1,47.4,57.0,40.8,45.7,42.3,48.6,47.5,52.3,55.5,49.0,49.1,51.9,42.7,48.0,47.0,52.6,47.4,38.5,49.1,57.8,51.8,53.4,52.6,52.6,57.4,55.4,52.6,52.6,56.6,53.4,46.3,49.1,35.1,47.4,56.8,52.6,52.6,55.4,57.4,52.6,44.2,43.5,47.2,52.1,48.0,56.0,48.0,47.6,48.0,48.3,48.4,42.8,48.0,42.1,48.0,51.9,49.0,52.3,43.1,47.7,43.2,46.5,42.2,50.5,49.0,48.0,40.4,48.4,48.0,47.2,48.0,43.7,49.4,48.0,48.4,48.0,51.4,49.4,40.4,71.9,36.9,52.7,47.9,45.9,46.2,41.6,47.5,69.0,49.4,95.7,54.3,52.2,51.3,75.1,50.4,52.6,39.8,58.4,39.7,40.0,67.0,64.7,50.2,51.3,45.1,47.6,43.1,46.3,54.3,57.3,49.6,44.0,43.7,53.1,50.5,54.9,50.8,56.2,44.2,44.0,52.7,64.2,39.6,40.6,53.1,49.4,42.6,80.0,57.4,64.8,54.3,41.3,43.5,43.1,58.6,60.9,60.8,45.5,38.5,42.5,48.2,44.6,57.2,51.4,39.7,44.0,45.8,48.8,42.9,43.8,66.9,48.9,48.8,48.5,54.3,43.1,57.4,44.7,33.7,51.3,61.1,49.9,53.1,58.0,67.0,56.9,43.8,49.4,83.2,57.7,52.6,54.1,64.9,51.6,52.8,52.0,53.6,42.2,53.7,50.0,39.2,50.8,50.7,40.2,49.6,94.3,42.4,39.9,49.3,43.4,42.6,49.3,51.5,47.8,51.3,54.1,52.9,48.8,49.5,43.8,45.6,46.9,39.6,40.1,46.2,36.2,52.5,47.4,43.6,61.8,42.8,37.4,41.6,70.9,57.4,51.7,43.7,65.5,48.6,57.8,49.9,54.1,51.2,47.2,49.8,51.2,46.2,49.9,55.8,54.8,43.0,50.9,44.2,48.9,46.6,45.3,43.9,44.4,39.5,52.2,49.2,39.3,51.1,49.0,42.4,39.9,41.1,36.8,49.7,48.6,52.0,52.4,41.8,50.6,58.2,49.1,48.6,47.8,48.0,36.7,43.0,43.7,70.4,51.0,79.2,59.3,68.5,43.2,32.0,42.9,40.6,44.8,47.2,49.2,59.4,47.0,48.2,66.3,48.8,43.1,44.7,53.5,70.1,42.9,54.5,45.1,50.9,47.2,53.7,58.9,75.1,89.3,48.2,58.7,52.7,55.0,57.2,41.8,54.6,42.6,47.2,88.2,43.0,41.8,56.7,56.6,41.7,46.4,48.3,54.6,53.3,47.0,60.7,51.7,56.6,55.7,60.9,57.2,56.2,47.9,49.2,46.0,35.8,54.8,47.9,47.0,36.6,82.6,44.8,51.2,46.8,52.3,60.3,64.9,85.3,43.5,62.4,68.8,40.5,49.7,50.4,40.8,40.0,41.8,42.1,44.3,47.8,53.1,44.4,53.6,58.2,45.5,51.6,48.4,49.4,47.3,44.2,47.6,50.2,56.2,51.3,44.4,50.3,40.6,36.2,60.5,52.6,50.7,49.3,52.2,50.0,45.5,50.8,43.3,45.0,49.2,35.8,41.8,44.7,81.5,43.4,60.5,83.6,48.4,62.7,64.4,71.2,45.1,46.6,46.0,61.0,49.9,41.1,51.8,52.4,47.2,43.2,58.5,41.1,42.7,56.0,44.6,56.9,49.9,55.9,62.3,74.5,45.4,42.0,41.1,54.3,42.2,48.0,44.7,53.3,50.5,64.7,55.1,40.9,73.1,51.4,87.5,57.5,47.9,41.9,46.2,38.7,50.2,35.8,50.0,72.9,40.2,48.3,45.2,53.3,49.4,40.2,50.5,68.3,40.3,48.7,59.5,67.2,52.3,64.4,45.0,51.5,83.8,63.7,49.2,52.8,54.0,39.4,51.4,41.9,55.0,71.9,50.1,51.1,50.1,52.8,49.6,41.5,40.2,46.8,48.1,41.1,42.0,47.5,41.3,48.0,71.4,53.3,49.1,41.1,53.5,47.7,50.0,50.2,49.2,44.1,41.6,89.4,44.0,46.0,47.0,40.2,43.7,46.8,71.5,42.6,97.1,57.6,50.2,41.0,39.5,54.7,54.5,51.6,46.2,68.3,46.3,55.9,53.1,57.3,54.8,49.2,42.3,60.9,50.0,49.2,62.4,58.2,56.8,55.3,72.3,40.7,57.3,47.7,50.4,42.7,51.2,55.1,54.3,53.8,57.5,52.8,51.8,40.4,43.9,56.6,37.9,41.3,53.1,46.3,56.2,51.0,45.5,42.1,49.9,46.2,52.1,49.1,48.6,57.3,36.3,52.3,79.2,51.3,54.7,59.0,53.8,40.8,50.4,50.1,48.0,53.9,51.4,46.2,43.3,42.1,57.1,53.6,51.6,88.4,53.9,41.8,54.2,47.6,39.8,69.6,44.7,43.0,49.4,48.6,38.4,87.0,45.4,40.4,35.5,42.9,53.8,40.3,39.9,36.2,38.7,46.8,44.0,46.8,33.8,45.5,42.8,50.1,79.3,49.6,49.9,41.3,45.0,50.3,47.7,44.5,45.0,54.8,79.5,54.0,45.8,46.7,52.8,48.8,42.7,56.7,59.4,55.3,47.8,46.4,40.4,44.1,40.5,36.0,55.5,88.9,62.4,54.8,50.6,38.2,34.6,52.1,41.0,50.1,49.5,53.1,54.0,39.5,84.0,47.2,45.7,47.2,45.6,40.7,50.3,40.2,46.7,44.9,52.3,48.4,61.8,85.2,51.4,50.5,69.4,60.3,39.4,54.2,50.8,49.3,66.3,35.8,50.0,53.0,41.1,43.2,87.7,53.2,61.1,54.4,56.9,49.7,76.7,49.3,53.2,86.6,50.2,46.6,82.4,72.9,53.1,60.9,49.9,49.8,49.1,46.7,59.6,57.3,39.5,54.7,48.3,55.2,47.4,52.8,35.7,43.0,50.9,36.5,60.9,79.9,81.2,44.1,50.8,49.9,48.7,53.9,61.4,41.1,48.0,52.7,55.1,51.6,45.3,40.8,46.8,44.5,53.1,47.1,41.4,60.5,59.6,43.0,49.4,43.9,44.4,45.2,47.7,41.8,49.9,43.2,49.8,41.1,87.6,57.9,88.5,52.0,63.6,56.6,42.2,45.9,52.5,93.9,89.6,52.5,86.3,64.7,51.0,44.3,54.0,39.7,47.0,48.9,52.0,45.0,39.5,49.1,87.2,51.6,55.7,49.3,45.7,53.7,38.4,46.8,49.9,46.3,55.8,58.4,49.5,52.5,47.3,47.0,53.8,53.5,57.1,57.6,50.3,45.0,36.8,51.2,49.6,55.8,47.3,51.0,48.8,49.4,51.0,46.8,54.2,48.8,53.0,89.9,50.3,44.2,52.4,46.2,31.9,52.4,41.7,54.6,42.4,53.3,49.1,48.2,54.9,45.5,46.9,50.5,53.7,78.5,46.0,50.2,50.9,51.3,57.8,49.1,52.3,61.0,51.1,54.3,42.7,46.4,54.7,43.7,62.9,53.3,57.3,44.0,50.5,47.4,41.2,51.6,45.1,42.8,51.8,95.2,49.7,54.4,55.3,45.0,53.2,37.3,52.8,50.7,54.8,51.0,40.1,40.8,47.0,47.9,51.3,75.5,52.6,39.9,45.3,42.3,54.5,47.8,47.0,53.4,44.9,55.9,35.2,48.2,70.4,50.0,46.7,58.6,45.0,54.3,50.3,48.7,42.0,62.7,44.3,51.3,43.8,49.4,53.4,59.7,49.6,51.0,59.4,43.7,62.3,36.7,61.0,39.4,55.9,48.6,53.4,52.0,41.5,48.9,92.8,50.6,66.9,39.6,58.8,50.9,47.9,49.9,51.1,52.1,46.0,54.2,47.4,70.9,86.8,47.0,49.5,43.5,39.8,48.7,47.3,48.2,51.8,49.7,57.8,53.0,89.2,47.1,48.0,49.3,51.4,55.2,47.9,57.7,39.1,61.8,37.7,41.6,46.2,59.1,36.5,45.0,44.0,64.8,52.5,42.2,60.2,47.4,40.3,41.9,46.6,88.0,43.1,51.1,41.5,46.9,39.8,47.8,40.4,47.3,47.9,46.5,35.0,51.1,54.9,45.0,45.8,47.9,43.4,43.7,51.6,47.8,45.6,34.8,47.4,65.4,42.3,55.1,48.8,48.3,45.4,41.8,46.6,46.1,56.8,39.7,53.2,49.8,45.9,61.6,42.8,37.7,69.3,48.6,42.6,40.3,51.7,57.9,45.5,48.8,50.6,47.2,51.6,38.9,42.8,68.0,53.3,43.3,40.3,40.0,50.9,40.3,50.9,44.2,40.8,51.0,39.6,35.9,51.8,52.9,43.1,56.8,45.6,43.7,47.8,54.9,50.3,41.1,80.8,45.9,48.9,41.5,43.2,46.4,46.1,66.8,49.5,48.2,55.2,43.0,47.9,42.5,46.3,44.9,41.7,64.5,45.8,50.4,35.1,53.6,40.4,39.9,49.4,59.2,32.4,50.0,41.2,44.1,44.1,53.0,56.9,45.8,45.1,49.3,42.1,52.2,47.5,86.7,52.4,40.9,73.5,53.6,37.8,48.0,42.7,47.0,71.4,49.1,42.6,49.0,41.4,59.0,53.4,42.7,51.5,51.4,49.7,40.3,52.7,37.8,46.5,33.5,44.3,46.5,39.9,51.1,51.8,68.3,63.6,42.0,66.5,41.9,50.6,39.9,42.1,41.8,83.6,59.3,44.0,43.3,59.7,54.3,68.7,50.3,57.9,79.0,44.0,45.3,51.8,44.6,51.0,45.4,52.0,89.7,46.8,48.8,56.9,53.6,49.1,53.0,54.0,64.5,39.0,46.8,37.9,51.4,57.9,46.6,47.5,42.2,66.2,43.3,50.1,74.2,51.8,48.7,39.4,42.2,47.9,64.3,41.9,63.1,48.2,55.4,45.4,43.6,68.3,39.4,62.8,41.7,41.0,43.3,60.2,47.5,38.1,44.3,40.6,49.6,36.7,76.3,80.0,37.1,50.5,50.0,36.8,53.1,49.4,62.2,38.7,43.5,49.4,41.7,90.4,43.4,39.2,69.4,72.7,49.8,47.6,47.5,49.2,31.2,39.0,44.3,48.7,62.3,50.6,83.6,34.1,82.8,41.8,84.3,39.4,26.2,84.5,64.5,49.2,46.2,45.9,41.2,79.2,49.1,45.9,40.2,54.6,46.2,44.8,66.9,41.4,38.4,45.2,48.9,47.6,35.7,79.5,47.2,75.7,76.8,34.6,38.9,44.6,63.5,55.4,53.6,57.4,52.9,43.7,40.1,64.6,50.4,41.1,39.5,50.7,47.8,46.5,51.0,74.0,48.4,51.0,36.7,54.0,82.8,42.9,46.5,36.7,51.1,52.5,40.4,51.3,45.5,53.6,40.7,60.9,45.6,43.6,40.2,74.6,59.5,49.9,45.8,38.7,41.9,48.9,46.9,39.2,45.5,60.0,61.1,69.2,39.4,48.8,58.2,52.8,46.8,66.8,48.7,70.9,49.2,41.7,49.2,51.1,53.8,47.6,57.4,43.3,45.4,52.3,50.6,67.9,39.0,36.3,39.7,47.3,48.5,55.7,35.5,57.5,43.1,37.4,49.4,51.5,53.5,71.8,48.8,55.9,48.4,41.6,41.3,61.8,42.8,40.1,41.3,46.8,49.2,48.7,35.9,61.4,51.1,49.9,37.7,44.2,50.8,64.4,39.0,37.4,39.8,35.4,37.8,66.8,61.2,87.0,50.3,49.3,41.0,53.0,81.7,42.0,43.5,49.1,42.2,52.6,40.8,38.2,51.4,42.9,57.6,52.3,36.1,40.9,47.9,52.6,35.0,54.3,32.5,53.8,41.9,36.6,47.4,48.6,57.0,53.5,40.9,44.1,50.5,44.6,51.4,49.9,54.6,47.8,49.7,50.9,47.1,49.3,41.3,53.3,48.7,56.1,43.2,78.9,47.4,46.8,54.6,44.5,52.2,41.4,58.8,43.9,51.2,41.2,38.6,40.1,62.8,53.7,58.6,46.1,49.9,49.4,75.3,52.9,48.7,48.1,49.0,67.1,54.6,38.9,66.2,35.8,45.8,45.1,41.0,45.4,46.2,39.8,60.8,47.3,82.3,50.4,91.6,40.9,48.7,46.6,55.7,57.1,51.0,66.8,61.4,55.0,51.7,49.2,51.0,42.2,49.0,85.9,40.6,52.8,38.7,41.4,51.2,47.3,51.9,65.2,42.9,47.8,48.6,40.6,50.8,52.8,61.9,54.7,50.3,41.9,51.4,36.1,41.1,54.7,51.9,51.0,49.4,44.7,43.6,65.2,44.6,63.1,44.1,56.5,49.2,36.1,47.5,54.6,57.4,52.7,44.9,38.4,45.3,57.6,50.7,66.6,47.2,60.3,87.3,40.0,45.7,54.4,54.2,41.6,45.5,47.8,52.3,43.0,43.7,45.4,54.7,54.8,51.4,47.0,46.4,49.3,49.7,41.1,39.5,50.4,45.7,44.5,36.5,75.8,48.3,51.1,56.4,58.0,37.4,53.6,43.1,47.0,58.4,56.7,50.5,39.4,45.7,43.5,33.0,47.5,42.5,41.3,50.3,40.5,44.4,42.5,47.9,43.9,83.0,50.6,52.3,51.9,38.6,93.1,55.4,42.6,42.0,44.8,84.0,46.4,49.4,48.0,53.9,50.2,84.6,60.4,39.6,48.7,49.3,44.0,66.7,65.3,47.9,42.1,59.3,74.2,46.9,39.3,49.4,40.4,41.1,49.5,41.0,43.3,40.7,48.7,61.1,50.4,46.0,43.9,41.6,54.7,54.8,51.5,41.4,89.3,39.6,49.8,57.4,65.9,57.9,51.6,71.9,52.5,88.3,39.3,49.2,52.8,47.2,38.3,60.6,44.1,88.2,39.6,82.9,41.8,44.3,49.3,45.6,85.1,48.5,43.7,60.5,59.0,56.1,49.7,49.5,43.3,41.4,89.4,46.8,56.1,51.6,46.0,85.4,37.6,45.1,36.5,54.6,40.3,52.1,84.9,48.6,45.0,49.8,54.8,53.1,55.2,59.7,41.7,58.7,39.4,46.3,63.1,57.5,57.0,50.3,55.1,50.8,48.6,54.7,44.9,53.3,63.6,55.8,50.8,52.0,52.7,48.2,54.8,43.7,52.0,55.2,48.0,57.8,58.9,48.0,63.7,89.0,48.2,52.2,44.7,53.8,42.7,49.7,48.5,51.9,49.6,48.1,42.3,53.7,51.9,41.5,51.0,50.2,52.9,52.6,53.9,55.8,49.8,36.0,53.7,39.9,49.1,86.4,74.8,51.6,48.8,45.4,51.9,45.8,55.2,47.2,45.1,52.6,55.2,46.6,46.3,56.2,42.0,39.3,49.2,68.7,44.5,50.8,45.7,45.7,91.4,55.5,44.3,45.4,58.2,91.1,46.0,41.8,86.8,48.9,39.9,50.9,42.5,50.6,45.1,85.1,47.5,42.0,43.8,44.2,39.0,48.9,51.9,46.6,45.6,46.1,44.0,45.6,89.7,49.5,50.9,45.1,46.1,39.3,48.6,51.7,59.7,45.1,47.1,47.8,52.2,51.4,53.0,67.5,50.1,50.5,58.3,45.7,48.1,47.9,43.5,46.6,52.8,51.8,48.6,53.0,57.1,51.4,45.5,62.6,31.2,39.2,56.8,46.0,46.5,45.1,53.2,54.3,46.9,50.3,53.4,38.7,46.0,47.3,43.1,52.7,42.6,39.0,49.5,54.4,49.9,54.6,49.8,49.2,48.3,51.0,49.3,48.5,51.5,49.4,51.0,45.8,49.7,37.6,41.4,53.6,51.1,50.1,52.5,53.1,48.9,49.0,49.9,50.8,49.2,54.6,47.9,49.6,54.2,49.4,46.9,46.0,46.7,47.1,58.7,50.3,56.4,46.0,65.4,45.7,48.9,49.8,47.8,48.7,47.0,50.2,52.1,56.0,49.4,54.3,48.4,53.5,46.1,51.6,53.8,44.0,51.8,55.5,47.0,47.7,46.9,57.4,53.3,50.8,51.4,47.5,44.5,57.6,57.4,50.9,38.8,53.3,50.8,49.5,48.6,52.5,46.4,53.3,56.4,37.1,53.1,50.9,45.1,38.0,49.0,60.5,51.7,56.7,55.3,50.4,39.7,52.8,48.7,45.8,51.4,44.4,46.5,44.5,52.0,49.5,52.9,52.4,41.9,49.2,47.3,52.5,48.2,48.6,54.3,40.6,38.5,43.3,44.4,45.1,55.0,52.7,48.5,49.6,50.5,52.0,50.9,52.8,50.3,52.4,53.1,47.2,43.5,42.8,51.1,53.0,38.2,43.9,50.8,49.5,51.0,47.2,54.9,76.7,46.3,54.5,51.3,54.1,40.9,53.1,53.1,44.9,48.5,43.9,52.8,47.2,47.3,45.6,44.9,47.8,47.8,45.6,49.4,53.0,45.8,60.0,40.7,57.6,51.4,48.0,42.1,41.4,43.5,37.2,44.1,37.7,48.9,37.8,47.9,51.3,49.8,42.8,47.2,44.1,40.2,64.0,47.2,43.9,59.4,46.3,52.9,54.8,50.4,50.0,51.2,54.5,41.9,46.6,47.7,41.5,62.6,50.0,44.2,52.6,50.9,49.4,49.7,54.4,42.5,48.8,49.0,58.8,45.9,51.0,56.3,56.0,53.7,48.8,57.3,44.0,54.6,48.0,42.7,54.3,48.8,47.1,52.2,48.3,51.3,59.8,48.1,53.2,56.1,52.0,36.8,55.8,50.2,48.5,46.5,46.2,39.9,43.9,42.7,42.7,52.5,43.0,50.0,46.9,35.4,45.7,40.9,38.4,57.4,51.3,43.8,48.0,56.9,44.9,57.5,72.4,47.6,40.1,51.8,39.4,47.9,45.2,49.3,55.0,41.4,41.9,50.6,53.2,42.8,44.9,49.0,54.9,47.6,53.8,53.8,49.2,50.0,55.3,38.1,48.6,48.8,48.7,52.8,48.7,48.6,51.3,37.3,46.9,52.2,53.0,51.5,37.1,52.3,44.2,49.6,48.4,52.9,53.0,35.1,42.8,47.4,53.0,53.4,46.9,39.3,48.2,46.7,46.5,53.9,91.4,55.6,59.3,54.7,51.4,39.6,44.8,46.0,44.5,44.8,47.8,48.3,50.2,49.0,50.3,52.4,51.0,50.4,45.0,48.5,50.7,50.6,47.7,40.0,51.1,44.3,45.4,51.5,55.4,46.2,45.1,48.6,53.8,47.3,57.8,48.1,50.4,46.8,47.1,44.9,44.6,48.6,57.7,45.1,48.6,42.1,54.3,52.4,43.0,53.7,50.4,45.4,45.3,49.2,46.3,47.0,48.8,49.1,51.6,40.1,51.0,50.7,51.2,54.1,50.5,53.2,47.2,52.9,49.9,53.2,49.2,47.5,52.0,53.7,52.2,49.8,53.7,46.2,43.2,36.1,49.2,46.1,51.0,49.3,50.7,50.8,47.1,51.6,54.1,45.5,47.4,41.6,48.5,46.8,47.0,50.9,49.1,47.5,50.7,57.6,49.3,52.0,97.2,49.4,49.6,37.6,46.1,46.6,48.4,53.0,48.7,52.5,40.1,47.1,51.6,37.0,51.5,50.7,50.6,51.7,51.2,55.8,53.4,48.7,37.3,46.5,49.3,48.8,45.4,46.6,47.4,48.8,47.6,41.2,50.3,56.9,52.3,53.6,48.0,56.9,49.3,47.0,47.7,52.1,57.1,42.2,38.3,48.2,57.9,51.9,49.5,39.8,49.2,53.2,53.1,40.2,50.6,50.2,48.2,48.9,50.2,78.8,45.7,57.1,50.0,50.0,59.9,52.7,50.5,43.6,54.7,47.7,72.5,47.6,61.2,43.5,49.6,55.6,50.1,52.0,48.4,45.2,50.9,47.4,46.4,38.9,52.3,52.9,48.3,49.8,52.1,53.1,52.3,49.9,53.6,40.0,49.4,45.4,54.0,52.9,42.0,42.4,51.0,52.4,50.0,51.5,53.6,48.8,48.7,44.6,35.5,45.8,50.6,53.9,39.3,51.9,42.7,55.0,41.2,41.7,46.6,36.6,45.2,53.2,49.4,50.6,44.6,48.8,45.1,54.5,48.5,47.1,46.2,45.2,50.0,43.2,53.1,57.8,50.9,51.0,54.5,45.2,35.7,53.5,60.6,44.3,48.7,47.9,53.3,50.8,54.7,55.3,45.9,56.0,45.8,46.0,49.3,53.3,57.8,36.7,47.9,36.4,48.2,40.7,40.3,45.8,50.8,45.3,47.3,50.6,34.9,47.4,56.0,47.1,52.0,45.4,44.4,45.9,45.5,52.9,52.6,44.2,46.3,46.7,55.3,46.6,43.7,50.3,48.9,55.0,44.8,53.1,52.3,47.7,57.2,45.1,44.2,55.1,48.0,50.8,47.0,54.2,48.1,53.0,47.5,49.5,50.4,49.8,49.0,49.2,50.5,42.3,50.4,40.3,52.4,44.9,52.1,49.1,53.7,52.2,53.3,45.5,60.4,46.8,53.4,60.9,47.9,52.4,46.1,48.7,48.3,45.7,41.0,56.3,38.7,48.1,48.4,52.2,43.0,47.4,41.9,53.4,48.9,43.0,39.3,57.5,43.5,57.0,51.8,52.8,52.7,82.6,41.2,36.9,51.0,53.8,40.8,47.0,49.1,49.8,53.0,50.9,46.9,49.4,43.7,54.7,47.6,47.3,44.8,40.9,47.0,41.2,41.6,39.9,50.7,52.5,42.3,47.5,41.6,47.5,50.3,41.3,43.2,52.4,53.4,52.4,37.6,38.3,45.6,50.4,44.2,44.4,36.3,47.3,56.6,41.2,41.4,42.6,51.1,48.1,50.3,42.2,49.4,46.5,54.7,37.8,45.8,46.2,48.9,52.5,58.1,46.2,53.8,44.0,44.7,56.2,47.9,43.0,59.4,40.0,52.1,37.8,40.0,49.3,47.4,47.7,56.0,53.1,49.0,35.0,52.6,59.6,39.2,51.8,54.0,47.6,58.8,57.3,58.4,56.5,57.1,56.0,48.9,50.9,40.0,51.5,54.2,33.9,52.8,45.3,51.4,52.9,32.5,36.0,57.7,50.5,54.2,47.2,44.3,42.9,34.4,50.8,40.0,53.3,65.0,56.9,50.1,53.1,52.9,58.0,50.3,56.7,58.8,58.2,49.6,40.9,42.5,62.0,48.8,44.0,48.1,55.1,48.3,48.4,43.9,53.3,60.8,43.0,40.4,45.1,46.6,53.1,41.4,43.9,85.0,42.6,50.4,50.1,41.4,44.4,48.6,54.6,48.2,55.3,58.3,54.0,50.8,48.2,49.5,39.1,43.6,60.6,46.4,34.5,40.5,50.7,52.6,53.0,48.2,51.7,41.3,43.0,46.1,43.2,38.9,52.3,52.0,37.9,56.6,52.5,44.3,49.1,51.4,52.6,49.4,49.4,39.9,51.3,49.0,47.5,80.8,49.8,49.5,47.3,43.4,58.9,45.5,62.3,51.7,50.9,45.9,35.6,36.9,50.5,37.5,53.0,44.1,52.0,44.7,49.8,47.6,51.6,48.5,65.1,44.4,47.4,35.9,48.8,41.3,87.8,39.7,50.8,48.8,51.9,39.9,49.1,47.3,54.8,67.1,47.7,50.8,53.9,49.0,45.6,49.1,44.8,46.2,54.9,54.1,53.2,91.5,37.2,42.4,51.4,44.5,42.9,40.3,49.7,53.8,78.3,42.4,43.7,58.0,45.8,39.0,48.7,46.2,45.9,49.3,44.9,46.1,57.1,52.0,33.5,40.6,44.3,53.9,40.0,52.6,37.1,57.1,51.7,43.3,56.6,40.6,54.2,47.3,44.5,45.4,47.0,39.7,37.3,46.0,54.0,48.7,42.5,50.7,47.2,49.7,34.9,57.3,64.5,53.2,51.5,50.8,50.2,53.9,44.3,51.9,33.9,37.1,49.2,38.9,76.8,50.6,50.8,42.2,53.5,39.1,45.0,49.9,44.4,44.8,61.1,48.3,49.4,45.1,50.7,43.6,58.5,46.9,47.5,48.1,52.6,53.7,57.6,45.0,39.1,45.7,37.6,59.2,62.7,55.9,49.8,47.8,44.8,48.4,42.0,49.3,42.6,45.1,36.1,43.7,40.9,45.1,42.3,52.5,48.3,48.1,56.9,55.8,46.7,37.7,34.4,50.6,33.4,43.7,55.1,51.5,49.0,42.1,51.7,47.7,57.4,55.1,40.7,66.6,51.4,64.0,49.6,58.2,49.1,49.8,47.2,45.8,44.5,50.3,46.2,46.9,47.7,45.5,53.8,54.1,47.0,55.4,56.8,47.8,48.4,51.7,50.1,45.5,53.4,43.7,54.2,41.6,60.0,46.9,48.0,46.3,46.4,52.4,48.1,43.7,52.3,79.1,48.5,50.3,52.4,49.6,50.1,49.8,51.7,45.0,51.3,46.1,49.3,53.8,47.5,46.8,50.9,41.5,52.5,45.6,45.3,40.8,38.8,44.6,44.1,48.3,48.8,52.6,44.6,45.1,47.5,34.9,48.4,49.1,46.2,44.1,47.5,41.8,78.4,45.9,41.2,39.5,47.6,44.3,52.4,47.6,72.2,56.4,63.2,61.3,58.5,62.5,54.9,71.0,59.1,71.0,69.6,49.0,55.1,48.9,50.2,46.6,38.4,52.8,49.4,45.1,45.0,54.8,57.4,49.9,47.5,48.8,42.9,43.9,29.9,34.5,41.3,28.6,47.8,39.5,40.3,34.5,40.0,37.8,42.0,38.5,29.6,34.5,41.4,33.5,42.3,34.5,41.7,33.5,41.2,40.5,29.6,27.4,32.5,40.0,40.0,44.0,33.5,43.4,42.5,34.5,39.1,48.3,47.1,47.2,49.3,61.2,43.8,51.2,47.7,46.7,68.2,44.4,43.4,51.5,48.6,49.0,44.4,70.5,41.6,53.6,46.5,74.9,48.0,42.7,78.3,83.0,88.9,50.6,52.7,50.5,61.8,53.3,37.1,37.8,37.7,72.0,57.2,50.0,51.6,40.3,48.5,44.0,56.5,51.6,43.5,50.1,73.5,51.3,50.2,45.7,49.5,51.9,62.3,56.7,44.2,46.6,45.4,46.0,50.1,48.9,48.5,41.3,47.4,53.7,59.2,54.9,42.3,51.2,43.4,46.5,48.0,49.6,42.0,50.8,49.7,47.5,49.7,42.2,43.4,59.4,51.2,56.1,44.1,49.8,50.7,50.6,47.4,51.3,49.4,51.9,47.8,48.2,53.6,59.5,47.6,49.1,50.3,42.1,51.8,46.4,47.4,51.2,53.8,39.8,46.9,45.6,43.8,47.9,48.8,47.4,46.3,53.8,45.9,42.8,53.4,45.9,52.5,42.6,52.8,46.1,44.3,44.7,37.9,54.5,89.6,48.1,42.3,41.6,43.2,93.1,43.2,49.0,51.3,50.1,52.9,40.7,48.3,55.6,56.5,55.1,40.4,48.8,54.9,47.6,52.6,36.5,42.0,40.5,44.5,50.1,39.4,36.6,45.3,42.0,61.5,47.7,53.5,51.3,49.5,37.0,53.7,51.0,67.8,52.8,50.2,48.9,54.2,53.7,47.4,49.5,46.8,46.9,46.4,47.8,49.1,42.2,51.4,36.0,48.1,47.3,46.9,52.0,52.6,47.6,36.7,42.8,54.0,49.0,45.8,48.5,48.0,54.5,50.4,46.1,46.8,46.4,56.0,46.0,50.2,60.3,54.0,40.0,65.3,45.2,68.3,50.3,43.4,45.1,46.8,45.5,46.9,47.3,42.9,36.2,48.9,91.9,48.6,45.6,96.5,36.3,52.3,52.9,79.5,42.9,49.0,33.6,41.6,47.3,50.2,42.7,49.4,55.9,49.2,37.7,41.6,47.8,41.9,56.3,53.3,45.8,59.3,35.1,52.4,48.7,38.3,45.1,49.4,42.7,52.2,42.7,52.7,50.2,52.5,51.6,41.5,45.0,38.5,51.9,51.9,51.9,51.9,51.9,51.9,51.9,51.9,51.9,51.9,51.9,51.9,51.9,51.9,51.9,51.9,51.9,51.9,51.9,51.9,51.9,51.9,51.9,51.9,51.9,51.9,51.9,51.9,51.9,51.9,51.9,57.9,41.2,68.7,43.8,49.4,44.7,47.8,43.3,53.1,78.2,40.2,46.6,40.5,42.6,80.1,48.0,48.5,43.3,41.7,52.1,40.8,36.3,65.2,44.9,46.9,51.7,69.4,41.7,37.4,42.4,39.1,57.1,53.0,42.7,44.6,48.0,54.2,44.2,50.9,45.3,44.8,50.7,39.7,64.2,41.8,39.0,51.5,41.3,45.0,50.9,52.2,42.4,77.3,40.5,64.3,44.8,37.6,40.6,44.1,48.5,51.2,48.9,42.1,51.5,47.7,46.6,56.2,51.8,44.5,50.3,55.1,49.1,47.6,50.3,48.2,54.9,49.4,50.6,49.9,49.3,49.6,52.9,52.1,52.8,55.4,53.0,51.2,37.7,46.7,36.7,45.5,39.3,45.2,42.4,55.1,53.5,49.7,47.9,46.1,48.7,56.3,49.6,53.0,52.0,54.0,49.1,40.8,54.0,51.6,50.7,53.3,50.1,52.9,54.7,40.4,43.2,53.4,49.8,46.8,50.5,33.1,55.1,45.2,46.8,42.9,39.9,51.5,53.0,45.0,58.4,49.8,45.5,45.4,48.5,57.5,63.5,48.0,95.4,49.7,51.6,54.4,46.8,49.1,42.7,43.0,43.7,44.4,54.4,57.5,56.5,42.7,51.0,58.1,47.4,46.0,56.5,45.7,42.0,44.0,52.4,37.5,84.8,43.3,54.4,53.2,41.2,43.4,43.6,59.8,50.8,37.0,41.9,45.9,53.7,56.2,50.1,47.8,49.3,45.3,58.6,58.7,57.1,43.2,50.7,54.0,34.8,53.0,49.0,47.8,69.2,49.3,55.2,46.9,52.4,49.1,50.3,45.7,47.6,47.5,45.4,47.5,47.9,39.4,52.0,44.3,44.2,43.8,46.4,58.5,50.1,47.1,44.3,51.0,44.1,47.5,38.3,45.3,70.7,67.1,44.1,52.4,55.5,67.3,45.3,41.8,38.5,48.4,45.1,61.8,55.1,47.4,40.2,39.8,38.4,51.5,42.8,47.9,49.6,43.3,55.0,55.5,53.3,38.8,50.0,49.1,62.5,52.6,46.9,49.6,46.6,49.0,91.0,52.6,55.4,49.8,37.4,46.7,46.9,50.9,52.4,48.7,51.1,60.3,51.0,41.7,49.8,42.3,56.0,34.0,43.2,42.6,43.7,57.2,44.7,47.9,51.5,48.2,53.4,38.8,79.0,56.9,50.6,54.2,48.4,46.8,39.9,39.1,38.9,44.2,42.8,54.1,36.1,47.6,43.1,46.2,43.4,42.0,45.6,44.1,42.1,45.0,50.9,47.7,53.2,38.1,49.2,50.1,51.3,44.5,46.9,44.0,89.2,71.5,44.5,54.6,57.6,50.4,39.4,50.0,53.3,86.7,52.0,49.2,72.6,46.7,45.5,45.0,47.6,42.1,53.9,35.6,58.8,41.2,82.6,50.1,56.5,45.3,48.0,51.9,56.8,48.6,50.1,75.6,46.2,54.1,60.9,48.7,73.9,46.6,51.7,47.5,50.1,75.2,38.9,39.7,47.9,42.8,53.3,45.9,58.0,42.0,51.5,38.5,68.0,46.8,83.7,39.6,52.0,74.7,50.7,55.7,41.5,49.7,45.0,62.8,49.6,43.1,48.4,44.5,44.2,46.0,34.9,44.4,37.7,44.0,44.5,46.1,50.6,40.0,46.0,42.2,46.5,50.1,56.8,44.0,35.9,51.0,49.8,40.9,46.5,53.6,50.4,39.2,59.2,82.3,79.5,46.3,74.5,84.2,78.5,47.6,53.6,45.6,51.5,49.7,41.4,53.1,41.8,47.5,43.4,44.7,69.9,57.9,53.9,50.2,55.4,46.2,47.4,51.7,45.1,90.1,56.3,48.5,39.9,49.4,57.1,49.0,37.4,54.7,52.0,71.7,69.1,57.4,64.0,54.4,42.3,46.9,48.2,54.6,82.2,43.0,69.3,52.1,34.9,81.4,43.5,47.6,55.0,42.2,48.5,54.1,54.2,44.3,38.4,76.2,49.9,47.0,47.2,49.5,76.9,76.6,41.0,48.5,45.0,64.7,86.9,41.6,42.8,49.0,69.4,51.3,46.6,44.4,44.1,44.5,40.3,39.3,68.0,58.6,38.4,52.3,46.8,87.6,40.9,53.8,45.5,46.6,54.8,41.9,79.1,45.2,46.5,45.7,53.7,46.5,56.4,46.2,53.7,45.0,54.5,48.4,47.9,38.0,73.8,55.7,41.7,45.4,47.8,46.2,41.6,80.5,64.7,54.9,49.9,57.5,52.8,49.1,83.4,44.7,49.1,71.6,46.8,55.6,68.1,42.4,43.6,59.7,67.3,51.9,64.6,68.1,41.4,48.2,56.4,50.6,44.1,53.2,41.5,44.8,41.5,45.7,42.2,54.0,42.2,59.6,54.6,90.7,79.5,64.7,42.4,45.2,40.4,50.5,45.9,48.9,50.1,49.5,49.8,44.1,46.6,34.2,50.5,48.9,47.8,43.8,43.4,42.5,37.9,48.8,53.7,53.8,52.8,42.5,71.2,43.5,37.6,41.2,41.2,66.0,53.8,53.8,50.9,90.6,83.6,50.8,50.3,79.0,41.0,47.7,58.6,44.3,48.5,40.0,50.1,39.1,73.8,43.8,61.4,55.2,37.8,41.2,52.8,35.8,46.9,42.0,44.1,48.4,49.9,42.3,45.0,56.4,47.0,51.1,44.4,46.9,44.3,45.6,54.7,56.6,49.8,49.5,46.2,53.7,46.9,47.4,83.1,46.2,90.2,56.4,55.9,54.5,53.2,54.4,53.8,48.6,47.4,50.3,91.6,40.5,83.0,46.2,48.5,81.6,55.8,52.8,50.1,53.3,47.3,81.2,49.7,42.2,55.0,40.1,52.5,57.0,44.6,89.6,46.8,41.7,41.3,47.9,47.5,57.3,49.0,45.6,58.7,48.4,61.9,39.5,80.0,43.0,38.2,45.0,40.0,49.8,40.0,40.0,40.8,40.0,55.4,40.0,54.7,40.0,48.7,38.1,40.0,40.0,57.8,40.0,50.7,58.1,40.0,46.1,40.0,49.0,61.5,58.5,55.3,52.1,62.2,61.6,52.1,61.8,53.2,43.2,38.2,52.7,58.2,40.0,47.7,40.0,41.0,65.4,60.7,46.5,33.7,54.5,55.4,62.0,29.0,53.2,64.0,30.0,40.0,43.1,47.7,40.0,43.3,29.4,58.1,40.0,40.0,55.6,45.5,33.8,51.6,45.5,52.1,58.8,62.0,59.9,54.2,40.0,54.8,40.0,53.6,37.7,40.0,52.5,40.0,47.9,62.6,63.1,61.0,68.7,62.0,59.8,55.2,40.0,55.4,49.4,58.6,40.0,51.7,40.0,55.0,48.9,53.4,47.5,64.0,40.0,57.3,40.0,52.2,55.8,40.0,49.5,48.5,60.8,55.4,55.4,48.1,60.0,60.6,62.0,63.2,61.0,62.0,61.0,59.7,61.7,60.2,67.6,60.0,45.0,41.0,48.1,49.0,55.2,38.5,50.4,59.5,58.1,41.7,85.7,60.9,83.2,45.6,37.7,40.9,52.7,51.8,62.2,55.1,47.8,47.9,43.0,38.9,43.6,46.1,41.6,56.0,56.8,62.5,63.7,69.0,56.8,39.8,51.4,42.4,51.8,48.6,53.1,76.9,87.6,38.2,72.4,46.8,38.4,45.9,42.4,51.2,46.4,47.1,39.3,48.2,47.8,49.4,50.5,55.3,48.1,41.0,56.9,36.9,41.6,88.4,44.3,53.5,46.2,37.6,45.5,49.5,40.4,41.8,46.5,48.7,50.0,51.7,37.8,39.5,48.3,54.3,50.3,47.2,50.1,61.3,48.8,50.7,44.2,40.5,45.3,45.7,31.8,49.0,55.4,46.3,38.3,49.5,52.4,49.6,49.6,78.1,43.7,44.4,42.7,49.6,38.4,41.9,47.2,50.3,53.5,44.9,54.8,76.9,72.4,45.0,48.6,49.8,50.9,37.2,45.6,44.1,43.7,56.9,83.2,77.2,75.2,44.3,44.4,50.0,74.2,42.7,58.7,47.3,46.3,47.7,48.1,41.1,48.6,40.0,48.3,44.6,41.9,48.2,39.8,50.1,38.4,46.2,50.8,45.8,43.6,49.1,82.7,56.9,87.5,39.7,88.3,38.5,41.2,57.4,49.6,36.2,42.0,50.8,41.3,42.3,46.2,42.2,47.6,43.3,42.0,45.5,49.2,65.2,49.4,52.4,47.5,42.1,45.8,39.6,50.4,41.3,42.9,43.0,43.2,45.1,58.1,49.3,52.6,54.8,43.4,45.3,41.9,42.6,49.8,54.1,60.0,44.8,49.0,47.3,49.0,46.6,54.2,50.9,43.4,47.6,44.4,48.2,55.3,54.3,60.5,53.5,47.7,43.3,45.0,46.1,41.4,42.6,64.0,41.9,65.2,48.1,50.8,45.2,44.8,52.6,43.8,45.0,52.2,48.5,52.1,47.0,48.5,46.6,37.7,42.6,31.9,48.1,48.1,57.3,39.3,49.8,36.6,78.6,45.7,47.9,42.1,42.7,39.1,67.5,63.9,42.0,46.8,39.5,71.1,50.3,37.2,49.0,43.5,68.1,41.4,45.9,39.7,59.6,70.7,44.6,51.1,42.5,41.7,45.5,43.2,36.9,39.4,52.3,54.7,39.4,44.6,46.4,41.8,72.9,62.0,46.0,47.7,35.1,50.4,42.2,38.7,77.3,51.2,48.4,40.7,39.0,51.0,39.2,63.8,45.9,51.0,61.0,44.4,47.3,55.8,52.3,71.7,66.5,42.3,38.5,48.0,50.7,39.7,51.1,45.9,46.3,47.9,50.0,43.8,55.2,41.9,46.5,48.1,40.5,51.7,62.9,39.9,55.0,43.3,42.5,53.1,46.7,47.0,46.7,68.9,69.0,37.0,46.1,51.3,42.7,33.2,66.4,50.4,45.2,39.1,50.2,42.1,50.9,69.5,73.8,51.1,49.0,42.9,37.1,39.5,52.7,45.1,56.0,58.8,44.6,45.8,51.7,41.1,44.7,52.5,42.3,47.3,53.8,43.2,47.9,48.2,41.7,49.5,43.6,51.0,42.2,41.8,47.5,47.1,48.7,46.9,47.4,50.5,49.8,52.1,40.0,56.4,50.5,43.5,48.3,45.1,51.4,42.1,45.4,51.1,45.5,59.3,46.5,41.7,37.3,46.6,46.4,51.5,45.3,40.9,46.9,44.7,54.1,58.8,46.7,47.6,48.1,44.5,45.0,37.3,48.0,47.8,56.6,40.2,36.4,49.0,41.7,39.4,52.4,36.1,52.3,47.6,46.2,44.2,62.2,84.7,40.2,34.0,50.9,47.9,47.5,61.0,49.1,48.0,48.2,39.9,51.9,43.5,50.7,49.4,40.6,45.3,47.7,44.5,44.7,46.3,80.6,50.6,54.7,38.8,35.3,48.6,51.1,49.8,49.4,54.5,43.6,47.5,42.1,48.7,41.2,53.5,41.6,46.7,48.4,55.0,43.1,86.0,48.5,44.3,51.7,39.8,50.0,44.0,48.4,55.2,79.9,47.3,43.5,50.1,54.3,53.2,40.6,48.0,48.2,51.9,50.7,48.4,41.2,38.1,53.1,40.2,53.5,45.0,54.3,43.3,47.5,44.8,41.5,43.8,58.1,42.8,46.9,43.8,84.6,52.4,56.9,41.4,38.8,38.9,46.9,48.1,54.9,60.6,55.7,52.9,54.1,41.3,51.7,50.8,47.3,52.5,44.8,47.9,42.5,48.9,55.1,48.2,52.0,73.6,47.7,47.8,45.4,60.3,60.5,37.6,41.5,39.9,48.5,50.0,55.8,37.4,46.4,64.8,38.2,36.8,50.7,59.3,47.5,41.4,43.9,49.2,49.9,49.6,68.4,52.5,30.0,51.3,50.7,54.9,50.2,43.9,49.5,38.8,49.3,45.7,53.4,64.9,64.7,46.1,78.4,40.1,43.7,49.5,52.5,44.1,50.5,67.5,65.5,52.0,49.2,52.3,43.2,43.4,46.2,44.4,47.2,44.9,39.3,46.5,49.9,50.5,39.9,53.2,53.8,51.8,64.4,51.5,51.3,42.8,51.1,66.4,65.2,46.1,47.4,43.8,40.3,41.8,57.8,45.6,49.1,47.9,44.6,54.2,49.6,46.5,48.3,50.1,46.4,47.5,48.7,47.7,50.2,43.7,46.6,42.7,28.3,38.6,55.3,53.0,47.7,47.7,84.6,49.6,35.2,42.0,42.1,73.5,50.3,45.7,43.8,43.8,46.0,60.3,37.3,44.4,46.8,52.1,39.7,57.1,57.9,56.1,55.6,48.2,42.5,45.9,81.8,54.7,50.2,44.2,76.3,42.1,46.5,47.1,55.8,92.9,40.3,42.0,39.8,42.0,42.9,40.6,49.3,33.7,86.6,50.5,42.2,39.3,51.0,46.5,45.4,70.1,75.7,48.0,35.9,57.6,89.9,40.0,47.0,51.9,37.9,44.1,43.4,52.7,45.7,51.2,40.4,42.4,76.0,81.5,43.0,51.2,67.1,49.5,46.6,81.7,50.7,44.3,87.5,49.7,50.3,75.3,46.9,48.7,78.8,50.8,39.9,87.4,91.1,47.4,54.9,53.3,44.4,45.8,46.9,55.2,83.6,46.9,49.1,89.6,40.3,46.8,51.6,71.8,42.5,39.1,48.3,50.8,97.8,41.1,41.7,46.6,66.0,62.0,56.0,39.8,75.5,49.3,57.5,46.2,55.8,56.8,88.6,54.8,44.1,54.2,42.1,55.7,46.8,54.9,44.5,49.8,45.4,83.1,88.6,59.1,48.4,39.1,47.4,66.8,42.2,44.2,50.3,43.1,56.0,71.5,40.1,49.4,45.6,35.4,45.1,50.3,57.4,46.7,56.4,48.5,50.7,57.3,43.0,51.2,44.2,49.6,50.1,60.3,47.4,37.6,43.7,53.8,46.9,50.7,57.5,44.1,50.3,54.0,47.0,41.9,47.3,48.8,40.6,50.0,47.0,39.3,38.7,45.4,50.5,44.7,42.6,48.1,54.2,55.7,49.8,50.6,51.2,60.6,45.4,48.3,43.5,53.2,58.4,47.5,51.4,45.4,40.0,36.8,45.9,49.3,36.8,65.8,43.9,36.4,52.4,53.6,60.5,52.2,44.9,47.0,45.3,41.5,39.2,37.3,51.8,55.2,45.2,39.8,47.7,36.4,75.3,53.8,45.9,36.7,64.9,40.0,48.5,49.0,51.1,55.6,44.3,53.9,38.4,48.6,50.3,45.3,50.2,52.1,45.5,41.3,44.8,44.4,41.5,40.6,51.3,60.3,39.2,47.8,86.6,37.5,43.5,41.0,43.0,47.4,45.3,46.7,52.3,46.1,48.1,63.2,42.7,54.5,48.9,57.3,46.3,48.7,44.7,44.3,37.0,50.6,48.5,45.6,51.5,47.6,48.3,45.2,44.2,88.8,52.3,48.0,46.9,50.1,44.9,58.5,44.4,46.5,45.1,46.0,50.8,51.3,52.5,47.4,40.1,46.5,43.1,73.8,85.5,67.1,83.2,84.1,84.4,60.3,57.6,53.7,61.0,58.3,84.5,38.8,45.5,40.9,54.9,42.3,60.5,39.9,44.4,42.2,67.4,41.5,82.4,48.5,41.7,45.8,47.6,50.3,48.4,44.6,45.2,44.7,43.4,53.6,51.1,43.9,57.9,34.9,52.2,45.1,48.8,52.9,51.0,54.2,47.2,31.6,42.3,55.1,39.8,48.2,36.2,44.8,48.6,52.9,46.6,51.9,47.4,48.4,40.7,52.2,39.1,46.7,43.5,83.8,55.6,51.6,38.7,49.6,50.3,39.9,46.0,45.9,56.4,38.4,40.8,52.9,40.4,37.8,40.5,56.4,43.2,48.1,46.7,39.0,58.4,33.9,38.4,49.8,42.0,42.3,50.0,50.0,50.0,40.3,45.9,43.8,57.5,88.6,44.5,47.9,54.0,43.9,47.5,50.6,44.8,50.3,41.8,40.4,53.6,44.1,53.5,47.7,42.8,47.1,49.6,46.5,36.6,43.0,54.5,50.5,48.4,60.9,39.2,41.6,39.7,34.7,50.1,55.5,57.3,46.4,55.3,42.3,38.0,45.4,50.7,50.2,51.0,45.1,59.7,39.3,49.7,48.8,54.6,48.9,51.2,41.7,47.7,49.3,44.2,50.0,39.8,43.4,52.2,47.3,37.0,42.5,59.9,43.1,48.2,52.7,46.5,69.6,60.1,41.1,48.2,49.0,52.3,80.5,47.9,53.3,49.9,37.5,51.6,64.2,39.8,49.4,72.2,49.7,44.6,56.0,53.8,36.3,48.4,44.9,48.3,52.1,48.2,47.3,45.7,40.3,54.7,36.0,54.8,39.4,49.1,49.4,36.7,38.9,40.1,56.3,40.5,44.9,45.0,59.8,42.3,53.1,38.0,44.1,41.3,39.5,53.9,39.0,54.9,55.9,45.6,40.8,45.7,43.7,51.1,43.0,53.8,42.3,52.5,44.6,35.5,68.4,50.3,37.0,65.7,48.4,49.4,44.5,44.9,45.7,41.4,39.8,48.0,49.7,43.0,43.6,54.4,51.9,41.5,48.3,47.9,51.2,49.0,46.8,66.3,49.8,48.3,48.2,46.2,42.9,45.6,50.5,40.8,53.4,46.9,45.6,41.1,39.7,52.6,42.8,38.4,50.2,33.7,45.5,40.7,45.7,47.9,46.8,51.2,42.4,50.7,38.6,51.6,44.7,46.4,47.7,41.2,41.7,49.2,39.5,45.4,47.7,60.6,45.8,44.0,47.0,41.8,55.8,57.4,49.6,43.9,36.4,76.4,46.1,37.8,51.1,48.4,47.3,38.4,40.2,52.2,57.0,42.2,39.9,40.2,51.3,44.3,46.2,47.7,41.2,43.9,41.5,49.0,44.4,37.8,45.0,60.7,48.1,49.7,52.9,48.1,50.6,53.6,53.8,56.3,50.3,44.9,51.2,38.9,42.4,54.5,50.0,51.3,45.8,53.5,51.4,55.9,53.8,43.5,43.8,46.7,42.0,44.3,44.4,47.7,52.4,51.4,42.0,55.6,49.1,50.5,43.0,35.4,48.5,51.9,49.4,51.6,48.1,49.0,41.3,49.9,52.9,49.8,53.0,41.2,45.5,50.9,47.0,47.7,44.9,54.4,47.5,46.4,43.0,45.8,53.9,39.7,47.0,52.4,56.3,43.1,45.8,47.7,42.3,49.9,74.6,39.6,47.8,52.2,43.5,38.8,52.5,52.3,46.4,51.8,45.7,57.1,49.7,48.1,36.9,39.2,45.4,49.8,47.7,54.4,39.9,55.1,60.1,53.5,41.1,61.2,55.9,49.0,53.1,53.5,49.6,49.6,48.4,47.1,49.9,49.5,58.7,50.8,45.3,71.1,53.3,43.7,52.5,40.7,55.4,44.0,38.6,54.0,48.0,44.0,38.5,48.1,37.2,54.4,61.4,51.7,49.5,54.9,44.0,41.1,50.3,45.9,57.8,55.1,60.1,53.4,48.3,63.5,38.6,46.8,38.4,52.5,46.4,49.2,53.2,50.2,52.5,48.4,51.3,50.8,38.6,32.4,46.7,40.3,41.4,45.4,51.0,50.0,44.0,79.3,38.5,42.2,50.1,44.3,35.4,45.1,67.1,45.1,43.5,44.5,45.2,42.0,51.3,43.3,50.5,55.6,43.6,43.9,42.2,40.3,40.2,42.7,45.6,56.4,49.5,47.7,43.1,47.5,59.4,46.4,46.6,44.3,50.7,49.6,56.7,53.6,59.1,68.2,51.7,60.9,37.0,50.5,57.8,37.0,46.5,56.7,51.8,52.5,61.1,45.9,49.6,47.5,45.6,43.1,52.1,41.9,41.5,49.9,46.3,55.4,42.7,49.2,49.4,51.9,39.3,41.0,37.8,39.5,48.6,42.3,49.7,57.3,56.8,49.0,41.6,77.4,55.8,49.9,47.6,51.2,45.4,39.7,46.0,51.6,47.9,48.9,64.4,61.7,48.8,49.6,49.8,41.9,51.8,54.9,45.7,42.0,49.7,44.7,43.4,50.6,45.3,44.8,55.5,50.0,45.5,37.7,37.6,52.7,45.8,46.8,47.8,54.1,44.5,46.1,40.0,48.5,48.7,55.5,50.7,39.6,51.0,47.1,48.1,49.1,38.6,45.2,34.3,52.2,48.4,50.6,43.5,49.7,39.1,44.8,35.8,56.9,46.1,46.8,42.4,49.1,47.0,46.1,41.6,46.3,47.5,35.3,50.0,50.6,97.9,52.4,45.5,42.9,45.2,48.8,49.7,46.1,47.4,48.1,40.6,41.2,52.0,48.2,36.7,50.8,44.6,36.1,50.3,49.8,38.1,49.8,47.6,57.5,48.3,40.7,49.6,38.7,39.7,62.3,51.0,70.7,58.4,44.0,48.6,39.9,38.7,49.6,44.2,43.8,47.2,48.7,39.4,53.6,66.1,47.5,36.1,54.1,65.8,46.7,47.1,51.3,44.7,50.0,49.4,65.2,36.8,46.8,46.0,40.9,40.2,40.6,44.3,49.0,51.3,56.1,43.7,59.9,35.6,39.9,42.6,49.5,45.4,50.0,54.1,46.5,51.5,48.4,43.6,36.7,52.9,52.3,48.4,43.5,91.3,51.4,51.5,52.0,50.0,47.9,44.0,46.5,66.2,38.2,54.1,43.0,49.8,53.7,49.7,54.2,60.1,51.7,49.6,41.6,45.8,48.8,48.6,50.7,48.7,44.9,48.0,50.0,48.1,47.6,49.7,90.2,46.2,40.6,40.0,39.7,41.8,42.2,45.3,44.2,55.9,44.3,72.9,94.6,74.8,34.0,45.9,55.1,41.9,86.6,76.9,45.9,55.4,45.0,38.9,37.4,51.2,48.9,46.9,69.1,40.3,48.7,40.4,44.4,50.9,47.5,50.6,87.6,45.4,49.7,50.5,51.7,53.5,52.3,42.1,47.2,49.6,39.7,44.7,44.7,50.3,57.5,86.9,48.9,50.5,40.1,46.2,71.5,40.8,40.3,52.0,45.1,45.7,62.9,47.6,52.6,52.2,55.2,51.6,47.7,48.2,48.0,37.0,50.2,43.7,48.7,39.4,45.4,49.3,48.7,43.7,44.6,47.6,50.6,41.7,43.2,52.6,46.3,53.3,49.1,45.8,52.7,66.9,42.7,54.1,50.8,55.4,47.5,52.5,45.0,47.0,39.6,36.6,48.7,63.5,48.3,59.2,38.3,45.4,42.4,57.2,45.7,78.1,80.3,88.6,37.6,80.3,41.3,43.9,38.8,41.5,45.0,47.4,42.8,46.1,48.8,51.1,48.4,47.4,46.3,45.0,42.2,50.8,48.8,53.6,54.6,42.6,40.3,74.4,40.1,38.5,46.2,53.0,58.1,46.1,42.7,61.5,51.8,42.7,38.2,44.8,86.3,40.8,46.3,50.0,51.7,42.3,38.7,46.5,63.7,53.7,66.8,63.6,52.3,97.5,43.9,54.2,49.9,48.9,52.5,51.4,52.8,50.7,49.7,48.5,59.4,48.9,83.4,42.3,44.2,54.5,57.6,50.4,49.2,41.5,50.0,41.7,38.2,41.8,49.5,47.3,47.1,50.1,49.7,46.7,48.8,50.9,49.3,45.8,47.4,50.4,51.2,51.1,34.9,34.6,44.7,41.1,44.1,40.0,57.3,45.8,53.1,44.7,46.4,72.0,83.7,48.9,53.5,52.1,43.3,51.4,57.8,39.6,41.1,42.3,39.9,41.9,36.7,35.4,38.0,47.7,50.0,32.4,53.5,41.9,46.3,77.7,42.8,43.9,46.8,48.7,45.4,50.0,39.3,47.8,45.4,53.3,47.4,48.9,52.3,46.4,38.6,37.4,53.7,52.5,41.2,42.2,52.1,40.7,35.9,66.9,38.0,50.2,44.4,47.5,40.4,39.7,49.1,54.2,51.2,69.5,46.6,37.4,52.8,48.8,57.2,47.0,48.5,51.9,45.3,38.6,48.6,43.3,40.5,53.5,96.3,94.5,55.2,55.0,45.3,53.4,79.2,50.3,42.9,74.2,44.1,51.0,46.6,45.9,83.8,50.0,49.9,50.7,37.3,47.0,66.2,45.6,37.2,79.2,97.8,54.8,46.9,49.4,55.5,64.8,55.8,54.4,52.9,60.0,47.7,39.9,50.4,49.7,92.9,50.7,43.8,52.4,52.1,42.6,54.4,44.7,45.2,49.1,49.5,46.2,54.6,39.3,57.1,43.1,70.3,48.7,49.3,52.1,43.8,44.2,41.7,66.6,43.6,48.2,51.5,44.2,49.1,50.5,45.6,79.6,47.2,47.1,52.5,48.9,81.0,42.2,51.5,74.2,47.5,51.9,47.9,41.1,45.8,50.2,41.9,48.3,53.1,41.8,51.7,48.6,50.1,43.5,52.6,36.8,53.8,42.2,46.7,50.4,46.7,53.9,46.4,44.2,48.1,51.4,58.1,45.5,68.7,51.6,49.5,50.7,45.2,49.9,50.2,49.2,43.1,48.7,90.8,42.4,42.4,50.9,45.2,42.7,48.0,48.5,44.2,42.7,51.2,60.3,46.7,52.3,40.7,42.8,74.4,70.4,47.3,53.0,40.9,45.0,44.0,49.5,40.1,50.1,53.0,35.4,42.7,81.9,48.0,35.9,51.2,49.0,47.9,51.1,60.7,49.4,82.5,42.7,36.5,49.2,45.5,36.2,54.8,49.0,39.2,43.5,51.0,42.2,35.3,45.1,47.5,50.8,52.3,39.2,70.8,44.8,52.6,48.4,45.2,37.9,41.8,54.3,61.0,57.8,45.9,70.6,73.6,55.4,41.4,87.6,67.1,43.2,38.4,47.7,78.3,54.4,41.4,80.1,47.8,54.1,52.4,52.1,40.0,46.5,49.7,34.7,47.8,51.3,69.5,51.3,74.2,45.2,49.9,42.4,38.8,46.5,51.2,44.6,47.0,47.6,90.1,86.4,43.5,68.3,69.1,48.5,75.1,42.3,40.7,43.4,44.8,49.1,44.6,44.6,88.9,52.5,62.3,50.1,41.0,50.2,69.7,52.6,49.5,48.7,53.3,43.0,35.5,34.3,56.2,39.9,40.1,40.9,52.6,90.8,46.7,41.2,50.9,49.9,49.2,43.7,40.8,47.2,42.7,37.6,44.7,53.9,44.3,42.7,49.0,49.5,42.0,49.7,42.5,63.6,48.7,71.7,49.5,45.4,44.9,59.1,43.3,63.3,50.7,49.9,46.8,54.0,65.7,66.8,45.6,41.5,55.0,62.5,52.7,56.3,43.0,45.2,54.8,51.3,49.7,53.9,89.1,46.6,44.4,33.0,53.4,51.3,45.0,47.8,51.8,43.2,32.7,53.6,45.9,50.0,39.9,52.0,60.2,45.2,76.4,41.6,84.5,48.1,39.0,56.9,42.6,44.2,91.1,80.1,66.6,53.3,60.9,53.2,48.2,43.5,38.9,47.4,53.5,40.8,73.4,43.1,44.6,49.9,52.6,78.9,42.4,41.2,77.6,49.1,83.8,56.8,71.5,40.6,45.6,46.7,40.1,55.2,55.5,54.6,51.9,41.8,60.3,53.2,42.5,53.3,48.1,38.2,43.9,71.5,36.8,42.4,39.6,47.8,54.2,66.7,95.9,35.7,43.5,43.0,48.7,50.6,62.6,51.8,46.9,41.9,39.3,72.3,44.3,86.8,43.3,69.9,47.3,42.1,47.2,44.0,71.4,75.3,70.4,76.9,79.5,49.6,43.7,52.2,43.4,39.9,46.1,44.0,47.1,57.7,55.4,54.5,39.4,48.4,71.9,39.1,49.0,43.0,47.7,40.7,35.2,55.8,64.8,49.0,72.3,67.4,80.4,45.9,43.0,45.6,82.0,42.0,71.3,46.7,72.7,43.3,52.4,51.7,50.4,57.2,68.6,41.3,45.1,38.1,34.8,78.1,49.0,47.9,58.7,47.5,50.3,43.2,38.8,46.9,50.6,50.3,40.4,48.8,43.2,47.6,64.8,41.0,54.6,47.7,43.5,38.2,49.0,83.1,48.5,45.0,53.9,43.1,36.8,44.0,41.8,54.1,44.7,38.2,43.1,54.0,51.4,50.8,40.1,39.1,55.4,37.7,43.5,70.6,49.4,72.3,40.8,80.6,49.1,42.0,43.0,41.3,51.4,47.3,51.6,49.6,48.7,43.6,38.1,42.5,88.8,43.2,38.8,68.6,43.7,50.1,50.8,47.2,53.3,78.2,70.7,51.1,47.3,48.9,47.8,97.6,48.5,40.4,82.6,88.6,44.8,72.0,77.8,42.1,46.2,69.8,41.9,71.0,48.2,69.6,47.3,64.0,67.5,46.3,82.6,53.6,92.1,66.9,45.9,42.9,40.2,53.0,46.0,41.3,79.8,45.6,89.6,51.5,45.1,78.4,60.0,44.7,48.2,36.0,43.8,48.6,43.6,89.0,91.6,40.9,85.1,40.9,59.9,36.5,36.8,42.8,35.0,42.2,53.8,49.5,63.0,82.3,45.2,47.6,53.7,40.6,53.6,53.6,76.4,54.1,95.9,48.8,63.6,37.2,55.9,47.1,35.7,57.6,81.7,48.6,46.8,89.3,53.6,36.0,43.0,46.5,42.6,50.5,69.3,41.6,53.3,54.8,56.7,35.9,49.5,43.4,46.9,50.8,45.1,49.2,43.6,79.5,44.1,71.6,46.1,46.8,43.0,45.8,39.5,44.7,46.1,51.3,76.0,35.8,48.2,50.3,42.8,44.3,51.2,47.7,40.2,37.2,48.7,40.3,51.2,47.7,50.0,52.6,43.7,49.0,48.6,52.7,41.5,71.2,50.4,71.1,38.8,41.2,42.0,44.4,46.1,52.9,48.9,38.0,54.8,55.5,54.2,51.4,45.5,53.9,35.4,47.8,48.9,58.6,46.5,45.4,52.9,43.6,49.3,51.5,54.3,47.8,51.9,93.1,51.7,84.9,48.4,43.0,45.3,36.6,51.0,56.5,65.0,57.7,54.5,60.0,65.0,56.7,59.3,63.0,65.0,47.8,49.6,56.0,44.2,38.1,49.4,78.5,84.3,46.4,45.0,52.2,46.1,50.2,45.9,38.3,43.9,52.1,46.8,42.0,43.3,50.7,41.8,44.1,40.0,47.9,50.6,52.9,48.4,57.3,54.1,38.8,51.2,61.1,55.4,59.0,49.5,50.9,40.0,36.8,51.2,54.0,50.1,54.0,49.3,53.3,54.0,46.1,71.8,61.2,52.5,51.9,52.9,42.7,78.9,49.3,43.1,51.1,50.9,49.6,53.0,63.0,53.4,49.9,48.1,50.8,44.1,72.5,43.1,92.9,52.1,48.6,41.7,59.5,42.9,46.8,57.7,49.3,48.1,52.1,33.2,46.9,49.6,51.8,57.0,51.4,48.6,50.0,45.0,79.0,52.3,72.9,55.1,36.2,59.8,50.9,40.1,41.9,36.8,52.0,46.8,48.6,48.1,60.0,43.9,40.4,61.0,46.1,41.0,44.8,48.9,50.3,49.6,56.0,89.7,40.8,52.4,66.7,44.9,85.9,92.9,50.7,58.3,82.6,38.9,68.4,37.8,45.8,62.2,68.1,41.8,82.5,40.1,45.1,55.4,65.2,46.4,56.2,46.2,81.0,93.9,66.7,49.1,48.9,38.5,36.1,47.8,50.7,75.0,49.4,50.5,43.9,46.6,45.3,79.9,85.8,82.3,43.2,51.7,75.1,45.0,44.1,91.1,43.8,84.1,84.4,42.9,48.6,74.0,52.3,50.0,58.2,44.0,88.4,43.6,41.6,51.0,55.0,89.3,47.5,45.0,38.9,47.3,54.5,38.3,46.9,53.9,51.3,40.9,41.9,47.2,55.8,44.2,42.3,49.3,49.4,46.9,54.4,44.3,45.5,43.1,40.7,38.5,53.0,43.0,49.4,51.7,44.7,40.8,46.8,52.3,40.1,45.3,50.7,46.6,44.9,41.1,46.0,36.2,38.4,51.9,53.5,41.0,49.4,40.7,48.1,38.7,52.9,45.7,40.1,48.2,50.2,49.5,35.5,47.6,45.1,41.6,46.4,43.7,66.3,39.9,47.6,48.9,47.7,36.8,43.8,49.9,48.0,44.9,49.2,37.4,40.9,38.8,46.0,45.2,49.3,46.9,37.7,38.2,51.0,41.8,76.6,47.8,37.7,58.4,45.9,40.8,50.7,40.0,50.5,48.2,42.9,51.6,38.5,48.3,45.1,48.7,47.9,52.0,38.6,42.4,42.9,46.2,45.3,46.3,49.0,69.7,53.0,51.4,43.4,51.1,51.9,71.2,45.3,50.1,44.5,50.1,66.0,43.2,74.8,44.6,50.6,47.1,50.0,42.6,70.2,57.1,46.4,58.8,48.1,52.4,51.8,43.7,38.0,42.0,38.5,48.7,42.7,52.7,54.0,50.9,61.9,57.4,78.1,45.6,41.1,43.7,44.9,47.2,43.3,48.6,47.9,37.9,48.9,48.6,38.9,91.3,42.0,43.0,47.4,51.8,43.3,47.1,47.4,50.1,53.3,69.5,88.8,39.4,38.5,40.7,52.2,53.0,59.4,39.9,43.1,42.9,52.7,49.3,46.4,89.0,54.9,50.0,46.9,49.9,39.8,85.1,49.6,43.7,74.1,73.2,52.9,75.3,50.1,51.7,49.2,46.3,91.3,41.7,45.3,51.1,48.3,67.5,46.2,71.9,47.5,78.2,58.4,49.0,43.8,94.3,50.3,38.4,45.6,46.4,46.8,67.0,93.8,49.7,46.0,40.9,45.7,85.2,45.0,67.3,47.8,91.0,39.9,73.2,40.8,52.3,39.7,65.3,46.1,79.5,64.4,45.3,48.7,43.0,97.4,40.1,50.3,53.1,50.5,75.3,34.7,73.4,66.2,41.2,46.3,67.8,72.6,67.9,66.7,51.5,51.0,71.9,33.1,42.7,47.3,60.1,47.6,43.1,51.0,93.0,47.2,77.2,75.6,75.7,67.2,51.0,92.0,52.4,49.3,87.8,42.8,54.0,50.5,51.9,53.3,47.9,45.6,53.4,43.5,48.8,78.4,85.3,48.8,51.2,46.1,51.0,51.5,60.4,46.6,46.9,42.4,48.8,80.3,41.2,58.0,46.2,55.1,49.7,35.6,41.5,83.0,43.2,66.9,48.3,39.2,52.1,48.4,41.5,37.9,52.8,52.7,66.9,73.1,66.7,84.8,65.0,58.0,74.9,63.5,44.1,52.2,38.2,41.6,43.3,50.1,38.2,68.0,87.7,37.6,48.4,64.4,76.3,46.9,79.5,45.1,79.8,79.2,58.8,48.4,44.0,62.4,88.4,75.5,51.0,42.2,39.0,89.9,44.3,90.2,84.0,41.3,48.9,52.5,46.4,47.5,83.7,89.9,50.8,42.8,90.5,50.0,51.7,52.8,50.3,67.0,48.3,48.3,48.9,49.2,49.5,48.2,45.5,45.4,53.0,48.2,44.6,48.9,45.8,53.6,56.3,59.0,54.9,35.8,41.9,39.1,53.8,95.2,87.3,83.9,55.7,55.0,35.5,44.8,52.7,55.3,46.2,48.1,49.9,44.7,49.9,46.6,46.8,45.5,51.9,54.9,50.5,80.6,55.1,42.8,51.9,47.1,58.8,47.9,48.5,87.7,50.2,54.6,42.6,46.4,89.7,54.2,47.8,44.6,48.1,53.7,48.4,47.4,43.8,47.9,47.2,41.3,39.3,80.8,52.6,88.1,36.0,47.1,42.8,38.0,44.3,48.7,49.1,57.8,48.7,67.5,53.8,71.0,51.9,50.3,45.6,56.6,52.7,38.1,47.2,40.8,38.0,48.2,40.4,51.2,49.0,48.2,47.0,50.0,53.5,48.5,36.8,48.1,39.4,87.3,45.4,54.9,55.6,50.0,43.8,45.4,53.5,48.8,90.0,79.8,48.8,42.8,62.9,43.3,71.2,35.7,84.7,48.1,47.6,45.1,51.3,52.9,46.7,46.5,44.8,47.5,48.4,39.2,55.9,53.9,43.2,45.9,46.2,38.5,46.0,41.3,73.1,39.2,48.3,46.2,50.1,82.1,45.8,71.8,47.8,46.0,47.6,51.7,51.1,51.8,39.3,45.3,51.5,87.0,96.6,48.5,49.7,58.7,46.3,70.9,37.9,43.5,44.4,66.9,47.1,41.0,50.2,39.1,51.1,41.6,51.5,55.1,43.9,54.0,41.7,38.4,47.7,44.1,42.2,42.2,42.8,50.7,46.4,52.6,38.2,49.5,45.6,49.3,40.1,52.5,84.7,54.0,46.0,50.1,47.6,41.3,46.8,42.0,47.6,70.2,50.7,48.4,62.2,56.6,45.8,46.5,41.3,45.4,90.4,48.6,43.6,80.3,49.2,51.2,50.0,45.3,41.4,53.4,51.9,39.5,46.1,58.8,45.2,41.5,45.7,35.7,42.4,44.0,42.2,67.7,66.5,61.5,64.0,68.7,65.5,64.9,68.4,51.5,49.7,44.8,50.9,54.4,40.0,38.7,52.3,53.6,42.3,37.1,81.2,80.6,48.3,39.0,48.0,71.5,50.8,56.2,52.1,50.4,59.6,48.1,42.2,52.4,39.6,50.3,46.5,44.2,40.1,57.4,46.3,46.5,51.6,47.4,50.3,45.8,43.8,48.0,43.0,52.5,50.5,47.6,46.0,72.0,42.7,57.7,46.9,47.9,89.9,42.0,54.7,75.9,49.6,39.9,51.8,72.9,46.8,51.7,68.6,45.5,72.7,64.0,44.7,46.7,57.3,55.9,54.0,52.1,93.7,57.8,40.1,97.8,77.0,79.6,38.8,48.9,51.6,47.2,82.3,97.5,53.8,52.8,49.7,43.4,50.8,47.8,38.8,58.3,44.1,40.3,61.4,49.2,45.1,48.7,45.2,46.2,51.2,69.4,43.7,44.1,63.7,89.6,41.5,48.1,52.5,54.2,51.6,77.9,45.0,82.3,46.7,87.5,49.7,48.9,57.3,49.5,49.3,43.6,51.4,41.9,48.9,52.6,95.9,49.8,45.0,54.2,82.5,51.5,82.5,55.5,53.0,47.1,47.7,95.7,75.8,51.8,44.6,73.7,53.7,48.4,47.6,83.8,91.5,38.9,48.6,87.7,45.8,89.1,47.1,48.4,51.0,96.6,97.4,81.5,58.8,47.3,48.4,48.1,50.4,37.4,54.5,91.8,54.7,51.9,54.6,46.4,51.2,69.8,70.9,50.7,74.3,84.2,53.6,50.1,41.4,38.7,50.4,48.1,49.3,46.5,44.6,49.1,49.2,42.8,53.1,48.7,53.2,66.2,47.9,47.1,90.0,55.0,50.2,52.7,50.7,57.1,80.6,51.5,61.1,50.3,76.2,50.2,62.8,43.8,54.4,40.1,69.1,53.8,97.1,40.4,37.3,42.1,48.9,47.7,51.9,45.5,45.7,49.5,48.5,49.3,42.7,46.2,91.9,43.5,45.7,54.2,45.3,51.8,44.3,41.8,56.9,53.3,47.1,41.9,49.5,39.5,60.5,50.1,43.3,74.5,39.6,40.1,42.5,41.4,44.7,38.1,41.7,39.0,67.0,45.3,38.8,51.8,78.7,52.4,89.4,75.1,40.5,89.1,71.0,40.5,63.8,79.3,57.9,60.4,53.0,71.0,42.8,35.2,47.5,54.1,49.3,45.9,42.7,46.9,56.5,82.5,94.5,66.3,67.0,47.1,48.0,42.3,37.9,38.3,71.3,44.8,67.2,45.0,71.4,47.6,34.1,37.5,42.1,45.5,41.3,42.0,49.0,94.7,63.2,55.4,44.9,43.7,90.9,52.0,44.8,45.9,51.9,52.1,43.8,39.8,40.5,51.5,44.5,83.0,95.8,68.7,67.0,46.9,60.0,60.0,64.0,60.0,50.9,60.0,58.8,49.3,37.1,67.7,60.0,46.0,60.0,61.0,40.0,67.8,60.0,60.6,60.0,62.5,60.0,64.3,60.0,61.9,60.9,60.0,60.0,62.4,40.0,60.0,64.8,63.0,63.0,63.0,63.0,44.0,49.3,65.5,65.7,60.0,68.7,69.2,49.3,82.8,68.6,35.0,45.0,85.0,88.2,63.0,81.2,72.6,44.0,63.0,63.0,44.0,32.2,59.4,53.2,83.5,39.4,46.4,67.0,52.2,43.3,75.1,64.6,87.7,76.6,55.4,73.4,68.5,42.7,50.2,49.5,53.4,71.1,57.9,74.7,66.1,83.2,41.4,70.3,50.6,53.7,36.3,46.5,45.7,41.8,67.4,84.6,75.9,66.9,55.1,48.7,49.1,85.9,70.0,43.6,69.1,48.6,72.2,49.3,75.5,54.6,63.7,42.2,50.0,39.6,45.7,43.6,66.5,48.6,50.0,44.8,71.7,55.6,67.5,48.7,44.1,43.1,43.3,40.1,45.0,61.3,46.7,71.7,53.1,45.0,52.9,47.3,49.9,43.0,38.9,46.9,50.3,55.8,77.1,35.1,53.2,51.2,40.3,95.0,44.7,70.9,48.8,41.6,93.5,43.2,51.1,74.6,41.1,45.4,37.1,58.7,44.9,70.9,70.8,81.3,50.4,36.1,92.9,55.1,48.4,48.3,42.2,45.2,44.8,53.5,40.4,41.5,74.6,51.8,47.6,58.8,55.2,39.7,45.4,45.7,50.5,43.9,82.8,36.7,74.7,53.7,77.4,91.6,38.8,46.8,44.2,64.4,40.7,40.4,46.1,54.1,68.6,47.3,46.6,48.6,45.2,39.1,56.1,44.0,45.7,53.2,96.2,76.9,93.7,81.5,55.5,53.4,44.3,67.6,56.1,51.2,51.9,67.5,44.6,50.2,73.5,52.7,86.7,61.4,55.1,63.4,43.7,50.6,48.5,40.0,54.2,70.8,88.0,46.3,42.9,37.6,39.3,38.7,37.6,51.1,51.1,41.3,51.2,44.3,48.2,50.2,38.0,48.2,45.3,41.3,38.7,47.5,43.0,41.0,52.8,49.7,41.6,36.5,64.5,87.3,44.5,40.1,46.2,63.4,51.4,50.9,42.3,46.2,45.9,91.9,58.6,81.5,42.8,42.3,72.3,62.7,59.1,92.4,70.1,48.5,41.5,41.2,45.9,60.8,57.8,45.6,46.7,40.0,78.3,50.9,59.4,43.7,52.8,55.2,54.0,42.8,40.4,38.3,52.0,40.7,38.9,59.2,50.6,50.9,46.4,82.2,47.5,37.6,49.1,46.5,47.5,55.3,50.4,47.0,60.4,66.7,45.3,50.6,40.0,49.9,51.6,51.5,44.8,52.2,50.4,49.3,47.4,48.2,46.2,57.8,48.1,47.6,50.3,55.1,41.0,47.2,51.0,43.3,52.2,46.7,73.4,64.3,77.4,44.1,70.2,42.6,48.7,67.9,63.9,39.4,68.4,57.7,59.8,43.1,37.5,31.4,48.0,41.7,50.1,47.0,55.3,37.8,46.1,70.4,50.7,40.3,90.1,48.2,48.8,72.8,48.7,54.2,44.4,59.6,47.6,45.9,45.3,50.0,47.0,45.8,63.5,44.2,67.8,52.2,64.5,36.7,50.3,58.4,48.2,45.0,47.2,46.9,47.0,45.6,47.6,50.4,46.2,50.3,49.4,49.3,51.3,39.2,50.8,45.6,43.9,53.3,47.5,50.0,46.6,45.5,44.9,47.4,51.9,49.7,53.6,47.9,52.2,39.6,40.1,44.0,45.2,40.1,56.6,49.9,44.8,49.0,37.4,64.9,41.8,79.9,40.5,44.4,46.8,49.5,50.8,51.7,41.1,56.7,51.7,79.0,52.8,43.6,43.4,43.0,49.8,46.4,47.6,44.4,68.6,46.6,56.2,47.4,48.9,49.1,55.9,47.9,47.3,47.0,50.3,38.3,38.2,42.9,57.1,48.1,48.9,45.8,53.0,38.7,61.2,46.1,49.2,42.1,50.7,73.9,38.0,54.6,47.3,43.8,97.9,75.2,43.6,71.2,47.4,45.2,60.2,50.7,45.1,42.7,49.4,42.8,34.9,75.2,50.0,37.3,43.1,40.9,44.5,49.6,55.3,41.3,49.5,72.5,42.3,80.8,66.1,38.0,48.2,59.3,61.8,44.9,47.9,53.7,38.6,40.1,43.3,50.6,71.5,44.2,47.8,46.9,73.7,49.0,49.4,47.0,46.5,73.3,48.9,47.2,68.3,43.4,51.7,41.9,37.8,45.0,54.0,51.0,45.0,51.0,45.0,54.0,45.0,41.5,49.5,45.0,45.0,46.0,45.0,47.0,45.0,44.5,37.5,41.0,45.0,54.9,56.4,48.8,46.1,58.1,44.3,49.5,56.7,38.0,43.7,58.1,71.8,42.6,53.4,51.4,52.9,57.1,48.5,53.7,80.6,50.1,43.7,89.7,50.4,53.6,66.8,47.2,44.0,84.8,78.9,49.5,50.4,55.3,53.1,76.4,35.4,52.3,38.4,78.9,45.6,48.5,51.1,56.7,84.1,64.5,47.7,50.6,43.9,48.9,49.4,68.7,54.4,70.3,71.8,77.6,81.9,78.3,51.2,45.2,72.4,89.1,39.6,49.1,83.6,41.5,41.5,51.1,45.6,52.0,79.1,86.1,45.3,76.6,57.7,34.2,73.7,39.5,49.6,83.6,44.9,65.2,45.8,88.7,85.2,37.5,35.7,42.1,48.9,61.1,55.0,45.5,47.3,81.8,82.2,58.9,43.2,90.0,50.1,46.2,73.5,42.1,38.4,57.2,89.7,50.3,67.2,50.3,85.4,90.3,57.3,53.7,85.6,41.0,41.0,25.8,25.8,54.3,61.8,54.9,51.9,55.0,56.2,54.0,52.7,56.2,61.4,51.8,47.8,63.2,60.9,60.3,57.2,49.2,51.5,51.8,34.7,50.6,30.8,47.4,31.6,59.6,51.1,58.0,45.3,50.2,45.0,49.3,56.2,54.4,56.4,52.5,67.1,67.1,48.7,49.1,49.1,57.9,56.8,58.9,58.9,56.9,57.5,55.2,57.7,25.1,25.1,53.1,60.3,55.2,44.6,39.1,45.1,44.6,41.8,52.6,41.9,40.3,60.5,42.7,37.8,46.6,71.6,47.6,44.9,48.1,44.5,50.9,36.7,42.1,53.5,42.9,51.9,47.2,37.1,34.6,36.4,43.1,67.0,45.0,49.5,58.4,47.2,51.9,47.0,48.4,47.1,50.8,51.1,43.5,54.0,44.0,42.0,36.9,51.4,49.7,45.2,48.7,79.8,47.2,46.1,45.1,41.8,45.0,47.5,39.1,48.4,53.0,46.8,68.1,52.7,46.6,38.9,61.2,36.1,45.8,41.3,39.2,64.3,36.4,53.2,42.2,49.5,46.9,38.8,46.1,43.1,43.7,75.0,49.4,48.7,57.9,35.7,43.6,35.3,50.6,36.7,46.6,47.2,47.4,51.5,40.7,48.1,45.0,49.2,41.9,44.0,41.9,42.7,50.9,50.7,44.5,54.1,36.2,55.5,45.8,42.5,42.7,48.7,41.7,56.9,50.7,46.5,45.9,47.3,51.2,49.6,51.1,49.6,44.1,46.8,47.2,47.4,38.0,46.8,53.9,53.9,83.2,38.7,67.0,94.8,45.0,49.1,41.9,59.4,44.0,42.1,52.5,40.3,41.9,49.1,44.4,50.5,40.8,48.5,55.6,43.9,50.4,49.6,40.5,51.9,49.2,50.8,44.2,38.5,42.4,43.4,42.3,41.8,38.8,50.9,53.2,39.0,46.2,51.6,47.5,46.0,72.0,65.9,35.8,53.5,51.8,49.4,72.9,51.7,38.9,39.7,65.2,39.3,51.4,75.6,41.3,42.6,55.0,90.0,46.0,82.7,89.6,48.9,42.7,47.9,42.6,58.2,36.3,47.2,43.4,47.2,50.2,54.7,44.2,41.6,57.0,47.1,37.6,59.2,45.8,46.8,42.3,47.8,49.0,36.6,55.9,52.1,39.0,38.7,47.2,38.1,92.6,49.6,42.1,39.0,47.3,49.7,56.7,46.4,45.0,54.2,48.3,43.7,78.5,49.0,91.6,42.3,58.6,38.0,44.2,38.8,86.1,47.7,52.0,57.6,46.8,49.5,53.7,41.5,49.5,86.9,71.6,45.4,55.7,79.2,46.9,49.4,49.7,49.1,44.7,49.5,46.3,37.4,50.6,44.6,42.1,46.7,65.8,88.3,50.3,46.6,44.2,40.6,40.6,42.6,82.8,79.0,43.5,44.9,41.0,68.5,41.4,55.1,52.5,48.3,50.7,48.6,89.6,48.5,42.5,50.3,53.5,66.0,50.1,77.0,91.8,46.4,45.7,59.2,43.6,67.2,41.8,53.6,38.9,40.0,53.5,45.5,41.4,38.6,83.7,37.6,46.7,48.0,38.2,43.8,38.2,50.2,50.1,43.0,42.4,43.5,46.1,51.1,50.5,56.6,91.7,38.2,71.8,62.7,57.4,38.4,49.3,42.0,87.4,49.8,53.6,36.9,44.6,44.6,52.7,45.4,45.5,35.8,51.4,68.3,43.6,37.9,44.4,47.5,57.7,41.8,41.3,49.9,48.4,46.7,45.2,53.3,37.6,85.4,47.5,44.0,43.6,36.7,44.7,42.6,58.8,86.7,46.0,66.4,38.6,46.7,47.0,36.9,78.4,45.8,50.6,41.9,37.6,52.0,68.2,55.5,42.1,50.4,44.5,39.2,41.2,96.9,41.1,40.9,50.9,54.3,37.7,39.5,50.3,38.9,48.0,47.1,45.6,42.3,67.4,48.3,50.8,38.2,42.1,38.8,45.5,47.2,47.5,46.3,71.5,46.6,71.7,47.6,50.8,66.2,45.0,45.4,52.4,45.7,42.1,39.8,43.2,70.3,69.3,46.9,35.3,41.4,41.7,76.4,72.3,59.0,74.9,54.8,57.2,35.2,36.7,37.5,68.1,52.3,39.7,37.8,57.7,40.6,96.3,42.5,51.2,38.6,37.5,39.3,43.4,34.6,55.1,48.0,49.4,51.5,51.9,41.3,52.5,40.7,42.2,62.3,61.2,48.6,51.4,36.5,78.1,82.9,53.5,53.0,45.3,75.3,43.9,54.2,45.6,52.3,43.3,39.0,40.0,37.9,51.5,40.3,52.5,51.8,48.7,47.2,80.8,49.5,97.0,47.0,83.8,45.9,41.6,45.9,48.1,45.4,63.6,39.7,54.1,46.5,43.7,41.8,79.6,43.7,48.4,43.8,45.7,38.9,34.7,42.7,37.3,68.2,41.4,50.4,69.8,91.5,68.2,43.7,48.5,59.2,36.6,39.5,54.0,40.0,54.2,53.8,41.7,45.1,42.7,33.9,46.5,45.5,53.2,53.6,48.8,55.1,41.3,52.9,40.4,50.7,49.6,85.5,38.7,58.4,95.2,70.5,38.9,39.8,55.0,49.2,67.8,50.9,50.4,47.2,45.4,94.5,39.7,48.6,63.3,40.3,44.1,52.4,65.8,40.2,52.5,38.9,85.6,40.2,42.3,45.4,52.0,48.8,49.7,67.7,49.9,57.7,49.1,51.1,50.1,53.7,42.0,57.5,91.7,58.4,38.6,45.8,54.8,39.4,38.9,41.8,74.4,40.3,76.0,49.7,50.8,74.7,46.4,50.2,43.3,46.6,76.0,48.7,53.4,52.0,50.0,59.7,59.9,47.9,49.8,41.4,43.6,50.6,64.0,54.3,39.5,40.1,41.9,55.0,46.2,53.7,44.1,88.9,42.2,50.3,42.7,35.6,52.3,49.0,54.5,49.6,54.3,41.7,50.3,45.3,78.2,38.1,48.1,79.6,42.0,67.5,48.6,46.1,48.5,55.3,35.3,30.0,30.0,30.0,46.7,54.6,78.2,46.3,49.9,51.9,38.2,58.8,44.5,44.4,55.7,50.2,51.7,36.8,49.6,43.4,45.7,49.2,48.7,38.1,51.5,44.7,50.1,49.1,67.1,46.3,31.7,48.3,37.2,55.4,49.8,49.5,57.8,35.4,52.7,46.1,52.0,43.7,48.3,44.0,55.1,49.8,50.2,33.5,41.2,87.2,37.6,64.2,41.2,35.8,48.7,40.7,47.4,52.6,50.5,35.8,52.3,38.7,48.2,76.8,51.3,50.9,56.4,52.1,40.7,41.0,41.3,41.0,53.6,46.1,43.9,50.3,33.1,48.1,34.6,42.9,42.3,48.7,55.3,49.3,38.7,45.2,56.2,66.1,49.4,42.6,47.6,48.4,40.3,47.9,51.4,53.5,48.4,51.2,50.8,52.2,46.7,41.9,35.8,44.3,42.2,39.3,44.8,52.8,45.1,51.7,42.4,72.9,45.5,46.2,49.9,40.2,45.8,86.2,59.0,55.0,44.3,46.0,49.8,46.4,50.6,47.1,52.1,47.3,50.8,79.2,54.8,41.4,47.8,44.3,56.6,45.6,71.9,45.0,54.7,47.2,45.2,55.0,53.6,49.8,48.2,46.7,52.5,37.7,43.5,45.0,65.6,52.6,48.8,43.0,86.3,62.9,52.1,44.7,64.5,72.3,72.2,47.4,53.3,48.4,67.8,47.0,48.6,47.0,51.7,36.0,91.5,48.8,48.4,53.5,36.2,84.4,76.8,48.1,48.5,45.5,53.4,36.9,34.4,52.5,39.7,75.0,52.5,51.2,62.1,82.5,44.0,46.2,50.6,78.6,57.1,51.5,41.2,34.8,44.5,51.1,52.2,48.9,50.8,54.0,37.6,90.2,40.2,46.9,50.2,84.3,85.8,38.9,57.2,45.0,41.8,43.4,44.4,44.6,52.0,64.1,38.4,35.4,47.4,43.8,55.2,54.9,41.3,55.6,40.1,39.9,44.8,44.8,63.6,41.1,46.7,43.1,51.6,43.3,46.1,36.4,45.4,43.0,42.2,51.6,43.0,50.0,46.5,71.2,36.3,74.6,78.8,57.8,72.5,82.2,53.0,57.5,58.5,75.7,76.9,54.5,71.8,73.9,59.4,61.4,58.6,74.8,73.3,85.5,75.6,77.5,82.6,44.2,45.3,63.0,73.0,79.9,81.0,81.6,75.2,77.9,65.6,70.3,61.4,58.2,68.1,48.4,53.2,79.5,72.9,46.6,77.9,68.5,77.5,63.4,66.6,73.6,55.2,73.5,53.0,64.2,74.1,45.6,67.8,74.4,65.8,61.2,69.2,39.2,71.7,37.1,69.4,39.4,61.5,50.8,67.5,38.6,65.5,52.9,78.8,57.4,50.7,39.8,53.6,47.7,49.5,45.8,38.0,39.8,53.8,46.2,46.6,47.2,48.3,50.9,38.3,40.4,48.3,49.2,54.9,52.5,52.8,52.9,57.1,51.3,43.1,38.5,44.1,38.1,52.3,52.0,49.4,52.0,43.8,42.8,44.7,42.3,51.5,50.1,46.6,44.8,44.9,42.0,48.7,53.4,37.1,63.8,42.9,53.9,60.2,34.8,45.7,48.2,42.0,49.2,48.0,44.0,37.6,47.6,46.1,41.7,51.4,46.5,79.0,46.5,49.3,47.0,37.9,56.3,30.7,47.1,78.3,42.3,49.8,50.6,41.0,43.6,48.6,46.1,52.9,45.5,51.2,35.9,38.4,42.7,54.7,41.6,42.6,36.4,40.7,48.3,54.3,50.5,65.8,36.6,48.7,43.8,49.3,37.8,53.8,52.8,50.4,43.1,51.7,44.1,67.7,42.9,43.7,77.6,49.7,54.1,33.5,46.3,37.5,48.7,49.9,87.2,48.8,64.8,52.7,86.9,85.5,60.7,46.9,74.9,44.4,40.7,42.1,35.6,47.4,40.1,84.8,51.3,55.0,45.3,45.1,44.6,49.6,43.6,76.2,58.0,45.1,41.1,42.1,87.2,74.3,47.9,48.0,54.2,42.8,38.5,61.1,43.2,40.1,45.3,37.0,38.5,90.1,87.1,36.7,52.1,49.6,36.4,84.5,51.5,41.6,44.4,64.7,40.2,39.7,53.0,42.1,52.1,78.1,42.8,37.3,34.5,49.7,50.1,38.0,50.4,91.7,51.2,54.3,50.0,41.1,39.4,40.9,41.9,59.1,41.9,73.3,39.0,52.1,47.4,49.8,39.6,48.2,88.4,50.0,57.8,45.7,80.6,90.7,82.3,83.0,82.2,40.5,88.9,48.9,81.8,37.6,43.5,46.4,38.6,42.6,52.6,37.6,92.5,73.5,47.2,51.5,35.7,44.2,41.4,81.7,70.4,68.5,46.2,44.1,52.7,40.8,88.2,51.2,42.8,42.8,47.3,48.5,47.0,42.2,66.7,38.9,62.0,84.6,49.3,41.2,71.0,52.6,41.9,41.9,33.3,38.3,33.9,41.7,57.8,55.0,36.2,46.9,46.0,49.1,45.1,42.3,43.6,52.3,41.1,47.2,34.6,45.0,95.3,44.0,44.8,49.0,45.5,37.3,48.8,44.3,69.6,51.6,42.0,38.0,42.1,72.5,39.9,52.4,72.5,48.5,59.2,57.7,47.5,48.8,40.1,44.8,42.8,36.0,49.0,42.0,42.1,44.1,39.9,47.5,45.2,36.0,45.5,43.1,48.2,43.7,53.9,46.4,41.9,53.2,46.8,42.0,34.4,30.4,41.9,36.2,39.5,44.9,54.1,39.8,46.5,45.9,45.9,41.7,43.7,34.7,41.7,42.1,51.1,62.9,70.2,54.1,51.5,45.2,52.7,37.0,37.0,37.0,37.0,37.0,37.0,37.0,37.0,37.0,68.4,45.3,46.5,53.6,55.0,60.9,51.1,48.2,46.8,42.0,45.8,41.8,44.1,36.0,35.7,38.6,40.5,49.7,41.7,60.3,43.7,35.2,48.6,45.1,37.9,41.8,50.9,50.1,52.7,42.5,42.7,46.9,47.2,41.6,45.5,50.6,52.0,36.2,40.0,42.5,43.7,45.7,50.4,61.0,53.2,35.1,37.6,38.5,47.6,51.3,86.6,57.9,35.5,87.7,47.0,44.6,46.1,45.6,48.8,48.1,49.0,40.6,48.3,41.7,46.0,39.5,57.2,46.5,48.8,47.6,51.2,38.4,47.1,35.3,77.5,56.9,66.1,39.1,40.8,50.8,43.2,49.1,56.5,40.7,46.2,51.7,45.3,54.2,72.3,71.3,40.2,88.8,70.9,52.1,67.6,52.2,51.3,50.0,51.3,44.3,55.8,40.9,47.8,45.7,40.2,51.8,50.1,39.1,94.6,41.8,58.8,82.9,38.7,54.4,64.7,60.1,45.2,48.8,45.1,47.3,50.0,39.9,36.9,49.0,55.3,86.4,37.0,41.7,44.7,36.9,44.5,42.0,88.7,56.5,59.9,79.2,42.7,49.3,39.1,48.6,50.4,92.0,33.0,48.2,50.4,46.5,48.2,48.9,89.8,46.4,45.2,40.9,45.4,85.8,44.5,49.7,59.2,39.9,38.5,50.1,53.2,91.2,86.6,42.3,86.9,47.8,47.0,48.5,48.0,52.4,88.8,66.0,40.5,51.7,72.1,68.5,50.0,38.3,46.9,44.7,48.4,42.0,48.3,52.7,39.8,35.4,43.2,53.9,43.3,46.8,53.4,57.0,44.1,48.2,37.6,49.7,38.8,43.6,41.3,43.1,48.1,53.6,41.3,39.7,49.9,51.4,51.2,51.5,47.8,55.2,36.8,36.2,38.0,74.1,35.9,40.9,66.4,33.6,50.1,54.2,77.4,47.8,39.8,42.1,50.5,53.4,43.7,50.8,49.5,45.9,51.6,46.3,49.1,47.6,42.5,39.9,46.8,57.5,50.4,41.7,47.2,42.1,45.6,46.4,46.6,45.6,47.3,43.6,58.8,62.7,36.5,35.6,48.0,49.1,41.2,48.0,46.9,41.3,58.0,47.1,47.0,45.9,36.0,48.6,51.1,76.9,53.6,37.0,89.8,47.6,47.5,51.4,46.2,36.4,42.6,46.5,38.6,47.0,42.9,37.1,46.2,40.3,47.9,37.9,47.4,48.4,50.6,49.7,45.9,39.9,39.5,42.9,46.6,63.0,44.9,43.6,45.1,59.6,58.2,51.5,71.6,38.4,54.5,37.7,50.0,52.4,46.7,37.3,45.5,53.4,48.6,54.5,49.2,63.8,47.0,80.0,40.9,44.3,49.0,44.0,75.5,57.2,34.7,46.3,39.0,52.8,72.5,46.7,38.6,46.5,48.6,54.3,46.1,50.5,82.9,74.0,67.5,49.6,52.5,50.7,42.2,50.9,52.5,51.2,83.0,52.0,43.5,57.7,40.6,57.6,49.1,39.7,44.9,43.6,80.8,41.5,51.4,60.6,42.3,90.4,74.8,40.1,43.9,42.1,51.7,51.0,41.6,52.7,48.3,46.5,59.3,42.7,69.2,41.4,45.0,47.4,39.3,47.8,36.9,57.6,52.0,44.9,51.5,46.6,34.5,37.6,39.4,53.4,41.9,81.2,41.1,38.0,43.6,90.4,44.6,76.6,42.5,37.8,57.4,53.7,40.3,46.8,34.3,50.3,42.9,51.8,45.7,52.5,46.9,36.3,38.6,50.2,79.5,49.3,42.1,38.3,44.0,48.5,56.0,54.4,49.0,96.4,48.8,51.4,41.8,42.6,69.2,75.6,70.8,75.6,70.4,79.3,73.8,69.3,55.7,62.3,46.1,46.3,51.9,77.1,43.5,45.0,51.8,50.9,45.2,50.3,46.3,36.9,55.5,40.5,45.2,64.4,46.6,49.4,52.0,38.1,49.7,44.8,43.9,48.4,36.8,45.0,52.7,52.9,41.7,53.2,53.1,50.0,34.7,37.9,51.7,51.3,46.2,45.5,54.1,44.3,47.8,53.5,52.2,40.5,49.7,39.3,55.8,46.5,49.0,44.7,53.9,34.0,52.5,44.1,47.6,48.6,40.5,46.0,52.2,51.9,48.2,51.2,52.2,41.8,83.4,45.8,47.5,42.6,46.9,48.9,41.4,58.1,43.7,50.0,45.7,49.1,44.0,51.7,53.9,52.3,44.3,68.0,70.0,68.0,64.0,67.0,68.0,68.0,63.0,67.1,68.0,69.6,68.0,63.3,68.0,68.0,64.7,68.0,60.7,68.0,72.1,68.8,68.0,68.2,68.0,71.4,51.8,52.4,53.9,42.5,50.7,39.0,39.9,43.2,41.4,40.9,50.7,66.2,41.9,45.3,49.3,35.4,44.5,44.4,66.6,61.9,48.3,42.2,44.5,57.5,56.2,33.7,54.7,59.7,36.5,42.7,56.0,49.1,47.4,54.2,37.5,50.2,50.1,49.1,46.5,38.4,45.5,57.5,36.1,49.8,45.3,50.1,49.9,58.9,51.9,52.9,52.2,46.3,46.6,48.1,43.5,45.4,47.9,44.9,66.2,75.8,40.5,47.9,43.0,77.8,47.5,66.3,79.4,55.6,47.8,38.3,45.2,48.0,47.6,37.1,49.2,49.7,44.9,39.6,51.6,52.1,41.9,56.1,44.4,38.4,45.3,82.0,53.1,83.8,44.5,55.0,47.5,41.4,49.3,78.0,87.9,81.4,44.0,44.4,71.2,47.7,41.9,66.9,42.3,42.8,54.1,40.1,90.3,89.0,48.0,46.7,60.1,37.7,35.3,54.4,89.4,71.2,42.5,46.1,43.7,48.5,52.4,47.8,42.8,51.1,47.3,55.3,39.8,30.9,65.4,47.6,44.4,39.7,41.9,58.0,40.2,51.7,66.1,46.8,48.4,48.9,37.9,45.6,51.5,50.7,53.3,66.4,49.4,49.7,40.6,39.7,67.2,52.2,49.8,39.7,67.9,55.3,42.6,50.3,38.4,66.4,82.0,38.1,37.7,45.3,74.7,54.5,37.9,75.1,56.3,79.6,51.5,39.8,50.4,42.5,48.5,33.2,47.4,47.2,41.3,41.1,83.2,39.5,58.1,45.3,77.7,86.0,48.5,38.7,39.0,44.8,94.1,45.6,42.8,46.2,32.7,40.6,38.4,75.1,46.3,37.8,48.2,49.6,32.9,52.0,42.1,46.5,45.3,47.7,37.4,43.5,38.9,52.7,41.6,51.4,63.3,51.4,49.0,59.9,50.0,42.4,88.2,35.0,48.1,48.7,51.3,72.4,40.2,46.2,51.4,49.9,41.1,47.3,48.7,37.6,44.4,51.9,47.5,66.2,83.7,49.6,81.6,46.3,32.2,37.3,55.7,55.7,55.9,53.2,48.4,52.0,39.1,49.7,45.3,47.5,48.5,47.3,37.2,39.7,42.3,68.0,41.9,39.3,41.8,53.0,50.7,49.1,39.6,55.2,46.0,36.2,45.2,35.6,44.7,35.6,46.0,36.6,37.3,35.9,46.0,45.8,68.6,54.7,66.5,53.0,60.5,62.5,48.0,50.2,48.7,40.0,50.3,47.2,49.7,45.9,46.3,44.0,54.0,42.1,48.6,44.8,49.2,72.9,39.6,36.7,49.5,43.1,49.6,96.0,57.0,73.7,67.0,67.4,76.8,74.0,45.0,35.3,52.8,42.9,41.1,47.6,77.8,71.1,54.6,40.3,53.5,46.1,37.6,53.7,87.2,47.0,87.4,47.2,47.6,53.1,50.1,47.2,34.4,46.9,73.1,51.7,44.9,63.0,75.7,42.7,75.2,73.2,39.3,49.2,72.5,89.6,67.4,51.1,65.0,69.8,59.2,68.8,75.3,43.6,42.7,49.4,50.5,63.0,78.1,78.9,72.5,58.0,71.2,37.9,45.9,44.4,54.4,47.3,72.6,37.9,61.7,71.7,61.7,47.1,41.9,46.6,78.2,65.6,66.5,45.9,51.0,39.7,50.9,76.6,51.7,42.9,36.4,49.4,74.5,79.4,69.0,44.6,71.8,54.1,43.1,64.9,60.5,45.5,45.2,44.9,78.3,37.5,40.3,42.9,40.0,67.9,73.6,40.2,51.9,48.1,43.2,70.0,52.1,40.7,82.2,71.5,46.5,55.3,66.9,64.6,53.8,75.1,44.0,37.5,76.5,50.3,54.4,41.5,43.5,55.3,46.2,53.2,45.7,68.7,51.1,40.5,42.0,42.2,80.5,42.1,67.2,56.1,39.8,76.8,46.1,43.5,69.6,51.4,39.9,78.6,70.8,68.2,45.3,39.5,75.3,76.2,48.5,52.6,52.6,41.3,70.7,42.1,92.6,93.0,46.9,41.4,71.9,46.6,45.2,76.1,38.6,49.8,34.9,44.8,40.9,37.1,53.4,62.9,82.7,80.5,66.6,69.1,46.2,48.7,66.5,43.9,43.5,48.9,50.7,50.9,53.4,48.1,51.6,74.0,43.4,41.8,79.5,43.2,52.1,79.5,39.3,71.0,65.3,57.5,64.0,69.4,52.7,55.0,50.2,52.6,47.6,72.0,83.5,74.1,64.3,41.7,41.8,39.0,78.4,45.0,74.6,48.2,43.0,53.2,40.3,42.7,70.0,48.3,44.6,41.1,47.2,45.2,54.6,48.2,47.8,74.7,71.5,82.8,74.4,49.5,71.3,52.4,54.5,45.5,50.6,46.4,42.8,49.7,38.9,40.4,44.6,46.7,49.1,71.9,48.3,41.8,48.7,70.5,40.4,43.4,42.1,42.8,69.1,40.8,50.0,48.6,54.9,56.2,44.5,42.9,60.9,60.6,49.5,67.4,37.7,60.2,52.7,39.1,72.7,48.7,44.5,35.7,35.5,65.4,36.9,48.3,42.3,39.1,47.1,45.6,71.7,50.0,36.7,40.4,57.1,44.0,43.5,41.3,54.0,41.5,77.6,41.1,43.1,48.5,46.8,51.1,48.4,38.2,69.5,79.8,74.4,77.7,64.0,43.8,47.8,74.0,48.1,42.9,77.5,36.4,48.0,47.1,50.6,93.1,45.0,54.3,48.3,39.7,47.7,57.2,74.1,51.1,43.6,62.4,73.6,51.3,78.5,45.1,40.7,40.1,40.3,51.4,79.6,42.0,66.6,44.6,52.9,86.8,81.5,68.8,90.1,55.5,93.6,67.5,69.0,71.7,39.0,50.9,40.4,50.8,33.6,70.2,52.2,76.8,70.6,39.0,53.3,44.7,46.3,38.4,39.1,44.2,71.2,68.5,63.5,38.9,38.9,38.0,41.0,40.7,46.3,65.5,45.9,68.9,28.0,46.6,72.6,77.1,42.7,45.4,44.0,49.6,35.2,49.2,97.2,48.4,85.2,54.8,55.8,79.6,62.2,47.4,35.0,38.4,48.4,53.6,47.1,41.3,39.0,54.4,46.7,52.0,80.3,37.4,45.7,50.9,49.1,48.9,47.5,36.3,49.0,54.1,48.3,45.8,43.7,92.1,46.4,44.3,42.1,45.0,40.3,43.5,41.2,55.5,77.7,40.4,67.3,44.3,44.3,64.4,36.4,75.2,50.4,79.0,79.5,72.4,50.4,78.0,41.4,46.6,44.7,41.5,43.3,71.9,74.2,47.7,48.6,39.6,43.6,42.8,81.0,52.1,75.1,73.6,72.1,73.8,47.9,61.6,42.4,40.2,85.1,90.2,42.7,42.5,44.0,45.5,48.6,47.0,57.8,80.0,65.6,74.2,84.7,50.8,45.7,40.7,45.4,52.5,65.6,49.7,63.3,47.3,50.0,46.0,48.0,57.4,46.4,74.9,43.7,42.6,83.2,45.8,42.9,42.5,76.3,88.2,43.2,42.1,52.9,33.9,42.0,37.8,35.6,58.2,50.9,42.5,46.8,44.6,47.4,49.6,41.3,46.0,48.8,48.7,41.3,42.8,38.2,49.7,48.2,41.0,42.0,43.2,40.6,39.2,44.3,46.1,46.6,48.1,43.8,46.3,38.5,48.6,45.8,43.4,51.3,46.4,44.1,44.1,46.9,46.9,46.9,43.8,51.4,47.4,41.4,49.1,53.4,49.6,43.7,48.8,51.8,42.2,42.2,42.5,48.3,50.1,36.7,50.4,39.9,39.5,51.3,51.7,39.2,43.5,38.5,55.9,47.6,50.1,41.8,47.2,71.7,72.0,41.2,81.2,60.1,45.0,41.0,65.1,74.0,49.5,69.8,39.2,40.2,45.5,51.5,46.5,41.5,55.2,41.0,64.7,48.0,57.4,37.7,46.5,43.7,64.8,50.5,47.6,78.5,53.1,46.9,53.0,75.5,48.0,53.5,34.0,48.5,52.4,33.0,39.1,45.9,65.9,49.3,49.3,44.5,69.4,38.1,66.6,73.8,46.8,45.5,76.9,63.2,56.1,41.0,40.9,43.8,68.5,91.5,37.4,43.8,42.0,91.2,56.9,41.4,73.7,71.5,46.5,50.6,67.7,78.4,46.9,56.4,47.8,49.8,45.0,37.0,36.6,54.5,45.6,49.1,83.3,67.7,52.0,45.0,46.8,80.9,52.7,38.5,62.8,45.5,68.4,37.8,76.0,52.1,78.1,49.6,42.7,77.9,50.2,80.7,44.9,80.5,38.8,50.6,43.5,69.8,73.0,69.4,37.4,49.3,46.1,57.0,58.1,54.2,38.3,46.1,69.2,55.5,40.2,46.9,37.1,77.6,72.6,41.7,41.8,48.6,65.0,52.8,70.6,50.3,42.9,73.9,48.5,78.9,39.3,55.1,46.0,47.1,65.1,58.3,48.7,47.1,50.6,69.8,57.9,40.3,49.5,62.7,60.3,41.3,60.4,62.2,57.4,68.3,64.7,64.9,63.9,60.8,63.6,60.5,60.3,59.4,63.4,69.4,68.6,57.7,56.8,63.3,65.3,61.4,64.0,56.0,64.3,56.7,65.1,66.4,66.3,65.8,65.8,64.2,61.9,52.4,52.4,49.9,62.2,68.0,70.6,70.6,59.7,59.7,43.4,59.7,62.3,52.2,52.2,60.6,64.2,64.5,64.1,46.9,63.8,47.3,63.8,63.5,64.0,64.2,66.6,65.5,66.9,64.9,63.9,64.6,63.7,64.4,64.4,46.6,64.4,66.3,66.0,56.2,62.6,44.8,57.0,45.2,62.6,44.8,61.9,63.3,57.0,46.6,64.1,58.4,64.0,68.7,62.8,61.9,57.0,49.5,66.4,65.4,64.9,64.7,66.5,67.6,65.1,66.5,65.1,46.9,70.0,67.8,65.5,65.1,64.9,57.0,39.9,50.1,60.4,63.8,42.2,57.0,38.7,60.9,64.9,63.2,65.4,62.3,44.4,57.0,77.8,78.3,56.9,57.8,64.4,57.0,44.5,62.7,43.6,78.3,77.9,58.1,56.7,65.0,61.6,67.5,46.9,67.7,57.0,46.5,63.5,64.0,56.8,72.5,55.2,74.0,64.9,60.7,53.1,58.0,44.8,59.7,61.5,61.5,46.9,51.1,64.6,59.1,52.4,46.6,52.4,42.9,42.6,61.3,61.3,77.4,65.0,65.0,65.0,46.9,69.1,64.1,64.1,63.1,64.6,63.9,47.6,63.8,46.6,75.5,56.0,65.0,64.8,52.5,65.0,75.5,57.8,76.2,54.6,63.7,64.4,96.0,40.2,80.9,53.3,45.2,52.2,48.4,73.3,47.3,51.7,58.1,77.3,52.1,66.1,40.1,84.3,96.6,51.6,73.7,47.0,51.6,45.5,41.0,85.8,38.0,43.6,69.8,46.0,44.8,94.5,67.4,95.0,41.3,44.1,41.5,47.8,48.6,36.4,52.3,79.6,75.3,37.4,38.2,44.7,45.5,54.5,38.9,52.0,30.0,50.2,49.3,82.2,42.6,37.2,47.2,81.6,48.2,48.3,44.9,44.8,54.1,54.7,46.9,77.7,64.7,65.3,33.9,65.1,38.4,48.4,50.2,50.7,49.5,49.6,43.0,81.8,70.5,41.1,43.2,58.7,54.4,42.1,83.0,53.9,68.6,41.0,54.7,86.0,53.6,50.7,80.5,66.6,76.3,43.0,50.3,44.0,95.0,47.4,51.4,97.3,44.2,52.1,43.2,49.8,72.6,73.6,44.0,78.7,47.2,66.2,47.1,85.2,70.1,75.5,54.8,69.3,43.1,52.3,44.8,45.1,74.5,41.9,46.1,69.9,70.3,44.4,52.0,52.7,56.6,41.2,52.9,47.9,71.4,58.6,43.6,60.4,41.9,52.7,42.2,46.2,44.4,42.6,61.1,89.1,37.3,42.7,51.7,65.4,46.2,82.4,83.1,71.4,50.5,44.2,51.4,41.8,42.3,74.1,50.3,69.7,51.4,78.4,73.7,52.1,47.7,44.2,38.7,43.1,48.5,48.6,64.6,50.8,43.4,39.7,54.6,34.9,52.0,53.5,50.0,55.0,56.0,52.5,54.5,50.5,54.0,48.0,53.5,54.0,48.0,55.5,53.0,54.5,54.5,53.0,55.0,54.0,53.5,53.5,54.5,54.0,55.0,54.0,55.0,55.0,55.0,52.5,59.0,55.5,52.0,54.0,45.0,49.5,52.0,47.5,56.0,47.0,54.0,52.5,50.5,63.5,60.0,55.0,54.5,56.0,56.0,56.5,56.0,54.0,55.0,55.0,56.0,54.5,52.0,56.0,56.0,55.5,55.0,53.0,53.0,54.5,52.5,54.5,57.0,53.5,56.0,52.0,55.0,55.5,52.0,49.5,53.5,58.0,60.5,52.5,53.5,55.0,46.5,58.0,52.0,57.5,54.9,56.9,54.5,54.9,54.7,56.5,58.3,54.5,54.9,54.6,54.9,54.5,53.6,50.4,62.1,53.4,46.3,51.8,41.6,48.9,43.6,45.5,36.8,45.8,53.3,50.1,72.9,52.3,70.0,43.6,49.4,50.3,45.5,43.9,38.4,45.5,66.0,57.3,58.8,60.5,60.3,72.9,59.3,72.2,57.7,58.6,58.7,62.4,74.1,59.8,57.5,58.2,59.6,57.4,59.0,58.7,45.9,43.0,59.2,47.4,51.3,79.2,42.6,54.5,46.3,59.2,32.5,75.2,48.4,68.7,69.9,65.0,68.6,76.8,63.7,59.5,66.5,66.7,53.5,43.9,49.3,64.5,75.4,71.7,44.2,70.6,77.6,71.6,48.5,40.6,57.8,51.5,50.5,92.6,48.7,54.0,57.5,78.4,84.6,59.6,50.3,55.5,74.1,67.3,58.4,40.6,62.1,42.3,57.3,31.5,46.6,59.5,57.0,56.9,48.3,55.3,39.6,56.7,56.3,59.3,58.8,55.7,45.3,59.3,47.9,37.1,33.5,44.1,63.0,63.4,33.0,61.4,31.2,35.6,56.1,64.3,46.3,57.1,47.2,43.2,58.4,48.7,47.9,50.9,60.9,44.0,35.0,52.5,89.9,57.3,47.1,53.6,41.0,79.2,51.7,51.6,43.1,92.8,47.9,41.9,64.2,41.5,67.7,51.2,45.1,69.5,76.1,84.9,73.8,41.0,45.5,38.2,66.1,53.5,38.5,43.2,40.6,72.7,67.9,43.5,52.1,46.6,45.3,35.0,53.0,48.1,70.3,50.9,74.4,52.4,79.3,40.0,50.0,93.2,82.3,76.1,72.6,75.8,78.9,73.8,89.4,50.0,70.8,50.0,90.4,79.3,50.0,85.9,88.3,50.0,63.4,37.6,38.7,51.5,37.4,43.9,40.7,71.2,46.7,66.5,47.9,43.3,48.2,50.3,45.3,47.6,52.3,41.0,44.9,75.3,51.0,48.6,41.9,39.8,36.7,48.5,46.4,67.2,73.8,76.7,52.9,49.0,45.0,48.3,56.3,43.7,40.8,82.5,40.5,38.8,45.2,71.3,73.0,52.6,39.9,37.6,50.0,41.8,52.7,66.7,43.8,62.1,71.0,34.1,55.6,45.3,44.3,74.2,44.0,46.7,63.9,53.0,65.5,56.6,59.2,64.1,60.4,62.6,63.0,62.5,51.9,60.6,29.3,56.4,48.6,50.6,49.4,52.5,49.0,62.1,56.9,60.1,41.7,48.1,49.0,49.5,49.0,49.5,50.3,44.0,57.6,48.0,61.2,59.5,59.7,51.3,56.9,62.0,29.3,46.7,42.1,29.3,61.8,58.9,60.4,52.1,63.7,64.9,49.7,29.3,56.0,53.5,53.8,40.4,38.4,45.1,75.3,74.7,82.2,48.9,65.3,71.9,45.0,42.2,41.5,51.4,43.1,44.0,87.5,42.7,68.9,75.6,38.3,50.6,67.7,44.9,47.3,43.8,72.6,50.8,69.5,76.0,41.2,69.1,74.1,44.6,46.3,41.8,42.3,51.1,40.4,79.1,84.5,44.1,57.3,53.4,48.8,66.0,56.3,77.4,66.3,74.7,47.4,49.0,53.3,46.4,77.8,39.1,44.6,43.8,39.4,46.9,43.1,48.6,39.9,58.5,53.0,45.4,49.8,71.0,51.9,55.7,84.9,71.9,46.9,67.6,58.4,36.5,65.3,42.1,72.1,66.2,44.2,46.6,49.4,46.2,47.7,45.1,43.9,55.4,46.2,46.9,72.0,71.4,44.9,52.1,44.7,45.7,43.6,88.6,52.3,48.4,51.5,130.0,116.0,47.0,39.5,54.0,53.3,39.5,49.7,45.8,59.3,57.0,38.1,44.5,38.0,66.9,69.9,65.3,60.9,41.4,40.3,70.5,46.1,45.2,50.9,60.8,53.4,40.2,45.1,66.1,57.4,30.0,30.0,30.0,44.1,36.7,70.4,57.0,46.7,45.1,43.7,59.0,39.6,54.1,56.1,64.5,52.4,50.7,47.5,41.6,54.4,56.3,44.9,51.2,67.4,40.9,52.1,51.2,47.7,44.9,66.6,53.4,45.2,88.1,46.2,38.8,36.9,51.2,41.3,70.9,83.3,42.0,54.8,76.9,87.6,37.2,31.5,37.3,54.9,55.6,50.9,53.0,42.9,58.4,38.1,46.0,92.3,41.8,64.5,50.2,42.9,51.3,71.5,36.1,47.4,42.2,43.0,93.5,50.3,40.8,40.2,45.6,72.1,45.1,75.1,56.5,109.5,111.8,43.0,45.7,50.7,44.2,43.6,59.3,56.5,41.9,47.6,48.3,43.0,35.5,46.8,38.4,68.7,74.6,50.8,80.9,42.5,37.5,64.7,51.6,39.1,41.9,73.1,38.9,44.6,43.4,50.1,51.1,70.1,57.2,50.2,90.2,51.5,40.7,59.6,40.4,51.2,41.5,40.0,35.9,44.1,42.1,42.3,50.4,50.0,90.1,58.5,55.7,50.9,53.9,41.2,72.4,47.5,51.9,45.0,75.7,36.8,42.8,38.0,48.9,49.8,50.3,50.7,49.2,47.1,42.1,47.5,40.5,48.8,50.4,40.5,55.2,50.1,34.4,39.8,49.5,47.3,53.1,55.2,56.6,44.5,38.2,53.3,49.4,47.8,49.6,50.3,87.4,59.5,46.6,41.4,43.0,40.2,44.5,42.3,41.8,39.8,66.3,49.7,49.8,45.1,75.4,70.9,73.3,68.6,49.8,41.4,45.5,41.7,45.8,49.5,40.8,48.1,44.2,51.3,50.6,44.0,50.3,44.0,49.0,71.3,45.7,46.4,53.4,69.2,68.7,69.3,67.0,66.4,61.7,67.9,69.2,66.0,49.0,62.2,67.8,60.1,63.1,62.7,59.1,61.5,72.3,40.7,63.3,49.1,88.5,44.4,48.5,53.2,79.4,79.9,54.1,47.8,49.7,46.1,52.0,41.8,74.8,48.6,66.4,53.5,43.3,50.4,41.3,47.2,71.9,41.7,49.3,36.9,40.6,59.9,35.3,29.4,40.6,34.6,28.0,36.7,33.7,30.2,39.0,39.0,93.9,78.1,26.1,32.0,30.2,36.6,90.0,89.5,37.3,94.4,28.3,89.4,26.0,78.0,28.0,54.0,39.1,39.0,31.9,39.5,39.0,31.7,38.8,77.7,30.2,30.9,32.0,78.0,69.0,69.0,82.5,66.0,90.0,39.0,36.2,35.6,55.0,55.0,66.0,49.0,39.8,27.3,37.9,36.6,27.1,38.3,38.5,37.8,37.7,73.0,67.9,43.3,46.3,47.9,48.8,38.6,37.6,56.2,48.8,42.4,45.8,43.1,43.8,32.3,46.3,40.6,44.9,41.4,48.7,56.9,57.2,46.0,72.2,77.0,64.3,40.0,56.4,38.6,46.5,46.2,36.5,33.5,74.8,44.1,40.7,53.0,44.5,42.3,43.7,48.8,49.2,53.2,53.2,43.6,43.0,70.4,39.9,54.0,51.3,38.5,53.1,43.2,38.3,41.6,59.1,37.5,66.8,73.2,51.1,52.0,44.2,51.6,39.5,50.4,52.7,35.6,71.0,85.2,72.5,47.5,48.9,36.2,41.1,51.4,79.6,37.2,45.0,49.5,72.5,75.7,84.8,44.2,44.6,78.9,82.2,45.3,50.2,83.4,48.5,96.0,51.1,53.7,50.6,52.2,60.9,68.3,58.7,49.3,74.2,50.7,44.9,48.3,47.4,91.7,43.2,52.5,43.5,48.4,48.7,49.1,47.0,49.7,38.2,62.3,38.4,49.9,68.6,93.0,47.6,93.0,93.0,40.4,39.4,84.3,59.9,53.6,91.0,37.6,58.8,68.3,33.5,55.5,54.7,66.4,55.7,60.4,52.2,73.8,45.0,48.7,60.9,48.7,41.1,73.1,52.2,55.0,39.7,44.1,40.3,76.0,44.0,43.5,46.8,59.1,44.5,47.4,49.0,43.4,47.9,45.3,55.5,50.0,46.6,48.3,43.0,42.0,50.7,46.7,39.8,46.5,45.0,54.3,56.1,57.2,39.5,44.2,43.1,41.4,41.8,47.3,60.6,52.8,53.5,37.5,52.3,53.8,34.1,44.1,69.1,48.9,48.8,53.2,72.9,79.4,32.5,45.6,39.8,53.1,37.6,49.1,46.8,38.3,56.9,72.5,49.4,89.4,76.2,41.2,83.8,52.1,43.6,85.4,70.8,49.3,78.2,38.5,37.6,47.8,53.5,42.3,44.9,33.8,43.9,71.7,67.9,46.9,62.5,60.3,50.8,45.4,48.9,88.4,42.8,48.1,50.6,42.5,77.1,44.6,40.3,67.5,89.4,76.2,48.7,41.0,49.7,41.5,46.4,52.8,40.9,47.4,40.2,46.7,61.0,87.6,44.1,37.4,38.3,52.5,92.6,80.6,49.3,51.4,67.8,88.9,40.2,75.9,70.3,72.1,75.5,54.4,48.4,45.2,46.0,52.0,49.0,89.3,42.1,43.0,49.3,49.4,42.6,44.9,48.4,39.2,47.7,43.5,76.8,50.5,71.7,49.0,80.1,75.1,51.5,43.0,44.3,48.3,75.7,53.8,38.4,66.6,55.0,91.7,48.9,52.6,52.5,50.0,57.7,40.9,48.1,52.4,42.0,50.4,48.4,54.6,38.5,47.7,83.7,39.1,75.1,40.1,48.2,43.0,41.6,42.7,45.4,44.0,82.0,52.3,66.1,79.4,45.4,70.5,49.3,46.6,46.7,42.2,48.4,53.4,56.5,41.8,45.4,68.1,43.9,47.5,44.4,60.7,47.0,67.2,67.0,50.4,55.1,43.2,63.4,43.4,36.3,39.3,36.9,50.6,46.1,45.2,52.6,45.1,41.4,41.4,64.9,91.3,35.2,47.3,41.0,42.9,42.8,46.8,47.0,51.0,49.9,42.4,51.4,53.3,45.5,45.0,47.4,47.3,45.2,59.1,44.5,45.0,41.6,68.8,47.6,41.6,71.5,41.6,39.7,83.6,71.8,48.6,40.2,43.6,66.6,39.9,54.6,55.1,55.0,39.9,50.3,83.2,44.1,43.9,66.8,33.7,45.7,40.4,42.4,47.5,39.7,49.4,66.5,49.8,88.3,49.3,76.0,76.7,76.6,67.4,49.4,64.6,79.5,66.0,67.3,53.7,86.7,74.4,45.9,48.8,48.7,75.5,85.6,50.3,49.9,49.9,91.9,46.2,41.7,52.4,51.3,46.6,44.2,79.8,41.6,50.0,46.5,53.2,44.7,55.2,46.5,48.4,43.3,74.3,42.4,63.0,72.0,67.0,57.0,81.6,85.5,37.0,69.2,45.2,50.6,65.5,49.6,53.9,42.6,42.4,46.6,73.8,43.1,42.6,54.4,81.1,42.5,53.9,46.0,48.9,55.9,45.1,50.6,50.3,43.6,51.1,65.2,89.2,40.4,42.5,46.5,51.0,89.3,43.9,49.5,71.0,80.8,48.2,44.0,68.3,51.7,46.5,77.6,43.9,49.5,51.6,42.1,42.6,51.4,53.6,50.8,42.8,49.0,41.9,45.6,57.4,75.7,72.1,46.8,43.4,39.5,46.7,69.0,56.9,56.6,69.0,69.0,68.4,66.7,69.0,69.0,56.5,69.0,57.9,35.4,56.7,73.7,74.9,77.2,48.0,64.9,66.0,53.3,55.4,49.8,40.0,44.8,41.8,65.5,67.2,49.4,35.5,44.9,36.3,70.4,47.7,48.3,45.3,44.2,57.8,49.3,46.7,45.5,56.1,47.5,47.6,49.4,40.7,52.1,42.9,46.5,50.9,38.6,35.1,46.7,52.0,50.3,53.4,47.5,68.9,35.4,57.3,40.9,92.1,40.6,48.4,95.6,46.0,46.2,48.1,52.8,43.7,94.7,40.6,45.3,54.6,82.9,55.5,39.3,40.4,86.0,48.5,83.4,47.1,45.8,38.9,51.7,48.8,53.3,43.1,57.9,46.2,44.1,39.2,45.6,64.9,45.1,53.9,51.3,54.4,47.1,44.2,46.0,68.1,52.7,41.1,53.2,40.3,41.9,42.1,42.2,51.7,47.8,49.6,44.2,49.6,52.6,54.9,44.1,42.2,42.6,37.3,64.7,46.6,76.9,92.3,77.5,56.2,73.2,71.7,39.8,43.4,47.8,42.6,50.2,43.8,86.2,65.4,65.2,37.2,42.5,49.5,43.7,53.8,42.4,46.2,67.2,72.8,65.1,72.2,46.4,54.9,82.2,38.9,45.8,52.7,43.5,94.6,39.0,43.9,41.8,53.1,39.6,70.1,66.4,38.3,68.8,44.0,54.4,53.1,53.1,52.2,47.2,54.5,45.9,59.4,90.4,50.9,44.5,38.2,84.3,44.2,37.6,48.9,47.1,45.1,42.6,55.0,63.5,48.4,55.0,55.0,44.1,43.3,42.5,45.0,48.6,55.0,53.9,62.1,42.5,55.0,70.0,62.7,55.0,70.0,62.4,66.7,47.6,66.4,66.4,61.0,70.0,55.0,55.0,48.6,70.0,62.2,70.0,54.7,55.0,55.0,55.0,38.0,40.9,85.4,38.1,41.9,45.3,46.2,70.4,39.2,37.1,38.4,49.9,59.5,54.1,41.1,46.9,40.3,50.4,43.5,51.7,61.9,27.9,42.5,40.5,57.3,85.8,96.9,51.0,46.5,52.5,40.8,40.3,90.8,42.9,86.1,42.6,42.4,48.6,67.4,36.1,49.7,47.5,42.4,42.8,43.0,43.1,46.1,45.4,68.7,50.4,40.9,68.6,42.8,50.1,49.0,43.6,44.5,55.7,55.8,76.5,74.8,52.4,44.4,47.1,44.0,43.1,47.3,39.0,83.4,46.2,54.0,59.5,80.0,79.9,49.8,46.4,83.3,40.8,33.7,45.5,46.1,40.6,53.9,34.0,57.5,38.4,60.0,79.2,39.7,55.2,37.2,53.9,92.4,54.2,51.0,47.3,41.5,57.7,51.5,93.6,53.8,48.3,48.0,85.9,48.3,92.5,50.4,50.1,47.7,46.3,47.5,49.9,41.7,63.4,43.9,39.1,44.2,54.9,50.6,43.0,40.8,53.5,48.7,55.5,88.0,42.7,39.7,51.8,47.5,48.0,69.1,59.0,47.1,56.9,69.7,44.6,36.5,49.1,44.7,96.3,55.0,47.9,41.2,44.2,51.2,39.5,46.1,48.4,41.4,43.6,44.1,48.0,53.6,81.4,45.3,39.1,42.4,58.4,57.3,48.7,45.4,44.0,49.4,43.4,47.1,45.0,78.7,51.8,40.7,72.6,37.3,77.8,48.9,47.5,48.1,69.7,54.5,37.9,45.8,40.6,41.0,42.7,39.8,45.4,66.0,43.4,40.7,49.2,45.9,45.9,52.5,74.5,47.8,74.8,47.4,70.4,70.0,38.2,38.1,43.8,42.4,51.8,41.0,78.0,50.0,66.1,48.6,51.9,51.4,51.7,40.7,48.8,40.7,47.2,37.0,36.5,51.3,50.6,37.0,47.3,65.1,41.8,56.8,77.4,42.1,57.9,70.0,61.7,46.0,41.2,45.7,49.1,51.0,42.9,58.1,60.7,62.6,40.7,51.5,54.5,52.4,53.2,54.3,42.2,54.3,51.4,50.5,48.5,49.8,46.0,48.5,50.8,46.2,35.7,51.2,50.7,52.3,52.1,51.4,37.4,48.3,41.8,37.4,48.2,37.4,49.7,50.8,48.5,50.9,42.2,39.3,52.2,54.1,51.3,55.3,53.5,55.8,54.6,50.9,53.8,46.9,53.5,51.1,52.8,50.0,51.5,52.0,49.8,49.8,49.8,52.0,38.2,49.2,50.9,49.9,42.5,47.1,50.3,51.1,50.3,53.8,58.6,50.0,52.9,52.9,51.6,46.4,51.9,51.4,52.4,56.2,51.5,60.1,59.5,53.6,51.7,51.6,57.7,52.3,52.0,51.5,58.6,53.8,51.5,56.3,49.7,50.0,53.4,49.7,57.9,51.5,51.6,50.9,51.5,57.0,50.4,51.5,57.0,51.5,57.2,52.0,51.1,52.0,50.2,55.4,51.4,50.4,49.9,52.8,53.0,52.0,55.9,49.8,52.0,49.8,49.8,52.0,49.8,49.8,48.5,47.4,51.8,52.5,48.8,48.5,49.1,37.4,51.7,34.0,37.4,53.5,56.8,53.2,54.3,56.6,56.1,50.0,54.0,51.4,55.5,46.9,48.0,51.5,44.1,41.2,59.2,33.5,57.3,54.6,47.1,47.6,49.1,47.2,50.3,58.5,55.6,60.5,45.4,48.0,49.8,52.5,51.4,55.9,53.8,50.4,48.5,51.5,55.2,48.5,53.8,47.4,56.2,52.4,48.5,54.1,60.7,54.5,73.4,50.4,35.7,44.5,37.8,42.8,66.7,38.3,63.1,69.5,59.5,63.3,69.9,68.9,41.1,51.0,50.1,40.4,46.4,48.2,55.2,81.6,35.6,63.2,66.8,51.7,73.9,37.2,53.3,37.8,42.2,70.4,50.2,50.8,48.4,44.9,45.1,57.3,50.6,79.3,53.2,79.8,89.3,49.9,67.8,47.0,55.5,74.8,51.7,67.1,45.7,70.0,62.7,38.4,79.6,53.6,41.9,69.7,54.7,86.2,44.1,36.4,84.4,42.2,60.8,39.9,51.3,38.3,37.7,39.0,64.7,42.5,47.9,45.0,43.0,57.2,40.8,38.9,92.4,44.3,51.9,44.5,37.4,79.3,42.2,42.3,39.5,80.6,51.0,38.9,51.9,47.6,50.2,65.4,53.8,40.8,42.0,45.5,43.1,74.4,43.5,68.9,41.1,39.8,49.9,44.1,86.7,50.1,70.7,39.2,78.0,90.2,54.9,36.5,43.2,42.8,46.7,75.2,52.3,46.1,66.3,56.4,45.8,43.4,40.1,51.8,51.7,46.8,41.2,79.3,46.5,50.1,47.8,66.7,42.1,39.5,37.3,39.4,52.4,40.8,46.5,38.8,37.5,42.0,49.8,34.1,47.5,40.6,52.1,53.7,37.3,41.1,37.0,57.8,47.2,54.6,46.2,86.3,88.3,37.3,37.7,44.5,49.7,46.0,88.5,40.9,40.3,41.1,41.5,42.7,42.0,40.9,40.8,41.6,40.0,44.7,40.5,40.7,39.3,40.6,39.2,41.4,43.6,39.8,40.6,41.2,42.7,39.0,47.3,47.0,46.1,49.8,49.2,58.7,42.5,34.8,36.9,54.9,49.1,52.8,41.1,38.3,46.2,36.2,46.3,49.9,45.6,41.8,42.2,46.7,45.3,59.6,50.3,38.8,50.1,54.5,38.7,45.7,52.5,44.6,49.8,50.8,51.0,50.9,42.3,46.4,42.0,44.5,50.3,52.3,37.6,47.1,52.8,49.6,41.4,50.3,78.9,43.1,40.2,53.1,39.4,47.9,43.5,53.5,47.1,35.7,40.4,48.6,45.8,46.4,50.0,42.3,36.1,38.8,42.3,49.1,41.8,53.9,54.8,70.8,47.1,39.0,89.4,59.6,39.6,39.3,50.3,48.8,47.0,39.9,42.4,40.4,50.6,41.2,43.5,79.5,40.0,50.6,36.8,62.4,49.3,86.1,39.1,51.2,50.3,55.5,46.6,50.1,46.5,80.9,80.9,70.0,69.6,69.6,70.0,78.3,55.1,85.4,52.3,59.7,44.9,50.0,54.9,39.3,81.6,82.4,82.9,79.5,76.0,80.8,26.7,49.4,44.8,37.8,76.0,83.5,50.3,35.1,53.7,54.6,42.1,80.9,55.3,49.3,53.7,39.5,48.9,52.7,52.4,41.4,47.1,56.8,34.5,53.2,48.3,41.0,44.6,96.2,37.4,59.3,49.6,38.3,52.7,44.9,43.9,53.6,37.0,45.1,39.2,39.7,48.8,40.5,50.8,52.8,44.3,35.5,47.9,51.3,39.2,50.5,47.0,47.2,50.8,49.3,43.6,50.9,45.6,45.2,43.9,53.2,44.9,43.5,47.3,47.6,35.9,42.1,52.2,49.8,51.9,46.9,45.8,51.0,44.7,44.3,51.4,38.4,55.7,31.0,47.0,50.3,53.0,34.0,45.9,53.7,49.7,45.5,49.6,55.1,50.6,40.1,39.3,56.8,37.1,54.6,44.0,31.3,48.0,85.0,63.3,48.3,48.6,45.6,53.1,43.2,50.5,39.7,56.5,45.5,42.0,42.7,40.4,64.8,49.8,81.4,48.4,40.6,38.7,48.8,44.6,42.8,47.1,46.7,45.4,56.6,43.9,51.4,38.0,45.0,40.1,49.0,52.8,44.0,37.5,44.6,53.2,37.5,35.9,47.0,41.0,52.0,50.0,85.9,88.9,79.5,95.6,79.5,88.9,79.8,103.0,85.3,90.7,90.7,57.4,94.9,68.2,88.9,56.4,52.6,37.9,50.0,46.0,40.9,59.2,50.9,43.4,37.0,53.8,41.7,40.6,36.1,37.2,34.0,49.7,46.2,46.7,42.9,51.5,31.8,37.9,52.1,55.0,46.6,53.5,41.6,37.8,43.6,40.7,46.4,44.0,63.7,42.4,43.9,48.5,37.0,37.7,43.6,53.1,46.1,92.3,44.4,45.3,40.6,52.1,47.4,52.6,41.0,88.6,53.3,36.2,47.0,43.3,38.7,47.3,40.0,40.2,48.9,77.1,44.4,84.7,69.8,45.9,58.1,68.3,67.7,55.7,87.2,76.1,50.2,47.5,34.9,39.6,42.6,40.5,47.1,45.7,41.9,49.6,51.5,50.6,36.6,38.3,49.7,41.8,86.5,50.7,49.5,36.9,37.0,92.6,39.6,82.5,36.2,49.2,48.4,41.9,41.7,43.9,45.9,33.3,46.0,36.8,45.4,46.5,52.5,50.6,45.9,38.0,39.5,90.9,38.6,55.2,47.2,44.8,41.1,46.8,40.4,46.9,36.4,42.8,36.6,51.0,49.0,70.0,49.0,41.7,43.3,52.9,43.7,51.0,55.0,45.5,39.5,50.7,50.4,52.1,60.7,50.9,40.0,50.1,48.9,51.1,52.5,51.2,48.9,49.4,49.7,49.9,51.5,41.6,30.0,29.2,37.6,38.0,39.0,47.9,40.2,31.2,39.9,51.0,48.8,48.8,48.5,48.4,46.3,47.3,47.3,51.2,50.3,50.7,49.1,53.8,55.2,48.9,47.2,40.0,39.0,41.7,42.4,45.2,47.0,55.9,54.0,57.2,56.7,49.6,50.6,53.5,52.4,49.7,48.5,53.3,52.2,51.8,52.8,52.3,53.3,51.5,52.2,50.4,50.5,52.1,53.5,51.7,53.5,52.8,50.9,40.3,41.0,52.1,31.4,30.0,45.7,44.9,48.1,49.5,52.6,53.2,36.9,37.1,45.0,44.5,50.5,49.8,35.2,34.8,47.7,48.3,51.4,50.7,36.0,37.1,39.2,40.6,43.7,44.7,46.9,47.3,42.2,36.3,41.2,42.2,42.4,55.3,28.9,59.8,50.8,59.8,40.1,38.8,46.4,47.3,50.2,36.1,34.4,48.5,43.4,53.4,52.5,51.1,51.7,50.2,51.8,53.5,54.6,50.6,49.2,49.2,50.6,51.4,53.3,52.3,52.0,43.6,44.5,40.3,46.6,45.5,38.6,39.2,46.4,44.9,41.7,42.0,37.5,39.1,43.5,42.4,41.9,37.9,42.8,42.6,52.3,53.9,53.5,52.0,53.6,52.2,51.7,53.3,53.8,52.2,51.3,53.2,53.6,52.9,54.4,55.6,47.4,48.4,47.7,51.8,49.9,50.7,52.5,52.4,51.5,57.9,55.7,49.7,48.9,50.1,51.3,47.5,46.3,45.3,39.1,41.8,51.4,52.6,50.4,52.1,53.5,51.2,53.1,38.6,49.5,49.2,56.2,56.5,56.4,55.3,46.9,52.8,51.7,48.2,47.3,51.2,50.2,46.4,45.8,46.4,37.6,39.7,29.7,40.7,33.5,30.3,50.6,28.9,58.4,54.3,58.2,58.7,53.4,54.6,31.2,49.7,31.5,43.8,38.5,38.3,43.9,38.9,47.5,47.4,48.8,36.8,50.0,40.5,46.1,48.0,46.3,46.3,59.5,43.1,55.0,54.9,53.9,49.4,52.4,51.6,52.4,52.2,47.2,40.0,52.2,54.0,55.4,57.2,55.3,53.3,51.3,49.1,48.1,48.5,45.7,40.0,52.4,51.1,39.7,88.9,84.9,50.4,45.4,52.0,49.4,52.0,44.2,51.9,48.7,41.9,43.7,70.8,86.2,96.5,46.4,44.2,48.5,37.8,47.8,94.3,50.6,43.5,52.7,37.5,53.2,84.8,80.0,55.1,41.1,64.6,50.1,51.5,42.4,50.0,53.0,53.3,49.4,46.6,49.6,47.0,39.1,49.7,50.2,47.1,45.5,45.6,54.7,50.8,45.7,48.9,44.8,47.6,71.9,49.0,48.6,44.1,47.7,52.9,42.0,51.0,51.6,53.9,50.2,45.4,61.9,48.4,49.1,49.6,55.3,49.4,52.9,58.7,57.6,41.0,55.3,51.3,49.9,54.2,51.7,44.3,56.4,38.7,45.8,71.5,38.4,85.9,40.1,52.0,55.5,48.4,68.0,46.9,49.3,51.6,50.7,88.0,46.1,53.7,48.2,41.6,55.7,41.0,40.9,49.3,47.6,37.6,48.1,38.4,48.0,64.4,50.9,48.2,74.5,46.0,48.4,51.4,42.7,55.6,69.9,42.3,55.1,50.4,45.9,44.9,44.5,42.2,48.4,70.6,55.3,41.1,77.8,47.0,46.9,48.9,44.8,39.3,52.1,43.4,58.5,80.6,51.7,54.2,67.7,40.3,41.0,36.8,49.3,42.3,44.4,44.8,64.3,48.8,43.6,55.3,49.0,60.3,49.7,52.2,37.6,42.0,52.4,51.2,53.0,43.0,47.6,40.8,45.5,48.0,45.9,47.5,48.3,42.7,28.8,32.5,44.5,46.7,44.5,44.1,44.9,27.3,37.5,35.4,49.0,51.5,49.2,48.1,51.0,27.9,40.5,44.1,44.6,34.5,33.0,47.0,50.1,51.0,49.7,58.8,64.9,76.6,49.7,56.0,58.5,66.5,64.2,51.0,52.2,52.2,53.0,47.2,40.6,55.7,56.3,62.1,51.3,49.8,37.2,53.8,56.9,50.1,43.9,49.4,48.0,45.0,67.1,60.5,47.2,51.0,64.4,70.8,40.2,47.6,46.9,58.7,55.6,47.3,41.4,47.6,45.1,41.7,56.9,56.2,79.6,53.3,44.2,44.0,36.1,44.6,43.6,41.3,41.0,56.4,46.7,47.5,50.3,44.8,50.2,49.1,53.4,48.6,44.3,36.6,41.2,52.5,51.8,43.0,37.0,41.7,56.0,74.5,53.1,44.7,47.5,51.3,43.3,50.4,55.1,45.8,42.2,45.1,39.4,44.4,41.3,50.7,74.1,46.5,41.1,44.0,50.2,71.6,48.9,50.9,37.7,47.3,43.7,55.8,42.8,47.6,51.2,47.6,38.5,49.6,46.6,45.5,53.0,49.9,58.8,55.1,60.0,58.9,67.9,69.2,73.0,71.5,60.9,56.2,56.0,44.6,51.7,56.2,56.0,56.2,56.0,51.0,56.0,55.1,56.2,56.2,56.0,54.3,45.5,56.0,56.2,55.1,56.0,56.2,52.1,56.0,56.2,56.0,56.2,55.1,56.0,56.2,62.5,53.0,56.2,56.0,56.2,52.1,56.2,56.0,56.2,52.9,56.0,56.0,56.2,50.8,56.2,66.9,56.2,56.0,56.0,53.5,56.2,56.2,58.1,56.0,47.5,56.0,56.2,56.2,55.2,56.0,50.1,56.0,56.2,56.2,43.7,56.0,57.0,31.4,51.7,56.2,56.0,74.2,56.2,56.0,56.5,56.8,69.5,67.7,56.8,60.5,51.4,48.8,43.3,46.0,56.1,42.2,37.7,49.2,66.7,38.9,47.4,79.3,37.8,53.5,68.5,44.0,51.5,42.5,58.4,71.7,48.7,54.0,46.3,74.0,45.3,48.9,78.4,46.2,44.1,59.6,38.7,66.0,57.3,87.2,48.8,38.0,44.9,47.7,44.5,43.0,42.6,41.6,35.6,36.9,39.9,42.1,52.6,58.8,51.7,52.1,44.0,46.6,54.0,56.9,61.2,54.3,56.6,45.4,45.6,45.3,56.0,55.9,48.8,49.6,29.7,46.0,31.5,38.0,46.3,46.9,35.6,43.3,34.6,40.2,41.4,42.3,46.3,29.6,38.0,55.9,37.0,37.2,65.0,53.4,54.3,52.0,52.7,52.0,52.4,52.0,33.6,45.8,56.7,56.7,50.4,48.3,51.2,59.0,47.5,70.2,47.6,40.3,38.1,53.3,38.1,62.9,48.1,70.9,62.8,49.5,41.2,47.9,36.6,49.0,43.0,42.2,48.0,47.8,40.5,48.6,54.6,50.9,41.4,42.7,40.3,49.6,47.9,45.7,47.5,45.8,49.4,42.1,66.7,47.6,44.6,75.1,47.8,62.2,55.3,50.4,52.6,88.0,41.9,65.0,64.7,53.3,64.7,54.4,40.8,62.4,52.3,36.7,50.7,53.3,56.2,35.4,64.5,53.1,49.7,38.4,37.3,38.1,49.4,47.1,75.5,45.1,76.8,45.8,45.7,43.2,54.8,42.1,47.1,32.8,48.5,48.1,89.9,42.2,56.2,44.6,39.9,40.5,76.1,41.3,48.7,57.4,47.0,72.9,78.9,75.3,44.9,69.6,50.9,50.6,37.8,59.0,49.9,41.5,33.1,39.3,54.5,44.3,63.9,71.6,63.4,76.9,42.8,45.5,42.7,43.6,40.6,69.3,37.9,46.6,51.6,43.1,72.8,43.2,45.9,43.3,68.3,68.9,49.1,36.1,43.2,49.5,40.5,75.1,53.9,41.6,70.6,49.4,36.8,51.7,50.5,39.0,45.2,76.8,65.9,85.8,67.9,49.2,49.2,40.9,50.3,53.4,41.9,41.8,52.9,39.2,37.7,47.3,74.0,34.1,61.7,43.2,52.2,37.9,37.9,47.2,43.0,71.0,43.6,40.3,35.1,48.7,57.5,40.8,66.8,56.6,77.7,40.3,51.3,46.8,46.1,42.8,43.8,46.2,41.4,39.5,46.7,47.0,45.3,50.1,44.7,41.8,50.0,47.8,50.1,38.0,50.9,44.6,69.9,86.1,50.1,76.7,34.7,34.7,53.3,58.9,48.1,48.9,43.4,49.9,48.2,46.9,51.1,50.1,53.7,65.3,42.3,51.1,67.7,49.0,53.4,48.4,48.0,72.5,57.5,55.4,36.6,44.0,53.2,69.2,50.7,79.2,72.4,44.2,71.6,44.7,50.9,47.7,44.5,30.1,48.6,57.4,43.3,50.5,67.4,37.5,45.6,89.0,53.8,73.2,48.8,75.8,69.3,52.3,44.2,47.5,42.4,51.1,44.1,47.0,47.1,57.7,48.9,55.4,40.3,46.0,51.7,50.1,48.3,41.6,44.2,50.6,37.8,45.9,40.9,55.0,40.7,48.4,55.8,50.9,43.9,61.2,43.6,42.1,60.8,46.0,43.8,62.1,41.1,33.9,43.6,59.0,69.1,65.0,65.1,61.7,49.4,67.8,58.8,58.9,43.3,64.3,64.4,65.0,66.5,63.5,66.5,44.0,41.6,46.5,52.0,44.0,43.5,66.6,61.6,39.4,56.5,41.1,51.5,67.9,67.6,40.6,50.1,53.9,49.8,62.4,51.0,62.3,62.0,39.2,53.0,62.7,52.8,63.1,66.1,63.5,65.0,66.3,62.1,48.7,59.1,52.0,49.4,38.4,52.9,45.1,50.9,53.3,63.2,52.8,52.0,51.3,52.0,51.4,51.7,52.0,51.9,52.0,52.0,50.1,51.8,52.0,52.0,52.6,52.2,52.0,52.8,52.0,52.0,52.6,51.3,52.0,41.4,52.0,52.4,52.0,52.0,52.4,56.9,62.2,53.1,55.8,58.9,43.2,43.3,54.7,59.5,50.8,56.9,49.9,41.6,56.9,50.7,60.5,45.9,38.3,61.1,32.8,40.2,63.1,41.3,44.0,63.0,52.0,59.0,30.9,37.9,52.0,63.0,59.9,33.7,63.0,58.9,52.0,63.0,38.9,52.0,60.2,63.0,52.0,38.4,62.6,45.8,35.1,63.0,62.6,38.3,55.2,46.0,44.0,48.0,50.9,55.6,63.0,25.6,44.0,47.0,47.9,40.5,65.6,47.0,65.6,40.5,47.0,61.8,31.3,61.9,65.0,64.7,36.3,62.0,63.0,38.3,54.8,40.0,40.6,41.0,65.0,40.0,62.0,62.0,40.0,40.0,40.0,48.3,46.8,61.0,64.7,59.0,47.0,62.7,60.1,63.0,34.4,57.9,42.0,46.7,44.0,27.7,59.4,57.7,45.0,37.6,27.1,41.2,29.6,58.0,43.2,30.9,33.4,37.5,51.0,53.6,36.1,53.5,36.1,36.1,53.7,64.2,50.7,58.5,44.9,61.2,65.0,47.8,58.2,41.0,61.6,65.0,57.1,37.8,45.0,54.9,63.2,59.2,49.2,62.6,60.9,36.8,45.1,64.0,62.2,42.0,57.8,54.1,38.5,64.7,54.1,39.9,63.3,34.8,62.4,41.7,43.4,62.6,65.0,44.6,60.1,66.1,41.2,53.4,62.0,63.9,51.0,38.7,39.4,39.5,62.0,62.7,48.0,62.6,62.4,56.3,47.0,65.0,60.3,58.3,62.3,65.0,49.4,63.3,42.3,49.0,65.3,65.0,65.9,63.2,52.0,51.2,66.8,63.3,66.8,65.3,52.0,38.7,39.2,66.7,52.1,52.0,40.7,56.7,54.3,67.7,67.9,52.0,55.3,68.3,61.1,65.0,56.5,67.9,70.7,39.6,56.3,39.6,62.4,51.1,52.0,33.4,50.3,47.5,66.6,65.0,61.4,64.4,66.4,40.0,53.5,51.1,52.0,46.9,53.4,42.5,59.2,42.5,59.1,48.4,52.0,50.9,51.0,52.0,65.8,66.9,41.4,64.5,41.9,41.4,41.4,41.8,41.2,67.4,54.1,52.0,42.0,53.7,53.3,53.6,51.3,53.5,53.3,53.4,53.0,51.0,52.8,41.1,69.8,69.5,70.1,42.9,52.0,28.9,49.6,44.0,36.7,51.3,64.8,40.7,33.8,64.4,50.2,46.9,58.8,35.9,36.9,67.5,54.4,67.5,40.7,39.4,66.8,63.0,64.5,62.0,63.1,37.2,51.0,58.8,51.1,46.9,65.1,56.4,40.7,56.3,44.2,65.0,49.5,59.8,49.0,65.0,50.0,65.2,61.0,65.2,57.5,65.0,52.1,65.0,55.3,57.0,41.5,63.2,66.1,65.0,66.0,61.3,65.0,63.9,65.0,64.3,65.0,49.5,59.8,65.0,47.5,39.5,55.6,58.4,55.6,39.5,55.6,64.1,51.5,58.8,41.6,36.8,58.6,42.9,46.6,36.6,37.1,32.0,37.8,45.1,36.2,32.0,32.8,37.8,34.1,51.3,31.0,57.0,61.5,40.6,45.1,37.0,40.3,36.9,46.3,39.5,37.1,64.8,61.7,43.8,60.0,36.0,45.1,50.3,58.3,65.0,64.4,66.0,65.7,62.7,65.0,52.4,49.4,63.7,63.3,65.0,60.4,45.7,65.0,66.1,32.3,59.0,42.6,50.0,47.4,46.3,34.0,26.4,36.3,51.1,64.3,48.7,49.4,49.1,62.1,60.1,46.2,60.1,38.5,50.2,46.6,54.0,51.5,63.2,65.4,63.5,71.6,67.6,56.0,56.2,55.2,64.5,38.6,44.1,47.0,46.0,60.8,60.8,64.4,63.4,64.0,60.6,49.8,59.7,65.0,58.3,45.2,49.1,31.3,35.6,37.8,42.4,44.1,38.6,39.3,42.5,32.4,42.3,64.9,49.0,51.0,65.0,65.2,62.4,65.3,51.0,39.2,62.0,58.7,63.3,30.7,40.0,63.0,62.0,41.0,41.0,60.4,42.7,66.8,54.5,42.7,49.4,67.8,42.7,66.8,50.6,61.6,63.4,63.0,39.3,53.3,46.9,62.1,50.8,50.3,56.3,28.3,63.0,62.6,26.8,64.7,64.6,42.2,65.0,59.0,63.0,52.0,31.0,65.0,55.2,67.6,67.8,66.0,69.0,63.0,64.7,50.0,51.7,52.0,52.0,52.0,52.0,51.8,52.2,52.0,40.5,42.8,53.0,38.8,44.9,47.9,54.2,51.4,41.6,44.1,44.2,65.9,65.0,63.3,49.8,52.4,43.1,67.2,54.5,36.4,60.0,55.0,55.2,65.0,66.5,63.8,68.2,66.7,67.3,59.4,70.8,65.2,65.0,70.6,64.5,65.0,51.3,37.8,30.7,71.6,42.3,39.5,41.6,41.9,62.0,65.8,45.8,52.7,46.5,45.6,47.4,41.8,46.7,50.8,47.0,48.5,49.7,64.8,69.2,45.9,68.0,48.2,42.9,41.3,65.4,51.0,51.7,37.1,68.5,42.8,37.5,44.4,42.7,49.5,51.5,44.6,33.5,65.1,44.7,41.2,37.5,53.2,40.2,49.1,50.3,64.5,46.4,50.5,70.1,49.2,37.7,43.9,45.8,85.6,45.0,71.7,48.0,48.6,44.0,53.7,48.1,95.6,47.9,75.2,71.7,45.4,43.3,44.0,37.0,43.7,53.1,43.1,48.7,44.6,47.8,74.6,51.6,54.9,50.4,73.4,39.1,38.2,50.5,54.2,40.1,42.6,38.6,52.3,50.6,53.2,44.8,33.4,46.0,45.8,41.8,70.2,46.9,38.5,43.4,37.8,48.5,47.8,53.0,48.1,45.2,39.1,48.4,52.9,44.7,48.3,41.8,40.4,56.1,42.3,48.4,70.5,75.0,49.2,65.8,49.0,44.1,49.7,51.8,39.5,54.0,55.7,61.6,63.5,60.1,59.6,63.9,63.3,61.7,61.5,65.8,59.6,58.4,48.6,70.4,41.2,62.4,42.3,51.1,42.6,52.9,46.5,38.6,44.2,49.4,54.0,44.6,49.0,47.6,46.6,41.8,47.3,36.6,85.6,48.1,48.5,96.5,51.2,51.1,63.8,49.9,90.6,53.4,55.5,41.4,67.2,48.9,56.4,65.6,44.9,51.6,45.1,52.3,46.1,50.0,39.9,38.9,41.1,42.2,40.4,37.4,44.5,63.7,51.0,75.8,38.6,42.4,56.0,46.0,35.8,39.1,41.6,42.0,44.2,52.7,48.0,43.4,48.6,57.1,87.9,35.9,56.1,39.6,46.9,33.8,52.6,50.9,50.6,50.1,54.6,50.2,45.6,48.1,77.1,46.3,83.5,53.1,43.6,45.8,41.7,74.2,41.4,62.4,41.0,53.3,68.6,63.8,56.0,58.2,60.1,54.2,52.5,58.9,57.4,54.0,52.9,53.9,58.2,57.2,57.8,60.7,57.3,61.2,51.7,53.3,49.4,51.5,46.0,48.0,51.3,51.2,58.9,58.2,56.0,46.6,45.4,53.9,67.9,37.2,55.2,42.0,55.3,44.2,44.9,73.9,81.1,52.8,52.7,41.7,74.6,59.9,41.7,46.2,53.7,45.8,36.4,38.0,55.9,47.7,44.2,37.2,74.5,39.4,74.4,53.8,40.9,53.9,66.9,41.5,50.8,49.3,53.2,39.9,46.9,47.1,43.9,45.7,76.7,43.5,48.8,40.3,45.2,56.3,47.8,49.6,50.6,43.1,42.3,47.7,55.2,53.7,54.6,47.0,45.4,32.7,63.9,43.9,46.0,44.4,53.0,53.9,64.7,49.3,52.2,41.4,45.2,39.4,46.6,47.1,26.8,46.2,37.0,39.3,42.2,50.1,45.1,46.7,67.0,53.9,48.5,44.6,43.8,46.9,44.1,52.7,58.7,32.4,50.4,47.2,44.2,41.6,52.3,40.7,40.2,31.7,40.2,79.8,39.9,96.5,43.1,50.0,54.4,64.4,52.9,74.4,55.3,47.1,47.4,43.1,40.7,53.1,37.4,53.7,41.6,45.6,41.8,45.4,64.4,52.3,52.0,51.2,52.5,55.5,47.7,56.3,53.3,51.5,51.0,51.0,44.3,49.2,53.2,41.9,41.6,48.3,52.0,71.7,60.9,40.7,37.8,62.5,64.0,63.5,62.0,61.5,62.0,62.5,62.5,61.5,59.5,63.0,69.0,63.0,63.5,63.0,64.0,68.0,61.0,70.0,61.5,60.5,63.0,61.0,60.5,61.5,66.5,61.5,60.5,63.0,64.5,62.0,61.0,66.0,62.0,60.7,60.5,61.5,62.5,59.5,62.0,61.5,62.5,62.5,60.0,60.0,61.5,61.0,62.5,62.5,62.5,62.0,58.0,61.5,59.0,62.5,61.0,61.5,62.0,62.5,62.0,66.0,60.5,59.5,62.0,61.5,61.0,62.8,61.7,62.3,61.2,61.2,61.5,62.0,61.5,62.0,61.5,61.5,61.5,62.5,61.5,62.0,61.5,62.0,62.0,62.5,62.5,63.0,63.5,61.5,62.0,62.0,62.0,62.0,61.0,60.5,61.5,62.0,62.0,62.0,62.0,61.5,62.0,62.0,60.5,61.0,61.0,61.0,61.5,61.0,60.0,62.0,61.0,62.5,62.5,62.5,62.0,62.0,62.5,62.0,62.0,60.5,62.0,61.7,62.0,61.5,60.5,62.0,61.5,63.5,62.0,62.5,62.5,62.5,59.0,60.0,59.0,61.5,61.5,58.5,61.0,61.5,61.5,62.0,62.0,62.5,56.0,61.0,62.0,62.0,62.0,62.0,62.5,62.0,61.8,62.5,61.2,61.5,63.0,61.5,62.5,61.5,62.5,62.0,61.5,62.5,62.5,54.5,60.5,59.0,61.5,65.5,71.0,60.0,62.5,62.0,62.5,62.0,61.5,60.5,60.5,57.5,61.0,62.0,60.0,66.5,65.5,62.5,65.5,66.0,66.0,61.5,67.5,66.0,61.5,61.0,62.5,60.5,62.0,61.5,60.5,62.0,63.5,61.5,64.0,61.5,61.5,62.5,62.0,62.0,62.0,62.5,39.5,54.4,50.3,45.9,41.1,76.9,70.7,42.0,67.9,42.7,38.9,66.3,47.9,54.4,66.6,50.5,53.5,43.6,47.9,37.1,46.2,33.9,75.0,50.8,44.5,61.4,76.5,44.4,78.3,68.6,65.2,35.6,41.2,50.7,64.3,44.2,41.9,66.2,37.6,37.4,47.3,36.7,39.8,37.7,40.8,54.4,53.8,48.9,57.7,61.8,38.7,46.5,37.5,49.3,42.1,40.9,57.7,48.9,60.0,44.7,40.2,76.7,39.9,75.2,49.3,47.5,53.0,59.2,42.5,38.2,50.7,39.8,42.4,41.9,57.0,36.9,79.0,47.4,47.3,39.1,34.9,53.3,60.1,80.8,46.8,43.6,48.7,56.6,41.3,54.2,46.9,36.6,68.8,43.1,54.0,37.6,48.1,50.2,51.7,46.7,45.5,46.5,44.2,41.8,47.1,37.7,49.1,53.5,76.7,41.1,37.2,90.1,62.2,38.8,51.0,45.2,46.0,46.0,41.4,69.1,54.5,48.6,46.2,41.8,37.2,43.5,49.7,36.5,51.4,43.9,49.1,54.5,49.0,46.4,52.3,40.7,42.4,47.9,33.5,43.1,51.2,39.4,51.0,41.2,61.4,45.3,49.5,48.0,30.0,59.6,49.2,42.0,50.4,49.5,71.2,44.3,49.2,35.8,49.0,30.3,39.8,58.7,48.6,47.9,44.1,46.6,68.9,78.7,43.7,44.6,37.0,57.0,44.0,38.0,47.9,65.0,52.2,50.4,38.0,35.2,43.7,41.9,45.2,45.3,74.9,45.5,38.2,49.0,48.2,47.2,45.4,37.9,52.1,51.8,56.3,53.6,45.1,42.8,68.9,72.7,48.1,71.9,38.3,50.4,39.8,63.5,39.8,53.3,51.7,65.0,39.5,69.1,46.0,54.0,47.8,80.7,73.9,90.1,74.2,37.1,39.5,41.7,89.8,43.5,63.2,50.2,49.8,71.6,53.7,49.7,50.0,43.4,70.6,70.2,41.1,61.5,53.7,41.8,54.0,64.5,44.5,54.5,40.7,78.7,43.1,44.6,76.4,48.4,48.5,49.2,44.8,70.4,56.7,25.5,39.3,49.5,49.0,57.8,80.5,51.5,71.9,69.2,70.8,45.9,55.8,44.7,32.4,58.8,53.3,39.5,74.7,41.9,39.1,37.9,37.4,44.3,45.3,39.1,69.2,50.0,48.6,58.7,70.3,40.4,40.7,41.2,36.7,52.8,42.7,53.1,50.7,53.2,41.9,41.9,38.0,49.9,42.5,46.0,47.5,40.6,40.6,50.8,36.3,35.4,84.6,41.1,42.5,46.6,47.4,50.9,50.5,44.9,48.3,61.0,90.0,55.1,53.6,90.8,43.3,48.3,48.4,52.1,41.0,43.3,39.9,49.2,48.2,57.5,48.7,50.0,43.7,50.3,37.6,81.5,48.1,47.8,84.9,36.5,66.6,46.7,52.1,49.3,48.2,50.4,48.8,49.5,46.6,46.4,41.1,44.7,47.8,52.3,50.3,51.4,48.8,51.8,49.1,43.3,56.1,48.3,67.8,38.0,47.3,39.7,43.7,47.5,47.6,43.4,40.3,77.9,38.1,39.9,42.5,48.5,49.1,37.3,42.1,46.7,73.7,49.1,41.7,36.0,39.4,48.2,52.3,54.4,46.9,49.7,57.3,48.9,54.2,51.2,80.4,71.7,52.7,48.0,86.6,48.4,49.8,47.8,49.6,46.5,45.6,41.2,41.0,47.3,84.0,39.4,56.8,41.9,38.3,45.2,44.1,52.4,42.0,47.3,53.7,51.2,46.7,47.4,46.5,45.5,67.3,36.5,39.0,71.0,68.4,36.5,82.0,41.9,50.8,37.6,44.4,53.5,36.1,40.5,52.4,53.2,36.3,36.0,51.5,39.2,45.5,53.2,39.9,38.3,60.9,53.3,48.8,77.1,38.8,36.3,53.0,87.3,43.0,50.5,42.7,49.9,37.2,37.0,75.3,44.9,70.1,41.8,48.7,61.2,53.0,54.2,39.5,56.2,38.3,43.2,60.0,46.5,52.7,50.2,49.5,54.1,44.7,48.0,49.9,45.4,49.9,47.9,43.7,40.2,50.4,40.6,45.1,41.1,48.3,41.5,50.5,38.5,60.9,56.2,40.4,51.9,46.3,47.3,46.3,56.6,36.0,44.4,96.5,49.9,52.6,49.6,62.9,48.4,45.6,46.8,92.6,44.1,84.5,53.5,50.0,47.0,40.6,39.3,35.8,67.4,49.7,55.3,48.5,49.5,51.4,49.8,87.8,45.0,47.7,50.7,45.2,39.7,44.8,40.5,48.0,46.9,44.4,48.8,51.7,41.2,39.0,55.5,48.5,47.0,37.5,44.0,38.3,50.0,45.6,54.5,34.6,48.7,52.2,53.5,72.5,45.0,46.8,44.0,46.0,47.0,45.6,45.9,47.1,43.9,46.5,51.7,41.1,52.1,49.2,55.8,43.4,73.3,67.6,33.9,35.2,35.7,38.7,36.0,43.6,35.2,33.4,37.8,33.2,37.2,34.3,34.9,34.9,34.4,32.9,39.8,35.9,36.4,49.8,89.7,43.8,54.5,57.0,70.2,36.2,48.0,51.6,49.2,44.5,44.4,40.2,51.9,48.4,47.7,45.7,43.6,38.4,51.6,51.2,68.8,42.0,51.1,45.7,42.4,51.0,40.7,47.3,47.6,46.4,31.8,46.8,45.8,47.3,98.8,49.0,74.7,34.3,40.1,36.6,65.2,41.8,66.2,53.9,46.7,48.4,51.9,43.0,89.2,41.6,53.2,50.3,68.1,58.8,49.3,45.2,45.3,87.7,81.9,77.3,39.2,64.7,57.0,53.0,39.8,92.1,37.1,42.1,43.0,78.2,46.4,53.3,45.1,49.2,40.8,52.5,51.2,45.3,50.2,39.0,50.4,52.1,53.8,54.5,56.0,52.6,48.5,59.1,46.0,46.9,37.9,41.9,45.7,71.5,37.5,27.6,48.6,52.0,52.1,40.5,84.3,40.7,58.4,54.6,43.9,52.4,44.6,40.2,53.5,71.3,36.9,50.9,65.0,37.6,42.8,40.1,51.9,41.9,46.5,89.6,45.3,44.2,57.6,74.9,74.0,40.1,86.0,39.3,51.6,39.3,49.3,53.0,52.1,51.4,48.8,46.2,47.8,42.7,35.7,51.1,49.2,49.4,37.6,48.1,66.8,87.3,45.9,70.4,49.1,37.1,40.9,46.6,87.9,89.9,78.0,45.4,67.4,48.4,50.9,53.4,52.2,42.0,42.6,50.3,97.3,46.8,34.2,49.7,49.9,44.3,44.1,48.3,42.9,45.5,52.4,44.9,43.7,48.4,42.7,54.6,43.4,66.6,53.0,48.7,50.9,89.9,38.2,81.8,42.7,40.1,50.0,50.7,40.0,73.7,46.7,50.8,42.5,58.8,37.2,47.9,50.0,67.8,37.6,51.0,48.4,50.1,46.1,48.1,56.6,41.0,46.4,53.0,51.6,50.3,50.0,43.5,39.7,63.6,65.6,42.8,55.4,49.0,55.8,48.6,72.5,86.3,47.8,38.7,43.9,41.2,41.1,48.8,39.1,43.6,43.3,46.1,46.6,48.9,37.4,51.0,42.2,34.4,48.9,49.7,40.4,59.1,36.5,48.1,52.2,44.8,46.0,48.0,45.3,50.8,73.7,50.9,39.9,73.2,95.6,88.8,82.3,37.8,50.3,49.6,44.3,41.2,40.2,50.4,54.9,51.2,46.5,45.0,51.1,48.2,58.5,52.8,39.9,46.9,47.1,42.8,48.3,37.0,44.7,37.7,33.1,50.8,45.5,44.1,49.6,44.9,44.1,48.1,36.3,46.1,45.5,45.4,49.6,46.6,47.7,49.5,51.6,54.2,85.2,47.1,47.5,91.1,37.9,89.6,41.8,54.0,46.8,84.6,44.0,34.3,44.8,58.2,52.7,55.1,54.5,42.8,43.4,44.1,47.2,49.5,36.6,42.7,48.7,49.0,55.8,54.4,49.6,43.2,45.2,36.8,36.8,52.1,76.9,48.0,41.2,42.3,55.4,49.1,45.6,49.7,53.9,54.4,50.4,46.1,50.1,43.0,51.7,46.7,39.9,33.4,45.5,44.1,66.0,48.7,50.0,47.8,35.9,47.6,50.0,45.4,61.1,49.9,32.1,47.8,44.1,73.0,49.2,92.1,50.8,47.8,47.2,44.4,38.3,49.4,46.4,53.9,68.3,54.0,45.6,42.9,48.3,47.9,35.2,45.6,46.1,91.2,43.5,48.2,47.8,41.1,37.4,47.2,81.2,55.6,56.1,89.3,43.3,49.1,71.7,87.8,43.0,54.5,46.7,54.2,52.6,50.2,54.7,48.3,38.0,46.8,48.1,53.4,54.5,37.9,50.6,32.4,49.0,48.8,49.1,47.8,53.1,45.1,40.2,41.9,46.8,39.3,50.3,41.6,53.3,46.2,50.1,39.3,51.5,78.3,49.7,41.9,43.1,48.2,51.6,72.5,46.1,48.8,56.5,59.0,47.1,57.8,39.9,50.7,44.4,41.7,38.4,51.4,50.9,42.3,82.0,51.1,47.4,66.8,49.8,40.6,39.2,40.7,49.5,40.7,43.4,44.2,46.3,45.1,45.6,46.2,43.5,42.2,46.7,50.4,49.6,46.3,45.1,49.4,43.2,40.4,46.8,47.1,39.4,52.6,39.8,59.1,57.9,52.0,64.0,61.0,57.0,62.0,39.1,40.7,46.3,61.5,55.3,35.8,44.3,53.2,48.8,31.3,39.3,45.2,36.3,46.1,36.4,35.4,41.0,37.1,37.3,45.4,61.6,54.1,53.5,44.6,49.1,53.9,34.4,38.5,37.5,44.9,74.9,53.6,47.0,42.9,37.7,75.0,87.4,51.3,51.1,51.9,55.0,56.2,55.8,37.6,47.3,40.8,46.8,37.1,44.9,40.9,38.3,66.1,64.2,45.6,43.6,48.3,47.2,50.6,43.3,47.8,40.9,37.9,39.5,52.7,38.7,48.1,44.8,50.5,45.9,50.4,32.4,37.7,35.3,34.4,37.6,40.5,55.0,39.9,39.7,43.0,43.4,48.6,56.8,69.8,57.4,50.4,46.7,42.8,44.0,71.1,73.1,48.1,51.1,43.7,42.9,46.2,51.5,66.1,51.1,44.7,44.0,40.1,48.3,69.3,42.0,66.1,38.0,49.1,43.5,44.2,79.4,42.9,38.2,39.9,42.1,47.9,54.2,68.6,56.1,39.4,79.4,51.1,51.1,48.9,57.7,60.2,45.4,52.9,52.7,49.6,51.6,58.4,51.8,50.0,44.1,46.2,43.2,41.1,49.4,34.8,41.3,46.5,47.3,52.7,48.6,50.7,44.5,68.8,67.8,67.8,53.3,67.3,53.2,40.9,51.8,54.9,46.3,46.5,51.2,43.8,40.9,67.9,37.0,50.2,43.3,40.5,84.5,49.7,51.2,46.1,55.1,69.1,49.3,52.1,43.1,47.9,40.5,48.0,70.0,64.9,51.4,50.4,41.7,41.1,36.7,48.9,45.2,38.6,68.1,47.8,40.6,40.1,51.5,45.9,39.8,47.4,80.9,47.0,39.8,64.5,53.5,48.8,44.1,48.3,53.0,51.1,75.3,67.8,48.5,35.5,50.0,50.3,51.8,44.4,42.8,45.1,54.4,51.0,41.0,59.6,55.9,50.6,50.1,44.6,39.6,40.7,47.2,45.8,46.6,40.6,42.8,42.7,70.6,73.9,48.7,74.4,51.5,59.1,61.0,70.0,47.6,59.1,46.7,60.4,71.8,50.4,59.9,65.9,37.4,49.3,92.6,47.4,49.4,53.3,45.6,49.0,53.0,40.0,51.1,48.4,58.3,65.6,48.1,76.9,65.1,32.3,54.0,47.0,38.9,41.6,51.6,44.0,52.0,48.7,60.6,66.6,64.9,49.2,52.1,52.6,52.8,54.2,48.6,67.5,53.6,49.8,59.6,57.4,40.0,68.0,65.5,45.5,66.7,45.0,65.5,47.0,66.1,68.0,65.8,62.3,53.2,49.7,52.4,63.6,55.1,51.5,62.6,55.6,58.7,48.1,45.0,64.5,53.0,68.4,67.0,63.9,61.1,51.7,44.7,42.6,67.7,62.1,59.6,64.5,59.8,63.9,73.9,63.1,55.1,50.9,63.5,53.5,66.0,65.5,68.8,55.2,47.8,67.1,68.4,62.6,56.2,63.9,55.2,55.1,65.8,53.9,68.6,44.5,63.3,50.9,50.5,41.9,51.9,58.6,56.4,48.2,44.8,41.7,49.7,47.3,51.8,43.0,58.5,87.8,42.6,39.6,50.3,78.2,49.7,41.7,37.2,63.8,45.7,83.2,43.9,41.6,42.8,37.2,54.1,41.4,50.0,50.0,50.0,36.9,50.0,50.0,50.0,36.9,52.5,43.5,50.0,65.0,65.0,65.0,65.0,65.0,65.0,65.0,45.0,65.0,50.0,50.0,50.0,50.0,42.0,50.0,50.0,50.0,50.0,50.0,50.0,50.0,50.0,65.0,65.0,65.0,65.0,65.0,45.0,65.0,65.0,65.0,65.0,65.0,65.0,45.0,65.0,65.0,65.0,65.0,65.0,65.0,65.0,65.0,65.0,65.0,65.0,50.0,50.0,44.7,46.1,49.4,40.3,52.0,66.6,37.7,49.9,69.3,41.9,60.8,34.0,56.3,41.5,47.0,76.1,47.0,47.1,47.2,66.6,49.9,52.2,47.4,52.8,45.1,47.9,43.0,50.6,47.6,52.2,36.4,66.8,41.4,48.2,38.3,38.5,42.8,43.3,40.3,58.4,38.5,41.0,51.7,38.0,49.4,58.9,42.4,48.7,47.6,70.9,84.1,63.1,43.4,57.0,40.8,54.7,67.1,48.7,48.1,54.0,72.8,44.7,51.8,54.3,52.1,43.6,51.3,49.0,40.2,36.9,35.9,35.8,49.5,41.0,46.6,47.6,50.7,49.7,52.3,51.9,38.3,51.2,53.1,43.4,37.7,43.3,80.6,49.7,45.2,39.8,53.1,52.7,48.7,47.6,48.5,44.8,45.6,48.0,51.7,42.0,50.8,43.5,46.6,47.0,48.4,49.0,47.6,76.5,68.6,67.4,52.5,72.6,53.5,37.6,55.1,50.1,49.1,52.7,38.4,46.2,40.8,44.9,46.7,41.6,49.2,43.5,39.4,80.6,47.5,42.9,42.6,46.0,59.6,48.1,48.0,51.3,47.7,48.4,50.2,52.4,46.6,47.9,62.1,51.2,45.3,48.6,46.5,40.4,44.3,45.0,76.7,76.7,75.0,77.8,77.8,75.0,73.5,77.8,77.8,75.4,75.4,47.6,76.1,76.1,77.7,75.0,75.0,80.0,75.1,75.1,55.0,47.6,68.9,68.9,70.0,73.5,75.0,74.0,75.0,76.0,75.0,61.0,47.6,74.7,74.7,75.4,74.4,79.2,79.2,47.6,41.2,42.7,36.5,41.4,92.2,77.7,36.4,41.4,50.5,49.4,38.6,51.5,49.6,48.0,48.3,45.5,49.5,62.6,51.6,47.2,66.9,34.9,42.4,50.8,50.1,56.9,40.6,74.6,39.8,44.3,59.7,40.4,54.1,48.0,47.8,44.2,41.4,40.3,45.3,72.5,43.2,36.2,47.8,45.8,53.1,46.9,46.4,49.7,51.0,46.4,42.4,38.3,41.9,55.3,40.0,66.9,35.6,51.5,48.0,47.6,50.6,43.1,43.6,43.8,39.5,56.6,42.8,46.8,55.9,36.5,51.0,42.9,38.4,41.4,78.0,76.4,43.2,68.4,45.3,51.6,42.7,46.0,38.7,59.4,43.7,45.3,49.8,47.4,41.7,37.6,48.9,45.1,51.5,56.9,38.1,59.8,55.0,48.1,64.9,43.5,41.2,48.4,41.6,47.5,40.8,70.2,53.3,51.3,56.7,85.5,46.1,53.1,54.3,46.3,37.7,52.2,37.0,43.6,49.0,45.8,58.2,91.7,44.5,40.6,43.9,49.3,55.0,40.2,54.3,54.4,70.7,48.8,44.8,71.4,50.3,43.5,39.5,54.1,44.7,50.0,78.2,44.3,41.2,41.6,80.2,93.8,47.1,81.6,68.2,48.9,89.6,89.7,95.5,79.5,85.2,41.7,48.1,44.6,93.1,90.4,89.7,51.0,51.8,82.8,50.8,58.0,75.6,82.0,52.8,39.4,38.2,48.1,82.0,85.8,55.8,78.1,39.4,40.8,70.1,95.7,95.2,51.2,49.2,74.4,45.5,41.9,48.5,80.4,79.5,47.0,40.4,49.5,51.8,82.5,40.2,81.1,71.4,79.2,77.2,44.6,85.2,92.9,40.1,48.8,41.2,44.8,48.7,64.8,89.7,82.2,41.7,39.2,70.0,43.6,40.0,46.6,39.7,38.7,40.0,41.4,37.8,82.1,42.6,51.1,45.6,46.0,46.2,50.1,49.1,47.7,50.7,49.2,42.8,39.8,43.3,40.7,71.4,46.9,85.1,42.7,95.7,81.3,78.7,38.7,75.7,47.7,47.0,54.7,50.0,47.5,50.2,83.5,38.1,44.2,45.8,45.0,46.9,47.2,75.1,55.9,40.7,36.3,70.5,37.8,37.7,88.2,39.7,68.8,88.2,87.1,52.2,96.4,78.9,91.0,94.1,48.2,52.4,81.4,36.1,34.0,43.9,75.0,51.3,48.2,50.6,47.0,49.5,56.5,49.8,40.5,86.5,53.5,49.0,48.8,42.5,36.4,75.0,83.2,56.4,60.3,60.2,57.2,59.6,63.2,61.2,75.0,80.7,62.5,88.7,49.8,66.2,50.6,49.9,82.6,51.6,49.0,49.1,59.3,37.3,47.4,48.0,96.0,43.9,47.8,50.0,43.4,76.5,81.2,64.5,61.5,73.0,72.5,75.0,82.0,82.0,76.2,81.2,71.0,52.8,87.9,89.6,49.6,79.9,84.7,43.0,65.9,41.7,63.1,66.7,67.4,65.7,61.2,64.9,63.0,69.7,64.4,67.7,77.5,77.5,53.3,47.9,78.9,46.9,64.6,41.7,44.8,81.9,40.4,41.2,78.6,83.1,77.8,75.1,94.6,56.6,55.9,38.6,98.1,54.6,76.4,48.0,56.7,69.5,52.6,62.9,54.0,91.8,77.5,86.7,51.1,54.4,45.8,51.0,51.8,50.6,49.2,40.7,44.6,37.2,44.9,43.4,53.1,90.8,94.8,41.0,45.0,39.0,45.1,47.0,41.9,84.4,52.1,46.9,38.9,55.5,83.9,47.1,81.8,54.8,51.7,46.9,47.0,62.7,79.8,52.6,66.6,88.8,90.7,42.5,41.0,92.8,52.0,37.7,43.5,68.5,47.0,88.9,83.6,90.4,47.4,53.0,48.0,48.6,69.0,50.9,56.6,49.2,98.3,89.4,45.7,42.6,50.7,47.9,60.6,82.8,85.0,91.7,91.4,91.4,85.8,90.6,51.6,43.1,71.6,48.0,49.6,47.6,43.8,40.5,53.3,39.8,42.1,39.3,48.4,48.8,73.0,77.0,41.1,45.0,55.5,47.8,41.6,56.8,49.2,34.6,46.9,92.7,51.0,38.1,42.8,33.1,57.0,68.9,41.0,90.2,51.6,53.1,83.4,81.9,82.8,43.3,57.2,46.4,47.3,82.2,55.3,89.8,41.2,94.5,83.1,54.3,88.0,90.9,85.9,88.7,44.5,92.9,50.4,87.0,50.6,36.8,41.0,92.0,43.0,46.3,84.7,48.8,54.8,53.7,41.0,77.8,94.1,66.3,81.7,58.2,38.8,45.1,49.8,92.5,78.1,66.9,47.5,85.7,94.4,81.4,49.8,42.9,81.4,79.4,82.6,45.6,98.8,79.5,35.3,44.3,80.8,30.0,30.0,30.0,30.0,30.0,30.0,30.0,30.0,45.5,77.8,68.6,44.5,72.4,74.3,43.5,37.5,69.2,52.6,91.0,89.1,78.1,37.2,67.9,51.4,43.9,43.4,54.2,95.8,36.9,81.8,76.5,41.0,40.8,44.5,45.7,38.7,90.1,43.1,77.7,39.1,36.5,42.4,41.1,46.3,49.9,42.5,78.9,54.1,43.8,68.1,69.0,70.0,63.9,47.5,48.2,38.1,45.7,46.7,48.6,86.3,47.5,33.8,46.8,37.4,87.8,45.7,42.5,41.7,82.2,69.0,67.0,68.3,82.2,82.2,69.1,82.2,82.2,55.3,54.5,78.9,82.2,79.8,82.2,77.7,75.4,82.2,69.0,69.6,82.2,82.2,95.3,66.5,61.2,94.8,66.6,64.5,63.2,68.8,95.0,75.5,75.5,78.0,49.3,81.5,81.6,66.3,68.6,78.3,46.1,75.9,75.5,82.5,80.2,55.8,72.1,78.6,49.1,76.4,75.5,83.1,51.3,51.3,50.2,49.9,82.6,47.3,82.3,42.3,46.3,45.1,44.8,51.4,81.0,79.0,52.0,53.4,73.4,48.1,68.7,81.2,49.5,50.1,48.1,45.6,49.2,51.6,48.9,84.3,80.4,90.6,49.6,79.6,40.1,44.5,85.6,52.0,50.9,37.8,72.5,33.2,55.2,53.4,56.7,76.7,66.9,84.4,44.3,39.9,53.8,38.1,41.8,55.8,55.8,55.8,56.3,57.8,55.8,55.8,55.3,55.3,57.8,55.8,60.3,92.3,37.2,46.5,72.8,90.0,95.6,85.1,47.3,47.4,41.6,44.6,48.6,48.8,51.3,71.2,45.4,37.1,48.6,80.5,96.9,51.4,49.4,44.5,67.8,93.8,93.3,48.0,87.4,88.5,96.5,48.4,49.3,50.2,48.5,52.7,36.4,42.4,65.3,95.6,44.6,74.8,79.5,47.4,88.8,88.9,39.2,56.1,73.6,41.5,90.3,39.1,49.2,48.5,84.3,37.0,51.7,41.9,55.2,49.2,38.7,89.7,85.5,42.7,46.6,39.1,81.2,54.8,79.6,45.1,49.2,48.8,40.2,42.0,49.0,55.9,74.0,93.2,47.6,47.1,96.4,46.8,39.0,98.4,43.8,40.5,87.1,82.5,52.9,47.4,48.2,88.0,40.9,45.6,63.6,86.9,47.2,51.8,51.9,49.9,51.5,41.1,49.7,66.8,66.0,64.2,71.2,73.6,35.0,68.2,73.3,35.0,50.3,59.9,48.8,62.4,67.5,62.7,73.9,64.4,74.6,73.0,73.6,67.9,76.0,75.8,61.0,72.8,35.0,75.0,73.9,74.0,75.9,75.2,74.5,74.1,73.8,74.7,76.3,76.6,73.8,65.9,72.8,68.0,60.9,49.5,52.5,71.6,35.0,35.0,35.0,74.5,77.6,78.7,77.1,76.0,72.8,44.0,42.5,42.6,44.7,47.7,91.8,44.7,44.3,76.2,36.3,44.2,59.8,42.6,52.8,48.3,48.6,45.6,44.6,44.8,37.7,48.4,44.0,46.5,41.1,72.0,80.7,87.8,77.1,49.3,52.3,64.6,39.6,84.4,45.0,54.8,50.2,39.0,41.3,94.8,46.0,48.8,56.3,85.9,45.3,44.8,46.1,50.5,58.2,98.3,68.4,94.2,52.7,47.3,68.1,49.1,40.7,45.4,87.8,87.9,47.2,78.1,73.3,87.2,84.8,51.0,89.0,49.0,99.0,83.0,60.5,95.0,43.2,84.9,47.9,48.4,36.1,51.5,71.4,47.0,89.0,82.1,85.8,87.5,54.6,92.8,58.2,48.3,45.9,56.1,91.7,90.2,43.6,44.0,85.1,85.6,49.6,78.2,50.3,54.1,88.4,47.0,48.5,77.4,79.4,45.9,53.7,49.6,72.7,43.1,83.3,85.6,82.4,86.2,41.8,66.9,61.9,91.7,43.9,43.1,40.3,46.1,43.4,89.3,84.5,64.1,42.1,78.7,43.7,45.1,47.7,50.0,63.2,71.7,42.7,73.5,55.5,75.7,41.5,91.6,93.1,49.6,47.7,41.8,36.7,48.5,47.4,47.4,47.1,54.3,40.5,55.8,57.7,60.1,47.8,46.6,41.6,47.3,48.3,81.3,47.6,31.4,51.8,50.9,48.4,44.2,42.3,48.2,47.2,41.0,62.8,52.6,43.7,49.0,53.4,50.9,51.0,39.7,45.2,52.5,48.6,51.2,39.7,44.3,51.8,37.5,42.4,48.3,47.6,46.5,51.1,49.1,48.8,48.7,48.4,48.8,64.1,51.6,48.3,46.1,39.6,50.6,54.3,43.2,42.5,45.8,54.5,53.4,41.1,41.2,45.9,54.9,42.5,61.0,41.6,49.5,49.0,48.1,47.6,48.9,49.6,47.8,60.5,43.4,44.6,45.8,45.0,46.2,46.8,46.7,51.2,46.3,49.7,45.1,49.6,47.5,52.3,43.6,38.8,39.7,44.0,49.1,45.7,48.2,48.0,35.5,52.1,38.7,50.3,54.5,46.7,58.0,39.4,64.1,41.2,47.1,50.5,53.5,42.3,37.9,39.3,48.2,50.1,39.6,51.5,42.5,53.3,34.5,39.9,55.7,46.8,44.8,38.2,49.1,53.0,54.5,41.1,51.7,45.2,38.5,50.0,59.5,38.4,41.3,48.3,54.3,52.4,40.2,52.0,50.7,46.8,40.6,77.2,53.4,44.0,35.0,49.2,54.8,56.5,55.4,44.9,31.2,35.8,41.9,41.8,43.3,43.2,56.6,53.1,45.4,49.9,50.7,34.7,49.2,47.9,49.6,51.0,41.9,60.7,46.0,42.5,45.3,43.4,43.5,50.3,40.3,44.6,35.9,62.1,42.5,49.4,51.0,46.2,38.1,40.4,49.7,51.0,39.4,46.6,43.5,50.7,47.2,39.9,49.0,41.0,44.5,50.8,42.5,45.6,44.0,37.8,50.3,43.3,42.3,53.8,47.8,44.4,47.1,48.8,58.4,42.2,42.1,53.5,56.0,89.3,50.7,52.6,39.9,50.3,45.3,46.9,46.0,42.4,43.9,51.3,52.3,55.6,44.0,50.2,43.0,52.6,52.5,44.9,52.2,43.8,44.6,82.5,49.7,47.4,39.0,53.5,46.2,46.5,36.5,36.8,39.1,38.7,45.8,38.9,50.1,45.9,41.1,46.3,42.7,37.1,52.4,46.7,51.7,52.7,55.2,46.5,41.1,59.8,44.7,44.7,43.0,44.1,49.2,39.5,49.2,45.3,50.4,39.6,39.1,38.2,60.8,74.1,37.5,42.7,46.2,45.1,44.5,48.2,52.8,64.6,47.4,46.4,41.5,36.8,39.2,47.8,48.4,60.6,44.9,42.1,39.2,39.7,47.7,56.8,46.5,40.4,52.8,50.2,38.5,42.4,51.3,54.3,47.5,34.2,41.8,41.9,50.4,49.2,46.0,42.2,71.0,52.7,39.8,39.4,48.8,32.1,35.4,35.3,37.0,47.4,47.7,52.1,45.8,42.7,34.0,51.8,49.6,49.9,37.5,51.8,49.4,40.0,37.9,44.1,40.2,49.4,55.0,47.3,40.1,38.8,57.6,41.6,44.6,52.4,48.4,50.9,50.1,40.5,37.1,40.2,54.9,62.6,41.5,39.2,45.4,41.5,39.7,52.9,56.6,57.0,48.2,38.8,35.1,44.5,51.2,48.0,52.2,45.4,39.9,42.2,43.6,39.3,42.5,36.8,50.1,52.3,38.6,52.5,46.5,44.3,47.7,44.5,61.9,45.3,51.1,78.0,49.0,47.9,42.6,52.5,50.3,48.0,69.0,54.4,50.9,42.3,47.1,64.7,49.6,47.4,47.4,40.2,35.3,46.5,49.9,53.3,37.9,71.6,85.3,85.3,69.2,43.1,75.8,69.4,51.0,47.9,48.7,48.8,41.2,44.0,53.8,43.4,49.8,53.8,43.4,51.7,49.3,46.6,38.3,52.0,43.8,49.9,48.3,50.6,53.9,47.8,47.6,45.2,45.0,39.8,45.5,53.1,66.3,49.3,62.7,41.0,49.8,46.7,48.5,44.5,40.5,54.1,57.0,46.9,45.7,40.8,45.7,55.6,40.9,49.4,48.8,49.3,47.5,47.5,49.0,51.5,34.8,50.0,44.3,46.3,45.5,47.2,42.1,43.6,60.4,50.2,50.6,43.8,44.5,46.7,50.6,37.9,48.7,45.3,46.6,39.2,54.3,37.2,44.1,56.3,55.4,51.9,59.1,51.1,53.5,47.5,42.2,44.7,54.9,45.1,47.9,41.9,48.7,46.0,39.2,49.0,44.4,37.2,51.5,43.5,37.3,54.9,40.8,31.8,57.3,51.3,46.4,49.5,51.5,52.7,37.1,47.7,55.7,49.6,47.7,44.6,45.4,42.9,48.7,46.5,45.9,51.2,50.6,38.4,51.9,45.4,39.0,37.8,41.9,38.8,35.5,45.2,40.2,49.1,47.3,42.6,54.5,45.0,39.0,51.3,44.5,61.5,39.9,48.4,41.8,45.7,45.4,49.3,49.2,37.9,51.3,39.2,43.4,64.8,49.6,39.1,45.6,39.3,47.4,50.5,55.0,52.9,41.1,56.2,46.3,54.3,69.5,55.1,54.2,71.8,62.5,46.2,51.1,50.6,49.8,42.1,38.8,33.7,53.9,65.8,44.7,55.0,51.4,86.2,49.3,50.9,82.8,47.6,57.2,50.3,48.2,43.3,51.6,51.5,41.9,47.7,50.7,39.9,48.2,49.5,49.7,45.9,32.2,43.1,57.6,34.9,45.6,45.5,53.4,50.3,52.9,43.5,48.4,37.4,51.6,44.1,49.8,38.0,50.7,50.2,38.0,43.7,53.2,51.8,42.9,56.0,39.6,40.3,45.9,51.0,41.9,42.0,48.1,37.8,40.0,45.7,41.7,41.2,45.9,46.0,46.0,51.2,43.3,47.4,50.3,37.8,51.4,52.1,43.5,32.7,55.2,59.8,47.4,51.2,48.7,54.2,51.8,50.6,47.9,42.7,50.1,46.8,51.2,49.4,41.4,40.4,52.1,44.0,46.5,74.3,38.2,75.3,35.9,38.3,41.6,51.5,62.6,52.5,54.3,55.6,50.9,53.5,52.8,52.6,50.0,50.8,56.0,50.8,45.6,54.5,48.6,47.7,48.7,52.0,50.2,51.6,40.4,39.7,58.7,47.8,42.7,46.9,51.1,49.9,51.7,46.2,42.2,46.1,43.5,44.5,46.4,39.0,47.4,53.9,50.6,44.8,59.5,75.2,53.1,42.3,51.8,57.7,49.7,39.0,70.7,51.2,53.5,66.2,47.3,38.1,61.4,79.9,38.2,80.5,53.0,48.4,49.3,42.8,58.2,47.0,37.8,50.5,51.5,41.6,64.1,43.3,44.5,44.3,48.7,52.1,39.5,37.2,44.6,36.3,42.2,41.6,51.6,52.0,43.1,46.9,42.8,49.0,58.5,40.0,41.2,34.2,44.1,44.6,53.4,50.7,69.8,48.0,53.3,52.0,49.9,49.7,50.0,50.0,40.2,41.7,44.1,39.5,39.2,42.0,43.9,39.4,40.6,38.3,39.3,38.6,39.7,40.2,50.7,41.7,40.1,46.2,38.8,49.5,41.2,38.0,38.5,44.4,40.5,46.0,53.9,51.1,39.8,38.8,42.9,38.1,37.5,39.6,47.5,40.1,38.9,43.6,47.4,41.9,39.6,46.8,40.4,47.2,36.9,36.7,46.9,39.9,45.7,37.2,39.3,44.0,45.8,37.8,47.6,40.8,47.0,38.9,40.4,43.3,44.0,40.8,39.6,42.5,37.1,40.1,41.8,39.3,41.1,37.7,40.7,40.4,42.7,40.0,41.0,39.3,40.0,38.1,39.3,46.7,40.8,41.7,44.8,37.9,49.1,47.3,39.9,41.9,54.4,46.0,42.6,40.1,49.0,40.7,42.2,44.7,40.5,39.5,44.8,36.8,43.5,51.4,40.0,39.5,42.1,38.6,36.8,45.0,40.2,34.9,39.0,39.8,39.1,37.1,46.9,39.5,49.2,41.7,39.2,36.7,39.6,44.6,38.8,38.9,48.1,40.3,48.2,40.1,36.8,43.1,45.5,48.3,39.8,53.3,53.5,54.1,37.9,44.6,55.4,52.5,49.7,44.6,63.9,52.8,52.8,45.7,46.4,47.8,44.8,49.2,42.4,48.3,36.3,73.4,47.1,44.2,58.9,35.1,43.7,47.9,34.7,42.0,42.2,51.1,58.3,53.4,52.9,48.4,50.8,51.8,51.9,47.2,53.1,39.6,85.7,41.1,52.4,51.3,73.7,46.4,54.3,47.8,65.3,77.6,40.3,42.7,40.4,48.9,50.0,58.0,42.5,71.5,46.5,50.4,37.3,46.6,49.5,37.4,57.7,50.2,47.7,42.4,47.8,45.0,48.8,55.1,55.8,51.4,48.4,49.9,68.3,46.4,48.1,49.7,39.4,58.8,43.5,48.2,35.0,44.2,56.4,42.4,50.1,46.9,74.9,45.0,48.2,55.9,49.6,48.7,53.8,49.2,50.8,50.7,44.8,39.3,93.6,52.5,44.5,41.8,39.2,49.0,48.6,47.7,49.9,47.5,43.7,47.7,46.0,81.3,70.9,40.2,47.5,47.0,49.9,41.3,42.6,71.3,48.2,52.3,41.2,45.4,47.1,71.1,49.0,77.3,40.4,64.9,43.3,50.6,53.6,48.5,45.2,37.8,53.5,51.6,48.1,44.6,46.6,47.8,48.8,46.3,44.3,56.1,51.3,38.5,38.6,42.5,48.4,43.9,42.8,48.5,61.4,46.5,44.3,43.3,40.4,49.7,52.4,52.5,44.3,49.8,52.7,51.3,53.6,52.1,50.8,46.9,53.2,51.1,40.0,51.0,45.6,48.3,42.6,51.2,78.7,45.0,71.6,43.7,43.5,65.1,49.7,92.6,52.5,46.3,46.0,54.7,37.8,37.3,71.6,58.3,48.8,45.2,44.8,43.6,50.1,35.9,37.2,46.0,50.4,52.9,45.5,46.2,49.8,51.6,44.6,42.2,62.3,38.4,45.3,43.2,40.4,48.0,55.8,44.8,52.3,43.0,40.0,39.2,50.3,73.8,43.9,57.1,52.2,69.6,49.3,50.7,53.8,43.4,45.0,49.1,49.0,42.0,50.6,47.5,40.2,37.2,44.0,57.7,53.8,51.4,45.9,40.5,51.5,48.6,36.7,41.0,49.3,47.3,51.0,52.6,52.4,39.2,38.0,53.4,35.7,44.1,41.0,47.4,38.1,43.0,49.7,46.8,43.4,45.8,46.7,43.5,47.5,53.7,47.7,46.9,43.1,47.7,69.3,39.5,46.9,55.9,53.7,42.3,66.7,45.8,45.8,46.3,49.5,48.3,52.1,38.9,39.2,46.3,50.9,57.0,43.7,47.5,47.0,50.5,41.1,38.3,40.5,55.0,48.6,48.2,46.5,41.8,50.4,38.8,43.5,50.1,52.0,47.3,48.8,46.8,49.7,86.1,46.4,40.1,69.9,51.9,57.5,41.0,48.4,43.4,67.0,63.0,63.0,56.0,43.1,49.8,39.3,46.5,47.7,47.7,39.4,41.9,38.4,43.1,47.2,36.4,47.3,53.8,53.6,45.3,54.4,47.3,46.6,58.2,52.3,50.4,44.2,48.8,39.3,49.3,52.3,40.1,52.2,46.5,73.5,51.9,53.5,44.5,45.2,52.3,40.1,54.6,46.0,38.8,44.3,44.4,47.4,44.1,43.5,42.2,43.2,38.0,40.5,48.1,53.7,41.7,44.4,36.6,50.2,62.6,50.5,47.4,44.6,53.3,45.8,51.5,53.3,47.1,45.8,46.7,53.8,46.0,49.8,46.0,39.4,52.0,49.1,54.5,53.7,43.7,46.8,53.1,57.0,46.6,36.9,45.1,59.3,42.5,37.6,50.7,50.8,45.6,42.9,46.4,53.6,38.3,48.7,50.6,51.1,51.4,47.9,50.8,55.5,57.5,48.7,82.1,47.9,43.8,93.2,70.6,46.9,42.7,39.3,52.6,46.4,48.9,62.6,35.1,53.4,47.1,76.5,47.5,48.7,42.9,52.9,46.2,40.2,46.1,33.7,47.7,44.0,48.6,52.0,62.1,43.7,46.2,49.9,54.8,61.6,40.6,53.1,52.3,50.6,46.7,40.9,46.4,57.8,40.8,52.2,44.7,48.4,51.6,47.9,43.5,47.2,41.6,40.7,57.6,51.7,53.0,41.0,47.6,46.0,42.2,64.3,47.2,52.3,59.3,45.3,37.2,51.2,52.6,37.6,56.5,38.5,50.4,50.3,35.0,45.7,48.8,48.1,41.1,46.4,47.4,46.0,48.1,47.4,61.5,59.1,45.0,57.3,54.5,46.5,48.7,44.6,37.6,51.8,46.5,51.9,38.5,50.2,40.0,81.1,68.0,80.7,43.7,43.1,38.6,36.9,50.6,52.0,43.9,43.4,65.5,50.8,40.7,53.5,44.2,46.4,39.4,34.4,46.3,46.0,44.8,41.9,44.9,52.6,72.9,43.2,51.5,44.4,52.9,44.1,38.4,39.9,41.4,46.6,56.2,48.8,43.4,40.0,52.5,37.9,50.2,41.9,45.5,43.2,43.3,48.1,44.2,79.8,43.5,51.7,46.5,41.1,57.4,58.2,56.4,57.1,59.0,49.9,50.6,58.3,50.6,58.1,50.6,50.6,57.5,55.3,47.0,42.8,48.3,63.8,46.9,38.6,52.7,49.8,41.4,54.5,45.9,46.0,43.1,44.0,41.5,65.6,45.0,46.3,51.8,75.0,71.2,53.2,43.4,52.3,53.6,53.6,79.1,50.1,51.1,52.1,51.1,56.0,44.2,48.2,41.3,39.5,49.6,51.9,43.8,40.9,41.0,49.4,41.0,43.6,45.0,39.7,38.5,63.7,50.5,44.4,47.1,52.2,38.6,39.7,35.0,46.0,51.6,49.8,51.0,49.0,47.4,50.7,42.0,51.3,46.5,45.9,41.9,64.5,50.1,42.9,51.5,48.0,38.3,47.3,48.2,41.8,39.9,53.7,41.1,49.3,39.1,45.2,52.8,42.8,47.9,49.8,49.4,42.2,51.4,50.4,54.5,43.8,61.0,43.5,47.3,44.4,43.6,44.6,43.5,47.0,45.6,50.4,51.4,64.4,47.4,47.8,43.4,70.6,64.5,39.9,37.6,39.8,34.0,41.6,42.7,50.5,52.8,46.9,78.4,43.7,53.4,71.6,46.1,54.6,54.7,42.6,54.7,56.7,49.7,47.0,33.4,34.6,44.1,49.1,45.9,43.2,37.8,58.1,45.5,37.8,57.4,44.1,43.8,48.0,43.2,34.1,43.2,44.1,34.6,40.5,52.0,45.5,57.5,43.2,44.9,51.0,43.2,57.1,34.6,44.1,56.8,45.5,45.2,57.1,42.8,44.1,56.1,34.6,59.1,52.8,34.4,34.6,50.4,43.2,47.0,56.5,44.1,34.6,43.5,43.2,48.0,37.1,50.5,34.6,44.1,51.0,34.6,58.1,44.1,34.6,38.8,55.4,44.1,34.6,43.6,56.8,34.6,37.0,50.2,44.1,48.1,34.6,36.6,44.1,45.0,54.8,33.6,40.3,57.5,58.6,49.8,55.4,40.3,44.1,37.8,34.6,55.8,41.1,34.6,57.4,49.6,34.6,54.0,34.6,58.5,59.9,34.6,51.5,44.1,34.6,40.9,52.0,62.0,45.2,42.6,57.9,44.1,64.0,40.6,46.4,61.5,38.6,50.5,43.2,37.8,57.0,43.0,59.5,48.8,37.8,43.8,44.1,34.6,52.8,41.0,34.6,52.1,61.4,43.2,45.8,60.4,37.8,44.4,49.6,38.9,52.5,44.1,43.6,59.0,43.2,49.2,37.1,60.6,43.9,47.7,52.7,46.3,42.1,39.4,52.9,37.8,50.3,40.4,45.9,63.6,51.9,42.5,45.7,36.2,38.6,78.0,44.1,81.8,45.3,46.3,49.5,49.8,63.8,59.7,67.1,49.1,48.9,50.1,44.4,34.4,50.0,45.4,37.9,49.8,46.9,70.4,40.8,41.2,41.1,48.9,52.2,50.0,45.2,40.8,57.5,64.9,45.4,44.0,43.7,44.3,50.5,48.9,49.7,46.5,43.6,41.7,37.8,44.3,48.1,42.1,48.9,52.2,42.9,62.4,51.4,51.0,47.4,50.0,56.0,56.8,38.3,38.8,38.6,56.9,46.0,44.9,45.5,50.3,41.0,41.2,50.2,37.8,48.2,44.7,64.1,47.9,48.3,45.2,48.9,51.4,43.6,37.8,76.7,49.6,41.6,55.8,46.8,39.3,76.3,45.0,55.9,58.9,34.5,36.3,50.2,56.0,57.1,47.8,40.7,47.4,60.7,49.3,54.0,49.8,52.1,41.9,37.9,54.1,38.7,51.7,46.5,43.3,37.3,44.1,65.0,37.1,62.7,59.3,48.9,42.9,35.2,32.9,42.4,38.2,74.6,64.8,59.0,44.4,59.3,49.1,55.5,57.4,47.7,42.0,49.1,52.7,41.9,49.1,40.1,39.0,73.0,50.4,47.4,67.2,36.7,44.6,37.7,50.4,55.9,41.4,50.7,38.3,87.4,51.8,40.1,46.0,41.7,39.9,57.5,49.4,43.3,54.0,47.5,46.0,82.2,51.6,48.4,49.4,48.6,55.6,48.7,45.7,61.2,37.9,47.8,44.9,41.7,72.5,49.5,39.3,50.6,58.8,53.3,60.4,70.3,40.2,58.1,49.7,42.3,36.0,54.1,46.2,51.6,55.5,37.8,43.3,48.0,59.4,38.8,60.7,40.1,50.0,55.5,44.9,41.4,47.1,71.2,36.7,44.3,55.6,49.7,50.6,47.5,42.8,54.9,38.0,43.9,48.7,54.1,44.1,53.0,48.2,42.9,45.7,44.3,48.5,41.1,84.5,84.4,81.5,38.0,35.6,45.5,41.1,51.2,52.8,46.1,43.0,85.9,63.9,38.8,45.9,46.7,47.7,47.3,40.2,45.0,56.2,51.2,46.8,49.4,53.4,55.9,47.6,60.8,43.6,38.5,41.2,45.6,43.0,54.1,50.6,51.6,41.7,44.5,49.4,44.5,41.5,51.3,44.7,48.2,39.2,42.8,51.6,44.3,43.1,46.7,52.4,46.8,40.2,46.5,46.0,48.4,45.3,43.7,55.0,47.8,52.3,43.4,45.0,55.5,41.3,48.4,43.3,54.0,56.3,54.7,47.5,51.3,46.7,46.7,35.7,34.8,40.6,48.6,37.6,43.7,49.3,53.7,42.6,46.5,45.8,50.1,50.5,35.1,39.9,45.6,48.1,50.2,46.9,85.1,40.8,58.4,50.9,51.7,52.1,51.9,50.2,46.3,50.9,34.9,45.3,42.5,48.7,73.1,53.1,42.9,51.2,47.0,43.4,43.5,33.7,37.1,37.6,42.8,41.6,59.0,43.9,47.3,52.6,84.4,86.4,46.5,46.9,50.9,52.8,45.9,53.4,40.1,37.5,41.5,47.8,50.1,46.2,44.7,44.0,46.6,39.8,49.6,43.1,42.2,50.1,48.4,39.7,44.7,52.1,43.0,39.4,49.0,46.2,40.0,39.6,39.9,48.1,53.4,51.0,47.7,44.7,77.8,54.9,46.1,38.9,58.5,53.7,51.8,47.4,38.6,53.8,74.1,43.6,48.5,49.0,42.5,47.4,46.4,54.0,45.3,43.6,47.4,42.4,47.6,45.8,44.5,51.4,37.3,50.0,45.0,37.0,50.6,64.7,46.6,34.2,51.3,47.6,55.9,40.3,56.3,52.9,48.7,46.1,42.2,51.7,57.5,43.2,43.0,37.5,39.3,47.7,47.2,51.4,45.4,52.6,38.8,48.2,49.7,63.7,71.8,76.9,40.3,46.4,46.9,42.7,49.4,50.4,41.8,41.7,40.1,60.0,47.2,43.4,46.3,49.5,40.7,46.4,40.7,46.0,49.3,56.6,45.1,64.8,41.6,41.0,50.3,37.4,48.4,52.8,51.1,51.9,50.3,50.5,46.0,46.1,52.5,51.8,53.1,48.2,43.4,33.5,40.6,41.3,38.4,37.3,40.0,47.7,52.1,45.5,37.4,51.2,74.7,43.4,51.9,46.0,52.8,54.9,54.0,39.4,54.2,42.2,47.0,50.4,55.1,41.9,62.7,53.4,54.2,67.8,50.1,46.8,42.6,41.4,53.0,42.6,46.1,51.2,41.2,49.3,49.1,40.3,52.0,44.1,36.3,56.1,55.6,60.5,49.6,48.0,41.2,40.1,39.5,41.6,39.2,50.4,56.7,49.8,57.8,46.3,35.1,51.5,44.2,40.5,44.1,38.8,39.4,46.3,47.3,35.5,42.0,45.8,41.3,46.8,46.3,42.4,41.0,42.2,47.8,36.1,55.5,44.0,51.9,49.2,44.0,55.2,44.1,40.8,37.3,45.9,52.3,48.1,49.9,43.2,39.8,46.3,40.3,41.7,49.7,49.6,81.4,66.1,51.7,37.3,82.8,75.2,51.7,85.7,56.3,39.9,36.7,41.6,35.1,47.1,52.8,95.1,39.8,46.0,59.9,42.7,47.4,42.1,39.2,42.3,35.9,41.3,33.6,46.0,44.1,47.4,46.0,41.0,46.2,49.9,40.7,44.5,42.2,48.3,50.9,50.5,62.5,43.9,51.6,37.3,42.2,50.9,51.1,50.7,40.3,48.6,49.0,54.5,88.3,78.7,54.7,39.3,45.4,61.3,44.3,49.7,49.8,43.0,38.8,42.9,54.2,57.5,44.9,39.7,37.4,52.0,41.1,42.0,89.2,52.8,41.4,52.0,55.9,41.0,51.3,43.0,46.0,44.1,48.7,48.5,50.0,47.4,54.1,40.6,39.8,49.9,48.5,37.5,48.4,50.2,38.3,64.0,47.4,48.3,41.8,56.4,50.3,44.2,43.2,44.6,43.2,46.9,39.9,34.2,48.3,39.2,53.4,50.7,43.2,41.6,56.4,43.5,60.2,41.4,43.7,39.9,46.5,50.0,85.9,63.6,42.6,45.8,33.7,46.6,46.5,42.1,60.8,43.2,52.8,47.5,50.5,65.9,43.3,40.0,45.5,70.2,58.8,60.6,36.1,45.4,43.0,37.3,44.5,41.9,54.6,50.6,46.7,54.1,43.4,48.6,57.9,57.9,43.6,42.4,47.7,50.7,36.6,49.8,39.9,40.4,52.7,48.2,47.6,39.5,79.0,38.0,51.5,51.9,46.5,45.7,38.4,54.5,46.2,49.1,50.5,52.0,48.0,52.0,53.6,68.2,43.0,46.9,48.8,54.5,54.1,63.3,43.0,45.0,39.7,48.3,51.5,42.2,41.4,43.4,67.0,46.3,85.4,54.5,51.3,53.7,54.3,51.3,40.0,47.9,37.5,62.2,42.8,52.3,52.3,45.4,43.0,49.4,49.3,46.6,39.9,94.0,64.4,61.6,51.3,51.6,43.7,42.9,44.6,49.5,51.3,50.7,52.6,52.0,41.7,38.3,52.8,72.5,43.7,44.9,49.6,52.1,37.5,41.7,49.9,48.6,40.7,45.6,47.2,52.7,51.1,49.9,40.0,41.5,47.0,48.2,64.9,48.6,55.3,43.0,68.3,40.3,41.1,68.2,65.1,48.9,43.3,37.9,48.2,48.0,38.3,72.1,47.2,33.2,53.5,49.5,42.3,47.2,64.1,77.4,44.6,40.6,46.3,37.2,78.0,51.4,35.3,45.4,47.0,57.7,46.7,51.9,48.2,40.0,43.1,45.0,86.2,46.2,43.5,39.2,87.0,50.5,50.4,46.9,53.6,51.9,41.2,37.5,43.9,44.6,50.1,46.6,39.3,50.1,55.9,35.5,49.0,53.3,40.4,49.3,57.3,48.7,42.1,42.7,50.3,50.6,50.0,41.7,48.2,41.6,44.4,48.1,42.9,46.9,42.9,40.7,44.3,50.7,53.2,45.7,46.3,41.6,40.9,40.5,41.8,43.9,53.4,54.4,49.7,49.6,38.2,49.0,38.9,43.7,48.2,50.1,50.3,41.3,67.1,42.9,59.1,45.3,75.8,42.3,56.3,48.5,43.3,52.9,59.4,46.7,42.4,35.3,50.5,51.4,36.5,49.9,77.2,46.1,46.3,37.5,72.7,64.5,45.0,87.5,51.6,45.3,37.0,51.7,39.5,39.0,43.3,43.9,46.6,39.2,50.4,47.1,46.3,45.8,47.4,35.6,51.3,44.0,67.2,43.1,53.8,50.8,39.3,53.8,49.3,39.3,42.7,40.7,37.1,41.8,47.9,35.1,47.4,41.5,47.3,48.3,41.0,49.0,42.1,40.6,40.1,48.6,44.9,50.6,44.2,41.2,49.2,50.8,50.2,53.4,52.9,47.1,47.8,35.4,39.5,50.8,37.0,42.0,36.7,54.2,47.9,45.8,35.6,52.1,42.0,51.1,44.4,47.7,37.3,44.9,39.8,49.0,45.3,51.7,37.4,53.4,46.0,47.4,53.1,48.5,47.3,56.5,37.4,48.7,50.4,44.2,56.6,47.7,39.4,43.2,44.9,43.3,52.3,48.3,40.5,44.1,45.0,41.7,39.1,44.1,49.2,45.1,43.6,33.8,47.3,51.9,50.9,50.7,46.9,38.2,48.9,49.7,45.3,40.0,44.8,39.8,48.8,53.8,33.0,42.6,40.4,51.2,47.1,46.9,51.2,38.3,48.9,56.5,46.9,52.8,44.3,50.6,48.5,36.9,49.5,46.0,49.5,40.5,38.9,43.2,53.8,44.9,52.1,40.9,51.8,36.8,39.4,37.8,38.1,44.2,48.6,66.8,48.5,49.9,53.6,46.6,48.9,43.2,43.7,81.9,48.8,43.9,41.1,54.6,50.6,72.9,34.6,52.4,41.1,43.5,46.7,43.3,43.5,47.5,55.2,50.0,81.0,48.1,41.6,49.0,45.9,48.3,46.1,56.2,49.7,55.3,47.8,37.2,45.5,55.3,51.1,49.4,55.0,38.4,38.8,44.5,54.6,54.7,43.5,40.2,50.4,60.3,32.6,39.2,39.9,34.4,52.4,48.9,46.8,40.5,37.9,58.1,48.3,51.3,51.1,52.6,38.9,45.0,44.7,50.1,68.4,37.0,43.6,47.5,53.8,54.4,37.3,44.9,56.8,46.4,53.0,40.3,38.0,52.5,60.8,45.5,48.0,47.1,44.3,46.2,48.5,57.1,43.5,53.0,38.6,51.6,47.3,42.8,42.4,48.8,48.9,36.9,53.4,46.7,48.1,43.8,63.0,49.0,49.7,48.0,45.1,39.1,36.2,49.1,46.4,49.3,48.4,37.9,41.9,54.4,48.1,43.3,48.2,51.7,35.4,38.7,39.2,45.9,48.6,44.9,55.0,55.9,38.3,46.8,48.2,50.5,46.0,49.7,52.2,39.9,54.8,52.9,48.9,57.0,48.1,37.0,51.7,38.3,45.7,48.7,50.0,50.3,51.0,50.3,35.1,72.7,45.8,45.0,42.7,41.2,46.0,45.7,43.2,51.6,51.4,46.9,44.2,40.0,44.4,43.0,47.0,47.8,54.9,38.3,72.3,66.7,67.1,66.3,74.9,74.0,66.5,69.9,50.0,48.6,53.1,38.4,55.8,43.9,45.7,60.3,56.0,39.8,50.8,48.7,45.0,34.0,50.3,47.4,49.6,45.1,47.5,47.3,41.1,52.7,50.2,49.0,53.7,43.5,43.7,52.1,40.7,43.2,46.2,46.6,47.1,40.0,43.7,47.8,44.7,53.6,51.9,36.1,51.6,48.6,47.6,45.5,47.8,50.0,49.3,56.9,47.2,42.2,50.5,55.0,48.0,48.4,49.7,43.9,47.9,39.1,46.7,49.8,44.7,37.4,51.7,45.0,49.7,50.2,45.8,60.0,39.4,46.8,36.1,49.7,47.6,44.1,47.3,41.0,45.2,63.4,52.3,50.6,47.8,41.6,50.5,42.7,58.4,45.7,48.0,50.6,44.7,68.6,46.7,50.6,51.1,46.0,42.1,49.3,42.8,53.0,47.6,45.8,52.8,37.5,37.3,41.3,53.0,42.9,46.7,53.4,35.7,43.7,48.5,30.4,38.2,30.4,64.0,74.0,34.0,32.1,32.1,41.4,35.8,41.9,28.6,61.1,40.8,39.8,74.3,74.0,39.1,37.3,37.3,74.3,37.2,52.5,35.7,32.1,37.5,35.7,43.8,38.3,35.7,45.3,52.3,51.3,29.8,30.4,50.3,38.3,47.7,65.4,32.5,32.1,46.1,32.1,48.0,39.4,30.4,69.1,31.8,57.7,67.3,42.8,32.1,52.1,53.6,36.1,40.6,45.2,46.6,49.8,42.7,46.4,43.5,52.6,38.1,42.6,63.3,48.8,50.8,43.6,41.1,44.8,51.1,43.4,53.4,54.6,47.6,44.1,49.9,50.8,48.8,36.8,47.5,52.6,49.8,39.1,64.6,52.1,49.0,51.0,54.7,28.0,28.0,28.0,28.0,28.0,28.0,28.0,28.0,28.0,28.0,28.0,28.0,28.0,28.0,28.0,28.0,28.0,28.0,28.0,28.0,28.0,28.0,28.0,28.0,28.0,28.0,28.0,49.4,50.2,46.4,55.2,41.8,44.9,39.3,41.4,58.8,38.5,50.7,42.0,40.9,36.7,48.6,41.7,45.6,44.6,64.3,35.4,40.2,41.7,42.1,49.0,50.4,51.7,47.5,38.4,46.1,38.3,44.5,37.9,48.5,50.7,53.7,52.8,41.6,42.3,43.4,39.9,47.7,44.0,40.1,47.4,49.5,48.6,46.4,48.1,50.5,40.5,60.7,43.6,52.6,48.6,51.4,41.7,45.6,49.3,35.7,51.7,53.9,48.6,41.6,47.8,40.1,50.5,46.0,53.2,41.3,45.8,43.8,63.9,43.5,41.9,39.2,36.1,41.3,77.0,43.7,51.3,45.9,49.2,42.7,41.8,38.4,38.3,51.8,49.7,52.0,55.0,53.0,28.8,52.0,59.1,47.1,56.5,58.1,35.0,48.0,50.0,62.7,37.2,29.0,39.0,38.5,57.5,57.4,51.4,57.4,53.0,55.0,55.0,52.0,42.1,51.2,42.3,53.5,39.7,62.5,45.2,44.8,60.8,49.7,42.0,60.1,36.8,55.0,51.5,42.7,53.3,40.2,52.9,45.4,50.1,46.4,49.9,51.2,45.8,44.7,37.6,46.4,43.9,50.6,79.9,52.7,43.8,44.4,46.3,46.8,50.2,47.7,55.5,48.7,50.3,39.2,50.1,41.4,50.6,47.7,47.9,45.3,46.4,46.4,40.8,50.8,49.6,49.6,34.5,55.8,43.0,48.2,44.4,48.0,40.9,51.6,46.0,52.8,44.3,54.0,41.6,44.3,47.0,52.7,42.5,43.3,56.9,42.5,48.2,60.3,40.0,43.1,53.1,49.7,53.4,64.9,47.5,45.3,50.6,45.2,45.8,55.4,38.4,52.8,39.2,39.6,38.3,40.0,39.1,51.7,38.1,49.1,52.7,41.6,49.0,54.5,54.8,52.6,49.1,47.9,41.8,38.3,47.9,39.6,49.8,48.0,45.1,30.5,48.9,45.0,47.6,39.9,40.8,45.7,49.3,43.4,50.9,44.5,37.7,40.4,63.6,51.5,41.9,52.8,48.5,48.6,49.6,53.7,54.9,36.7,43.5,50.0,57.8,42.0,43.2,75.8,44.5,43.3,38.4,51.4,50.5,40.3,47.6,50.9,46.1,38.7,48.0,49.8,45.5,37.7,42.8,42.5,43.2,47.9,44.5,44.5,54.0,35.4,71.9,45.6,50.7,35.8,51.9,82.0,45.4,43.7,46.1,51.7,39.2,48.6,48.3,49.3,56.8,89.7,47.4,48.7,46.5,34.2,67.9,41.4,47.3,84.7,47.4,49.4,70.4,50.4,43.9,63.5,36.3,51.1,41.2,69.7,49.8,42.8,59.2,85.9,41.5,45.5,48.8,37.8,48.6,47.7,44.7,38.2,61.5,37.7,41.6,81.3,49.2,60.3,51.3,46.5,53.9,42.5,49.9,44.4,48.8,33.4,39.9,51.2,53.9,49.7,50.1,36.1,56.3,49.6,55.3,51.0,49.6,48.6,46.1,45.0,52.0,56.9,35.9,38.6,45.2,61.5,41.0,55.4,55.5,53.2,39.8,51.8,41.5,40.7,39.0,81.8,40.8,47.4,47.8,57.3,48.5,43.7,51.6,51.5,43.4,51.0,51.1,38.1,44.1,38.7,48.6,39.4,36.7,53.7,54.6,40.6,39.2,48.1,46.7,47.9,50.7,50.3,44.4,48.3,49.1,47.1,42.6,54.6,56.3,37.4,78.3,48.2,42.5,44.7,52.5,51.3,46.2,49.3,52.1,51.0,46.6,49.6,48.7,50.5,53.1,53.1,50.6,45.7,42.3,82.7,45.2,50.1,39.0,89.5,45.5,35.9,52.3,44.3,37.6,43.5,47.2,41.6,46.1,38.5,45.4,77.0,68.9,57.0,46.6,46.7,38.9,42.5,38.5,55.0,58.0,64.7,45.9,52.4,47.2,49.6,33.7,40.8,46.7,42.6,40.8,46.8,44.7,49.5,49.6,91.8,47.0,49.5,47.0,38.2,57.7,45.6,45.9,37.7,46.6,52.1,37.5,51.9,56.5,60.0,51.8,52.5,51.7,47.0,47.2,38.2,49.8,44.0,59.2,60.4,43.5,37.6,49.7,43.2,97.7,71.3,36.8,53.4,47.3,41.7,56.7,35.5,56.8,43.3,41.7,66.3,49.7,37.7,46.9,57.8,65.5,59.7,45.3,52.0,50.9,36.8,49.3,46.0,50.4,60.7,52.8,52.6,52.9,37.8,55.7,41.3,44.6,43.8,38.9,44.9,43.9,50.5,46.4,43.9,49.7,41.6,46.8,53.2,48.2,47.4,46.9,47.5,34.2,50.6,52.4,46.3,38.0,36.4,51.8,45.8,37.6,41.1,91.9,46.7,33.5,43.8,51.4,48.9,49.3,46.1,32.7,48.5,78.9,45.8,46.4,50.6,50.0,54.6,41.2,87.8,47.0,54.6,78.0,32.1,42.9,69.6,45.1,51.3,27.9,42.0,41.3,47.8,39.6,51.9,48.3,49.5,51.4,38.1,64.4,38.8,42.7,52.3,53.4,45.8,44.1,89.8,48.5,51.3,81.5,75.2,48.5,40.9,80.2,51.2,41.7,41.6,46.9,40.4,50.5,46.2,55.0,66.5,53.3,55.6,41.0,44.8,56.6,48.5,35.3,47.0,54.2,40.0,40.9,56.5,47.4,40.3,76.7,48.8,55.5,39.6,45.7,89.2,41.2,47.3,48.4,88.5,35.5,57.6,54.2,46.8,42.1,51.8,35.2,41.7,50.1,48.7,54.7,39.1,49.4,40.2,54.8,40.9,41.8,51.6,53.5,79.8,47.2,39.0,45.3,51.2,38.9,90.7,51.6,65.4,43.2,37.3,39.7,88.4,88.0,88.4,85.9,88.5,88.4,83.2,87.8,88.4,87.5,88.4,88.4,87.9,52.4,43.4,39.3,39.0,46.3,40.2,49.0,47.0,46.7,50.0,46.5,37.7,40.6,51.5,42.1,40.3,49.3,75.6,37.0,38.2,55.9,42.6,38.8,58.2,57.0,47.3,42.8,36.5,51.1,44.0,49.2,51.8,81.3,67.7,43.5,44.9,64.1,42.2,43.7,45.9,46.4,55.0,51.5,45.6,55.1,45.9,44.9,53.1,90.8,47.5,38.7,39.1,48.2,44.2,47.7,46.0,48.9,38.0,47.0,50.9,65.2,50.3,52.1,65.2,52.2,50.3,50.7,52.7,41.8,43.2,47.9,41.0,38.4,34.5,37.8,44.6,43.4,50.0,51.2,42.3,55.9,43.5,38.6,33.6,42.5,48.7,47.1,42.9,81.7,39.8,48.7,44.3,43.0,37.1,38.7,55.7,36.5,38.8,40.6,47.2,52.7,44.2,44.0,43.9,53.6,52.6,47.1,48.7,46.8,51.0,45.4,90.8,44.6,36.7,49.2,48.5,68.6,46.8,44.4,58.5,53.7,47.5,52.4,63.7,62.2,64.2,62.2,58.3,62.1,26.9,58.9,25.2,62.6,57.0,47.7,38.7,35.5,31.7,46.9,45.2,26.7,41.3,48.5,48.6,36.6,54.1,33.7,57.0,31.1,53.8,33.3,58.1,57.8,45.7,59.6,38.9,48.8,48.6,47.8,48.3,47.0,46.7,38.9,36.6,28.7,49.5,46.7,47.9,42.9,31.4,36.1,29.2,30.4,39.0,27.5,47.6,31.5,51.2,52.6,51.0,46.7,25.6,25.9,45.4,49.2,54.5,55.3,26.9,54.3,58.0,48.5,37.6,47.6,28.4,50.9,33.7,36.0,85.3,48.7,52.4,40.2,49.4,43.9,42.0,80.1,48.1,39.8,45.6,51.0,60.7,52.4,37.8,53.5,54.6,43.1,53.4,41.7,47.1,38.8,76.8,40.8,42.8,50.0,41.1,55.1,49.1,40.6,70.8,55.0,64.4,91.2,45.5,37.0,53.6,42.2,62.8,56.9,47.3,47.9,68.3,51.0,48.6,39.9,57.6,45.2,42.2,63.3,69.8,47.2,47.7,64.3,42.2,47.1,51.5,44.5,47.8,47.7,39.2,37.7,45.9,48.9,43.9,41.9,39.0,47.3,49.4,51.7,44.9,49.1,40.9,48.8,47.3,45.4,44.3,49.6,46.5,44.5,51.2,42.1,44.2,42.6,45.7,49.9,33.1,51.4,43.4,44.7,39.8,91.2,49.5,46.1,48.5,49.0,39.4,39.3,40.0,42.2,50.5,81.9,42.9,41.7,90.1,46.5,40.2,56.7,43.3,47.9,55.5,46.9,43.7,76.2,51.2,45.2,45.7,52.8,51.9,57.0,48.8,76.7,47.5,47.0,53.8,46.0,43.3,68.9,38.4,64.1,47.2,35.6,88.1,46.0,43.3,57.7,42.1,41.1,77.0,47.7,67.5,41.0,82.2,53.5,37.6,70.3,52.1,41.7,67.7,43.7,39.7,49.9,47.1,50.2,57.3,67.9,38.3,38.7,43.9,42.0,46.8,47.1,59.3,55.0,71.2,79.4,51.0,54.3,37.6,51.8,48.8,50.3,45.2,49.7,47.0,53.4,43.5,72.7,42.1,40.0,50.7,54.4,52.9,66.7,43.3,48.3,52.0,46.3,45.4,45.8,38.9,52.3,47.6,56.0,46.6,54.5,52.5,49.3,50.8,34.1,44.0,41.6,48.7,50.4,45.4,53.0,46.0,43.7,33.8,41.4,36.7,48.2,42.4,41.9,40.7,48.3,45.8,51.5,71.8,53.8,43.8,42.6,42.2,42.2,61.4,46.7,49.4,49.2,45.5,38.0,37.9,42.4,37.7,50.6,40.4,42.5,35.0,50.4,51.8,74.8,46.2,50.7,74.9,45.6,40.3,54.6,57.0,49.0,41.6,52.0,38.5,41.3,38.7,38.1,43.4,45.5,50.1,57.7,46.0,50.9,36.9,66.7,57.6,41.9,50.0,90.2,54.0,76.5,39.9,54.7,39.9,54.5,48.5,52.1,70.0,42.1,56.1,38.3,35.8,49.2,39.0,44.5,42.9,73.5,37.1,43.3,48.1,61.5,44.8,71.0,44.9,48.9,50.6,48.0,44.9,41.4,45.7,48.8,41.5,49.0,41.9,44.3,51.0,46.5,44.3,45.8,50.5,46.8,54.1,40.8,46.3,53.0,43.4,44.5,49.2,45.4,69.0,58.0,49.5,71.2,74.0,52.9,65.3,74.9,68.3,80.3,74.5,63.4,74.6,68.4,72.7,73.8,58.9,79.1,74.0,74.7,66.6,66.6,65.9,70.4,66.9,39.0,74.5,64.9,72.8,42.9,38.8,51.7,47.9,71.5,33.5,51.6,35.4,59.4,54.7,40.5,49.6,48.6,69.5,49.2,45.6,46.7,39.4,51.0,45.2,66.8,48.4,44.2,41.3,50.7,49.8,47.7,53.0,70.1,43.2,52.1,38.9,42.1,47.1,41.5,47.6,48.8,52.9,55.2,97.0,96.6,48.4,91.0,49.7,53.5,47.5,87.1,42.6,38.6,44.5,45.3,51.5,45.5,64.5,54.6,50.0,72.3,38.0,48.6,39.6,79.4,50.2,51.5,42.7,66.9,48.7,33.3,34.4,53.9,37.9,48.1,42.3,45.4,50.1,52.3,47.3,44.7,37.4,46.9,51.1,48.6,41.5,51.3,40.8,33.7,71.0,53.0,54.1,47.4,87.2,39.0,38.3,45.3,72.7,66.2,93.0,76.8,42.6,36.4,50.3,44.5,42.0,47.0,43.6,45.5,43.7,51.4,48.4,54.6,73.6,45.2,47.8,67.1,54.0,48.5,40.8,69.7,52.7,38.5,42.1,42.6,47.1,47.6,69.9,48.0,47.3,42.3,76.4,51.3,37.0,38.7,42.0,38.0,38.4,51.7,39.0,53.9,45.2,47.7,47.3,47.1,50.0,42.2,68.9,50.5,42.6,70.7,48.6,45.0,39.0,44.1,42.0,40.1,47.5,56.1,43.3,55.9,47.7,41.0,53.7,39.6,39.5,48.7,49.6,52.6,53.1,48.5,42.7,43.7,55.0,37.3,45.1,40.2,42.6,36.8,47.6,43.3,34.2,48.6,40.5,54.4,49.6,45.1,51.3,44.1,73.1,46.0,36.5,51.2,47.3,81.7,89.9,53.7,48.4,49.1,51.6,36.6,47.2,50.0,54.6,50.9,39.8,42.6,98.5,38.7,84.1,53.2,46.1,47.5,45.9,33.7,49.3,42.4,41.9,49.8,54.4,38.5,52.4,43.1,56.0,51.5,52.5,45.9,49.3,41.0,48.0,45.6,54.1,40.9,45.6,47.8,51.8,53.0,38.2,56.8,50.1,52.5,58.2,53.3,55.2,55.4,66.8,47.4,43.2,43.1,47.8,82.4,48.6,59.2,46.6,45.2,46.0,49.8,48.4,37.3,48.9,48.5,48.7,54.4,48.8,46.8,41.2,37.9,55.8,44.9,46.2,50.1,38.6,45.6,35.8,58.0,56.3,47.2,50.9,39.9,43.4,86.6,49.3,41.6,39.1,52.6,57.4,50.3,51.8,50.9,53.7,40.9,41.8,83.7,41.1,38.8,48.8,65.0,40.9,47.7,83.2,44.7,48.1,46.8,39.3,45.3,45.0,46.3,61.7,56.2,39.4,80.7,56.3,54.7,74.9,56.6,51.2,45.7,37.7,34.8,41.9,47.3,54.8,51.6,43.5,75.1,46.0,51.5,49.3,66.9,46.9,56.8,39.3,53.7,52.6,37.3,49.0,49.4,39.9,53.9,50.9,50.5,47.0,41.2,46.0,68.7,51.0,44.2,47.0,45.5,42.6,46.0,38.0,46.7,41.5,49.0,48.1,40.8,39.9,53.5,36.3,51.4,41.4,41.0,48.5,37.4,49.6,49.7,45.3,37.2,49.5,49.1,44.4,49.0,39.3,39.7,48.1,46.7,39.9,41.8,45.6,37.4,48.8,40.3,43.7,50.4,41.4,49.8,48.4,43.4,37.6,40.9,49.1,51.8,43.4,47.5,39.4,59.7,65.2,46.3,50.9,46.9,50.3,58.0,50.1,52.2,49.8,44.0,38.2,47.2,45.4,43.2,52.3,44.9,44.2,41.7,47.0,43.2,38.0,58.4,52.9,39.6,62.1,42.2,47.8,41.6,51.6,41.8,55.2,40.5,48.1,45.9,45.7,45.4,45.4,49.8,88.4,61.0,40.3,44.8,50.6,43.8,50.8,52.9,45.0,44.0,42.3,42.3,44.0,47.0,43.2,50.2,45.7,44.5,42.0,42.0,50.8,41.8,50.0,46.8,44.2,45.5,46.5,44.2,44.2,44.5,43.8,45.0,41.8,44.0,44.7,42.7,43.8,43.0,40.0,42.5,42.0,55.2,43.5,45.8,42.2,42.0,42.5,42.0,42.5,44.3,45.8,45.2,42.7,45.5,44.8,45.3,42.2,42.5,42.7,42.2,45.0,45.0,44.0,45.8,52.5,57.2,45.8,42.0,51.0,39.0,46.0,48.5,37.5,39.0,39.8,44.2,46.5,45.5,37.0,39.2,38.2,49.2,46.5,40.5,45.5,41.8,46.0,41.2,41.8,44.5,39.0,42.2,49.5,40.5,38.5,41.2,42.0,38.2,45.2,50.0,43.0,39.2,40.8,39.8,40.8,34.5,57.8,48.2,42.2,47.8,48.0,45.5,42.0,43.2,47.0,37.0,41.5,41.5,42.5,33.0,57.0,47.5,44.5,39.0,40.8,43.7,40.8,43.3,40.8,43.8,41.8,43.7,43.0,44.0,38.8,39.8,40.3,41.0,39.2,46.0,40.8,42.0,42.5,43.5,42.2,43.2,43.8,45.5,40.5,44.8,44.5,44.5,42.3,40.7,42.0,41.0,42.7,43.2,43.7,43.8,39.1,45.5,43.7,41.0,52.2,33.8,53.8,43.2,52.5,45.1,45.7,42.7,39.3,46.3,44.2,45.3,42.0,50.0,45.3,38.6,41.9,43.3,49.0,46.2,56.3,48.7,44.3,49.1,41.9,61.1,50.7,43.9,35.0,55.8,44.8,44.3,68.1,49.7,49.9,40.0,43.1,46.5,43.2,45.0,44.8,44.0,43.5,51.3,47.0,45.8,48.2,47.1,64.5,51.6,58.4,47.9,44.1,58.5,61.2,53.0,48.8,46.2,38.9,64.7,51.9,47.9,63.4,59.6,38.1,49.4,40.4,38.8,45.6,54.9,51.8,43.5,37.7,44.1,48.0,35.9,41.0,51.1,91.4,55.8,55.1,35.5,42.4,38.2,51.4,54.6,41.3,53.1,48.6,68.2,61.5,48.5,80.7,41.8,51.0,35.7,49.8,48.8,44.4,48.3,52.1,53.2,74.7,45.4,51.0,50.0,39.0,45.8,51.2,42.8,40.9,37.4,51.1,53.0,48.5,50.4,48.5,70.1,83.3,48.2,52.3,51.2,42.5,49.6,38.8,53.5,48.1,41.0,45.2,51.9,45.4,37.7,60.4,48.8,37.7,43.7,49.9,38.2,57.4,62.8,42.5,51.2,41.6,40.7,50.8,48.7,45.3,35.0,55.0,47.0,47.5,49.4,44.3,42.9,55.4,37.3,39.2,44.4,41.8,47.9,51.1,40.9,44.6,42.1,46.6,49.4,42.9,66.5,41.0,42.6,54.3,46.9,47.0,35.1,46.8,39.0,47.5,55.5,45.9,50.8,52.3,46.9,49.5,48.5,55.4,49.9,69.7,68.5,43.2,45.5,33.8,50.0,50.7,39.7,75.3,60.0,62.0,43.2,90.1,45.0,53.4,56.5,41.3,49.1,43.7,42.5,74.4,41.0,81.6,40.1,50.4,40.9,83.9,68.3,45.9,43.7,45.4,41.4,51.2,41.6,49.9,45.8,46.0,43.9,38.8,52.1,49.1,47.7,49.3,42.2,42.7,43.6,54.0,44.6,47.3,60.7,46.3,51.8,57.4,74.4,53.9,85.8,39.4,49.4,44.0,38.6,47.8,51.4,45.9,42.0,49.7,36.8,52.4,40.6,47.7,77.0,42.1,45.1,46.1,47.2,46.0,72.5,90.6,38.3,66.9,75.9,52.4,80.2,74.0,44.7,40.7,88.0,44.7,40.5,42.6,57.0,42.8,47.2,86.6,79.1,41.9,37.9,38.4,40.7,44.1,38.8,51.9,51.9,51.8,59.8,46.8,52.9,49.1,36.3,55.0,46.6,52.6,38.9,45.5,38.6,37.8,43.8,42.0,64.4,40.5,61.8,46.6,40.5,52.0,55.1,91.3,43.5,52.0,42.8,52.2,49.7,35.4,48.6,44.8,38.3,35.2,38.5,51.0,71.9,42.7,51.2,49.1,49.8,57.2,39.1,46.3,35.5,33.6,45.2,40.9,45.8,55.9,44.1,51.6,36.8,37.6,41.9,47.3,51.2,44.1,41.8,50.4,37.2,55.4,55.4,70.8,40.1,44.4,41.9,56.8,42.3,78.6,45.4,44.7,44.0,37.0,37.0,37.0,37.0,37.0,37.0,37.0,47.4,37.0,49.9,45.1,45.1,72.7,44.0,46.8,38.2,37.5,85.2,82.3,86.8,85.4,85.4,94.2,87.7,92.3,94.8,89.4,87.4,89.0,94.0,93.9,86.4,95.8,97.0,96.1,88.4,88.3,93.4,91.8,92.3,91.6,84.6,92.9,93.0,90.7,90.1,90.7,86.7,43.1,41.1,38.5,37.7,45.6,69.5,36.0,37.8,64.9,73.1,61.7,63.3,47.2,97.1,52.9,59.3,87.6,40.2,45.5,34.1,45.2,38.8,35.5,47.2,40.2,48.1,49.9,52.1,55.2,40.4,62.4,45.0,40.1,46.6,77.8,45.6,71.5,92.5,41.7,50.1,44.1,53.1,51.8,63.8,53.0,49.7,52.0,43.9,44.5,49.5,39.2,74.8,39.1,50.7,70.5,36.6,44.8,39.2,47.2,78.8,46.1,30.1,49.4,87.1,45.5,86.8,86.6,60.0,44.3,48.1,49.7,54.2,47.3,49.2,86.5,103.5,108.5,51.8,44.4,41.1,33.7,66.3,82.0,75.4,64.8,51.1,35.4,54.9,35.4,86.8,86.3,85.1,37.7,41.5,72.2,80.8,51.4,48.4,45.8,74.2,37.5,33.5,43.1,47.0,47.5,47.5,45.6,54.1,52.1,45.3,49.7,47.2,50.4,46.4,54.2,48.8,87.0,50.0,48.7,48.8,38.9,48.4,54.0,33.1,37.6,44.9,39.4,76.3,44.7,42.3,36.7,47.4,51.9,53.0,46.6,62.4,44.8,49.6,37.2,40.7,48.0,52.6,47.6,38.8,37.6,79.4,49.0,42.4,45.7,50.3,49.4,50.3,39.7,50.9,46.0,42.3,38.2,48.6,43.2,50.4,71.8,41.6,50.9,49.8,49.0,51.0,50.0,54.3,53.6,51.8,49.7,47.9,47.7,66.8,53.9,46.7,50.7,55.6,51.7,75.8,47.4,48.0,57.1,47.4,36.9,50.9,50.9,43.2,33.2,43.1,34.0,45.6,82.9,72.7,34.1,63.9,55.8,65.8,40.0,96.2,71.1,54.6,39.7,48.6,43.3,39.7,38.8,60.0,41.2,36.6,77.8,68.5,39.4,52.1,89.0,42.2,46.6,53.9,54.3,43.9,49.6,45.8,40.5,40.4,49.4,47.0,48.1,41.5,86.2,48.1,50.1,46.5,44.5,43.1,50.0,46.2,40.3,41.6,40.6,40.8,52.1,46.3,51.4,42.1,46.0,44.1,43.2,53.9,55.0,42.9,42.6,53.9,74.2,51.5,45.2,59.7,41.3,48.4,46.1,39.6,45.4,50.8,81.7,40.9,55.6,50.9,42.3,42.0,64.3,77.7,55.3,48.2,37.0,46.4,44.7,40.0,47.9,46.7,41.2,43.6,44.9,42.4,74.3,77.6,38.9,48.1,48.8,66.1,47.8,81.1,96.5,44.1,94.7,49.4,41.9,44.1,58.1,50.5,39.8,84.9,40.3,45.2,41.0,46.2,49.3,51.2,41.6,47.3,80.2,46.7,42.6,49.9,55.9,51.2,50.9,49.1,52.2,66.0,39.1,55.2,48.9,39.8,47.8,46.2,45.8,50.3,46.5,43.2,74.7,47.1,50.0,58.1,63.2,61.1,59.2,59.2,59.3,59.3,62.0,59.5,57.2,58.2,57.8,58.7,58.0,58.7,58.7,60.3,64.4,64.1,60.0,61.2,59.9,62.5,64.1,61.4,60.8,58.7,58.7,58.8,55.6,59.1,59.5,58.9,59.4,57.8,59.3,49.7,49.5,44.2,46.4,52.2,54.6,57.8,47.6,56.6,55.9,43.7,49.3,51.1,50.3,49.1,39.6,41.2,51.3,46.5,44.6,49.5,81.4,81.4,28.0,80.9,80.0,72.1,42.2,36.8,42.2,67.6,36.8,72.9,74.0,79.4,83.6,81.7,72.7,76.4,77.0,76.5,83.3,70.1,79.3,82.5,81.7,84.2,71.3,78.6,28.0,79.3,78.3,73.0,79.0,78.3,79.1,76.2,74.0,66.2,74.5,72.8,76.5,77.0,76.2,76.2,70.5,74.8,74.8,76.6,76.5,47.7,49.6,49.4,47.3,56.7,51.6,38.9,34.9,54.6,53.6,48.8,43.7,50.4,84.4,45.7,46.4,42.8,69.4,48.6,45.4,49.9,57.7,60.7,54.1,49.1,49.9,57.5,38.1,51.0,52.3,44.2,45.9,48.9,41.2,47.7,50.8,54.7,42.2,66.9,63.1,49.1,53.3,48.9,47.0,42.2,72.3,43.1,48.0,50.2,49.0,47.2,46.5,42.7,54.5,53.3,51.1,38.1,54.7,67.1,45.3,55.0,35.7,49.0,46.0,48.4,49.7,48.4,50.6,51.5,51.0,51.9,47.8,52.4,50.7,46.4,46.0,54.3,50.0,53.9,48.3,51.0,54.1,52.3,59.2,53.7,50.5,47.1,50.4,52.3,48.6,51.0,49.7,46.2,48.7,42.9,52.6,37.2,44.4,43.3,57.6,80.6,40.2,41.7,53.7,63.3,36.8,47.5,49.8,45.7,67.7,52.4,84.2,83.6,53.4,85.6,45.0,51.2,57.5,41.5,48.0,37.4,49.7,40.7,86.1,45.9,72.6,52.9,98.2,50.3,46.3,55.4,44.1,43.4,47.8,92.1,46.8,52.5,47.5,53.5,45.5,49.4,48.9,49.3,36.6,44.4,45.9,42.5,50.1,46.2,49.5,46.3,44.6,40.2,50.1,40.2,32.3,50.5,75.4,39.6,47.2,46.8,62.1,50.0,48.2,57.4,46.2,42.0,40.6,42.8,50.8,34.6,43.2,45.3,49.0,44.5,51.6,52.6,49.2,76.1,78.2,43.6,48.9,45.6,42.7,51.8,50.9,42.6,46.1,66.0,48.8,44.8,95.0,76.3,37.5,45.5,52.0,40.7,34.6,40.8,48.5,50.7,50.1,39.0,53.4,50.4,85.0,54.3,47.2,38.6,37.0,79.9,43.2,83.1,48.2,45.1,48.4,57.0,63.4,39.1,41.0,71.3,34.4,80.9,78.1,47.2,34.7,50.1,55.8,36.7,44.5,43.0,88.9,73.3,38.6,42.4,43.9,91.1,93.8,40.9,51.9,82.7,55.0,46.0,74.2,90.0,41.9,49.9,43.6,57.9,43.8,46.8,47.5,70.6,37.8,47.2,46.0,42.6,46.7,56.1,48.3,35.5,43.0,55.2,50.4,51.5,72.5,39.6,51.4,48.1,52.5,63.9,82.9,43.0,42.4,47.3,44.0,55.2,38.4,45.5,46.8,65.8,43.6,41.4,51.2,52.1,44.3,53.2,69.4,53.9,42.1,38.1,58.1,43.3,42.4,42.5,46.6,39.6,43.0,48.6,44.0,78.3,50.5,36.8,37.7,45.9,37.6,48.7,45.3,45.7,51.5,68.0,53.1,44.7,32.2,36.9,43.5,47.9,70.1,40.1,46.1,55.3,47.7,40.6,48.8,49.6,36.0,50.9,46.4,47.1,44.0,53.0,44.2,47.3,39.8,43.7,45.4,48.6,49.7,50.2,52.7,67.0,64.9,39.6,36.8,88.8,57.6,55.7,48.9,38.5,43.8,48.6,53.5,56.3,47.4,45.7,43.9,50.3,47.8,52.4,88.0,53.3,46.7,50.1,76.0,47.9,50.4,35.9,73.6,42.9,53.1,50.0,42.9,83.8,47.2,50.0,46.0,42.1,48.8,74.4,44.8,45.4,47.4,41.5,50.3,52.5,48.5,42.8,51.7,56.5,47.8,35.9,54.1,38.5,69.0,40.1,38.6,79.1,46.0,57.4,48.2,48.6,44.0,91.0,42.9,87.4,46.9,96.6,48.4,67.1,46.7,62.7,51.9,43.6,41.1,46.7,44.3,62.2,68.9,91.0,43.8,41.6,70.7,49.9,44.2,34.7,44.7,86.5,48.4,83.7,50.6,59.5,47.1,88.5,47.5,77.2,39.4,58.3,95.7,82.3,86.4,45.9,48.9,49.4,48.7,50.8,78.5,54.6,39.7,46.5,43.5,43.7,45.4,91.2,54.3,61.7,41.4,48.0,39.4,71.7,42.0,51.1,44.5,38.6,83.5,84.4,48.1,69.5,46.8,91.5,39.3,42.3,48.2,40.0,47.3,46.9,43.3,40.4,44.4,50.5,69.0,41.1,51.4,48.6,56.6,49.3,46.2,86.0,49.3,47.1,46.8,41.9,42.8,37.6,49.7,37.9,51.5,53.2,52.1,56.6,50.1,42.2,54.1,89.1,47.2,82.1,62.6,51.2,48.3,52.0,46.4,44.8,50.2,42.3,41.1,42.4,49.5,74.7,48.3,50.6,78.1,87.1,77.2,84.3,98.2,86.2,52.1,45.2,85.2,52.6,78.7,80.5,57.5,55.1,90.8,67.2,72.2,53.5,42.3,52.8,43.9,48.3,51.7,76.4,70.4,37.9,51.9,73.8,39.6,69.9,45.4,54.4,47.7,53.7,47.5,71.9,46.8,49.9,42.0,39.9,48.8,94.8,68.9,61.9,48.0,47.4,48.4,40.6,42.3,41.5,52.4,41.7,36.2,48.1,46.6,51.0,51.2,66.6,49.1,43.1,39.9,40.6,44.5,74.0,67.2,38.9,48.7,57.3,34.5,83.7,35.6,41.3,52.1,41.9,56.1,37.4,37.9,47.6,48.7,82.5,55.5,47.7,45.2,74.6,68.8,72.8,47.3,79.3,41.0,64.1,77.4,90.8,71.4,69.1,45.8,45.6,59.2,71.6,63.2,39.3,46.4,52.5,47.7,80.2,68.5,39.5,46.9,72.0,51.5,55.0,41.2,37.6,89.1,47.8,41.5,46.2,47.0,46.0,50.6,44.9,75.5,46.3,81.9,41.9,38.6,56.5,53.5,42.6,43.0,51.0,40.2,45.0,38.7,50.9,85.4,49.6,44.4,49.3,47.5,50.9,77.4,41.8,38.6,54.7,42.9,45.0,57.9,54.7,37.0,82.4,40.7,49.7,38.6,43.6,39.2,46.2,35.4,46.5,41.0,55.7,32.5,53.0,45.5,42.3,42.6,71.1,45.3,46.1,36.5,52.8,39.8,54.8,57.2,73.5,68.7,87.9,66.2,48.5,45.6,37.3,58.6,78.1,89.5,46.3,37.0,45.0,80.5,42.3,69.4,47.5,43.6,48.2,58.0,45.1,50.0,39.3,43.5,38.4,69.6,48.5,39.4,50.3,51.4,82.1,74.4,46.5,35.5,49.4,52.0,53.4,44.6,69.1,47.8,48.1,54.0,47.2,72.6,37.6,43.5,51.6,45.5,45.3,72.9,50.1,50.8,51.9,38.2,79.2,73.9,43.7,53.7,39.7,51.4,44.6,60.2,42.6,40.0,40.3,53.0,42.0,38.8,49.6,42.3,53.2,51.1,48.7,49.5,43.9,44.2,53.5,45.0,46.2,45.8,54.6,51.1,36.8,45.4,51.6,52.4,52.8,41.6,47.0,32.5,68.4,50.4,49.7,48.4,48.3,45.3,34.8,68.9,42.9,48.4,42.6,51.9,43.4,54.9,38.6,38.9,49.3,43.8,53.5,45.8,35.7,53.8,45.9,50.4,37.1,35.4,67.6,38.9,44.8,84.3,64.4,52.3,57.4,96.1,54.2,37.7,54.3,51.4,42.8,46.5,39.6,73.4,35.8,35.7,41.0,37.0,55.0,44.4,44.1,46.2,44.3,55.4,45.0,50.7,46.3,51.5,46.8,50.3,45.8,53.6,49.0,46.3,48.8,45.6,42.2,42.7,47.8,52.9,53.6,43.7,62.2,53.4,41.2,49.6,34.2,54.9,45.5,45.1,38.3,82.4,48.5,43.6,48.1,41.3,52.7,44.5,89.7,56.5,48.0,50.3,42.0,51.6,86.3,43.4,56.0,53.8,32.2,93.5,37.2,48.4,32.6,51.3,51.8,85.0,37.7,35.9,50.6,53.1,37.4,60.0,81.0,51.6,48.5,53.2,43.2,91.2,46.6,54.2,42.9,95.1,51.0,58.2,49.3,45.5,52.4,34.9,46.4,49.1,50.0,91.4,65.5,49.7,47.8,50.1,48.4,55.8,52.4,49.5,45.9,54.1,44.5,78.7,53.4,59.8,47.5,51.5,51.9,87.9,63.9,92.1,44.7,49.3,54.3,92.9,44.7,52.4,48.6,86.4,55.5,46.6,54.5,51.9,39.2,47.0,43.4,45.6,46.5,58.1,50.7,45.9,49.1,51.9,36.5,52.1,45.1,55.2,39.3,52.0,51.6,89.5,54.2,39.2,45.0,49.6,85.9,41.7,43.0,58.0,55.3,59.5,60.4,44.1,57.3,55.1,68.9,82.8,65.8,62.2,82.0,74.7,80.7,82.3,79.1,78.1,79.2,77.4,89.0,55.6,48.9,86.8,65.4,60.7,49.7,49.4,87.7,52.5,47.7,46.3,39.6,41.0,41.5,71.1,62.2,58.2,58.0,50.7,49.0,45.3,50.4,51.4,43.2,52.4,48.6,45.1,57.0,43.5,48.6,52.0,61.7,52.8,65.3,40.5,38.6,49.1,37.1,51.3,47.9,38.1,49.2,44.4,46.9,44.1,44.5,55.9,53.4,48.9,88.6,83.8,63.8,90.2,75.1,43.8,57.9,44.1,55.4,91.2,43.9,56.4,58.0,51.1,37.8,53.3,47.6,39.2,56.0,90.4,49.6,44.0,51.1,41.6,43.9,52.1,56.1,54.2,45.5,87.1,53.7,71.4,40.5,74.8,46.5,34.7,46.1,48.6,43.2,40.0,71.0,44.6,45.0,48.7,50.1,42.7,58.1,49.7,49.9,47.8,40.3,55.4,92.8,46.2,87.7,49.0,37.3,46.2,58.4,42.4,51.7,56.0,40.0,45.0,45.6,43.1,45.3,40.6,54.6,40.6,42.8,43.3,46.6,56.7,50.2,49.6,52.6,57.7,42.6,40.2,44.8,43.3,45.7,49.0,45.0,40.2,65.2,45.0,52.3,52.6,41.8,51.1,48.1,48.9,42.4,64.2,42.8,43.7,59.8,44.9,51.8,56.5,50.5,49.5,53.1,49.0,45.0,47.3,48.4,47.6,50.8,55.0,42.0,44.6,45.4,44.3,60.0,48.3,90.4,47.3,48.3,53.2,49.9,52.3,47.9,55.5,42.7,45.3,46.8,46.7,91.6,55.9,43.8,55.8,41.8,47.3,51.4,40.8,48.9,49.1,50.3,45.6,47.7,60.8,50.4,51.1,49.6,50.6,39.2,50.1,31.7,45.0,59.5,57.7,37.9,47.9,45.2,43.9,45.2,45.0,46.7,46.3,47.6,47.6,46.9,51.9,43.5,43.5,45.4,42.2,51.1,42.7,44.1,52.2,44.6,50.2,58.7,42.7,51.4,41.6,58.5,51.9,54.4,57.8,44.0,50.8,70.3,51.3,43.1,49.6,39.5,53.0,53.5,40.7,89.7,53.8,38.5,45.6,45.0,51.2,60.3,52.1,57.1,43.8,65.0,53.2,47.0,49.5,45.0,41.9,55.0,48.9,46.5,73.1,48.4,91.9,44.3,42.3,45.1,46.9,53.4,52.2,50.7,52.4,40.4,49.8,57.8,35.8,42.3,70.8,49.0,43.2,40.9,51.9,56.0,52.9,43.8,52.7,57.5,58.4,43.4,72.9,45.6,90.3,44.8,50.3,40.1,50.7,52.6,42.2,56.0,45.4,39.9,57.2,55.0,46.6,48.6,46.4,57.7,50.0,38.8,77.8,51.8,66.1,51.6,53.3,53.5,63.4,50.4,55.4,50.0,42.5,51.2,51.3,54.5,65.4,53.4,45.9,54.0,42.8,48.3,49.5,50.4,54.4,50.3,95.8,47.7,70.8,58.9,52.4,51.3,38.1,54.3,50.0,42.0,49.9,47.5,46.5,46.1,81.5,47.5,48.0,48.6,47.5,69.2,38.3,47.9,59.7,56.2,53.6,64.6,56.4,47.4,57.2,51.1,42.6,43.2,47.2,49.2,45.0,46.2,44.9,49.8,51.2,47.9,49.7,41.7,42.0,42.4,49.1,40.0,55.0,52.4,45.0,47.1,53.0,38.7,40.4,46.3,52.9,46.0,47.8,49.5,45.4,57.7,46.2,64.2,70.0,50.3,54.0,53.3,74.1,56.7,54.3,52.3,50.2,48.0,44.7,48.0,46.7,87.1,35.5,96.2,49.1,36.4,89.4,50.0,40.1,52.2,51.3,38.3,45.4,50.4,49.0,52.9,45.6,44.2,43.0,50.4,49.2,46.5,55.8,45.7,37.1,46.3,60.3,69.3,55.8,52.7,57.1,52.7,48.5,52.8,40.5,48.8,45.1,53.4,40.6,44.0,48.2,46.2,48.0,45.6,50.4,49.2,43.6,48.9,39.3,50.7,58.2,39.1,51.4,58.0,38.2,40.5,50.5,49.8,45.1,52.3,57.4,50.7,42.5,39.6,50.2,53.8,57.3,46.8,47.3,56.3,52.0,39.1,43.0,42.6,56.6,64.1,44.2,45.2,56.2,49.3,74.4,44.8,57.9,54.0,46.6,49.8,79.5,39.4,40.2,41.5,71.8,53.0,50.1,54.9,46.2,82.5,53.8,55.4,60.6,79.5,47.6,87.7,50.6,56.5,51.4,45.2,36.1,45.6,38.0,69.8,40.8,49.7,62.2,39.3,54.9,51.8,80.3,46.8,87.1,35.3,57.5,47.6,55.0,37.7,37.4,56.2,44.2,61.0,40.6,52.7,41.1,41.4,42.7,46.2,52.6,52.2,50.1,42.0,48.4,48.0,55.4,44.2,52.0,47.4,47.2,46.0,45.4,42.5,48.2,45.0,37.2,50.8,47.8,94.1,49.1,83.3,41.8,55.5,43.1,53.2,51.7,46.5,47.0,45.9,44.3,50.5,43.2,38.9,74.6,47.4,85.7,48.6,46.1,49.4,52.6,46.4,77.4,39.2,48.1,36.8,39.5,46.4,40.9,49.2,52.3,46.8,49.0,45.3,46.6,37.3,46.3,50.2,44.0,46.6,54.4,70.9,46.4,45.0,46.6,49.4,48.6,46.0,98.4,50.2,30.2,52.7,50.3,53.2,53.9,61.1,42.3,47.4,39.5,40.2,38.9,50.1,51.9,49.0,46.6,53.3,47.7,66.1,45.5,32.6,38.9,37.9,44.5,48.9,38.5,52.8,45.2,39.5,68.1,45.6,85.7,42.9,61.4,55.8,53.5,47.6,49.9,41.8,39.6,49.2,57.9,45.2,41.0,49.6,73.0,39.4,50.4,86.9,39.5,43.6,44.8,40.9,51.8,44.7,48.7,61.6,44.9,46.1,40.5,53.6,54.8,47.9,51.8,51.2,40.1,44.6,51.1,44.6,47.9,52.7,42.6,53.4,59.5,40.2,46.6,53.3,41.9,58.4,54.6,49.7,50.0,50.2,49.2,52.3,53.6,47.5,50.4,53.2,46.3,53.2,57.3,48.5,44.4,49.5,42.6,52.2,43.5,43.1,42.1,49.0,51.0,42.4,84.2,48.6,49.1,44.2,38.6,64.6,46.2,46.4,37.4,57.5,57.0,51.4,43.6,43.6,41.7,52.8,46.5,57.5,46.6,43.0,52.2,53.4,44.2,44.8,50.0,66.7,50.7,71.7,62.6,59.2,65.7,67.5,42.1,40.4,63.9,46.4,49.2,39.5,41.3,43.8,34.6,46.2,51.1,63.2,52.9,47.9,48.1,41.9,44.3,37.2,50.5,50.7,48.1,48.0,61.7,48.9,46.4,54.1,54.2,42.0,51.9,46.5,64.0,48.8,45.9,45.7,43.8,43.3,50.6,74.5,47.4,53.3,46.1,39.5,46.8,36.0,40.6,54.6,63.5,52.7,53.6,53.1,51.4,53.2,48.6,77.4,44.4,48.9,35.0,46.6,48.0,50.0,60.8,46.0,34.4,50.4,52.4,49.3,42.2,40.2,43.8,58.5,51.8,48.5,55.1,51.0,47.6,39.6,52.3,43.2,42.5,50.3,36.0,47.7,47.2,53.3,64.2,70.5,65.4,40.6,44.2,37.6,52.4,52.8,57.0,64.6,54.1,41.9,48.4,49.5,53.4,48.1,38.1,51.0,50.1,63.7,47.1,41.2,49.7,47.0,42.1,40.4,50.2,76.3,58.7,52.5,48.4,46.8,40.0,49.5,52.2,48.0,53.4,41.3,38.2,53.9,55.7,50.5,54.0,53.8,54.0,48.8,52.3,53.7,41.3,50.8,61.3,42.7,49.6,45.6,60.8,45.1,62.4,52.4,47.2,46.2,43.9,51.7,45.3,68.9,49.1,55.3,46.1,64.6,46.0,46.0,48.4,44.2,48.7,45.4,48.5,46.7,45.6,55.2,58.8,41.3,56.8,41.6,74.1,53.0,46.0,39.1,59.2,52.5,48.7,50.6,44.7,55.4,47.9,38.5,41.2,49.5,44.1,53.4,50.7,59.2,50.1,50.3,46.7,56.8,53.1,48.4,54.6,45.9,39.4,41.4,42.8,52.4,32.5,63.9,66.1,39.4,42.5,54.0,47.8,43.1,49.0,46.3,40.6,47.5,49.9,37.9,42.6,50.1,45.6,44.4,36.1,45.0,53.3,46.9,48.5,51.4,49.2,50.9,45.9,36.7,46.3,37.9,52.9,34.3,84.3,49.3,53.7,33.9,52.6,39.6,37.7,44.8,48.4,50.1,50.0,48.4,39.7,54.1,41.4,34.1,42.0,39.0,50.0,34.3,48.6,72.3,53.5,50.5,50.7,58.1,40.6,75.6,46.6,38.5,49.2,55.7,39.5,94.2,38.1,47.5,37.8,47.5,42.8,34.6,53.5,61.1,35.0,48.4,51.4,83.0,50.4,52.0,55.2,49.7,45.2,47.3,44.4,41.2,50.0,44.0,46.5,56.4,49.4,51.1,60.7,48.0,44.4,46.3,41.9,41.5,46.8,37.1,48.5,54.4,47.9,51.9,49.7,50.9,62.8,49.1,58.1,71.1,40.9,44.3,49.1,54.2,45.3,56.2,50.0,42.8,44.4,49.6,47.9,46.3,52.2,41.2,45.8,42.1,50.1,46.3,53.3,42.9,51.5,34.7,46.1,39.2,50.5,51.8,56.5,45.7,46.0,47.4,48.4,49.3,46.4,38.7,41.1,42.1,88.5,50.1,67.5,47.3,46.2,52.0,42.4,53.6,57.4,46.5,47.5,51.0,35.9,53.5,44.9,44.3,53.2,46.1,50.7,53.6,49.1,46.6,45.3,46.4,45.9,56.2,48.9,51.4,53.8,92.6,51.8,44.9,45.9,38.7,45.7,38.8,44.4,82.1,45.2,41.2,44.7,40.2,39.1,49.6,44.7,52.1,53.2,44.4,41.4,67.8,46.9,35.3,47.7,45.1,31.3,94.1,48.8,50.5,39.7,39.1,45.5,90.9,52.9,52.1,46.9,45.0,48.7,46.1,42.6,90.5,57.9,45.5,47.3,63.5,43.8,53.5,40.6,48.4,46.6,54.5,59.9,47.7,51.4,51.1,66.2,72.0,42.3,50.7,53.6,45.7,53.5,74.7,47.3,34.1,56.7,64.9,43.3,46.5,44.4,48.3,38.7,58.9,52.9,55.0,84.5,46.4,47.0,43.1,51.1,54.4,35.1,41.4,52.8,34.5,39.0,86.7,43.6,44.9,77.0,81.4,77.5,51.3,43.1,38.7,45.3,39.6,72.5,51.3,46.0,47.6,52.2,56.3,58.3,44.1,49.5,62.9,47.1,45.9,53.5,54.2,49.6,53.9,50.5,49.6,51.2,47.9,47.8,86.2,38.3,43.5,43.9,45.8,48.7,56.0,40.2,50.4,64.7,49.7,57.7,44.1,40.2,44.9,57.3,40.7,48.1,43.1,56.7,50.6,47.7,44.9,43.7,51.4,63.1,61.1,48.5,59.2,44.7,47.5,48.7,47.1,53.9,42.3,41.1,52.3,65.7,56.8,46.7,57.7,52.0,47.2,42.0,56.2,45.2,46.2,84.6,55.0,48.5,43.5,40.2,44.0,40.0,93.1,43.8,56.8,47.9,48.1,42.4,85.0,43.2,43.9,57.0,41.9,61.3,41.4,40.3,49.3,48.1,45.8,42.9,51.3,48.4,58.0,46.8,58.1,72.1,47.3,54.5,54.0,87.4,85.3,48.4,48.1,61.1,50.9,58.9,51.6,73.2,41.4,66.4,60.2,49.5,40.3,51.4,60.3,45.4,49.9,46.4,50.9,50.2,58.4,47.2,47.0,53.3,46.2,42.8,52.4,55.5,46.2,75.6,46.4,66.8,52.2,45.4,38.8,44.5,42.0,48.2,49.5,56.7,49.6,52.9,57.7,38.7,90.5,52.1,47.4,51.9,46.2,41.2,47.8,50.9,51.7,52.2,53.3,48.7,43.7,51.2,53.6,57.8,57.5,58.5,48.8,36.7,50.0,57.2,49.0,57.8,47.7,51.1,46.2,64.3,38.4,52.4,45.9,88.9,41.3,36.7,42.3,91.0,81.4,35.1,56.4,47.0,85.1,49.6,44.9,59.0,68.4,41.7,67.9,40.2,53.6,51.3,44.4,70.1,41.5,48.1,80.9,42.8,47.8,45.4,46.3,66.7,54.8,40.6,46.7,84.9,53.2,49.6,57.4,43.8,36.7,50.1,56.3,39.9,47.7,45.1,53.5,53.5,57.2,44.5,51.9,42.3,45.2,39.8,67.8,38.5,46.5,42.2,44.8,38.2,42.3,42.6,39.0,90.3,41.5,40.8,87.5,40.4,50.1,80.3,36.9,42.6,37.4,39.5,49.9,58.2,44.5,45.2,58.1,53.5,76.6,39.4,42.7,40.5,41.0,48.7,41.5,74.2,54.3,54.6,37.7,61.3,39.9,50.5,52.2,49.5,45.2,52.2,51.5,36.2,42.5,42.3,38.0,45.9,69.4,44.3,48.3,68.2,43.4,49.2,39.9,46.8,39.2,87.1,82.7,62.4,42.9,46.2,51.0,86.0,52.5,44.6,50.5,52.0,46.0,37.1,49.4,37.4,40.4,48.6,49.4,37.3,49.0,42.1,49.0,51.8,37.2,64.6,50.7,37.6],\"xaxis\":\"x\",\"yaxis\":\"y\",\"type\":\"histogram\"}],                        {\"template\":{\"data\":{\"barpolar\":[{\"marker\":{\"line\":{\"color\":\"rgb(17,17,17)\",\"width\":0.5},\"pattern\":{\"fillmode\":\"overlay\",\"size\":10,\"solidity\":0.2}},\"type\":\"barpolar\"}],\"bar\":[{\"error_x\":{\"color\":\"#f2f5fa\"},\"error_y\":{\"color\":\"#f2f5fa\"},\"marker\":{\"line\":{\"color\":\"rgb(17,17,17)\",\"width\":0.5},\"pattern\":{\"fillmode\":\"overlay\",\"size\":10,\"solidity\":0.2}},\"type\":\"bar\"}],\"carpet\":[{\"aaxis\":{\"endlinecolor\":\"#A2B1C6\",\"gridcolor\":\"#506784\",\"linecolor\":\"#506784\",\"minorgridcolor\":\"#506784\",\"startlinecolor\":\"#A2B1C6\"},\"baxis\":{\"endlinecolor\":\"#A2B1C6\",\"gridcolor\":\"#506784\",\"linecolor\":\"#506784\",\"minorgridcolor\":\"#506784\",\"startlinecolor\":\"#A2B1C6\"},\"type\":\"carpet\"}],\"choropleth\":[{\"colorbar\":{\"outlinewidth\":0,\"ticks\":\"\"},\"type\":\"choropleth\"}],\"contourcarpet\":[{\"colorbar\":{\"outlinewidth\":0,\"ticks\":\"\"},\"type\":\"contourcarpet\"}],\"contour\":[{\"colorbar\":{\"outlinewidth\":0,\"ticks\":\"\"},\"colorscale\":[[0.0,\"#0d0887\"],[0.1111111111111111,\"#46039f\"],[0.2222222222222222,\"#7201a8\"],[0.3333333333333333,\"#9c179e\"],[0.4444444444444444,\"#bd3786\"],[0.5555555555555556,\"#d8576b\"],[0.6666666666666666,\"#ed7953\"],[0.7777777777777778,\"#fb9f3a\"],[0.8888888888888888,\"#fdca26\"],[1.0,\"#f0f921\"]],\"type\":\"contour\"}],\"heatmapgl\":[{\"colorbar\":{\"outlinewidth\":0,\"ticks\":\"\"},\"colorscale\":[[0.0,\"#0d0887\"],[0.1111111111111111,\"#46039f\"],[0.2222222222222222,\"#7201a8\"],[0.3333333333333333,\"#9c179e\"],[0.4444444444444444,\"#bd3786\"],[0.5555555555555556,\"#d8576b\"],[0.6666666666666666,\"#ed7953\"],[0.7777777777777778,\"#fb9f3a\"],[0.8888888888888888,\"#fdca26\"],[1.0,\"#f0f921\"]],\"type\":\"heatmapgl\"}],\"heatmap\":[{\"colorbar\":{\"outlinewidth\":0,\"ticks\":\"\"},\"colorscale\":[[0.0,\"#0d0887\"],[0.1111111111111111,\"#46039f\"],[0.2222222222222222,\"#7201a8\"],[0.3333333333333333,\"#9c179e\"],[0.4444444444444444,\"#bd3786\"],[0.5555555555555556,\"#d8576b\"],[0.6666666666666666,\"#ed7953\"],[0.7777777777777778,\"#fb9f3a\"],[0.8888888888888888,\"#fdca26\"],[1.0,\"#f0f921\"]],\"type\":\"heatmap\"}],\"histogram2dcontour\":[{\"colorbar\":{\"outlinewidth\":0,\"ticks\":\"\"},\"colorscale\":[[0.0,\"#0d0887\"],[0.1111111111111111,\"#46039f\"],[0.2222222222222222,\"#7201a8\"],[0.3333333333333333,\"#9c179e\"],[0.4444444444444444,\"#bd3786\"],[0.5555555555555556,\"#d8576b\"],[0.6666666666666666,\"#ed7953\"],[0.7777777777777778,\"#fb9f3a\"],[0.8888888888888888,\"#fdca26\"],[1.0,\"#f0f921\"]],\"type\":\"histogram2dcontour\"}],\"histogram2d\":[{\"colorbar\":{\"outlinewidth\":0,\"ticks\":\"\"},\"colorscale\":[[0.0,\"#0d0887\"],[0.1111111111111111,\"#46039f\"],[0.2222222222222222,\"#7201a8\"],[0.3333333333333333,\"#9c179e\"],[0.4444444444444444,\"#bd3786\"],[0.5555555555555556,\"#d8576b\"],[0.6666666666666666,\"#ed7953\"],[0.7777777777777778,\"#fb9f3a\"],[0.8888888888888888,\"#fdca26\"],[1.0,\"#f0f921\"]],\"type\":\"histogram2d\"}],\"histogram\":[{\"marker\":{\"pattern\":{\"fillmode\":\"overlay\",\"size\":10,\"solidity\":0.2}},\"type\":\"histogram\"}],\"mesh3d\":[{\"colorbar\":{\"outlinewidth\":0,\"ticks\":\"\"},\"type\":\"mesh3d\"}],\"parcoords\":[{\"line\":{\"colorbar\":{\"outlinewidth\":0,\"ticks\":\"\"}},\"type\":\"parcoords\"}],\"pie\":[{\"automargin\":true,\"type\":\"pie\"}],\"scatter3d\":[{\"line\":{\"colorbar\":{\"outlinewidth\":0,\"ticks\":\"\"}},\"marker\":{\"colorbar\":{\"outlinewidth\":0,\"ticks\":\"\"}},\"type\":\"scatter3d\"}],\"scattercarpet\":[{\"marker\":{\"colorbar\":{\"outlinewidth\":0,\"ticks\":\"\"}},\"type\":\"scattercarpet\"}],\"scattergeo\":[{\"marker\":{\"colorbar\":{\"outlinewidth\":0,\"ticks\":\"\"}},\"type\":\"scattergeo\"}],\"scattergl\":[{\"marker\":{\"line\":{\"color\":\"#283442\"}},\"type\":\"scattergl\"}],\"scattermapbox\":[{\"marker\":{\"colorbar\":{\"outlinewidth\":0,\"ticks\":\"\"}},\"type\":\"scattermapbox\"}],\"scatterpolargl\":[{\"marker\":{\"colorbar\":{\"outlinewidth\":0,\"ticks\":\"\"}},\"type\":\"scatterpolargl\"}],\"scatterpolar\":[{\"marker\":{\"colorbar\":{\"outlinewidth\":0,\"ticks\":\"\"}},\"type\":\"scatterpolar\"}],\"scatter\":[{\"marker\":{\"line\":{\"color\":\"#283442\"}},\"type\":\"scatter\"}],\"scatterternary\":[{\"marker\":{\"colorbar\":{\"outlinewidth\":0,\"ticks\":\"\"}},\"type\":\"scatterternary\"}],\"surface\":[{\"colorbar\":{\"outlinewidth\":0,\"ticks\":\"\"},\"colorscale\":[[0.0,\"#0d0887\"],[0.1111111111111111,\"#46039f\"],[0.2222222222222222,\"#7201a8\"],[0.3333333333333333,\"#9c179e\"],[0.4444444444444444,\"#bd3786\"],[0.5555555555555556,\"#d8576b\"],[0.6666666666666666,\"#ed7953\"],[0.7777777777777778,\"#fb9f3a\"],[0.8888888888888888,\"#fdca26\"],[1.0,\"#f0f921\"]],\"type\":\"surface\"}],\"table\":[{\"cells\":{\"fill\":{\"color\":\"#506784\"},\"line\":{\"color\":\"rgb(17,17,17)\"}},\"header\":{\"fill\":{\"color\":\"#2a3f5f\"},\"line\":{\"color\":\"rgb(17,17,17)\"}},\"type\":\"table\"}]},\"layout\":{\"annotationdefaults\":{\"arrowcolor\":\"#f2f5fa\",\"arrowhead\":0,\"arrowwidth\":1},\"autotypenumbers\":\"strict\",\"coloraxis\":{\"colorbar\":{\"outlinewidth\":0,\"ticks\":\"\"}},\"colorscale\":{\"diverging\":[[0,\"#8e0152\"],[0.1,\"#c51b7d\"],[0.2,\"#de77ae\"],[0.3,\"#f1b6da\"],[0.4,\"#fde0ef\"],[0.5,\"#f7f7f7\"],[0.6,\"#e6f5d0\"],[0.7,\"#b8e186\"],[0.8,\"#7fbc41\"],[0.9,\"#4d9221\"],[1,\"#276419\"]],\"sequential\":[[0.0,\"#0d0887\"],[0.1111111111111111,\"#46039f\"],[0.2222222222222222,\"#7201a8\"],[0.3333333333333333,\"#9c179e\"],[0.4444444444444444,\"#bd3786\"],[0.5555555555555556,\"#d8576b\"],[0.6666666666666666,\"#ed7953\"],[0.7777777777777778,\"#fb9f3a\"],[0.8888888888888888,\"#fdca26\"],[1.0,\"#f0f921\"]],\"sequentialminus\":[[0.0,\"#0d0887\"],[0.1111111111111111,\"#46039f\"],[0.2222222222222222,\"#7201a8\"],[0.3333333333333333,\"#9c179e\"],[0.4444444444444444,\"#bd3786\"],[0.5555555555555556,\"#d8576b\"],[0.6666666666666666,\"#ed7953\"],[0.7777777777777778,\"#fb9f3a\"],[0.8888888888888888,\"#fdca26\"],[1.0,\"#f0f921\"]]},\"colorway\":[\"#636efa\",\"#EF553B\",\"#00cc96\",\"#ab63fa\",\"#FFA15A\",\"#19d3f3\",\"#FF6692\",\"#B6E880\",\"#FF97FF\",\"#FECB52\"],\"font\":{\"color\":\"#f2f5fa\"},\"geo\":{\"bgcolor\":\"rgb(17,17,17)\",\"lakecolor\":\"rgb(17,17,17)\",\"landcolor\":\"rgb(17,17,17)\",\"showlakes\":true,\"showland\":true,\"subunitcolor\":\"#506784\"},\"hoverlabel\":{\"align\":\"left\"},\"hovermode\":\"closest\",\"mapbox\":{\"style\":\"dark\"},\"paper_bgcolor\":\"rgb(17,17,17)\",\"plot_bgcolor\":\"rgb(17,17,17)\",\"polar\":{\"angularaxis\":{\"gridcolor\":\"#506784\",\"linecolor\":\"#506784\",\"ticks\":\"\"},\"bgcolor\":\"rgb(17,17,17)\",\"radialaxis\":{\"gridcolor\":\"#506784\",\"linecolor\":\"#506784\",\"ticks\":\"\"}},\"scene\":{\"xaxis\":{\"backgroundcolor\":\"rgb(17,17,17)\",\"gridcolor\":\"#506784\",\"gridwidth\":2,\"linecolor\":\"#506784\",\"showbackground\":true,\"ticks\":\"\",\"zerolinecolor\":\"#C8D4E3\"},\"yaxis\":{\"backgroundcolor\":\"rgb(17,17,17)\",\"gridcolor\":\"#506784\",\"gridwidth\":2,\"linecolor\":\"#506784\",\"showbackground\":true,\"ticks\":\"\",\"zerolinecolor\":\"#C8D4E3\"},\"zaxis\":{\"backgroundcolor\":\"rgb(17,17,17)\",\"gridcolor\":\"#506784\",\"gridwidth\":2,\"linecolor\":\"#506784\",\"showbackground\":true,\"ticks\":\"\",\"zerolinecolor\":\"#C8D4E3\"}},\"shapedefaults\":{\"line\":{\"color\":\"#f2f5fa\"}},\"sliderdefaults\":{\"bgcolor\":\"#C8D4E3\",\"bordercolor\":\"rgb(17,17,17)\",\"borderwidth\":1,\"tickwidth\":0},\"ternary\":{\"aaxis\":{\"gridcolor\":\"#506784\",\"linecolor\":\"#506784\",\"ticks\":\"\"},\"baxis\":{\"gridcolor\":\"#506784\",\"linecolor\":\"#506784\",\"ticks\":\"\"},\"bgcolor\":\"rgb(17,17,17)\",\"caxis\":{\"gridcolor\":\"#506784\",\"linecolor\":\"#506784\",\"ticks\":\"\"}},\"title\":{\"x\":0.05},\"updatemenudefaults\":{\"bgcolor\":\"#506784\",\"borderwidth\":0},\"xaxis\":{\"automargin\":true,\"gridcolor\":\"#283442\",\"linecolor\":\"#506784\",\"ticks\":\"\",\"title\":{\"standoff\":15},\"zerolinecolor\":\"#283442\",\"zerolinewidth\":2},\"yaxis\":{\"automargin\":true,\"gridcolor\":\"#283442\",\"linecolor\":\"#506784\",\"ticks\":\"\",\"title\":{\"standoff\":15},\"zerolinecolor\":\"#283442\",\"zerolinewidth\":2}}},\"xaxis\":{\"anchor\":\"y\",\"domain\":[0.0,1.0],\"title\":{\"text\":\"tm\"}},\"yaxis\":{\"anchor\":\"x\",\"domain\":[0.0,1.0],\"title\":{\"text\":\"count\"}},\"legend\":{\"tracegroupgap\":0},\"title\":{\"text\":\"tm Distribution\"},\"barmode\":\"relative\",\"height\":400,\"width\":800},                        {\"responsive\": true}                    ).then(function(){\n",
              "                            \n",
              "var gd = document.getElementById('79be2967-507e-4f7d-b8d7-383dfeefffb7');\n",
              "var x = new MutationObserver(function (mutations, observer) {{\n",
              "        var display = window.getComputedStyle(gd).display;\n",
              "        if (!display || display === 'none') {{\n",
              "            console.log([gd, 'removed!']);\n",
              "            Plotly.purge(gd);\n",
              "            observer.disconnect();\n",
              "        }}\n",
              "}});\n",
              "\n",
              "// Listen for the removal of the full notebook cells\n",
              "var notebookContainer = gd.closest('#notebook-container');\n",
              "if (notebookContainer) {{\n",
              "    x.observe(notebookContainer, {childList: true});\n",
              "}}\n",
              "\n",
              "// Listen for the clearing of the current output cell\n",
              "var outputEl = gd.closest('.output');\n",
              "if (outputEl) {{\n",
              "    x.observe(outputEl, {childList: true});\n",
              "}}\n",
              "\n",
              "                        })                };                            </script>        </div>\n",
              "</body>\n",
              "</html>"
            ]
          },
          "metadata": {}
        }
      ],
      "source": [
        "px.histogram(train_df, x='tm', title=\"tm Distribution\", template='plotly_dark',width=800,height=400)"
      ]
    },
    {
      "cell_type": "code",
      "execution_count": null,
      "metadata": {
        "colab": {
          "base_uri": "https://localhost:8080/",
          "height": 542
        },
        "id": "L74QDmPSLxhY",
        "outputId": "b32a6f97-e16d-450f-861f-4c35e36c22ac"
      },
      "outputs": [
        {
          "output_type": "display_data",
          "data": {
            "text/html": [
              "<html>\n",
              "<head><meta charset=\"utf-8\" /></head>\n",
              "<body>\n",
              "    <div>            <script src=\"https://cdnjs.cloudflare.com/ajax/libs/mathjax/2.7.5/MathJax.js?config=TeX-AMS-MML_SVG\"></script><script type=\"text/javascript\">if (window.MathJax && window.MathJax.Hub && window.MathJax.Hub.Config) {window.MathJax.Hub.Config({SVG: {font: \"STIX-Web\"}});}</script>                <script type=\"text/javascript\">window.PlotlyConfig = {MathJaxConfig: 'local'};</script>\n",
              "        <script src=\"https://cdn.plot.ly/plotly-2.18.2.min.js\"></script>                <div id=\"14709698-b635-4826-8a51-5753215681c6\" class=\"plotly-graph-div\" style=\"height:525px; width:100%;\"></div>            <script type=\"text/javascript\">                                    window.PLOTLYENV=window.PLOTLYENV || {};                                    if (document.getElementById(\"14709698-b635-4826-8a51-5753215681c6\")) {                    Plotly.newPlot(                        \"14709698-b635-4826-8a51-5753215681c6\",                        [{\"alignmentgroup\":\"True\",\"bingroup\":\"x\",\"hovertemplate\":\"pH=%{x}<br>count=%{y}<extra></extra>\",\"legendgroup\":\"\",\"marker\":{\"color\":\"#1F77B4\",\"pattern\":{\"shape\":\"\"}},\"name\":\"\",\"offsetgroup\":\"\",\"orientation\":\"v\",\"showlegend\":false,\"x\":[7.0,7.0,7.0,7.0,7.0,7.0,7.0,7.0,7.0,7.0,7.0,7.0,7.0,7.0,7.0,7.0,7.0,7.0,7.0,7.0,7.0,7.0,7.0,7.0,7.0,7.0,7.0,7.0,7.0,7.0,7.0,7.0,7.0,7.0,7.0,7.0,7.0,7.0,7.0,7.0,7.0,7.0,7.0,7.0,7.0,7.0,7.0,7.0,7.0,7.0,7.0,7.0,7.0,7.0,7.0,7.0,7.0,7.0,7.0,7.0,7.0,7.0,7.0,7.0,7.0,7.0,7.0,7.0,7.0,7.0,7.0,7.0,7.0,7.0,7.0,7.0,7.0,7.0,7.0,7.0,7.0,7.0,7.0,7.0,7.0,7.0,7.0,7.0,7.0,7.0,7.0,7.0,7.0,7.0,7.0,7.0,7.0,7.0,7.0,7.0,7.0,7.0,7.0,7.0,7.0,7.0,7.0,7.0,7.0,7.0,7.0,7.0,7.0,7.0,7.0,7.0,7.0,7.0,7.0,7.0,7.0,7.0,7.0,7.0,7.0,7.0,7.0,7.0,7.0,7.0,7.0,7.0,7.0,7.0,7.0,7.0,7.0,7.0,7.0,7.0,7.0,7.0,7.0,7.0,7.0,7.0,7.0,7.0,7.0,7.0,7.0,7.0,7.0,7.0,7.0,7.0,7.0,7.0,7.0,7.0,7.0,7.0,7.0,7.0,7.0,7.0,7.0,7.0,7.0,7.0,7.0,7.0,7.0,7.0,7.0,7.0,7.0,7.0,7.0,7.0,7.0,7.0,7.0,7.0,7.0,7.0,7.0,7.0,7.0,7.0,7.0,7.0,7.0,7.0,7.0,7.0,7.0,7.0,7.0,7.0,7.0,7.0,7.0,7.0,7.0,7.0,7.0,7.0,7.0,7.0,7.0,7.0,7.0,7.0,7.0,7.0,7.0,7.0,7.0,7.0,7.0,7.0,7.0,7.0,7.0,7.0,7.0,7.0,7.0,7.0,7.0,7.0,7.0,7.0,7.0,7.0,7.0,7.0,7.0,7.0,7.0,7.0,7.0,7.0,7.0,7.0,7.0,7.0,7.0,7.0,7.0,7.0,7.5,7.0,7.0,7.0,7.0,7.0,7.0,7.0,7.0,7.0,7.0,7.0,7.0,7.0,7.0,7.0,7.0,7.0,7.0,7.0,7.0,7.0,7.0,7.0,7.0,7.0,7.0,7.0,7.0,7.0,7.0,7.0,7.0,7.0,7.0,7.0,7.0,7.0,7.0,7.0,7.0,7.0,7.0,7.0,7.0,7.0,7.0,7.0,7.0,7.0,7.0,7.0,7.0,7.0,7.0,7.0,7.0,7.0,7.0,7.0,7.0,7.0,7.0,7.0,7.0,7.0,7.0,7.0,7.0,7.0,7.0,7.0,7.0,7.0,7.0,7.0,7.0,7.0,7.0,7.0,7.0,7.0,7.0,7.0,7.0,7.0,7.0,7.0,7.0,7.0,7.0,7.0,7.0,7.0,7.0,7.0,7.0,7.0,7.0,7.0,7.0,7.0,7.0,7.0,7.0,7.0,7.0,7.0,7.0,7.0,7.0,7.0,7.0,7.0,7.0,7.0,7.0,7.0,7.0,7.0,7.0,7.0,7.0,7.0,7.0,7.0,7.0,7.0,7.0,7.0,7.0,7.0,7.0,7.0,7.0,7.0,7.0,7.0,7.0,7.0,7.0,7.0,7.0,7.0,7.0,7.0,7.0,7.0,7.0,7.0,7.0,7.0,7.0,7.0,7.0,7.0,7.0,7.0,7.0,7.0,7.0,7.0,7.0,7.0,7.0,7.0,7.0,7.0,7.0,7.0,7.0,7.0,7.0,7.0,7.0,7.0,7.0,7.0,7.0,7.0,7.0,7.0,7.0,7.0,7.0,7.0,7.0,7.0,7.0,7.0,7.0,7.0,7.0,7.0,7.0,7.0,7.0,7.0,7.0,7.0,7.0,7.0,7.0,7.0,7.0,7.0,7.0,7.0,7.0,7.0,7.0,7.0,7.0,7.0,7.0,7.0,7.0,7.0,6.8729176839902335,7.0,7.0,7.0,7.0,7.0,7.0,7.0,7.0,7.0,7.0,7.0,7.0,7.0,7.0,7.0,7.0,7.0,7.0,7.0,7.0,7.0,7.0,7.0,7.0,7.0,7.0,7.0,7.0,7.0,7.0,7.0,7.0,7.0,7.0,7.0,7.0,7.0,7.0,7.0,7.0,7.0,7.0,7.0,7.0,7.0,7.0,7.0,7.0,7.0,7.0,7.0,7.0,7.0,7.0,7.0,7.0,7.0,7.0,7.0,7.0,7.0,7.0,7.0,7.0,7.0,7.0,7.0,7.0,7.0,7.0,7.0,7.0,7.0,7.0,7.0,7.0,7.0,7.0,7.0,7.0,7.0,7.0,7.0,7.0,7.0,7.0,7.0,7.0,7.0,7.0,7.0,7.0,7.0,7.0,7.0,7.0,7.0,7.0,7.0,7.0,7.0,7.0,7.0,7.0,7.0,7.0,7.0,7.0,7.0,7.0,7.0,7.0,7.0,7.0,7.0,7.0,7.0,7.0,7.0,7.0,7.0,7.0,7.0,7.0,7.0,7.0,7.0,7.0,7.0,7.0,7.0,7.0,7.0,7.0,7.0,7.0,7.0,7.0,7.0,7.0,7.0,7.0,7.0,7.0,7.0,7.0,7.0,7.0,7.0,7.0,7.0,7.0,7.0,7.0,7.0,7.0,7.0,7.0,7.0,7.0,7.0,7.0,7.0,7.0,7.0,7.0,7.0,7.0,7.0,7.0,7.0,7.0,7.0,7.0,7.0,7.0,7.0,7.0,7.0,7.0,7.0,7.0,7.0,7.0,7.0,7.0,7.0,7.0,7.0,7.0,7.0,7.0,7.0,7.0,7.0,7.0,7.0,7.0,7.0,7.0,7.0,7.0,7.0,7.0,7.0,7.0,7.0,7.0,7.0,7.0,7.0,7.0,7.0,7.0,7.0,7.0,7.0,7.0,7.0,7.0,7.0,7.0,7.0,7.0,7.0,7.0,7.0,7.0,7.0,7.0,7.0,7.0,7.0,7.0,7.0,7.0,7.0,7.0,7.0,7.0,7.0,7.0,7.0,7.0,7.0,7.0,7.0,7.0,7.0,7.0,7.0,7.0,7.0,7.0,7.0,7.0,7.0,7.0,7.0,7.0,7.0,7.0,7.0,7.0,7.0,7.0,7.0,7.0,7.0,7.0,7.0,7.0,7.0,7.0,7.0,7.0,7.0,7.0,7.0,7.0,7.0,7.0,7.0,7.0,7.0,7.0,7.0,7.0,7.0,7.0,7.0,7.0,7.0,7.0,7.0,7.0,7.0,7.0,7.0,7.0,7.0,7.0,7.0,7.0,7.0,7.0,7.0,7.0,7.0,7.0,7.0,7.0,7.0,7.0,7.0,7.0,7.0,7.0,7.0,7.0,7.0,7.0,7.0,7.0,7.0,7.0,7.0,7.0,7.0,7.0,7.0,7.0,7.0,7.0,7.0,7.0,7.0,7.0,7.0,7.0,7.0,7.0,7.0,7.0,7.0,7.0,7.0,7.0,7.0,7.0,7.0,7.0,7.0,7.0,7.0,7.0,7.0,7.0,7.0,7.0,7.0,7.0,7.0,7.0,7.0,7.0,7.0,7.0,7.0,7.0,7.0,7.0,7.0,7.0,7.0,7.0,7.0,7.0,7.0,7.0,7.0,7.0,7.0,7.0,7.0,7.0,7.0,7.0,7.0,7.0,7.0,7.0,7.0,7.0,7.0,7.0,7.0,7.0,7.0,7.0,7.0,7.0,7.0,7.0,7.0,7.0,7.0,7.0,7.0,7.0,7.0,7.0,7.0,7.0,7.0,7.0,7.0,7.0,7.0,7.0,7.0,7.0,7.0,7.0,7.0,7.0,7.0,7.0,7.0,7.0,7.0,7.0,7.0,7.0,7.0,7.0,7.0,7.0,7.0,7.0,7.0,7.0,7.0,7.0,7.0,7.0,7.0,7.0,7.0,7.0,7.0,7.0,7.0,7.0,7.0,7.0,7.0,7.0,7.0,7.0,7.0,7.0,7.0,7.0,7.0,7.0,7.0,7.0,7.0,7.0,7.0,7.0,7.0,7.0,7.0,7.0,7.0,7.0,7.0,7.0,7.0,7.0,7.0,7.0,7.0,7.0,7.0,7.0,6.2,5.5,6.3,7.0,7.0,7.0,7.0,7.0,7.0,7.0,7.0,7.0,7.0,7.0,7.0,6.3,6.2,7.0,7.0,5.5,8.5,3.0,6.8,6.4,7.0,3.0,6.2,8.5,7.0,6.8,6.2,5.5,7.0,7.0,6.3,7.0,7.0,7.0,7.0,6.4,3.0,6.8,7.0,8.5,7.0,7.0,7.0,7.0,7.0,7.0,7.0,7.0,7.0,8.5,6.8,3.0,6.4,7.0,7.0,7.0,7.0,7.0,7.0,6.6,6.7,7.0,7.0,7.0,5.5,7.0,7.0,7.0,7.0,7.0,7.0,7.0,7.0,7.0,6.3,7.0,6.2,7.0,5.5,6.5,7.0,6.6,5.5,7.0,7.0,7.0,7.0,7.0,7.0,7.0,7.0,7.0,7.0,7.0,7.0,7.0,7.0,7.0,7.0,7.0,7.0,7.0,7.0,7.0,7.0,7.0,7.0,7.0,7.0,7.0,7.0,7.0,7.0,7.0,7.0,7.0,7.0,7.0,7.0,7.0,7.0,7.0,7.0,7.0,7.0,7.0,7.0,7.0,7.0,7.0,7.0,7.0,7.0,7.0,7.0,7.0,7.0,7.0,7.0,7.0,7.0,7.0,7.0,7.0,7.0,7.0,7.0,7.0,7.0,7.0,7.0,7.0,7.0,7.0,7.0,7.0,7.0,7.0,7.0,7.0,7.0,7.0,7.0,7.0,7.0,7.0,7.0,7.0,7.0,7.0,7.0,7.0,7.0,7.0,7.0,7.0,7.0,7.0,7.0,7.0,7.0,7.0,7.0,7.0,7.0,7.0,7.0,7.0,7.0,7.0,7.0,7.0,7.0,7.0,7.0,7.0,7.0,7.0,7.0,7.0,7.0,7.0,7.0,7.0,7.0,7.0,7.0,7.0,7.0,7.0,7.0,7.0,7.0,7.0,7.0,7.0,7.0,7.0,7.0,7.0,7.0,7.0,7.0,7.0,7.0,7.0,7.0,7.0,7.0,7.0,7.0,7.0,7.0,7.0,7.0,7.0,7.0,7.0,7.0,7.0,7.0,7.0,7.0,7.0,7.0,7.0,7.0,7.0,7.0,7.0,7.0,7.0,7.0,7.0,7.0,7.0,7.0,7.0,7.0,7.0,7.0,7.0,7.0,7.0,7.0,7.0,7.0,7.0,7.0,7.0,7.0,7.0,7.0,7.0,7.0,7.0,7.0,7.0,7.0,7.0,7.0,7.0,7.0,7.0,7.0,7.0,7.0,7.0,7.0,7.0,7.0,7.0,7.0,7.0,7.0,7.0,7.0,7.0,7.0,7.0,7.0,7.0,7.0,7.0,7.0,7.0,7.0,7.0,7.0,7.0,7.0,7.0,7.0,7.0,7.0,7.0,7.0,7.0,7.0,7.0,7.0,7.0,7.0,7.0,7.0,7.0,7.0,7.0,7.0,7.0,7.0,7.0,7.0,7.0,7.0,7.0,7.0,7.0,7.0,7.0,7.0,7.0,7.0,7.0,7.0,7.0,7.0,7.0,7.0,7.0,7.0,7.0,7.0,7.0,7.0,7.0,7.0,7.0,7.0,7.0,7.0,7.0,7.0,7.0,7.0,7.0,7.0,7.0,7.0,7.0,7.0,7.0,7.0,7.0,7.0,7.0,7.0,7.0,7.0,7.0,7.0,7.0,7.0,7.0,7.0,7.0,7.0,7.0,7.0,7.0,7.0,7.0,7.0,7.0,7.0,7.0,7.0,7.0,7.0,7.0,7.0,7.0,7.0,7.0,7.0,7.0,7.0,7.0,7.0,7.0,7.0,7.0,7.0,7.0,7.0,7.0,7.0,7.0,7.0,7.0,7.0,7.0,7.0,7.0,7.0,7.0,7.0,7.0,7.0,7.0,7.0,7.0,7.0,7.0,7.0,7.0,7.0,7.0,7.0,7.0,7.0,7.0,7.0,7.0,7.0,7.0,7.0,7.0,7.0,7.0,7.0,7.0,7.0,7.0,7.0,7.0,7.0,7.0,7.0,7.0,7.0,7.0,7.0,7.0,7.0,7.0,7.0,7.0,7.0,7.0,7.0,7.0,7.0,7.0,7.0,7.0,7.0,7.0,7.0,7.0,7.0,7.0,7.0,7.0,7.0,7.0,7.0,7.0,7.0,7.0,7.0,7.0,7.0,7.0,7.0,7.0,7.0,7.0,7.0,7.0,7.0,7.0,7.0,7.0,7.0,7.0,7.0,7.0,7.0,7.0,7.0,7.0,7.0,7.0,7.0,7.0,7.0,7.0,7.0,7.0,7.0,7.0,7.0,7.0,7.0,7.0,7.0,7.0,7.0,7.0,7.0,7.0,7.0,7.0,7.0,7.0,7.0,7.0,7.0,7.0,7.0,7.0,7.0,7.0,7.0,7.0,7.0,7.0,7.0,7.0,7.0,7.0,7.0,7.0,7.0,7.0,7.0,7.0,7.0,7.0,7.0,7.0,7.0,7.0,7.0,7.0,7.0,7.0,7.0,7.0,7.0,7.0,7.0,7.0,7.0,7.0,7.0,7.0,7.0,7.0,7.0,7.0,7.0,7.0,7.0,7.0,7.0,7.0,7.0,7.0,7.0,7.0,7.0,7.0,7.0,7.0,7.0,7.0,7.0,7.0,7.0,7.0,7.0,7.0,7.0,7.0,7.0,7.0,7.0,7.0,7.0,7.0,7.0,7.0,7.0,7.0,7.0,7.0,7.0,7.0,7.0,7.0,7.0,7.0,7.0,7.0,7.0,7.0,7.0,7.0,7.0,7.0,7.0,7.0,7.0,7.0,7.0,7.0,7.0,7.0,7.0,7.0,7.0,7.0,7.0,7.0,7.0,7.0,7.0,7.0,7.0,7.0,7.0,7.0,7.0,7.0,7.0,7.0,7.0,7.0,7.0,7.0,7.0,7.0,7.0,7.0,7.0,7.0,7.0,7.0,7.0,7.0,7.0,7.0,7.0,7.0,7.0,7.0,7.0,7.0,7.0,7.0,7.0,7.0,7.0,7.0,7.0,7.0,7.0,7.0,7.0,7.0,7.0,7.0,7.0,7.0,7.0,7.0,7.0,7.0,7.0,7.0,7.0,7.0,7.0,7.0,7.0,7.0,7.0,7.0,7.0,7.0,7.0,7.0,7.0,7.0,7.0,7.0,7.0,7.0,7.0,7.0,7.0,7.0,7.0,7.0,7.0,7.0,7.0,7.0,7.0,7.0,7.0,7.0,7.0,7.0,7.0,7.0,7.0,7.0,7.0,7.0,7.0,7.0,7.0,7.0,7.0,7.0,7.0,7.0,7.0,7.0,7.0,7.0,7.0,7.0,7.0,7.0,7.0,7.0,7.0,7.0,7.0,7.0,7.0,7.0,7.0,7.0,7.0,7.0,7.0,7.0,7.0,7.0,7.0,7.0,7.0,7.0,7.0,7.0,7.0,7.0,7.0,7.0,7.0,7.0,7.0,7.0,7.0,7.0,7.0,7.0,7.0,7.0,7.0,7.0,7.0,7.0,7.0,7.0,7.0,7.0,7.0,7.0,7.0,7.0,7.0,7.0,7.0,7.0,7.0,7.0,7.0,7.0,7.0,7.0,7.0,7.0,7.0,7.0,7.0,7.0,7.0,7.0,7.0,7.0,7.0,7.0,7.0,7.0,7.0,7.0,7.0,7.0,7.0,7.0,7.0,7.0,7.0,7.0,7.0,7.0,7.0,7.0,7.0,7.0,7.0,7.0,7.0,7.0,7.0,7.0,7.0,7.0,7.0,7.0,7.0,7.0,7.0,7.0,7.0,7.0,7.0,7.0,7.0,7.0,7.0,7.0,7.0,7.0,7.0,7.0,7.0,7.0,7.0,7.0,7.0,7.0,7.0,7.0,7.0,7.0,7.0,7.0,7.0,7.0,7.0,7.0,7.0,7.0,7.0,7.0,7.0,7.0,7.0,7.0,7.0,7.0,7.0,7.0,7.0,7.0,7.0,7.0,7.0,7.0,7.0,7.0,7.0,7.0,7.0,7.0,7.0,7.0,7.0,7.0,7.0,7.0,7.0,7.0,7.0,7.0,7.0,7.0,7.0,7.0,7.0,7.0,7.0,7.0,7.0,7.0,7.0,7.0,7.0,7.0,7.0,7.0,7.0,7.0,7.0,7.0,7.0,7.0,7.0,7.0,7.0,7.0,7.0,7.0,7.0,7.0,7.0,7.0,7.0,7.0,7.0,7.0,7.0,7.0,7.0,7.0,7.0,7.0,7.0,7.0,7.0,7.0,7.0,7.0,7.0,7.0,7.0,7.0,7.0,7.0,7.0,7.0,7.0,7.0,7.0,7.0,7.0,7.0,7.0,7.0,7.0,7.0,7.0,7.0,7.0,7.0,7.0,7.0,7.0,7.0,7.0,7.0,7.0,7.0,7.0,7.0,7.0,7.0,7.0,7.0,7.0,7.0,7.0,7.0,7.0,7.0,7.0,7.0,7.0,7.0,7.0,7.0,7.0,7.0,7.0,7.0,7.0,7.0,7.0,7.0,7.0,7.0,7.0,7.0,7.0,7.0,7.0,7.0,7.0,7.0,7.0,7.0,7.0,7.0,7.0,7.0,7.0,7.0,7.0,7.0,7.0,7.0,7.0,7.0,7.0,7.0,7.0,7.0,7.0,7.0,7.0,7.0,7.0,7.0,7.0,7.0,7.0,7.0,7.0,7.0,7.0,7.0,7.0,7.0,7.0,7.0,7.0,7.0,7.0,7.0,7.0,7.0,7.0,7.0,7.0,7.0,7.0,7.0,7.0,7.0,7.0,7.0,7.0,7.0,7.0,7.0,7.0,7.0,7.0,7.0,7.0,7.0,7.0,7.0,7.0,7.0,7.0,7.0,7.0,7.0,7.0,7.0,7.0,7.0,7.0,7.0,7.0,7.0,7.0,7.0,7.0,7.0,7.0,7.0,7.0,7.0,7.0,7.0,7.0,7.0,7.0,7.0,7.0,7.0,7.0,7.0,7.0,7.0,7.0,7.0,7.0,7.0,7.0,7.0,7.0,7.0,7.0,7.0,7.0,7.0,7.0,7.0,7.0,7.0,7.0,7.0,7.0,7.0,7.0,7.0,7.0,7.0,7.0,7.0,7.0,7.0,7.0,7.0,7.0,7.0,7.0,7.0,7.0,7.0,7.0,7.0,7.0,7.0,7.0,7.0,7.0,7.0,7.0,7.0,7.0,7.0,7.0,7.0,7.0,7.0,7.0,7.0,7.0,7.0,7.0,7.0,7.0,7.0,7.0,7.0,7.0,7.0,7.0,7.0,7.0,7.0,7.0,7.0,7.0,4.5,4.5,4.5,4.5,4.5,4.5,4.5,4.5,7.0,7.0,7.0,7.0,7.0,7.0,7.0,7.0,7.0,7.0,7.0,7.0,7.0,7.0,7.0,7.0,7.0,7.0,7.0,7.0,7.0,7.0,7.0,7.0,7.0,7.0,7.0,7.0,7.0,7.0,7.0,7.0,7.0,7.0,7.0,7.0,7.0,7.0,7.0,7.0,7.0,7.0,7.0,7.0,7.0,7.0,7.0,7.0,7.0,7.0,7.0,7.0,7.0,7.0,7.0,7.0,7.0,7.0,7.0,7.0,7.0,7.0,7.0,7.0,7.0,7.0,7.0,7.0,7.0,7.0,7.0,7.0,7.0,7.0,7.0,7.0,7.0,7.0,7.0,7.0,7.0,7.0,7.0,7.0,7.0,7.0,7.0,7.0,7.0,7.0,7.0,7.0,7.0,7.0,7.0,7.0,7.0,7.0,7.0,7.0,7.0,7.0,7.0,7.0,7.0,7.0,7.0,7.0,7.0,7.0,7.0,7.0,7.0,7.0,7.0,7.0,7.0,7.0,7.0,7.0,7.0,7.0,7.0,7.0,7.0,7.0,7.0,7.0,7.0,7.0,7.0,7.0,7.0,7.0,7.0,7.0,7.0,7.0,7.0,7.0,7.0,7.0,7.0,7.0,7.0,7.0,7.0,7.0,7.0,7.0,7.0,7.0,7.0,7.0,7.0,7.0,7.0,7.0,7.0,7.0,7.0,7.0,7.0,7.0,7.0,7.0,7.0,7.0,7.0,7.0,7.0,7.0,7.0,7.0,7.0,7.0,7.0,7.0,7.0,7.0,7.0,7.0,7.0,7.0,7.0,7.0,7.0,7.0,7.0,7.0,7.0,7.0,7.0,7.0,7.0,7.0,7.0,7.0,7.0,7.0,7.0,7.0,7.0,7.0,7.0,7.0,7.0,7.0,7.0,7.0,7.0,7.0,7.0,7.0,7.0,7.0,7.0,7.0,7.0,7.0,7.0,7.0,7.0,7.0,7.0,7.0,7.0,7.0,7.0,7.0,7.0,7.0,7.0,7.0,7.0,7.0,7.0,7.0,7.0,7.0,7.0,7.0,7.0,7.0,7.0,7.0,7.0,7.0,7.0,7.0,7.0,7.0,7.0,7.0,7.0,7.0,7.0,7.0,7.0,7.0,7.0,7.0,7.0,7.0,7.0,7.0,7.0,7.0,7.0,7.0,7.0,7.0,7.0,7.0,7.0,7.0,7.0,7.0,7.0,7.0,7.0,7.0,7.0,7.0,7.0,7.0,7.0,7.0,7.0,7.0,7.0,7.0,7.0,7.0,7.0,7.0,7.0,7.0,7.0,7.0,7.0,7.0,7.0,7.0,7.0,7.0,7.0,7.0,7.0,7.0,7.0,7.0,7.0,7.0,7.0,7.0,7.0,7.0,7.0,7.0,7.0,7.0,7.0,7.0,7.0,7.0,7.0,7.0,7.0,7.0,7.0,7.0,7.0,7.0,7.0,7.0,7.0,7.0,7.0,7.0,7.0,7.0,7.0,7.0,7.0,7.0,7.0,7.0,7.0,7.0,7.0,7.0,7.0,7.0,7.0,7.0,7.0,7.0,7.0,7.0,7.0,7.0,7.0,7.0,7.0,7.0,7.0,7.0,7.0,7.0,7.0,7.0,7.0,7.0,7.0,7.0,7.0,7.0,7.0,7.0,7.0,7.0,7.0,7.0,7.0,7.0,7.0,7.0,7.0,7.0,7.0,7.0,7.0,7.0,7.0,7.0,7.0,7.0,7.0,7.0,7.0,7.0,7.0,7.0,7.0,7.0,7.0,7.0,7.0,7.0,7.0,7.0,7.0,7.0,7.0,7.0,7.0,7.0,7.0,7.0,7.0,7.0,7.0,7.0,7.0,7.0,7.0,7.0,7.0,7.0,7.0,7.0,7.0,7.0,7.0,7.0,7.0,7.0,7.0,7.0,7.0,7.0,7.0,7.0,7.0,7.0,7.0,7.0,7.0,7.0,7.0,7.0,7.0,7.0,7.0,7.0,7.0,7.0,7.0,7.0,7.0,7.0,7.0,7.0,7.0,7.0,7.0,7.0,7.0,7.0,7.0,7.0,7.0,7.0,7.0,7.0,7.0,7.0,7.0,7.0,7.0,7.0,7.0,7.0,7.0,7.0,7.0,7.0,7.0,7.0,7.0,7.0,7.0,7.0,7.0,7.0,7.0,7.0,7.0,7.0,7.0,7.0,7.0,7.0,7.0,7.0,7.0,7.0,7.0,7.0,7.0,7.0,7.0,7.0,7.0,7.0,7.0,7.0,7.0,7.0,7.0,7.0,7.0,7.0,7.0,7.0,7.0,7.0,7.0,7.0,7.0,7.0,7.0,7.0,7.0,7.0,7.0,7.0,7.0,7.0,7.0,7.0,7.0,7.0,7.0,7.0,7.0,7.0,7.0,7.0,7.0,7.0,7.0,7.0,7.0,7.0,7.0,7.0,7.0,7.0,7.0,7.0,7.0,7.0,7.0,7.0,7.0,7.0,7.0,7.0,7.0,7.0,7.0,7.0,7.0,7.0,7.0,7.0,7.0,7.0,7.0,7.0,7.0,7.0,7.0,7.0,7.0,7.0,7.0,7.0,7.0,7.0,7.0,7.0,7.0,7.0,7.0,7.0,7.0,7.0,7.0,7.0,7.0,7.0,7.0,7.0,7.0,7.0,7.0,7.0,7.0,7.0,7.0,7.0,7.0,7.0,7.0,7.0,7.0,7.0,7.0,7.0,7.0,7.0,7.0,7.0,7.0,7.0,7.0,7.0,7.0,7.0,7.0,7.0,7.0,7.0,7.0,7.0,7.0,7.0,7.0,7.0,7.0,7.0,7.0,7.0,7.0,7.0,7.0,7.0,7.0,7.0,7.0,7.0,7.0,7.0,7.0,7.0,7.0,7.0,7.0,7.0,7.0,7.0,7.0,7.0,7.0,7.0,7.0,7.0,7.0,7.0,7.0,7.0,7.0,7.0,7.0,7.0,7.0,7.0,7.0,7.0,7.0,7.0,7.0,7.0,7.0,7.0,7.0,7.0,7.0,7.0,7.0,7.0,7.0,7.0,7.0,7.0,7.0,7.0,7.0,7.0,7.0,7.0,7.0,7.0,7.0,7.0,7.0,7.0,7.0,7.0,7.0,7.0,7.0,7.0,7.0,7.0,7.0,7.0,7.0,7.0,7.0,7.0,7.0,7.0,7.0,7.0,7.0,7.0,7.0,7.0,7.0,7.0,7.0,7.0,7.0,7.0,7.0,7.0,7.0,7.0,7.0,7.0,7.0,7.0,7.0,7.0,7.0,7.0,7.0,7.0,7.0,7.0,7.0,7.0,7.0,7.0,7.0,7.0,7.0,7.0,7.0,7.0,7.0,7.0,7.0,7.0,7.0,7.0,7.0,7.0,7.0,7.0,7.0,7.0,7.0,7.0,7.0,7.0,7.0,7.0,7.0,7.0,7.0,7.0,7.0,7.0,7.0,7.0,7.0,7.0,7.0,7.0,7.0,7.0,7.0,7.0,7.0,7.0,7.0,7.0,7.0,7.0,7.0,7.0,7.0,7.0,7.0,7.0,7.0,7.0,7.0,7.0,7.0,7.0,7.0,7.0,7.0,7.0,7.0,7.0,7.0,7.0,7.0,7.0,7.0,7.0,7.0,7.0,7.0,7.0,7.0,7.0,7.0,7.0,7.0,7.0,7.0,7.0,7.0,7.0,7.0,7.0,7.0,7.0,7.0,7.0,7.0,7.0,7.0,7.0,7.0,7.0,7.0,7.0,7.0,7.0,7.0,7.0,7.0,7.0,7.0,7.0,7.0,7.0,7.0,7.0,7.0,7.0,7.0,7.0,7.0,7.0,7.0,7.0,7.0,7.0,7.0,7.0,7.0,7.0,7.0,7.0,7.0,7.0,7.0,7.0,7.0,7.0,7.0,7.0,7.0,7.0,7.0,7.0,7.0,7.0,7.0,7.0,7.0,7.0,7.0,7.0,7.0,7.0,7.0,7.0,7.0,7.0,7.0,7.0,7.0,7.0,7.0,7.0,7.0,7.0,7.0,7.0,7.0,7.0,7.0,7.0,7.0,7.0,7.0,7.0,7.0,7.0,7.0,7.0,7.0,7.0,7.0,7.0,7.0,7.0,7.0,7.0,7.0,7.0,7.0,7.0,7.0,7.0,7.0,7.0,7.0,7.0,7.0,7.0,7.0,7.0,7.0,7.0,7.0,7.0,7.0,7.0,7.0,7.0,7.0,7.0,7.0,7.0,7.0,7.0,7.0,7.0,7.0,7.0,7.0,7.0,7.0,7.0,7.0,7.0,7.0,7.0,7.0,7.0,7.0,7.0,7.0,7.0,7.0,7.0,7.0,7.0,7.0,7.0,7.0,7.0,7.0,7.0,7.0,7.0,7.0,7.0,7.0,7.0,7.0,7.0,7.0,7.0,7.0,7.0,7.0,7.0,7.0,7.0,7.0,8.5,8.5,8.5,8.5,8.5,8.5,8.5,8.5,8.5,8.5,8.5,8.5,8.5,8.5,8.5,8.5,8.5,7.0,7.0,7.0,7.0,7.0,7.0,7.0,7.0,7.0,7.0,7.0,7.0,7.0,7.0,7.0,7.0,7.0,7.0,7.0,7.0,7.0,7.0,7.0,7.0,7.0,7.0,7.0,7.0,7.0,7.0,7.0,7.0,7.0,7.0,7.0,7.0,7.0,7.0,7.0,7.0,7.0,7.0,7.0,7.0,7.0,7.0,7.0,7.0,7.0,7.0,7.0,7.0,7.0,7.0,7.0,7.0,7.0,7.0,7.0,7.0,7.0,7.0,7.0,7.0,7.0,7.0,7.0,7.0,7.0,7.0,7.0,7.0,7.0,7.0,7.0,7.0,7.0,7.0,7.0,7.0,7.0,7.0,7.0,7.0,7.0,7.0,7.0,7.0,7.0,7.0,7.0,7.0,7.0,7.0,7.0,7.0,7.0,7.0,7.0,7.0,7.0,7.0,7.0,7.0,7.0,7.0,7.0,7.0,7.0,7.0,7.0,7.0,7.0,7.0,7.0,7.0,7.0,7.0,7.0,7.0,7.0,7.0,7.0,7.0,7.0,7.0,7.0,7.0,7.0,7.0,7.0,7.0,7.0,7.0,7.0,7.0,7.0,7.0,7.0,7.0,7.0,7.0,7.0,7.0,7.0,7.0,7.0,7.0,7.0,7.0,7.0,7.0,7.0,7.0,7.0,7.0,7.0,7.0,7.0,7.0,7.0,7.0,7.0,7.0,7.0,7.0,7.0,7.0,7.0,7.0,7.0,7.0,7.0,7.0,7.0,7.0,7.0,7.0,7.0,7.0,7.0,7.0,7.0,7.0,7.0,7.0,7.0,7.0,7.0,7.0,7.0,7.0,7.0,7.0,7.0,7.0,7.0,7.0,7.0,7.0,7.0,7.0,7.0,7.0,7.0,7.0,7.0,7.0,7.0,7.0,7.0,7.0,7.0,7.0,7.0,7.0,7.0,7.0,7.0,7.0,7.0,7.0,7.0,7.0,7.0,7.0,7.0,7.0,7.0,7.0,7.0,7.0,7.0,7.0,7.0,7.0,7.0,7.0,7.0,7.0,7.0,7.0,7.0,7.0,7.0,7.0,7.0,7.0,7.0,7.0,7.0,7.0,7.0,7.0,7.0,7.0,7.0,7.0,7.0,7.0,7.0,7.0,7.0,7.0,7.0,7.0,7.0,7.0,7.0,7.0,7.0,7.0,7.0,7.0,7.0,7.0,7.0,7.0,7.0,7.0,7.0,7.0,7.0,7.0,7.0,7.0,7.0,7.0,7.0,7.0,7.0,7.0,7.0,7.0,7.0,7.0,7.0,7.0,7.0,7.0,7.0,7.0,7.0,7.0,7.0,7.0,7.0,7.0,7.0,7.0,7.0,7.0,7.0,7.0,7.0,7.0,7.0,7.0,7.0,7.0,7.0,7.0,7.0,7.0,7.0,7.0,7.0,7.0,7.0,7.0,7.0,7.0,7.0,7.0,7.0,7.0,7.0,7.0,7.0,7.0,7.0,7.0,7.0,7.0,7.0,7.0,7.0,7.0,7.0,7.0,7.0,7.0,7.0,7.0,7.0,7.0,7.0,7.0,7.0,7.0,7.0,7.0,7.0,7.0,7.0,7.0,7.0,7.0,7.0,7.0,7.0,7.0,7.0,7.0,7.0,7.0,7.0,7.0,7.0,7.0,7.0,7.0,7.0,7.0,7.0,7.0,7.0,7.0,7.0,7.0,7.0,7.0,7.0,7.0,7.0,7.0,7.0,7.0,7.0,7.0,7.0,7.0,7.0,7.0,7.0,7.0,7.0,7.0,7.0,7.0,7.0,7.0,7.0,7.0,7.0,7.0,7.0,7.0,7.0,7.0,7.0,7.0,7.0,7.0,7.0,7.0,7.0,7.0,7.0,7.0,7.0,7.0,7.0,7.0,7.0,7.0,7.0,7.0,7.0,7.0,7.0,7.0,7.0,7.0,7.0,7.0,7.0,7.0,7.0,7.0,7.0,7.0,7.0,7.0,7.0,7.0,7.0,7.0,7.0,7.0,7.0,7.0,7.0,7.0,7.0,7.0,7.0,7.0,7.0,7.0,7.0,7.0,7.0,7.0,7.0,7.0,7.0,7.0,7.0,7.0,7.0,7.0,7.0,7.0,7.0,7.0,7.0,7.0,7.0,7.0,7.0,7.0,7.0,7.0,7.0,7.0,7.0,7.0,7.0,7.0,7.0,7.0,7.0,7.0,7.0,7.0,7.0,7.0,7.0,7.0,7.0,7.0,7.0,7.0,7.0,7.0,7.0,7.0,7.0,7.0,7.0,7.0,7.0,7.0,7.0,7.0,7.0,7.0,7.0,7.0,7.0,7.0,7.0,7.0,7.0,7.0,7.0,7.0,7.0,7.0,7.0,7.0,7.0,7.0,7.0,7.0,7.0,7.0,7.0,7.0,7.0,7.0,7.0,7.0,7.0,7.0,7.0,7.0,7.0,7.0,7.0,7.0,7.0,7.0,7.0,7.0,7.0,7.0,7.0,7.0,7.0,7.0,7.0,7.0,7.0,7.0,7.0,7.0,7.0,7.0,7.0,7.0,7.0,7.0,7.0,7.0,7.0,7.0,7.0,7.0,7.0,7.0,7.0,7.0,7.0,7.0,7.0,7.0,7.0,7.0,7.0,7.0,7.0,7.0,7.0,7.0,7.0,7.0,7.0,7.0,7.0,7.0,7.0,7.0,7.0,7.0,7.0,7.0,7.0,7.0,7.0,7.0,7.0,7.0,7.0,7.0,7.0,7.0,7.0,7.0,7.0,7.0,7.0,7.0,7.0,7.0,7.0,7.0,7.0,7.0,7.0,7.0,7.0,7.0,7.0,7.0,7.0,7.0,7.0,7.0,7.0,7.0,7.0,7.0,7.0,7.0,7.0,7.0,7.0,7.0,7.0,7.0,7.0,7.0,7.0,7.0,7.0,7.0,7.0,7.0,7.0,7.0,7.0,7.0,7.0,7.0,7.0,7.0,7.0,7.0,7.0,7.0,7.0,7.0,7.0,7.0,7.0,7.0,7.0,7.0,7.0,7.0,7.0,7.0,7.0,7.3,6.6,7.3,7.3,7.3,6.6,6.6,7.3,7.3,7.3,6.6,6.6,6.6,6.6,6.6,7.3,7.3,7.3,7.3,7.3,7.3,7.3,7.3,6.6,6.6,6.6,6.6,6.6,6.6,6.6,7.3,7.3,7.3,7.3,7.0,7.0,7.0,7.0,7.0,7.0,7.0,7.0,7.0,7.0,7.0,7.0,7.0,7.0,7.0,7.0,7.0,7.0,7.0,7.0,7.0,7.0,7.0,7.0,7.0,7.0,7.0,7.0,7.0,7.0,7.0,7.0,7.0,7.0,7.0,7.0,7.0,7.0,7.0,7.0,7.0,7.0,7.0,7.0,7.0,7.0,7.0,7.0,7.0,7.0,7.0,7.0,7.0,7.0,7.0,7.0,7.0,7.0,7.0,7.0,7.0,7.0,7.0,7.0,7.0,7.0,7.0,7.0,7.0,7.0,7.0,7.0,7.0,7.0,7.0,7.0,7.0,7.0,7.0,7.0,7.0,7.0,7.0,7.0,7.0,7.0,7.0,7.0,7.0,7.0,7.0,7.0,7.0,7.0,7.0,7.0,7.0,7.0,7.0,7.0,7.0,7.0,7.0,7.0,7.0,7.0,7.0,7.0,7.0,7.0,7.0,7.0,7.0,7.0,7.0,7.0,7.0,7.0,7.0,7.0,7.0,7.0,7.0,7.0,7.0,7.0,7.0,7.0,7.0,7.0,7.0,7.0,7.0,7.0,7.0,7.0,7.0,7.0,7.0,7.0,7.0,7.0,7.0,7.0,7.0,7.0,7.0,7.0,7.0,7.0,7.0,7.0,7.0,7.0,7.0,7.0,7.0,7.0,7.0,7.0,7.0,7.0,7.0,7.0,7.0,7.0,7.0,7.0,7.0,7.0,7.0,7.0,7.0,7.0,7.0,7.0,7.0,7.0,7.0,7.0,7.0,7.0,7.0,7.0,7.0,7.0,7.0,7.0,7.0,7.0,7.0,7.0,7.0,7.0,7.0,7.0,7.0,7.0,7.0,7.0,7.0,7.0,7.0,7.0,7.0,7.0,7.0,7.0,7.0,7.0,7.0,7.0,7.0,7.0,7.0,7.0,7.0,7.0,7.0,7.0,7.0,7.0,7.0,7.0,7.0,7.0,7.0,7.0,7.0,7.0,7.0,7.0,7.0,7.0,7.0,7.0,7.0,7.0,7.0,7.0,7.0,7.0,7.0,7.0,7.0,7.0,7.0,7.0,7.0,7.0,7.0,7.0,7.0,7.0,7.0,7.0,7.0,5.5,5.5,5.5,5.5,5.5,5.5,5.5,5.5,5.5,5.5,5.5,5.5,5.5,5.5,5.5,5.5,5.5,5.5,5.5,5.5,5.5,5.5,5.5,5.5,5.5,5.5,5.5,5.5,5.5,5.5,5.5,7.0,7.0,7.0,7.0,7.0,7.0,7.0,7.0,7.0,7.0,7.0,7.0,7.0,7.0,7.0,7.0,7.0,7.0,7.0,7.0,7.0,7.0,7.0,7.0,7.0,7.0,7.0,7.0,7.0,7.0,7.0,7.0,7.0,7.0,7.0,7.0,7.0,7.0,7.0,7.0,7.0,7.0,7.0,7.0,7.0,7.0,7.0,7.0,7.0,7.0,7.0,7.0,7.0,7.0,7.0,7.0,7.0,7.0,7.0,7.0,7.0,7.0,7.0,7.0,7.0,7.0,7.0,7.0,7.0,7.0,7.0,7.0,7.0,7.0,7.0,7.0,7.0,7.0,7.0,7.0,7.0,7.0,7.0,7.0,7.0,7.0,7.0,7.0,7.0,7.0,7.0,7.0,7.0,7.0,7.0,7.0,7.0,7.0,7.0,7.0,7.0,7.0,7.0,7.0,7.0,7.0,7.0,7.0,7.0,7.0,7.0,7.0,7.0,7.0,7.0,7.0,7.0,7.0,7.0,7.0,7.0,7.0,7.0,7.0,7.0,7.0,7.0,7.0,7.0,7.0,7.0,7.0,7.0,7.0,7.0,7.0,7.0,7.0,7.0,7.0,7.0,7.0,7.0,7.0,7.0,7.0,7.0,7.0,7.0,7.0,7.0,7.0,7.0,7.0,7.0,7.0,7.0,7.0,7.0,7.0,7.0,7.0,7.0,7.0,7.0,7.0,7.0,7.0,7.0,7.0,7.0,7.0,7.0,7.0,7.0,7.0,7.0,7.0,7.0,7.0,7.5,7.0,7.0,7.0,7.0,7.0,7.0,7.0,7.0,7.0,7.0,7.0,7.0,7.0,7.0,7.0,7.0,7.0,7.0,7.0,7.0,7.0,7.0,7.0,7.0,7.0,7.0,7.0,7.0,7.0,7.0,7.0,7.0,7.0,7.0,7.0,7.0,7.0,7.0,7.0,7.0,7.0,7.0,7.0,7.0,7.0,7.0,7.0,7.0,7.0,7.0,7.0,7.0,7.0,7.0,7.0,7.0,7.0,7.0,7.0,7.0,7.0,7.0,7.0,7.0,7.0,7.0,7.0,7.0,7.0,7.0,7.0,7.0,7.0,7.0,7.0,7.0,7.0,7.0,7.0,7.0,7.0,7.0,7.0,7.0,7.0,7.0,7.0,7.0,7.0,7.0,7.0,7.0,7.0,7.0,7.0,7.0,7.0,7.0,7.0,7.0,7.0,7.0,7.0,7.0,7.0,7.0,7.0,7.0,7.0,7.0,7.0,7.0,7.0,7.0,7.0,7.0,7.0,7.0,7.0,7.0,7.0,7.0,7.0,7.0,7.0,7.0,7.0,7.0,7.0,7.0,7.0,7.0,7.0,7.0,7.0,7.0,7.0,7.0,7.0,7.0,7.0,7.0,7.0,7.0,7.0,7.0,7.0,7.0,7.0,7.0,7.0,7.0,7.0,7.0,7.0,7.0,7.0,7.0,7.0,7.0,7.0,7.0,7.0,7.0,7.0,7.0,7.0,7.0,7.0,7.0,7.0,7.0,7.0,7.0,7.0,7.0,7.0,7.0,7.0,7.0,7.0,7.0,7.0,7.0,7.0,7.0,7.0,7.0,7.0,7.0,7.0,7.0,7.0,7.0,7.0,7.0,7.0,7.0,7.0,7.0,7.0,7.0,7.0,7.0,7.0,7.0,7.0,7.0,7.0,7.0,7.0,7.0,7.0,7.0,7.0,7.0,7.0,7.0,7.0,7.0,7.0,7.0,7.0,7.0,7.0,7.0,7.0,7.0,7.0,7.0,7.0,7.0,7.0,7.0,7.0,7.0,7.0,7.0,7.0,7.0,7.0,7.0,7.0,7.0,7.0,7.0,7.0,7.0,7.0,7.0,7.0,7.0,7.0,7.0,7.0,7.0,7.0,7.0,7.0,7.0,7.0,7.0,7.0,7.0,7.0,7.0,7.0,7.0,7.0,7.0,7.0,7.0,7.0,7.0,7.0,7.0,7.0,7.0,7.0,7.0,7.0,7.0,7.0,7.0,7.0,7.0,7.0,7.0,7.0,7.0,7.0,7.0,7.0,7.0,7.0,7.0,7.0,7.0,7.0,7.0,7.0,7.0,7.0,7.0,7.0,7.0,7.0,7.0,7.0,7.0,7.0,7.0,7.0,7.0,7.0,7.0,7.0,7.0,7.0,7.0,7.0,7.0,7.0,7.0,7.0,7.0,7.0,7.0,7.0,7.0,7.0,7.0,7.0,7.0,7.0,7.0,7.0,7.0,7.0,7.0,7.0,7.0,7.0,7.0,7.0,7.0,7.0,7.0,7.0,7.0,7.0,7.0,7.0,7.0,7.0,7.0,7.0,7.0,7.0,7.0,7.0,7.0,7.0,7.0,7.0,7.0,7.0,7.0,7.0,7.0,7.0,7.0,7.0,7.0,7.0,7.0,7.0,7.0,7.0,7.0,7.0,7.0,7.0,7.0,7.0,7.0,7.0,7.0,7.0,7.0,7.0,7.0,7.0,7.0,7.0,7.0,7.0,7.0,7.0,7.0,7.0,7.0,7.0,7.0,7.0,7.0,7.0,7.0,7.0,7.0,7.0,7.0,7.0,7.0,7.0,7.0,7.0,7.0,7.0,7.0,7.0,7.0,7.0,7.0,7.0,7.0,7.0,7.0,7.0,7.0,7.0,7.0,7.0,7.0,7.0,7.0,7.0,7.0,7.0,7.0,7.0,7.0,7.0,7.0,7.0,7.0,7.0,7.0,7.0,7.0,7.0,7.0,7.0,7.0,7.0,7.0,7.0,5.0,5.0,5.0,5.0,5.0,7.0,7.0,7.0,7.0,7.0,7.0,7.0,7.0,7.0,7.0,7.0,7.0,7.0,7.0,7.0,7.0,7.0,7.0,7.0,7.0,7.0,7.0,7.0,7.0,7.0,7.0,7.0,7.0,7.0,7.0,7.0,7.0,7.0,7.0,7.0,7.0,7.0,5.0,6.0,5.0,5.0,5.0,5.0,5.0,5.0,5.0,5.0,5.0,5.0,5.0,5.0,5.0,5.0,5.0,5.0,5.0,5.0,5.0,5.0,5.0,5.0,3.0,5.0,4.5,4.0,3.5,6.0,8.5,5.0,5.0,7.4,7.4,7.4,5.0,5.0,5.0,5.0,5.0,5.0,5.0,5.0,4.2,5.0,6.0,6.0,6.0,5.0,5.0,5.0,5.0,5.0,5.0,5.0,5.0,5.0,5.0,5.0,5.0,5.0,5.0,4.2,5.0,6.0,4.2,6.0,5.1,6.0,5.0,5.0,5.0,5.0,5.0,5.0,5.0,5.0,5.0,5.0,5.0,7.1,7.0,7.0,7.1,7.1,5.0,5.0,5.0,5.0,5.0,5.0,5.0,5.0,5.0,5.0,5.0,5.0,4.2,6.0,5.0,5.0,5.0,7.4,5.0,5.0,6.0,6.0,5.0,5.0,5.0,5.0,7.1,7.0,7.1,7.1,7.0,7.1,7.0,7.1,7.1,7.0,5.0,5.0,7.0,7.0,7.0,7.0,7.0,7.0,7.0,7.0,7.0,7.0,7.0,7.0,7.0,7.0,7.0,7.0,7.0,7.0,7.0,7.0,7.0,7.0,7.0,7.0,7.0,7.0,7.0,7.5,7.5,7.5,7.5,7.5,7.5,7.0,7.0,7.0,7.0,7.0,7.0,7.0,7.0,7.0,7.0,7.0,7.0,7.0,7.0,7.0,7.0,7.0,7.0,7.0,7.0,7.0,7.0,7.0,7.0,7.0,7.0,7.0,7.0,7.0,7.0,7.0,7.0,7.0,7.0,7.0,7.0,7.0,7.0,7.0,7.0,7.0,7.0,7.0,7.0,7.0,7.0,7.0,7.0,7.0,7.0,7.0,7.0,7.0,7.0,7.0,7.0,7.0,7.0,7.0,7.0,7.0,7.0,7.0,7.0,7.0,7.0,7.0,7.0,7.0,7.0,7.0,7.0,7.0,7.0,7.0,7.0,7.0,7.0,7.0,7.0,7.0,7.0,7.0,7.0,7.0,7.0,7.0,7.0,7.0,7.0,7.0,7.0,7.0,7.0,7.0,7.0,7.0,7.0,7.0,7.0,7.0,7.0,7.0,7.0,7.0,7.0,7.0,7.0,7.0,7.0,7.0,7.0,7.0,7.0,7.0,7.0,7.0,7.0,7.0,7.0,7.0,7.0,7.0,7.0,7.0,7.0,7.0,7.0,7.0,7.0,7.0,7.0,7.0,7.0,7.0,7.0,7.0,7.0,7.0,7.0,7.0,7.0,7.0,7.0,7.0,7.0,7.0,7.0,7.0,7.0,7.0,7.0,7.0,7.0,7.0,7.0,7.0,7.0,7.0,7.0,7.0,7.0,7.0,7.0,7.0,7.0,7.0,7.0,7.0,7.0,7.0,7.0,7.0,7.0,7.0,7.0,7.0,7.0,7.0,7.0,7.0,7.0,7.0,7.0,7.0,7.0,7.0,7.0,7.0,7.0,7.0,7.0,7.0,7.0,7.0,7.0,7.0,7.0,7.0,7.0,7.0,7.0,7.0,7.0,7.0,7.0,7.0,7.0,7.0,7.0,7.0,7.0,7.0,7.0,7.0,7.0,7.0,7.0,7.0,7.0,7.0,7.0,7.0,7.0,7.0,7.0,7.0,7.0,7.0,7.0,7.0,7.0,7.0,7.0,7.0,7.0,7.0,7.0,7.0,7.0,7.0,7.0,7.0,7.0,7.0,7.0,7.0,7.0,7.0,7.0,7.0,7.0,7.0,7.0,7.0,7.0,7.0,7.0,7.0,7.0,7.0,7.0,7.0,7.0,7.0,7.0,7.0,7.0,7.0,7.0,7.0,7.0,7.0,7.0,7.0,7.0,7.0,7.0,7.0,7.0,7.0,7.0,7.0,7.0,7.0,7.0,7.0,7.0,7.0,7.0,7.0,7.0,7.0,7.0,7.0,7.0,7.0,7.0,7.0,7.0,7.0,7.0,7.0,7.0,7.0,7.0,7.0,7.0,7.0,7.0,7.0,7.0,7.0,7.0,7.0,7.0,7.0,7.0,7.0,7.0,7.0,7.0,7.0,7.0,7.0,7.0,7.0,7.0,7.0,7.0,7.0,7.0,7.0,7.0,7.0,7.0,7.0,7.0,7.0,7.0,7.0,7.0,7.0,7.0,7.0,7.0,7.0,7.0,7.0,7.0,7.0,7.0,7.0,7.0,7.0,7.0,7.0,7.0,7.0,7.0,7.0,7.0,7.0,7.0,7.0,7.0,7.0,7.0,7.0,7.0,7.0,7.0,7.0,7.0,7.0,7.0,7.0,7.0,7.0,7.0,7.0,7.0,7.0,7.0,7.0,7.0,7.0,7.0,7.0,7.0,7.0,7.0,7.0,7.0,7.0,7.0,7.0,7.0,7.0,7.0,7.0,7.0,7.0,7.0,7.0,7.0,7.0,7.0,7.0,7.0,7.0,7.0,7.0,7.0,7.0,7.0,7.0,7.0,7.0,7.0,7.0,7.0,7.0,7.0,7.0,7.0,7.0,7.0,7.0,7.0,7.0,7.0,7.0,7.0,7.0,7.0,7.0,7.0,7.0,7.0,7.0,7.0,7.0,7.0,7.0,7.0,7.0,7.0,7.0,7.0,7.0,7.0,7.0,7.0,7.0,7.0,7.0,7.0,7.0,7.0,7.0,7.0,7.0,7.0,7.0,7.0,7.0,7.0,7.0,7.0,7.0,7.0,7.0,7.0,7.0,7.0,7.0,7.0,7.0,7.0,7.0,7.0,7.0,7.0,7.0,7.0,7.0,7.0,7.0,7.0,7.0,7.0,7.0,7.0,7.0,7.0,7.0,7.0,7.0,7.0,7.0,7.0,7.0,7.0,7.0,7.0,7.0,7.0,7.0,7.0,7.0,7.0,7.0,7.0,7.0,7.0,7.0,7.0,7.0,7.0,7.0,7.0,7.0,7.0,7.0,7.0,7.0,7.0,7.0,7.0,7.0,7.0,7.0,7.0,7.0,7.0,7.0,7.0,7.0,7.0,7.0,7.0,7.0,7.0,7.0,7.0,7.0,7.0,7.0,7.0,7.0,7.0,7.0,7.0,7.0,7.0,7.0,7.0,7.0,7.0,7.0,7.0,7.0,7.0,7.0,7.0,7.0,7.0,7.0,7.0,7.0,7.0,7.0,7.0,7.0,7.0,7.0,7.0,7.0,7.0,7.0,7.0,7.0,7.0,7.0,7.0,7.0,7.0,7.0,7.0,7.0,7.0,7.0,7.0,7.0,7.0,7.0,7.0,7.0,7.0,7.0,7.0,7.0,7.0,7.0,7.0,7.0,7.0,7.0,7.0,7.0,7.0,7.0,7.0,7.0,7.0,7.0,7.0,7.0,7.0,7.0,7.0,7.0,7.0,7.0,7.0,7.0,7.0,7.0,7.0,7.0,7.0,7.0,7.0,7.0,7.0,7.0,7.0,7.0,7.0,7.0,7.0,7.0,7.0,7.0,7.0,7.0,7.0,7.0,7.0,7.0,7.0,7.0,7.0,7.0,7.0,7.0,7.0,7.0,7.0,7.0,7.0,7.0,7.0,7.0,7.0,7.0,7.0,7.0,7.0,7.0,7.0,7.0,7.0,7.0,7.0,7.0,7.0,7.0,7.0,7.0,7.0,7.0,7.0,7.0,7.0,7.0,7.0,7.0,7.0,7.0,7.0,7.0,7.0,7.0,7.0,7.0,7.0,7.0,7.0,7.0,7.0,7.0,7.0,7.0,7.5,7.5,7.5,7.5,7.0,7.0,7.0,7.0,7.0,7.0,7.0,7.0,7.0,7.0,7.0,7.0,7.0,7.0,7.0,7.0,7.0,7.0,7.0,7.0,7.0,7.0,7.0,7.0,7.0,7.0,7.0,7.0,7.0,7.0,7.0,7.0,7.0,7.0,7.0,7.0,7.0,7.0,7.0,7.0,7.0,7.0,7.0,7.0,7.0,7.0,7.0,7.0,7.0,7.0,7.0,7.0,7.0,7.0,7.0,7.0,7.0,7.0,7.0,7.0,7.0,7.0,7.0,7.0,7.0,7.0,7.0,7.0,7.0,7.0,7.0,7.0,7.0,7.0,7.0,7.0,7.0,7.0,7.0,7.0,7.0,7.0,7.0,7.0,7.0,7.0,7.0,7.0,7.0,7.0,7.0,7.0,7.0,7.0,7.0,7.0,7.0,7.0,7.0,7.0,7.0,7.0,7.0,7.0,7.0,7.0,7.0,7.0,7.0,7.0,7.0,7.0,7.0,7.0,7.0,7.0,7.0,7.0,7.0,7.0,7.0,7.0,7.0,7.0,7.0,7.0,7.0,7.0,7.0,7.0,7.0,7.0,7.0,7.0,7.0,7.0,7.0,7.0,7.0,7.0,7.0,7.0,7.0,7.0,7.0,7.0,7.0,7.0,7.0,7.0,7.0,7.0,7.0,7.0,7.0,7.0,7.0,7.0,7.0,7.0,7.0,7.0,7.0,7.0,7.0,7.0,7.0,7.0,7.0,7.0,7.0,7.0,7.0,7.0,7.0,7.0,7.0,7.0,7.0,7.0,7.0,7.0,7.0,7.0,7.0,7.0,6.8729176839902335,6.8729176839902335,6.8729176839902335,6.8729176839902335,6.8729176839902335,6.8729176839902335,7.4,7.4,7.4,7.4,7.4,6.8729176839902335,7.0,7.0,7.0,7.0,7.0,7.0,7.0,7.0,7.0,7.0,7.0,7.0,7.0,7.0,7.0,7.0,7.0,7.0,7.0,7.0,7.0,7.0,7.0,7.0,7.0,7.0,7.0,7.0,7.0,7.0,7.0,7.0,7.0,7.0,7.0,7.0,7.0,7.0,7.0,7.0,7.0,7.0,7.0,7.0,7.0,7.0,7.0,7.0,7.0,7.0,7.0,7.0,7.0,7.0,7.0,7.0,7.0,7.0,7.0,7.0,7.0,7.0,7.0,7.0,7.0,7.0,7.0,7.0,7.0,7.0,7.0,7.0,7.0,7.0,7.0,7.0,7.0,7.0,7.0,7.0,7.0,7.0,7.0,7.0,7.0,7.0,7.0,7.0,7.0,7.0,7.0,7.0,7.0,7.0,7.0,7.0,7.0,7.0,7.0,7.0,7.0,7.0,7.0,7.0,7.0,7.0,7.0,7.0,7.0,7.0,7.0,7.0,7.0,7.0,7.0,7.0,7.0,7.0,7.0,7.0,7.0,7.0,7.0,7.0,7.0,7.0,7.0,7.0,7.0,7.0,7.0,7.0,7.0,7.0,7.0,7.0,7.0,7.0,7.0,7.0,7.0,7.0,7.0,7.0,7.0,7.0,7.0,7.0,7.0,7.0,7.0,7.0,7.0,7.0,7.0,7.0,7.0,7.0,7.0,7.0,7.0,7.0,7.0,7.0,7.0,7.0,7.0,7.0,7.0,7.0,7.0,7.0,7.0,7.0,7.0,7.0,7.0,7.0,7.0,7.0,7.0,7.0,7.0,7.0,7.0,7.0,7.0,7.0,7.0,7.0,7.0,7.0,7.0,7.0,7.0,7.0,7.0,7.0,7.0,7.0,7.0,7.0,7.0,7.0,7.0,7.0,7.0,7.0,7.0,7.0,7.0,7.0,7.0,7.0,7.0,7.0,7.0,7.0,7.0,7.0,7.0,7.0,7.0,7.0,7.0,7.0,7.0,7.0,7.0,7.0,7.0,7.0,7.0,7.0,7.0,7.0,7.0,7.0,7.0,7.0,7.0,7.0,7.0,7.0,7.0,7.0,7.0,7.0,7.0,7.0,7.0,7.0,7.0,7.0,7.0,7.0,7.0,7.0,7.0,7.0,7.0,7.0,7.0,7.0,7.0,7.0,7.0,7.0,7.0,7.0,7.0,7.0,7.0,7.0,7.0,7.0,7.0,7.0,7.0,7.0,7.0,7.0,7.0,7.0,7.0,7.0,7.0,7.0,7.0,7.0,7.0,7.0,7.0,7.0,7.0,7.0,7.0,7.0,7.0,7.0,7.0,7.0,7.0,7.0,7.0,7.0,7.0,7.0,7.0,7.0,7.0,7.0,7.0,7.0,7.0,7.0,7.0,7.0,7.0,7.0,7.0,7.0,7.0,7.0,7.0,7.0,7.0,7.0,7.0,7.0,7.0,7.0,7.0,7.0,7.0,7.0,7.0,7.0,7.0,7.0,7.0,7.0,7.0,7.0,7.0,7.0,7.0,7.0,7.0,7.0,7.0,7.0,7.0,7.0,7.0,7.0,7.0,7.0,7.0,7.0,7.0,7.0,7.0,7.0,7.0,7.0,7.0,7.0,7.0,7.0,7.0,7.0,7.0,7.0,7.0,7.0,7.0,7.0,7.0,7.0,7.0,7.0,7.0,7.0,7.0,7.0,7.0,7.0,7.0,7.0,7.0,7.0,7.0,7.0,7.0,7.0,7.0,7.0,7.0,7.0,7.0,7.0,7.0,7.0,7.0,7.0,7.0,7.0,7.0,7.0,7.0,7.0,7.0,7.0,7.0,7.0,7.0,7.0,7.0,7.0,7.0,7.0,7.0,7.0,7.0,7.0,7.0,7.0,7.0,7.0,7.0,7.0,7.0,7.0,7.0,7.0,7.0,7.0,7.0,7.0,7.0,7.0,7.0,7.0,7.0,7.0,7.0,7.0,7.0,7.0,7.0,7.0,7.0,7.0,7.0,7.0,7.0,7.0,7.0,7.0,7.0,7.0,7.0,7.0,7.0,7.0,7.0,7.0,7.0,7.0,7.0,7.0,7.0,7.0,7.0,7.0,7.0,7.0,7.0,7.0,7.0,7.0,7.0,7.0,7.0,7.0,7.0,7.0,7.0,7.0,7.0,7.0,7.0,7.0,7.0,7.0,7.0,7.0,7.0,7.0,7.0,7.0,7.0,7.0,7.0,7.0,7.0,7.0,7.0,7.0,7.0,7.0,7.0,7.0,7.0,7.0,7.0,7.0,7.0,7.0,7.0,7.0,7.0,7.0,7.0,7.0,7.0,7.0,7.0,7.0,7.0,7.0,7.0,7.0,7.0,7.0,7.0,7.0,7.0,7.0,7.0,7.0,7.0,7.0,7.0,7.0,7.0,7.0,7.0,7.0,7.0,7.0,7.0,7.0,7.0,7.0,7.0,7.0,7.0,7.0,7.0,7.0,7.0,7.0,7.0,7.0,7.0,7.0,7.0,7.0,7.0,7.0,7.0,7.0,7.0,7.0,7.0,7.0,7.0,7.0,7.0,7.0,7.0,7.0,7.0,7.0,7.0,7.0,7.0,7.0,7.0,7.0,7.0,7.0,7.0,7.0,7.0,7.0,7.0,7.0,7.0,7.0,7.0,7.0,7.0,7.0,7.0,7.0,7.0,7.0,7.0,7.0,7.0,7.0,7.0,7.0,7.0,7.0,7.0,7.0,7.0,7.0,7.0,7.0,7.0,7.0,7.0,7.0,7.0,7.0,7.0,7.0,7.0,7.0,7.0,7.0,7.0,7.0,7.0,7.0,7.0,7.0,7.0,7.0,7.0,7.0,7.0,7.0,7.0,7.0,7.0,7.0,7.0,7.0,7.0,7.0,7.0,7.0,7.0,7.0,7.0,7.0,7.0,7.0,7.0,7.0,7.0,7.0,7.0,7.0,7.0,7.0,7.0,7.0,7.0,7.0,7.0,7.0,7.0,7.0,7.0,7.0,7.0,7.0,7.0,7.0,7.0,7.0,7.0,7.0,7.0,7.0,7.0,7.0,7.0,7.0,7.0,7.0,7.0,7.0,7.0,7.0,7.0,7.0,7.0,7.0,7.0,7.0,7.0,7.0,7.0,7.0,7.0,7.0,7.0,7.0,7.0,7.0,7.0,7.0,7.0,7.0,7.0,7.0,7.0,7.0,7.0,7.0,7.0,7.0,7.0,7.0,7.0,7.0,7.0,7.0,7.0,7.0,7.0,7.0,7.0,7.0,7.0,7.0,7.0,7.0,7.0,7.0,7.0,7.0,7.0,7.0,7.0,7.0,7.0,7.0,7.0,7.0,7.0,7.0,7.0,7.0,7.0,7.0,7.0,7.0,7.0,7.0,7.0,7.0,7.0,7.0,7.0,7.0,7.0,7.0,7.0,7.0,7.0,7.0,7.0,7.0,7.0,7.0,7.0,7.0,7.0,7.0,7.0,7.0,7.0,7.0,7.0,7.0,7.0,7.0,7.0,7.0,7.0,7.0,7.0,7.0,7.0,7.0,7.0,7.0,7.0,7.0,7.0,7.0,7.0,7.0,7.0,7.0,7.0,7.0,7.0,7.0,7.0,7.0,7.0,7.0,7.0,7.0,7.0,7.0,7.0,7.0,7.0,7.0,7.0,7.0,7.0,7.0,7.0,7.0,7.0,7.0,7.0,7.0,7.0,7.0,7.0,7.0,7.0,7.0,7.0,7.0,7.0,7.0,7.0,7.0,7.0,7.0,7.0,7.0,7.0,7.0,7.0,7.0,7.0,7.0,7.0,7.0,7.0,7.0,7.0,7.0,7.0,7.0,7.0,7.0,7.0,7.0,7.0,7.0,7.0,7.0,7.0,7.0,7.0,7.0,7.0,7.0,7.0,7.0,7.0,7.0,7.0,7.0,7.0,7.0,7.0,7.0,7.0,7.0,7.0,7.0,7.0,7.0,7.0,7.0,7.0,7.0,7.0,7.0,7.0,7.0,7.0,7.0,7.0,7.0,7.0,7.0,7.0,7.0,7.0,7.0,7.0,7.0,7.0,7.0,7.0,7.0,7.0,7.0,7.0,7.0,7.0,7.0,7.0,7.0,7.0,7.0,7.0,7.0,7.0,7.0,7.0,7.0,7.0,7.0,7.0,7.0,7.0,7.0,7.0,7.0,7.0,7.0,7.0,7.0,7.0,7.0,7.0,7.0,7.0,7.0,7.0,7.0,7.0,7.0,7.0,7.0,7.0,7.0,7.0,7.0,7.0,7.0,7.0,7.0,7.0,7.0,7.0,7.0,7.0,7.0,7.0,7.0,7.0,7.0,7.0,7.0,7.0,7.0,7.0,7.0,7.0,7.0,7.0,7.0,7.0,7.0,7.0,7.0,7.0,7.0,7.0,7.0,7.0,7.0,7.0,7.0,7.0,7.0,7.0,7.0,7.0,7.0,7.0,7.0,7.0,7.0,7.0,7.0,7.0,7.0,7.0,7.0,7.0,7.0,7.0,7.0,7.0,7.0,7.0,7.0,7.0,7.0,7.0,7.0,7.0,7.0,7.0,7.0,7.0,7.0,7.0,7.0,7.0,7.0,7.0,4.5,4.5,4.5,4.5,4.5,4.5,7.0,7.0,7.0,7.0,7.0,7.0,7.0,7.0,7.0,7.0,7.0,7.0,7.0,7.0,7.0,7.0,7.0,7.0,7.0,7.0,7.0,7.0,7.0,7.0,7.0,7.0,7.0,7.0,7.0,7.4,7.4,7.4,7.4,7.4,7.4,7.0,7.0,7.0,7.0,7.0,7.0,7.0,7.0,7.0,7.0,7.0,7.0,7.0,7.0,7.0,7.0,7.0,7.0,7.0,7.0,7.0,7.0,7.0,7.0,7.0,7.0,7.0,7.0,7.0,7.0,7.0,7.0,7.0,7.0,7.0,7.0,7.0,7.0,7.0,7.0,7.0,7.0,7.0,7.0,7.0,7.0,7.0,7.0,7.0,7.0,7.0,7.0,7.0,7.0,7.0,7.0,7.0,7.0,7.0,7.0,7.0,7.0,7.0,7.0,7.0,7.0,7.0,7.0,7.0,7.0,7.0,7.0,7.0,7.0,7.0,7.0,7.0,7.0,7.0,7.0,7.0,7.0,7.0,7.0,7.0,7.0,7.0,7.0,7.0,7.0,7.0,7.0,7.0,7.0,7.0,7.0,7.0,7.0,7.0,7.0,7.0,7.0,7.0,7.0,7.0,7.0,7.0,7.0,7.0,7.0,7.0,7.0,7.0,7.0,7.0,7.0,7.0,7.0,7.0,7.0,7.0,7.0,7.0,7.0,7.0,7.0,7.0,7.0,7.0,7.0,7.0,7.0,7.0,7.0,7.0,7.0,7.0,7.0,7.0,7.0,7.0,7.0,7.0,7.0,7.0,7.0,7.0,7.0,7.0,7.0,7.0,7.0,7.0,7.0,7.0,7.0,7.0,7.0,7.0,7.0,7.0,7.0,7.0,7.0,7.0,7.0,7.0,7.0,7.0,7.0,7.0,7.0,7.0,7.0,7.0,7.0,7.0,7.0,7.0,7.0,7.0,7.0,7.0,7.0,7.0,7.0,7.0,7.0,7.0,7.0,7.0,7.0,7.0,7.0,7.0,7.0,7.0,7.0,7.0,7.0,7.0,7.0,7.0,7.0,7.0,7.0,7.0,7.0,7.0,7.0,7.0,7.0,7.0,7.0,7.0,7.0,7.0,7.0,7.0,7.0,7.0,7.0,7.0,7.0,7.0,7.0,7.0,7.0,7.0,7.0,7.0,7.0,7.0,7.0,7.0,7.0,7.0,7.0,7.0,7.0,7.0,7.0,7.0,7.0,7.0,7.0,7.0,7.0,7.0,7.0,7.0,7.0,7.0,7.0,7.0,7.0,7.0,7.0,7.0,7.0,7.0,7.0,7.0,7.0,7.0,7.0,7.0,7.0,7.0,7.0,7.0,7.0,7.0,7.0,7.0,7.0,7.0,7.0,7.0,7.0,7.0,7.0,7.0,7.0,7.0,7.0,7.0,7.0,7.0,7.0,7.0,7.0,7.0,7.0,7.0,7.0,7.0,7.0,7.0,7.0,7.0,7.0,7.0,7.0,7.0,7.0,7.0,7.0,7.0,7.0,7.0,7.0,7.0,7.0,7.0,7.0,7.0,7.0,7.0,7.0,7.0,7.0,7.0,7.0,7.0,7.0,7.0,7.0,7.0,7.0,7.0,7.0,7.0,7.0,7.0,7.0,7.0,7.0,7.0,7.0,7.0,7.0,7.0,7.0,7.0,7.0,7.0,7.0,7.0,7.0,7.0,7.0,7.0,7.0,7.0,7.0,7.0,7.0,7.0,7.0,7.0,7.0,7.0,7.0,7.0,7.0,7.0,7.0,7.0,7.0,7.0,7.0,7.0,7.0,7.0,7.0,7.0,7.0,7.0,7.0,7.0,7.0,7.0,7.0,7.0,7.0,7.0,7.0,7.0,7.0,7.0,7.0,7.0,7.0,7.0,7.0,7.0,7.0,7.0,7.0,7.0,7.0,7.0,7.0,7.0,7.0,7.0,7.0,7.0,7.0,7.0,7.0,7.0,7.0,7.0,7.0,7.0,7.0,7.0,7.0,7.0,7.0,7.0,7.0,7.0,7.0,7.0,7.0,7.0,7.0,7.0,7.0,7.0,7.0,7.0,7.0,7.0,7.0,7.0,7.0,7.0,7.0,7.0,7.0,7.0,7.0,7.0,7.0,7.0,7.0,7.0,7.0,7.0,7.0,7.0,7.0,7.0,7.0,7.0,7.0,7.0,7.0,7.0,7.0,7.0,7.0,7.0,7.0,7.0,7.0,7.0,7.0,7.0,7.0,7.0,7.0,7.0,7.0,7.0,7.0,7.0,7.0,7.0,7.0,7.0,7.0,7.0,7.0,7.0,7.0,7.0,7.0,7.0,7.0,7.0,7.0,7.0,7.0,7.0,7.0,7.0,7.0,7.0,7.0,7.0,7.0,7.0,7.0,7.0,7.0,7.0,7.0,7.0,7.0,7.0,7.0,7.0,7.0,7.0,7.0,7.0,7.0,7.0,7.0,7.0,7.0,7.0,7.0,7.0,7.0,7.0,7.0,7.0,7.0,7.0,7.0,7.0,7.0,7.0,7.0,7.0,7.0,7.0,7.0,7.0,7.0,7.0,7.0,7.0,7.0,7.0,7.0,7.0,7.0,7.0,7.0,7.0,7.0,7.0,7.0,7.0,7.0,7.0,7.0,7.0,7.0,7.0,7.0,7.0,7.0,7.0,7.0,7.0,7.0,7.0,7.0,7.0,7.0,7.0,7.0,7.0,7.0,7.0,7.0,7.0,7.0,7.0,7.0,7.0,7.0,7.0,7.0,7.0,7.0,7.0,7.0,7.0,7.0,7.0,7.0,7.0,7.0,7.0,7.0,7.0,7.0,7.0,7.0,7.0,7.0,7.0,7.0,7.0,7.0,7.0,7.0,7.0,7.0,7.0,7.0,7.0,7.0,7.0,7.0,7.0,7.0,7.0,7.0,7.0,7.0,7.0,7.0,7.0,7.0,7.0,7.0,7.0,7.0,7.0,7.0,7.0,7.0,7.0,7.0,7.0,7.0,7.0,7.0,7.0,7.0,7.0,7.0,7.0,7.0,7.0,3.5,3.5,3.0,3.2,2.5,2.0,3.2,3.2,3.2,3.2,3.2,3.2,3.2,2.0,3.5,3.0,2.5,7.0,7.0,7.0,7.0,7.0,7.0,7.0,7.0,7.0,7.0,7.0,7.0,7.0,7.0,7.0,7.0,7.0,7.0,7.0,7.0,7.0,7.0,7.0,7.0,7.0,7.0,7.0,7.0,7.0,7.0,7.0,7.0,7.0,7.0,7.0,7.0,7.0,7.0,7.0,7.0,7.0,7.0,7.0,7.0,7.0,7.0,7.0,7.0,7.0,7.0,7.0,7.0,7.0,7.0,7.0,7.0,7.0,7.0,7.0,7.0,7.0,7.0,7.0,7.0,7.0,7.0,7.0,7.0,7.0,7.0,7.0,7.0,7.0,7.0,7.0,7.0,7.0,7.0,7.0,7.0,7.0,7.0,7.0,7.0,7.0,7.0,7.0,7.0,7.0,7.0,7.0,7.0,7.0,7.0,7.0,7.0,7.0,7.0,7.0,7.0,7.0,7.0,7.0,7.0,7.0,7.0,7.0,7.0,7.0,7.0,7.0,7.0,7.0,7.0,7.0,7.0,7.0,7.0,7.0,7.0,7.0,7.0,7.0,7.0,7.0,7.0,7.0,7.0,7.0,7.0,7.0,7.0,7.0,7.0,7.0,7.0,7.0,7.0,7.0,7.0,7.0,7.0,7.0,7.0,7.0,7.0,7.0,7.0,7.0,7.0,7.0,7.0,7.0,7.0,7.0,7.0,7.0,7.0,7.0,7.0,7.0,7.0,7.0,7.0,7.0,7.0,7.0,7.0,7.0,7.0,7.0,7.0,7.0,7.0,7.0,7.0,7.0,7.0,7.0,7.0,7.0,7.0,7.0,7.0,7.0,7.0,7.0,7.0,7.0,7.0,7.0,7.0,7.0,7.0,7.0,7.0,7.0,7.0,7.0,7.0,7.0,7.0,7.0,7.0,7.0,7.0,7.0,7.0,7.0,7.0,7.0,7.0,7.0,7.0,7.0,7.0,7.0,7.0,7.0,7.0,7.0,7.0,7.0,7.0,7.0,7.0,7.0,7.0,7.0,7.0,7.0,7.0,7.0,7.0,7.0,7.0,7.0,7.0,7.0,7.0,7.0,7.0,7.0,7.0,7.0,7.0,7.0,7.0,7.0,7.0,7.0,7.0,7.0,7.0,7.0,7.0,7.0,7.0,7.0,7.0,7.0,7.0,7.0,7.0,7.0,7.0,7.0,7.0,7.0,7.0,7.0,7.0,7.0,7.0,7.0,7.0,7.0,7.0,7.0,7.0,7.0,7.0,7.0,7.0,7.0,7.0,7.0,7.0,7.0,7.0,7.0,7.0,7.0,7.0,7.0,7.0,7.0,7.0,7.0,7.0,7.0,7.0,7.0,7.0,7.0,7.0,7.0,7.0,7.0,7.0,7.0,7.0,7.0,7.0,7.0,7.0,7.0,7.0,7.0,7.0,7.0,7.0,7.0,7.0,7.0,7.0,7.0,7.0,7.0,7.0,7.0,7.0,7.0,7.0,7.0,7.0,7.0,7.0,7.0,7.0,7.0,7.0,7.0,7.0,7.0,7.0,7.0,7.0,7.0,7.0,7.0,7.0,7.0,7.0,7.0,7.0,7.0,7.0,7.0,7.0,7.0,7.0,7.0,7.0,7.0,7.0,7.0,7.0,7.0,7.0,7.0,7.0,7.0,7.0,7.0,7.0,7.0,7.0,7.0,7.0,7.0,7.0,7.0,7.0,7.0,7.0,7.0,7.0,7.0,7.0,7.0,7.0,7.0,7.0,7.0,7.0,7.0,7.0,7.0,7.0,7.0,7.0,7.0,7.0,7.0,7.0,7.0,7.0,7.0,7.0,7.0,7.0,7.0,7.0,7.0,7.0,7.0,7.0,7.0,7.0,7.0,7.0,7.0,7.0,7.0,7.0,7.0,7.0,7.0,7.0,7.0,7.0,7.0,7.0,7.0,7.0,7.0,7.0,7.0,7.0,7.0,7.0,7.0,7.0,7.0,6.0,6.0,6.0,6.0,6.0,6.0,6.0,6.0,7.0,7.0,7.0,7.0,7.0,7.0,7.0,7.0,7.0,7.0,7.0,7.0,7.0,7.0,7.0,7.0,7.0,7.0,7.0,7.0,7.0,7.0,7.0,7.0,7.0,7.0,7.0,7.0,7.0,7.0,7.0,7.0,7.0,7.0,7.0,7.0,7.0,7.0,7.0,7.0,7.0,7.0,7.0,7.0,7.0,7.0,7.0,7.0,7.0,7.0,7.0,7.0,7.0,7.0,7.0,7.0,7.0,7.0,7.0,7.0,7.0,7.0,7.0,7.0,7.0,7.0,7.0,7.0,7.0,7.0,7.0,7.0,7.0,7.0,7.0,7.0,7.0,7.0,7.0,7.0,7.0,7.0,7.0,7.0,7.0,7.0,7.0,7.0,7.0,7.0,7.0,7.0,7.0,7.0,7.0,7.0,7.0,7.0,7.0,7.0,7.0,7.0,7.0,7.0,7.0,7.0,7.0,7.0,7.0,7.0,7.0,7.0,7.0,7.0,7.0,7.0,7.0,7.0,7.0,7.0,7.0,7.0,7.0,7.0,7.0,7.0,7.0,7.0,7.0,7.0,7.0,7.0,7.0,7.0,7.0,7.0,7.0,7.0,7.0,7.0,7.0,7.0,7.0,7.0,7.0,7.0,7.0,7.0,7.0,7.0,7.0,7.0,7.0,7.0,7.0,7.0,7.0,7.0,7.0,7.0,7.0,7.0,7.0,7.0,7.0,7.0,7.0,7.0,7.0,7.0,7.0,7.0,7.0,7.0,7.0,7.0,7.0,7.0,7.0,7.0,7.0,7.0,7.0,7.0,7.0,7.0,7.0,7.0,7.0,7.0,7.0,7.0,7.0,7.0,7.0,7.0,7.0,7.0,7.0,7.0,7.0,7.0,7.0,7.0,7.0,7.0,7.0,7.0,7.0,7.0,7.0,7.0,7.0,7.0,7.0,7.0,7.0,7.0,7.0,7.0,7.0,7.0,7.0,7.0,7.0,7.0,7.0,7.0,7.0,7.0,7.0,7.0,7.0,7.0,7.0,7.0,7.0,7.0,7.0,7.0,7.0,7.0,7.0,7.0,7.0,7.0,7.0,7.0,7.0,7.0,7.0,7.0,7.0,7.0,7.0,7.0,7.0,7.0,7.0,7.0,7.0,7.0,7.0,7.0,7.0,7.0,7.0,7.0,7.0,7.0,7.0,7.0,7.0,7.0,7.0,7.0,7.0,7.0,7.0,7.0,7.5,7.5,7.0,7.0,7.5,7.5,7.0,7.0,7.0,7.0,7.0,7.0,7.0,7.0,7.0,7.0,7.0,7.0,7.0,7.0,7.0,7.0,7.5,7.0,7.0,7.0,7.0,7.0,7.0,7.0,7.0,7.0,7.0,7.0,7.0,7.0,7.0,7.0,7.0,7.0,7.0,7.0,7.0,7.0,7.0,7.0,7.0,7.0,7.0,7.0,7.0,7.0,7.0,7.0,7.0,7.0,7.0,7.0,7.0,7.0,7.0,7.0,7.0,7.0,7.0,7.0,7.0,7.0,7.0,7.0,7.0,7.0,7.0,7.0,7.0,7.0,7.0,7.0,7.0,7.0,7.0,7.0,7.0,7.0,7.0,7.0,7.0,7.0,7.0,7.0,7.0,7.0,7.0,7.0,7.0,7.0,7.0,7.0,7.0,7.0,7.0,7.0,7.0,7.0,7.0,7.0,7.0,7.0,7.0,7.0,7.0,7.0,7.0,7.0,7.0,7.0,7.0,7.0,7.0,7.0,7.0,7.0,7.0,7.0,7.0,7.0,7.0,7.0,7.0,7.0,7.0,7.0,7.0,7.0,7.0,7.0,7.0,7.0,7.0,7.0,7.0,7.0,7.0,7.0,7.0,7.0,7.0,7.0,7.0,7.0,7.0,7.0,7.0,7.0,7.0,7.0,7.0,7.0,7.0,7.0,7.0,7.0,7.0,7.0,7.0,7.0,7.0,7.0,7.0,7.0,7.0,7.0,7.0,7.0,7.0,7.0,7.0,7.0,7.0,7.0,7.0,7.0,7.0,7.0,7.0,7.0,7.0,7.0,7.0,7.0,7.0,7.0,7.0,7.0,7.0,7.0,7.0,7.0,7.0,7.0,7.0,7.0,7.0,7.0,7.0,7.0,7.0,7.0,7.0,7.0,7.0,7.0,7.0,7.0,7.0,7.0,7.0,7.0,7.0,7.0,7.0,7.0,7.0,7.0,7.0,7.0,7.0,7.0,7.0,7.0,7.0,7.0,7.0,7.0,7.0,7.0,7.0,7.0,7.0,7.0,7.0,7.0,7.0,7.0,7.0,7.0,7.0,7.0,7.0,7.0,7.0,7.0,7.0,7.0,7.0,7.0,7.0,7.0,7.0,7.0,7.0,7.0,7.0,7.0,7.0,7.0,7.0,7.0,7.0,7.0,7.0,7.0,7.0,7.0,7.0,7.0,7.0,7.0,7.0,7.0,7.0,7.0,7.0,7.0,7.0,7.0,7.0,7.0,7.0,7.0,7.0,7.0,7.0,7.0,7.0,7.0,7.0,7.0,7.0,7.0,7.0,7.0,7.0,7.0,7.0,7.0,7.0,7.0,7.0,7.0,7.0,7.0,7.0,7.0,7.0,7.0,7.0,7.0,7.0,7.0,7.0,5.5,5.5,5.5,5.5,7.0,5.2,5.2,5.2,5.2,5.2,5.2,5.2,5.2,5.2,5.2,5.2,5.2,5.2,5.2,5.2,5.2,5.2,5.2,5.2,5.2,5.2,5.2,5.2,5.2,5.2,5.2,5.2,5.2,5.2,5.2,5.2,5.2,5.2,5.2,5.2,5.2,5.2,5.2,5.2,5.2,5.2,5.2,5.2,5.5,5.5,7.2,5.5,5.5,5.5,5.5,5.5,5.5,5.2,5.2,5.2,5.2,7.0,7.0,7.0,7.0,7.0,7.0,7.0,7.0,7.0,7.0,7.0,7.0,7.0,7.0,7.0,7.0,7.0,7.0,7.0,7.0,7.0,7.0,7.0,7.0,7.0,7.0,7.0,7.0,7.0,7.0,7.0,7.0,7.0,7.0,7.0,7.0,7.0,7.0,7.0,7.0,7.0,7.0,7.0,7.0,7.0,7.0,7.0,7.0,7.0,7.0,7.0,7.0,7.0,7.0,7.0,7.0,7.0,7.0,7.0,7.0,7.0,7.0,7.0,7.0,7.0,7.0,7.0,7.0,7.0,7.0,7.0,7.0,7.0,7.0,7.0,7.0,7.0,7.0,7.0,7.0,7.0,7.0,7.0,7.0,7.0,7.0,7.0,7.0,7.0,7.0,7.0,7.0,7.0,7.0,7.0,7.0,7.0,7.0,7.0,7.0,7.0,7.0,7.0,7.0,7.0,7.0,7.0,7.0,7.0,7.0,7.0,7.0,7.0,7.0,7.0,7.0,7.0,7.0,7.0,7.0,7.0,7.0,7.0,7.0,7.0,7.0,7.0,7.0,7.0,7.0,7.0,7.0,7.0,7.0,7.0,7.0,7.0,7.0,7.0,7.0,7.0,7.0,7.0,7.0,7.0,7.0,7.0,7.0,7.0,7.0,7.0,7.0,7.0,7.0,7.0,7.0,7.0,7.0,7.0,7.0,7.0,7.0,7.0,7.0,7.0,7.0,8.0,8.0,8.0,7.0,7.0,7.0,7.0,7.0,7.0,7.0,7.0,7.0,7.0,7.0,7.0,7.0,7.0,7.0,7.0,7.0,7.0,7.0,7.0,7.0,7.0,7.0,7.0,7.0,7.0,7.0,7.0,7.0,7.0,7.0,7.0,7.0,7.0,7.0,7.0,7.0,7.0,7.0,7.0,7.0,7.0,7.0,7.0,7.0,7.0,7.0,7.0,7.0,7.0,7.0,7.0,7.0,7.0,7.0,7.0,7.0,7.0,7.0,7.0,7.0,7.0,7.0,7.0,7.0,7.0,7.0,7.0,7.0,7.0,7.0,7.0,7.0,7.0,7.0,7.0,7.0,7.0,7.0,7.0,7.0,7.0,7.0,7.0,7.0,7.0,7.0,7.0,7.0,7.0,7.0,7.0,7.0,7.0,7.0,7.0,7.0,7.0,7.0,7.0,7.0,7.0,7.0,7.0,7.0,7.0,7.0,7.0,7.0,7.0,7.0,7.0,7.0,7.0,7.0,7.0,7.0,7.0,7.0,7.0,7.0,7.0,7.0,7.0,7.0,7.0,7.0,7.0,7.0,7.0,7.0,7.0,7.0,7.0,7.0,7.0,7.0,7.0,7.0,7.0,7.0,7.0,7.0,7.0,7.0,7.0,7.0,7.0,7.0,7.0,7.0,7.0,7.0,7.0,7.0,7.0,7.0,7.0,7.0,7.0,7.0,7.0,8.5,8.5,8.5,8.5,8.5,8.5,8.5,8.5,8.5,8.5,7.0,7.0,7.0,7.0,7.0,7.0,7.0,7.0,7.0,7.0,7.0,7.0,7.0,7.0,7.0,7.0,7.0,7.0,7.0,7.0,7.0,7.0,7.0,7.0,7.0,7.0,7.0,7.0,7.0,7.0,7.0,7.0,7.0,7.0,7.0,7.0,7.0,7.0,7.0,7.0,7.0,7.0,7.0,7.0,7.0,7.0,7.0,7.0,7.0,7.0,7.0,7.0,7.0,7.0,7.0,7.0,7.0,7.0,7.0,7.0,7.0,7.0,7.0,7.0,7.0,7.0,7.0,7.0,7.0,7.0,7.0,7.0,7.0,7.0,7.0,7.0,7.0,7.0,7.0,7.0,7.0,7.0,7.0,7.0,7.0,7.0,7.0,7.0,7.0,7.0,7.0,7.0,7.0,7.0,7.0,7.0,7.0,7.0,7.0,7.0,7.0,7.0,7.0,7.0,7.0,7.0,7.0,7.0,7.0,7.0,7.0,7.0,7.0,7.0,7.0,7.0,7.0,7.0,7.0,7.0,7.0,7.0,7.0,7.0,7.0,7.0,7.0,7.0,7.0,7.0,7.0,7.0,7.0,7.0,7.0,3.0,3.0,7.0,5.8,3.0,7.0,7.0,7.0,7.0,7.0,7.0,7.0,7.0,7.0,7.0,7.0,7.0,7.0,3.0,3.0,7.0,7.0,7.0,7.0,7.0,7.0,7.0,7.0,7.0,7.0,7.0,7.0,7.0,7.0,7.0,7.0,7.0,7.0,7.0,7.0,7.0,7.0,7.0,7.0,7.0,7.0,7.0,7.0,7.0,7.0,7.0,7.0,7.0,7.0,7.0,7.0,7.0,7.0,7.0,7.0,7.0,7.0,7.0,7.0,7.0,7.0,7.0,7.0,7.0,7.0,7.0,7.0,7.0,7.0,7.0,7.0,7.0,7.0,7.0,7.0,7.0,7.0,7.0,7.0,7.0,7.0,7.0,7.0,7.0,7.0,7.0,7.0,7.0,7.0,7.0,7.0,7.0,7.0,7.0,7.0,7.0,7.0,7.0,7.0,7.0,7.0,7.0,7.0,7.0,7.0,7.0,7.0,7.0,7.0,7.0,7.0,7.0,7.0,7.0,7.0,7.0,7.0,7.0,7.0,7.0,7.0,7.0,7.0,7.0,7.0,7.0,7.0,7.8,7.8,7.0,7.0,7.2,7.2,7.2,7.2,7.2,7.2,9.0,9.0,7.2,7.2,9.0,9.0,7.2,7.2,7.2,7.2,9.0,9.0,9.0,7.7,9.0,7.4,9.0,7.8,7.8,7.0,7.8,9.0,9.0,9.0,9.0,7.2,7.2,7.2,9.0,7.2,7.2,9.0,9.0,9.0,7.2,7.2,7.2,7.2,7.2,7.2,7.2,7.2,7.6,7.6,7.2,7.2,7.2,7.0,7.0,7.0,7.0,7.0,7.0,7.0,7.0,7.0,7.0,7.0,7.0,7.0,7.0,7.0,7.0,7.0,7.0,7.0,7.0,7.0,7.0,7.0,7.0,7.0,7.0,7.0,7.0,7.0,7.0,7.0,7.0,7.0,7.0,7.0,7.0,7.0,7.0,7.0,7.0,7.0,7.0,7.0,7.0,7.0,7.0,7.0,7.0,7.0,7.0,7.0,7.0,7.0,7.0,7.0,7.0,7.0,7.0,7.0,7.0,7.0,7.0,7.0,7.0,7.0,7.0,7.0,7.0,7.0,7.0,7.0,7.0,7.0,7.0,7.0,7.0,7.0,7.0,7.0,7.0,7.0,7.0,7.0,7.0,7.0,7.0,7.0,7.0,7.0,7.0,7.0,7.0,7.0,7.0,7.0,7.0,7.0,7.0,7.0,7.0,7.0,7.0,7.0,7.0,7.0,7.0,7.0,7.0,7.0,7.0,7.0,7.0,7.0,7.0,7.0,7.0,7.0,7.0,7.0,7.0,7.0,7.0,7.0,7.0,7.0,7.0,7.0,7.0,7.0,7.0,7.0,7.0,7.0,7.0,7.0,7.0,7.0,7.0,7.0,7.0,7.0,7.0,7.0,7.0,7.0,7.0,7.0,7.0,7.0,7.0,7.0,7.0,7.0,7.0,7.0,7.0,7.0,7.0,7.0,7.0,7.0,7.0,7.0,7.0,7.0,7.0,7.0,7.0,7.0,7.0,7.0,7.0,7.0,7.0,7.0,7.0,7.0,7.0,7.0,7.0,7.0,7.0,7.0,7.0,7.0,7.0,7.0,7.0,7.0,7.0,7.0,7.0,7.0,7.0,7.0,7.0,7.0,7.0,7.0,7.0,7.0,7.0,7.0,7.0,7.0,7.0,7.0,7.0,7.0,7.0,7.0,7.0,7.0,7.0,7.0,7.0,7.0,7.0,7.0,7.0,7.0,7.0,7.0,7.0,7.0,7.0,7.0,7.0,7.0,7.0,7.0,7.0,7.0,7.0,7.0,7.0,7.0,7.0,7.0,7.0,7.0,7.0,7.0,7.0,7.0,7.0,7.0,7.0,7.0,7.0,7.0,7.0,7.0,7.0,7.0,7.0,7.0,7.0,7.0,7.0,7.0,7.0,7.0,7.0,7.0,7.0,7.0,7.0,7.0,7.0,7.0,7.0,7.0,7.0,7.0,7.0,7.0,7.0,7.0,7.0,7.0,7.0,7.0,7.0,7.0,7.0,7.0,7.0,7.0,7.0,7.0,7.0,7.0,7.0,7.0,7.0,7.0,7.0,7.0,7.0,7.0,7.0,7.0,7.0,7.0,7.0,7.0,7.0,7.0,7.0,7.0,7.0,7.0,7.0,7.0,7.0,7.0,7.0,7.0,7.0,7.0,7.0,7.0,7.0,7.0,7.0,7.0,7.0,7.0,7.0,7.0,7.0,7.0,7.0,7.0,7.0,7.0,7.0,7.0,7.0,7.0,7.0,7.0,7.0,7.0,7.0,7.0,7.0,7.0,7.0,7.0,7.0,7.0,7.0,7.0,7.0,7.0,7.0,7.0,7.0,7.0,7.0,7.0,7.0,7.0,7.0,7.0,7.0,7.0,7.0,7.0,7.0,7.0,7.0,7.0,7.0,7.0,7.0,7.0,7.0,7.0,7.0,7.0,7.0,7.0,7.0,7.0,7.0,7.0,7.0,7.0,7.0,7.0,7.0,7.0,7.0,7.0,7.0,7.0,7.0,7.0,7.0,7.0,7.0,7.0,7.0,7.0,7.0,7.0,7.0,7.0,7.0,7.0,7.0,7.0,7.0,7.0,7.0,7.0,7.0,7.0,7.0,7.0,7.0,7.0,7.0,7.0,7.0,7.0,7.0,7.0,7.0,7.0,7.0,7.0,7.0,7.0,7.0,7.0,7.0,7.0,7.0,7.0,7.0,7.0,7.0,7.0,7.0,7.0,7.0,7.0,7.0,7.0,7.0,7.0,7.0,7.0,7.0,7.0,7.0,7.0,7.0,7.0,7.0,7.0,7.0,7.0,7.0,7.0,7.0,7.0,7.0,7.0,7.0,7.0,7.0,7.0,7.0,7.0,7.0,7.0,7.0,7.0,7.0,7.0,7.0,7.0,7.0,7.0,7.0,7.0,7.0,7.0,7.0,7.0,7.0,7.0,7.0,7.0,7.0,7.0,7.0,7.0,7.0,7.0,7.0,7.0,7.0,7.0,7.0,7.0,7.0,7.0,7.0,7.0,7.0,7.0,7.0,7.0,7.0,7.0,7.0,7.0,7.0,7.0,7.0,7.0,7.0,7.0,7.0,7.0,7.0,7.0,7.0,7.0,7.0,7.0,7.0,7.0,7.0,7.0,6.8,6.8,6.8,7.0,7.0,7.0,7.0,7.0,7.0,7.0,7.0,7.0,7.0,7.0,7.0,7.0,7.0,7.0,7.0,7.0,7.0,7.0,7.0,7.0,7.0,7.0,7.0,7.0,7.0,7.0,7.0,7.0,7.0,7.0,7.0,7.0,7.0,7.0,7.0,7.0,7.0,7.0,7.0,7.0,7.0,7.0,7.0,7.0,7.0,7.0,7.0,7.0,7.0,7.0,7.0,7.0,7.0,7.0,7.0,7.0,7.0,7.0,7.0,7.0,7.0,7.0,7.0,7.0,7.0,7.0,7.0,7.0,7.0,7.0,7.0,7.0,7.0,7.0,7.0,7.0,7.0,7.0,7.0,7.0,7.0,7.0,7.0,7.0,7.0,7.0,7.0,7.0,7.0,7.0,7.0,7.0,7.0,7.0,7.0,7.0,7.0,7.0,7.0,7.0,7.0,7.0,7.0,7.0,7.0,7.0,7.0,7.0,7.0,7.0,7.0,7.0,7.0,7.0,7.0,7.0,7.0,7.0,7.0,7.0,7.0,7.0,7.0,7.0,7.0,7.0,7.0,7.0,7.0,7.0,7.0,7.0,7.0,7.0,7.0,7.0,7.0,7.0,7.0,7.0,7.0,7.0,7.0,7.0,7.0,7.0,7.0,7.0,7.0,7.0,7.0,7.0,7.0,7.0,7.0,7.0,7.0,7.0,7.0,7.0,7.0,7.0,7.0,7.0,7.0,7.0,7.0,7.0,7.0,7.0,7.0,7.0,7.0,7.0,7.0,7.0,7.0,7.0,7.0,7.0,7.0,7.0,7.0,7.0,7.0,7.0,7.0,7.0,7.0,7.0,7.0,7.0,7.0,7.0,7.0,7.0,7.0,7.0,7.0,7.0,7.0,7.0,7.0,7.0,7.0,7.0,7.0,7.0,7.0,7.0,7.0,7.0,7.0,7.0,7.0,7.0,7.0,7.0,7.0,7.0,7.0,7.0,7.0,7.0,7.0,7.0,7.0,7.0,7.0,7.0,7.0,7.0,7.0,7.0,7.0,7.0,7.0,7.0,7.0,7.0,7.0,7.0,7.0,7.0,7.0,7.0,7.0,7.0,7.0,7.0,7.0,7.0,7.0,7.0,7.0,7.0,7.0,7.0,7.0,7.0,7.0,7.0,7.0,7.0,7.0,7.0,7.0,7.0,7.0,7.0,7.0,7.0,7.0,7.0,7.0,7.0,7.0,7.0,7.0,7.0,7.0,7.0,7.0,7.0,7.0,7.0,7.0,7.0,7.0,7.0,7.0,7.0,7.0,7.0,7.0,7.0,7.0,7.0,7.0,7.0,7.0,7.0,7.0,7.0,7.0,7.0,7.0,7.0,7.0,7.0,7.0,7.0,7.0,7.0,7.0,7.0,7.0,7.0,7.0,7.0,7.0,7.0,7.0,7.0,7.0,7.0,7.0,7.0,7.0,7.0,7.0,7.0,7.0,7.0,7.0,7.0,7.0,7.0,7.0,7.0,7.0,8.0,8.0,8.0,8.0,8.0,8.0,8.0,8.0,8.0,8.0,8.0,8.0,8.0,8.0,8.0,8.0,8.0,8.0,8.0,8.0,8.0,8.0,8.0,8.0,8.0,8.0,8.0,8.0,8.0,8.0,8.0,8.0,8.0,8.0,8.0,8.0,8.0,8.0,8.0,8.0,8.0,8.0,8.0,8.0,8.0,8.0,8.0,8.0,8.0,8.0,8.0,8.0,8.0,8.0,8.0,8.0,8.0,8.0,8.0,8.0,8.0,8.0,8.0,8.0,8.0,8.0,8.0,8.0,8.0,8.0,8.0,8.0,7.0,7.0,7.0,7.0,7.0,7.0,7.0,7.0,7.0,7.0,7.0,7.0,7.0,7.0,7.0,7.0,7.0,7.0,7.0,7.0,7.0,7.0,7.0,7.0,7.0,7.0,7.0,7.0,7.0,7.0,7.0,7.0,7.0,7.0,7.0,7.0,7.0,7.0,7.0,7.0,7.0,7.0,7.0,7.0,7.0,7.0,7.0,7.0,7.0,7.0,7.0,7.0,7.0,7.0,7.0,7.0,7.0,7.0,7.0,7.0,7.0,7.0,4.5,2.0,7.0,7.0,7.0,7.0,7.0,7.0,7.0,7.0,7.0,7.0,7.0,7.0,7.0,7.0,7.0,7.0,7.0,7.0,7.0,7.0,7.0,7.0,7.0,7.0,7.0,7.0,7.0,7.0,7.0,7.0,7.0,7.0,7.0,7.0,7.0,7.0,7.0,7.0,7.0,7.0,7.0,7.0,7.0,7.0,7.0,7.0,7.0,7.0,7.0,7.0,7.0,7.0,7.0,7.0,7.0,7.0,7.0,7.0,7.0,7.0,7.0,7.0,7.0,7.0,7.0,7.0,7.0,7.0,7.0,7.0,7.0,7.0,7.0,7.0,7.0,7.0,7.0,7.0,7.0,7.0,7.0,7.0,7.0,7.0,7.0,7.0,7.0,7.0,7.0,7.0,7.0,7.0,7.0,7.0,7.0,7.0,7.0,7.0,7.0,7.0,7.0,7.0,7.0,7.0,7.0,7.0,7.0,7.0,7.0,7.0,7.0,7.0,7.0,7.0,7.0,7.0,7.0,7.0,7.0,7.0,7.0,7.0,7.0,7.0,7.0,7.0,7.0,7.0,7.0,7.0,7.0,7.0,7.0,7.0,7.0,7.0,7.0,7.0,7.0,7.0,7.0,7.0,7.0,7.0,7.0,7.0,7.0,7.0,7.0,7.0,7.0,7.0,7.0,7.0,7.0,7.0,7.0,7.0,7.0,7.0,7.0,7.0,7.0,7.0,7.0,7.0,7.0,7.0,7.0,7.0,7.0,7.0,7.0,7.0,7.0,7.0,7.0,7.0,7.0,7.0,7.0,7.0,7.0,7.0,7.0,7.0,7.0,7.0,7.0,7.0,7.0,7.0,7.0,7.0,7.0,7.0,7.0,7.0,7.0,7.0,7.0,7.0,7.0,7.0,7.0,7.0,7.0,7.0,7.0,7.0,7.0,7.0,7.0,7.0,7.0,7.0,7.0,7.0,7.0,7.0,7.0,7.0,7.0,7.0,7.0,7.0,7.0,7.0,7.0,7.0,7.0,7.0,7.0,7.0,7.0,7.0,7.0,7.0,7.0,7.0,7.0,7.0,7.0,7.0,7.0,7.0,7.0,7.0,7.0,7.0,7.0,7.0,7.0,7.0,7.0,7.0,7.0,7.0,7.0,7.0,7.0,7.0,7.0,7.0,7.0,7.0,7.0,7.0,7.0,7.0,7.0,7.0,7.0,7.0,7.0,7.0,7.0,7.0,7.0,7.0,7.0,7.0,7.0,7.0,7.0,7.0,7.0,7.0,7.0,7.0,7.0,7.0,7.0,7.0,7.0,7.0,7.0,7.0,7.0,7.0,7.0,7.0,7.0,7.0,7.0,7.0,7.0,7.0,7.0,7.0,7.0,7.0,7.0,7.0,7.0,7.0,7.0,7.0,7.0,7.0,7.0,7.0,7.0,7.0,7.0,7.0,7.0,7.0,7.0,7.0,7.0,7.0,7.0,7.0,7.0,7.0,7.0,7.0,7.0,7.0,7.0,7.0,7.0,7.0,7.0,7.0,7.0,7.0,7.0,7.0,7.0,7.0,7.0,7.0,7.0,7.0,7.0,7.0,7.0,7.0,7.0,7.0,7.0,7.0,7.0,7.0,7.0,7.0,7.0,7.0,7.0,7.0,7.0,7.0,7.0,7.0,7.0,7.0,7.0,7.0,7.0,7.0,7.0,7.0,7.0,7.0,7.0,7.0,7.0,7.0,7.0,7.0,7.0,7.0,7.0,7.0,7.0,7.0,7.0,7.0,7.0,7.0,7.0,7.0,7.0,7.0,7.0,7.0,7.0,7.0,7.0,7.0,7.0,7.0,7.0,7.0,7.0,7.0,7.0,7.0,7.0,7.0,7.0,7.0,7.0,7.0,7.0,7.0,7.0,7.0,7.0,7.0,7.0,7.0,7.0,7.0,7.0,7.0,7.0,7.0,7.0,7.0,7.0,7.0,7.0,7.0,7.0,7.0,7.0,7.0,7.0,7.0,7.0,7.0,7.0,7.0,7.0,7.0,7.0,7.0,7.0,7.0,7.0,7.0,7.0,7.0,7.0,7.0,7.0,7.0,7.0,7.0,7.0,7.0,7.0,7.0,7.0,7.0,7.0,7.0,7.0,7.0,7.0,7.0,7.0,7.0,7.0,7.0,7.0,7.0,7.0,7.0,7.0,7.0,7.0,7.0,7.0,7.0,7.0,7.0,7.0,7.0,7.0,7.0,7.0,7.0,7.0,7.0,7.0,7.0,7.0,7.0,7.0,7.0,7.0,7.0,7.0,7.0,7.0,7.0,7.0,7.0,7.0,7.0,7.0,7.0,7.0,7.0,7.0,7.0,7.0,7.0,7.0,7.0,7.0,7.0,7.0,7.0,7.0,7.0,7.0,7.0,7.0,7.0,7.0,7.0,7.0,7.0,7.0,7.0,7.0,7.0,7.0,7.0,7.0,7.0,7.0,7.0,7.0,7.0,7.0,7.0,7.0,7.0,7.0,7.0,7.0,7.0,7.0,7.0,7.0,7.0,7.0,7.0,7.0,7.0,7.0,7.0,7.0,7.0,7.0,7.0,7.0,7.0,7.0,7.0,7.0,7.0,7.0,7.0,7.0,7.0,7.0,7.0,7.0,7.0,7.0,7.0,7.0,7.0,7.0,7.0,7.0,7.0,7.0,7.0,7.0,7.0,7.0,7.0,7.0,7.0,7.0,7.0,7.0,7.0,7.0,7.0,7.0,7.0,7.0,7.0,7.0,7.0,7.0,7.0,7.0,7.0,7.0,7.0,7.0,7.0,7.0,7.0,7.0,7.0,7.0,7.0,7.0,7.0,7.0,7.0,7.0,7.0,7.0,7.0,7.0,7.0,7.0,7.0,7.0,7.0,7.0,7.0,7.0,7.0,7.0,7.0,7.0,7.0,7.0,7.0,7.0,7.0,7.0,7.0,7.0,7.0,7.0,7.0,7.0,7.0,7.0,7.0,7.0,7.0,7.0,7.0,7.0,7.0,7.0,7.0,7.0,7.0,7.0,7.0,7.0,7.0,7.0,7.0,7.0,7.0,7.0,7.0,7.0,7.0,7.0,7.0,7.0,7.0,7.0,7.0,7.0,7.0,7.0,7.0,7.0,10.0,7.0,10.0,7.0,10.0,10.0,7.0,7.0,7.0,7.0,7.0,7.0,7.0,7.0,7.0,7.0,7.0,7.0,7.0,7.0,7.0,7.0,7.0,7.0,7.0,7.0,7.0,7.0,7.0,7.0,7.0,7.0,7.0,7.0,7.0,7.0,7.0,7.0,7.0,7.0,7.0,7.0,7.0,7.0,7.0,7.0,7.0,7.0,7.0,7.0,7.0,7.0,7.0,7.0,7.0,7.0,7.0,7.0,7.0,7.0,7.0,7.0,7.0,7.0,7.0,7.0,7.0,7.0,7.0,7.0,7.0,7.0,7.0,7.0,7.0,7.0,7.0,7.0,7.0,7.0,7.0,7.0,7.0,7.0,7.0,7.0,7.0,7.0,7.0,7.0,6.0,6.0,6.0,6.0,6.0,6.0,6.0,6.0,6.0,6.0,6.0,6.0,6.0,6.0,6.0,6.0,6.0,6.0,6.0,6.0,6.0,6.0,6.0,6.0,7.0,7.0,7.0,7.0,7.0,7.0,7.0,7.0,7.0,7.0,7.0,7.0,7.0,7.0,7.0,7.0,7.0,7.0,7.0,7.0,7.0,7.0,7.0,7.0,7.0,7.0,7.0,7.0,7.0,7.0,7.0,7.0,7.0,7.0,7.0,7.0,7.0,7.0,7.0,7.0,7.0,7.0,7.0,7.0,7.0,7.0,7.0,7.0,7.0,7.0,7.0,7.0,7.0,7.0,7.0,7.0,7.0,7.0,7.0,7.0,7.0,7.0,7.0,7.0,7.0,7.0,7.0,7.0,7.0,7.0,7.0,7.0,7.0,7.0,7.0,7.0,7.0,7.0,7.0,7.0,7.0,7.0,7.0,7.0,7.0,7.0,7.0,7.0,7.0,7.0,7.0,7.0,7.0,7.0,7.0,7.0,7.0,7.0,7.0,7.0,7.0,7.0,7.0,7.0,7.0,7.0,7.0,7.0,7.0,7.0,7.0,7.0,7.0,7.0,7.0,7.0,7.0,7.0,7.0,7.0,7.0,7.0,7.0,7.0,7.0,7.0,7.0,7.0,7.0,7.0,7.0,7.0,7.0,7.0,7.0,7.0,7.0,7.0,7.0,7.0,7.0,7.0,7.0,7.0,7.0,7.0,7.0,7.0,7.0,7.0,7.0,7.0,7.0,7.0,7.0,7.0,7.0,7.0,7.0,7.0,7.0,7.0,7.0,7.0,7.0,7.0,7.0,7.0,7.0,7.0,7.0,7.0,7.0,7.0,7.0,7.0,7.0,7.0,7.0,7.0,7.0,7.0,7.0,7.0,7.0,7.0,7.0,7.0,7.0,7.0,7.0,7.0,7.0,7.0,7.0,7.0,7.0,7.0,7.0,7.0,7.0,7.0,7.0,7.0,7.0,7.0,7.0,7.0,7.0,7.0,7.0,7.0,7.0,7.0,7.0,7.0,7.0,7.0,7.0,7.0,7.0,7.0,7.0,7.0,7.0,7.0,7.0,7.0,7.0,7.0,7.0,7.0,7.0,7.0,7.0,7.0,7.0,7.0,7.0,7.0,7.0,7.0,7.0,7.0,7.0,7.0,7.0,7.0,7.0,7.0,7.0,7.0,7.0,7.0,7.0,7.0,7.0,7.0,7.0,7.0,7.0,7.0,7.0,7.0,7.0,7.0,7.0,7.0,7.0,7.0,7.0,7.0,7.0,7.0,7.0,7.0,7.0,7.0,7.0,7.0,7.0,4.5,4.5,4.5,4.5,4.5,4.5,4.5,4.5,4.5,7.0,7.0,7.0,7.0,7.0,7.0,7.0,7.0,7.0,7.0,7.0,7.0,7.0,7.0,7.0,7.0,7.0,7.0,7.0,7.0,7.0,7.0,7.0,7.0,7.0,7.0,7.0,7.0,7.0,7.0,7.0,7.0,7.0,7.0,7.0,7.0,7.0,7.0,7.0,7.0,7.0,7.0,7.0,7.0,7.0,7.0,7.0,7.0,7.0,7.0,7.0,7.0,7.0,7.0,7.0,7.0,7.0,7.0,7.0,7.0,7.0,7.0,7.0,7.0,7.0,7.0,7.0,7.0,7.0,7.0,7.0,7.0,7.0,7.0,7.0,7.0,7.0,7.0,7.0,7.0,7.0,7.0,7.0,7.0,7.0,7.0,7.0,7.0,7.0,7.0,7.0,7.0,7.0,7.0,7.0,7.0,7.0,7.0,7.0,7.0,7.0,7.0,7.0,7.0,7.0,7.0,7.0,7.0,7.0,7.0,7.0,7.0,7.0,7.0,7.0,7.0,7.0,7.0,7.0,7.0,7.0,7.0,7.0,7.0,7.0,7.0,7.0,7.0,7.0,7.0,7.0,7.0,7.0,7.0,7.0,7.0,7.0,7.0,7.0,7.0,7.0,7.0,7.0,7.0,7.0,7.0,7.0,7.0,7.0,7.0,7.0,7.0,7.0,7.0,7.0,7.0,7.0,7.0,7.0,7.0,7.0,7.0,7.0,7.0,7.0,7.0,7.0,7.0,7.0,7.0,7.0,7.0,7.0,7.0,7.0,7.0,7.0,7.0,7.0,7.0,7.0,7.0,7.0,7.0,7.0,7.0,7.0,7.0,7.0,7.0,7.0,7.0,7.0,7.0,7.0,7.0,7.0,7.0,7.0,7.0,7.0,7.0,7.0,7.0,7.0,7.0,7.0,7.0,7.0,7.0,7.0,7.0,7.0,7.0,7.0,7.0,7.0,7.0,7.0,7.0,7.0,7.0,7.0,7.0,7.0,7.0,7.0,7.0,7.0,7.0,7.0,7.0,7.0,7.0,7.0,7.0,7.0,7.0,7.0,7.0,7.0,7.0,7.0,7.0,7.0,7.0,7.0,7.0,7.0,7.0,7.0,7.0,7.0,7.0,7.0,7.0,7.0,7.0,7.0,7.0,7.0,7.0,7.0,7.0,7.0,7.0,7.0,7.0,7.0,7.0,7.0,7.0,7.0,7.0,7.0,7.0,7.0,7.0,7.0,7.0,7.0,7.0,7.0,7.0,7.0,7.0,7.0,7.0,7.0,7.0,7.0,7.0,7.0,7.0,7.0,7.0,7.0,7.0,7.0,7.0,7.0,7.0,7.0,7.0,7.0,7.0,7.0,7.0,7.0,7.0,7.0,7.0,7.0,7.0,7.0,7.0,7.0,7.0,7.0,7.0,7.0,7.0,7.0,7.0,7.0,7.0,7.0,7.0,7.0,7.0,7.0,7.0,7.0,7.0,7.0,7.0,7.0,7.0,7.0,7.0,7.0,7.0,7.0,7.0,7.0,7.0,7.0,7.0,7.0,7.0,7.0,7.0,7.0,7.0,7.0,7.0,7.0,7.0,7.0,7.0,7.0,7.0,7.0,7.0,7.0,7.0,7.0,7.0,7.0,7.0,7.0,7.0,7.0,7.0,7.0,7.0,7.0,7.0,7.0,7.0,7.0,7.0,7.0,7.0,7.0,7.0,7.0,7.0,7.0,7.0,7.0,7.0,7.0,7.0,7.0,7.0,7.0,7.0,7.0,7.0,7.0,7.0,7.0,7.0,7.0,7.0,7.0,7.0,7.0,7.0,7.0,7.0,7.0,7.0,7.0,7.0,7.0,7.0,7.0,7.0,7.0,7.0,7.0,7.0,7.0,7.0,7.0,7.0,7.0,7.0,7.0,7.0,7.0,7.0,7.0,7.0,7.0,7.0,7.0,7.0,7.0,7.0,7.0,7.0,7.0,7.0,7.0,7.0,7.0,7.0,7.0,7.0,7.0,7.0,7.0,7.0,7.0,7.0,7.0,7.0,7.0,7.0,7.0,7.0,7.0,7.0,7.0,7.0,7.0,7.0,7.0,7.0,7.0,7.0,7.0,7.0,7.0,7.0,7.0,7.0,7.0,7.0,7.0,7.0,7.0,7.0,7.0,7.0,7.0,7.0,7.0,7.0,7.0,7.0,7.0,7.0,7.0,7.0,7.0,7.0,7.0,7.0,7.0,7.0,7.0,7.0,7.0,6.8729176839902335,6.8729176839902335,6.8729176839902335,7.0,7.0,7.0,7.0,7.0,7.0,7.0,7.0,7.0,7.0,7.0,7.0,7.0,7.0,7.0,7.0,7.0,7.0,7.0,7.0,7.0,7.0,7.0,7.0,7.0,7.0,7.0,7.0,7.0,7.0,7.0,7.0,7.0,7.0,9.0,9.0,8.2,8.2,8.2,8.2,8.2,7.0,7.0,7.0,8.2,8.2,7.0,8.2,8.2,8.2,7.0,7.0,7.0,7.0,7.0,7.0,7.0,8.2,8.2,8.2,8.2,8.2,7.0,7.0,7.0,7.0,7.0,7.0,7.0,7.0,7.0,7.0,7.0,7.0,7.0,7.0,7.0,7.0,7.0,7.0,7.0,7.0,7.0,7.0,7.0,7.0,7.0,7.0,7.0,7.0,7.0,7.0,7.0,7.0,7.0,7.0,7.0,7.0,7.0,7.0,7.0,7.0,7.0,7.0,7.0,7.0,7.0,7.0,7.0,7.0,7.0,7.0,7.0,7.0,7.0,7.0,7.0,7.0,7.0,7.0,7.0,7.0,7.0,7.0,7.0,7.0,7.0,7.0,7.0,7.0,7.0,7.0,7.0,7.0,7.0,7.0,7.0,7.0,7.0,7.0,7.0,7.0,7.0,7.0,7.0,7.0,7.0,7.0,7.0,7.0,7.0,7.0,7.0,7.0,7.0,7.0,7.0,7.0,7.0,7.0,7.0,7.0,7.0,7.0,7.0,7.0,7.0,7.0,7.0,7.0,7.0,7.0,7.0,7.0,7.0,7.0,7.0,7.0,7.0,7.0,7.0,7.0,7.0,7.0,7.0,7.0,7.0,7.0,7.0,7.0,7.0,7.0,7.0,7.0,7.0,7.0,7.0,7.4,7.0,7.0,7.0,7.0,7.0,7.0,7.0,7.0,7.0,7.0,7.0,7.0,7.0,7.0,7.0,7.0,7.0,7.0,7.0,7.0,7.0,7.0,7.0,7.0,7.0,7.0,7.0,7.0,7.0,7.0,7.0,7.0,7.0,7.0,7.0,2.7,2.7,2.7,2.7,2.7,2.7,2.7,2.7,2.7,2.7,2.7,2.7,2.7,2.7,2.7,2.7,2.7,2.7,2.7,2.7,2.7,2.7,2.7,2.7,2.7,2.7,2.7,2.7,2.7,2.7,2.7,2.7,2.7,2.7,2.7,2.7,2.7,2.7,2.7,2.7,2.7,2.7,2.7,2.7,2.7,2.7,2.7,2.7,2.7,2.7,2.7,2.8,2.9,2.7,2.7,2.7,2.7,2.7,2.7,2.7,2.7,2.7,2.7,2.7,2.7,2.7,2.7,2.7,3.1,2.7,2.7,2.7,2.7,2.7,2.7,2.7,2.7,2.7,2.7,2.7,2.7,2.7,2.7,2.7,2.7,2.7,2.8,2.7,2.7,2.7,2.7,2.7,2.7,2.7,2.7,2.7,2.7,2.7,2.7,2.7,2.9,2.8,2.7,2.7,2.7,2.7,2.7,2.7,3.14,2.7,2.7,2.7,2.7,2.53,2.7,2.7,2.7,2.7,2.7,2.7,2.7,4.5,4.0,2.3,2.2,2.7,2.7,2.7,2.7,2.7,4.0,4.5,2.2,2.3,2.7,2.7,2.7,2.9,2.8,2.7,2.7,2.7,2.7,2.2,4.5,2.3,4.0,2.7,2.7,2.7,2.7,2.7,2.7,2.7,2.7,2.81,2.7,2.7,2.7,2.7,3.1,2.7,2.7,2.7,2.7,2.7,4.0,3.2,2.2,3.1,2.9,2.8,2.7,2.7,2.7,2.7,2.7,2.7,2.7,3.1,4.0,2.2,3.1,2.7,2.7,3.2,4.5,2.2,4.0,2.3,2.7,2.7,7.0,7.0,7.0,7.0,7.0,7.0,7.0,7.0,7.0,7.0,7.5,7.0,7.0,7.0,7.0,7.0,7.0,7.0,7.0,7.0,7.0,7.0,7.0,7.0,7.0,7.0,7.0,7.0,7.0,7.0,7.0,7.0,7.0,7.0,7.0,7.0,7.0,7.0,7.0,7.0,7.0,7.0,7.0,7.0,7.0,7.0,7.0,7.0,7.1,7.0,7.0,7.0,7.0,7.0,7.0,7.0,7.0,7.0,7.0,7.0,7.0,7.0,7.0,7.0,7.0,7.0,7.0,7.0,7.0,7.0,7.0,7.0,7.0,7.0,7.0,7.0,7.0,7.0,7.0,7.0,7.0,7.0,7.0,7.0,7.0,7.0,7.0,7.0,7.0,7.0,7.0,7.0,7.0,7.0,7.0,7.0,7.0,7.0,7.0,7.0,7.0,7.0,7.0,7.0,7.0,7.0,7.0,7.0,7.0,7.0,7.0,7.0,7.0,7.0,7.0,7.0,7.0,7.0,7.0,7.0,7.0,7.0,7.0,7.0,7.0,7.0,7.0,7.0,7.0,7.0,7.0,7.0,7.0,7.0,7.0,7.0,7.0,7.0,7.0,7.0,7.0,7.0,7.0,7.0,7.0,7.0,7.0,7.0,7.0,7.0,7.0,7.0,7.0,7.0,7.0,7.0,7.0,7.0,7.0,7.0,7.0,7.0,7.0,7.0,7.0,7.0,7.0,7.0,7.0,7.0,7.0,7.0,7.0,7.0,7.0,7.0,7.5,7.5,7.5,7.5,7.5,7.5,7.5,7.5,7.5,7.5,7.5,7.5,7.5,7.5,7.5,7.5,7.5,7.5,7.5,7.5,7.5,7.5,7.5,7.5,7.5,7.5,7.5,7.5,7.5,7.5,7.5,7.5,7.5,7.5,7.5,7.5,7.5,7.5,7.5,7.5,7.5,7.5,7.5,7.5,7.5,7.5,7.5,7.5,7.5,7.5,7.5,7.5,7.5,7.5,7.5,7.5,7.5,7.5,7.5,7.5,7.5,7.5,7.5,7.5,7.5,7.5,7.5,7.5,7.5,7.5,7.5,7.5,7.5,7.5,7.5,7.5,7.5,7.5,7.5,7.5,7.5,7.5,7.5,7.5,8.0,8.0,8.0,8.0,8.0,8.0,8.0,8.0,8.0,8.0,8.0,8.0,8.0,8.0,8.0,8.0,7.0,7.0,7.0,7.0,7.0,7.0,7.0,7.0,7.0,7.0,7.0,7.0,7.0,7.0,7.0,7.0,7.0,7.0,7.0,7.0,7.0,7.2,7.2,7.2,7.2,7.2,7.2,7.2,7.2,7.2,7.2,7.2,7.2,7.2,7.2,7.2,7.2,7.2,7.2,7.2,7.0,7.0,7.0,7.0,7.0,7.0,7.0,7.0,7.0,7.5,7.0,7.0,7.0,7.0,8.25,8.25,8.25,8.25,8.25,8.25,8.25,8.25,7.0,7.0,7.0,7.0,7.0,7.0,7.0,7.0,7.0,7.0,7.0,7.0,7.0,7.0,7.0,7.0,7.0,7.0,7.5,7.0,7.0,7.5,7.0,7.5,7.5,7.5,7.5,7.5,7.5,7.5,7.5,7.5,7.5,7.5,7.5,7.5,7.5,7.5,7.5,7.5,7.5,7.5,7.5,7.5,7.5,7.5,7.5,7.5,7.5,7.5,7.5,7.5,7.5,7.5,7.5,7.5,7.5,7.5,7.5,7.5,7.5,7.5,7.5,7.5,7.5,7.5,7.5,7.5,7.5,7.0,7.0,7.0,7.0,7.0,7.0,7.0,7.0,7.0,7.0,7.0,7.0,7.0,7.0,7.0,7.0,7.0,7.0,7.0,7.0,7.0,7.0,7.0,7.0,7.0,7.0,7.0,7.0,7.0,7.0,7.0,7.0,7.0,7.0,7.0,7.0,7.0,7.0,7.0,7.0,7.0,7.0,7.0,9.0,7.0,9.0,9.0,9.0,9.0,9.0,9.0,9.0,9.0,9.0,9.0,9.0,9.0,9.0,9.0,9.0,9.0,9.0,9.0,7.0,7.0,7.0,7.0,7.0,7.0,7.0,7.0,7.0,7.0,7.0,7.0,7.0,7.0,7.0,7.0,7.0,7.0,7.0,7.0,7.0,7.0,7.0,7.0,7.0,7.0,7.0,7.0,7.0,7.0,7.0,7.0,7.0,7.0,7.0,7.0,7.0,7.0,7.0,7.0,7.0,7.0,7.0,7.0,7.0,7.0,7.0,7.0,7.0,7.0,7.0,7.0,7.0,7.0,7.0,7.0,7.0,7.0,7.0,7.0,7.4,9.9,6.5,9.5,9.0,7.0,8.5,8.0,6.5,7.4,9.9,8.5,7.2,9.5,7.5,7.5,7.5,9.5,9.9,6.5,8.5,7.4,10.4,7.5,7.5,7.5,7.5,7.5,9.5,10.4,8.5,9.9,6.5,7.4,7.4,9.5,8.5,6.5,7.2,9.9,10.4,7.2,8.0,9.0,8.5,9.9,7.4,7.0,10.4,7.2,9.5,7.0,7.0,7.0,7.0,7.0,7.0,7.0,7.0,7.0,7.0,7.0,7.0,7.0,7.0,7.0,7.0,7.0,7.0,7.0,7.0,7.0,7.0,7.0,7.0,7.0,7.0,7.0,7.0,7.0,7.0,7.0,7.0,7.0,7.0,7.0,7.0,7.0,7.0,7.0,7.0,7.0,7.0,7.0,7.0,7.0,7.0,7.0,7.0,7.0,7.0,7.0,7.0,7.0,7.0,7.0,7.0,7.0,7.0,7.0,7.0,7.0,7.0,7.0,7.0,7.0,7.0,7.0,7.0,7.0,7.0,7.0,7.0,7.0,7.0,7.0,7.0,7.0,7.0,7.0,7.0,7.0,7.0,7.0,7.0,7.0,7.0,7.0,7.0,7.0,7.0,7.0,7.0,7.4,7.0,7.0,7.0,7.0,7.0,7.0,7.0,7.0,7.0,7.0,7.0,7.0,7.0,7.0,7.0,7.0,7.0,7.0,7.0,7.0,7.0,7.0,7.0,7.0,7.0,7.0,7.0,7.0,7.0,7.0,7.0,7.0,7.0,7.0,7.0,7.0,7.0,7.0,7.0,7.0,7.0,7.0,7.0,7.0,7.0,7.0,7.0,7.0,7.0,7.0,7.0,7.0,7.0,7.0,7.0,7.0,7.0,7.0,7.0,7.0,7.0,7.0,7.0,7.0,7.0,7.0,7.0,7.0,7.0,7.0,7.0,7.0,7.0,7.0,7.0,7.0,7.0,7.0,7.0,7.0,7.0,7.0,7.0,7.0,7.0,7.0,7.0,7.0,7.0,7.0,7.0,7.0,7.0,7.0,7.0,7.0,7.0,7.0,7.0,7.0,7.0,7.0,7.0,7.0,7.0,7.0,7.0,7.0,7.0,7.0,7.0,7.0,7.0,7.0,9.08,9.08,7.0,7.0,7.0,7.0,7.0,7.0,7.0,7.0,7.0,7.0,7.0,7.0,7.0,7.0,7.0,7.0,7.0,7.0,7.0,7.0,7.0,7.0,7.0,7.0,7.0,7.0,7.0,7.0,7.0,7.0,7.0,7.0,7.0,7.0,7.0,7.0,7.0,7.0,7.0,7.0,7.0,7.0,7.0,7.0,7.0,7.0,7.0,7.0,7.0,7.0,7.0,7.0,7.0,7.0,7.0,7.0,7.0,7.0,7.0,7.0,7.0,7.0,7.0,7.0,7.0,7.0,7.0,7.0,7.0,7.0,7.0,7.0,7.0,7.0,7.0,7.0,7.0,7.0,7.0,7.0,7.0,7.0,7.0,7.0,7.0,7.0,7.0,7.0,7.0,7.0,7.0,7.0,7.0,7.0,7.0,7.0,7.0,7.0,7.0,7.0,7.0,7.0,7.0,7.0,7.0,7.0,7.0,7.0,7.0,7.0,7.0,7.0,7.0,7.0,7.0,7.0,7.0,7.0,7.0,7.0,7.0,7.0,7.0,7.0,7.0,7.0,6.5,7.0,6.0,7.5,8.0,9.0,5.0,7.0,6.0,9.0,7.0,5.0,7.5,6.0,6.5,8.0,7.0,7.0,7.0,7.0,7.0,7.0,7.0,7.0,7.0,7.0,7.0,7.0,7.0,7.0,7.0,7.0,7.0,7.0,7.0,7.0,7.0,7.0,7.0,7.0,7.0,7.0,7.0,7.0,7.0,7.0,7.0,7.0,7.0,7.0,7.0,7.0,7.0,7.0,7.0,7.0,7.0,3.0,3.0,7.0,7.8,7.0,7.0,3.0,3.0,7.0,3.0,7.0,3.0,7.0,2.0,3.7,2.0,7.0,7.0,7.0,7.0,7.0,7.0,7.0,3.0,7.0,7.0,7.8,3.0,2.0,2.0,3.0,2.0,3.0,7.0,7.0,7.0,2.0,2.0,2.0,2.0,7.0,7.0,7.0,7.0,7.0,7.0,7.0,7.0,7.0,4.6,4.6,7.0,7.0,7.0,7.0,7.0,7.0,7.0,7.0,7.0,7.0,7.0,7.0,7.0,7.0,7.0,7.0,7.0,7.0,7.0,7.0,7.0,7.0,7.0,7.0,7.0,7.0,7.0,7.0,7.0,7.0,7.0,7.0,7.0,7.0,7.0,7.0,7.0,7.0,7.0,7.0,7.0,7.0,7.0,7.0,7.0,7.0,7.0,7.0,7.0,7.0,7.0,7.0,7.0,7.0,7.0,7.0,7.0,7.0,7.0,7.0,7.0,7.0,7.0,7.0,7.0,7.0,7.0,7.0,7.0,7.0,7.0,7.0,7.0,7.0,7.0,7.0,7.0,7.0,7.0,7.0,7.0,7.0,7.0,7.0,7.0,7.0,7.0,7.0,7.0,7.0,7.0,7.0,7.0,7.0,7.0,7.0,7.0,7.0,7.0,7.0,7.0,7.0,7.0,7.0,7.0,7.0,7.0,7.0,7.0,7.0,7.0,7.0,7.0,7.0,7.0,7.0,7.4,7.0,7.4,7.4,7.0,7.0,7.0,5.0,5.0,7.0,4.4,5.0,3.6,4.5,5.0,5.0,5.0,7.0,7.0,7.0,7.0,7.0,7.0,7.0,7.0,7.0,7.0,7.0,7.0,7.0,7.0,7.0,7.0,7.0,7.0,7.0,7.0,7.0,7.0,7.0,7.0,7.0,7.0,7.0,7.0,7.0,7.0,7.0,7.0,7.0,7.0,7.0,7.0,7.0,7.0,7.0,7.0,7.0,7.0,7.0,7.0,7.0,7.0,7.0,7.0,7.0,7.0,7.0,7.0,7.0,7.0,7.0,7.0,7.0,7.0,7.0,7.0,7.0,7.0,7.0,7.0,7.0,7.0,7.0,7.0,7.0,7.0,7.0,7.0,7.0,7.0,7.0,7.0,7.0,7.0,7.0,7.0,7.0,7.0,7.0,7.0,7.0,7.0,7.0,7.0,7.0,7.0,7.0,7.0,7.0,7.0,7.0,7.0,7.0,7.0,7.0,7.0,7.0,7.0,7.0,7.0,7.0,7.0,7.0,7.0,7.0,7.0,7.0,7.0,7.0,7.0,7.0,7.0,7.0,7.0,7.0,7.0,7.0,7.0,7.0,7.0,7.0,7.0,7.0,7.0,7.0,7.0,7.0,7.0,7.0,7.0,7.0,7.0,7.0,7.0,7.0,7.0,7.0,7.0,7.0,7.0,7.0,7.0,7.0,7.0,7.0,7.0,7.0,7.0,7.0,7.0,7.0,7.0,7.0,7.0,7.0,7.0,7.0,7.0,7.0,7.0,7.0,7.0,7.0,7.0,7.0,7.0,7.0,7.0,7.0,7.0,7.0,7.0,7.0,7.0,7.0,7.0,7.0,7.0,7.0,7.0,7.0,7.0,7.0,7.0,7.0,7.0,7.0,7.0,7.0,7.0,7.0,7.0,7.0,7.0,7.0,7.0,7.0,7.0,7.0,7.0,7.0,7.0,7.0,7.0,7.0,7.0,7.0,7.0,7.0,7.0,7.0,7.0,7.0,7.0,7.0,7.0,7.0,7.0,7.0,7.0,7.0,7.0,7.0,7.0,7.0,7.0,7.0,7.0,7.0,7.0,7.0,7.0,7.0,7.0,7.0,7.0,7.0,7.0,7.0,7.0,7.0,7.0,7.0,7.0,7.0,7.0,7.0,7.0,7.0,7.0,7.0,7.0,7.0,7.0,7.0,7.0,7.0,7.0,7.0,7.0,7.0,7.0,7.0,7.0,7.0,7.0,7.0,7.0,7.0,7.0,7.0,7.0,7.0,7.0,7.0,7.0,7.0,7.0,7.0,7.0,7.0,7.0,7.0,7.0,7.0,7.0,7.0,7.0,7.0,7.0,7.0,7.0,7.0,7.0,7.0,7.0,7.0,7.0,7.0,7.0,7.0,7.0,7.0,7.0,7.0,7.0,7.0,7.0,7.0,7.0,7.0,7.0,7.0,7.0,7.0,7.0,7.0,7.0,7.0,7.0,7.0,5.4,5.4,5.4,5.4,5.4,5.4,7.0,7.0,7.0,7.0,7.0,7.0,7.0,7.0,7.0,7.0,7.0,7.0,7.0,7.0,7.0,7.0,7.0,7.0,7.0,7.0,7.0,7.0,7.0,7.0,7.0,7.0,7.0,7.0,7.0,7.0,7.0,7.0,7.0,7.0,7.0,7.0,7.0,7.0,7.0,7.0,7.0,7.0,7.0,7.0,7.0,7.0,7.0,7.0,7.0,7.0,7.0,7.0,7.0,7.0,7.0,7.0,7.0,7.0,7.0,7.0,7.0,7.4,7.4,7.4,7.4,7.4,7.4,7.4,7.4,7.4,7.4,7.4,7.4,7.0,7.0,7.0,7.0,7.0,7.0,7.0,7.0,7.0,7.0,7.0,7.0,7.0,7.0,7.0,7.0,7.0,7.0,7.0,7.0,7.0,7.0,7.0,7.0,7.0,7.0,7.0,7.0,7.0,7.0,7.0,7.0,7.0,7.0,7.0,7.0,7.0,7.0,7.0,7.0,7.0,7.0,7.0,7.0,7.0,7.0,7.0,7.0,7.0,7.0,7.0,7.0,7.0,7.0,7.0,7.0,7.0,7.0,7.0,7.0,7.0,7.0,7.0,7.0,7.0,7.0,7.0,7.0,7.0,7.0,7.0,7.0,7.0,7.0,7.0,7.0,7.0,7.0,7.0,7.0,7.0,7.0,7.0,7.0,7.0,7.0,7.0,7.0,7.0,7.0,7.0,7.0,7.0,7.0,7.0,7.0,7.0,7.0,7.0,7.0,7.0,7.0,7.0,7.0,7.0,7.0,7.0,7.0,7.0,7.0,7.0,7.0,7.0,7.0,7.0,7.0,7.0,7.0,7.0,7.0,7.0,7.0,7.0,7.0,7.0,7.0,7.0,7.0,7.0,7.0,7.0,7.0,7.0,7.0,7.0,7.0,7.0,7.0,7.0,7.0,7.0,7.0,7.0,7.0,7.0,7.0,7.0,7.0,7.0,7.0,7.0,7.0,7.0,7.0,7.0,7.0,7.0,7.0,7.0,7.0,7.0,7.0,7.0,7.0,7.0,7.0,7.0,7.0,7.0,7.0,7.0,7.0,7.0,7.5,7.0,7.0,7.5,7.5,7.0,7.0,7.0,7.0,7.0,7.5,7.0,7.0,7.0,7.5,7.0,7.0,7.5,7.0,7.0,7.0,7.0,7.0,7.0,7.0,7.0,7.5,7.5,7.0,7.0,7.0,7.0,6.8729176839902335,7.5,7.5,7.5,7.0,7.0,7.0,7.0,7.0,7.0,7.0,7.0,7.0,7.0,7.0,7.0,7.0,7.0,7.0,7.0,7.0,7.0,7.0,7.0,7.0,7.0,7.0,7.0,7.0,7.0,7.0,7.0,7.0,7.0,7.0,7.0,7.0,7.0,7.0,7.0,7.0,7.0,7.0,7.0,7.0,7.0,7.0,7.0,7.0,7.0,7.0,7.0,7.0,7.0,7.0,7.0,7.0,7.0,7.0,7.0,7.0,7.0,7.0,7.0,7.0,7.0,7.0,7.0,7.0,7.0,7.0,7.0,7.0,7.0,7.0,7.0,7.0,7.0,7.0,7.0,7.0,7.0,7.0,7.0,7.0,7.0,7.0,7.0,7.0,7.0,7.0,7.0,7.0,7.0,7.0,7.0,7.0,7.0,7.0,7.0,7.0,7.0,7.0,7.0,7.0,7.0,7.0,7.0,7.0,7.0,7.0,7.0,7.0,7.0,7.0,7.0,7.0,7.0,7.0,7.0,7.0,7.0,7.0,7.0,7.0,7.0,7.0,7.0,7.0,7.0,7.0,7.0,7.0,7.0,7.0,7.0,7.0,7.0,7.0,7.0,7.0,7.0,7.0,7.0,7.0,7.0,7.0,7.0,7.0,7.0,7.0,7.0,7.0,7.0,7.0,7.0,7.0,7.0,7.0,7.0,7.0,7.0,7.0,7.0,7.0,7.0,7.0,7.0,7.0,7.0,7.0,7.0,7.0,7.0,7.0,7.0,7.0,7.0,7.0,7.0,7.0,7.0,7.0,7.0,7.0,7.0,7.0,7.0,7.0,7.0,7.0,7.0,7.0,7.0,7.0,7.0,7.0,7.0,7.0,7.0,7.0,7.0,7.0,7.0,7.0,7.0,7.0,7.0,7.0,7.0,7.0,7.0,7.0,7.0,7.0,7.0,7.0,7.0,7.0,7.0,7.0,7.0,7.0,7.0,7.0,7.0,7.0,7.0,7.0,7.0,7.0,7.0,7.0,7.0,7.0,7.0,7.0,7.0,3.0,9.0,5.5,5.8,4.2,5.5,3.0,3.0,5.5,5.5,5.5,4.2,3.0,6.0,3.0,9.0,6.0,3.0,9.0,5.5,7.8,3.0,3.0,5.5,4.2,4.2,3.0,3.0,4.2,3.0,4.2,3.0,9.0,6.0,4.2,3.0,5.5,3.0,5.5,4.2,5.5,3.0,5.5,3.0,3.0,5.5,3.0,5.5,3.0,5.5,7.8,3.0,5.5,3.0,4.2,3.0,5.5,5.5,3.0,4.2,5.5,7.8,3.0,7.8,3.0,3.0,9.0,5.5,5.1,3.0,3.0,7.0,3.0,5.5,4.2,3.0,5.5,4.2,5.5,5.5,3.0,3.0,4.2,5.5,3.0,5.5,4.2,5.5,3.0,4.2,5.5,3.0,5.1,9.0,3.0,5.5,4.2,3.0,3.0,4.2,5.5,3.0,4.2,5.5,4.2,5.5,5.5,3.0,5.5,3.0,5.5,4.2,3.0,3.0,5.5,3.0,5.5,5.5,3.0,5.5,3.0,5.5,5.5,4.2,3.0,6.0,9.0,3.0,9.0,3.0,6.0,3.0,4.2,3.0,4.6,4.2,3.0,5.5,3.0,3.0,5.5,5.5,3.0,5.5,4.2,3.2,3.2,3.2,3.2,3.2,3.2,3.2,3.2,3.2,3.2,3.2,3.2,3.2,3.2,3.2,3.2,3.0,5.5,3.2,9.0,3.0,3.0,4.2,5.5,3.0,9.0,6.0,3.0,9.0,6.0,9.0,3.0,9.0,3.0,6.0,7.0,7.0,7.0,7.0,7.0,7.0,7.0,7.0,7.0,7.0,7.0,8.0,8.0,8.0,8.0,8.0,8.0,7.0,7.0,7.0,7.0,7.0,7.0,7.0,7.0,7.0,7.0,7.0,7.0,7.0,7.0,7.0,7.0,7.0,7.0,7.0,7.0,7.0,7.0,7.0,7.0,7.0,7.0,7.0,7.0,7.0,7.0,7.0,7.0,7.0,7.0,7.0,7.0,7.0,7.0,7.0,7.0,7.0,7.0,7.0,7.0,7.0,7.0,7.0,7.0,7.0,7.0,7.0,7.0,7.0,7.0,7.0,7.0,7.0,7.0,7.0,7.0,7.0,7.0,7.0,7.0,7.0,7.0,7.0,7.0,7.0,7.0,7.0,7.0,7.0,7.0,7.0,7.0,7.0,7.0,7.0,7.0,7.0,7.0,7.0,7.0,7.0,7.0,7.0,7.0,7.0,7.0,7.0,7.0,7.0,7.0,7.0,7.0,7.0,7.0,7.0,7.0,7.0,7.0,7.0,7.0,7.0,7.0,7.0,7.0,7.0,7.0,7.0,7.0,7.0,7.0,7.0,7.0,7.0,7.0,7.0,7.0,7.0,7.0,7.0,7.0,7.0,7.0,7.0,7.0,7.0,7.0,7.0,7.0,7.0,7.0,7.0,7.0,7.0,7.0,7.0,7.0,7.0,7.0,7.0,7.0,7.0,7.0,7.0,7.0,7.0,7.0,7.0,7.0,7.0,7.0,7.0,7.0,7.0,7.0,7.0,7.0,7.0,7.0,7.0,7.0,7.0,7.0,7.0,7.0,7.0,7.0,7.0,7.0,7.0,7.0,7.0,7.0,7.0,7.0,7.0,7.0,7.0,7.0,7.0,7.0,7.0,7.0,7.0,7.0,7.0,7.0,7.0,7.0,7.0,7.0,7.0,7.0,7.0,7.0,7.0,7.0,7.0,7.0,7.0,7.0,7.0,7.0,7.0,7.0,7.0,7.0,7.0,7.0,7.0,7.0,7.0,7.0,7.0,7.0,7.0,7.0,7.0,7.0,7.0,7.0,7.0,7.0,7.0,7.0,7.0,7.0,7.0,7.0,7.0,7.0,7.0,7.0,7.0,7.0,7.0,7.0,7.0,7.0,7.0,7.0,7.0,7.0,7.0,7.0,7.0,7.0,7.0,7.0,7.0,7.0,7.0,7.0,7.0,7.0,7.0,7.0,7.0,7.0,7.0,7.0,7.0,7.0,7.0,7.0,7.0,7.0,7.0,7.0,7.0,7.0,7.0,7.0,7.0,7.0,7.0,7.0,7.0,7.0,7.0,7.0,7.0,7.0,7.0,7.0,7.0,7.0,7.0,7.0,7.0,7.0,7.0,7.0,7.3,7.0,7.0,7.0,7.0,7.0,7.0,7.0,7.0,7.0,7.0,7.0,7.0,7.0,7.0,7.0,7.0,7.0,7.0,7.0,7.0,7.0,7.0,7.0,7.0,7.0,7.0,7.0,7.0,7.0,7.0,7.0,7.0,7.0,7.0,7.0,7.0,7.0,7.0,7.0,7.0,7.0,7.0,7.0,7.0,7.0,7.0,7.0,7.0,7.0,7.0,7.0,7.0,7.0,7.0,7.0,7.0,7.0,7.0,7.0,7.0,7.0,7.0,7.0,7.0,7.0,7.0,7.0,7.0,7.0,7.0,7.0,7.0,7.0,7.0,7.0,7.0,7.0,7.0,7.0,7.0,7.0,7.0,7.0,7.0,7.0,7.0,7.0,7.0,7.0,7.0,7.0,7.0,7.0,7.0,7.0,7.0,7.0,7.0,7.0,7.0,7.0,7.0,7.0,7.0,7.0,7.0,7.0,7.0,7.0,7.0,7.0,7.0,7.0,7.0,7.0,7.0,7.0,7.0,7.0,7.0,7.0,7.0,7.0,7.0,7.0,7.0,7.0,7.0,7.0,7.0,7.0,7.0,7.0,7.0,7.0,7.0,7.0,7.0,7.0,7.0,7.8,7.8,7.8,7.8,7.8,7.8,7.8,7.8,7.8,7.8,7.8,7.8,7.8,7.8,7.8,7.8,7.0,7.0,7.0,7.0,7.0,7.0,7.0,7.0,7.0,7.0,7.0,7.0,7.0,7.0,7.0,7.0,7.0,7.0,7.0,7.0,7.0,7.0,7.0,7.0,7.0,7.0,7.0,7.0,7.0,7.0,7.0,7.0,7.0,7.0,7.0,7.0,7.0,7.0,7.0,7.0,7.0,7.0,7.0,7.0,7.0,7.0,7.0,7.0,7.0,7.0,7.0,7.0,7.0,7.0,7.0,7.0,7.0,7.0,7.0,7.0,7.0,7.0,7.0,7.0,7.0,7.0,7.0,7.0,7.0,7.0,7.0,7.0,7.0,7.0,7.0,7.0,7.0,7.0,7.0,7.0,7.0,7.0,7.0,7.0,7.0,7.0,7.0,7.0,7.0,7.0,7.0,7.0,7.0,7.0,7.0,7.0,7.0,7.0,7.0,7.0,7.0,7.0,7.0,7.0,7.0,7.0,7.0,7.0,7.0,7.0,7.0,7.0,7.0,7.0,7.0,7.0,7.0,7.0,7.0,7.0,7.0,7.0,7.0,7.0,7.0,7.0,7.0,7.0,7.0,7.0,7.0,7.0,7.0,7.0,7.0,7.0,7.0,7.0,7.0,7.0,5.4,7.0,7.0,7.0,7.0,7.0,7.0,7.0,7.0,7.0,7.0,7.0,6.2,6.2,5.35,7.0,7.0,7.0,6.4,5.0,7.0,7.0,7.0,7.0,7.0,7.0,7.0,7.0,7.0,7.0,7.0,7.0,7.0,7.0,7.0,7.0,7.0,7.6,7.6,7.0,7.0,7.0,7.0,7.0,7.0,7.0,7.0,7.0,7.0,7.0,7.0,7.0,7.0,7.0,7.0,7.0,7.0,7.0,7.0,7.0,7.0,7.0,7.0,7.0,7.0,7.0,7.0,7.0,7.0,7.0,7.0,7.0,7.0,7.0,7.0,7.0,7.0,7.0,7.0,7.0,7.0,7.0,7.0,7.0,7.0,7.0,7.0,7.0,7.0,7.0,7.0,7.0,7.0,7.0,7.0,7.0,7.0,7.0,7.0,7.0,7.0,5.0,6.0,7.0,8.0,7.0,6.8,7.0,5.0,7.0,7.0,7.0,7.0,7.0,7.0,7.0,7.0,7.0,7.0,7.0,7.0,7.0,7.0,7.0,7.0,7.0,7.0,7.0,7.0,7.0,7.0,7.0,7.0,7.0,7.0,7.0,7.0,5.38,7.0,7.0,7.0,7.0,7.0,7.0,7.0,7.0,7.0,7.0,7.0,7.0,7.0,7.0,7.0,7.0,7.0,7.0,7.0,7.0,7.0,7.0,7.0,7.0,7.0,7.0,7.0,7.0,7.0,7.0,7.0,7.0,7.0,7.0,7.0,7.0,7.0,7.0,7.0,7.0,7.0,7.0,7.0,7.0,7.0,7.0,7.0,7.0,7.0,7.0,7.0,7.0,7.0,7.0,7.0,7.0,7.0,7.0,7.0,7.0,7.0,7.0,5.2,7.0,7.0,5.0,5.9,7.0,7.0,7.0,7.0,7.0,7.0,7.0,7.0,7.0,7.0,7.0,6.7,7.0,5.0,6.7,5.0,6.8,7.0,7.0,7.0,7.0,7.0,7.0,6.5,7.0,6.5,7.0,5.0,5.28,7.0,7.0,7.0,7.0,7.0,7.0,7.0,7.0,7.0,7.0,7.0,7.0,7.0,7.0,7.0,7.0,7.0,7.0,7.0,7.0,7.0,7.0,5.38,5.4,7.0,7.0,7.0,7.0,7.0,7.0,7.0,7.0,7.0,7.0,5.42,5.4,7.0,7.0,7.0,7.0,7.0,7.0,7.0,7.0,7.0,7.0,7.0,7.0,7.0,7.0,7.0,7.0,7.0,7.0,7.0,7.0,7.0,7.0,7.0,7.0,7.0,7.0,7.0,7.0,7.0,7.0,7.0,7.0,7.0,7.0,7.0,7.0,7.0,7.0,7.0,7.0,7.0,7.0,7.0,7.0,7.0,7.0,7.0,7.0,7.0,7.0,7.0,7.0,7.0,7.0,7.0,7.0,7.0,7.0,7.0,7.0,7.0,7.0,7.0,7.0,7.0,7.0,7.0,7.0,7.0,7.0,7.0,7.0,7.0,7.0,7.0,7.0,7.0,7.0,7.0,7.0,7.0,7.0,7.0,7.0,7.0,7.0,7.0,7.0,7.0,7.0,7.0,7.0,7.0,7.0,7.0,7.0,7.0,7.0,7.0,7.0,7.0,7.0,7.0,7.0,7.0,7.0,7.0,7.0,7.0,7.0,7.0,7.0,7.0,7.0,7.0,7.0,7.0,7.0,7.0,7.0,7.0,7.0,7.0,7.0,7.0,7.0,7.0,7.0,7.0,7.0,7.0,7.0,7.0,7.0,7.0,7.0,7.0,7.0,7.0,7.0,7.0,7.0,7.0,7.0,7.0,7.0,7.0,7.0,7.0,7.0,7.0,7.0,7.0,7.0,7.0,7.0,7.0,7.0,7.0,7.0,4.4,6.3,6.3,6.3,6.3,6.3,4.4,6.3,4.4,6.3,6.3,6.3,4.4,6.3,4.4,6.3,6.3,6.3,6.3,4.4,4.4,6.3,6.3,6.3,6.3,6.3,6.3,6.3,4.4,4.4,6.3,6.1,6.3,4.4,4.4,6.3,6.3,4.4,4.4,6.3,4.4,7.0,7.0,7.0,7.0,7.0,7.0,7.0,7.0,7.0,7.0,7.0,7.0,7.0,7.0,7.0,7.0,7.0,7.0,7.0,7.0,7.0,7.0,7.0,7.0,7.0,7.0,7.0,7.0,7.0,7.0,7.0,7.0,7.0,7.0,7.0,7.0,7.0,7.0,7.0,7.0,7.0,7.0,7.0,7.0,7.0,7.0,7.0,7.0,7.0,7.0,7.0,7.0,7.0,7.0,7.0,7.0,7.0,7.0,7.0,7.0,7.0,7.0,7.0,7.0,7.0,7.0,7.0,7.0,7.0,7.0,7.0,7.0,7.0,7.0,7.0,7.0,7.0,7.0,7.0,7.0,7.0,7.0,7.0,7.0,7.0,7.0,7.0,7.0,7.0,7.0,7.0,7.0,7.0,7.0,7.0,7.0,7.0,7.0,7.0,7.0,7.0,7.0,7.0,7.0,7.0,7.0,7.0,7.0,7.0,7.0,7.0,7.0,7.0,7.5,7.5,7.5,7.5,7.7,7.4,7.4,7.4,7.4,7.4,7.4,7.4,7.4,7.4,7.4,7.4,7.4,7.4,7.4,7.4,7.4,7.4,7.4,7.4,7.4,7.4,7.4,7.4,7.4,7.4,7.4,7.4,7.4,7.4,7.4,7.4,7.4,7.4,7.4,7.4,7.4,7.4,7.4,7.4,7.4,7.4,7.4,7.4,7.4,7.4,7.4,7.4,7.4,7.4,7.4,7.4,7.4,7.4,7.4,7.4,7.4,7.4,7.4,7.4,7.4,7.4,7.4,7.4,7.4,7.4,8.0,8.0,7.4,7.4,7.4,7.7,7.4,7.4,7.4,7.7,7.7,7.7,7.0,7.0,7.0,7.0,7.0,7.0,7.0,7.0,7.0,7.0,7.0,7.0,7.0,7.0,7.0,7.0,7.0,7.0,7.0,7.0,7.0,7.0,7.0,7.0,7.0,7.0,7.0,7.0,7.0,7.0,7.0,7.0,7.0,7.0,7.0,7.0,7.0,7.0,7.0,7.0,7.0,7.0,7.0,7.0,7.0,7.0,7.0,7.0,7.0,6.0,7.0,7.0,9.7,8.6,6.5,6.0,5.0,7.0,6.0,7.0,7.0,7.0,7.0,6.0,7.0,7.0,7.0,7.0,7.0,7.0,7.0,7.0,7.0,7.0,7.0,7.0,7.0,7.0,7.0,7.0,7.0,6.0,7.0,7.0,7.0,7.0,6.0,7.0,7.0,7.0,7.0,7.0,7.0,7.0,6.0,7.0,7.0,7.0,7.0,7.0,7.0,7.0,7.0,7.0,2.0,4.2,2.0,6.5,7.0,7.0,7.0,7.0,7.0,7.0,7.0,7.0,7.0,7.0,7.0,7.0,7.0,7.0,7.0,7.0,7.0,7.0,7.0,7.0,7.0,7.0,7.0,7.0,7.0,7.0,7.0,7.0,7.0,7.0,7.0,7.0,7.0,7.0,7.0,7.0,2.0,6.5,6.5,4.2,7.0,7.0,7.0,7.0,7.0,7.0,7.0,4.2,6.5,2.0,7.0,7.0,7.0,7.0,7.0,7.0,7.0,7.0,7.0,7.0,7.0,7.0,7.0,7.0,7.0,7.0,7.0,7.0,7.0,7.0,7.0,7.0,7.0,7.0,7.0,7.0,7.0,7.0,7.0,7.0,7.0,7.0,7.0,7.0,7.0,7.0,7.0,7.0,2.0,6.5,3.0,2.5,2.0,7.0,7.0,7.0,7.0,7.0,7.0,7.0,7.0,7.0,7.0,7.0,7.0,7.0,7.0,7.0,7.0,7.0,7.0,7.0,7.0,7.0,7.0,7.0,7.0,7.0,7.0,7.0,7.0,7.0,7.0,7.0,7.0,7.0,7.0,7.0,7.0,7.0,7.0,7.0,7.0,7.0,7.0,7.0,7.0,7.0,7.0,7.0,7.0,7.0,7.0,7.0,7.0,7.0,7.0,2.0,6.5,2.5,3.0,2.0,2.0,7.0,7.0,7.0,7.0,7.0,7.0,7.0,7.0,7.0,7.0,7.0,7.0,7.0,7.0,7.0,7.0,7.0,7.0,7.0,7.0,7.0,7.0,7.0,7.0,7.0,7.0,7.0,7.0,7.0,7.0,7.0,7.0,7.0,7.0,7.0,7.0,7.0,2.0,2.0,4.2,6.5,7.0,7.0,7.0,7.0,7.0,7.0,7.0,7.0,7.0,7.0,7.0,7.0,7.0,7.0,7.0,7.0,7.0,7.0,7.0,7.0,7.0,7.0,7.0,7.0,7.0,7.0,7.0,7.0,7.0,7.0,7.0,7.0,7.0,7.0,7.0,7.0,7.0,7.0,7.0,7.0,7.0,7.0,7.0,7.0,7.0,7.0,7.0,7.0,7.0,7.0,7.0,7.0,7.0,7.0,7.0,7.0,7.0,7.0,7.0,7.0,7.0,7.0,7.0,7.0,7.0,7.0,7.0,7.0,7.0,7.0,7.0,7.0,7.0,7.0,7.0,7.0,7.0,7.0,5.4,3.0,6.5,6.0,3.0,5.0,3.0,5.4,5.4,6.8,5.4,6.78,2.8,5.3,4.0,5.4,3.0,5.4,5.31,6.8,5.4,6.78,5.4,3.0,3.0,3.02,3.0,3.0,3.0,5.4,5.4,3.0,5.4,2.0,3.0,5.4,6.9,2.0,5.7,3.0,4.9,6.7,4.3,6.7,6.7,2.0,5.5,5.45,3.0,6.7,5.45,6.78,6.8,5.4,5.45,3.0,6.7,6.7,2.5,3.0,3.01,3.3,3.7,3.8,6.7,3.0,3.0,3.01,3.0,3.01,3.0,3.0,3.01,3.0,3.0,3.01,3.01,3.0,3.0,3.01,3.01,3.0,3.01,3.0,3.0,3.01,3.01,3.0,3.01,3.0,3.01,3.0,3.0,3.01,4.8,6.7,3.0,6.7,5.45,3.01,3.0,4.5,6.7,3.0,4.8,3.5,3.0,4.8,3.0,6.7,3.0,4.5,5.4,2.4,2.0,6.5,3.0,3.0,6.5,4.2,6.5,2.0,2.0,4.2,6.5,6.5,2.0,6.5,6.5,4.2,6.5,2.0,4.2,6.5,6.5,4.2,2.0,6.5,4.2,2.0,6.5,6.5,3.0,5.4,3.0,3.0,2.5,4.2,6.5,6.5,2.0,3.0,3.0,3.0,2.0,6.5,4.8,6.5,2.0,3.0,5.4,2.4,6.78,6.8,5.4,2.0,6.5,6.5,3.0,5.4,2.0,2.0,2.0,6.0,2.0,4.0,6.0,2.0,2.0,2.0,4.5,3.0,5.4,5.35,5.4,3.0,5.5,6.5,6.5,2.0,5.4,3.0,3.0,3.0,2.4,5.2,6.0,3.0,3.0,2.2,2.84,2.34,6.5,3.0,2.4,2.5,2.7,4.2,5.4,3.0,5.7,3.01,3.01,5.4,5.7,3.01,4.2,5.4,5.7,5.7,3.01,5.4,3.0,5.4,5.4,5.4,10.4,5.3,6.2,5.35,4.7,3.01,5.7,5.4,5.0,3.0,5.35,5.42,3.0,5.4,4.0,2.1,5.8,4.0,2.1,5.8,2.1,5.8,5.9,5.0,5.4,5.4,3.0,5.4,5.35,3.0,3.0,6.7,6.7,4.3,2.0,2.0,2.0,6.7,6.7,3.0,5.35,5.4,4.2,3.01,5.7,5.7,4.4,5.7,5.7,3.01,5.4,2.0,3.2,6.5,6.8,5.4,6.78,3.0,3.01,6.5,4.0,5.5,6.5,3.0,2.0,2.0,5.5,3.01,3.0,2.0,4.0,3.0,5.7,5.4,3.0,3.01,5.4,4.6,5.4,3.0,5.4,5.4,3.01,5.4,3.01,5.35,3.01,3.0,2.4,2.8,4.5,5.3,6.8,6.78,5.4,5.7,2.0,3.9,3.01,3.0,3.0,3.0,3.01,5.4,3.01,5.4,4.4,3.0,3.01,3.01,3.0,6.5,5.5,2.0,6.5,2.0,2.02,2.0,2.0,2.02,5.4,3.0,2.83,2.03,3.01,3.01,3.01,3.01,3.01,3.01,3.01,3.01,2.83,3.01,2.03,5.4,5.4,5.4,3.01,3.0,10.4,4.4,6.5,3.0,2.86,5.35,1.99,2.4,5.3,2.8,4.8,4.0,2.4,2.0,5.4,3.0,6.9,2.0,2.0,5.5,6.5,6.5,6.7,6.7,2.0,4.3,4.0,2.8,4.8,5.3,5.4,3.0,5.4,5.1,5.4,4.2,5.4,3.0,5.4,5.4,5.35,5.3,5.4,5.4,5.4,5.4,5.4,4.2,5.4,3.0,6.78,5.4,6.8,5.4,5.4,5.4,5.4,5.4,5.4,5.4,4.2,5.4,5.4,3.0,3.01,5.4,4.3,5.4,3.01,5.7,5.3,2.8,4.0,6.2,2.0,6.5,5.2,3.0,2.0,2.0,4.5,2.0,2.4,2.0,4.5,2.0,2.0,2.0,3.2,2.0,4.0,6.0,3.0,2.4,2.0,2.0,2.0,2.5,2.0,2.4,5.4,6.78,6.5,6.0,2.0,2.4,3.01,4.4,5.7,5.7,5.4,5.7,6.78,5.7,3.01,3.01,5.42,5.7,5.7,5.7,3.01,5.4,5.4,2.4,6.5,3.0,3.0,3.0,5.5,2.0,6.0,2.2,3.0,5.42,3.0,3.0,3.0,5.4,5.4,3.0,5.4,1.99,2.8,3.0,3.0,3.0,5.42,5.35,5.42,5.4,5.4,3.0,3.8,3.02,5.4,3.0,3.0,3.0,3.0,5.4,5.42,5.35,5.7,5.42,4.7,3.01,5.7,5.7,4.4,3.01,3.0,3.0,3.0,3.0,3.0,3.0,3.0,3.0,3.0,3.0,2.0,6.5,3.2,3.0,6.8,5.4,6.78,5.4,4.3,2.0,6.7,6.7,5.42,7.0,2.0,6.0,4.0,2.0,2.0,5.42,2.0,6.5,3.0,2.0,4.0,5.4,2.0,6.5,3.0,5.42,5.35,6.5,3.5,5.5,4.0,4.9,6.5,3.0,6.5,2.0,6.5,5.4,7.0,6.5,6.5,2.0,6.5,6.5,6.5,4.2,2.0,5.4,5.4,6.2,6.2,6.5,6.0,6.5,5.4,3.0,3.01,3.0,3.0,3.01,3.0,3.01,3.01,3.0,3.0,3.0,5.5,3.0,3.3,3.5,5.45,3.7,3.0,3.0,3.0,5.4,6.8,6.78,3.0,2.83,2.03,5.4,3.0,2.0,5.4,5.5,5.4,6.8,5.4,6.78,5.4,5.4,5.4,5.4,5.4,5.4,5.4,5.4,5.4,5.4,7.0,7.0,7.0,7.0,7.0,7.0,7.0,7.0,7.0,7.0,7.0,7.0,7.0,7.0,7.0,7.0,7.0,7.0,7.0,7.0,7.0,7.0,7.0,7.0,7.0,7.0,7.0,7.0,7.0,7.0,7.0,7.0,7.0,7.0,7.0,7.0,7.0,7.0,7.0,7.0,7.0,7.0,7.0,7.0,7.0,7.0,7.0,7.0,7.0,7.0,7.0,7.0,7.0,7.0,7.0,7.0,7.0,7.0,7.0,7.0,7.0,7.0,7.0,7.0,7.0,7.0,7.0,7.0,7.0,7.0,7.0,7.0,7.0,7.0,7.0,7.0,7.0,7.0,7.0,7.0,7.0,7.0,7.0,7.0,7.0,7.0,7.0,7.0,7.0,7.0,7.0,7.0,7.0,7.0,7.0,7.0,7.0,7.0,7.0,7.0,7.0,7.0,7.0,7.0,7.0,7.0,7.0,7.0,7.0,7.0,7.0,7.0,7.0,7.0,7.0,7.0,7.0,7.0,7.0,7.0,7.0,7.0,7.0,7.0,7.0,7.0,7.0,7.0,7.0,7.0,7.0,7.0,7.0,7.0,7.0,7.0,7.0,7.0,7.0,7.0,7.0,7.0,7.0,7.0,7.0,7.0,7.0,7.0,7.0,7.0,7.0,7.0,7.0,7.0,7.0,7.0,7.0,7.0,7.0,7.0,7.0,7.0,7.0,7.0,7.0,7.0,7.0,7.0,7.0,7.0,7.0,3.0,2.0,5.4,2.5,3.0,6.5,2.0,7.0,7.0,7.0,7.0,7.0,7.0,7.0,7.0,7.0,7.0,7.0,7.0,7.0,7.0,7.0,7.0,7.0,7.0,7.0,7.0,7.0,7.0,7.0,7.0,7.0,7.0,7.0,7.0,7.0,7.0,7.0,7.0,7.0,7.0,7.0,7.0,7.0,7.0,7.0,7.0,7.0,7.0,7.0,7.0,7.0,7.0,7.0,7.0,7.0,7.0,7.0,7.0,6.5,2.0,4.2,7.0,7.0,7.0,7.0,7.0,7.0,7.0,7.0,7.0,7.6,7.0,7.0,7.0,7.0,7.0,7.0,7.0,7.0,7.0,7.0,7.0,7.0,7.0,7.0,7.0,7.0,7.0,7.0,7.6,7.0,7.0,7.0,7.0,7.0,7.0,7.0,7.0,7.0,7.0,7.0,7.0,7.0,7.0,7.0,7.0,7.0,7.0,7.0,7.0,7.0,7.0,7.0,7.0,7.0,7.0,7.0,7.0,7.0,7.0,7.0,7.0,7.0,7.0,7.0,7.0,7.0,7.0,7.0,7.0,7.0,7.0,7.0,7.0,7.0,7.0,7.0,7.0,7.0,7.0,7.0,7.0,7.0,7.0,7.0,7.0,7.0,7.0,7.0,7.0,7.0,7.0,7.0,7.0,7.0,7.0,7.0,7.0,7.0,7.0,7.0,7.0,7.0,7.0,3.0,2.0,2.5,2.5,7.0,7.0,7.0,7.0,7.0,7.0,7.0,7.0,7.0,7.0,7.0,7.0,7.0,7.0,7.0,7.0,7.0,7.0,7.0,7.0,7.0,7.0,7.0,7.0,7.0,7.0,7.0,7.0,7.0,7.0,7.0,7.0,7.0,7.0,7.0,7.0,7.0,7.0,7.0,7.0,7.0,7.0,7.0,7.0,7.0,7.0,7.0,7.0,7.0,7.0,7.0,7.0,7.0,7.0,7.0,7.0,7.0,7.0,7.0,7.0,7.0,7.0,7.0,7.0,7.0,7.0,7.0,7.0,8.0,8.0,8.0,8.0,8.0,8.0,8.0,8.0,8.0,8.0,8.0,8.0,8.0,8.0,8.0,8.0,8.0,8.0,8.0,8.0,8.0,8.0,8.0,8.0,8.0,8.0,8.0,8.0,8.0,8.0,8.0,8.0,8.0,8.0,8.0,8.0,8.0,8.0,8.0,8.0,8.0,8.0,8.0,8.0,8.0,8.0,8.0,8.0,8.0,8.0,8.0,8.0,8.0,8.0,8.0,8.0,8.0,8.0,8.0,8.0,8.0,8.0,8.0,8.0,8.0,8.0,8.0,8.0,8.0,8.0,8.0,8.0,8.0,8.0,8.0,8.0,8.0,8.0,8.0,8.0,8.0,8.0,8.0,8.0,8.0,8.0,8.0,8.0,8.0,8.0,8.0,8.0,8.0,8.0,8.0,8.0,8.0,8.0,8.0,8.0,8.0,8.0,8.0,8.0,8.0,8.0,8.0,8.0,8.0,8.0,8.0,8.0,8.0,8.0,8.0,8.0,8.0,8.0,8.0,8.0,8.0,8.0,8.0,8.0,8.0,8.0,8.0,8.0,8.0,8.0,8.0,8.0,8.0,8.0,8.0,8.0,8.0,8.0,8.0,8.0,8.0,8.0,8.0,8.0,8.0,8.0,8.0,8.0,8.0,8.0,8.0,8.0,8.0,8.0,8.0,8.0,8.0,8.0,8.0,8.0,8.0,8.0,8.0,8.0,8.0,8.0,8.0,8.0,8.0,8.0,8.0,8.0,8.0,8.0,8.0,8.0,8.0,8.0,8.0,8.0,8.0,8.0,8.0,8.0,8.0,8.0,8.0,8.0,8.0,8.0,8.0,8.0,8.0,8.0,8.0,8.0,8.0,8.0,8.0,8.0,8.0,8.0,8.0,8.0,8.0,8.0,8.0,8.0,8.0,8.0,8.0,7.0,7.0,7.0,7.0,7.0,7.0,7.0,7.0,7.0,7.0,7.0,7.0,7.0,7.0,7.0,7.0,7.0,7.0,7.0,7.0,7.0,7.0,7.0,7.0,7.0,7.0,7.0,7.0,7.0,7.0,7.0,7.0,7.0,7.0,7.0,7.0,7.0,7.0,7.0,7.0,7.0,7.0,7.0,7.0,7.0,7.0,7.0,7.0,7.0,7.0,7.0,7.0,7.0,7.0,7.0,7.0,7.0,7.0,7.0,7.0,7.0,7.0,7.0,7.0,7.0,7.0,7.0,7.0,7.0,7.0,7.0,7.0,7.0,7.0,7.0,7.0,7.0,7.0,7.0,7.0,2.0,4.2,6.5,7.0,7.0,7.0,7.0,7.0,7.0,7.0,7.0,7.0,7.0,7.0,7.0,7.0,7.0,7.0,7.0,7.0,7.0,7.0,7.0,7.0,7.0,7.0,7.0,7.0,7.0,7.0,7.0,7.0,7.0,7.0,7.0,7.0,7.0,7.0,7.0,7.0,7.0,7.0,7.0,7.0,7.0,7.0,7.0,7.0,7.0,7.0,7.0,7.0,7.0,7.0,7.0,7.0,7.0,7.0,7.0,7.0,7.0,7.0,7.0,7.0,7.0,7.0,7.0,7.0,7.0,7.0,7.0,7.0,7.0,7.0,7.0,7.0,3.0,2.0,3.2,2.0,2.5,6.5,7.0,7.0,7.0,7.0,7.0,7.0,7.0,7.0,7.4,7.4,7.4,7.4,7.0,7.0,7.0,7.0,7.0,7.0,7.0,7.0,7.0,7.0,7.0,7.0,7.0,7.0,7.0,7.0,7.0,7.0,7.0,7.0,7.0,7.0,7.0,7.0,7.0,7.0,7.0,7.0,7.0,7.0,2.0,6.5,2.0,4.2,7.0,7.0,7.0,7.0,7.0,7.0,7.0,7.0,7.0,7.0,7.0,7.0,7.0,7.0,7.0,7.0,7.0,7.0,7.0,7.0,7.0,7.0,7.0,7.0,7.0,7.0,7.0,7.0,7.0,7.0,7.0,7.0,7.0,7.0,7.0,7.0,7.0,7.0,7.0,7.0,7.0,7.0,7.0,7.0,6.5,2.0,7.0,7.0,7.0,7.0,7.0,7.0,7.0,7.0,7.0,7.0,7.0,7.0,2.0,6.5,4.2,7.0,7.0,7.0,7.0,7.0,7.0,7.0,7.0,7.0,7.0,7.0,7.0,7.0,7.0,7.0,7.0,7.0,7.0,7.0,7.0,7.0,7.0,7.0,7.0,7.0,7.0,7.0,7.0,7.0,7.0,7.0,7.0,7.0,7.0,7.0,7.0,7.0,7.0,7.0,7.0,7.0,7.0,7.0,7.0,7.0,7.0,7.0,7.0,7.0,7.0,7.0,7.0,7.0,7.0,7.0,7.0,7.0,7.0,7.0,7.0,7.0,7.0,7.0,7.0,7.0,7.0,7.0,7.0,7.0,7.0,7.0,7.0,7.0,7.0,7.0,7.0,7.0,7.0,7.0,7.0,7.0,7.0,7.0,7.0,7.0,7.0,7.0,7.0,7.0,7.0,7.0,7.0,7.0,7.0,7.0,7.0,7.0,7.0,7.0,7.0,7.0,7.0,7.0,7.0,7.0,7.0,7.0,7.0,7.0,7.0,7.0,7.0,7.0,7.0,7.0,7.0,7.0,7.0,7.0,7.0,7.0,7.0,7.0,7.0,7.0,7.0,7.0,7.0,7.0,7.0,7.0,7.0,7.0,7.0,7.0,7.0,7.0,7.0,7.0,7.0,7.0,7.0,7.0,7.0,7.0,7.0,7.0,7.0,7.0,7.0,7.0,7.0,7.0,7.0,7.0,7.0,7.0,7.0,7.0,7.0,7.0,7.0,7.0,7.0,7.0,7.0,7.0,7.0,7.0,7.0,7.0,7.0,7.0,7.0,7.0,7.0,7.0,7.0,7.0,7.0,7.0,7.0,7.0,7.0,7.0,7.0,7.0,7.0,7.0,7.0,7.0,7.0,7.0,7.0,7.0,7.0,8.0,7.0,7.0,7.0,7.0,7.0,7.0,7.0,7.0,7.0,7.0,7.0,7.0,7.0,7.0,7.0,7.0,7.0,7.0,7.0,7.0,7.0,7.0,7.0,7.0,7.0,7.0,7.0,7.0,7.0,7.0,7.0,7.0,7.0,7.0,7.0,7.0,7.0,7.0,7.0,7.0,7.0,7.0,7.0,7.0,7.0,7.0,7.0,7.0,7.0,7.0,7.0,7.0,7.0,7.0,7.0,7.0,7.0,7.0,7.0,7.0,7.0,7.0,7.0,7.0,7.0,7.0,7.0,7.0,7.0,7.0,7.0,7.0,7.0,7.0,7.0,7.0,7.0,7.0,7.0,7.0,7.0,7.0,7.0,7.0,7.0,7.0,7.0,7.0,7.0,7.0,7.0,7.4,7.4,7.4,7.4,7.4,7.4,7.4,7.4,7.4,7.4,7.0,7.0,7.0,7.0,7.0,7.0,7.0,7.0,7.6,7.6,7.6,7.6,7.6,7.6,7.6,7.6,7.6,7.6,7.6,7.6,7.6,7.6,7.6,7.6,7.6,7.6,7.6,7.0,7.0,7.0,7.0,7.0,7.0,7.0,7.0,7.0,7.0,7.0,7.0,7.0,7.0,7.0,7.0,7.0,7.0,7.0,7.0,7.0,7.0,7.0,7.0,7.0,7.0,7.0,7.0,7.0,7.0,7.0,7.0,7.0,7.0,7.0,7.0,7.0,7.0,7.0,7.0,7.0,7.0,7.0,7.0,7.0,7.0,7.0,7.0,7.0,7.0,7.0,7.0,7.0,7.0,7.0,7.0,7.0,7.0,7.0,7.0,7.0,7.0,7.0,7.0,7.0,7.0,7.0,7.0,7.0,7.0,7.0,7.0,7.0,7.0,7.0,7.0,7.0,7.0,7.0,7.0,7.0,7.0,7.0,7.0,7.0,7.0,7.0,7.0,7.0,7.0,7.0,7.0,7.0,7.0,7.0,7.0,7.0,7.0,7.0,7.0,7.0,7.0,7.0,7.0,7.0,7.0,7.0,7.0,7.0,7.0,7.0,7.0,7.0,7.0,7.0,7.0,7.0,7.0,7.0,7.0,7.0,7.0,7.0,7.0,7.0,7.0,7.0,7.5,7.0,7.0,7.0,7.0,7.0,7.0,7.0,7.0,7.0,7.0,7.0,7.0,7.0,7.0,7.0,7.0,7.0,7.0,7.0,7.0,7.0,7.0,7.0,7.0,7.0,7.0,7.0,7.0,7.0,7.0,7.0,7.0,7.0,7.0,7.0,7.0,7.0,7.0,7.0,7.0,7.0,7.0,7.0,7.0,7.0,7.0,7.0,7.0,7.0,7.0,7.0,7.0,7.0,7.0,7.0,7.0,7.0,7.0,7.0,7.0,7.0,7.0,7.0,7.0,7.0,7.0,7.0,7.0,7.0,7.0,7.0,7.0,7.0,7.0,7.0,7.0,7.0,7.0,7.0,7.0,7.0,7.0,7.0,7.0,7.0,7.0,7.0,7.0,7.0,7.0,7.0,7.0,7.0,7.0,7.0,7.0,7.0,7.0,7.0,7.0,7.0,7.0,7.0,7.0,7.0,7.0,7.0,7.0,7.0,7.0,7.0,7.0,7.0,7.0,7.0,7.0,7.0,7.0,7.0,7.0,7.0,7.0,7.0,7.0,7.0,7.0,7.0,7.0,7.0,7.0,7.0,7.0,7.0,7.0,7.0,7.0,7.0,7.0,7.0,7.0,7.0,7.0,7.0,7.0,7.0,7.0,7.0,7.0,7.0,7.0,7.0,7.0,7.0,7.0,7.0,7.0,7.0,7.0,7.0,7.0,7.0,7.0,7.0,7.0,7.0,7.0,7.0,7.0,7.0,7.0,7.0,7.0,7.0,7.0,7.0,7.0,7.0,7.0,7.0,7.0,7.0,7.0,7.0,7.0,7.0,7.0,7.0,7.0,7.0,7.0,7.0,7.0,7.0,7.0,7.0,7.0,7.0,7.0,7.0,7.0,7.0,7.0,7.0,7.0,7.0,7.0,7.0,7.0,7.0,7.0,7.0,7.0,7.0,7.0,7.0,7.0,7.0,7.0,7.0,7.0,7.0,7.0,7.0,7.0,7.0,7.0,7.0,7.0,7.0,7.0,7.0,7.0,7.0,7.0,7.0,7.0,7.0,7.0,7.0,7.0,7.0,7.0,7.0,7.0,7.0,7.0,7.0,7.0,7.0,7.0,7.0,7.0,7.0,7.0,7.0,7.0,7.0,7.0,7.0,7.0,7.0,7.0,7.0,7.0,7.0,7.0,7.0,7.0,7.0,7.0,7.0,7.0,7.0,7.0,7.0,7.0,7.0,7.0,7.0,7.0,7.0,7.0,7.0,7.0,7.0,7.0,7.0,7.0,7.0,7.0,7.0,7.0,7.0,7.0,7.0,7.0,7.0,7.0,7.0,7.0,7.0,7.0,7.0,7.0,7.0,7.0,7.0,7.0,7.0,7.0,7.0,7.0,7.0,7.0,7.0,7.0,7.0,7.0,7.0,7.0,7.0,7.0,7.0,7.0,7.0,7.0,7.0,7.0,7.0,7.0,7.0,7.0,7.0,7.0,7.0,7.0,7.0,7.0,7.0,7.0,7.0,7.0,7.0,7.0,7.0,7.0,7.0,7.0,7.0,7.0,7.0,7.0,7.0,7.0,7.0,7.0,7.0,7.0,7.0,7.0,7.0,7.0,7.8,7.8,7.8,7.8,7.8,7.8,7.8,7.0,7.0,7.0,7.0,7.0,7.0,7.0,7.0,7.0,7.0,7.0,7.0,7.0,7.0,7.0,7.0,7.0,7.0,7.0,7.0,7.0,7.0,7.0,7.0,7.0,7.0,7.0,7.0,7.0,7.0,7.0,7.0,7.0,7.0,7.0,7.0,7.0,7.0,7.0,7.0,7.0,7.0,7.0,7.0,7.0,7.0,7.0,7.0,7.0,7.0,7.0,7.0,7.0,7.0,7.0,7.0,7.0,7.0,7.0,7.0,7.0,7.0,7.0,7.0,7.0,7.0,7.0,7.0,7.0,7.0,7.0,7.0,7.0,7.0,7.0,7.0,7.0,7.0,7.0,7.0,7.0,7.0,7.0,7.0,7.0,7.0,7.0,7.0,7.0,7.0,7.0,7.0,7.0,7.0,7.0,7.0,7.0,7.0,7.0,7.0,7.0,7.0,7.0,7.0,7.0,7.0,7.0,7.0,7.0,7.0,7.0,7.0,7.0,7.0,7.0,7.0,7.0,7.0,7.0,7.0,7.0,7.0,7.0,8.0,8.0,8.0,8.0,8.0,8.0,8.0,8.0,8.0,8.0,7.0,7.0,7.0,7.0,7.0,7.0,7.0,7.0,7.0,7.0,7.0,7.0,7.0,7.0,7.0,7.0,7.0,7.0,7.0,7.0,7.0,7.0,7.0,7.0,7.0,7.0,7.0,7.0,7.0,7.0,7.0,7.0,7.0,7.0,7.0,7.0,7.0,7.0,7.0,7.0,7.0,7.0,7.0,7.0,7.0,7.0,7.0,7.0,7.0,7.0,7.0,7.0,7.0,7.0,7.0,7.0,7.0,7.0,7.0,7.0,7.0,7.0,7.0,7.0,7.0,7.0,7.0,7.0,7.0,7.0,7.0,7.0,7.0,7.0,7.0,7.0,7.0,7.0,7.0,7.0,7.0,7.0,7.0,7.0,7.0,7.0,7.0,7.0,7.0,7.0,7.0,7.0,7.0,7.0,7.0,7.0,7.0,7.0,7.0,7.0,7.0,7.0,7.0,7.0,7.0,7.0,7.0,7.0,7.0,7.0,7.0,7.0,7.0,7.0,7.0,7.0,7.0,7.0,7.0,7.0,7.0,7.0,7.0,7.0,7.0,7.0,7.0,7.0,7.0,7.0,7.0,7.0,7.0,7.0,7.0,7.0,7.5,7.5,7.5,7.5,7.5,7.5,7.5,7.5,7.5,7.5,7.5,7.5,7.5,7.5,7.5,7.5,7.5,7.5,7.5,7.5,7.5,7.5,7.5,7.5,7.5,7.5,7.5,7.5,7.5,7.5,7.5,7.5,7.5,7.5,7.5,7.5,7.5,7.5,7.5,7.5,7.5,7.5,7.5,7.5,7.5,7.5,7.5,7.5,7.5,7.5,7.5,7.5,7.5,7.5,7.5,7.5,7.5,7.5,7.5,7.5,7.5,7.5,7.5,7.5,7.5,7.5,7.5,7.5,7.5,7.5,7.5,7.5,7.5,7.5,7.5,7.5,7.5,7.5,7.0,7.0,7.0,7.0,7.0,7.0,7.0,7.0,7.0,7.0,7.0,7.0,7.0,7.0,7.0,7.0,7.0,7.0,7.0,7.0,7.0,7.0,7.0,7.0,7.0,7.0,7.0,7.0,7.0,7.0,7.0,7.0,7.0,3.8,3.8,3.8,7.4,3.8,3.8,3.8,7.4,7.0,7.0,3.0,3.2,3.2,3.2,3.2,3.2,3.0,3.0,4.0,3.0,3.0,3.8,3.8,3.8,7.0,3.8,3.8,3.8,3.8,3.8,3.8,3.0,3.0,3.0,3.0,3.0,3.0,3.0,4.0,3.0,3.0,3.0,3.0,3.0,3.0,4.0,3.0,3.0,3.0,3.0,3.2,3.2,3.2,3.2,3.2,3.2,3.2,3.0,3.0,7.0,7.0,7.0,7.0,7.0,7.0,7.0,7.0,7.0,7.0,7.0,7.0,7.0,7.0,7.0,7.0,7.0,7.0,7.0,7.0,7.0,7.0,7.0,7.0,7.0,7.0,7.0,7.0,7.0,7.0,7.0,7.0,7.0,7.0,7.0,7.0,7.0,7.0,7.0,7.0,7.0,7.0,7.0,7.0,7.0,7.0,7.0,7.0,7.0,7.0,7.0,7.0,7.0,7.0,7.0,7.0,7.0,7.0,7.0,7.0,7.0,7.0,7.0,7.0,7.0,7.0,7.0,7.0,7.0,7.0,7.0,7.0,7.0,7.0,7.0,6.6,6.6,6.6,7.0,7.0,7.0,7.0,7.0,7.0,7.0,7.0,7.0,7.0,7.0,7.0,7.0,7.0,7.0,7.0,7.0,7.0,7.0,7.0,7.0,7.0,7.0,7.0,7.0,7.0,7.0,7.0,7.0,7.0,7.0,7.0,7.0,7.0,7.0,7.0,7.0,7.0,7.0,7.0,7.0,7.0,7.0,7.0,7.0,7.0,7.0,7.0,7.0,7.0,7.0,7.0,7.0,7.0,7.0,7.0,7.0,7.0,7.0,7.0,7.0,7.0,7.0,7.0,7.0,7.0,7.0,7.0,7.0,7.0,7.0,7.0,7.0,7.0,7.0,7.0,7.0,7.0,7.0,7.0,7.0,7.0,7.0,7.0,7.0,7.0,7.0,7.0,7.0,7.0,7.0,7.0,7.0,7.0,7.0,7.0,7.0,7.0,7.0,7.0,7.0,7.0,7.0,7.0,7.0,7.0,7.0,7.0,7.0,7.0,7.0,7.0,7.0,7.0,7.0,7.0,7.0,7.0,7.0,7.0,7.0,7.0,7.0,7.0,7.0,7.0,7.0,7.0,7.0,7.0,7.0,7.0,7.0,7.0,7.0,7.0,7.0,7.0,7.0,7.0,7.0,7.0,7.0,7.0,7.0,7.0,7.0,7.0,7.0,7.0,7.0,7.0,7.0,7.0,7.0,7.0,7.0,7.0,7.0,7.0,7.0,7.0,7.0,7.0,7.0,7.0,7.0,7.0,7.0,7.0,7.0,7.0,7.0,7.0,7.0,7.0,7.0,7.0,7.0,7.0,7.0,7.0,7.0,7.0,7.0,7.0,7.0,7.0,7.0,7.0,7.0,7.0,7.0,7.0,7.0,7.0,7.0,7.0,7.0,7.0,7.0,7.0,7.0,7.0,7.0,7.0,7.0,7.0,7.0,7.0,7.0,7.0,7.0,7.0,7.0,7.0,7.0,7.0,7.0,7.0,7.0,7.0,7.0,7.0,7.0,7.0,7.0,7.0,7.0,7.0,7.0,7.0,7.0,7.0,7.0,7.0,7.0,7.0,7.0,7.0,7.0,7.0,7.0,7.0,7.0,7.0,7.0,7.0,7.0,7.0,7.0,7.0,7.0,7.0,7.0,7.0,7.0,7.0,7.0,7.0,7.0,7.0,7.0,7.0,7.0,7.0,7.0,7.0,7.0,7.0,7.0,7.0,7.0,7.0,7.0,7.0,8.0,8.0,7.0,7.0,7.0,7.0,7.0,7.0,7.0,7.0,7.0,7.0,7.0,7.0,7.0,7.0,7.0,7.0,7.0,7.0,7.0,7.0,7.0,7.0,7.0,7.0,7.0,7.0,7.0,7.0,7.0,7.0,7.0,7.0,7.0,7.0,7.0,7.0,7.0,7.0,7.0,7.0,7.0,7.0,7.0,7.0,7.0,7.0,7.0,7.0,7.0,7.0,7.0,7.0,7.0,7.0,7.0,7.0,7.0,7.0,7.0,7.0,7.0,7.0,7.0,7.0,7.0,7.0,7.0,7.0,7.0,7.0,7.0,7.0,7.0,7.0,7.0,7.0,7.0,7.0,7.0,7.0,7.0,7.0,7.0,7.0,7.0,7.0,7.0,7.0,7.0,7.0,7.0,7.0,7.0,7.0,7.0,7.0,7.0,7.0,7.0,7.0,7.0,7.0,7.0,7.0,7.0,7.0,7.0,7.0,7.0,7.0,7.0,7.0,7.0,7.0,7.0,7.0,7.0,7.0,7.0,7.0,7.0,7.0,7.0,7.0,7.0,7.0,7.0,7.0,7.0,7.0,7.0,7.0,8.0,8.0,8.0,8.0,8.0,8.0,8.0,8.0,8.0,8.0,7.0,7.0,7.0,7.0,7.0,7.0,7.0,7.0,7.0,7.0,7.0,7.0,7.0,7.0,7.0,7.0,7.0,7.0,7.5,7.5,7.5,7.5,7.5,7.5,7.5,7.5,7.5,7.5,7.5,7.5,7.0,7.0,7.0,7.0,7.0,7.0,7.0,7.0,7.0,7.5,7.5,7.5,7.5,7.5,7.5,7.5,7.5,7.5,7.5,7.0,7.0,7.0,7.0,7.0,7.0,7.0,7.0,7.0,7.0,7.0,7.0,7.0,7.0,7.0,7.0,7.0,7.0,7.0,7.0,7.0,7.0,7.0,7.0,7.0,7.0,7.0,7.0,7.0,7.0,7.0,7.0,7.0,7.0,7.0,7.4,7.4,7.0,7.2,7.2,7.2,7.0,7.0,7.0,7.0,7.0,7.0,7.0,7.0,7.0,7.0,7.0,7.0,7.0,7.0,7.0,7.0,7.0,7.0,7.0,7.0,7.0,7.0,7.0,7.0,7.0,7.0,7.0,7.0,7.0,7.0,7.0,7.0,7.0,7.0,7.0,7.0,7.0,7.0,7.0,7.0,7.0,7.0,7.0,7.0,7.0,7.0,7.0,7.0,7.0,7.0,7.0,7.0,7.0,7.0,7.0,7.0,7.5,4.4,7.5,6.0,7.5,4.4,6.0,7.0,7.0,7.0,7.0,7.0,7.0,7.0,7.0,7.0,7.0,7.0,7.0,7.0,7.0,7.6,7.6,7.0,7.0,7.0,7.0,7.0,7.0,7.0,7.0,7.0,7.0,7.0,7.0,7.0,7.0,7.0,7.0,7.0,7.0,7.0,7.0,7.0,7.0,7.0,7.0,7.0,7.0,7.0,7.0,7.0,7.0,7.0,7.0,7.0,7.0,7.0,7.0,7.0,7.0,7.0,7.0,7.0,7.0,7.0,7.0,7.0,7.0,7.0,7.0,7.0,7.0,7.0,7.0,7.0,7.0,7.0,7.0,7.0,7.0,7.0,7.0,7.0,7.0,7.0,7.0,7.0,7.0,7.0,7.0,7.0,7.0,7.0,7.0,7.0,7.0,7.0,7.0,7.0,7.0,7.0,8.0,8.0,8.0,8.0,8.0,8.0,8.0,8.0,7.0,7.0,7.0,7.0,7.0,7.0,7.0,7.0,7.0,7.0,7.0,7.0,7.0,7.0,7.0,7.0,7.0,7.0,7.0,7.0,7.0,7.0,7.0,7.0,7.0,7.0,7.0,7.0,7.0,7.0,7.0,7.0,7.0,7.0,7.0,7.0,7.0,7.0,7.0,7.0,7.0,7.0,7.0,7.0,7.0,7.0,7.0,7.0,7.0,7.0,7.0,7.0,7.0,7.0,7.0,7.0,7.0,7.0,7.0,7.0,8.0,7.0,9.5,9.5,8.0,8.2,7.0,8.2,8.0,9.5,7.0,9.5,8.0,7.0,8.2,7.0,9.5,8.0,9.5,7.0,8.0,8.2,7.0,3.16,2.94,9.75,3.15,3.07,3.04,3.25,9.5,6.9,9.5,7.0,3.2,8.2,8.0,9.5,7.0,7.0,3.2,9.5,6.9,7.0,9.5,3.2,6.6,7.0,3.2,9.5,6.9,7.0,3.2,3.21,3.15,3.16,9.5,3.07,9.75,2.9,3.04,2.98,2.94,3.19,7.0,9.5,3.2,6.9,7.0,7.0,7.0,7.0,7.0,7.0,7.0,7.0,7.0,7.0,7.0,7.0,7.0,7.0,7.0,7.0,7.0,7.0,7.0,7.0,7.0,7.0,7.0,7.0,7.0,7.0,7.0,7.0,7.0,7.0,7.0,7.0,7.0,7.0,7.0,7.5,7.5,7.5,7.5,7.5,7.5,7.5,7.5,7.5,7.5,7.5,7.5,7.0,7.0,7.0,7.0,7.0,7.0,7.0,7.0,7.0,7.0,7.0,7.0,7.0,7.0,7.0,7.0,7.0,7.0,7.0,7.0,7.0,7.0,7.0,7.0,7.0,7.0,7.0,7.0,7.0,7.0,7.0,7.0,7.0,7.0,7.0,7.0,7.0,7.0,7.0,7.0,7.0,7.0,7.0,7.0,7.0,7.0,7.0,7.0,7.0,7.0,7.0,7.0,7.0,7.0,7.0,7.0,7.0,7.0,7.0,7.0,7.5,7.5,7.0,7.0,7.0,7.0,7.0,7.0,7.0,7.0,7.0,7.0,7.0,7.0,7.0,7.0,7.0,7.0,7.0,7.0,7.0,7.0,7.0,7.0,7.0,7.0,7.0,7.0,7.0,7.0,7.0,7.0,7.0,7.0,7.0,7.0,7.0,7.0,7.0,7.0,7.0,7.0,2.7,2.7,2.7,6.4,6.4,4.5,6.4,6.4,4.5,4.1,2.7,4.2,6.4,6.4,2.7,6.4,2.7,6.4,6.4,6.4,6.4,6.4,6.4,2.7,6.4,4.6,6.4,6.4,6.4,6.4,6.4,6.4,6.4,6.4,6.4,6.4,6.4,6.4,6.4,6.4,6.4,6.4,5.7,5.8,6.4,4.5,4.6,4.6,6.4,6.4,6.4,6.4,6.4,6.4,7.0,7.0,7.0,7.0,7.0,7.0,7.0,7.0,7.0,7.0,7.0,7.0,7.0,7.0,7.0,7.0,7.0,7.0,7.0,7.0,7.0,7.0,7.0,7.0,7.0,7.0,7.0,7.0,7.0,7.0,7.0,7.0,7.0,7.0,7.0,7.0,7.0,7.0,7.0,7.0,7.0,7.0,7.0,7.0,7.0,7.0,7.0,7.0,7.0,7.0,7.0,7.0,7.0,7.0,7.0,7.0,7.0,7.0,7.0,7.0,7.0,7.0,7.0,7.0,7.0,7.0,7.0,7.0,7.0,7.0,7.0,7.0,7.0,7.0,7.0,7.0,7.0,7.0,7.0,7.0,7.0,7.0,7.0,7.0,7.0,7.0,7.0,7.0,7.0,7.0,7.0,7.0,7.0,7.0,7.0,7.0,7.0,7.0,7.0,7.0,7.0,7.0,7.0,7.0,7.0,7.0,7.0,7.0,7.0,7.0,7.0,7.0,7.0,7.0,7.0,7.0,7.0,7.0,7.0,7.0,7.0,7.0,7.0,7.0,7.0,7.0,7.0,7.0,7.0,7.0,7.0,7.0,7.0,7.0,7.0,7.0,7.0,7.0,7.0,7.0,7.0,7.0,7.0,7.0,7.0,7.0,7.0,7.0,7.0,7.0,7.0,7.0,7.0,7.0,7.0,7.0,7.0,7.0,7.0,7.0,7.0,7.0,7.0,7.0,7.0,7.0,7.0,7.0,7.0,7.0,7.0,7.0,7.0,7.0,7.0,7.0,7.0,7.0,7.0,7.0,7.0,7.0,7.0,7.0,7.0,7.0,7.0,7.0,7.0,7.0,7.0,7.0,7.0,7.0,7.0,7.0,7.0,7.0,7.0,7.0,7.0,7.0,7.0,7.0,7.0,7.0,7.0,7.0,7.0,7.0,7.0,7.0,7.0,7.0,7.0,7.0,7.0,7.0,7.0,7.0,7.0,7.0,7.0,7.0,7.0,7.0,7.0,7.0,7.0,7.0,7.0,7.0,7.0,7.0,7.0,7.0,7.0,7.0,7.0,7.0,7.0,7.0,7.0,7.0,7.0,7.0,7.0,7.0,7.0,7.0,7.0,7.0,7.0,7.0,7.0,7.0,7.0,7.0,7.0,7.0,7.0,7.0,7.0,7.0,7.0,7.0,7.0,7.0,7.0,7.0,7.0,7.0,7.0,7.0,7.0,7.0,7.0,7.0,7.0,7.0,7.0,7.0,7.0,7.0,7.0,7.0,7.0,7.0,7.0,7.0,7.0,7.0,7.0,7.0,7.0,7.0,7.0,7.0,7.0,7.0,7.0,7.0,7.0,7.0,7.0,7.0,7.0,7.0,7.0,7.0,7.0,7.0,7.0,7.0,7.0,7.0,7.0,7.0,7.0,7.0,7.0,7.0,7.0,7.0,7.0,7.0,7.0,7.0,7.0,7.0,7.0,7.0,7.0,7.0,7.0,7.0,7.0,7.0,7.0,7.0,7.0,7.0,7.0,7.0,7.0,7.0,7.0,7.0,7.0,7.0,7.0,7.0,7.0,7.0,7.0,7.0,7.0,7.0,7.0,7.0,7.0,7.0,7.0,7.0,7.0,7.0,7.0,7.0,7.0,7.0,7.0,7.0,7.0,7.0,7.0,7.0,7.0,7.0,7.0,7.0,7.0,7.0,7.0,7.0,7.0,7.0,7.0,7.0,7.0,7.0,7.0,7.0,7.0,7.0,7.0,7.0,7.0,7.0,7.0,7.0,7.0,7.0,7.0,7.0,7.0,7.0,7.0,7.0,7.0,7.0,7.0,7.0,7.0,7.0,7.0,7.0,7.0,7.0,7.0,7.0,7.0,7.0,7.0,7.0,7.0,7.0,7.0,7.0,7.0,7.0,7.0,7.0,7.0,7.0,7.0,7.0,7.0,7.0,7.0,7.0,7.0,7.0,7.0,7.0,7.0,7.0,7.0,7.0,7.0,7.0,7.0,7.0,7.0,7.0,7.0,7.0,7.0,7.0,7.0,7.0,7.0,7.0,7.0,7.0,7.0,7.0,7.0,7.0,7.0,7.0,7.0,7.0,7.0,7.0,7.0,7.0,7.0,7.0,7.0,7.0,7.0,7.0,7.0,7.0,7.0,7.0,7.0,7.0,7.0,7.0,7.0,7.0,7.0,7.0,7.0,7.0,7.0,7.0,7.0,7.0,7.0,7.0,7.0,7.0,7.0,7.0,7.0,7.0,7.0,7.0,7.0,7.0,7.0,7.0,7.0,7.0,7.0,7.0,7.0,7.0,7.0,7.0,7.0,7.0,7.0,7.0,7.0,7.0,7.0,7.0,7.0,7.0,7.0,7.0,7.0,7.0,7.0,7.0,7.0,7.0,7.0,7.0,7.0,7.0,7.0,7.0,7.0,7.0,7.0,7.0,7.0,7.0,7.0,7.0,7.0,7.0,7.0,7.0,7.0,7.0,7.0,7.0,7.0,7.0,7.0,7.0,7.0,7.0,7.0,7.0,7.0,7.0,7.0,7.0,7.0,7.0,7.0,7.0,7.0,7.0,7.0,7.0,7.0,7.0,7.0,7.0,7.0,7.0,7.0,7.0,7.0,7.0,7.0,7.0,7.0,7.0,7.0,7.0,7.0,7.0,7.0,7.0,7.0,7.0,7.0,7.0,7.0,7.0,7.0,7.0,7.0,7.0,7.0,7.0,7.0,7.0,7.0,7.0,7.0,7.0,7.0,7.0,7.0,7.0,7.0,7.0,7.0,7.0,7.0,7.0,7.0,7.0,7.0,7.0,7.0,7.0,7.0,7.0,7.0,7.0,7.0,7.0,7.0,7.0,7.0,7.0,7.0,7.0,7.0,7.0,7.0,7.0,7.0,7.0,7.0,7.0,7.0,7.0,7.0,7.0,7.0,7.0,7.0,7.0,7.0,7.0,7.0,7.0,7.0,7.0,7.0,7.0,7.0,7.0,7.0,7.0,7.0,7.0,7.0,7.0,7.0,7.0,7.0,7.0,7.0,7.0,7.0,7.0,7.0,7.0,7.0,7.0,7.0,7.0,7.0,7.0,7.0,7.0,7.0,7.0,7.0,7.0,7.0,7.0,7.0,7.0,7.0,7.0,7.0,7.0,7.0,7.0,7.0,7.0,7.0,7.0,7.0,7.0,7.0,7.0,7.0,7.0,7.0,7.0,7.0,7.0,7.0,7.0,7.0,7.0,7.0,7.0,7.0,7.0,7.0,7.0,7.0,7.0,7.0,7.0,7.0,7.0,7.0,7.0,7.0,7.0,7.0,7.0,7.0,7.0,7.0,7.0,7.0,7.0,7.0,7.0,7.0,7.0,7.0,7.0,7.0,7.0,7.0,7.0,7.0,7.0,7.0,7.0,7.0,7.0,7.0,7.0,7.0,7.0,7.0,7.0,7.0,7.0,7.0,7.0,7.0,7.0,7.0,7.0,7.0,7.0,7.0,7.0,7.0,7.0,7.0,7.0,7.0,7.0,7.0,7.0,7.0,7.0,7.0,7.0,7.0,7.0,7.0,7.0,7.0,7.0,7.0,7.0,7.0,7.0,7.0,7.0,7.0,7.0,7.0,7.0,7.0,7.0,7.0,7.0,7.0,7.0,7.0,7.0,7.0,7.0,7.0,7.0,7.0,7.0,7.0,7.0,7.0,7.0,7.0,7.0,7.0,7.0,7.0,6.8729176839902335,6.8729176839902335,6.8729176839902335,6.8729176839902335,6.8729176839902335,6.8729176839902335,6.8729176839902335,6.8729176839902335,6.8729176839902335,6.8729176839902335,6.8729176839902335,6.8729176839902335,7.0,7.0,7.0,7.0,7.0,7.0,7.0,7.0,7.0,7.0,7.0,7.0,7.0,7.0,7.0,7.5,7.5,7.5,7.0,7.0,7.0,7.0,7.0,7.0,7.0,7.0,7.0,7.0,7.0,7.0,7.0,7.0,7.0,7.0,7.0,7.0,7.0,7.0,7.0,7.0,7.0,7.0,7.0,7.0,7.0,7.0,7.0,7.0,7.0,7.0,7.0,7.0,7.0,7.0,7.0,7.0,7.0,7.0,7.0,7.0,7.0,7.0,7.0,7.0,7.0,7.0,7.0,7.0,7.0,7.0,7.0,7.0,7.0,7.0,7.0,7.0,7.0,7.0,7.0,7.0,7.0,7.0,7.0,7.0,7.0,7.0,7.0,7.0,7.0,7.0,7.0,7.5,7.5,6.8729176839902335,7.5,7.5,6.8729176839902335,6.8729176839902335,7.5,6.8729176839902335,7.5,7.5,7.5,7.5,7.5,6.8729176839902335,7.5,7.5,6.8729176839902335,7.5,6.8729176839902335,7.5,7.5,7.5,6.8729176839902335,6.8729176839902335,7.5,6.8729176839902335,6.8729176839902335,7.5,7.5,6.8729176839902335,7.5,7.5,7.5,6.8729176839902335,7.5,7.5,6.8729176839902335,6.8729176839902335,7.5,7.5,6.8729176839902335,7.5,6.8729176839902335,7.5,6.8729176839902335,6.8729176839902335,7.5,6.8729176839902335,7.5,7.5,6.8729176839902335,6.8729176839902335,7.5,6.8729176839902335,7.5,6.8729176839902335,7.5,7.5,6.8729176839902335,6.8729176839902335,7.5,7.5,6.8729176839902335,7.5,7.5,6.8729176839902335,7.5,6.8729176839902335,7.5,6.8729176839902335,7.5,6.8729176839902335,7.5,6.8729176839902335,7.5,7.5,7.5,6.8729176839902335,6.8729176839902335,7.5,7.5,6.8729176839902335,7.5,6.8729176839902335,6.8729176839902335,7.5,7.5,6.8729176839902335,6.8729176839902335,7.5,7.5,6.8729176839902335,7.5,6.8729176839902335,6.8729176839902335,7.5,7.5,6.8729176839902335,7.5,6.8729176839902335,6.8729176839902335,7.5,7.5,7.5,7.5,7.5,6.8729176839902335,6.8729176839902335,7.5,7.5,7.5,7.5,7.5,6.8729176839902335,7.5,6.8729176839902335,7.5,7.5,7.5,7.5,6.8729176839902335,7.5,7.5,6.8729176839902335,7.5,6.8729176839902335,7.5,7.5,6.8729176839902335,7.0,7.0,7.0,7.0,7.0,7.0,7.0,7.0,7.0,7.0,7.0,7.0,7.0,7.0,7.0,7.0,7.0,7.0,7.0,7.0,7.0,7.0,7.0,7.0,7.0,7.0,7.0,7.0,7.0,7.0,7.0,7.0,7.0,7.0,7.0,7.0,7.0,7.0,7.0,7.0,7.0,7.0,7.0,7.0,7.0,7.0,7.0,7.0,7.0,7.0,7.0,7.0,7.0,7.0,7.0,7.0,7.0,7.0,7.0,7.0,7.0,7.0,7.0,7.0,7.0,7.0,7.0,7.0,7.0,7.0,7.0,7.0,7.0,7.0,7.0,7.0,7.0,7.0,7.0,7.0,7.0,7.0,7.0,7.0,7.0,7.0,7.0,7.0,7.0,7.0,7.0,7.0,7.0,7.0,7.0,7.0,7.0,7.0,7.0,7.0,7.0,7.0,7.0,7.0,7.0,7.0,7.0,7.0,7.0,7.0,7.0,7.0,7.0,7.0,7.0,7.0,7.0,7.0,7.0,7.0,7.0,7.0,7.0,7.0,7.0,7.0,7.0,7.0,7.0,7.0,7.0,7.0,7.0,7.0,7.0,7.0,7.0,7.0,7.0,7.0,7.0,7.0,7.0,7.0,7.0,7.0,7.0,7.0,7.0,7.0,7.0,7.0,7.0,7.0,7.0,7.0,7.0,7.0,7.0,7.0,7.0,7.0,7.0,7.0,7.0,7.0,7.0,7.0,7.0,7.0,7.0,7.0,7.0,7.0,7.0,7.0,7.0,7.0,7.0,7.0,7.0,7.0,7.0,7.0,7.0,7.0,7.0,7.0,7.0,7.0,7.0,7.0,7.0,7.0,7.0,7.0,7.0,7.0,7.0,7.0,7.0,7.0,7.0,7.0,7.0,7.0,7.0,7.0,7.0,7.0,7.0,7.0,7.0,7.0,7.0,7.0,7.0,7.0,7.0,7.0,7.0,7.0,7.0,7.0,7.0,7.0,7.0,7.0,7.0,7.0,7.0,7.0,7.0,7.0,7.0,7.0,7.0,7.0,7.0,7.0,7.0,7.0,7.0,7.0,7.0,7.0,7.0,7.0,7.0,7.0,7.0,7.0,7.0,7.0,7.0,7.0,7.0,7.0,7.0,7.0,7.0,7.0,7.0,7.0,7.0,7.0,7.0,7.0,7.0,7.0,7.0,7.0,7.0,7.0,7.0,7.0,7.0,7.0,7.0,7.0,7.0,7.0,7.0,7.0,7.0,7.0,7.0,7.0,7.0,7.0,7.0,7.0,7.0,7.0,7.0,7.0,7.0,7.0,7.0,7.0,7.0,7.0,7.0,7.0,7.0,7.0,7.0,7.0,7.0,7.0,7.0,7.0,7.0,7.0,7.0,7.0,7.0,7.0,7.0,7.0,7.0,7.0,7.0,7.0,7.0,7.0,7.0,7.0,7.0,7.0,7.0,7.0,7.0,7.0,7.0,7.0,7.0,7.0,7.0,7.0,7.0,7.0,7.0,7.0,7.0,7.0,7.0,7.0,7.0,7.0,7.0,7.0,7.0,7.0,7.0,7.0,7.0,7.0,7.0,7.0,7.0,7.0,7.0,7.0,7.0,7.0,7.0,7.0,7.0,7.0,7.0,7.0,7.0,7.0,7.0,7.0,7.0,7.0,7.0,7.0,7.0,7.0,7.0,7.0,7.0,7.0,7.0,7.0,7.0,7.0,7.0,7.0,7.0,7.0,7.0,7.0,7.0,7.0,7.0,7.0,7.0,7.0,7.0,7.0,7.0,7.0,7.0,7.0,7.0,7.0,7.0,7.0,7.0,7.0,7.0,7.0,7.0,7.0,7.0,7.0,7.0,7.0,7.0,7.0,7.0,7.0,7.0,7.0,7.0,7.0,7.0,7.0,7.0,7.0,7.0,7.0,7.0,7.0,7.0,7.0,7.0,7.0,7.0,7.0,7.0,7.0,7.0,7.0,7.0,7.0,7.0,7.0,7.0,7.0,7.0,7.0,7.0,7.0,7.0,7.0,7.0,7.0,7.0,7.0,7.0,7.0,7.0,7.0,7.0,7.0,7.0,7.0,7.0,7.0,7.0,7.0,7.0,7.0,7.0,7.0,7.0,7.0,7.0,7.0,7.0,7.0,7.0,7.0,7.0,7.0,7.0,7.0,7.0,7.0,7.0,7.0,7.0,7.0,7.0,7.0,7.0,7.0,7.0,7.0,7.0,7.0,7.0,7.0,7.0,7.0,7.0,7.0,7.0,7.0,7.0,7.0,7.0,7.0,7.0,7.0,7.0,7.0,7.0,7.0,7.0,7.0,7.0,7.0,7.0,7.0,7.0,7.0,7.0,7.0,7.0,7.0,7.0,7.0,7.0,7.0,7.0,7.0,7.0,7.0,7.0,7.0,7.0,7.0,7.0,7.0,7.0,7.0,7.0,7.0,7.0,7.0,7.0,7.0,7.0,7.0,7.0,7.0,7.0,7.0,7.0,7.0,7.0,7.0,7.0,7.0,7.0,7.0,7.0,7.0,7.0,7.0,7.0,7.0,7.0,7.0,7.0,7.0,7.0,7.0,7.0,7.0,7.0,7.0,6.8729176839902335,6.8729176839902335,6.8729176839902335,6.8729176839902335,7.0,7.0,6.8729176839902335,7.0,6.8729176839902335,7.0,7.0,6.8729176839902335,6.8729176839902335,7.0,7.0,7.0,7.0,7.0,7.0,7.0,7.0,7.0,7.0,7.0,7.0,7.0,7.0,7.0,7.0,7.0,7.0,7.0,7.0,7.0,7.0,7.0,7.0,7.4,7.4,7.0,7.0,7.0,7.0,7.0,7.0,7.0,7.0,7.0,7.0,7.0,7.0,7.0,7.0,7.0,7.0,7.0,7.0,7.0,7.0,7.0,7.0,7.0,7.0,7.0,7.0,7.0,7.0,7.0,7.0,7.0,7.0,7.0,7.0,7.0,7.0,7.0,7.0,7.0,7.0,7.0,7.0,7.0,7.0,7.0,7.0,7.0,7.0,7.0,7.0,7.0,7.0,7.0,7.0,7.0,7.0,7.0,7.0,7.0,7.0,7.0,7.0,7.0,7.0,7.0,7.0,7.0,7.0,7.0,7.0,7.0,7.0,7.0,7.0,7.0,7.0,7.0,7.0,7.0,7.0,7.0,7.0,7.0,7.0,7.0,7.0,7.0,7.0,7.0,7.0,7.0,7.0,7.0,7.0,7.0,7.0,7.0,7.0,7.0,7.0,7.0,7.0,7.0,7.0,7.0,7.0,7.0,7.0,7.0,7.0,7.0,7.0,7.0,7.0,7.0,7.0,7.0,7.0,7.0,7.0,7.0,7.0,7.0,7.0,7.0,7.0,7.0,7.0,7.0,7.0,7.0,7.0,7.0,7.0,7.0,7.0,7.0,7.0,7.0,7.0,7.0,7.0,7.0,7.0,7.0,7.0,7.0,7.0,7.0,7.0,7.0,7.0,7.0,7.0,7.0,7.0,7.0,7.0,7.0,7.0,7.0,7.0,7.0,7.0,7.0,7.0,7.0,7.0,7.0,7.0,7.0,7.0,7.0,7.0,7.0,7.0,7.0,7.0,7.0,7.0,7.0,7.0,7.0,7.0,7.0,7.0,7.0,7.0,7.0,7.0,7.0,7.0,7.0,7.0,7.0,7.0,7.0,7.0,7.0,7.0,7.0,7.0,7.0,7.0,7.0,7.0,7.0,7.0,7.0,7.0,7.0,7.0,7.0,7.0,7.0,7.0,7.0,7.0,7.0,7.0,7.0,7.0,7.0,7.0,7.0,7.0,7.0,7.0,7.0,7.0,7.0,7.0,7.0,7.0,7.0,7.0,7.0,7.0,7.0,7.0,7.0,7.0,7.0,7.0,7.0,7.0,7.0,7.0,7.0,7.0,7.0,7.0,7.0,7.0,7.0,7.0,7.0,7.0,7.0,7.0,7.0,7.0,7.0,7.0,7.0,7.0,7.0,7.0,7.0,7.0,7.0,7.0,7.0,7.0,7.0,7.0,7.0,7.0,7.0,7.0,7.0,7.0,7.0,7.0,7.0,7.0,7.0,7.0,7.0,7.0,7.0,7.0,7.0,7.0,7.0,7.0,7.0,7.0,7.0,7.0,7.0,7.0,7.4,7.0,7.0,7.0,7.0,7.0,7.0,7.0,7.0,7.0,7.0,7.0,7.0,7.0,7.0,7.0,7.0,7.0,7.0,7.0,7.0,7.0,7.0,7.0,7.0,7.0,7.0,7.0,7.0,7.0,7.0,7.0,7.0,7.0,7.0,7.0,7.0,7.0,7.0,7.0,7.0,7.0,7.0,7.0,7.0,7.0,7.0,7.0,7.0,7.0,7.0,7.0,7.0,7.0,7.0,7.0,7.0,7.0,7.0,7.0,7.0,7.0,7.0,7.0,7.0,7.0,7.0,7.0,7.0,7.0,7.0,7.0,7.0,7.0,7.0,7.0,7.0,7.0,7.0,7.0,7.0,7.0,7.0,7.0,7.0,7.0,7.0,7.0,7.0,7.0,7.0,7.0,7.0,7.0,7.0,7.0,7.0,7.0,7.0,7.0,7.0,7.0,7.0,7.0,7.0,7.0,7.0,7.0,7.0,7.0,7.0,7.0,7.0,7.0,7.0,7.0,7.0,7.0,7.0,7.0,7.0,7.0,7.0,7.0,7.0,7.0,7.0,7.0,7.0,7.0,7.0,7.0,7.0,7.0,7.0,7.0,7.0,7.0,7.0,7.0,7.0,7.0,7.0,6.8729176839902335,7.0,7.0,7.0,7.0,7.0,7.0,7.0,7.0,7.0,7.0,7.0,7.0,7.0,7.0,7.0,7.0,7.0,7.0,7.0,7.0,7.0,7.0,7.0,7.0,7.0,7.0,7.0,7.0,7.0,7.0,7.0,7.0,7.0,7.0,7.0,7.0,7.0,7.0,7.0,7.0,7.0,7.0,7.0,7.0,7.0,7.0,7.0,7.0,7.0,7.0,7.0,7.0,7.0,7.0,7.0,7.0,7.0,7.0,7.0,7.0,7.0,7.0,7.0,7.0,7.0,7.0,7.0,7.0,7.0,7.0,7.0,7.0,7.0,7.0,7.0,7.0,7.0,7.0,7.0,7.0,7.0,7.0,7.0,7.0,7.0,7.0,7.0,7.0,7.0,7.0,7.0,7.0,7.0,7.0,7.0,7.0,7.0,7.0,7.0,7.0,7.0,7.0,7.0,7.0,7.0,7.0,7.0,7.0,7.0,7.0,7.0,7.0,7.0,7.0,7.0,7.0,7.0,7.0,7.0,7.0,7.0,7.0,7.0,7.0,7.0,7.0,7.0,7.0,7.0,7.0,7.0,7.0,7.0,7.0,7.0,7.0,7.0,7.0,7.0,7.0,7.0,7.0,7.0,7.0,7.0,7.0,7.0,7.0,7.0,7.0,7.0,7.0,7.0,7.0,7.0,7.0,7.0,7.0,7.0,7.0,7.0,7.0,7.0,7.0,7.0,7.0,7.0,7.0,7.0,7.0,7.0,7.0,7.0,7.0,7.0,7.0,7.0,7.0,7.0,7.0,7.0,7.0,7.0,7.0,7.0,7.0,7.0,7.0,7.0,7.0,7.0,7.0,7.0,7.0,7.0,7.0,7.0,7.0,7.0,7.0,7.0,7.0,7.0,7.0,7.0,7.0,7.0,7.0,7.0,7.0,7.0,7.0,7.0,7.0,7.0,7.0,7.0,7.0,7.0,7.0,7.0,7.0,7.0,7.0,7.0,7.4,7.4,7.4,7.4,7.4,7.0,7.0,7.0,7.0,7.0,7.0,7.0,7.0,7.0,7.0,7.0,7.0,7.0,7.0,7.0,7.0,7.0,7.0,7.0,7.0,7.0,7.0,7.0,7.0,7.0,7.0,7.0,7.0,7.0,7.0,7.0,7.0,7.0,7.0,7.0,7.0,7.0,7.0,7.0,7.0,7.0,7.0,7.0,7.0,7.0,7.0,7.0,7.0,7.0,7.0,7.0,7.0,7.0,7.0,7.0,7.0,7.0,7.0,7.0,7.0,7.0,7.0,7.0,7.0,7.0,7.0,7.0,7.0,7.0,7.0,7.0,7.0,7.0,7.0,7.0,7.0,7.0,7.0,7.0,7.0,7.0,7.0,7.0,7.0,7.0,7.0,7.0,7.0,7.0,7.0,7.0,7.0,7.0,7.0,7.0,7.0,7.0,7.0,7.0,7.0,7.0,7.0,7.0,7.0,7.0,7.0,7.0,7.0,7.0,7.0,7.0,7.0,7.0,7.0,7.0,7.0,7.0,7.0,7.0,7.0,7.0,7.0,7.0,7.0,7.0,7.0,7.0,7.0,7.0,7.0,7.0,7.0,7.0,7.0,7.0,7.0,7.0,7.0,7.0,7.0,7.0,7.0,7.0,7.0,7.0,7.0,7.0,7.0,7.0,7.0,7.0,7.0,7.0,7.0,7.0,7.0,7.0,7.0,7.0,7.0,7.0,7.0,7.0,7.0,7.0,7.0,7.0,7.0,7.0,7.0,7.0,7.0,7.0,7.0,7.0,7.0,7.0,7.0,7.0,7.0,7.0,7.0,7.0,7.0,7.0,7.0,7.0,7.0,7.0,7.0,7.0,7.0,7.0,7.0,7.0,7.0,7.0,7.0,7.0,7.0,7.0,7.0,7.0,7.0,7.0,7.0,7.0,7.0,7.0,7.0,7.0,7.0,7.0,7.0,7.0,7.0,7.0,7.0,7.0,7.0,7.0,7.0,7.0,7.0,7.0,7.0,7.0,7.0,7.0,7.0,7.0,7.0,7.0,7.0,7.0,7.0,7.0,7.0,7.0,7.0,7.0,7.0,7.0,7.0,7.0,7.0,7.0,7.0,7.0,7.0,7.0,7.0,7.0,7.0,7.0,7.0,7.0,7.0,7.0,7.0,7.0,7.0,7.0,7.0,7.0,7.0,7.0,7.0,7.0,7.0,7.0,7.0,7.0,7.0,7.0,7.0,7.0,7.0,7.0,7.0,7.0,7.0,7.0,7.0,7.0,7.0,7.0,7.0,7.0,7.0,7.0,7.0,7.0,7.0,7.0,7.0,7.0,7.0,7.0,7.0,7.0,7.0,7.0,7.0,7.0,7.0,7.0,7.0,7.0,7.0,7.0,7.0,7.0,7.0,7.0,7.0,7.0,7.0,7.0,7.0,7.0,7.0,7.0,7.0,7.0,7.0,7.0,7.0,7.0,7.0,7.0,7.0,7.0,7.0,7.0,7.0,7.0,7.0,7.0,7.0,7.0,7.0,7.0,7.0,7.0,7.0,7.0,7.0,7.0,7.0,7.0,7.0,7.0,7.0,7.0,7.0,7.0,7.0,7.0,7.0,7.0,7.0,7.0,7.0,7.0,7.0,7.0,7.0,7.0,7.0,7.0,7.0,7.0,7.0,7.0,7.0,7.0,7.0,7.0,7.0,7.0,7.0,7.0,7.0,7.0,7.0,7.0,7.0,7.0,7.0,7.0,7.0,7.0,7.0,7.0,7.0,7.0,7.0,7.0,7.0,7.0,7.0,7.0,7.0,7.0,7.0,7.0,7.0,7.0,7.0,7.0,7.0,7.0,7.0,7.0,7.0,7.0,7.0,7.0,7.0,7.0,7.0,7.0,7.0,7.0,7.0,7.0,7.0,7.0,7.0,7.0,7.0,7.0,7.0,7.0,7.0,7.0,7.0,7.0,7.0,7.0,7.0,7.0,7.0,7.0,7.0,7.0,7.0,7.0,7.0,7.0,7.0,7.0,7.0,7.0,7.0,7.0,7.0,7.0,7.0,7.0,7.0,7.0,7.0,7.0,7.0,7.0,7.0,7.0,7.0,7.0,7.0,7.0,7.0,7.0,7.0,7.0,7.0,7.0,7.0,7.0,7.0,7.0,7.0,7.0,7.0,7.0,7.0,7.0,7.0,7.0,7.0,7.0,7.0,7.0,7.0,7.0,7.0,7.0,7.0,7.0,7.0,7.0,7.0,7.0,7.0,7.0,7.0,7.0,7.0,7.0,7.0,7.0,7.0,7.0,7.0,7.0,7.0,7.0,7.0,7.0,7.0,7.0,7.0,7.0,7.0,7.0,7.0,7.0,7.0,7.0,7.0,7.0,7.0,7.0,7.0,7.0,7.0,7.0,7.0,7.0,7.0,7.0,7.0,7.0,7.0,7.0,7.0,7.0,7.0,7.0,7.0,7.0,7.0,7.0,7.0,7.0,7.0,7.0,7.0,7.0,7.0,7.0,7.0,7.0,7.0,7.0,7.0,7.0,7.0,7.0,7.0,7.0,7.0,7.0,7.0,7.0,7.0,7.0,7.0,7.0,7.0,7.0,7.0,7.0,7.0,7.0,7.0,7.0,7.0,7.0,7.0,7.0,7.0,7.0,7.0,7.0,7.0,7.0,7.0,7.0,7.0,7.0,7.0,7.0,7.0,7.0,7.0,7.0,7.0,7.0,7.0,7.0,7.0,7.0,7.0,7.0,7.0,7.0,7.0,7.0,7.0,7.0,7.0,7.0,7.0,7.0,7.0,7.0,7.0,7.0,7.0,7.0,7.0,7.0,7.0,7.0,7.0,7.0,7.0,7.0,7.0,7.0,7.0,7.0,7.0,7.0,7.0,7.0,7.0,7.0,7.0,7.0,7.0,7.0,7.0,7.0,7.0,7.0,7.0,7.0,7.0,7.0,7.0,7.0,7.0,7.0,7.0,7.0,7.0,7.0,7.0,7.0,7.0,7.0,7.0,7.0,7.0,7.0,7.0,7.0,7.0,7.0,7.0,7.0,7.0,7.0,7.0,7.0,7.0,7.0,7.0,7.0,7.0,7.0,7.0,7.0,7.0,7.0,7.0,7.0,7.0,7.0,7.0,7.0,7.0,7.0,7.0,7.0,7.0,7.0,7.0,7.0,7.0,7.0,7.0,7.0,7.0,7.0,7.0,7.0,7.0,7.0,7.0,7.0,7.0,6.8,6.8,7.0,7.0,7.0,7.0,7.0,7.0,7.0,7.0,7.0,7.0,7.0,7.0,7.0,7.0,7.0,7.0,7.0,7.0,7.0,7.0,7.0,7.0,7.0,7.0,7.0,7.0,7.0,7.0,7.0,7.0,7.0,7.0,7.0,7.0,7.0,7.0,7.0,7.0,7.0,7.0,7.0,7.0,7.0,7.0,7.0,7.0,7.0,7.0,7.0,7.0,7.0,7.0,7.0,7.0,7.0,7.0,7.0,7.0,7.0,7.0,7.0,7.0,7.0,7.0,7.0,7.0,7.0,7.0,7.0,7.0,7.0,7.0,7.0,7.0,7.0,7.0,7.0,7.0,7.0,7.0,7.0,7.0,7.0,7.0,7.0,7.0,7.0,7.0,7.0,7.0,7.0,7.0,7.0,7.0,7.0,7.0,7.0,7.0,7.0,7.0,7.0,7.0,7.0,7.0,7.0,7.0,7.0,7.0,7.0,7.0,7.0,7.0,7.0,7.0,7.0,7.0,7.0,7.0,7.0,7.0,7.0,7.0,7.0,7.0,7.0,7.0,7.0,7.0,7.0,7.0,7.0,7.0,7.0,7.0,7.0,7.0,7.0,7.0,7.0,7.0,7.0,7.0,7.0,7.0,7.0,7.0,7.0,6.8729176839902335,6.8729176839902335,6.8729176839902335,6.8729176839902335,6.8729176839902335,6.8729176839902335,6.8729176839902335,6.8729176839902335,7.0,7.0,7.0,7.0,7.0,7.0,7.0,7.0,7.0,7.0,7.0,7.0,7.0,7.0,7.0,7.0,7.0,7.0,7.0,7.0,7.0,7.0,7.0,7.0,7.0,7.0,7.0,7.0,7.0,7.0,7.5,7.5,7.5,7.5,7.0,7.0,7.0,7.0,7.0,7.0,7.0,7.0,7.0,7.0,7.0,7.0,7.0,7.0,7.0,7.0,7.0,7.0,7.0,7.0,7.0,7.0,7.0,7.0,7.0,7.0,7.0,7.0,7.0,7.0,7.0,7.0,7.0,7.0,7.0,7.0,7.0,7.0,7.0,7.0,7.0,7.0,7.0,7.0,7.0,7.0,7.0,7.0,7.0,7.0,7.0,7.0,7.0,7.0,7.0,7.0,7.0,7.0,7.0,7.0,7.0,7.0,7.0,7.0,7.0,7.0,7.0,7.0,7.0,7.0,7.0,7.0,7.0,7.0,6.3,6.3,3.0,5.5,6.3,5.5,3.0,3.5,6.3,6.3,6.3,6.3,6.3,6.3,5.7,3.0,6.3,5.9,4.2,4.2,5.8,5.7,5.7,4.2,5.8,3.5,6.3,6.3,6.3,6.3,6.3,6.3,6.3,3.5,3.5,3.0,6.3,5.5,3.5,3.0,6.3,3.0,6.3,6.3,6.3,6.3,6.3,6.3,5.6,3.5,6.3,3.0,3.5,6.3,6.3,7.0,7.0,7.0,7.0,7.0,7.0,7.0,7.0,7.0,7.0,7.0,7.0,7.0,7.0,7.0,7.0,7.0,7.0,7.0,7.0,7.0,7.0,7.0,7.0,7.0,7.0,7.0,7.0,7.0,7.0,7.0,7.0,7.0,7.0,7.0,7.0,7.0,7.0,5.5,5.5,5.5,5.5,5.5,5.5,5.5,5.5,5.5,5.5,5.5,5.5,5.5,5.5,5.5,5.5,5.5,5.5,5.5,5.5,5.5,5.5,5.5,5.5,5.5,5.5,5.5,7.0,7.0,7.0,7.0,7.0,7.0,7.0,7.0,7.0,7.0,7.0,7.0,7.0,7.0,7.0,7.0,7.0,7.0,7.0,7.0,7.0,7.0,7.0,7.0,7.0,7.0,7.0,7.0,7.0,7.0,7.0,7.0,7.0,7.0,7.0,7.0,7.0,7.0,7.0,7.0,7.0,7.0,7.0,7.0,7.0,7.0,7.0,7.0,7.0,7.0,7.0,7.0,7.0,7.0,7.0,7.0,7.0,7.0,7.0,7.0,7.0,7.0,7.0,7.0,7.0,7.0,7.0,7.0,7.0,7.0,7.0,7.0,7.0,7.0,7.0,7.0,7.0,7.0,7.0,7.0,7.0,7.0,7.0,7.0,7.0,7.0,7.0,7.0,7.0,7.0,7.0,8.0,7.0,7.0,7.0,8.0,8.0,7.0,7.0,7.5,8.0,8.0,8.0,7.0,8.0,8.0,8.0,8.0,8.0,7.0,7.0,7.0,7.0,7.0,7.0,7.0,8.0,7.0,7.0,7.0,7.0,7.0,7.0,7.0,7.0,7.0,7.0,7.0,7.0,7.0,7.0,7.0,7.0,7.0,7.0,7.0,7.0,7.0,7.0,7.0,7.0,7.0,7.0,7.0,7.0,7.0,7.0,7.0,7.0,7.0,7.0,7.0,7.0,7.0,7.0,7.0,7.0,7.0,7.0,7.0,7.0,7.0,7.0,7.0,7.0,7.0,7.0,7.0,7.0,7.0,7.0,7.0,7.0,7.0,7.0,7.0,7.0,7.0,7.0,7.0,7.0,7.0,7.0,7.0,7.0,7.0,7.0,7.0,7.0,7.0,7.0,7.0,7.0,7.0,7.0,7.0,7.0,7.0,7.0,7.0,7.0,7.0,7.0,7.0,7.0,7.0,7.0,7.0,7.0,7.0,7.0,7.0,7.0,7.0,7.0,7.0,7.0,7.0,7.0,7.0,7.0,7.0,7.0,7.0,7.0,7.0,7.0,7.0,7.0,7.0,7.0,7.0,7.0,7.0,7.0,7.0,7.0,7.0,7.0,7.0,7.0,7.0,7.0,7.0,7.0,7.0,7.0,7.0,7.0,7.0,7.0,7.0,7.0,7.0,7.0,7.0,7.0,7.0,7.0,7.0,7.0,7.0,7.0,7.0,7.0,7.0,7.0,7.0,7.0,7.0,7.0,7.0,7.0,7.0,7.0,7.0,7.0,7.0,7.0,7.0,7.0,7.0,7.0,7.0,7.0,7.0,7.0,7.0,7.0,7.0,7.0,7.0,7.0,7.0,7.0,7.0,7.0,7.0,7.0,7.0,7.0,7.0,7.0,7.0,7.0,7.0,7.0,7.0,7.0,7.0,7.0,7.0,7.0,7.0,7.0,7.0,7.0,7.0,7.0,7.0,7.0,7.0,7.0,7.0,7.0,7.0,7.0,7.0,7.0,7.0,7.0,7.0,7.0,7.0,7.0,7.0,7.0,7.0,7.0,7.0,7.0,7.0,7.0,7.0,7.0,7.0,7.0,7.0,7.0,7.0,7.0,7.0,7.0,7.0,7.0,7.0,7.0,7.0,7.0,7.0,7.0,7.0,7.0,7.0,7.0,7.0,7.0,7.0,7.0,7.0,7.0,7.0,7.0,7.0,7.0,7.0,7.0,7.0,7.0,7.0,7.0,7.0,7.0,7.0,7.0,7.0,7.0,7.0,7.0,7.0,7.0,7.0,7.0,7.0,7.0,7.0,7.0,7.0,7.0,7.0,7.0,7.0,7.0,7.0,7.0,7.0,7.0,7.0,7.0,7.0,7.0,7.0,7.0,7.0,7.0,7.0,7.0,7.0,7.0,7.0,7.0,7.0,7.0,7.0,7.0,7.0,7.0,7.0,7.0,7.0,7.0,7.0,7.0,7.0,7.0,7.0,7.0,7.0,7.0,7.0,7.0,7.0,7.0,7.0,7.0,7.0,7.0,7.0,7.0,7.0,7.0,7.0,7.0,7.0,7.0,7.0,7.0,7.0,7.0,7.0,7.0,7.0,7.0,7.0,7.0,7.0,7.0,7.0,7.0,7.0,7.0,7.0,7.0,7.0,7.0,7.0,7.0,7.0,7.0,7.0,7.0,7.0,7.0,7.0,7.0,7.0,7.0,7.0,7.0,7.0,7.0,7.0,7.0,7.0,7.0,7.0,7.0,7.0,7.0,7.0,7.0,7.0,7.0,7.0,7.0,7.0,7.0,7.0,7.0,7.0,7.0,7.0,7.0,7.0,7.0,7.0,7.0,7.0,7.0,7.0,7.0,7.0,7.0,7.0,7.0,7.0,7.0,7.0,7.0,7.0,7.0,7.0,7.0,7.0,7.0,7.0,7.0,7.0,7.0,7.0,7.0,7.0,7.0,7.0,7.0,7.0,7.0,7.0,7.0,7.0,7.0,7.0,7.0,7.0,7.0,7.0,7.0,7.0,7.0,7.0,7.0,7.0,7.0,7.0,7.0,7.0,7.0,7.0,7.0,7.0,7.0,7.0,7.0,7.0,7.0,7.0,7.0,7.0,7.0,7.0,7.0,7.0,7.0,7.0,7.0,7.0,7.0,7.0,7.0,7.0,7.0,7.0,7.0,7.0,7.0,7.0,7.0,7.0,7.0,7.0,7.0,7.0,7.0,7.0,7.0,7.0,7.0,7.0,7.0,7.0,7.0,7.0,7.0,7.0,7.0,7.0,7.0,7.0,7.0,7.0,7.0,7.0,7.0,7.0,7.0,7.0,7.0,7.0,7.0,7.0,7.0,7.0,7.0,7.0,7.0,7.0,7.0,7.0,7.0,7.0,7.0,7.0,7.0,7.0,7.0,7.0,7.0,7.0,7.0,7.0,7.0,7.0,7.0,7.0,7.0,7.0,7.0,7.0,7.0,7.0,7.0,7.0,7.4,7.4,7.4,7.4,7.4,7.4,7.4,7.4,7.4,7.4,7.4,7.4,7.4,7.0,7.0,7.0,7.0,7.0,7.0,7.0,7.0,7.0,7.0,7.0,7.0,7.0,7.0,7.0,7.0,7.0,7.0,7.0,7.0,7.0,7.0,7.0,7.0,7.0,7.0,7.0,7.0,7.0,7.0,7.0,7.0,7.0,7.0,7.0,7.0,7.0,7.0,7.0,7.0,7.0,7.0,7.0,7.0,7.0,7.0,7.0,7.0,7.0,7.0,7.0,7.0,7.0,7.0,7.0,7.0,7.0,7.0,7.0,7.0,7.0,7.0,7.0,7.0,7.0,7.0,7.0,7.0,7.0,7.0,7.0,7.0,7.0,7.0,7.0,7.0,7.0,7.0,7.0,7.0,7.0,7.0,7.0,7.0,7.0,7.0,7.0,7.0,7.0,7.0,7.0,7.0,7.0,7.0,7.0,7.0,7.0,7.0,7.0,7.0,7.0,7.0,7.0,7.0,7.0,7.0,7.0,7.0,7.0,7.0,7.0,7.0,7.0,7.0,7.0,7.0,7.0,7.0,7.0,6.0,4.6,4.6,3.5,6.0,4.6,5.0,4.6,4.0,4.6,4.6,4.0,5.2,4.6,6.0,5.0,4.0,3.75,3.5,4.75,4.5,3.25,4.25,4.6,4.6,4.6,4.6,2.1,6.0,4.6,4.6,2.1,6.0,6.0,5.9,6.0,4.6,4.6,4.6,4.6,4.6,4.6,4.6,4.0,3.75,3.25,5.0,4.5,4.75,4.25,3.5,4.5,3.75,4.0,4.75,3.5,5.0,4.25,4.6,5.0,4.6,4.0,5.2,4.8,3.5,4.0,4.6,5.0,4.6,4.0,4.6,4.6,4.6,4.6,2.1,4.6,2.1,2.1,7.0,7.0,7.0,7.0,7.0,7.0,7.0,7.0,7.0,7.0,7.0,7.0,7.0,7.0,7.0,7.0,7.0,7.0,7.0,7.0,7.0,7.0,7.0,7.0,7.0,7.0,7.0,7.0,7.0,7.0,7.0,7.0,7.0,7.0,7.0,7.0,7.0,7.0,7.0,7.0,7.0,7.0,7.0,7.0,7.0,7.0,7.0,7.0,7.0,7.0,7.0,7.0,7.0,7.0,7.0,7.0,7.0,7.0,7.0,7.0,7.0,7.0,7.0,7.0,7.0,7.0,7.0,7.0,7.0,7.0,7.0,7.0,7.0,7.0,7.0,7.0,7.0,7.0,7.0,7.0,7.0,7.0,7.0,7.0,7.0,7.0,7.0,7.0,7.0,7.0,7.0,7.0,7.0,7.0,7.0,7.0,7.0,7.0,7.0,7.0,7.0,7.0,7.0,7.0,7.0,7.0,7.0,7.0,7.0,7.0,7.0,7.0,7.0,7.0,7.0,7.0,7.0,7.0,7.0,7.0,7.0,7.0,7.0,7.0,7.0,7.0,7.0,7.0,7.0,7.0,7.0,7.0,7.0,7.0,7.0,7.0,7.0,7.0,7.0,7.0,7.0,7.0,7.0,7.0,7.0,7.0,7.0,7.0,7.0,7.0,7.0,7.0,7.0,7.0,7.0,7.0,7.0,7.0,7.0,7.0,7.0,7.0,7.0,7.0,7.0,7.0,7.0,7.0,7.0,7.0,7.0,7.0,7.0,7.0,7.0,7.0,7.0,7.0,7.0,7.0,7.0,7.0,7.0,7.0,7.0,7.0,7.0,7.0,7.0,7.0,7.0,7.0,7.0,7.0,7.0,7.0,7.0,7.0,7.0,7.0,7.0,7.0,7.0,7.0,7.0,7.0,7.0,7.0,7.0,7.0,7.0,7.0,7.0,7.0,7.0,7.0,7.0,7.0,7.0,7.0,7.0,7.0,7.0,7.0,7.0,7.0,7.0,7.0,7.0,7.0,7.0,7.0,7.0,7.0,7.0,7.0,7.0,7.0,7.0,7.0,7.0,7.0,7.0,7.0,7.0,7.0,7.0,7.0,7.0,7.0,7.0,7.0,7.0,7.0,7.0,7.0,7.0,7.0,7.0,7.0,7.0,7.0,7.0,7.0,7.0,7.0,7.0,7.0,7.0,7.0,7.0,7.0,7.0,7.0,7.0,7.0,7.0,7.0,7.0,7.0,7.0,7.0,7.0,7.0,7.0,7.0,7.0,7.0,7.0,7.0,7.0,7.0,7.0,7.0,7.0,7.0,7.0,7.0,7.0,7.0,7.0,7.0,7.0,7.0,7.0,7.0,7.0,7.0,7.0,7.0,7.0,7.0,7.0,7.0,7.0,7.0,7.0,7.0,7.0,7.0,7.0,6.0,6.0,7.0,7.0,7.0,7.0,7.0,7.0,7.0,7.0,7.0,7.0,7.0,7.0,7.0,7.0,7.0,7.0,7.0,7.0,7.0,7.0,7.0,7.0,7.0,7.0,7.0,7.0,7.0,7.0,7.0,7.0,7.0,7.0,7.0,7.0,7.0,7.0,7.0,7.0,7.0,7.0,7.0,7.0,7.0,7.0,7.0,7.0,7.0,7.0,7.0,7.0,7.0,7.0,7.0,7.0,7.0,7.0,7.0,7.0,7.0,7.0,7.0,7.0,7.0,7.0,7.0,7.0,7.0,7.0,7.0,7.0,7.0,7.0,7.0,7.0,7.0,7.0,7.0,7.0,7.0,7.0,7.0,7.0,7.0,7.0,7.0,7.0,7.0,7.0,7.0,7.0,7.0,7.0,7.0,7.0,7.0,7.0,7.0,7.0,7.0,7.0,7.0,7.0,7.0,7.0,7.0,7.0,7.0,7.0,7.0,7.0,7.0,7.0,7.0,7.0,7.0,7.0,7.0,7.0,7.0,7.0,7.0,7.0,7.0,6.8729176839902335,6.8729176839902335,7.0,7.0,7.0,7.0,7.0,7.0,7.0,7.0,7.0,7.0,7.0,7.0,7.0,7.0,7.0,7.0,7.0,7.0,7.0,7.0,7.0,7.0,7.0,7.0,7.0,7.0,7.0,7.0,7.0,7.0,7.0,7.0,7.0,7.0,7.0,7.0,7.0,7.0,7.0,7.0,7.0,7.0,7.0,7.0,7.0,7.0,7.0,7.0,7.0,7.0,7.0,7.0,7.0,7.0,7.0,7.0,7.0,7.0,7.0,7.0,7.0,7.0,7.0,7.0,7.0,7.0,7.0,7.0,7.0,7.0,7.0,7.0,7.0,7.0,7.0,7.0,7.0,7.0,7.0,7.0,7.0,7.0,7.0,7.0,7.0,7.0,7.0,7.0,7.0,7.0,7.0,7.0,7.0,7.0,7.0,7.0,7.0,7.0,7.0,7.0,7.0,7.0,7.0,7.0,7.0,7.0,7.0,7.0,7.0,7.0,7.0,7.0,7.0,7.0,7.0,7.0,7.0,7.0,7.0,7.0,7.0,7.0,7.0,7.0,7.0,7.0,7.0,7.0,7.0,7.0,7.0,7.0,7.0,7.0,7.0,7.0,7.0,7.0,7.0,7.0,7.0,7.0,7.0,7.0,7.0,7.0,7.0,7.0,7.0,7.0,7.0,7.0,7.0,7.0,7.0,7.0,7.0,7.0,7.0,7.0,7.0,7.0,7.0,7.0,7.0,7.0,7.0,7.0,7.0,7.0,7.0,7.0,7.0,7.0,7.0,7.0,7.0,7.0,7.0,7.0,7.0,7.0,7.0,7.0,7.0,7.0,7.0,7.0,7.0,7.0,7.0,7.0,7.0,7.0,7.0,7.0,7.0,7.0,7.0,7.0,7.0,7.0,7.0,7.0,7.0,7.0,7.0,7.0,7.0,7.0,7.0,7.0,7.0,7.0,7.0,7.0,7.0,7.0,7.0,7.0,7.0,7.0,7.0,7.0,7.0,7.0,7.0,7.0,7.0,7.0,7.0,7.0,7.0,7.0,7.0,7.0,7.0,7.0,7.0,7.0,7.0,7.0,7.0,7.0,7.0,7.0,7.0,7.0,7.0,7.0,7.0,7.0,7.0,7.0,7.0,7.0,7.0,7.0,7.0,7.0,7.0,7.0,7.0,7.0,7.0,7.0,7.0,7.0,7.0,7.0,7.0,7.0,7.0,7.0,7.0,7.0,7.0,7.0,7.0,7.0,7.0,7.0,7.0,7.0,7.0,7.0,7.0,7.0,7.0,7.0,7.0,7.0,7.0,7.0,7.0,7.0,7.0,7.0,7.0,7.0,7.0,7.0,7.0,7.0,7.0,7.0,7.0,7.0,7.0,7.0,7.0,7.0,7.0,7.0,7.0,7.0,7.0,7.0,7.0,7.0,7.0,7.0,7.0,7.0,7.0,7.0,7.0,7.0,7.0,7.0,7.0,7.0,7.0,7.0,7.0,7.0,7.0,6.8729176839902335,6.8729176839902335,6.8729176839902335,6.8729176839902335,6.8729176839902335,6.8729176839902335,6.8729176839902335,6.8729176839902335,6.8729176839902335,6.8729176839902335,6.8729176839902335,6.8729176839902335,6.8729176839902335,6.8729176839902335,6.8729176839902335,6.8729176839902335,6.8729176839902335,6.8729176839902335,6.8729176839902335,6.8729176839902335,6.8729176839902335,6.8729176839902335,6.8729176839902335,6.8729176839902335,6.8729176839902335,6.8729176839902335,6.8729176839902335,6.8729176839902335,6.8729176839902335,6.8729176839902335,6.8729176839902335,6.8729176839902335,6.8729176839902335,6.8729176839902335,6.8729176839902335,6.8729176839902335,6.8729176839902335,6.8729176839902335,6.8729176839902335,6.8729176839902335,6.8729176839902335,6.8729176839902335,6.8729176839902335,6.8729176839902335,6.8729176839902335,6.8729176839902335,6.8729176839902335,6.8729176839902335,6.8729176839902335,6.8729176839902335,6.8729176839902335,6.8729176839902335,6.8729176839902335,6.8729176839902335,6.8729176839902335,6.8729176839902335,6.8729176839902335,6.8729176839902335,6.8729176839902335,6.8729176839902335,6.8729176839902335,6.8729176839902335,6.8729176839902335,6.8729176839902335,6.8729176839902335,6.8729176839902335,6.8729176839902335,6.8729176839902335,6.8729176839902335,6.8729176839902335,6.8729176839902335,6.8729176839902335,6.8729176839902335,6.8729176839902335,6.8729176839902335,6.8729176839902335,6.8729176839902335,6.8729176839902335,6.8729176839902335,6.8729176839902335,6.8729176839902335,6.8729176839902335,6.8729176839902335,6.8729176839902335,6.8729176839902335,6.8729176839902335,6.8729176839902335,6.8729176839902335,6.8729176839902335,6.8729176839902335,6.8729176839902335,6.8729176839902335,6.8729176839902335,6.8729176839902335,6.8729176839902335,6.8729176839902335,6.8729176839902335,6.8729176839902335,6.8729176839902335,6.8729176839902335,6.8729176839902335,6.8729176839902335,6.8729176839902335,6.8729176839902335,6.8729176839902335,6.8729176839902335,6.8729176839902335,6.8729176839902335,6.8729176839902335,6.8729176839902335,6.8729176839902335,6.8729176839902335,6.8729176839902335,6.8729176839902335,6.8729176839902335,6.8729176839902335,6.8729176839902335,6.8729176839902335,6.8729176839902335,6.8729176839902335,6.8729176839902335,6.8729176839902335,6.8729176839902335,6.8729176839902335,6.8729176839902335,6.8729176839902335,6.8729176839902335,6.8729176839902335,6.8729176839902335,6.8729176839902335,6.8729176839902335,6.8729176839902335,6.8729176839902335,6.8729176839902335,6.8729176839902335,6.8729176839902335,6.8729176839902335,6.8729176839902335,6.8729176839902335,6.8729176839902335,6.8729176839902335,6.8729176839902335,6.8729176839902335,6.8729176839902335,6.8729176839902335,6.8729176839902335,6.8729176839902335,6.8729176839902335,6.8729176839902335,6.8729176839902335,6.8729176839902335,7.0,7.0,7.0,7.0,7.0,7.0,7.0,7.0,7.0,7.0,7.0,7.0,7.0,7.0,7.0,7.0,7.0,7.0,7.0,7.0,7.0,7.0,7.0,7.0,7.0,7.0,7.0,7.0,7.0,7.0,7.0,7.0,7.0,7.0,7.0,7.0,7.0,7.0,7.0,7.0,7.0,7.0,7.0,7.0,7.0,7.0,7.0,7.0,7.0,7.0,7.0,7.0,7.4,7.4,7.4,7.4,7.4,7.4,7.4,7.0,7.0,7.0,7.0,7.0,7.0,7.0,7.0,7.0,7.0,7.0,7.0,7.0,7.0,7.0,7.0,7.0,7.0,7.0,7.0,7.0,7.0,7.0,7.0,7.0,7.0,7.0,7.0,7.0,7.0,7.0,7.0,7.0,7.0,7.0,7.0,7.0,7.0,7.0,7.0,7.0,7.0,7.0,7.0,7.0,7.0,7.0,7.0,7.0,7.0,7.0,7.0,7.0,7.0,7.0,7.0,7.0,7.0,7.0,7.0,7.0,7.0,7.0,7.0,7.0,7.0,7.0,7.0,7.0,7.0,7.0,7.0,7.0,7.0,7.0,7.0,7.0,7.0,7.0,7.0,7.0,7.0,7.0,7.0,7.0,7.0,7.0,7.0,7.0,7.0,7.0,7.0,7.0,7.0,6.8729176839902335,6.8729176839902335,7.0,7.0,7.0,7.0,7.0,7.0,7.0,7.0,7.0,7.0,7.0,7.0,7.0,7.0,7.0,7.0,7.0,7.0,7.0,7.0,7.0,7.0,7.0,7.0,7.0,7.0,7.0,7.0,7.0,7.0,7.0,7.0,7.0,7.0,7.0,7.0,7.0,7.0,7.0,7.0,7.0,7.0,7.0,7.0,7.0,7.0,7.0,7.0,7.0,7.0,7.0,7.0,7.0,7.0,7.0,7.0,7.0,7.0,7.0,7.0,7.0,7.0,7.0,7.0,7.0,7.0,7.0,7.0,7.0,7.0,7.0,7.0,7.0,7.0,7.0,7.0,7.0,7.0,7.0,7.0,7.0,7.0,7.0,7.0,7.0,7.0,7.0,7.0,7.0,7.0,7.0,7.0,7.0,7.0,7.0,7.0,7.0,7.0,7.0,7.0,7.0,7.0,7.0,7.0,7.0,7.0,7.0,7.0,7.0,7.0,7.0,7.0,7.0,7.0,7.0,7.0,7.0,7.0,7.0,7.0,7.0,7.0,7.0,7.0,7.0,7.0,7.0,7.0,7.0,7.0,7.0,7.0,7.0,7.0,7.0,7.0,7.0,7.0,7.0,7.0,7.0,7.0,7.0,7.0,7.0,7.0,7.0,7.0,7.0,7.0,7.0,7.0,7.0,7.0,7.0,7.0,7.0,7.0,7.0,7.4,7.0,7.0,7.0,7.0,7.0,7.0,7.0,7.0,7.0,7.0,7.0,7.0,7.0,7.0,7.0,7.0,7.0,7.0,7.0,7.0,7.0,7.0,7.0,7.0,7.0,7.0,7.0,7.0,7.0,7.0,7.0,7.0,7.0,7.0,7.0,7.0,7.0,7.0,7.0,7.0,7.0,7.0,7.0,7.0,7.0,7.0,7.0,7.0,7.0,8.0,8.0,8.0,8.0,8.0,8.0,8.0,7.0,8.0,7.0,7.0,7.0,7.0,7.0,7.0,7.0,7.0,7.4,7.4,7.4,7.4,7.4,7.4,7.4,7.4,7.4,7.4,7.4,7.4,7.4,7.4,7.4,7.4,7.4,7.4,7.4,7.4,7.4,7.4,7.4,7.4,7.4,7.4,7.4,7.4,7.4,7.4,7.4,7.0,8.0,8.0,8.0,7.0,7.0,7.0,7.0,7.0,7.0,7.0,7.0,7.0,7.0,7.0,7.0,7.0,7.0,7.0,7.0,7.0,7.0,7.0,7.0,7.0,7.0,7.0,7.0,7.0,7.0,7.0,7.0,7.0,7.0,7.0,7.0,7.0,7.0,7.0,7.0,7.0,7.0,7.0,7.0,7.0,7.0,7.0,7.0,7.0,7.0,7.0,7.0,7.0,7.0,7.0,7.0,7.0,7.0,7.0,7.0,7.0,7.0,7.0,7.0,7.0,7.0,7.0,7.0,7.0,7.0,7.0,7.0,7.0,7.0,7.0,7.0,7.0,7.0,7.0,7.0,7.0,7.0,7.0,7.0,7.0,7.0,7.0,7.0,7.0,7.0,7.0,7.0,7.0,7.0,7.0,7.0,7.0,7.0,7.0,7.0,7.0,7.0,7.0,7.0,7.0,7.0,7.0,7.0,7.0,7.0,7.0,7.0,7.0,7.0,7.0,7.0,7.0,7.0,7.0,7.0,7.0,7.0,7.0,7.0,7.0,7.0,7.0,7.0,7.0,7.0,7.0,7.0,7.0,7.0,7.0,7.0,7.0,7.0,7.0,7.0,7.0,7.0,7.0,7.0,7.0,7.0,7.0,7.0,7.0,7.0,7.0,7.0,7.0,7.0,7.0,7.0,7.0,7.0,7.0,7.0,7.0,7.0,7.5,7.5,7.5,7.5,7.5,7.5,7.5,7.5,7.5,7.5,7.0,7.0,7.0,7.0,7.0,7.0,7.0,7.0,7.0,7.0,7.0,7.0,7.0,7.0,7.0,7.0,7.0,7.0,7.0,7.0,7.0,7.0,7.0,7.0,7.0,7.0,7.0,7.0,7.0,7.0,7.0,7.0,7.0,7.0,7.0,7.0,7.0,7.0,7.0,7.0,7.0,7.0,7.0,7.0,7.0,7.0,7.0,7.0,7.0,7.0,7.0,7.0,7.0,7.0,7.0,7.0,7.0,7.0,7.0,7.0,7.0,7.0,7.0,7.0,7.0,7.0,7.0,7.0,7.0,7.0,7.0,7.0,7.0,7.0,7.0,7.0,7.0,7.0,7.0,7.0,7.0,7.0,7.0,7.0,7.0,7.0,7.0,7.0,7.0,7.0,7.0,7.0,7.0,7.0,7.0,7.0,7.0,7.0,7.0,7.0,7.0,7.0,7.0,7.0,7.0,7.0,7.0,7.0,7.0,7.0,7.0,7.0,7.0,7.0,7.0,7.0,7.0,7.0,7.0,7.0,7.0,7.0,7.0,7.0,7.0,7.0,7.0,7.0,7.0,7.0,7.0,7.0,7.0,7.0,7.0,7.0,7.0,7.0,7.0,7.0,7.0,7.0,7.0,7.0,7.0,7.0,7.0,7.0,7.0,7.0,7.0,7.0,7.0,7.0,7.0,7.0,7.0,7.0,7.0,6.8729176839902335,6.8729176839902335,6.8729176839902335,6.8729176839902335,6.8729176839902335,6.8729176839902335,6.8729176839902335,6.8729176839902335,6.8729176839902335,6.8729176839902335,6.8729176839902335,6.8729176839902335,6.8729176839902335,6.8729176839902335,6.8729176839902335,6.8729176839902335,6.8729176839902335,6.8729176839902335,6.8729176839902335,6.8729176839902335,6.8729176839902335,6.8729176839902335,6.8729176839902335,6.8729176839902335,6.8729176839902335,6.8729176839902335,6.8729176839902335,6.8729176839902335,6.8729176839902335,6.8729176839902335,6.8729176839902335,6.8729176839902335,6.8729176839902335,6.8729176839902335,6.8729176839902335,6.8729176839902335,7.0,7.0,7.0,7.0,7.0,7.0,7.0,7.0,7.0,7.0,7.0,7.0,7.0,7.0,7.0,7.0,7.0,7.0,7.0,7.0,7.0,9.6,9.6,5.6,9.6,9.6,11.0,7.0,6.6,7.0,11.0,6.6,11.0,11.0,9.6,9.6,9.6,11.0,11.0,11.0,11.0,9.6,11.0,9.6,9.6,9.6,9.6,11.0,9.6,5.6,10.3,9.6,11.0,9.6,11.0,11.0,11.0,11.0,11.0,11.0,11.0,11.0,11.0,11.0,11.0,11.0,11.0,11.0,11.0,11.0,7.0,7.0,7.0,7.0,7.0,7.0,7.0,7.0,7.0,7.0,7.0,7.0,7.0,7.0,7.0,7.0,7.0,7.0,7.0,7.0,7.0,7.0,7.0,7.0,7.0,7.0,7.0,7.0,7.0,7.0,7.0,7.0,7.0,7.0,7.0,7.0,7.0,7.0,7.0,7.0,7.0,7.0,7.0,7.0,7.0,7.0,7.0,7.0,7.0,7.0,7.0,7.0,7.0,7.0,7.0,7.0,7.0,7.0,7.0,7.0,7.0,7.0,7.5,7.5,7.5,7.5,7.5,7.5,7.5,7.5,7.5,7.5,7.5,7.5,7.5,7.5,7.5,7.5,7.5,7.5,7.5,7.5,7.5,7.5,7.5,7.5,7.5,7.5,7.5,7.5,7.5,7.5,7.0,7.0,7.0,7.0,7.0,7.0,7.0,7.0,7.0,7.0,7.0,7.0,7.0,7.0,7.0,7.0,7.0,7.0,7.0,7.0,7.0,7.0,7.0,7.0,7.0,7.0,7.0,7.0,7.0,7.0,7.0,7.0,7.0,7.0,7.0,7.0,7.0,7.0,7.0,7.0,7.0,7.0,7.0,7.0,7.0,7.0,7.0,7.0,7.0,7.0,7.0,7.0,7.0,7.0,7.0,7.0,7.0,7.0,7.0,7.0,7.0,7.0,7.0,7.0,7.0,7.0,7.0,7.0,7.0,7.0,7.0,7.0,7.0,7.0,7.0,7.0,7.0,7.0,7.0,7.0,7.0,7.0,7.0,7.0,7.0,7.0,7.0,7.0,7.0,7.0,7.0,7.0,7.0,7.0,7.0,7.0,7.0,7.0,7.0,7.0,7.0,7.0,7.0,7.0,7.0,7.0,7.0,7.0,7.0,7.0,7.0,7.0,7.0,7.0,7.0,7.0,7.0,7.0,7.0,7.0,7.0,7.0,7.0,7.0,7.0,7.0,7.0,7.0,6.8729176839902335,7.0,7.0,7.0,7.0,7.0,7.0,7.0,7.0,7.0,7.0,7.0,7.0,7.0,7.0,7.0,7.0,7.0,7.0,7.0,7.0,7.0,7.0,7.0,7.0,7.0,7.0,7.0,7.0,7.0,7.0,7.0,7.0,7.0,7.0,7.0,7.0,7.0,7.0,7.0,7.0,7.0,7.0,7.0,7.0,7.0,7.0,7.0,7.0,7.0,7.0,7.0,7.0,7.0,7.0,7.0,7.0,7.0,7.0,7.0,7.0,7.0,7.0,7.0,7.0,7.0,7.0,7.0,7.0,7.0,7.0,7.0,7.0,7.0,7.0,7.0,7.0,7.0,7.0,7.0,7.0,7.0,7.0,7.0,7.0,7.0,7.0,7.0,7.0,7.0,7.0,7.0,7.0,7.0,7.0,7.0,7.0,7.0,7.0,7.0,7.0,7.0,7.0,7.0,7.0,7.0,7.0,7.0,7.0,7.0,7.0,7.0,7.0,7.0,7.0,7.0,7.0,7.0,7.0,7.0,7.0,7.0,7.0,7.0,7.0,7.0,7.0,7.0,7.0,7.0,7.0,7.0,7.0,7.0,7.0,7.0,7.0,7.0,7.0,7.0,7.0,7.0,7.0,7.0,7.0,7.0,7.0,7.0,7.0,7.0,7.0,7.0,7.0,7.0,7.0,7.0,7.0,7.0,7.0,7.0,7.0,7.0,7.0,7.0,7.0,7.0,7.0,7.0,7.0,7.0,7.0,7.0,7.0,7.0,7.0,7.0,7.0,7.0,7.0,7.0,7.0,7.0,7.0,7.0,7.0,7.0,7.0,7.0,7.0,7.0,7.0,7.0,7.0,7.0,7.0,7.0,7.0,7.0,7.0,7.0,7.0,7.0,7.0,7.0,7.0,7.0,7.0,7.0,7.0,7.0,7.0,7.0,7.0,7.0,7.0,7.0,7.0,7.0,7.0,7.0,7.0,7.0,7.0,7.0,7.0,7.0,7.0,7.0,7.0,7.0,7.0,7.0,7.0,7.0,7.0,7.0,7.0,7.0,7.0,7.0,7.0,7.0,7.0,7.0,7.0,7.0,7.0,7.0,7.0,7.0,7.0,7.0,7.0,7.0,7.0,7.0,7.0,7.0,7.0,7.0,7.0,7.0,7.0,7.0,7.0,7.0,7.0,7.0,7.0,7.0,7.0,7.0,7.0,7.0,7.0,7.0,7.0,7.0,7.0,7.0,7.0,7.0,7.0,7.0,7.0,7.0,7.0,7.0,7.0,7.0,7.0,7.0,7.0,7.0,7.0,7.0,7.0,7.0,7.0,7.0,7.0,7.0,7.0,7.0,7.0,7.0,7.0,7.0,7.0,7.0,7.0,7.0,7.0,7.0,7.0,7.0,7.0,7.0,7.0,7.0,7.0,7.0,7.0,7.0,7.0,7.0,7.0,7.0,7.0,7.0,7.0,7.0,7.0,7.0,7.0,7.0,7.0,7.0,7.0,7.0,7.0,7.0,7.0,7.0,7.0,7.0,7.0,7.0,7.0,7.0,7.0,7.0,7.0,7.0,7.0,7.0,7.0,7.0,7.0,7.0,7.0,7.0,7.0,7.0,7.0,7.0,7.0,7.0,7.0,7.0,7.0,7.0,7.0,7.0,7.0,7.0,7.0,7.0,7.0,7.0,7.0,7.0,7.0,7.0,7.0,7.0,7.0,7.0,7.0,7.0,7.0,7.0,7.0,7.0,7.0,7.0,7.0,7.0,7.0,7.0,7.0,7.0,7.0,7.0,7.0,7.0,7.0,7.0,7.0,7.0,7.0,7.0,7.0,7.0,7.0,7.0,7.0,7.0,7.0,7.0,7.0,7.0,7.0,7.0,7.0,7.0,7.0,7.0,7.0,7.0,7.0,7.0,7.0,7.0,7.0,7.0,7.0,7.0,7.0,7.0,7.0,7.0,7.0,7.0,7.0,7.0,7.0,7.0,7.0,7.0,7.0,7.0,7.0,7.0,7.0,7.0,7.0,7.0,7.0,7.0,7.0,7.0,7.0,7.0,7.0,7.0,7.0,7.0,7.0,7.0,7.0,7.0,7.0,7.0,7.0,7.0,7.0,7.0,7.0,7.0,7.0,7.0,7.0,7.0,7.0,7.0,7.0,7.0,7.0,7.0,7.0,7.4,7.0,7.0,7.0,7.0,7.0,7.0,7.0,7.0,7.0,7.0,7.0,7.0,7.0,7.0,7.0,7.0,7.0,7.0,7.0,7.0,7.0,7.0,7.0,7.0,7.0,7.0,7.0,7.0,7.0,7.0,7.0,7.0,7.0,7.0,7.0,7.0,7.0,7.0,7.0,7.0,7.0,7.0,7.0,7.0,7.0,7.0,7.0,7.0,7.0,7.0,7.0,7.0,7.0,7.0,7.0,7.0,7.0,7.0,7.0,7.0,7.0,7.0,7.0,7.0,7.0,7.0,7.0,7.0,7.0,7.0,7.0,7.0,7.0,7.0,7.0,7.0,7.0,7.0,7.0,7.0,7.0,7.0,7.0,7.0,7.0,7.0,7.0,7.0,7.0,7.0,7.0,7.0,7.0,7.0,7.0,7.0,7.0,7.0,7.0,7.0,7.0,7.0,7.0,7.0,7.0,7.0,7.0,7.0,7.0,7.0,7.0,7.0,7.0,7.0,7.0,7.0,7.0,7.0,7.0,7.0,7.0,7.0,7.0,7.0,7.0,7.0,7.0,7.0,7.0,7.0,7.0,7.0,7.0,7.0,7.0,7.0,7.0,7.0,7.0,7.0,7.0,7.0,7.0,7.0,7.0,7.0,7.0,7.0,7.0,7.0,7.0,7.0,7.0,7.0,7.0,7.0,7.0,7.0,7.0,7.0,7.0,7.0,7.0,7.0,7.0,7.0,7.0,7.0,7.0,7.0,7.0,7.0,7.0,7.0,7.0,7.0,7.0,7.0,7.0,7.0,7.0,7.0,7.0,7.0,7.0,7.0,7.0,7.0,7.0,7.0,7.0,7.0,7.0,7.0,7.0,7.0,7.0,7.0,7.0,7.0,7.0,7.0,7.0,7.0,7.0,7.0,7.0,7.0,7.0,7.0,7.0,7.0,7.0,7.0,7.0,7.0,7.0,7.0,7.0,7.0,7.0,7.0,7.0,7.0,7.0,7.0,7.0,7.0,7.0,7.0,7.0,7.0,7.0,7.0,7.0,7.0,7.0,7.0,7.0,7.0,7.0,7.0,7.0,7.0,7.0,7.0,7.0,7.0,7.0,7.0,7.0,7.0,7.0,7.0,7.0,7.0,7.0,7.0,7.0,7.0,7.0,7.0,7.0,7.0,3.0,6.0,2.5,2.0,7.0,3.5,4.0,5.0,8.0,5.5,5.5,5.5,7.0,7.0,7.0,7.0,7.0,7.0,7.0,7.0,7.0,7.0,7.0,7.0,7.0,7.0,7.0,7.0,7.0,7.0,7.0,7.0,7.0,7.0,7.0,7.0,7.0,7.0,7.0,7.0,7.0,7.0,7.0,7.0,7.0,7.0,7.0,7.0,7.0,7.0,7.0,7.0,7.0,7.0,7.0,7.0,7.0,7.0,7.0,7.0,7.0,7.0,7.0,7.0,7.0,7.0,7.0,7.0,7.0,7.0,7.0,7.0,7.0,7.0,7.0,7.0,7.0,7.0,7.0,7.0,7.0,7.0,7.0,7.0,7.0,7.0,7.0,7.0,7.0,7.0,7.0,7.0,7.0,7.0,7.0,7.0,7.0,7.0,7.0,7.0,7.0,7.0,7.0,7.0,7.0,7.0,7.0,7.0,7.0,7.0,7.0,7.0,7.0,7.0,7.0,7.0,7.0,7.0,7.0,7.0,7.0,7.0,7.0,7.0,7.0,7.0,7.0,7.0,7.0,7.0,7.0,7.0,7.0,7.0,7.0,7.0,7.0,7.0,7.0,7.0,7.0,7.0,7.0,7.0,7.0,7.0,7.0,7.0,7.0,7.0,7.0,7.0,7.0,7.0,7.0,7.0,7.0,7.0,7.0,7.0,7.0,7.0,7.0,7.0,7.0,7.0,7.0,7.0,7.0,7.0,7.0,7.0,7.0,7.0,7.0,7.0,7.0,7.0,7.0,7.0,7.0,7.0,7.0,7.0,7.0,7.0,7.0,7.0,7.0,7.0,7.0,7.0,7.0,7.0,7.0,7.0,7.0,7.0,7.0,7.0,7.0,7.0,7.0,7.0,7.0,7.0,7.0,7.0,7.0,7.0,7.0,7.0,7.0,7.0,7.0,7.0,7.0,7.0,7.0,7.0,7.0,7.0,7.0,7.0,7.0,7.0,7.0,7.0,7.0,7.0,7.0,7.0,7.0,7.0,7.0,7.0,7.0,7.0,7.0,7.0,7.0,7.0,7.0,7.0,7.0,7.0,7.0,7.0,7.0,7.0,7.0,7.0,7.0,7.0,7.0,7.0,7.0,7.0,7.0,7.0,7.0,7.0,7.0,7.0,7.0,7.0,7.0,7.0,7.0,7.0,7.0,7.0,7.0,7.0,7.0,7.0,7.0,7.0,7.0,7.0,7.0,7.0,7.0,7.0,7.0,7.0,7.0,7.0,7.0,7.0,7.0,7.0,7.0,7.0,7.0,7.0,7.0,7.0,7.0,7.0,7.0,7.0,7.0,7.0,7.0,7.0,7.0,7.0,7.0,7.0,7.0,7.0,7.0,7.0,7.0,7.0,7.0,7.0,7.0,7.0,7.0,7.0,7.0,7.0,7.0,7.0,7.0,7.0,7.0,7.0,7.0,7.0,7.0,7.0,7.0,7.0,7.0,7.0,7.0,7.0,7.0,7.0,7.0,7.0,7.0,7.0,7.0,7.0,7.0,7.0,7.0,7.0,7.0,7.0,7.0,7.0,7.0,7.0,7.0,7.0,7.0,7.0,7.0,7.0,7.0,7.0,7.0,7.0,7.0,7.0,7.0,7.0,7.0,7.0,7.0,7.0,7.0,7.0,7.0,7.0,7.0,7.0,7.0,7.0,7.0,7.0,7.0,7.0,7.0,7.0,7.0,7.0,7.0,7.0,7.0,7.0,7.0,7.0,7.0,7.0,7.0,7.0,7.0,7.0,7.0,7.0,7.0,7.0,7.0,7.0,7.0,7.0,7.0,7.0,7.0,7.0,7.0,7.0,7.0,7.0,7.0,7.0,7.0,7.0,7.0,7.0,7.0,7.0,7.0,7.0,7.0,7.0,7.0,7.0,7.0,7.0,7.0,7.0,7.0,7.0,7.0,7.0,7.0,7.0,7.0,7.0,7.0,7.0,7.0,7.0,7.0,7.0,7.0,7.0,7.0,7.0,7.0,7.0,7.0,7.0,7.0,7.0,7.0,7.0,7.0,7.0,7.0,7.0,7.0,7.0,7.0,7.0,7.0,7.0,7.0,7.0,7.0,7.0,7.0,7.0,7.0,7.0,7.0,7.0,7.0,7.0,7.0,7.0,7.0,7.0,7.0,7.0,7.0,7.0,7.0,7.0,7.0,7.0,7.0,7.0,7.0,7.0,7.0,7.0,7.0,7.0,7.0,7.0,7.0,7.0,7.0,7.0,7.0,7.0,7.0,7.0,7.0,7.0,7.0,7.0,7.0,7.0,7.0,7.0,7.0,7.0,7.0,7.0,7.0,7.0,7.0,7.0,7.0,7.0,7.0,7.0,7.0,7.0,7.0,7.0,7.0,7.0,7.0,7.0,7.0,7.0,7.0,7.0,7.0,7.0,7.0,7.0,7.0,7.0,7.0,7.0,7.0,7.0,7.0,7.0,7.0,7.0,7.0,7.0,7.0,7.0,7.0,7.0,7.0,7.0,7.0,7.0,7.0,7.0,7.0,7.0,7.0,7.0,7.0,7.0,7.0,7.0,7.0,7.0,7.0,7.0,7.0,7.0,7.0,7.0,7.0,7.0,7.0,7.0,7.0,7.0,7.0,7.0,7.0,7.0,7.0,7.0,7.0,7.0,7.0,7.0,7.0,7.0,7.0,7.0,7.0,7.0,7.0,7.0,7.0,7.0,7.0,7.0,7.0,7.0,7.0,7.0,7.0,7.0,7.0,7.0,7.0,7.0,7.0,7.0,7.0,7.0,7.0,7.0,7.0,7.0,7.0,7.0,7.0,7.0,7.0,7.0,7.0,7.0,7.0,7.0,7.0,7.0,7.0,7.0,7.0,7.0,7.0,7.0,7.0,7.0,7.0,7.0,7.0,7.0,7.0,7.0,7.0,7.0,7.0,7.0,7.0,7.0,7.0,7.0,7.0,7.0,7.0,7.0,7.0,7.0,7.0,7.0,7.0,7.0,7.0,7.0,7.0,7.0,7.0,7.0,7.0,7.0,7.0,7.0,7.0,7.0,7.0,7.0,7.0,7.0,7.0,7.0,7.0,7.0,7.0,7.0,7.0,7.0,7.0,7.0,7.0,7.0,7.0,7.0,7.0,7.0,7.0,7.0,7.0,7.0,7.0,7.0,7.0,7.0,7.0,7.0,7.0,7.0,7.0,7.0,7.0,7.0,7.0,7.0,7.0,7.0,7.0,7.0,7.0,7.0,7.0,7.0,7.0,7.0,7.0,7.0,7.0,7.0,7.0,7.0,7.0,7.0,7.0,7.0,7.0,7.0,2.5,7.0,2.5,2.5,2.5,2.5,2.5,7.0,7.0,7.0,7.0,7.0,7.0,7.0,7.0,7.0,7.0,7.0,7.0,7.0,7.0,7.0,7.0,7.0,7.0,7.0,7.0,7.0,7.0,7.0,7.0,7.0,7.0,7.0,7.0,7.0,7.0,7.0,7.0,7.0,7.0,7.0,7.0,7.0,7.0,7.0,7.0,7.0,7.0,7.0,7.0,7.0,7.0,7.0,7.0,7.0,7.0,7.0,7.0,7.0,7.0,7.0,7.0,7.0,7.0,7.0,7.0,7.0,7.0,7.0,7.0,7.0,7.0,7.0,7.0,7.0,7.0,7.0,7.0,7.0,7.0,7.0,7.0,7.0,7.0,7.0,7.0,7.0,7.0,7.0,7.0,7.0,7.0,7.0,7.0,7.0,7.0,7.0,7.0,7.0,7.0,7.0,7.0,7.0,7.0,7.0,7.0,7.0,7.0,7.0,7.0,7.0,7.0,7.0,7.0,7.0,7.0,7.0,7.0,7.0,7.0,7.0,7.0,7.0,7.0,7.0,7.0,7.0,7.0,7.0,7.0,7.0,7.0,7.0,7.0,7.0,7.0,7.0,7.0,7.0,7.0,7.0,7.0,7.0,7.0,7.0,7.0,7.0,7.0,7.0,7.0,7.0,7.0,7.0,7.0,7.0,7.0,7.0,7.0,7.0,7.0,7.0,7.0,7.0,7.0,7.0,7.0,7.0,7.0,7.0,7.0,7.0,7.0,7.0,7.0,7.0,7.0,7.0,7.0,7.0,7.0,7.0,7.0,7.0,7.0,7.0,7.0,7.0,7.0,7.0,7.0,7.0,7.0,7.0,7.0,7.0,7.0,7.0,7.0,7.0,7.0,7.0,7.0,7.0,7.0,7.0,7.0,7.0,7.0,7.0,7.0,7.0,7.0,7.0,7.0,7.0,7.0,7.0,7.0,7.0,7.0,7.0,7.0,7.0,7.0,7.0,7.0,7.0,7.0,7.0,7.0,7.0,7.0,7.0,7.0,7.0,7.0,7.0,7.0,7.0,7.0,7.0,7.0,7.0,7.0,7.0,7.0,7.0,7.0,7.0,7.0,7.0,7.0,7.0,7.0,7.0,7.0,7.0,7.0,7.0,7.0,7.0,7.0,7.0,7.0,7.0,7.0,7.0,7.0,7.0,7.0,7.0,7.0,7.0,7.0,7.0,7.0,7.0,7.0,7.0,7.0,7.0,7.0,7.0,7.0,7.0,7.0,7.0,7.0,7.0,7.0,7.0,7.0,7.0,7.0,7.0,7.0,7.0,7.0,7.0,7.0,7.0,7.0,7.0,7.0,7.0,7.0,7.0,7.0,7.0,7.0,7.0,7.0,7.0,7.0,7.0,7.0,7.0,7.0,7.0,7.0,7.0,7.0,7.0,7.0,7.0,7.0,7.0,7.0,7.0,7.0,7.0,7.0,7.0,7.0,7.0,7.0,7.0,7.0,7.0,7.0,7.0,7.0,7.0,7.0,7.0,7.0,7.0,7.0,7.0,7.0,7.0,7.0,7.0,7.0,7.0,7.0,7.0,7.0,7.0,7.0,7.0,7.0,7.0,7.0,7.0,7.0,7.0,7.0,7.0,7.0,7.0,7.0,7.0,7.0,7.0,7.0,7.0,7.0,7.0,7.0,7.0,7.0,7.0,7.0,7.0,7.0,7.0,7.0,7.0,7.0,7.0,7.0,7.0,7.0,7.0,7.0,7.0,7.0,7.0,7.0,7.0,7.0,7.0,7.0,7.0,7.0,7.0,7.0,7.0,7.0,7.0,7.0,7.0,7.0,7.0,7.0,7.0,7.0,7.0,7.0,7.0,7.0,7.0,7.0,7.0,7.0,7.0,7.0,7.0,7.0,7.0,7.0,7.0,7.0,7.0,7.0,7.0,7.0,7.0,7.0,7.0,7.0,7.0,7.0,7.0,7.0,7.0,7.0,7.0,7.0,7.0,7.0,7.0,7.0,7.0,7.0,7.0,7.0,7.0,7.0,7.0,7.0,7.0,7.0,7.0,7.0,7.0,7.0,7.0,7.0,7.0,7.0,7.0,7.0,7.0,7.0,7.0,7.0,7.0,7.0,7.0,7.0,7.0,7.0,7.0,7.0,7.0,7.0,7.0,7.0,7.0,7.0,7.0,7.0,7.0,7.0,7.0,7.0,7.0,7.0,7.0,7.0,7.0,7.0,7.0,7.0,7.0,7.0,7.0,7.0,7.0,7.0,7.0,7.0,7.0,7.0,7.0,7.0,7.0,7.0,7.0,7.0,7.0,7.0,7.0,7.0,7.0,7.0,7.0,7.0,7.0,7.0,7.0,7.0,7.0,7.0,7.0,7.0,7.0,7.0,7.0,7.0,7.0,7.0,7.0,7.0,7.0,7.0,7.0,7.0,7.0,7.0,7.0,7.0,7.0,7.0,7.0,7.0,7.0,7.0,7.0,7.0,7.0,7.0,7.0,7.0,7.0,7.0,7.0,7.0,7.0,7.0,7.0,7.0,7.0,7.0,7.0,7.0,7.0,7.0,7.0,7.0,7.0,7.0,7.0,7.0,7.0,7.0,7.0,7.0,7.0,7.0,7.0,7.0,7.0,7.0,7.0,7.0,7.0,7.0,7.0,7.0,7.0,7.0,7.0,7.0,7.0,7.0,7.0,7.0,7.0,7.0,7.0,7.0,7.0,7.0,7.0,7.0,7.0,7.0,7.0,7.0,7.0,7.0,7.0,7.0,7.0,7.0,7.0,7.0,7.0,7.0,7.0,7.0,7.0,7.0,7.0,7.0,7.0,7.0,7.0,7.0,7.0,7.0,7.0,7.0,7.0,7.0,7.0,7.0,7.0,7.0,7.0,7.0,7.0,7.0,7.0,7.0,7.0,7.0,7.0,7.0,7.0,7.0,7.0,7.0,7.0,7.0,7.0,7.0,7.0,7.0,7.0,7.0,7.0,7.0,7.0,7.0,7.0,7.0,7.0,7.0,7.0,7.0,7.0,7.0,7.0,7.0,7.0,7.0,7.0,7.0,7.0,7.0,7.0,7.0,7.0,7.0,7.0,7.0,7.0,7.0,7.0,7.0,7.0,7.0,7.0,7.0,7.0,7.0,7.0,7.0,7.0,7.0,7.0,7.0,7.0,7.0,7.0,7.0,7.0,7.0,7.0,7.0,7.0,7.0,7.0,7.0,7.0,7.0,7.0,7.0,7.0,7.0,7.0,7.0,7.0,7.0,7.0,7.0,7.0,7.0,7.0,7.0,7.0,7.0,7.0,7.0,7.0,7.0,7.0,7.0,7.0,7.0,7.0,7.0,7.0,7.0,7.0,7.0,7.0,7.0,7.0,7.0,7.0,7.0,7.0,7.0,7.0,7.0,7.0,7.0,7.0,7.0,7.0,7.0,7.0,7.0,7.0,7.0,7.0,7.0,7.0,7.0,7.0,7.0,7.0,7.0,7.0],\"xaxis\":\"x\",\"yaxis\":\"y\",\"type\":\"histogram\"}],                        {\"template\":{\"data\":{\"pie\":[{\"automargin\":true,\"type\":\"pie\"}],\"scatter3d\":[{\"line\":{\"width\":3},\"marker\":{\"size\":9},\"type\":\"scatter3d\"}],\"scattergeo\":[{\"line\":{\"width\":3},\"marker\":{\"size\":9},\"type\":\"scattergeo\"}],\"scattergl\":[{\"line\":{\"width\":3},\"marker\":{\"size\":9},\"type\":\"scattergl\"}],\"scatterpolargl\":[{\"line\":{\"width\":3},\"marker\":{\"size\":9},\"type\":\"scatterpolargl\"}],\"scatterpolar\":[{\"line\":{\"width\":3},\"marker\":{\"size\":9},\"type\":\"scatterpolar\"}],\"scatter\":[{\"line\":{\"width\":3},\"marker\":{\"size\":9},\"type\":\"scatter\"}],\"scatterternary\":[{\"line\":{\"width\":3},\"marker\":{\"size\":9},\"type\":\"scatterternary\"}],\"table\":[{\"cells\":{\"height\":30},\"header\":{\"height\":36},\"type\":\"table\"}]},\"layout\":{\"font\":{\"size\":18},\"xaxis\":{\"title\":{\"standoff\":15}},\"yaxis\":{\"title\":{\"standoff\":15}}}},\"xaxis\":{\"anchor\":\"y\",\"domain\":[0.0,1.0],\"title\":{\"text\":\"pH\"}},\"yaxis\":{\"anchor\":\"x\",\"domain\":[0.0,1.0],\"title\":{\"text\":\"count\"}},\"legend\":{\"tracegroupgap\":0},\"title\":{\"text\":\"pH Count\"},\"barmode\":\"relative\"},                        {\"responsive\": true}                    ).then(function(){\n",
              "                            \n",
              "var gd = document.getElementById('14709698-b635-4826-8a51-5753215681c6');\n",
              "var x = new MutationObserver(function (mutations, observer) {{\n",
              "        var display = window.getComputedStyle(gd).display;\n",
              "        if (!display || display === 'none') {{\n",
              "            console.log([gd, 'removed!']);\n",
              "            Plotly.purge(gd);\n",
              "            observer.disconnect();\n",
              "        }}\n",
              "}});\n",
              "\n",
              "// Listen for the removal of the full notebook cells\n",
              "var notebookContainer = gd.closest('#notebook-container');\n",
              "if (notebookContainer) {{\n",
              "    x.observe(notebookContainer, {childList: true});\n",
              "}}\n",
              "\n",
              "// Listen for the clearing of the current output cell\n",
              "var outputEl = gd.closest('.output');\n",
              "if (outputEl) {{\n",
              "    x.observe(outputEl, {childList: true});\n",
              "}}\n",
              "\n",
              "                        })                };                            </script>        </div>\n",
              "</body>\n",
              "</html>"
            ]
          },
          "metadata": {}
        }
      ],
      "source": [
        "px.histogram(train_df, x='pH', title='pH Count', template='presentation')"
      ]
    },
    {
      "cell_type": "code",
      "execution_count": null,
      "metadata": {
        "colab": {
          "base_uri": "https://localhost:8080/",
          "height": 87
        },
        "id": "FUd4cChVWNoq",
        "outputId": "d3774ad3-b071-4c66-98dd-6c6c95415dfc"
      },
      "outputs": [
        {
          "output_type": "execute_result",
          "data": {
            "text/plain": [
              "'AAAAKAAALALLGEAPEVVDIWLPAGWRQPFRVFRLERKGDGVLVGMIKDAGDDPDVTHGAEIQAFVRFASEDRLEGGEGVGVVTKPGLGVPVGEPAINPVPRRMIWEAVREVTERPLAVTIAIPGGEELAKKTLNPRLGILGGLSVLGTTGVVKPYSTSAFRMSVVQAVGVARANGLLEIAATTGGKSERFAQRLLPHLPEMAFIEMGDFVGDVLRAARKVGVEVVRVVGMIGKISKMADGKTMTHAAGGEVNLSLLLSLLKEAGASPKALKEAEGAATARRFLEIALEEGLELFFVNLVRLAQEKLQAYIGERPFVSVALTDFDEGRCLAAWPDREVYR'"
            ],
            "application/vnd.google.colaboratory.intrinsic+json": {
              "type": "string"
            }
          },
          "metadata": {},
          "execution_count": 27
        }
      ],
      "source": [
        "train_df['protein_sequence'][0]"
      ]
    },
    {
      "cell_type": "code",
      "execution_count": null,
      "metadata": {
        "colab": {
          "base_uri": "https://localhost:8080/"
        },
        "id": "--TPyHLj8mw9",
        "outputId": "6d9b54fa-b524-40d4-ea30-9a965047f33b"
      },
      "outputs": [
        {
          "output_type": "execute_result",
          "data": {
            "text/plain": [
              "350"
            ]
          },
          "metadata": {},
          "execution_count": 28
        }
      ],
      "source": [
        "#check and remove duplicates\n",
        "train_df.duplicated(subset=['protein_sequence','pH','data_source']).sum()"
      ]
    },
    {
      "cell_type": "code",
      "execution_count": null,
      "metadata": {
        "id": "pwzyZLp8_c_L"
      },
      "outputs": [],
      "source": [
        "train_df.drop_duplicates(subset=['protein_sequence','pH','data_source'],inplace=True)"
      ]
    },
    {
      "cell_type": "code",
      "execution_count": null,
      "metadata": {
        "id": "TfBawXloYvKQ"
      },
      "outputs": [],
      "source": [
        "train_df = train_df.drop(['data_source'],axis=1)"
      ]
    },
    {
      "cell_type": "code",
      "execution_count": null,
      "metadata": {
        "colab": {
          "base_uri": "https://localhost:8080/"
        },
        "id": "xcmD7oAMmv37",
        "outputId": "67630524-4c2e-4a79-8fe1-446cc38f0cf7"
      },
      "outputs": [
        {
          "output_type": "execute_result",
          "data": {
            "text/plain": [
              "(28606, 4)"
            ]
          },
          "metadata": {},
          "execution_count": 31
        }
      ],
      "source": [
        "train_df.shape"
      ]
    },
    {
      "cell_type": "code",
      "execution_count": null,
      "metadata": {
        "colab": {
          "base_uri": "https://localhost:8080/",
          "height": 143
        },
        "id": "udOFOimUrR-L",
        "outputId": "b8b1d3b5-795d-4fd6-8b16-f955e6db4efc"
      },
      "outputs": [
        {
          "output_type": "execute_result",
          "data": {
            "text/plain": [
              "   seq_id                                   protein_sequence   pH    tm\n",
              "0     0.0  AAAAKAAALALLGEAPEVVDIWLPAGWRQPFRVFRLERKGDGVLVG...  7.0  75.7\n",
              "1     1.0  AAADGEPLHNEEERAGAGQVGRSLPQESEEQRTGSRPRRRRDLGSR...  7.0  50.5\n",
              "2     2.0  AAAFSTPRATSYRILSSAGSGSTRADAPQVRRLHTTRDLLAKDYYA...  7.0  40.5"
            ],
            "text/html": [
              "\n",
              "  <div id=\"df-4b933a19-1636-483b-a447-097904c2355a\">\n",
              "    <div class=\"colab-df-container\">\n",
              "      <div>\n",
              "<style scoped>\n",
              "    .dataframe tbody tr th:only-of-type {\n",
              "        vertical-align: middle;\n",
              "    }\n",
              "\n",
              "    .dataframe tbody tr th {\n",
              "        vertical-align: top;\n",
              "    }\n",
              "\n",
              "    .dataframe thead th {\n",
              "        text-align: right;\n",
              "    }\n",
              "</style>\n",
              "<table border=\"1\" class=\"dataframe\">\n",
              "  <thead>\n",
              "    <tr style=\"text-align: right;\">\n",
              "      <th></th>\n",
              "      <th>seq_id</th>\n",
              "      <th>protein_sequence</th>\n",
              "      <th>pH</th>\n",
              "      <th>tm</th>\n",
              "    </tr>\n",
              "  </thead>\n",
              "  <tbody>\n",
              "    <tr>\n",
              "      <th>0</th>\n",
              "      <td>0.0</td>\n",
              "      <td>AAAAKAAALALLGEAPEVVDIWLPAGWRQPFRVFRLERKGDGVLVG...</td>\n",
              "      <td>7.0</td>\n",
              "      <td>75.7</td>\n",
              "    </tr>\n",
              "    <tr>\n",
              "      <th>1</th>\n",
              "      <td>1.0</td>\n",
              "      <td>AAADGEPLHNEEERAGAGQVGRSLPQESEEQRTGSRPRRRRDLGSR...</td>\n",
              "      <td>7.0</td>\n",
              "      <td>50.5</td>\n",
              "    </tr>\n",
              "    <tr>\n",
              "      <th>2</th>\n",
              "      <td>2.0</td>\n",
              "      <td>AAAFSTPRATSYRILSSAGSGSTRADAPQVRRLHTTRDLLAKDYYA...</td>\n",
              "      <td>7.0</td>\n",
              "      <td>40.5</td>\n",
              "    </tr>\n",
              "  </tbody>\n",
              "</table>\n",
              "</div>\n",
              "      <button class=\"colab-df-convert\" onclick=\"convertToInteractive('df-4b933a19-1636-483b-a447-097904c2355a')\"\n",
              "              title=\"Convert this dataframe to an interactive table.\"\n",
              "              style=\"display:none;\">\n",
              "        \n",
              "  <svg xmlns=\"http://www.w3.org/2000/svg\" height=\"24px\"viewBox=\"0 0 24 24\"\n",
              "       width=\"24px\">\n",
              "    <path d=\"M0 0h24v24H0V0z\" fill=\"none\"/>\n",
              "    <path d=\"M18.56 5.44l.94 2.06.94-2.06 2.06-.94-2.06-.94-.94-2.06-.94 2.06-2.06.94zm-11 1L8.5 8.5l.94-2.06 2.06-.94-2.06-.94L8.5 2.5l-.94 2.06-2.06.94zm10 10l.94 2.06.94-2.06 2.06-.94-2.06-.94-.94-2.06-.94 2.06-2.06.94z\"/><path d=\"M17.41 7.96l-1.37-1.37c-.4-.4-.92-.59-1.43-.59-.52 0-1.04.2-1.43.59L10.3 9.45l-7.72 7.72c-.78.78-.78 2.05 0 2.83L4 21.41c.39.39.9.59 1.41.59.51 0 1.02-.2 1.41-.59l7.78-7.78 2.81-2.81c.8-.78.8-2.07 0-2.86zM5.41 20L4 18.59l7.72-7.72 1.47 1.35L5.41 20z\"/>\n",
              "  </svg>\n",
              "      </button>\n",
              "      \n",
              "  <style>\n",
              "    .colab-df-container {\n",
              "      display:flex;\n",
              "      flex-wrap:wrap;\n",
              "      gap: 12px;\n",
              "    }\n",
              "\n",
              "    .colab-df-convert {\n",
              "      background-color: #E8F0FE;\n",
              "      border: none;\n",
              "      border-radius: 50%;\n",
              "      cursor: pointer;\n",
              "      display: none;\n",
              "      fill: #1967D2;\n",
              "      height: 32px;\n",
              "      padding: 0 0 0 0;\n",
              "      width: 32px;\n",
              "    }\n",
              "\n",
              "    .colab-df-convert:hover {\n",
              "      background-color: #E2EBFA;\n",
              "      box-shadow: 0px 1px 2px rgba(60, 64, 67, 0.3), 0px 1px 3px 1px rgba(60, 64, 67, 0.15);\n",
              "      fill: #174EA6;\n",
              "    }\n",
              "\n",
              "    [theme=dark] .colab-df-convert {\n",
              "      background-color: #3B4455;\n",
              "      fill: #D2E3FC;\n",
              "    }\n",
              "\n",
              "    [theme=dark] .colab-df-convert:hover {\n",
              "      background-color: #434B5C;\n",
              "      box-shadow: 0px 1px 3px 1px rgba(0, 0, 0, 0.15);\n",
              "      filter: drop-shadow(0px 1px 2px rgba(0, 0, 0, 0.3));\n",
              "      fill: #FFFFFF;\n",
              "    }\n",
              "  </style>\n",
              "\n",
              "      <script>\n",
              "        const buttonEl =\n",
              "          document.querySelector('#df-4b933a19-1636-483b-a447-097904c2355a button.colab-df-convert');\n",
              "        buttonEl.style.display =\n",
              "          google.colab.kernel.accessAllowed ? 'block' : 'none';\n",
              "\n",
              "        async function convertToInteractive(key) {\n",
              "          const element = document.querySelector('#df-4b933a19-1636-483b-a447-097904c2355a');\n",
              "          const dataTable =\n",
              "            await google.colab.kernel.invokeFunction('convertToInteractive',\n",
              "                                                     [key], {});\n",
              "          if (!dataTable) return;\n",
              "\n",
              "          const docLinkHtml = 'Like what you see? Visit the ' +\n",
              "            '<a target=\"_blank\" href=https://colab.research.google.com/notebooks/data_table.ipynb>data table notebook</a>'\n",
              "            + ' to learn more about interactive tables.';\n",
              "          element.innerHTML = '';\n",
              "          dataTable['output_type'] = 'display_data';\n",
              "          await google.colab.output.renderOutput(dataTable, element);\n",
              "          const docLink = document.createElement('div');\n",
              "          docLink.innerHTML = docLinkHtml;\n",
              "          element.appendChild(docLink);\n",
              "        }\n",
              "      </script>\n",
              "    </div>\n",
              "  </div>\n",
              "  "
            ]
          },
          "metadata": {},
          "execution_count": 32
        }
      ],
      "source": [
        "train_df.head(3)"
      ]
    },
    {
      "cell_type": "code",
      "execution_count": null,
      "metadata": {
        "id": "0HHjwxO8CqY-",
        "colab": {
          "base_uri": "https://localhost:8080/"
        },
        "outputId": "d52e5c8a-b0da-4282-967e-659e48d39609"
      },
      "outputs": [
        {
          "output_type": "execute_result",
          "data": {
            "text/plain": [
              "L    1231815\n",
              "A     991500\n",
              "E     938883\n",
              "S     936806\n",
              "G     865000\n",
              "V     841697\n",
              "K     804514\n",
              "D     721148\n",
              "R     696066\n",
              "I     692793\n",
              "T     686305\n",
              "P     651993\n",
              "Q     566942\n",
              "N     547159\n",
              "F     487035\n",
              "Y     380580\n",
              "M     302394\n",
              "H     296074\n",
              "C     190103\n",
              "W     144002\n",
              "Name: protein_sequence, dtype: int64"
            ]
          },
          "metadata": {},
          "execution_count": 33
        }
      ],
      "source": [
        "amino_count = train_df['protein_sequence'].str.split('').explode('protein_sequence').value_counts().drop('')\n",
        "amino_count"
      ]
    },
    {
      "cell_type": "code",
      "source": [
        "fig = px.bar(amino_count, x=amino_count.index, y='protein_sequence', color=amino_count.index)\n",
        "fig.update_layout(\n",
        "    title='Amino Acid Count',\n",
        "    height=600,\n",
        "    template='ggplot2'\n",
        ")\n",
        "fig.show()"
      ],
      "metadata": {
        "colab": {
          "base_uri": "https://localhost:8080/",
          "height": 617
        },
        "id": "EzC8D5pXK4BT",
        "outputId": "6374962e-44c6-4075-ca30-df24baa62553"
      },
      "execution_count": null,
      "outputs": [
        {
          "output_type": "display_data",
          "data": {
            "text/html": [
              "<html>\n",
              "<head><meta charset=\"utf-8\" /></head>\n",
              "<body>\n",
              "    <div>            <script src=\"https://cdnjs.cloudflare.com/ajax/libs/mathjax/2.7.5/MathJax.js?config=TeX-AMS-MML_SVG\"></script><script type=\"text/javascript\">if (window.MathJax && window.MathJax.Hub && window.MathJax.Hub.Config) {window.MathJax.Hub.Config({SVG: {font: \"STIX-Web\"}});}</script>                <script type=\"text/javascript\">window.PlotlyConfig = {MathJaxConfig: 'local'};</script>\n",
              "        <script src=\"https://cdn.plot.ly/plotly-2.18.2.min.js\"></script>                <div id=\"635ba7fe-e4f8-49fa-97db-d65784b4697a\" class=\"plotly-graph-div\" style=\"height:600px; width:100%;\"></div>            <script type=\"text/javascript\">                                    window.PLOTLYENV=window.PLOTLYENV || {};                                    if (document.getElementById(\"635ba7fe-e4f8-49fa-97db-d65784b4697a\")) {                    Plotly.newPlot(                        \"635ba7fe-e4f8-49fa-97db-d65784b4697a\",                        [{\"alignmentgroup\":\"True\",\"hovertemplate\":\"index=%{x}<br>protein_sequence=%{y}<extra></extra>\",\"legendgroup\":\"L\",\"marker\":{\"color\":\"#636efa\",\"pattern\":{\"shape\":\"\"}},\"name\":\"L\",\"offsetgroup\":\"L\",\"orientation\":\"v\",\"showlegend\":true,\"textposition\":\"auto\",\"x\":[\"L\"],\"xaxis\":\"x\",\"y\":[1231815],\"yaxis\":\"y\",\"type\":\"bar\"},{\"alignmentgroup\":\"True\",\"hovertemplate\":\"index=%{x}<br>protein_sequence=%{y}<extra></extra>\",\"legendgroup\":\"A\",\"marker\":{\"color\":\"#EF553B\",\"pattern\":{\"shape\":\"\"}},\"name\":\"A\",\"offsetgroup\":\"A\",\"orientation\":\"v\",\"showlegend\":true,\"textposition\":\"auto\",\"x\":[\"A\"],\"xaxis\":\"x\",\"y\":[991500],\"yaxis\":\"y\",\"type\":\"bar\"},{\"alignmentgroup\":\"True\",\"hovertemplate\":\"index=%{x}<br>protein_sequence=%{y}<extra></extra>\",\"legendgroup\":\"E\",\"marker\":{\"color\":\"#00cc96\",\"pattern\":{\"shape\":\"\"}},\"name\":\"E\",\"offsetgroup\":\"E\",\"orientation\":\"v\",\"showlegend\":true,\"textposition\":\"auto\",\"x\":[\"E\"],\"xaxis\":\"x\",\"y\":[938883],\"yaxis\":\"y\",\"type\":\"bar\"},{\"alignmentgroup\":\"True\",\"hovertemplate\":\"index=%{x}<br>protein_sequence=%{y}<extra></extra>\",\"legendgroup\":\"S\",\"marker\":{\"color\":\"#ab63fa\",\"pattern\":{\"shape\":\"\"}},\"name\":\"S\",\"offsetgroup\":\"S\",\"orientation\":\"v\",\"showlegend\":true,\"textposition\":\"auto\",\"x\":[\"S\"],\"xaxis\":\"x\",\"y\":[936806],\"yaxis\":\"y\",\"type\":\"bar\"},{\"alignmentgroup\":\"True\",\"hovertemplate\":\"index=%{x}<br>protein_sequence=%{y}<extra></extra>\",\"legendgroup\":\"G\",\"marker\":{\"color\":\"#FFA15A\",\"pattern\":{\"shape\":\"\"}},\"name\":\"G\",\"offsetgroup\":\"G\",\"orientation\":\"v\",\"showlegend\":true,\"textposition\":\"auto\",\"x\":[\"G\"],\"xaxis\":\"x\",\"y\":[865000],\"yaxis\":\"y\",\"type\":\"bar\"},{\"alignmentgroup\":\"True\",\"hovertemplate\":\"index=%{x}<br>protein_sequence=%{y}<extra></extra>\",\"legendgroup\":\"V\",\"marker\":{\"color\":\"#19d3f3\",\"pattern\":{\"shape\":\"\"}},\"name\":\"V\",\"offsetgroup\":\"V\",\"orientation\":\"v\",\"showlegend\":true,\"textposition\":\"auto\",\"x\":[\"V\"],\"xaxis\":\"x\",\"y\":[841697],\"yaxis\":\"y\",\"type\":\"bar\"},{\"alignmentgroup\":\"True\",\"hovertemplate\":\"index=%{x}<br>protein_sequence=%{y}<extra></extra>\",\"legendgroup\":\"K\",\"marker\":{\"color\":\"#FF6692\",\"pattern\":{\"shape\":\"\"}},\"name\":\"K\",\"offsetgroup\":\"K\",\"orientation\":\"v\",\"showlegend\":true,\"textposition\":\"auto\",\"x\":[\"K\"],\"xaxis\":\"x\",\"y\":[804514],\"yaxis\":\"y\",\"type\":\"bar\"},{\"alignmentgroup\":\"True\",\"hovertemplate\":\"index=%{x}<br>protein_sequence=%{y}<extra></extra>\",\"legendgroup\":\"D\",\"marker\":{\"color\":\"#B6E880\",\"pattern\":{\"shape\":\"\"}},\"name\":\"D\",\"offsetgroup\":\"D\",\"orientation\":\"v\",\"showlegend\":true,\"textposition\":\"auto\",\"x\":[\"D\"],\"xaxis\":\"x\",\"y\":[721148],\"yaxis\":\"y\",\"type\":\"bar\"},{\"alignmentgroup\":\"True\",\"hovertemplate\":\"index=%{x}<br>protein_sequence=%{y}<extra></extra>\",\"legendgroup\":\"R\",\"marker\":{\"color\":\"#FF97FF\",\"pattern\":{\"shape\":\"\"}},\"name\":\"R\",\"offsetgroup\":\"R\",\"orientation\":\"v\",\"showlegend\":true,\"textposition\":\"auto\",\"x\":[\"R\"],\"xaxis\":\"x\",\"y\":[696066],\"yaxis\":\"y\",\"type\":\"bar\"},{\"alignmentgroup\":\"True\",\"hovertemplate\":\"index=%{x}<br>protein_sequence=%{y}<extra></extra>\",\"legendgroup\":\"I\",\"marker\":{\"color\":\"#FECB52\",\"pattern\":{\"shape\":\"\"}},\"name\":\"I\",\"offsetgroup\":\"I\",\"orientation\":\"v\",\"showlegend\":true,\"textposition\":\"auto\",\"x\":[\"I\"],\"xaxis\":\"x\",\"y\":[692793],\"yaxis\":\"y\",\"type\":\"bar\"},{\"alignmentgroup\":\"True\",\"hovertemplate\":\"index=%{x}<br>protein_sequence=%{y}<extra></extra>\",\"legendgroup\":\"T\",\"marker\":{\"color\":\"#636efa\",\"pattern\":{\"shape\":\"\"}},\"name\":\"T\",\"offsetgroup\":\"T\",\"orientation\":\"v\",\"showlegend\":true,\"textposition\":\"auto\",\"x\":[\"T\"],\"xaxis\":\"x\",\"y\":[686305],\"yaxis\":\"y\",\"type\":\"bar\"},{\"alignmentgroup\":\"True\",\"hovertemplate\":\"index=%{x}<br>protein_sequence=%{y}<extra></extra>\",\"legendgroup\":\"P\",\"marker\":{\"color\":\"#EF553B\",\"pattern\":{\"shape\":\"\"}},\"name\":\"P\",\"offsetgroup\":\"P\",\"orientation\":\"v\",\"showlegend\":true,\"textposition\":\"auto\",\"x\":[\"P\"],\"xaxis\":\"x\",\"y\":[651993],\"yaxis\":\"y\",\"type\":\"bar\"},{\"alignmentgroup\":\"True\",\"hovertemplate\":\"index=%{x}<br>protein_sequence=%{y}<extra></extra>\",\"legendgroup\":\"Q\",\"marker\":{\"color\":\"#00cc96\",\"pattern\":{\"shape\":\"\"}},\"name\":\"Q\",\"offsetgroup\":\"Q\",\"orientation\":\"v\",\"showlegend\":true,\"textposition\":\"auto\",\"x\":[\"Q\"],\"xaxis\":\"x\",\"y\":[566942],\"yaxis\":\"y\",\"type\":\"bar\"},{\"alignmentgroup\":\"True\",\"hovertemplate\":\"index=%{x}<br>protein_sequence=%{y}<extra></extra>\",\"legendgroup\":\"N\",\"marker\":{\"color\":\"#ab63fa\",\"pattern\":{\"shape\":\"\"}},\"name\":\"N\",\"offsetgroup\":\"N\",\"orientation\":\"v\",\"showlegend\":true,\"textposition\":\"auto\",\"x\":[\"N\"],\"xaxis\":\"x\",\"y\":[547159],\"yaxis\":\"y\",\"type\":\"bar\"},{\"alignmentgroup\":\"True\",\"hovertemplate\":\"index=%{x}<br>protein_sequence=%{y}<extra></extra>\",\"legendgroup\":\"F\",\"marker\":{\"color\":\"#FFA15A\",\"pattern\":{\"shape\":\"\"}},\"name\":\"F\",\"offsetgroup\":\"F\",\"orientation\":\"v\",\"showlegend\":true,\"textposition\":\"auto\",\"x\":[\"F\"],\"xaxis\":\"x\",\"y\":[487035],\"yaxis\":\"y\",\"type\":\"bar\"},{\"alignmentgroup\":\"True\",\"hovertemplate\":\"index=%{x}<br>protein_sequence=%{y}<extra></extra>\",\"legendgroup\":\"Y\",\"marker\":{\"color\":\"#19d3f3\",\"pattern\":{\"shape\":\"\"}},\"name\":\"Y\",\"offsetgroup\":\"Y\",\"orientation\":\"v\",\"showlegend\":true,\"textposition\":\"auto\",\"x\":[\"Y\"],\"xaxis\":\"x\",\"y\":[380580],\"yaxis\":\"y\",\"type\":\"bar\"},{\"alignmentgroup\":\"True\",\"hovertemplate\":\"index=%{x}<br>protein_sequence=%{y}<extra></extra>\",\"legendgroup\":\"M\",\"marker\":{\"color\":\"#FF6692\",\"pattern\":{\"shape\":\"\"}},\"name\":\"M\",\"offsetgroup\":\"M\",\"orientation\":\"v\",\"showlegend\":true,\"textposition\":\"auto\",\"x\":[\"M\"],\"xaxis\":\"x\",\"y\":[302394],\"yaxis\":\"y\",\"type\":\"bar\"},{\"alignmentgroup\":\"True\",\"hovertemplate\":\"index=%{x}<br>protein_sequence=%{y}<extra></extra>\",\"legendgroup\":\"H\",\"marker\":{\"color\":\"#B6E880\",\"pattern\":{\"shape\":\"\"}},\"name\":\"H\",\"offsetgroup\":\"H\",\"orientation\":\"v\",\"showlegend\":true,\"textposition\":\"auto\",\"x\":[\"H\"],\"xaxis\":\"x\",\"y\":[296074],\"yaxis\":\"y\",\"type\":\"bar\"},{\"alignmentgroup\":\"True\",\"hovertemplate\":\"index=%{x}<br>protein_sequence=%{y}<extra></extra>\",\"legendgroup\":\"C\",\"marker\":{\"color\":\"#FF97FF\",\"pattern\":{\"shape\":\"\"}},\"name\":\"C\",\"offsetgroup\":\"C\",\"orientation\":\"v\",\"showlegend\":true,\"textposition\":\"auto\",\"x\":[\"C\"],\"xaxis\":\"x\",\"y\":[190103],\"yaxis\":\"y\",\"type\":\"bar\"},{\"alignmentgroup\":\"True\",\"hovertemplate\":\"index=%{x}<br>protein_sequence=%{y}<extra></extra>\",\"legendgroup\":\"W\",\"marker\":{\"color\":\"#FECB52\",\"pattern\":{\"shape\":\"\"}},\"name\":\"W\",\"offsetgroup\":\"W\",\"orientation\":\"v\",\"showlegend\":true,\"textposition\":\"auto\",\"x\":[\"W\"],\"xaxis\":\"x\",\"y\":[144002],\"yaxis\":\"y\",\"type\":\"bar\"}],                        {\"template\":{\"data\":{\"barpolar\":[{\"marker\":{\"line\":{\"color\":\"rgb(237,237,237)\",\"width\":0.5},\"pattern\":{\"fillmode\":\"overlay\",\"size\":10,\"solidity\":0.2}},\"type\":\"barpolar\"}],\"bar\":[{\"error_x\":{\"color\":\"rgb(51,51,51)\"},\"error_y\":{\"color\":\"rgb(51,51,51)\"},\"marker\":{\"line\":{\"color\":\"rgb(237,237,237)\",\"width\":0.5},\"pattern\":{\"fillmode\":\"overlay\",\"size\":10,\"solidity\":0.2}},\"type\":\"bar\"}],\"carpet\":[{\"aaxis\":{\"endlinecolor\":\"rgb(51,51,51)\",\"gridcolor\":\"white\",\"linecolor\":\"white\",\"minorgridcolor\":\"white\",\"startlinecolor\":\"rgb(51,51,51)\"},\"baxis\":{\"endlinecolor\":\"rgb(51,51,51)\",\"gridcolor\":\"white\",\"linecolor\":\"white\",\"minorgridcolor\":\"white\",\"startlinecolor\":\"rgb(51,51,51)\"},\"type\":\"carpet\"}],\"choropleth\":[{\"colorbar\":{\"outlinewidth\":0,\"tickcolor\":\"rgb(237,237,237)\",\"ticklen\":6,\"ticks\":\"inside\"},\"type\":\"choropleth\"}],\"contourcarpet\":[{\"colorbar\":{\"outlinewidth\":0,\"tickcolor\":\"rgb(237,237,237)\",\"ticklen\":6,\"ticks\":\"inside\"},\"type\":\"contourcarpet\"}],\"contour\":[{\"colorbar\":{\"outlinewidth\":0,\"tickcolor\":\"rgb(237,237,237)\",\"ticklen\":6,\"ticks\":\"inside\"},\"colorscale\":[[0,\"rgb(20,44,66)\"],[1,\"rgb(90,179,244)\"]],\"type\":\"contour\"}],\"heatmapgl\":[{\"colorbar\":{\"outlinewidth\":0,\"tickcolor\":\"rgb(237,237,237)\",\"ticklen\":6,\"ticks\":\"inside\"},\"colorscale\":[[0,\"rgb(20,44,66)\"],[1,\"rgb(90,179,244)\"]],\"type\":\"heatmapgl\"}],\"heatmap\":[{\"colorbar\":{\"outlinewidth\":0,\"tickcolor\":\"rgb(237,237,237)\",\"ticklen\":6,\"ticks\":\"inside\"},\"colorscale\":[[0,\"rgb(20,44,66)\"],[1,\"rgb(90,179,244)\"]],\"type\":\"heatmap\"}],\"histogram2dcontour\":[{\"colorbar\":{\"outlinewidth\":0,\"tickcolor\":\"rgb(237,237,237)\",\"ticklen\":6,\"ticks\":\"inside\"},\"colorscale\":[[0,\"rgb(20,44,66)\"],[1,\"rgb(90,179,244)\"]],\"type\":\"histogram2dcontour\"}],\"histogram2d\":[{\"colorbar\":{\"outlinewidth\":0,\"tickcolor\":\"rgb(237,237,237)\",\"ticklen\":6,\"ticks\":\"inside\"},\"colorscale\":[[0,\"rgb(20,44,66)\"],[1,\"rgb(90,179,244)\"]],\"type\":\"histogram2d\"}],\"histogram\":[{\"marker\":{\"pattern\":{\"fillmode\":\"overlay\",\"size\":10,\"solidity\":0.2}},\"type\":\"histogram\"}],\"mesh3d\":[{\"colorbar\":{\"outlinewidth\":0,\"tickcolor\":\"rgb(237,237,237)\",\"ticklen\":6,\"ticks\":\"inside\"},\"type\":\"mesh3d\"}],\"parcoords\":[{\"line\":{\"colorbar\":{\"outlinewidth\":0,\"tickcolor\":\"rgb(237,237,237)\",\"ticklen\":6,\"ticks\":\"inside\"}},\"type\":\"parcoords\"}],\"pie\":[{\"automargin\":true,\"type\":\"pie\"}],\"scatter3d\":[{\"line\":{\"colorbar\":{\"outlinewidth\":0,\"tickcolor\":\"rgb(237,237,237)\",\"ticklen\":6,\"ticks\":\"inside\"}},\"marker\":{\"colorbar\":{\"outlinewidth\":0,\"tickcolor\":\"rgb(237,237,237)\",\"ticklen\":6,\"ticks\":\"inside\"}},\"type\":\"scatter3d\"}],\"scattercarpet\":[{\"marker\":{\"colorbar\":{\"outlinewidth\":0,\"tickcolor\":\"rgb(237,237,237)\",\"ticklen\":6,\"ticks\":\"inside\"}},\"type\":\"scattercarpet\"}],\"scattergeo\":[{\"marker\":{\"colorbar\":{\"outlinewidth\":0,\"tickcolor\":\"rgb(237,237,237)\",\"ticklen\":6,\"ticks\":\"inside\"}},\"type\":\"scattergeo\"}],\"scattergl\":[{\"marker\":{\"colorbar\":{\"outlinewidth\":0,\"tickcolor\":\"rgb(237,237,237)\",\"ticklen\":6,\"ticks\":\"inside\"}},\"type\":\"scattergl\"}],\"scattermapbox\":[{\"marker\":{\"colorbar\":{\"outlinewidth\":0,\"tickcolor\":\"rgb(237,237,237)\",\"ticklen\":6,\"ticks\":\"inside\"}},\"type\":\"scattermapbox\"}],\"scatterpolargl\":[{\"marker\":{\"colorbar\":{\"outlinewidth\":0,\"tickcolor\":\"rgb(237,237,237)\",\"ticklen\":6,\"ticks\":\"inside\"}},\"type\":\"scatterpolargl\"}],\"scatterpolar\":[{\"marker\":{\"colorbar\":{\"outlinewidth\":0,\"tickcolor\":\"rgb(237,237,237)\",\"ticklen\":6,\"ticks\":\"inside\"}},\"type\":\"scatterpolar\"}],\"scatter\":[{\"fillpattern\":{\"fillmode\":\"overlay\",\"size\":10,\"solidity\":0.2},\"type\":\"scatter\"}],\"scatterternary\":[{\"marker\":{\"colorbar\":{\"outlinewidth\":0,\"tickcolor\":\"rgb(237,237,237)\",\"ticklen\":6,\"ticks\":\"inside\"}},\"type\":\"scatterternary\"}],\"surface\":[{\"colorbar\":{\"outlinewidth\":0,\"tickcolor\":\"rgb(237,237,237)\",\"ticklen\":6,\"ticks\":\"inside\"},\"colorscale\":[[0,\"rgb(20,44,66)\"],[1,\"rgb(90,179,244)\"]],\"type\":\"surface\"}],\"table\":[{\"cells\":{\"fill\":{\"color\":\"rgb(237,237,237)\"},\"line\":{\"color\":\"white\"}},\"header\":{\"fill\":{\"color\":\"rgb(217,217,217)\"},\"line\":{\"color\":\"white\"}},\"type\":\"table\"}]},\"layout\":{\"annotationdefaults\":{\"arrowhead\":0,\"arrowwidth\":1},\"autotypenumbers\":\"strict\",\"coloraxis\":{\"colorbar\":{\"outlinewidth\":0,\"tickcolor\":\"rgb(237,237,237)\",\"ticklen\":6,\"ticks\":\"inside\"}},\"colorscale\":{\"sequential\":[[0,\"rgb(20,44,66)\"],[1,\"rgb(90,179,244)\"]],\"sequentialminus\":[[0,\"rgb(20,44,66)\"],[1,\"rgb(90,179,244)\"]]},\"colorway\":[\"#F8766D\",\"#A3A500\",\"#00BF7D\",\"#00B0F6\",\"#E76BF3\"],\"font\":{\"color\":\"rgb(51,51,51)\"},\"geo\":{\"bgcolor\":\"white\",\"lakecolor\":\"white\",\"landcolor\":\"rgb(237,237,237)\",\"showlakes\":true,\"showland\":true,\"subunitcolor\":\"white\"},\"hoverlabel\":{\"align\":\"left\"},\"hovermode\":\"closest\",\"paper_bgcolor\":\"white\",\"plot_bgcolor\":\"rgb(237,237,237)\",\"polar\":{\"angularaxis\":{\"gridcolor\":\"white\",\"linecolor\":\"white\",\"showgrid\":true,\"tickcolor\":\"rgb(51,51,51)\",\"ticks\":\"outside\"},\"bgcolor\":\"rgb(237,237,237)\",\"radialaxis\":{\"gridcolor\":\"white\",\"linecolor\":\"white\",\"showgrid\":true,\"tickcolor\":\"rgb(51,51,51)\",\"ticks\":\"outside\"}},\"scene\":{\"xaxis\":{\"backgroundcolor\":\"rgb(237,237,237)\",\"gridcolor\":\"white\",\"gridwidth\":2,\"linecolor\":\"white\",\"showbackground\":true,\"showgrid\":true,\"tickcolor\":\"rgb(51,51,51)\",\"ticks\":\"outside\",\"zerolinecolor\":\"white\"},\"yaxis\":{\"backgroundcolor\":\"rgb(237,237,237)\",\"gridcolor\":\"white\",\"gridwidth\":2,\"linecolor\":\"white\",\"showbackground\":true,\"showgrid\":true,\"tickcolor\":\"rgb(51,51,51)\",\"ticks\":\"outside\",\"zerolinecolor\":\"white\"},\"zaxis\":{\"backgroundcolor\":\"rgb(237,237,237)\",\"gridcolor\":\"white\",\"gridwidth\":2,\"linecolor\":\"white\",\"showbackground\":true,\"showgrid\":true,\"tickcolor\":\"rgb(51,51,51)\",\"ticks\":\"outside\",\"zerolinecolor\":\"white\"}},\"shapedefaults\":{\"fillcolor\":\"black\",\"line\":{\"width\":0},\"opacity\":0.3},\"ternary\":{\"aaxis\":{\"gridcolor\":\"white\",\"linecolor\":\"white\",\"showgrid\":true,\"tickcolor\":\"rgb(51,51,51)\",\"ticks\":\"outside\"},\"baxis\":{\"gridcolor\":\"white\",\"linecolor\":\"white\",\"showgrid\":true,\"tickcolor\":\"rgb(51,51,51)\",\"ticks\":\"outside\"},\"bgcolor\":\"rgb(237,237,237)\",\"caxis\":{\"gridcolor\":\"white\",\"linecolor\":\"white\",\"showgrid\":true,\"tickcolor\":\"rgb(51,51,51)\",\"ticks\":\"outside\"}},\"xaxis\":{\"automargin\":true,\"gridcolor\":\"white\",\"linecolor\":\"white\",\"showgrid\":true,\"tickcolor\":\"rgb(51,51,51)\",\"ticks\":\"outside\",\"title\":{\"standoff\":15},\"zerolinecolor\":\"white\"},\"yaxis\":{\"automargin\":true,\"gridcolor\":\"white\",\"linecolor\":\"white\",\"showgrid\":true,\"tickcolor\":\"rgb(51,51,51)\",\"ticks\":\"outside\",\"title\":{\"standoff\":15},\"zerolinecolor\":\"white\"}}},\"xaxis\":{\"anchor\":\"y\",\"domain\":[0.0,1.0],\"title\":{\"text\":\"index\"},\"categoryorder\":\"array\",\"categoryarray\":[\"L\",\"A\",\"E\",\"S\",\"G\",\"V\",\"K\",\"D\",\"R\",\"I\",\"T\",\"P\",\"Q\",\"N\",\"F\",\"Y\",\"M\",\"H\",\"C\",\"W\"]},\"yaxis\":{\"anchor\":\"x\",\"domain\":[0.0,1.0],\"title\":{\"text\":\"protein_sequence\"}},\"legend\":{\"title\":{\"text\":\"index\"},\"tracegroupgap\":0},\"margin\":{\"t\":60},\"barmode\":\"relative\",\"title\":{\"text\":\"Amino Acid Count\"},\"height\":600},                        {\"responsive\": true}                    ).then(function(){\n",
              "                            \n",
              "var gd = document.getElementById('635ba7fe-e4f8-49fa-97db-d65784b4697a');\n",
              "var x = new MutationObserver(function (mutations, observer) {{\n",
              "        var display = window.getComputedStyle(gd).display;\n",
              "        if (!display || display === 'none') {{\n",
              "            console.log([gd, 'removed!']);\n",
              "            Plotly.purge(gd);\n",
              "            observer.disconnect();\n",
              "        }}\n",
              "}});\n",
              "\n",
              "// Listen for the removal of the full notebook cells\n",
              "var notebookContainer = gd.closest('#notebook-container');\n",
              "if (notebookContainer) {{\n",
              "    x.observe(notebookContainer, {childList: true});\n",
              "}}\n",
              "\n",
              "// Listen for the clearing of the current output cell\n",
              "var outputEl = gd.closest('.output');\n",
              "if (outputEl) {{\n",
              "    x.observe(outputEl, {childList: true});\n",
              "}}\n",
              "\n",
              "                        })                };                            </script>        </div>\n",
              "</body>\n",
              "</html>"
            ]
          },
          "metadata": {}
        }
      ]
    },
    {
      "cell_type": "markdown",
      "metadata": {
        "id": "S_3ioANYpkOp"
      },
      "source": [
        "## Hand Engineering\n"
      ]
    },
    {
      "cell_type": "code",
      "execution_count": null,
      "metadata": {
        "id": "DWA0huhwpcBA"
      },
      "outputs": [],
      "source": [
        "# Protein Sequence Length as a column\n",
        "train_df[\"protein_length\"] = train_df[\"protein_sequence\"].apply(lambda x: len(x))"
      ]
    },
    {
      "cell_type": "code",
      "execution_count": null,
      "metadata": {
        "id": "m8RRmqz1qbsM",
        "colab": {
          "base_uri": "https://localhost:8080/",
          "height": 143
        },
        "outputId": "aafb52fd-6a86-44b6-b837-48714e712ecf"
      },
      "outputs": [
        {
          "output_type": "execute_result",
          "data": {
            "text/plain": [
              "   seq_id                                   protein_sequence   pH    tm  \\\n",
              "0     0.0  AAAAKAAALALLGEAPEVVDIWLPAGWRQPFRVFRLERKGDGVLVG...  7.0  75.7   \n",
              "1     1.0  AAADGEPLHNEEERAGAGQVGRSLPQESEEQRTGSRPRRRRDLGSR...  7.0  50.5   \n",
              "2     2.0  AAAFSTPRATSYRILSSAGSGSTRADAPQVRRLHTTRDLLAKDYYA...  7.0  40.5   \n",
              "\n",
              "   protein_length  \n",
              "0             341  \n",
              "1             286  \n",
              "2             497  "
            ],
            "text/html": [
              "\n",
              "  <div id=\"df-806f67c0-f3ad-4979-8060-950a0fbd7183\">\n",
              "    <div class=\"colab-df-container\">\n",
              "      <div>\n",
              "<style scoped>\n",
              "    .dataframe tbody tr th:only-of-type {\n",
              "        vertical-align: middle;\n",
              "    }\n",
              "\n",
              "    .dataframe tbody tr th {\n",
              "        vertical-align: top;\n",
              "    }\n",
              "\n",
              "    .dataframe thead th {\n",
              "        text-align: right;\n",
              "    }\n",
              "</style>\n",
              "<table border=\"1\" class=\"dataframe\">\n",
              "  <thead>\n",
              "    <tr style=\"text-align: right;\">\n",
              "      <th></th>\n",
              "      <th>seq_id</th>\n",
              "      <th>protein_sequence</th>\n",
              "      <th>pH</th>\n",
              "      <th>tm</th>\n",
              "      <th>protein_length</th>\n",
              "    </tr>\n",
              "  </thead>\n",
              "  <tbody>\n",
              "    <tr>\n",
              "      <th>0</th>\n",
              "      <td>0.0</td>\n",
              "      <td>AAAAKAAALALLGEAPEVVDIWLPAGWRQPFRVFRLERKGDGVLVG...</td>\n",
              "      <td>7.0</td>\n",
              "      <td>75.7</td>\n",
              "      <td>341</td>\n",
              "    </tr>\n",
              "    <tr>\n",
              "      <th>1</th>\n",
              "      <td>1.0</td>\n",
              "      <td>AAADGEPLHNEEERAGAGQVGRSLPQESEEQRTGSRPRRRRDLGSR...</td>\n",
              "      <td>7.0</td>\n",
              "      <td>50.5</td>\n",
              "      <td>286</td>\n",
              "    </tr>\n",
              "    <tr>\n",
              "      <th>2</th>\n",
              "      <td>2.0</td>\n",
              "      <td>AAAFSTPRATSYRILSSAGSGSTRADAPQVRRLHTTRDLLAKDYYA...</td>\n",
              "      <td>7.0</td>\n",
              "      <td>40.5</td>\n",
              "      <td>497</td>\n",
              "    </tr>\n",
              "  </tbody>\n",
              "</table>\n",
              "</div>\n",
              "      <button class=\"colab-df-convert\" onclick=\"convertToInteractive('df-806f67c0-f3ad-4979-8060-950a0fbd7183')\"\n",
              "              title=\"Convert this dataframe to an interactive table.\"\n",
              "              style=\"display:none;\">\n",
              "        \n",
              "  <svg xmlns=\"http://www.w3.org/2000/svg\" height=\"24px\"viewBox=\"0 0 24 24\"\n",
              "       width=\"24px\">\n",
              "    <path d=\"M0 0h24v24H0V0z\" fill=\"none\"/>\n",
              "    <path d=\"M18.56 5.44l.94 2.06.94-2.06 2.06-.94-2.06-.94-.94-2.06-.94 2.06-2.06.94zm-11 1L8.5 8.5l.94-2.06 2.06-.94-2.06-.94L8.5 2.5l-.94 2.06-2.06.94zm10 10l.94 2.06.94-2.06 2.06-.94-2.06-.94-.94-2.06-.94 2.06-2.06.94z\"/><path d=\"M17.41 7.96l-1.37-1.37c-.4-.4-.92-.59-1.43-.59-.52 0-1.04.2-1.43.59L10.3 9.45l-7.72 7.72c-.78.78-.78 2.05 0 2.83L4 21.41c.39.39.9.59 1.41.59.51 0 1.02-.2 1.41-.59l7.78-7.78 2.81-2.81c.8-.78.8-2.07 0-2.86zM5.41 20L4 18.59l7.72-7.72 1.47 1.35L5.41 20z\"/>\n",
              "  </svg>\n",
              "      </button>\n",
              "      \n",
              "  <style>\n",
              "    .colab-df-container {\n",
              "      display:flex;\n",
              "      flex-wrap:wrap;\n",
              "      gap: 12px;\n",
              "    }\n",
              "\n",
              "    .colab-df-convert {\n",
              "      background-color: #E8F0FE;\n",
              "      border: none;\n",
              "      border-radius: 50%;\n",
              "      cursor: pointer;\n",
              "      display: none;\n",
              "      fill: #1967D2;\n",
              "      height: 32px;\n",
              "      padding: 0 0 0 0;\n",
              "      width: 32px;\n",
              "    }\n",
              "\n",
              "    .colab-df-convert:hover {\n",
              "      background-color: #E2EBFA;\n",
              "      box-shadow: 0px 1px 2px rgba(60, 64, 67, 0.3), 0px 1px 3px 1px rgba(60, 64, 67, 0.15);\n",
              "      fill: #174EA6;\n",
              "    }\n",
              "\n",
              "    [theme=dark] .colab-df-convert {\n",
              "      background-color: #3B4455;\n",
              "      fill: #D2E3FC;\n",
              "    }\n",
              "\n",
              "    [theme=dark] .colab-df-convert:hover {\n",
              "      background-color: #434B5C;\n",
              "      box-shadow: 0px 1px 3px 1px rgba(0, 0, 0, 0.15);\n",
              "      filter: drop-shadow(0px 1px 2px rgba(0, 0, 0, 0.3));\n",
              "      fill: #FFFFFF;\n",
              "    }\n",
              "  </style>\n",
              "\n",
              "      <script>\n",
              "        const buttonEl =\n",
              "          document.querySelector('#df-806f67c0-f3ad-4979-8060-950a0fbd7183 button.colab-df-convert');\n",
              "        buttonEl.style.display =\n",
              "          google.colab.kernel.accessAllowed ? 'block' : 'none';\n",
              "\n",
              "        async function convertToInteractive(key) {\n",
              "          const element = document.querySelector('#df-806f67c0-f3ad-4979-8060-950a0fbd7183');\n",
              "          const dataTable =\n",
              "            await google.colab.kernel.invokeFunction('convertToInteractive',\n",
              "                                                     [key], {});\n",
              "          if (!dataTable) return;\n",
              "\n",
              "          const docLinkHtml = 'Like what you see? Visit the ' +\n",
              "            '<a target=\"_blank\" href=https://colab.research.google.com/notebooks/data_table.ipynb>data table notebook</a>'\n",
              "            + ' to learn more about interactive tables.';\n",
              "          element.innerHTML = '';\n",
              "          dataTable['output_type'] = 'display_data';\n",
              "          await google.colab.output.renderOutput(dataTable, element);\n",
              "          const docLink = document.createElement('div');\n",
              "          docLink.innerHTML = docLinkHtml;\n",
              "          element.appendChild(docLink);\n",
              "        }\n",
              "      </script>\n",
              "    </div>\n",
              "  </div>\n",
              "  "
            ]
          },
          "metadata": {},
          "execution_count": 36
        }
      ],
      "source": [
        "train_df.head(3)"
      ]
    },
    {
      "cell_type": "code",
      "execution_count": null,
      "metadata": {
        "id": "U7Ww1ARRqnYA"
      },
      "outputs": [],
      "source": [
        "def return_amino_acid_df(df):\n",
        "  # Feature Engineering on Train Data\n",
        "  amino_acids=['A', 'C', 'D', 'E', 'F', 'G', 'H', 'I', 'K', 'L', 'M', 'N', 'P', 'Q', 'R', 'S', 'T', 'V', 'W', 'Y']\n",
        "  for amino_acid in amino_acids:\n",
        "    df[amino_acid]=df['protein_sequence'].str.count(amino_acid,re.I)/df['protein_length']\n",
        "    #df[amino_acid]=df['protein_sequence'].str.count(amino_acid,re.I)\n",
        "  return df"
      ]
    },
    {
      "cell_type": "code",
      "execution_count": null,
      "metadata": {
        "id": "f87MqD-ouonN"
      },
      "outputs": [],
      "source": [
        "train_df = return_amino_acid_df(train_df)"
      ]
    },
    {
      "cell_type": "code",
      "execution_count": null,
      "metadata": {
        "colab": {
          "base_uri": "https://localhost:8080/",
          "height": 299
        },
        "id": "zrZOabf5utjz",
        "outputId": "0011e867-a62a-44ff-e0b2-020c2a0fc4c5"
      },
      "outputs": [
        {
          "output_type": "execute_result",
          "data": {
            "text/plain": [
              "   seq_id                                   protein_sequence   pH    tm  \\\n",
              "0     0.0  AAAAKAAALALLGEAPEVVDIWLPAGWRQPFRVFRLERKGDGVLVG...  7.0  75.7   \n",
              "1     1.0  AAADGEPLHNEEERAGAGQVGRSLPQESEEQRTGSRPRRRRDLGSR...  7.0  50.5   \n",
              "2     2.0  AAAFSTPRATSYRILSSAGSGSTRADAPQVRRLHTTRDLLAKDYYA...  7.0  40.5   \n",
              "3     3.0  AAASGLRTAIPAQPLRHLLQPAPRPCLRPFGLLSVRAGSARRSGLL...  7.0  47.2   \n",
              "4     4.0  AAATKSGPRRQSQGASVRTFTPFYFLVEPVDTLSVRGSSVILNCSA...  7.0  49.5   \n",
              "\n",
              "   protein_length         A         C         D         E         F  ...  \\\n",
              "0             341  0.131965  0.002933  0.038123  0.087977  0.038123  ...   \n",
              "1             286  0.097902  0.000000  0.034965  0.181818  0.020979  ...   \n",
              "2             497  0.100604  0.018109  0.054326  0.064386  0.042254  ...   \n",
              "3             265  0.075472  0.018868  0.071698  0.109434  0.045283  ...   \n",
              "4            1451  0.059269  0.009649  0.053756  0.053756  0.022054  ...   \n",
              "\n",
              "          M         N         P         Q         R         S         T  \\\n",
              "0  0.023460  0.014663  0.052786  0.017595  0.073314  0.032258  0.041056   \n",
              "1  0.006993  0.020979  0.027972  0.076923  0.104895  0.048951  0.041958   \n",
              "2  0.012072  0.030181  0.040241  0.050302  0.062374  0.066398  0.060362   \n",
              "3  0.007547  0.033962  0.060377  0.033962  0.037736  0.060377  0.071698   \n",
              "4  0.021365  0.044797  0.088215  0.037216  0.043418  0.101999  0.082702   \n",
              "\n",
              "          V         W         Y  \n",
              "0  0.108504  0.011730  0.008798  \n",
              "1  0.045455  0.010490  0.010490  \n",
              "2  0.060362  0.006036  0.032193  \n",
              "3  0.052830  0.011321  0.015094  \n",
              "4  0.085458  0.011027  0.032391  \n",
              "\n",
              "[5 rows x 25 columns]"
            ],
            "text/html": [
              "\n",
              "  <div id=\"df-476ccb5d-b44f-44c3-b29a-6907bd6c0c29\">\n",
              "    <div class=\"colab-df-container\">\n",
              "      <div>\n",
              "<style scoped>\n",
              "    .dataframe tbody tr th:only-of-type {\n",
              "        vertical-align: middle;\n",
              "    }\n",
              "\n",
              "    .dataframe tbody tr th {\n",
              "        vertical-align: top;\n",
              "    }\n",
              "\n",
              "    .dataframe thead th {\n",
              "        text-align: right;\n",
              "    }\n",
              "</style>\n",
              "<table border=\"1\" class=\"dataframe\">\n",
              "  <thead>\n",
              "    <tr style=\"text-align: right;\">\n",
              "      <th></th>\n",
              "      <th>seq_id</th>\n",
              "      <th>protein_sequence</th>\n",
              "      <th>pH</th>\n",
              "      <th>tm</th>\n",
              "      <th>protein_length</th>\n",
              "      <th>A</th>\n",
              "      <th>C</th>\n",
              "      <th>D</th>\n",
              "      <th>E</th>\n",
              "      <th>F</th>\n",
              "      <th>...</th>\n",
              "      <th>M</th>\n",
              "      <th>N</th>\n",
              "      <th>P</th>\n",
              "      <th>Q</th>\n",
              "      <th>R</th>\n",
              "      <th>S</th>\n",
              "      <th>T</th>\n",
              "      <th>V</th>\n",
              "      <th>W</th>\n",
              "      <th>Y</th>\n",
              "    </tr>\n",
              "  </thead>\n",
              "  <tbody>\n",
              "    <tr>\n",
              "      <th>0</th>\n",
              "      <td>0.0</td>\n",
              "      <td>AAAAKAAALALLGEAPEVVDIWLPAGWRQPFRVFRLERKGDGVLVG...</td>\n",
              "      <td>7.0</td>\n",
              "      <td>75.7</td>\n",
              "      <td>341</td>\n",
              "      <td>0.131965</td>\n",
              "      <td>0.002933</td>\n",
              "      <td>0.038123</td>\n",
              "      <td>0.087977</td>\n",
              "      <td>0.038123</td>\n",
              "      <td>...</td>\n",
              "      <td>0.023460</td>\n",
              "      <td>0.014663</td>\n",
              "      <td>0.052786</td>\n",
              "      <td>0.017595</td>\n",
              "      <td>0.073314</td>\n",
              "      <td>0.032258</td>\n",
              "      <td>0.041056</td>\n",
              "      <td>0.108504</td>\n",
              "      <td>0.011730</td>\n",
              "      <td>0.008798</td>\n",
              "    </tr>\n",
              "    <tr>\n",
              "      <th>1</th>\n",
              "      <td>1.0</td>\n",
              "      <td>AAADGEPLHNEEERAGAGQVGRSLPQESEEQRTGSRPRRRRDLGSR...</td>\n",
              "      <td>7.0</td>\n",
              "      <td>50.5</td>\n",
              "      <td>286</td>\n",
              "      <td>0.097902</td>\n",
              "      <td>0.000000</td>\n",
              "      <td>0.034965</td>\n",
              "      <td>0.181818</td>\n",
              "      <td>0.020979</td>\n",
              "      <td>...</td>\n",
              "      <td>0.006993</td>\n",
              "      <td>0.020979</td>\n",
              "      <td>0.027972</td>\n",
              "      <td>0.076923</td>\n",
              "      <td>0.104895</td>\n",
              "      <td>0.048951</td>\n",
              "      <td>0.041958</td>\n",
              "      <td>0.045455</td>\n",
              "      <td>0.010490</td>\n",
              "      <td>0.010490</td>\n",
              "    </tr>\n",
              "    <tr>\n",
              "      <th>2</th>\n",
              "      <td>2.0</td>\n",
              "      <td>AAAFSTPRATSYRILSSAGSGSTRADAPQVRRLHTTRDLLAKDYYA...</td>\n",
              "      <td>7.0</td>\n",
              "      <td>40.5</td>\n",
              "      <td>497</td>\n",
              "      <td>0.100604</td>\n",
              "      <td>0.018109</td>\n",
              "      <td>0.054326</td>\n",
              "      <td>0.064386</td>\n",
              "      <td>0.042254</td>\n",
              "      <td>...</td>\n",
              "      <td>0.012072</td>\n",
              "      <td>0.030181</td>\n",
              "      <td>0.040241</td>\n",
              "      <td>0.050302</td>\n",
              "      <td>0.062374</td>\n",
              "      <td>0.066398</td>\n",
              "      <td>0.060362</td>\n",
              "      <td>0.060362</td>\n",
              "      <td>0.006036</td>\n",
              "      <td>0.032193</td>\n",
              "    </tr>\n",
              "    <tr>\n",
              "      <th>3</th>\n",
              "      <td>3.0</td>\n",
              "      <td>AAASGLRTAIPAQPLRHLLQPAPRPCLRPFGLLSVRAGSARRSGLL...</td>\n",
              "      <td>7.0</td>\n",
              "      <td>47.2</td>\n",
              "      <td>265</td>\n",
              "      <td>0.075472</td>\n",
              "      <td>0.018868</td>\n",
              "      <td>0.071698</td>\n",
              "      <td>0.109434</td>\n",
              "      <td>0.045283</td>\n",
              "      <td>...</td>\n",
              "      <td>0.007547</td>\n",
              "      <td>0.033962</td>\n",
              "      <td>0.060377</td>\n",
              "      <td>0.033962</td>\n",
              "      <td>0.037736</td>\n",
              "      <td>0.060377</td>\n",
              "      <td>0.071698</td>\n",
              "      <td>0.052830</td>\n",
              "      <td>0.011321</td>\n",
              "      <td>0.015094</td>\n",
              "    </tr>\n",
              "    <tr>\n",
              "      <th>4</th>\n",
              "      <td>4.0</td>\n",
              "      <td>AAATKSGPRRQSQGASVRTFTPFYFLVEPVDTLSVRGSSVILNCSA...</td>\n",
              "      <td>7.0</td>\n",
              "      <td>49.5</td>\n",
              "      <td>1451</td>\n",
              "      <td>0.059269</td>\n",
              "      <td>0.009649</td>\n",
              "      <td>0.053756</td>\n",
              "      <td>0.053756</td>\n",
              "      <td>0.022054</td>\n",
              "      <td>...</td>\n",
              "      <td>0.021365</td>\n",
              "      <td>0.044797</td>\n",
              "      <td>0.088215</td>\n",
              "      <td>0.037216</td>\n",
              "      <td>0.043418</td>\n",
              "      <td>0.101999</td>\n",
              "      <td>0.082702</td>\n",
              "      <td>0.085458</td>\n",
              "      <td>0.011027</td>\n",
              "      <td>0.032391</td>\n",
              "    </tr>\n",
              "  </tbody>\n",
              "</table>\n",
              "<p>5 rows × 25 columns</p>\n",
              "</div>\n",
              "      <button class=\"colab-df-convert\" onclick=\"convertToInteractive('df-476ccb5d-b44f-44c3-b29a-6907bd6c0c29')\"\n",
              "              title=\"Convert this dataframe to an interactive table.\"\n",
              "              style=\"display:none;\">\n",
              "        \n",
              "  <svg xmlns=\"http://www.w3.org/2000/svg\" height=\"24px\"viewBox=\"0 0 24 24\"\n",
              "       width=\"24px\">\n",
              "    <path d=\"M0 0h24v24H0V0z\" fill=\"none\"/>\n",
              "    <path d=\"M18.56 5.44l.94 2.06.94-2.06 2.06-.94-2.06-.94-.94-2.06-.94 2.06-2.06.94zm-11 1L8.5 8.5l.94-2.06 2.06-.94-2.06-.94L8.5 2.5l-.94 2.06-2.06.94zm10 10l.94 2.06.94-2.06 2.06-.94-2.06-.94-.94-2.06-.94 2.06-2.06.94z\"/><path d=\"M17.41 7.96l-1.37-1.37c-.4-.4-.92-.59-1.43-.59-.52 0-1.04.2-1.43.59L10.3 9.45l-7.72 7.72c-.78.78-.78 2.05 0 2.83L4 21.41c.39.39.9.59 1.41.59.51 0 1.02-.2 1.41-.59l7.78-7.78 2.81-2.81c.8-.78.8-2.07 0-2.86zM5.41 20L4 18.59l7.72-7.72 1.47 1.35L5.41 20z\"/>\n",
              "  </svg>\n",
              "      </button>\n",
              "      \n",
              "  <style>\n",
              "    .colab-df-container {\n",
              "      display:flex;\n",
              "      flex-wrap:wrap;\n",
              "      gap: 12px;\n",
              "    }\n",
              "\n",
              "    .colab-df-convert {\n",
              "      background-color: #E8F0FE;\n",
              "      border: none;\n",
              "      border-radius: 50%;\n",
              "      cursor: pointer;\n",
              "      display: none;\n",
              "      fill: #1967D2;\n",
              "      height: 32px;\n",
              "      padding: 0 0 0 0;\n",
              "      width: 32px;\n",
              "    }\n",
              "\n",
              "    .colab-df-convert:hover {\n",
              "      background-color: #E2EBFA;\n",
              "      box-shadow: 0px 1px 2px rgba(60, 64, 67, 0.3), 0px 1px 3px 1px rgba(60, 64, 67, 0.15);\n",
              "      fill: #174EA6;\n",
              "    }\n",
              "\n",
              "    [theme=dark] .colab-df-convert {\n",
              "      background-color: #3B4455;\n",
              "      fill: #D2E3FC;\n",
              "    }\n",
              "\n",
              "    [theme=dark] .colab-df-convert:hover {\n",
              "      background-color: #434B5C;\n",
              "      box-shadow: 0px 1px 3px 1px rgba(0, 0, 0, 0.15);\n",
              "      filter: drop-shadow(0px 1px 2px rgba(0, 0, 0, 0.3));\n",
              "      fill: #FFFFFF;\n",
              "    }\n",
              "  </style>\n",
              "\n",
              "      <script>\n",
              "        const buttonEl =\n",
              "          document.querySelector('#df-476ccb5d-b44f-44c3-b29a-6907bd6c0c29 button.colab-df-convert');\n",
              "        buttonEl.style.display =\n",
              "          google.colab.kernel.accessAllowed ? 'block' : 'none';\n",
              "\n",
              "        async function convertToInteractive(key) {\n",
              "          const element = document.querySelector('#df-476ccb5d-b44f-44c3-b29a-6907bd6c0c29');\n",
              "          const dataTable =\n",
              "            await google.colab.kernel.invokeFunction('convertToInteractive',\n",
              "                                                     [key], {});\n",
              "          if (!dataTable) return;\n",
              "\n",
              "          const docLinkHtml = 'Like what you see? Visit the ' +\n",
              "            '<a target=\"_blank\" href=https://colab.research.google.com/notebooks/data_table.ipynb>data table notebook</a>'\n",
              "            + ' to learn more about interactive tables.';\n",
              "          element.innerHTML = '';\n",
              "          dataTable['output_type'] = 'display_data';\n",
              "          await google.colab.output.renderOutput(dataTable, element);\n",
              "          const docLink = document.createElement('div');\n",
              "          docLink.innerHTML = docLinkHtml;\n",
              "          element.appendChild(docLink);\n",
              "        }\n",
              "      </script>\n",
              "    </div>\n",
              "  </div>\n",
              "  "
            ]
          },
          "metadata": {},
          "execution_count": 39
        }
      ],
      "source": [
        "train_df.head()"
      ]
    },
    {
      "cell_type": "code",
      "execution_count": null,
      "metadata": {
        "id": "n4U_el8B5Df0"
      },
      "outputs": [],
      "source": [
        "# PhysioChemical Properties of Amino acids\n",
        "\n",
        "#Aromaticity\n",
        "def calculate_aromaticity(row):\n",
        "  sequence = str(row[1])\n",
        "  X = ProteinAnalysis(sequence)\n",
        "  return \"%0.2f\" % X.aromaticity()\n",
        "\n",
        "#Molecular Weight\n",
        "def calculate_molecular_weight(row):\n",
        "  sequence = str(row[1])\n",
        "  X = ProteinAnalysis(sequence)\n",
        "  return \"%0.2f\" % X.molecular_weight()\n",
        "\n",
        "#Instability Index\n",
        "def calculate_instability_index(row):\n",
        "  sequence = str(row[1])\n",
        "  X = ProteinAnalysis(sequence)\n",
        "  return \"%0.2f\" % X.instability_index()\n",
        "\n",
        "#Hydrophobicity\n",
        "def calculate_hydrophobicity(row):\n",
        "  sequence = str(row[1])\n",
        "  X = ProteinAnalysis(sequence)\n",
        "  return \"%0.2f\" % X.gravy(scale='KyteDoolitle')\n",
        "\n",
        "#Isoelectric Point\n",
        "def calculate_isoelectric_point(row):\n",
        "  sequence = str(row[1])\n",
        "  X = ProteinAnalysis(sequence)\n",
        "  return \"%0.2f\" % X.isoelectric_point()\n",
        "\n",
        "#Charge\n",
        "def calculate_charge(row):\n",
        "  sequence = str(row[1])\n",
        "  X = ProteinAnalysis(sequence)\n",
        "  return \"%0.2f\" % X.charge_at_pH(row[2])"
      ]
    },
    {
      "cell_type": "code",
      "execution_count": null,
      "metadata": {
        "id": "JY1Y9a0Yw0_b"
      },
      "outputs": [],
      "source": [
        "train_df['Aromaticity'] = train_df.apply(calculate_aromaticity, axis=1)\n",
        "train_df['Molecular Weight'] = train_df.apply(calculate_molecular_weight, axis=1)\n",
        "train_df['Instability Index'] = train_df.apply(calculate_instability_index, axis=1)\n",
        "train_df['Hydrophobicity'] = train_df.apply(calculate_hydrophobicity, axis=1)\n",
        "train_df['Isoelectric Point'] = train_df.apply(calculate_isoelectric_point, axis=1)\n",
        "train_df['Charge'] = train_df.apply(calculate_charge, axis=1)\n"
      ]
    },
    {
      "cell_type": "code",
      "execution_count": null,
      "metadata": {
        "colab": {
          "base_uri": "https://localhost:8080/",
          "height": 317
        },
        "id": "Wc6GRW2FFnT9",
        "outputId": "8d15e92e-d107-4757-9289-71aaeba5786a"
      },
      "outputs": [
        {
          "output_type": "execute_result",
          "data": {
            "text/plain": [
              "   seq_id                                   protein_sequence   pH    tm  \\\n",
              "0     0.0  AAAAKAAALALLGEAPEVVDIWLPAGWRQPFRVFRLERKGDGVLVG...  7.0  75.7   \n",
              "1     1.0  AAADGEPLHNEEERAGAGQVGRSLPQESEEQRTGSRPRRRRDLGSR...  7.0  50.5   \n",
              "2     2.0  AAAFSTPRATSYRILSSAGSGSTRADAPQVRRLHTTRDLLAKDYYA...  7.0  40.5   \n",
              "3     3.0  AAASGLRTAIPAQPLRHLLQPAPRPCLRPFGLLSVRAGSARRSGLL...  7.0  47.2   \n",
              "4     4.0  AAATKSGPRRQSQGASVRTFTPFYFLVEPVDTLSVRGSSVILNCSA...  7.0  49.5   \n",
              "\n",
              "   protein_length         A         C         D         E         F  ...  \\\n",
              "0             341  0.131965  0.002933  0.038123  0.087977  0.038123  ...   \n",
              "1             286  0.097902  0.000000  0.034965  0.181818  0.020979  ...   \n",
              "2             497  0.100604  0.018109  0.054326  0.064386  0.042254  ...   \n",
              "3             265  0.075472  0.018868  0.071698  0.109434  0.045283  ...   \n",
              "4            1451  0.059269  0.009649  0.053756  0.053756  0.022054  ...   \n",
              "\n",
              "          T         V         W         Y  Aromaticity  Molecular Weight  \\\n",
              "0  0.041056  0.108504  0.011730  0.008798         0.06          36320.72   \n",
              "1  0.041958  0.045455  0.010490  0.010490         0.04          32837.99   \n",
              "2  0.060362  0.060362  0.006036  0.032193         0.08          53428.80   \n",
              "3  0.071698  0.052830  0.011321  0.015094         0.07          29475.60   \n",
              "4  0.082702  0.085458  0.011027  0.032391         0.07         158761.98   \n",
              "\n",
              "   Instability Index  Hydrophobicity  Isoelectric Point  Charge  \n",
              "0              28.39            0.15               6.11   -1.87  \n",
              "1              65.11           -1.09               5.14  -12.72  \n",
              "2              35.09           -0.71               9.03   11.73  \n",
              "3              50.50           -0.51               4.68  -20.56  \n",
              "4              45.67           -0.40               5.92  -21.66  \n",
              "\n",
              "[5 rows x 31 columns]"
            ],
            "text/html": [
              "\n",
              "  <div id=\"df-51fc6e2f-ce80-4c56-9d7b-0acb5d6e6858\">\n",
              "    <div class=\"colab-df-container\">\n",
              "      <div>\n",
              "<style scoped>\n",
              "    .dataframe tbody tr th:only-of-type {\n",
              "        vertical-align: middle;\n",
              "    }\n",
              "\n",
              "    .dataframe tbody tr th {\n",
              "        vertical-align: top;\n",
              "    }\n",
              "\n",
              "    .dataframe thead th {\n",
              "        text-align: right;\n",
              "    }\n",
              "</style>\n",
              "<table border=\"1\" class=\"dataframe\">\n",
              "  <thead>\n",
              "    <tr style=\"text-align: right;\">\n",
              "      <th></th>\n",
              "      <th>seq_id</th>\n",
              "      <th>protein_sequence</th>\n",
              "      <th>pH</th>\n",
              "      <th>tm</th>\n",
              "      <th>protein_length</th>\n",
              "      <th>A</th>\n",
              "      <th>C</th>\n",
              "      <th>D</th>\n",
              "      <th>E</th>\n",
              "      <th>F</th>\n",
              "      <th>...</th>\n",
              "      <th>T</th>\n",
              "      <th>V</th>\n",
              "      <th>W</th>\n",
              "      <th>Y</th>\n",
              "      <th>Aromaticity</th>\n",
              "      <th>Molecular Weight</th>\n",
              "      <th>Instability Index</th>\n",
              "      <th>Hydrophobicity</th>\n",
              "      <th>Isoelectric Point</th>\n",
              "      <th>Charge</th>\n",
              "    </tr>\n",
              "  </thead>\n",
              "  <tbody>\n",
              "    <tr>\n",
              "      <th>0</th>\n",
              "      <td>0.0</td>\n",
              "      <td>AAAAKAAALALLGEAPEVVDIWLPAGWRQPFRVFRLERKGDGVLVG...</td>\n",
              "      <td>7.0</td>\n",
              "      <td>75.7</td>\n",
              "      <td>341</td>\n",
              "      <td>0.131965</td>\n",
              "      <td>0.002933</td>\n",
              "      <td>0.038123</td>\n",
              "      <td>0.087977</td>\n",
              "      <td>0.038123</td>\n",
              "      <td>...</td>\n",
              "      <td>0.041056</td>\n",
              "      <td>0.108504</td>\n",
              "      <td>0.011730</td>\n",
              "      <td>0.008798</td>\n",
              "      <td>0.06</td>\n",
              "      <td>36320.72</td>\n",
              "      <td>28.39</td>\n",
              "      <td>0.15</td>\n",
              "      <td>6.11</td>\n",
              "      <td>-1.87</td>\n",
              "    </tr>\n",
              "    <tr>\n",
              "      <th>1</th>\n",
              "      <td>1.0</td>\n",
              "      <td>AAADGEPLHNEEERAGAGQVGRSLPQESEEQRTGSRPRRRRDLGSR...</td>\n",
              "      <td>7.0</td>\n",
              "      <td>50.5</td>\n",
              "      <td>286</td>\n",
              "      <td>0.097902</td>\n",
              "      <td>0.000000</td>\n",
              "      <td>0.034965</td>\n",
              "      <td>0.181818</td>\n",
              "      <td>0.020979</td>\n",
              "      <td>...</td>\n",
              "      <td>0.041958</td>\n",
              "      <td>0.045455</td>\n",
              "      <td>0.010490</td>\n",
              "      <td>0.010490</td>\n",
              "      <td>0.04</td>\n",
              "      <td>32837.99</td>\n",
              "      <td>65.11</td>\n",
              "      <td>-1.09</td>\n",
              "      <td>5.14</td>\n",
              "      <td>-12.72</td>\n",
              "    </tr>\n",
              "    <tr>\n",
              "      <th>2</th>\n",
              "      <td>2.0</td>\n",
              "      <td>AAAFSTPRATSYRILSSAGSGSTRADAPQVRRLHTTRDLLAKDYYA...</td>\n",
              "      <td>7.0</td>\n",
              "      <td>40.5</td>\n",
              "      <td>497</td>\n",
              "      <td>0.100604</td>\n",
              "      <td>0.018109</td>\n",
              "      <td>0.054326</td>\n",
              "      <td>0.064386</td>\n",
              "      <td>0.042254</td>\n",
              "      <td>...</td>\n",
              "      <td>0.060362</td>\n",
              "      <td>0.060362</td>\n",
              "      <td>0.006036</td>\n",
              "      <td>0.032193</td>\n",
              "      <td>0.08</td>\n",
              "      <td>53428.80</td>\n",
              "      <td>35.09</td>\n",
              "      <td>-0.71</td>\n",
              "      <td>9.03</td>\n",
              "      <td>11.73</td>\n",
              "    </tr>\n",
              "    <tr>\n",
              "      <th>3</th>\n",
              "      <td>3.0</td>\n",
              "      <td>AAASGLRTAIPAQPLRHLLQPAPRPCLRPFGLLSVRAGSARRSGLL...</td>\n",
              "      <td>7.0</td>\n",
              "      <td>47.2</td>\n",
              "      <td>265</td>\n",
              "      <td>0.075472</td>\n",
              "      <td>0.018868</td>\n",
              "      <td>0.071698</td>\n",
              "      <td>0.109434</td>\n",
              "      <td>0.045283</td>\n",
              "      <td>...</td>\n",
              "      <td>0.071698</td>\n",
              "      <td>0.052830</td>\n",
              "      <td>0.011321</td>\n",
              "      <td>0.015094</td>\n",
              "      <td>0.07</td>\n",
              "      <td>29475.60</td>\n",
              "      <td>50.50</td>\n",
              "      <td>-0.51</td>\n",
              "      <td>4.68</td>\n",
              "      <td>-20.56</td>\n",
              "    </tr>\n",
              "    <tr>\n",
              "      <th>4</th>\n",
              "      <td>4.0</td>\n",
              "      <td>AAATKSGPRRQSQGASVRTFTPFYFLVEPVDTLSVRGSSVILNCSA...</td>\n",
              "      <td>7.0</td>\n",
              "      <td>49.5</td>\n",
              "      <td>1451</td>\n",
              "      <td>0.059269</td>\n",
              "      <td>0.009649</td>\n",
              "      <td>0.053756</td>\n",
              "      <td>0.053756</td>\n",
              "      <td>0.022054</td>\n",
              "      <td>...</td>\n",
              "      <td>0.082702</td>\n",
              "      <td>0.085458</td>\n",
              "      <td>0.011027</td>\n",
              "      <td>0.032391</td>\n",
              "      <td>0.07</td>\n",
              "      <td>158761.98</td>\n",
              "      <td>45.67</td>\n",
              "      <td>-0.40</td>\n",
              "      <td>5.92</td>\n",
              "      <td>-21.66</td>\n",
              "    </tr>\n",
              "  </tbody>\n",
              "</table>\n",
              "<p>5 rows × 31 columns</p>\n",
              "</div>\n",
              "      <button class=\"colab-df-convert\" onclick=\"convertToInteractive('df-51fc6e2f-ce80-4c56-9d7b-0acb5d6e6858')\"\n",
              "              title=\"Convert this dataframe to an interactive table.\"\n",
              "              style=\"display:none;\">\n",
              "        \n",
              "  <svg xmlns=\"http://www.w3.org/2000/svg\" height=\"24px\"viewBox=\"0 0 24 24\"\n",
              "       width=\"24px\">\n",
              "    <path d=\"M0 0h24v24H0V0z\" fill=\"none\"/>\n",
              "    <path d=\"M18.56 5.44l.94 2.06.94-2.06 2.06-.94-2.06-.94-.94-2.06-.94 2.06-2.06.94zm-11 1L8.5 8.5l.94-2.06 2.06-.94-2.06-.94L8.5 2.5l-.94 2.06-2.06.94zm10 10l.94 2.06.94-2.06 2.06-.94-2.06-.94-.94-2.06-.94 2.06-2.06.94z\"/><path d=\"M17.41 7.96l-1.37-1.37c-.4-.4-.92-.59-1.43-.59-.52 0-1.04.2-1.43.59L10.3 9.45l-7.72 7.72c-.78.78-.78 2.05 0 2.83L4 21.41c.39.39.9.59 1.41.59.51 0 1.02-.2 1.41-.59l7.78-7.78 2.81-2.81c.8-.78.8-2.07 0-2.86zM5.41 20L4 18.59l7.72-7.72 1.47 1.35L5.41 20z\"/>\n",
              "  </svg>\n",
              "      </button>\n",
              "      \n",
              "  <style>\n",
              "    .colab-df-container {\n",
              "      display:flex;\n",
              "      flex-wrap:wrap;\n",
              "      gap: 12px;\n",
              "    }\n",
              "\n",
              "    .colab-df-convert {\n",
              "      background-color: #E8F0FE;\n",
              "      border: none;\n",
              "      border-radius: 50%;\n",
              "      cursor: pointer;\n",
              "      display: none;\n",
              "      fill: #1967D2;\n",
              "      height: 32px;\n",
              "      padding: 0 0 0 0;\n",
              "      width: 32px;\n",
              "    }\n",
              "\n",
              "    .colab-df-convert:hover {\n",
              "      background-color: #E2EBFA;\n",
              "      box-shadow: 0px 1px 2px rgba(60, 64, 67, 0.3), 0px 1px 3px 1px rgba(60, 64, 67, 0.15);\n",
              "      fill: #174EA6;\n",
              "    }\n",
              "\n",
              "    [theme=dark] .colab-df-convert {\n",
              "      background-color: #3B4455;\n",
              "      fill: #D2E3FC;\n",
              "    }\n",
              "\n",
              "    [theme=dark] .colab-df-convert:hover {\n",
              "      background-color: #434B5C;\n",
              "      box-shadow: 0px 1px 3px 1px rgba(0, 0, 0, 0.15);\n",
              "      filter: drop-shadow(0px 1px 2px rgba(0, 0, 0, 0.3));\n",
              "      fill: #FFFFFF;\n",
              "    }\n",
              "  </style>\n",
              "\n",
              "      <script>\n",
              "        const buttonEl =\n",
              "          document.querySelector('#df-51fc6e2f-ce80-4c56-9d7b-0acb5d6e6858 button.colab-df-convert');\n",
              "        buttonEl.style.display =\n",
              "          google.colab.kernel.accessAllowed ? 'block' : 'none';\n",
              "\n",
              "        async function convertToInteractive(key) {\n",
              "          const element = document.querySelector('#df-51fc6e2f-ce80-4c56-9d7b-0acb5d6e6858');\n",
              "          const dataTable =\n",
              "            await google.colab.kernel.invokeFunction('convertToInteractive',\n",
              "                                                     [key], {});\n",
              "          if (!dataTable) return;\n",
              "\n",
              "          const docLinkHtml = 'Like what you see? Visit the ' +\n",
              "            '<a target=\"_blank\" href=https://colab.research.google.com/notebooks/data_table.ipynb>data table notebook</a>'\n",
              "            + ' to learn more about interactive tables.';\n",
              "          element.innerHTML = '';\n",
              "          dataTable['output_type'] = 'display_data';\n",
              "          await google.colab.output.renderOutput(dataTable, element);\n",
              "          const docLink = document.createElement('div');\n",
              "          docLink.innerHTML = docLinkHtml;\n",
              "          element.appendChild(docLink);\n",
              "        }\n",
              "      </script>\n",
              "    </div>\n",
              "  </div>\n",
              "  "
            ]
          },
          "metadata": {},
          "execution_count": 42
        }
      ],
      "source": [
        "train_df.head()"
      ]
    },
    {
      "cell_type": "code",
      "execution_count": null,
      "metadata": {
        "id": "broXAXZAvMIv"
      },
      "outputs": [],
      "source": [
        "train_df.drop(columns=[\"protein_length\"], inplace=True)\n",
        "train_df.drop(columns=[\"protein_sequence\", \"seq_id\"], inplace=True)"
      ]
    },
    {
      "cell_type": "code",
      "execution_count": null,
      "metadata": {
        "id": "QSJgMIuLvuID"
      },
      "outputs": [],
      "source": [
        "# Reset the DataFrame indexes\n",
        "train_df.reset_index(drop=True, inplace=True)"
      ]
    },
    {
      "cell_type": "code",
      "execution_count": null,
      "metadata": {
        "id": "bRBV-3tGXNyE"
      },
      "outputs": [],
      "source": [
        "train_df['Aromaticity'] = pd.to_numeric(train_df['Aromaticity'])\n",
        "train_df['Molecular Weight'] = pd.to_numeric(train_df['Molecular Weight'])\n",
        "train_df['Instability Index'] = pd.to_numeric(train_df['Instability Index'])\n",
        "train_df['Hydrophobicity'] = pd.to_numeric(train_df['Hydrophobicity'])\n",
        "train_df['Isoelectric Point'] = pd.to_numeric(train_df['Isoelectric Point'])\n",
        "train_df['Charge'] = pd.to_numeric(train_df['Charge'])"
      ]
    },
    {
      "cell_type": "code",
      "execution_count": null,
      "metadata": {
        "colab": {
          "base_uri": "https://localhost:8080/",
          "height": 254
        },
        "id": "wr2gcQuEw7f5",
        "outputId": "663829df-c2ae-43a8-9ae1-c94279b92b8f"
      },
      "outputs": [
        {
          "output_type": "execute_result",
          "data": {
            "text/plain": [
              "    pH    tm         A         C         D         E         F         G  \\\n",
              "0  7.0  75.7  0.131965  0.002933  0.038123  0.087977  0.038123  0.111437   \n",
              "1  7.0  50.5  0.097902  0.000000  0.034965  0.181818  0.020979  0.062937   \n",
              "2  7.0  40.5  0.100604  0.018109  0.054326  0.064386  0.042254  0.130785   \n",
              "\n",
              "          H         I  ...         T         V         W         Y  \\\n",
              "0  0.008798  0.041056  ...  0.041056  0.108504  0.011730  0.008798   \n",
              "1  0.013986  0.045455  ...  0.041958  0.045455  0.010490  0.010490   \n",
              "2  0.022133  0.032193  ...  0.060362  0.060362  0.006036  0.032193   \n",
              "\n",
              "   Aromaticity  Molecular Weight  Instability Index  Hydrophobicity  \\\n",
              "0         0.06          36320.72              28.39            0.15   \n",
              "1         0.04          32837.99              65.11           -1.09   \n",
              "2         0.08          53428.80              35.09           -0.71   \n",
              "\n",
              "   Isoelectric Point  Charge  \n",
              "0               6.11   -1.87  \n",
              "1               5.14  -12.72  \n",
              "2               9.03   11.73  \n",
              "\n",
              "[3 rows x 28 columns]"
            ],
            "text/html": [
              "\n",
              "  <div id=\"df-7caa62c7-aec3-40cf-bf2d-0d634967890d\">\n",
              "    <div class=\"colab-df-container\">\n",
              "      <div>\n",
              "<style scoped>\n",
              "    .dataframe tbody tr th:only-of-type {\n",
              "        vertical-align: middle;\n",
              "    }\n",
              "\n",
              "    .dataframe tbody tr th {\n",
              "        vertical-align: top;\n",
              "    }\n",
              "\n",
              "    .dataframe thead th {\n",
              "        text-align: right;\n",
              "    }\n",
              "</style>\n",
              "<table border=\"1\" class=\"dataframe\">\n",
              "  <thead>\n",
              "    <tr style=\"text-align: right;\">\n",
              "      <th></th>\n",
              "      <th>pH</th>\n",
              "      <th>tm</th>\n",
              "      <th>A</th>\n",
              "      <th>C</th>\n",
              "      <th>D</th>\n",
              "      <th>E</th>\n",
              "      <th>F</th>\n",
              "      <th>G</th>\n",
              "      <th>H</th>\n",
              "      <th>I</th>\n",
              "      <th>...</th>\n",
              "      <th>T</th>\n",
              "      <th>V</th>\n",
              "      <th>W</th>\n",
              "      <th>Y</th>\n",
              "      <th>Aromaticity</th>\n",
              "      <th>Molecular Weight</th>\n",
              "      <th>Instability Index</th>\n",
              "      <th>Hydrophobicity</th>\n",
              "      <th>Isoelectric Point</th>\n",
              "      <th>Charge</th>\n",
              "    </tr>\n",
              "  </thead>\n",
              "  <tbody>\n",
              "    <tr>\n",
              "      <th>0</th>\n",
              "      <td>7.0</td>\n",
              "      <td>75.7</td>\n",
              "      <td>0.131965</td>\n",
              "      <td>0.002933</td>\n",
              "      <td>0.038123</td>\n",
              "      <td>0.087977</td>\n",
              "      <td>0.038123</td>\n",
              "      <td>0.111437</td>\n",
              "      <td>0.008798</td>\n",
              "      <td>0.041056</td>\n",
              "      <td>...</td>\n",
              "      <td>0.041056</td>\n",
              "      <td>0.108504</td>\n",
              "      <td>0.011730</td>\n",
              "      <td>0.008798</td>\n",
              "      <td>0.06</td>\n",
              "      <td>36320.72</td>\n",
              "      <td>28.39</td>\n",
              "      <td>0.15</td>\n",
              "      <td>6.11</td>\n",
              "      <td>-1.87</td>\n",
              "    </tr>\n",
              "    <tr>\n",
              "      <th>1</th>\n",
              "      <td>7.0</td>\n",
              "      <td>50.5</td>\n",
              "      <td>0.097902</td>\n",
              "      <td>0.000000</td>\n",
              "      <td>0.034965</td>\n",
              "      <td>0.181818</td>\n",
              "      <td>0.020979</td>\n",
              "      <td>0.062937</td>\n",
              "      <td>0.013986</td>\n",
              "      <td>0.045455</td>\n",
              "      <td>...</td>\n",
              "      <td>0.041958</td>\n",
              "      <td>0.045455</td>\n",
              "      <td>0.010490</td>\n",
              "      <td>0.010490</td>\n",
              "      <td>0.04</td>\n",
              "      <td>32837.99</td>\n",
              "      <td>65.11</td>\n",
              "      <td>-1.09</td>\n",
              "      <td>5.14</td>\n",
              "      <td>-12.72</td>\n",
              "    </tr>\n",
              "    <tr>\n",
              "      <th>2</th>\n",
              "      <td>7.0</td>\n",
              "      <td>40.5</td>\n",
              "      <td>0.100604</td>\n",
              "      <td>0.018109</td>\n",
              "      <td>0.054326</td>\n",
              "      <td>0.064386</td>\n",
              "      <td>0.042254</td>\n",
              "      <td>0.130785</td>\n",
              "      <td>0.022133</td>\n",
              "      <td>0.032193</td>\n",
              "      <td>...</td>\n",
              "      <td>0.060362</td>\n",
              "      <td>0.060362</td>\n",
              "      <td>0.006036</td>\n",
              "      <td>0.032193</td>\n",
              "      <td>0.08</td>\n",
              "      <td>53428.80</td>\n",
              "      <td>35.09</td>\n",
              "      <td>-0.71</td>\n",
              "      <td>9.03</td>\n",
              "      <td>11.73</td>\n",
              "    </tr>\n",
              "  </tbody>\n",
              "</table>\n",
              "<p>3 rows × 28 columns</p>\n",
              "</div>\n",
              "      <button class=\"colab-df-convert\" onclick=\"convertToInteractive('df-7caa62c7-aec3-40cf-bf2d-0d634967890d')\"\n",
              "              title=\"Convert this dataframe to an interactive table.\"\n",
              "              style=\"display:none;\">\n",
              "        \n",
              "  <svg xmlns=\"http://www.w3.org/2000/svg\" height=\"24px\"viewBox=\"0 0 24 24\"\n",
              "       width=\"24px\">\n",
              "    <path d=\"M0 0h24v24H0V0z\" fill=\"none\"/>\n",
              "    <path d=\"M18.56 5.44l.94 2.06.94-2.06 2.06-.94-2.06-.94-.94-2.06-.94 2.06-2.06.94zm-11 1L8.5 8.5l.94-2.06 2.06-.94-2.06-.94L8.5 2.5l-.94 2.06-2.06.94zm10 10l.94 2.06.94-2.06 2.06-.94-2.06-.94-.94-2.06-.94 2.06-2.06.94z\"/><path d=\"M17.41 7.96l-1.37-1.37c-.4-.4-.92-.59-1.43-.59-.52 0-1.04.2-1.43.59L10.3 9.45l-7.72 7.72c-.78.78-.78 2.05 0 2.83L4 21.41c.39.39.9.59 1.41.59.51 0 1.02-.2 1.41-.59l7.78-7.78 2.81-2.81c.8-.78.8-2.07 0-2.86zM5.41 20L4 18.59l7.72-7.72 1.47 1.35L5.41 20z\"/>\n",
              "  </svg>\n",
              "      </button>\n",
              "      \n",
              "  <style>\n",
              "    .colab-df-container {\n",
              "      display:flex;\n",
              "      flex-wrap:wrap;\n",
              "      gap: 12px;\n",
              "    }\n",
              "\n",
              "    .colab-df-convert {\n",
              "      background-color: #E8F0FE;\n",
              "      border: none;\n",
              "      border-radius: 50%;\n",
              "      cursor: pointer;\n",
              "      display: none;\n",
              "      fill: #1967D2;\n",
              "      height: 32px;\n",
              "      padding: 0 0 0 0;\n",
              "      width: 32px;\n",
              "    }\n",
              "\n",
              "    .colab-df-convert:hover {\n",
              "      background-color: #E2EBFA;\n",
              "      box-shadow: 0px 1px 2px rgba(60, 64, 67, 0.3), 0px 1px 3px 1px rgba(60, 64, 67, 0.15);\n",
              "      fill: #174EA6;\n",
              "    }\n",
              "\n",
              "    [theme=dark] .colab-df-convert {\n",
              "      background-color: #3B4455;\n",
              "      fill: #D2E3FC;\n",
              "    }\n",
              "\n",
              "    [theme=dark] .colab-df-convert:hover {\n",
              "      background-color: #434B5C;\n",
              "      box-shadow: 0px 1px 3px 1px rgba(0, 0, 0, 0.15);\n",
              "      filter: drop-shadow(0px 1px 2px rgba(0, 0, 0, 0.3));\n",
              "      fill: #FFFFFF;\n",
              "    }\n",
              "  </style>\n",
              "\n",
              "      <script>\n",
              "        const buttonEl =\n",
              "          document.querySelector('#df-7caa62c7-aec3-40cf-bf2d-0d634967890d button.colab-df-convert');\n",
              "        buttonEl.style.display =\n",
              "          google.colab.kernel.accessAllowed ? 'block' : 'none';\n",
              "\n",
              "        async function convertToInteractive(key) {\n",
              "          const element = document.querySelector('#df-7caa62c7-aec3-40cf-bf2d-0d634967890d');\n",
              "          const dataTable =\n",
              "            await google.colab.kernel.invokeFunction('convertToInteractive',\n",
              "                                                     [key], {});\n",
              "          if (!dataTable) return;\n",
              "\n",
              "          const docLinkHtml = 'Like what you see? Visit the ' +\n",
              "            '<a target=\"_blank\" href=https://colab.research.google.com/notebooks/data_table.ipynb>data table notebook</a>'\n",
              "            + ' to learn more about interactive tables.';\n",
              "          element.innerHTML = '';\n",
              "          dataTable['output_type'] = 'display_data';\n",
              "          await google.colab.output.renderOutput(dataTable, element);\n",
              "          const docLink = document.createElement('div');\n",
              "          docLink.innerHTML = docLinkHtml;\n",
              "          element.appendChild(docLink);\n",
              "        }\n",
              "      </script>\n",
              "    </div>\n",
              "  </div>\n",
              "  "
            ]
          },
          "metadata": {},
          "execution_count": 46
        }
      ],
      "source": [
        "train_df.head(3)"
      ]
    },
    {
      "cell_type": "markdown",
      "source": [
        "## Model 1"
      ],
      "metadata": {
        "id": "oQFJdA_48FLh"
      }
    },
    {
      "cell_type": "code",
      "source": [
        "# Split the data into train and validation set\n",
        "train_df_new, rem_df = train_test_split(train_df, train_size=0.8,random_state=99)\n",
        "\n",
        "val_df, test_df = train_test_split(rem_df, test_size=0.5,random_state=123)"
      ],
      "metadata": {
        "id": "4G-Bzd7t8FLh"
      },
      "execution_count": null,
      "outputs": []
    },
    {
      "cell_type": "code",
      "source": [
        "X_train = train_df.drop(columns=['tm'])\n",
        "y_train = train_df['tm']\n",
        "\n",
        "X_val = val_df.drop(columns=['tm'])\n",
        "y_val = val_df['tm']\n",
        "\n",
        "X_test = test_df.drop(columns=['tm'])\n",
        "y_test = test_df['tm']\n"
      ],
      "metadata": {
        "id": "AEPDKcJ_8FLh"
      },
      "execution_count": null,
      "outputs": []
    },
    {
      "cell_type": "code",
      "source": [
        "#XGBoost Model\n",
        "model = XGBRegressor(learning_rate=0.1, max_depth=8, n_estimators=200, tree_method=\"gpu_hist\",random_state=98)\n",
        "model.fit(X_train, y_train)"
      ],
      "metadata": {
        "colab": {
          "base_uri": "https://localhost:8080/",
          "height": 248
        },
        "outputId": "e4f9b18c-f754-4ccd-c158-71df57cab5c6",
        "id": "UvroZGSP8FLh"
      },
      "execution_count": null,
      "outputs": [
        {
          "output_type": "execute_result",
          "data": {
            "text/plain": [
              "XGBRegressor(base_score=None, booster=None, callbacks=None,\n",
              "             colsample_bylevel=None, colsample_bynode=None,\n",
              "             colsample_bytree=None, early_stopping_rounds=None,\n",
              "             enable_categorical=False, eval_metric=None, feature_types=None,\n",
              "             gamma=None, gpu_id=None, grow_policy=None, importance_type=None,\n",
              "             interaction_constraints=None, learning_rate=0.1, max_bin=None,\n",
              "             max_cat_threshold=None, max_cat_to_onehot=None,\n",
              "             max_delta_step=None, max_depth=8, max_leaves=None,\n",
              "             min_child_weight=None, missing=nan, monotone_constraints=None,\n",
              "             n_estimators=200, n_jobs=None, num_parallel_tree=None,\n",
              "             predictor=None, random_state=98, ...)"
            ],
            "text/html": [
              "<style>#sk-container-id-11 {color: black;background-color: white;}#sk-container-id-11 pre{padding: 0;}#sk-container-id-11 div.sk-toggleable {background-color: white;}#sk-container-id-11 label.sk-toggleable__label {cursor: pointer;display: block;width: 100%;margin-bottom: 0;padding: 0.3em;box-sizing: border-box;text-align: center;}#sk-container-id-11 label.sk-toggleable__label-arrow:before {content: \"▸\";float: left;margin-right: 0.25em;color: #696969;}#sk-container-id-11 label.sk-toggleable__label-arrow:hover:before {color: black;}#sk-container-id-11 div.sk-estimator:hover label.sk-toggleable__label-arrow:before {color: black;}#sk-container-id-11 div.sk-toggleable__content {max-height: 0;max-width: 0;overflow: hidden;text-align: left;background-color: #f0f8ff;}#sk-container-id-11 div.sk-toggleable__content pre {margin: 0.2em;color: black;border-radius: 0.25em;background-color: #f0f8ff;}#sk-container-id-11 input.sk-toggleable__control:checked~div.sk-toggleable__content {max-height: 200px;max-width: 100%;overflow: auto;}#sk-container-id-11 input.sk-toggleable__control:checked~label.sk-toggleable__label-arrow:before {content: \"▾\";}#sk-container-id-11 div.sk-estimator input.sk-toggleable__control:checked~label.sk-toggleable__label {background-color: #d4ebff;}#sk-container-id-11 div.sk-label input.sk-toggleable__control:checked~label.sk-toggleable__label {background-color: #d4ebff;}#sk-container-id-11 input.sk-hidden--visually {border: 0;clip: rect(1px 1px 1px 1px);clip: rect(1px, 1px, 1px, 1px);height: 1px;margin: -1px;overflow: hidden;padding: 0;position: absolute;width: 1px;}#sk-container-id-11 div.sk-estimator {font-family: monospace;background-color: #f0f8ff;border: 1px dotted black;border-radius: 0.25em;box-sizing: border-box;margin-bottom: 0.5em;}#sk-container-id-11 div.sk-estimator:hover {background-color: #d4ebff;}#sk-container-id-11 div.sk-parallel-item::after {content: \"\";width: 100%;border-bottom: 1px solid gray;flex-grow: 1;}#sk-container-id-11 div.sk-label:hover label.sk-toggleable__label {background-color: #d4ebff;}#sk-container-id-11 div.sk-serial::before {content: \"\";position: absolute;border-left: 1px solid gray;box-sizing: border-box;top: 0;bottom: 0;left: 50%;z-index: 0;}#sk-container-id-11 div.sk-serial {display: flex;flex-direction: column;align-items: center;background-color: white;padding-right: 0.2em;padding-left: 0.2em;position: relative;}#sk-container-id-11 div.sk-item {position: relative;z-index: 1;}#sk-container-id-11 div.sk-parallel {display: flex;align-items: stretch;justify-content: center;background-color: white;position: relative;}#sk-container-id-11 div.sk-item::before, #sk-container-id-11 div.sk-parallel-item::before {content: \"\";position: absolute;border-left: 1px solid gray;box-sizing: border-box;top: 0;bottom: 0;left: 50%;z-index: -1;}#sk-container-id-11 div.sk-parallel-item {display: flex;flex-direction: column;z-index: 1;position: relative;background-color: white;}#sk-container-id-11 div.sk-parallel-item:first-child::after {align-self: flex-end;width: 50%;}#sk-container-id-11 div.sk-parallel-item:last-child::after {align-self: flex-start;width: 50%;}#sk-container-id-11 div.sk-parallel-item:only-child::after {width: 0;}#sk-container-id-11 div.sk-dashed-wrapped {border: 1px dashed gray;margin: 0 0.4em 0.5em 0.4em;box-sizing: border-box;padding-bottom: 0.4em;background-color: white;}#sk-container-id-11 div.sk-label label {font-family: monospace;font-weight: bold;display: inline-block;line-height: 1.2em;}#sk-container-id-11 div.sk-label-container {text-align: center;}#sk-container-id-11 div.sk-container {/* jupyter's `normalize.less` sets `[hidden] { display: none; }` but bootstrap.min.css set `[hidden] { display: none !important; }` so we also need the `!important` here to be able to override the default hidden behavior on the sphinx rendered scikit-learn.org. See: https://github.com/scikit-learn/scikit-learn/issues/21755 */display: inline-block !important;position: relative;}#sk-container-id-11 div.sk-text-repr-fallback {display: none;}</style><div id=\"sk-container-id-11\" class=\"sk-top-container\"><div class=\"sk-text-repr-fallback\"><pre>XGBRegressor(base_score=None, booster=None, callbacks=None,\n",
              "             colsample_bylevel=None, colsample_bynode=None,\n",
              "             colsample_bytree=None, early_stopping_rounds=None,\n",
              "             enable_categorical=False, eval_metric=None, feature_types=None,\n",
              "             gamma=None, gpu_id=None, grow_policy=None, importance_type=None,\n",
              "             interaction_constraints=None, learning_rate=0.1, max_bin=None,\n",
              "             max_cat_threshold=None, max_cat_to_onehot=None,\n",
              "             max_delta_step=None, max_depth=8, max_leaves=None,\n",
              "             min_child_weight=None, missing=nan, monotone_constraints=None,\n",
              "             n_estimators=200, n_jobs=None, num_parallel_tree=None,\n",
              "             predictor=None, random_state=98, ...)</pre><b>In a Jupyter environment, please rerun this cell to show the HTML representation or trust the notebook. <br />On GitHub, the HTML representation is unable to render, please try loading this page with nbviewer.org.</b></div><div class=\"sk-container\" hidden><div class=\"sk-item\"><div class=\"sk-estimator sk-toggleable\"><input class=\"sk-toggleable__control sk-hidden--visually\" id=\"sk-estimator-id-11\" type=\"checkbox\" checked><label for=\"sk-estimator-id-11\" class=\"sk-toggleable__label sk-toggleable__label-arrow\">XGBRegressor</label><div class=\"sk-toggleable__content\"><pre>XGBRegressor(base_score=None, booster=None, callbacks=None,\n",
              "             colsample_bylevel=None, colsample_bynode=None,\n",
              "             colsample_bytree=None, early_stopping_rounds=None,\n",
              "             enable_categorical=False, eval_metric=None, feature_types=None,\n",
              "             gamma=None, gpu_id=None, grow_policy=None, importance_type=None,\n",
              "             interaction_constraints=None, learning_rate=0.1, max_bin=None,\n",
              "             max_cat_threshold=None, max_cat_to_onehot=None,\n",
              "             max_delta_step=None, max_depth=8, max_leaves=None,\n",
              "             min_child_weight=None, missing=nan, monotone_constraints=None,\n",
              "             n_estimators=200, n_jobs=None, num_parallel_tree=None,\n",
              "             predictor=None, random_state=98, ...)</pre></div></div></div></div></div>"
            ]
          },
          "metadata": {},
          "execution_count": 136
        }
      ]
    },
    {
      "cell_type": "code",
      "source": [
        "rfecv = RFECV(estimator= model, step = 5, cv = 5, scoring='neg_mean_squared_error')\n",
        "rfecv = rfecv.fit(X_train, y_train)\n",
        "\n",
        "print(\"The optimal number of features:\", rfecv.n_features_)\n",
        "print('Selected features: %s' % list(X_train.columns[rfecv.support_]))\n",
        "\n",
        "best_features = list(X_train.columns[rfecv.support_])"
      ],
      "metadata": {
        "id": "U2kIP0-N8FLi"
      },
      "execution_count": null,
      "outputs": []
    },
    {
      "cell_type": "code",
      "source": [
        "X_train_new = X_train[best_features]\n",
        "X_val_new = X_val[best_features]\n",
        "X_test_new = X_test[best_features]"
      ],
      "metadata": {
        "id": "mo-uvfp88FLi"
      },
      "execution_count": null,
      "outputs": []
    },
    {
      "cell_type": "code",
      "source": [
        "model1 = XGBRegressor(learning_rate=0.1, max_depth=20, n_estimators=250, tree_method=\"gpu_hist\",random_state=123)\n",
        "model1.fit(X_train_new, y_train)"
      ],
      "metadata": {
        "colab": {
          "base_uri": "https://localhost:8080/",
          "height": 248
        },
        "outputId": "0ad76d2e-7675-4595-b330-4c9615ade7f6",
        "id": "kH7pRdR28FLi"
      },
      "execution_count": null,
      "outputs": [
        {
          "output_type": "execute_result",
          "data": {
            "text/plain": [
              "XGBRegressor(base_score=None, booster=None, callbacks=None,\n",
              "             colsample_bylevel=None, colsample_bynode=None,\n",
              "             colsample_bytree=None, early_stopping_rounds=None,\n",
              "             enable_categorical=False, eval_metric=None, feature_types=None,\n",
              "             gamma=None, gpu_id=None, grow_policy=None, importance_type=None,\n",
              "             interaction_constraints=None, learning_rate=0.1, max_bin=None,\n",
              "             max_cat_threshold=None, max_cat_to_onehot=None,\n",
              "             max_delta_step=None, max_depth=20, max_leaves=None,\n",
              "             min_child_weight=None, missing=nan, monotone_constraints=None,\n",
              "             n_estimators=250, n_jobs=None, num_parallel_tree=None,\n",
              "             predictor=None, random_state=123, ...)"
            ],
            "text/html": [
              "<style>#sk-container-id-12 {color: black;background-color: white;}#sk-container-id-12 pre{padding: 0;}#sk-container-id-12 div.sk-toggleable {background-color: white;}#sk-container-id-12 label.sk-toggleable__label {cursor: pointer;display: block;width: 100%;margin-bottom: 0;padding: 0.3em;box-sizing: border-box;text-align: center;}#sk-container-id-12 label.sk-toggleable__label-arrow:before {content: \"▸\";float: left;margin-right: 0.25em;color: #696969;}#sk-container-id-12 label.sk-toggleable__label-arrow:hover:before {color: black;}#sk-container-id-12 div.sk-estimator:hover label.sk-toggleable__label-arrow:before {color: black;}#sk-container-id-12 div.sk-toggleable__content {max-height: 0;max-width: 0;overflow: hidden;text-align: left;background-color: #f0f8ff;}#sk-container-id-12 div.sk-toggleable__content pre {margin: 0.2em;color: black;border-radius: 0.25em;background-color: #f0f8ff;}#sk-container-id-12 input.sk-toggleable__control:checked~div.sk-toggleable__content {max-height: 200px;max-width: 100%;overflow: auto;}#sk-container-id-12 input.sk-toggleable__control:checked~label.sk-toggleable__label-arrow:before {content: \"▾\";}#sk-container-id-12 div.sk-estimator input.sk-toggleable__control:checked~label.sk-toggleable__label {background-color: #d4ebff;}#sk-container-id-12 div.sk-label input.sk-toggleable__control:checked~label.sk-toggleable__label {background-color: #d4ebff;}#sk-container-id-12 input.sk-hidden--visually {border: 0;clip: rect(1px 1px 1px 1px);clip: rect(1px, 1px, 1px, 1px);height: 1px;margin: -1px;overflow: hidden;padding: 0;position: absolute;width: 1px;}#sk-container-id-12 div.sk-estimator {font-family: monospace;background-color: #f0f8ff;border: 1px dotted black;border-radius: 0.25em;box-sizing: border-box;margin-bottom: 0.5em;}#sk-container-id-12 div.sk-estimator:hover {background-color: #d4ebff;}#sk-container-id-12 div.sk-parallel-item::after {content: \"\";width: 100%;border-bottom: 1px solid gray;flex-grow: 1;}#sk-container-id-12 div.sk-label:hover label.sk-toggleable__label {background-color: #d4ebff;}#sk-container-id-12 div.sk-serial::before {content: \"\";position: absolute;border-left: 1px solid gray;box-sizing: border-box;top: 0;bottom: 0;left: 50%;z-index: 0;}#sk-container-id-12 div.sk-serial {display: flex;flex-direction: column;align-items: center;background-color: white;padding-right: 0.2em;padding-left: 0.2em;position: relative;}#sk-container-id-12 div.sk-item {position: relative;z-index: 1;}#sk-container-id-12 div.sk-parallel {display: flex;align-items: stretch;justify-content: center;background-color: white;position: relative;}#sk-container-id-12 div.sk-item::before, #sk-container-id-12 div.sk-parallel-item::before {content: \"\";position: absolute;border-left: 1px solid gray;box-sizing: border-box;top: 0;bottom: 0;left: 50%;z-index: -1;}#sk-container-id-12 div.sk-parallel-item {display: flex;flex-direction: column;z-index: 1;position: relative;background-color: white;}#sk-container-id-12 div.sk-parallel-item:first-child::after {align-self: flex-end;width: 50%;}#sk-container-id-12 div.sk-parallel-item:last-child::after {align-self: flex-start;width: 50%;}#sk-container-id-12 div.sk-parallel-item:only-child::after {width: 0;}#sk-container-id-12 div.sk-dashed-wrapped {border: 1px dashed gray;margin: 0 0.4em 0.5em 0.4em;box-sizing: border-box;padding-bottom: 0.4em;background-color: white;}#sk-container-id-12 div.sk-label label {font-family: monospace;font-weight: bold;display: inline-block;line-height: 1.2em;}#sk-container-id-12 div.sk-label-container {text-align: center;}#sk-container-id-12 div.sk-container {/* jupyter's `normalize.less` sets `[hidden] { display: none; }` but bootstrap.min.css set `[hidden] { display: none !important; }` so we also need the `!important` here to be able to override the default hidden behavior on the sphinx rendered scikit-learn.org. See: https://github.com/scikit-learn/scikit-learn/issues/21755 */display: inline-block !important;position: relative;}#sk-container-id-12 div.sk-text-repr-fallback {display: none;}</style><div id=\"sk-container-id-12\" class=\"sk-top-container\"><div class=\"sk-text-repr-fallback\"><pre>XGBRegressor(base_score=None, booster=None, callbacks=None,\n",
              "             colsample_bylevel=None, colsample_bynode=None,\n",
              "             colsample_bytree=None, early_stopping_rounds=None,\n",
              "             enable_categorical=False, eval_metric=None, feature_types=None,\n",
              "             gamma=None, gpu_id=None, grow_policy=None, importance_type=None,\n",
              "             interaction_constraints=None, learning_rate=0.1, max_bin=None,\n",
              "             max_cat_threshold=None, max_cat_to_onehot=None,\n",
              "             max_delta_step=None, max_depth=20, max_leaves=None,\n",
              "             min_child_weight=None, missing=nan, monotone_constraints=None,\n",
              "             n_estimators=250, n_jobs=None, num_parallel_tree=None,\n",
              "             predictor=None, random_state=123, ...)</pre><b>In a Jupyter environment, please rerun this cell to show the HTML representation or trust the notebook. <br />On GitHub, the HTML representation is unable to render, please try loading this page with nbviewer.org.</b></div><div class=\"sk-container\" hidden><div class=\"sk-item\"><div class=\"sk-estimator sk-toggleable\"><input class=\"sk-toggleable__control sk-hidden--visually\" id=\"sk-estimator-id-12\" type=\"checkbox\" checked><label for=\"sk-estimator-id-12\" class=\"sk-toggleable__label sk-toggleable__label-arrow\">XGBRegressor</label><div class=\"sk-toggleable__content\"><pre>XGBRegressor(base_score=None, booster=None, callbacks=None,\n",
              "             colsample_bylevel=None, colsample_bynode=None,\n",
              "             colsample_bytree=None, early_stopping_rounds=None,\n",
              "             enable_categorical=False, eval_metric=None, feature_types=None,\n",
              "             gamma=None, gpu_id=None, grow_policy=None, importance_type=None,\n",
              "             interaction_constraints=None, learning_rate=0.1, max_bin=None,\n",
              "             max_cat_threshold=None, max_cat_to_onehot=None,\n",
              "             max_delta_step=None, max_depth=20, max_leaves=None,\n",
              "             min_child_weight=None, missing=nan, monotone_constraints=None,\n",
              "             n_estimators=250, n_jobs=None, num_parallel_tree=None,\n",
              "             predictor=None, random_state=123, ...)</pre></div></div></div></div></div>"
            ]
          },
          "metadata": {},
          "execution_count": 139
        }
      ]
    },
    {
      "cell_type": "code",
      "source": [
        "y_pred_train = model1.predict(X_train_new)\n",
        "y_pred_val = model1.predict(X_val_new)\n",
        "\n",
        "mse_train=mean_squared_error(y_train, y_pred_train)\n",
        "mse_val=mean_squared_error(y_val, y_pred_val)\n",
        "\n",
        "print(\"Root Mean Squared error on Train data is:\",math.sqrt(mse_train))\n",
        "print(\"Root Mean Squared error on Val data is:\",math.sqrt(mse_val))"
      ],
      "metadata": {
        "colab": {
          "base_uri": "https://localhost:8080/"
        },
        "outputId": "065a1827-d748-42d1-8c18-c45f0de743f7",
        "id": "kl5cnz6x8FLi"
      },
      "execution_count": null,
      "outputs": [
        {
          "output_type": "stream",
          "name": "stdout",
          "text": [
            "Root Mean Squared error on Train data is: 1.0510422638776984\n",
            "Root Mean Squared error on Val data is: 1.045781970944786\n"
          ]
        }
      ]
    },
    {
      "cell_type": "code",
      "source": [
        "# Results with the best model\n",
        "pred1 = model1.predict(X_test_new)\n",
        "mse_test=mean_squared_error(y_test, pred1)\n",
        "print(\"Root Mean Squared error on Test data is:\",math.sqrt(mse_test))"
      ],
      "metadata": {
        "colab": {
          "base_uri": "https://localhost:8080/"
        },
        "outputId": "c74d564b-f23c-4503-943e-705b36a63935",
        "id": "s862qCp48FLi"
      },
      "execution_count": null,
      "outputs": [
        {
          "output_type": "stream",
          "name": "stdout",
          "text": [
            "Root Mean Squared error on Test data is: 0.8573355940014015\n"
          ]
        }
      ]
    },
    {
      "cell_type": "code",
      "source": [
        "spearmanr(y_test, pred1)"
      ],
      "metadata": {
        "colab": {
          "base_uri": "https://localhost:8080/"
        },
        "outputId": "41de4c5e-6eb2-4c34-9c52-71695dd4e0fd",
        "id": "xuX0tV238FLi"
      },
      "execution_count": null,
      "outputs": [
        {
          "output_type": "execute_result",
          "data": {
            "text/plain": [
              "SignificanceResult(statistic=0.9969548930747925, pvalue=0.0)"
            ]
          },
          "metadata": {},
          "execution_count": 55
        }
      ]
    },
    {
      "cell_type": "code",
      "source": [
        "eval_df = pd.DataFrame({\"Actual\": y_test.values, \"Predicted\": pred1})\n",
        "spearmanr_val = spearmanr(eval_df[\"Actual\"], eval_df[\"Predicted\"])"
      ],
      "metadata": {
        "id": "cwoJagDn8FLj"
      },
      "execution_count": null,
      "outputs": []
    },
    {
      "cell_type": "code",
      "source": [
        "fig = go.Figure()\n",
        "\n",
        "fig.add_trace(\n",
        "    go.Scattergl(\n",
        "        x=eval_df[\"Actual\"],\n",
        "        y=eval_df[\"Predicted\"],\n",
        "        name='Actual vs. Predicted',\n",
        "        mode='markers'\n",
        "    )\n",
        ")\n",
        "\n",
        "fig.add_annotation(\n",
        "    x=0.95,\n",
        "    y=0.10,\n",
        "    xref='paper',\n",
        "    yref='paper',\n",
        "    text='Spearman Rank Correlation = {:.3f}'.format(spearmanr_val.correlation),\n",
        "    showarrow=False\n",
        ")\n",
        "\n",
        "fig.update_layout(\n",
        "    title='Actual vs. Predicted',\n",
        "    height=700\n",
        ")\n",
        "\n",
        "fig.show()"
      ],
      "metadata": {
        "colab": {
          "base_uri": "https://localhost:8080/",
          "height": 717
        },
        "outputId": "ce446f07-3213-4ac6-d2a2-2412b7828069",
        "id": "NqV593uE8FLj"
      },
      "execution_count": null,
      "outputs": [
        {
          "output_type": "display_data",
          "data": {
            "text/html": [
              "<html>\n",
              "<head><meta charset=\"utf-8\" /></head>\n",
              "<body>\n",
              "    <div>            <script src=\"https://cdnjs.cloudflare.com/ajax/libs/mathjax/2.7.5/MathJax.js?config=TeX-AMS-MML_SVG\"></script><script type=\"text/javascript\">if (window.MathJax && window.MathJax.Hub && window.MathJax.Hub.Config) {window.MathJax.Hub.Config({SVG: {font: \"STIX-Web\"}});}</script>                <script type=\"text/javascript\">window.PlotlyConfig = {MathJaxConfig: 'local'};</script>\n",
              "        <script src=\"https://cdn.plot.ly/plotly-2.18.2.min.js\"></script>                <div id=\"49fedb32-8bfa-4613-9017-e64eae3b5289\" class=\"plotly-graph-div\" style=\"height:700px; width:100%;\"></div>            <script type=\"text/javascript\">                                    window.PLOTLYENV=window.PLOTLYENV || {};                                    if (document.getElementById(\"49fedb32-8bfa-4613-9017-e64eae3b5289\")) {                    Plotly.newPlot(                        \"49fedb32-8bfa-4613-9017-e64eae3b5289\",                        [{\"mode\":\"markers\",\"name\":\"Actual vs. Predicted\",\"x\":[38.6,96.5,73.9,59.9,52.4,48.5,54.0,46.8,78.9,42.1,52.5,47.7,51.3,71.2,57.2,48.4,47.5,46.7,77.1,45.2,40.4,92.1,44.2,41.3,40.2,47.6,49.6,43.2,56.7,54.8,47.6,86.0,59.3,36.4,72.5,51.6,52.8,39.3,39.7,67.9,44.6,46.7,43.6,47.6,49.6,66.5,73.4,50.3,40.2,45.0,56.5,47.5,42.0,71.3,49.7,46.7,50.9,54.2,50.8,79.3,44.3,54.1,93.8,41.7,44.0,67.2,47.3,47.0,51.6,42.2,44.8,53.0,55.5,46.5,35.9,51.5,36.6,88.5,53.9,41.2,50.4,52.0,37.0,62.8,54.4,48.7,38.5,50.0,34.9,42.0,61.6,61.2,43.7,49.9,38.5,52.2,55.1,47.9,62.1,47.1,50.9,49.4,50.7,51.5,28.0,53.1,52.0,71.6,74.0,62.6,45.4,48.7,77.6,58.7,38.8,58.1,47.8,47.8,52.4,39.8,52.7,43.5,63.3,48.8,44.5,43.7,51.4,55.1,41.2,44.4,59.5,66.0,57.8,84.7,37.2,52.6,46.2,72.3,42.5,44.9,57.7,38.8,44.9,38.9,83.3,53.1,46.2,46.1,32.4,53.2,40.5,86.8,58.4,53.8,43.4,41.8,42.1,51.7,82.8,49.5,43.6,49.8,44.3,70.6,44.9,36.5,72.6,45.8,81.8,44.6,49.7,81.4,48.1,40.5,65.9,75.6,51.0,43.7,48.5,41.3,51.5,53.3,41.1,44.3,49.5,33.6,36.9,68.6,55.0,86.7,41.7,59.6,40.5,74.8,41.3,48.8,48.0,46.7,58.4,46.5,49.8,64.6,49.3,36.8,47.0,66.0,43.2,64.5,48.6,45.1,45.6,46.8,51.5,50.6,43.7,48.2,72.9,47.6,46.2,49.5,37.6,42.7,48.6,48.4,42.5,53.9,55.5,52.3,39.2,46.2,68.0,49.7,44.1,42.8,49.4,61.7,48.9,45.2,55.2,57.3,48.7,54.2,51.4,90.5,51.5,40.8,38.2,57.5,41.9,56.3,68.7,52.9,53.2,56.6,55.0,35.4,34.9,42.2,49.0,39.3,44.2,48.0,37.8,48.6,38.5,41.8,39.0,46.2,57.0,54.4,40.4,36.5,42.5,73.3,42.5,49.4,42.9,65.0,44.3,45.8,43.9,40.5,45.4,50.6,51.1,38.7,82.0,35.0,48.0,93.2,44.1,40.1,49.8,50.3,86.3,81.3,49.7,34.4,42.9,46.3,65.1,36.6,33.4,46.5,52.4,77.9,41.6,45.0,41.6,32.5,50.9,48.5,51.5,70.0,53.0,56.3,47.8,44.6,65.4,68.7,48.0,51.1,47.1,54.5,53.4,54.3,39.1,71.7,51.3,45.5,43.2,44.7,94.8,46.3,38.5,90.9,46.6,28.6,69.7,56.5,50.9,51.8,59.6,54.5,81.5,48.5,49.7,44.3,58.2,40.1,38.9,33.9,78.9,39.0,46.1,40.8,49.3,43.3,56.9,51.3,47.2,49.7,51.4,54.6,48.9,52.0,52.1,42.2,34.7,44.8,52.2,50.2,80.9,70.8,40.2,55.3,51.3,45.8,50.7,58.4,44.9,52.2,56.5,54.0,52.0,60.6,67.1,40.6,44.7,48.5,51.9,39.3,48.3,58.9,43.0,40.6,54.1,39.9,46.2,44.2,51.8,55.4,50.9,38.4,74.6,59.0,87.3,52.9,42.2,41.6,47.0,49.5,71.5,49.2,44.4,34.8,53.5,32.5,71.7,43.0,66.7,56.1,56.0,40.9,42.6,45.1,45.8,50.7,42.3,43.3,48.9,50.5,49.9,89.8,48.7,50.2,79.2,93.6,44.8,46.0,43.5,29.4,42.7,92.9,43.9,38.3,49.1,36.9,45.4,31.3,49.8,50.5,47.8,72.0,41.2,39.2,43.3,53.8,39.3,53.1,50.5,39.1,50.6,54.0,85.3,54.5,45.3,52.5,45.0,45.6,38.4,51.6,40.0,55.1,51.3,49.6,43.0,47.9,47.7,50.7,52.5,68.2,78.6,39.6,48.6,46.5,52.1,71.2,45.3,55.3,53.4,40.2,31.1,46.7,86.6,54.3,43.3,44.0,49.6,35.6,33.7,50.0,48.0,50.3,62.8,51.1,40.5,59.6,54.0,68.9,43.0,47.4,48.1,70.2,42.3,41.8,74.1,58.1,79.4,41.6,40.3,45.5,43.8,46.4,39.2,69.1,56.0,55.7,47.0,48.0,42.9,45.2,48.7,62.3,96.5,37.9,44.4,41.8,49.6,53.0,45.5,60.5,43.6,39.8,53.4,60.7,42.8,37.0,48.1,77.7,49.3,45.0,44.3,68.2,44.3,41.0,55.8,45.5,57.7,47.5,47.6,39.1,65.6,43.4,54.8,47.6,52.8,51.6,62.1,50.9,61.5,39.0,50.8,54.7,52.2,37.1,45.5,72.4,50.1,47.8,46.9,48.3,48.5,62.8,38.5,51.0,37.0,42.1,89.3,48.5,45.5,54.2,38.2,48.9,48.4,74.2,47.1,44.5,56.4,48.8,54.0,62.6,47.9,41.5,52.1,53.0,54.9,61.7,46.9,54.6,45.5,49.7,54.7,52.8,48.8,60.5,51.0,44.8,40.3,58.9,54.3,42.1,45.2,41.2,57.3,34.9,67.7,68.2,48.6,39.6,48.9,67.7,46.3,39.2,51.3,73.4,62.0,51.5,49.9,48.8,44.3,65.8,47.9,50.1,47.6,60.9,46.5,35.6,51.7,35.2,45.1,40.9,53.8,41.2,42.9,45.0,40.0,43.4,37.1,35.4,41.1,46.2,51.8,34.6,49.8,41.9,52.7,36.6,35.5,46.1,45.2,47.3,64.7,43.8,45.5,45.3,44.3,48.0,54.3,50.0,46.6,44.9,55.6,66.9,39.0,52.3,42.6,50.9,34.9,48.8,51.4,47.9,54.5,75.8,49.1,85.9,50.7,45.0,43.6,73.8,42.2,48.9,62.5,40.1,88.9,74.1,50.8,41.7,46.6,49.1,56.0,43.4,42.7,47.5,46.8,55.1,46.2,52.4,49.1,53.1,51.3,44.3,41.4,44.3,50.1,60.6,51.7,46.9,36.3,77.5,44.0,44.2,41.2,48.6,28.4,36.3,87.6,62.0,69.7,47.1,68.6,45.9,47.4,41.2,46.6,53.3,42.0,47.3,38.8,70.0,51.4,49.7,44.5,74.1,55.8,44.6,65.6,51.6,47.2,56.7,41.1,58.8,48.6,39.9,56.9,40.5,50.5,46.7,54.3,48.9,79.0,42.0,41.2,39.9,73.5,45.4,69.8,42.4,35.3,43.8,49.7,45.6,40.0,41.6,30.4,44.1,48.5,73.6,51.9,45.8,71.6,50.4,48.6,52.9,45.0,91.5,33.8,50.2,45.0,44.1,83.0,64.3,46.5,48.8,51.7,43.4,47.1,40.6,45.6,35.6,61.5,41.9,47.8,68.1,54.4,60.5,38.1,57.9,58.4,39.0,41.5,75.1,32.7,54.6,55.1,46.0,50.1,45.4,46.5,42.7,45.3,48.6,86.1,70.6,64.2,63.5,39.5,74.0,39.2,50.4,48.0,50.2,49.4,51.5,46.8,44.8,46.9,50.3,48.0,46.3,46.7,42.3,49.7,52.0,53.2,47.8,34.4,55.2,45.3,72.0,46.5,40.9,55.8,47.2,39.1,41.3,57.0,69.0,51.2,45.6,35.0,40.4,53.5,54.5,53.4,36.6,43.6,50.7,72.3,56.3,75.5,37.8,49.0,56.5,46.2,48.4,44.6,44.3,50.9,55.3,64.5,58.1,47.7,39.1,71.8,49.7,39.9,42.6,42.6,50.3,37.4,47.7,38.2,52.2,56.2,43.2,52.6,43.2,41.7,46.1,78.5,43.0,55.9,43.0,46.2,52.9,82.2,51.5,57.0,72.7,50.6,49.2,37.2,28.0,46.8,49.5,40.4,49.1,68.7,49.7,52.5,51.6,82.8,49.3,47.1,53.7,47.7,48.8,48.6,73.0,48.9,45.0,47.9,59.7,57.7,52.5,54.7,41.7,91.9,46.2,52.9,46.3,61.9,49.6,49.9,37.4,44.5,50.7,37.8,49.0,48.8,44.7,33.8,41.8,44.0,47.4,47.8,44.6,43.2,53.4,40.2,47.9,51.9,41.1,47.6,49.5,43.7,44.3,50.2,44.5,38.5,47.2,50.3,48.0,35.9,43.2,41.6,44.1,49.9,41.5,74.8,78.9,52.1,59.3,46.7,71.2,45.1,54.8,46.1,35.9,50.8,42.1,50.9,56.3,44.0,50.2,45.8,37.3,42.0,50.4,40.6,51.7,53.4,44.5,42.0,93.9,33.7,50.6,46.7,47.4,65.0,39.5,50.0,39.0,95.3,65.9,51.6,40.3,49.8,43.8,40.6,42.7,64.5,44.5,80.6,48.0,52.7,40.5,87.4,36.4,40.0,50.3,52.0,48.0,48.8,59.3,65.8,53.4,61.0,37.3,111.8,52.2,88.7,50.4,64.8,48.4,47.1,37.9,57.3,53.3,81.3,46.0,38.8,36.4,43.6,63.8,44.2,51.3,65.0,54.7,45.2,85.3,41.2,56.4,41.0,45.8,47.4,40.8,51.1,82.7,50.4,55.0,49.4,49.6,42.7,41.8,79.9,80.1,57.0,50.9,54.0,79.4,43.2,50.6,46.3,42.0,53.3,50.0,45.1,96.2,58.0,45.8,41.8,46.8,42.6,41.9,40.6,47.4,55.3,52.4,43.5,46.9,79.8,46.3,44.0,79.0,44.8,35.4,42.4,44.4,40.0,42.7,53.5,50.5,38.3,39.9,87.2,51.1,82.6,47.8,41.6,42.5,48.9,50.7,48.4,48.0,55.7,47.5,51.7,48.3,40.3,53.7,58.2,50.9,48.6,55.2,87.6,52.8,41.2,77.4,44.5,51.1,85.4,36.3,56.0,47.5,40.0,52.4,49.0,39.2,48.1,61.5,80.0,39.4,58.4,71.7,54.1,46.8,52.3,94.7,54.8,48.1,37.9,50.5,56.2,38.1,73.0,51.1,61.0,36.0,43.7,40.4,62.5,50.0,45.8,55.0,48.2,68.8,60.9,59.2,50.3,49.0,47.6,49.3,56.9,40.9,53.1,45.6,45.4,37.0,51.1,39.1,50.9,39.7,45.3,44.1,32.6,42.6,52.0,49.0,41.0,45.4,49.4,43.3,39.9,65.1,38.4,49.1,41.2,45.5,50.2,37.8,40.9,48.5,37.1,48.0,88.9,49.7,33.3,36.3,54.5,74.5,37.4,48.2,68.1,45.8,52.0,56.4,50.4,60.5,52.3,43.2,53.3,50.0,47.1,53.4,74.7,47.2,43.1,42.4,38.2,56.2,51.0,79.4,39.8,85.4,84.5,75.8,44.9,45.8,48.7,39.7,54.0,48.1,42.7,25.9,60.4,43.3,47.2,49.0,47.8,50.5,52.9,45.0,49.5,51.0,47.3,47.1,45.8,42.7,46.5,38.1,51.2,49.6,52.2,45.7,45.5,46.1,59.0,49.0,47.4,47.1,66.4,51.3,39.2,52.8,51.8,48.9,49.1,45.2,50.4,57.1,46.3,55.8,51.9,36.8,53.2,46.0,40.4,55.9,65.2,52.3,43.9,52.3,35.0,46.0,53.0,38.5,50.7,49.4,54.3,64.4,56.8,51.9,48.1,45.9,35.0,44.1,53.9,65.3,47.6,41.6,49.3,42.6,52.1,50.9,58.0,87.4,33.2,46.3,53.2,52.8,49.6,42.6,75.0,34.0,47.0,40.3,75.4,46.5,45.4,65.0,51.2,81.7,47.0,51.4,42.7,42.8,74.0,53.4,47.8,41.0,49.5,45.5,56.9,55.0,46.7,50.5,36.0,40.9,41.8,42.2,37.9,53.3,47.6,91.6,42.1,47.9,44.9,48.8,46.1,52.9,42.3,37.9,41.5,46.4,65.0,45.7,45.3,47.5,50.3,45.4,30.0,40.1,66.5,41.9,45.2,61.5,54.1,47.0,39.3,82.4,45.2,56.2,41.6,44.5,43.7,46.6,63.7,50.6,41.7,43.6,56.0,47.3,52.9,55.5,37.9,44.4,58.3,40.6,49.8,44.6,65.0,51.0,55.0,49.9,49.0,35.4,54.3,52.2,50.1,41.5,48.5,28.0,52.3,64.7,40.8,43.1,66.2,49.1,52.9,41.4,54.0,41.8,50.9,52.3,54.7,44.4,44.5,44.7,57.0,44.3,44.8,41.5,68.6,42.4,47.3,37.2,87.7,72.8,46.8,49.2,37.7,87.5,43.3,75.5,51.9,37.8,51.5,42.8,61.5,51.3,47.5,48.7,44.8,48.4,67.0,52.1,89.1,55.9,47.2,44.6,50.5,44.4,53.8,43.9,41.2,48.9,52.2,46.2,51.6,45.6,42.0,57.1,48.2,42.6,50.7,43.3,48.7,47.3,42.4,60.3,38.6,43.2,53.6,46.0,55.9,38.5,52.0,74.0,40.8,46.8,49.9,92.6,69.6,48.7,41.0,53.1,44.1,84.6,52.4,55.0,53.3,43.2,54.6,58.8,46.2,42.1,46.0,44.9,44.0,52.3,79.0,52.8,62.0,37.1,42.2,45.3,44.2,35.5,43.4,39.1,49.8,80.5,55.1,48.1,45.0,44.1,67.4,48.4,42.3,49.9,43.2,39.6,51.4,41.2,48.6,74.8,42.3,38.2,68.8,44.6,51.6,39.9,47.0,54.7,52.7,51.5,52.7,53.1,41.6,41.9,62.4,73.3,54.4,51.9,45.9,52.6,43.2,37.5,50.0,54.8,37.2,39.6,56.0,66.9,42.2,54.9,49.7,44.6,48.3,64.7,45.2,39.5,67.0,34.5,75.8,39.8,44.3,49.5,63.9,56.0,53.1,50.5,80.7,65.5,39.4,53.6,35.7,43.4,47.3,40.9,47.0,44.2,49.7,66.8,67.4,41.6,46.0,73.9,42.5,55.6,41.4,49.3,53.1,45.9,49.0,48.0,38.2,43.1,34.0,88.8,41.0,50.6,75.0,39.6,41.6,40.5,37.9,34.6,43.7,63.0,48.6,51.2,63.6,61.1,53.4,45.6,56.2,54.0,70.4,51.1,71.5,36.6,53.6,34.4,42.6,47.4,71.3,49.6,51.0,47.5,52.2,39.3,79.2,36.8,45.8,52.0,65.2,69.9,30.7,43.4,64.4,50.0,44.7,39.4,52.0,41.3,55.0,47.0,49.3,49.0,70.3,44.4,45.7,49.8,46.6,51.8,98.3,41.6,83.3,54.4,42.5,40.0,51.7,61.2,52.0,63.8,43.6,49.5,41.0,40.4,50.4,50.1,41.7,28.3,64.4,38.3,47.5,50.3,56.6,53.4,49.6,42.1,45.6,40.7,66.2,41.3,44.8,69.4,47.5,48.7,64.8,47.8,42.0,47.8,81.9,48.7,48.7,53.0,55.4,41.9,37.0,55.2,43.3,41.8,70.0,47.8,53.5,42.4,57.8,75.1,44.1,63.3,36.4,76.2,40.0,57.2,64.9,66.1,49.6,50.6,47.9,46.9,42.5,51.0,53.9,71.8,71.6,38.9,34.4,50.6,70.1,55.7,59.1,43.1,52.6,58.3,68.6,39.4,50.9,47.7,44.3,38.7,45.6,76.5,39.3,48.3,47.4,45.5,49.1,48.4,35.3,41.0,51.4,56.4,56.8,55.0,47.8,38.3,46.7,66.7,47.9,37.1,62.6,60.3,65.6,43.3,53.5,47.6,57.1,51.5,51.2,47.4,42.7,87.1,40.2,42.7,43.0,41.6,53.1,50.5,49.2,39.4,49.9,89.6,57.3,52.1,54.9,46.8,56.8,47.4,51.1,55.5,51.0,62.9,42.4,36.8,49.8,61.5,53.4,45.8,45.5,69.2,45.9,83.7,52.4,48.7,39.2,63.0,62.6,39.6,43.0,55.0,49.2,47.8,60.1,46.9,37.5,43.9,48.0,49.6,50.8,40.3,46.8,34.6,63.1,50.3,45.4,52.4,47.7,48.2,37.6,42.9,44.7,52.8,85.6,46.6,36.2,50.6,37.4,47.9,43.9,44.9,56.0,45.0,68.6,34.5,38.9,44.7,68.3,52.8,47.0,41.3,53.6,45.1,50.2,53.8,50.0,43.8,43.4,36.7,46.8,64.1,86.7,37.4,41.3,70.6,37.5,81.5,47.4,40.3,45.3,43.6,44.9,80.8,50.5,47.0,62.0,46.6,44.1,36.2,52.2,52.2,54.4,44.3,40.2,73.1,55.5,49.0,62.9,43.6,53.2,53.9,38.4,42.6,44.1,52.1,44.1,44.5,47.7,57.2,41.4,41.7,45.5,51.0,28.0,55.7,46.6,45.9,40.4,54.9,38.7,46.4,67.7,34.4,34.7,44.9,52.1,50.2,55.2,47.1,69.4,43.2,48.4,43.6,51.2,82.5,43.2,49.3,52.5,65.0,42.9,46.0,45.5,66.3,40.2,83.4,40.9,69.3,45.6,34.9,57.7,52.0,49.9,54.0,74.7,69.0,61.2,66.4,53.5,53.3,42.2,47.0,57.5,49.7,44.4,60.7,52.7,52.6,51.3,43.1,41.2,41.6,63.5,44.3,48.7,47.2,61.7,65.1,43.6,42.6,54.1,57.6,48.4,43.6,51.6,67.6,49.0,46.0,50.1,49.7,49.4,46.0,71.3,90.0,42.0,39.7,41.8,45.3,64.6,80.6,78.2,59.5,53.0,44.0,52.6,51.6,41.2,70.5,43.7,37.9,46.6,47.4,51.3,38.6,44.4,48.6,66.1,45.3,64.7,62.8,50.3,50.4,39.5,66.8,55.9,49.0,47.9,64.3,44.2,41.1,48.2,54.6,36.0,49.7,41.8,46.7,47.3,45.8,38.1,40.0,48.8,47.6,54.9,43.4,48.7,72.7,52.5,47.7,59.0,40.6,56.9,56.3,51.0,66.0,55.0,46.1,49.8,64.8,88.2,40.6,47.8,42.8,49.6,65.2,84.4,48.1,35.1,50.4,47.2,52.0,52.0,75.1,70.6,45.3,67.0,45.6,45.9,41.8,44.8,81.7,41.0,38.5,46.6,38.3,79.5,54.8,72.2,41.7,59.3,45.0,51.0,51.0,39.0,55.8,50.7,49.7,65.7,41.7,37.8,46.3,50.1,76.6,44.8,44.6,37.7,60.9,42.2,36.6,49.9,52.6,38.9,54.7,57.7,50.5,57.1,48.8,83.7,35.9,53.4,75.8,39.2,39.8,90.7,53.9,42.4,46.2,75.1,48.9,44.5,38.9,37.0,48.4,38.2,52.6,71.9,49.3,40.5,94.6,48.0,50.6,49.3,39.9,40.9,52.4,45.2,55.4,45.4,53.6,50.1,38.0,48.6,57.5,56.2,50.6,35.1,67.2,66.7,43.3,52.1,79.6,52.6,87.5,52.3,52.6,45.3,41.8,55.0,67.6,45.4,46.7,54.0,51.0,47.2,44.1,47.8,60.0,38.8,41.6,50.8,41.6,62.5,52.5,49.8,49.1,86.8,73.7,51.7,54.4,61.4,34.6,41.0,63.5,47.3,47.0,39.4,43.8,56.0,52.9,96.1,38.4,47.4,40.8,75.0,49.0,57.0,42.2,51.6,74.0,37.3,55.9,69.6,55.0,54.9,45.1,58.0,64.9,41.6,67.3,40.6,60.9,45.9,48.5,54.6,45.0,48.9,55.6,47.4,52.4,75.3,87.1,87.0,45.0,46.4,54.7,38.4,32.6,60.5,59.0,36.7,49.0,57.8,47.2,45.9,48.5,44.2,88.6,55.8,61.5,48.3,45.5,43.6,53.7,54.4,97.9,59.0,44.9,56.7,95.1,71.8,68.6,77.4,43.8,43.8,91.8,48.6,94.6,41.0,48.8,59.3,44.9,43.3,48.2,53.1,54.3,47.0,50.6,48.5,65.1,56.0,46.4,44.7,49.3,81.7,51.4,43.7,46.8,55.9,56.9,54.2,47.5,41.3,55.0,46.2,47.6,30.9,34.9,91.6,49.2,46.2,39.7,50.6,49.0,39.9,40.0,42.8,48.7,47.9,53.0,67.3,86.2,43.1,42.5,47.8,50.9,63.0,51.3,48.5,65.0,38.5,45.5,47.6,34.5,45.0,72.6,54.1,49.9,53.2,45.3,40.2,40.3,45.2,47.8,48.3,46.1,58.2,48.6,48.2,49.5,50.1,67.3,49.3,73.2,53.9,42.9,46.2,44.4,79.0,46.7,34.4,41.3,52.9,38.8,49.8,49.7,66.0,66.6,52.9,43.2,63.9,42.8,49.2,58.4,78.4,45.3,51.5,75.1,80.5,79.3,51.5,56.6,47.0,52.3,39.5,42.0,34.7,57.9,49.0,66.9,53.8,41.9,53.9,41.0,50.8,54.7,43.0,48.4,41.6,57.0,48.5,41.3,45.7,68.5,48.6,52.0,57.0,46.6,54.1,45.2,44.9,62.2,71.8,74.0,49.4,62.5,47.9,49.6,42.9,56.4,57.1,50.8,88.5,53.8,50.9,75.3,44.3,44.2,75.0,42.4,42.2,40.1,38.6,49.8,53.0,82.5,42.0,48.9,50.7,50.4,52.2,52.3,41.2,46.5,49.0,62.1,47.3,73.1,52.0,52.8,47.3,41.8,50.7,49.7,74.5,51.2,61.0,47.3,48.3,37.0,58.4,48.2,63.1,46.4,45.4,49.2,49.3,64.9,86.3,56.8,38.8,51.3,49.5,47.1,29.4,48.0,44.6,67.8,38.1,49.2,47.4,74.4,41.6,89.3,56.4,44.1,43.4,53.7,54.6,56.1,43.0,53.3,49.9,55.6,56.6,75.7,56.7,38.8,88.4,51.3,40.7,43.3,60.0,74.3,41.1,41.6,39.6,53.3,51.2,46.7,57.8,49.4,50.5,39.0,50.5,50.8,54.8,53.0,46.8,53.6,47.8,58.2,71.2,48.6,39.2,48.3,47.8,52.4,71.7,46.6,50.0,42.5,83.5,40.1,51.9,41.4,45.7,52.6,48.6,38.4,51.4,67.9,42.7,69.5,53.2,62.7,63.3,42.1,61.3,52.8,41.7,46.1,67.1,45.2,45.1,54.0,44.3,59.1,47.0,52.3,55.4,49.2,43.1,57.8,49.4,47.0,43.8,44.5,46.1,48.3,45.7,45.7,47.0,62.0,46.0,66.7,51.0,48.4,47.5,31.0,32.0,72.4,44.9,52.6,38.3,37.5,49.0,50.1,52.6,45.4,40.7,53.1,42.2,48.8,45.5,73.5,47.8,38.4,51.7,48.9,55.4,43.5,34.5,31.2,70.4,49.5,44.9,45.1,38.8,43.6,53.2,70.6,42.4,50.8,48.5,49.4,41.7,65.3,85.2,42.5,51.8,46.8,39.0,71.1,54.2,65.6,55.9,51.8,47.5,48.9,51.4,69.6,48.1,35.3,58.3,51.9,40.9,38.6,33.6,64.9,75.3,48.3,50.9,56.0,38.9,57.4,46.3,90.4,59.2,41.9,45.7,49.8,52.4,70.3,94.4,40.2,61.1,50.9,44.6,37.8,57.5,44.6,37.3,65.1,47.9,47.2,48.2,48.4,48.9,46.5,67.6,46.2,41.3,42.9,46.8,44.2,54.7,36.8,48.5,63.3,79.2,41.4,50.3,45.9,50.9,50.6,61.7,58.0,44.5,42.8,35.2,60.9,51.9,76.3,46.5,58.1,66.5,96.4,59.2,50.8,39.4,37.6,59.4,51.9,36.0,72.9,54.5,53.2,48.1,43.6,41.8,45.2,74.4,67.1,88.6,48.3,44.4,59.9,39.2,49.3,38.8,57.2,47.0,52.0,52.8,54.8,45.0,74.3,48.7,63.5,86.5,46.5,84.2,47.5,42.7,50.9,58.7,49.2,67.4,34.9,41.4,83.0,39.5,55.5,45.6,42.2,67.4,55.4,45.0,47.1,83.8,41.1,50.8,48.8,40.2,54.5,50.9,45.1,40.1,40.8,34.0,50.6,47.6,48.7,46.9,63.3,60.3,48.0,64.2,69.5,47.6,45.1,44.5,45.7,38.1,53.4,52.8,58.5,65.0,48.7,65.4,61.0,44.9,50.4,65.4,51.2,40.3,49.6,76.7,54.9,82.8,46.5,70.1,71.8,54.4,45.2,42.6,51.0,44.4,52.5,55.1,57.5,48.2,53.7,47.1,38.7,33.1,52.7,36.2,47.3,31.2,55.3,42.3,46.2,47.8,85.4,42.7,51.1,39.9,47.2,50.3,45.4,49.7,40.8,45.6,36.2,46.9,41.8,48.9,37.2,47.9,46.8,55.9,42.0,47.5,54.4,47.6,73.0,51.2,39.9,59.7,47.4,37.0,72.9,50.0,66.3,46.4,44.9,35.1,49.0,50.5],\"y\":[38.60251235961914,96.49947357177734,73.90724182128906,61.449371337890625,52.39870071411133,48.50167465209961,53.99951934814453,46.80097579956055,78.89728546142578,42.10061264038086,52.499855041503906,47.700172424316406,51.29988098144531,71.20030975341797,57.19994354248047,48.39620590209961,47.499786376953125,46.69919204711914,77.0984878540039,45.19963073730469,40.40068435668945,92.09966278076172,44.199764251708984,41.30039978027344,40.2014274597168,47.6002082824707,49.600257873535156,43.20051574707031,56.6993522644043,54.799346923828125,47.600730895996094,86.00013732910156,59.29995346069336,36.401214599609375,72.50030517578125,51.59980773925781,52.7998046875,39.3013801574707,39.69991683959961,67.8991928100586,44.60016632080078,46.69929122924805,43.60040283203125,47.599876403808594,49.59773254394531,66.50080871582031,73.40050506591797,50.29823303222656,40.200531005859375,45.00033187866211,56.50002670288086,47.49614715576172,42.000587463378906,71.3001708984375,49.699913024902344,46.70060348510742,55.451759338378906,54.19435119628906,50.79986572265625,79.29998779296875,44.2998046875,54.099281311035156,93.79817199707031,41.700984954833984,44.00045394897461,67.19951629638672,47.30086898803711,46.99946594238281,51.599769592285156,42.19972229003906,44.79963684082031,52.99786376953125,55.49989700317383,46.500606536865234,35.90049743652344,51.50566101074219,36.60006332397461,88.5,53.899967193603516,41.178489685058594,50.40022277832031,51.99750518798828,37.00076675415039,62.7999382019043,54.39952087402344,48.698970794677734,38.50096130371094,50.000038146972656,34.901458740234375,42.00080490112305,61.59963607788086,61.200077056884766,43.699764251708984,49.899471282958984,38.50068283081055,52.2000617980957,55.09886932373047,47.8985481262207,62.099849700927734,47.10068893432617,50.899295806884766,49.400054931640625,50.69972610473633,51.49878692626953,27.999862670898438,53.10005187988281,51.999977111816406,71.59947204589844,74.00005340576172,62.59926223754883,45.399837493896484,48.69851303100586,77.59783935546875,58.6995849609375,38.7996826171875,58.097991943359375,47.798030853271484,47.79998779296875,52.40207290649414,39.79991149902344,52.699440002441406,43.49959182739258,63.29978942871094,48.79905700683594,44.50078201293945,43.69792556762695,51.400203704833984,55.099754333496094,41.200496673583984,44.399349212646484,59.49726486206055,66.00062561035156,57.786460876464844,84.6999740600586,37.20124816894531,52.59965896606445,46.20949172973633,72.30035400390625,42.50049591064453,44.90016555786133,57.69980239868164,38.801761627197266,44.89997863769531,38.90038299560547,83.30004119873047,53.098419189453125,46.20088195800781,46.09860610961914,32.4008674621582,53.199764251708984,40.49972915649414,86.80065155029297,58.39390182495117,53.799827575683594,43.40022277832031,41.80036544799805,42.10012435913086,51.700294494628906,82.79961395263672,49.498233795166016,43.601409912109375,46.97093200683594,44.300689697265625,70.59980773925781,44.904361724853516,36.500328063964844,72.59976196289062,45.79973220825195,81.79794311523438,44.599403381347656,49.70033645629883,79.67053985595703,48.10037612915039,40.501041412353516,65.89971923828125,75.5972671508789,51.000755310058594,43.70021438598633,48.4979362487793,41.301231384277344,51.49934768676758,53.299747467041016,41.09978103637695,44.30046081542969,49.49984359741211,33.601680755615234,36.90260696411133,68.60032653808594,54.997596740722656,86.69939422607422,41.69981384277344,59.59996032714844,40.50005340576172,74.80135345458984,41.30487060546875,48.80021286010742,47.99968338012695,46.69956970214844,58.39889907836914,46.49900817871094,49.802101135253906,64.60093688964844,49.30025863647461,36.80086898803711,47.00150680541992,65.99789428710938,43.20043182373047,64.50059509277344,48.60076141357422,45.10043716430664,45.60042953491211,46.799869537353516,51.49885177612305,50.59965515136719,43.69942855834961,48.200252532958984,72.89961242675781,47.600120544433594,46.200130462646484,49.5001335144043,37.600093841552734,42.69919967651367,48.60569763183594,48.400108337402344,42.49998092651367,53.899810791015625,55.49828338623047,52.299346923828125,39.201072692871094,46.20102310180664,67.5499038696289,49.699947357177734,44.09813690185547,42.80039978027344,49.39932632446289,61.699501037597656,48.900264739990234,45.19935607910156,55.19976806640625,57.29833221435547,48.698665618896484,54.197628021240234,51.40009689331055,90.50017547607422,51.49955368041992,40.79985427856445,38.20674514770508,57.49855041503906,41.90001678466797,56.29999923706055,68.7003402709961,52.89975357055664,53.200687408447266,56.59945297241211,54.99898910522461,35.400569915771484,34.903926849365234,42.203834533691406,49.00022888183594,39.29903030395508,44.20041275024414,47.9978141784668,37.801204681396484,48.600093841552734,38.50078582763672,41.80002212524414,38.99968719482422,46.20012283325195,57.00031661987305,54.398380279541016,40.400054931640625,36.50082778930664,42.50014114379883,73.2984848022461,42.50010299682617,49.400291442871094,42.90031433105469,65.00029754638672,44.300498962402344,45.80113983154297,43.90019989013672,40.50117111206055,45.4000358581543,50.59950637817383,51.10057067871094,38.6988639831543,82.00110626220703,35.00078201293945,47.999847412109375,93.19805908203125,44.100032806396484,40.10029220581055,49.79931640625,50.30357360839844,86.29985046386719,81.30011749267578,49.69978332519531,34.40003204345703,42.90052795410156,46.30179977416992,65.09736633300781,36.60861587524414,33.399330139160156,46.50016784667969,52.39955520629883,77.88445281982422,41.60104751586914,45.00122833251953,41.600669860839844,32.49995422363281,50.89990234375,48.49742889404297,51.49873352050781,70.00005340576172,52.99905014038086,56.29719543457031,47.79981994628906,44.60041427612305,62.648250579833984,68.70038604736328,47.99915313720703,51.098899841308594,47.099483489990234,54.499385833740234,53.399253845214844,54.300113677978516,39.10268783569336,71.69985961914062,51.299835205078125,45.50059127807617,43.19981002807617,44.701019287109375,94.79735565185547,46.30018997192383,38.50798034667969,90.89942169189453,46.59995651245117,38.200191497802734,69.70021057128906,56.49939727783203,50.899253845214844,51.799739837646484,59.599212646484375,54.49984359741211,81.50016784667969,48.500003814697266,49.70058059692383,44.3002815246582,58.19911575317383,40.10002899169922,38.90278244018555,33.8995475769043,78.89301300048828,38.99989318847656,46.10702896118164,40.799320220947266,49.29966735839844,43.30032730102539,56.89958190917969,51.301368713378906,47.20002746582031,49.70034408569336,51.399845123291016,54.60016632080078,48.89913558959961,51.999080657958984,52.09906768798828,42.20018005371094,34.700416564941406,44.80076599121094,52.19612503051758,50.203636169433594,80.89996337890625,70.79918670654297,40.2001838684082,58.296478271484375,51.29959487915039,45.798858642578125,50.70263671875,58.39996337890625,44.899818420410156,52.20003890991211,56.49946975708008,53.99956130981445,51.99877166748047,60.699588775634766,67.09822082519531,40.6001091003418,44.69944381713867,48.48854446411133,51.89889144897461,39.30063247680664,48.300270080566406,58.8949089050293,42.99998474121094,40.60123062133789,54.10017776489258,39.89998245239258,46.20015335083008,44.200660705566406,51.799095153808594,55.400306701660156,50.899200439453125,38.40384292602539,74.59937286376953,58.999977111816406,87.2996826171875,52.899906158447266,42.20053482055664,41.60057830810547,46.999908447265625,49.49927520751953,71.49945068359375,49.19972610473633,44.39997100830078,34.79983901977539,53.4951171875,32.503543853759766,71.69572448730469,42.99916076660156,66.75028991699219,56.10021209716797,55.99948501586914,40.9020881652832,42.60051345825195,45.099342346191406,45.80097961425781,50.70090866088867,44.43389129638672,43.300933837890625,48.89960479736328,50.499969482421875,49.900421142578125,89.80331420898438,48.700828552246094,50.20008087158203,79.19960021972656,93.59969329833984,44.79987335205078,45.999961853027344,43.49989318847656,33.05088424682617,42.700775146484375,92.95487213134766,43.89957809448242,38.30427551269531,49.09933090209961,36.899932861328125,45.40030288696289,31.300613403320312,49.799705505371094,50.5006103515625,47.79987716674805,71.99940490722656,41.19987487792969,39.20691680908203,43.30046081542969,53.79928970336914,39.30027389526367,53.099456787109375,50.49930953979492,39.10260009765625,50.5931282043457,53.99128341674805,85.29997253417969,54.4975471496582,45.30010223388672,52.499149322509766,44.9998664855957,45.599700927734375,38.39891052246094,51.60044479370117,40.00032424926758,55.100318908691406,51.29981994628906,49.599822998046875,43.00016784667969,47.900230407714844,47.70070266723633,50.70117950439453,52.503562927246094,68.20048522949219,78.59981536865234,39.59953689575195,48.600276947021484,46.50058364868164,52.09976577758789,71.19993591308594,45.29985427856445,55.299766540527344,53.4013557434082,40.200279235839844,31.10149574279785,46.70122146606445,86.59527587890625,54.29964065551758,43.300018310546875,44.000099182128906,49.60087203979492,35.59892272949219,33.69997787475586,49.99883270263672,47.99967956542969,50.29952621459961,62.79990005493164,51.09693908691406,40.50106430053711,59.60204315185547,53.998321533203125,68.90072631835938,42.99993896484375,47.399864196777344,48.10011291503906,70.19652557373047,42.300201416015625,41.80012130737305,74.1034164428711,58.09958267211914,79.40016174316406,41.60042953491211,40.303306579589844,45.50026321411133,43.79988098144531,46.39787292480469,39.20009231567383,69.09960174560547,55.9990234375,55.69969177246094,46.99721145629883,48.0006103515625,42.89991760253906,45.20027542114258,48.700923919677734,63.6518669128418,96.49923706054688,37.90256118774414,44.40238571166992,41.80817413330078,49.59971618652344,52.99992752075195,45.49996566772461,60.4996223449707,43.5994758605957,39.79949188232422,53.39929962158203,60.7002067565918,42.799617767333984,37.0013313293457,48.103389739990234,77.69947814941406,49.30027770996094,45.00146484375,44.29977798461914,68.19882202148438,44.299163818359375,40.99999237060547,55.80045700073242,45.49995040893555,57.69943618774414,47.49882507324219,47.599632263183594,39.10010528564453,65.60285949707031,43.40102767944336,47.398563385009766,47.60004806518555,52.80134963989258,51.59954833984375,62.098838806152344,50.90072250366211,61.504234313964844,39.00053024291992,50.799949645996094,54.69999313354492,52.202613830566406,37.1000862121582,45.49988555908203,72.39979553222656,50.09990692138672,47.801170349121094,46.899620056152344,48.30003356933594,48.5054817199707,62.6752815246582,38.50044250488281,51.000545501708984,37.00172424316406,42.10163497924805,89.30011749267578,48.49992752075195,45.50038146972656,54.20023727416992,38.20358657836914,48.899505615234375,48.39936447143555,74.20028686523438,47.10063552856445,44.50023651123047,56.39809799194336,48.80029296875,53.99667739868164,62.59996795654297,47.90067672729492,41.500308990478516,52.100101470947266,52.99979019165039,54.9000358581543,61.69970703125,46.899803161621094,54.60032272338867,45.50135040283203,49.69925308227539,54.69823455810547,52.79984664916992,48.800567626953125,60.49949645996094,50.99998474121094,44.8009033203125,40.300941467285156,58.89897155761719,54.300086975097656,42.10067367553711,45.20043182373047,41.19997787475586,57.29840087890625,34.90243148803711,67.7009048461914,68.19975280761719,48.600990295410156,39.60041809082031,48.899349212646484,67.69770050048828,46.300174713134766,39.2008056640625,51.299442291259766,73.39868927001953,62.24724197387695,51.498939514160156,49.899864196777344,49.2718505859375,44.30043411254883,65.79981994628906,47.89952850341797,50.09952163696289,47.60067367553711,60.89864730834961,46.49971389770508,35.60050582885742,51.700016021728516,35.2010498046875,45.10165023803711,40.89962387084961,53.796138763427734,41.20124435424805,42.899658203125,44.99411392211914,40.00114440917969,43.399566650390625,37.10201644897461,35.40122604370117,41.100257873535156,46.199825286865234,51.79839324951172,34.60489273071289,49.7994270324707,41.90056610107422,52.6949462890625,36.601158142089844,35.49971389770508,46.10023498535156,45.20022201538086,47.300262451171875,64.69967651367188,43.79948806762695,45.49781799316406,45.30049514770508,44.30051803588867,47.999900817871094,54.29942321777344,50.00032043457031,46.60118103027344,44.90018844604492,55.608604431152344,66.9005126953125,39.000816345214844,52.298465728759766,42.59999465942383,50.89617156982422,34.900299072265625,48.7994270324707,51.40299987792969,47.89859390258789,54.500267028808594,75.80257415771484,49.099891662597656,85.89998626708984,50.69966506958008,45.00028991699219,43.60091018676758,73.8017807006836,42.200599670410156,48.899993896484375,62.49510955810547,40.100440979003906,88.89990997314453,74.09830474853516,50.7995491027832,41.700252532958984,46.59988784790039,49.10020446777344,55.99991989135742,43.39995193481445,42.69883346557617,47.500953674316406,46.80040740966797,55.09885025024414,46.20061492919922,52.400211334228516,49.100059509277344,53.101905822753906,51.30035400390625,44.29987716674805,41.39924240112305,44.300079345703125,50.0991325378418,60.599300384521484,51.699676513671875,46.90827560424805,36.3050422668457,77.49881744384766,43.163299560546875,44.19795608520508,41.20048141479492,48.60017013549805,28.400911331176758,36.30052185058594,87.60005187988281,61.99604797363281,69.70021057128906,47.1000862121582,68.5999984741211,45.90163040161133,47.40011978149414,41.199989318847656,46.59976577758789,53.299991607666016,41.9970817565918,47.300148010253906,38.80072021484375,69.99781799316406,51.398189544677734,49.69962692260742,44.50013732910156,74.09947967529297,55.79549026489258,44.600013732910156,65.59981536865234,51.599822998046875,47.201263427734375,56.698848724365234,41.10029602050781,58.80073165893555,48.60081481933594,39.90121078491211,56.89981460571289,40.50088882446289,46.92585372924805,46.70030212402344,54.29994583129883,48.900634765625,79.67053985595703,42.00004577636719,41.2001838684082,39.900169372558594,73.50055694580078,45.4029541015625,69.80028533935547,42.400390625,35.30240249633789,43.79997253417969,49.70017623901367,45.599609375,41.65909194946289,41.59947204589844,30.39905548095703,43.950645446777344,48.499847412109375,73.60022735595703,51.89894104003906,41.99667739868164,71.5977783203125,49.4001579284668,48.5972785949707,52.89929962158203,44.99982833862305,91.49966430664062,33.80076217651367,50.19908142089844,44.99977493286133,44.10205078125,82.99996185302734,64.29966735839844,46.501461029052734,48.80006408691406,51.700706481933594,43.40484619140625,47.099910736083984,40.60112380981445,45.60057067871094,35.60017776489258,61.497947692871094,41.90025329589844,47.79983139038086,68.10037231445312,54.400360107421875,60.4996452331543,38.104400634765625,57.89816665649414,58.399436950683594,38.99998474121094,41.50030517578125,75.10034942626953,32.700321197509766,54.60035705566406,55.100311279296875,44.00043487548828,50.100250244140625,45.40077209472656,46.5006217956543,42.700477600097656,45.304351806640625,48.59859085083008,86.09970092773438,70.59916687011719,64.19933319091797,63.49957275390625,39.50022888183594,73.99846649169922,39.200042724609375,50.399261474609375,47.99821853637695,50.19948196411133,49.39973068237305,51.4995231628418,46.800621032714844,44.800289154052734,46.90093231201172,50.299827575683594,48.000057220458984,46.29999923706055,46.700130462646484,42.30226516723633,48.9002571105957,51.999359130859375,53.19880294799805,47.80021667480469,34.40058898925781,60.23168182373047,45.299781799316406,71.99971771240234,46.499855041503906,40.90198516845703,55.79985046386719,47.202903747558594,39.10336685180664,41.30069351196289,56.99991989135742,68.99723815917969,51.19981384277344,45.59931945800781,35.00252914428711,40.400150299072266,53.501197814941406,54.499114990234375,53.400020599365234,36.603694915771484,43.60116958618164,50.70016860961914,72.30078125,56.2984733581543,75.49591827392578,37.799461364746094,49.00038146972656,56.5010986328125,46.197872161865234,48.39974594116211,44.600135803222656,44.29988098144531,50.89921951293945,55.29904556274414,64.50018310546875,58.09951400756836,47.69978713989258,39.100223541259766,71.79938507080078,49.70048522949219,39.900001525878906,42.604854583740234,42.60477828979492,50.30024337768555,37.400230407714844,47.69791030883789,38.20013427734375,52.21062088012695,56.199493408203125,43.20283126831055,52.59959030151367,43.20045471191406,41.70066833496094,46.10030746459961,78.50017547607422,43.0001220703125,55.90018081665039,42.999839782714844,46.19773483276367,52.89909362792969,82.19869995117188,51.496761322021484,56.99940872192383,72.70026397705078,50.600425720214844,49.19991683959961,37.20084762573242,28.000965118408203,46.8004035949707,49.498966217041016,40.40049362182617,49.10015106201172,68.69783020019531,49.69994354248047,52.49951171875,51.60102462768555,82.8001937866211,49.299808502197266,47.11403274536133,53.700279235839844,47.70016860961914,48.79891586303711,48.59998321533203,73.00020599365234,48.89971923828125,45.00092315673828,47.90012741088867,60.92525100708008,57.69883346557617,52.50006103515625,54.69933319091797,41.69951629638672,91.89984130859375,46.201229095458984,52.89344787597656,46.300559997558594,61.901214599609375,49.599891662597656,49.899898529052734,37.400489807128906,44.50397872924805,50.699546813964844,37.80235290527344,49.00038528442383,48.800315856933594,44.69954299926758,33.80110549926758,41.799861907958984,44.00008010864258,47.40058898925781,47.799625396728516,44.600215911865234,43.20069122314453,53.399314880371094,40.20040512084961,47.900821685791016,51.896568298339844,41.10090255737305,47.59944534301758,49.49960708618164,43.69982147216797,44.30064392089844,50.199729919433594,44.499996185302734,38.50179672241211,47.19990158081055,50.300689697265625,47.998592376708984,35.89997863769531,43.19977951049805,41.59952163696289,44.09903335571289,49.898338317871094,41.499961853027344,74.80033874511719,78.90022277832031,52.09773254394531,59.299583435058594,46.699710845947266,71.19831848144531,45.10219955444336,54.800106048583984,46.100276947021484,35.90116500854492,50.80004119873047,42.10075378417969,50.900047302246094,56.299381256103516,41.99964904785156,50.19982147216797,45.79875183105469,37.301151275634766,43.566349029541016,50.399017333984375,40.604209899902344,51.700096130371094,53.39970779418945,44.50023651123047,42.001163482666016,93.89878845214844,33.70042419433594,50.59897232055664,46.701072692871094,47.399147033691406,64.99724578857422,39.501461029052734,49.99917221069336,39.00020217895508,95.29829406738281,65.89926147460938,51.589744567871094,40.29989242553711,49.799346923828125,43.80136489868164,40.59978103637695,42.70077896118164,64.4992904663086,44.500160217285156,80.60002136230469,47.98431396484375,52.6952018737793,40.50080108642578,87.3996353149414,36.400238037109375,39.99991226196289,50.299774169921875,51.99900817871094,47.99845504760742,48.80008316040039,59.29988098144531,65.79934692382812,53.4001350402832,61.013877868652344,37.30001449584961,111.80007934570312,52.19961166381836,88.70024108886719,50.399105072021484,64.79945373535156,48.39738845825195,47.10245132446289,37.90064239501953,57.29890823364258,53.29969787597656,81.29938507080078,46.00027084350586,38.8000373840332,36.4024543762207,43.59856414794922,63.798255920410156,44.20015335083008,51.29947280883789,57.49988555908203,54.700347900390625,45.200416564941406,77.24937438964844,41.199886322021484,56.3997917175293,41.00063705444336,45.79999923706055,47.40000534057617,40.80303192138672,51.09988784790039,82.70040893554688,50.3999137878418,54.9996223449707,49.40143966674805,49.60097122192383,42.69987869262695,41.801300048828125,79.90025329589844,80.10050964355469,57.00016784667969,50.89968490600586,54.01013946533203,79.39957427978516,43.20029067993164,50.600704193115234,46.30022048950195,41.249996185302734,53.296669006347656,49.9996337890625,45.099945068359375,96.1986083984375,57.99797058105469,45.801353454589844,41.80011749267578,46.80012512207031,42.600852966308594,41.89980697631836,40.600120544433594,47.39933395385742,55.299224853515625,52.39487838745117,43.500144958496094,46.900146484375,79.79972839355469,46.30046081542969,44.00088119506836,79.00148010253906,44.799530029296875,35.40117645263672,42.39990997314453,44.400054931640625,40.00012969970703,42.70309066772461,53.49686050415039,50.49924087524414,38.300689697265625,39.899993896484375,87.19977569580078,51.099609375,82.60011291503906,47.79910659790039,41.6004638671875,42.50004196166992,48.89971923828125,50.69828414916992,48.40019607543945,44.19993209838867,55.699066162109375,47.499515533447266,51.696617126464844,48.300411224365234,40.29962158203125,53.698028564453125,58.19934844970703,50.89999008178711,48.5994758605957,55.19891357421875,87.60014343261719,52.79863357543945,41.20060348510742,77.3995590209961,43.90027618408203,51.099212646484375,85.40033721923828,36.29865646362305,53.85271072387695,47.50138473510742,40.00010299682617,51.94997787475586,49.000648498535156,39.199581146240234,48.10044479370117,61.50868225097656,80.00004577636719,39.400577545166016,58.3979377746582,71.69898986816406,54.098052978515625,46.799991607666016,52.29964065551758,94.69986724853516,54.79201889038086,48.100059509277344,37.90093994140625,50.49827194213867,55.07402038574219,38.101497650146484,70.449951171875,51.099830627441406,60.99909973144531,36.00171661376953,43.70051574707031,40.400306701660156,62.5001220703125,49.99879455566406,45.79998779296875,54.999977111816406,48.20013427734375,68.8000717163086,60.8995361328125,59.14728927612305,50.29930114746094,48.999752044677734,47.600345611572266,49.29951858520508,56.89993667602539,40.90049743652344,53.099891662597656,45.59715270996094,45.40089416503906,37.0008544921875,51.099422454833984,39.100425720214844,50.899471282958984,39.700775146484375,45.299625396728516,44.0997314453125,32.5997314453125,42.59928512573242,51.99998092651367,48.99835205078125,41.00204086303711,45.40005111694336,49.39994430541992,43.30045700073242,39.90198516845703,65.09976196289062,38.40182113647461,49.05020523071289,41.20101547241211,45.50001525878906,50.194000244140625,37.801361083984375,40.906211853027344,48.49991226196289,37.09986877441406,47.999916076660156,88.89981079101562,49.700286865234375,33.30094909667969,36.302127838134766,54.50060272216797,74.49958801269531,37.399906158447266,48.19926834106445,68.10025787353516,39.69902801513672,52.00425338745117,56.399803161621094,50.39905548095703,60.49794387817383,52.29765319824219,43.20000076293945,53.29740524291992,49.99788284301758,47.10010528564453,53.40000915527344,74.69921875,47.20211410522461,43.0994873046875,42.40110778808594,38.20722961425781,56.20014190673828,51.000308990478516,79.40036010742188,39.80032730102539,85.39977264404297,84.49964904785156,75.79879760742188,44.900390625,45.80160903930664,48.70022964477539,39.700077056884766,53.9994010925293,48.10039138793945,42.700069427490234,25.910045623779297,60.39806365966797,43.300106048583984,47.19990921020508,49.0003776550293,47.799774169921875,50.49943923950195,52.89875411987305,44.99996566772461,49.49993896484375,50.998844146728516,47.30078887939453,47.099578857421875,45.800777435302734,42.70284652709961,46.5003776550293,38.099937438964844,51.19953536987305,49.59931945800781,52.19868850708008,45.699851989746094,45.49982833862305,46.09536361694336,58.998756408691406,49.00101089477539,47.402374267578125,47.1001091003418,56.10084533691406,51.30214309692383,39.2017822265625,52.799991607666016,51.799285888671875,48.89969253540039,49.09791946411133,45.200008392333984,50.400917053222656,57.09987258911133,46.30044937133789,55.799015045166016,51.891178131103516,36.80326843261719,53.20075607299805,46.001731872558594,40.404571533203125,55.89977264404297,64.60255432128906,46.17643737792969,43.90004348754883,52.29951858520508,35.000614166259766,46.00102615356445,53.00007629394531,38.50082778930664,50.69932556152344,49.40033721923828,54.297122955322266,64.3993911743164,56.800174713134766,51.899967193603516,48.10039138793945,45.89967727661133,35.0063362121582,44.100528717041016,53.90047073364258,65.30132293701172,47.59960174560547,41.600276947021484,49.29953384399414,42.59996795654297,52.099830627441406,50.9001350402832,58.000362396240234,87.16717529296875,33.20166778564453,46.29990005493164,53.19934844970703,52.79973220825195,49.59896469116211,42.60008239746094,75.00045776367188,34.00007629394531,47.00021743774414,40.3111457824707,66.13387298583984,46.49843978881836,45.40046310424805,65.00028991699219,51.19948959350586,81.69952392578125,46.99921798706055,51.39975357055664,42.70058822631836,42.800540924072266,74.00045013427734,53.40040969848633,47.80046844482422,41.000572204589844,49.49983596801758,45.500083923339844,56.9114875793457,54.99861526489258,46.699527740478516,50.498199462890625,36.00193405151367,40.90054702758789,41.80284118652344,42.20127487182617,37.90102005004883,53.30036926269531,47.5984992980957,91.60066223144531,42.1010856628418,47.90578079223633,44.89967727661133,48.79925537109375,46.10006332397461,52.899696350097656,42.30049133300781,37.89990997314453,41.500179290771484,46.39990234375,64.99913024902344,45.699981689453125,45.300697326660156,47.501949310302734,50.299251556396484,45.39963912963867,29.998855590820312,40.102630615234375,66.50098419189453,41.90008544921875,45.19984436035156,61.49869155883789,54.09960174560547,47.000484466552734,39.29994201660156,82.3995132446289,45.198211669921875,56.19845962524414,41.59970474243164,44.500946044921875,43.70008850097656,46.599544525146484,63.69899368286133,50.600582122802734,41.70386505126953,43.59971618652344,55.99933624267578,47.29787826538086,52.900047302246094,55.50016403198242,36.63341522216797,44.40071487426758,58.28995132446289,40.59899139404297,49.800716400146484,44.59971237182617,60.9987907409668,50.99998092651367,55.00016784667969,49.90011978149414,48.9998664855957,35.40089416503906,54.299888610839844,52.19995880126953,50.09990310668945,41.50081253051758,48.499568939208984,28.00066375732422,52.30051040649414,64.69892120361328,40.799800872802734,43.09965896606445,66.20010375976562,49.099544525146484,52.900184631347656,41.40132141113281,54.00077819824219,41.8001594543457,50.89619827270508,52.299747467041016,54.69999313354492,44.39999008178711,44.480133056640625,44.69558334350586,57.00008010864258,44.29962158203125,44.80109786987305,41.502098083496094,68.59954833984375,42.39961242675781,47.300140380859375,37.20241928100586,87.70022583007812,72.79364013671875,46.79978561401367,49.199039459228516,37.69987487792969,87.4991226196289,43.29962921142578,75.49980163574219,51.899959564208984,37.80017852783203,51.499629974365234,42.7996940612793,61.49123764038086,51.29986572265625,47.499908447265625,44.351139068603516,44.79998016357422,48.3997802734375,66.9999008178711,52.09918975830078,89.09981536865234,55.9005126953125,47.216190338134766,44.6002197265625,50.49884033203125,44.40044403076172,53.7999267578125,43.899986267089844,41.200199127197266,48.904075622558594,52.19987487792969,46.201290130615234,51.59928894042969,45.60013961791992,42.00047302246094,57.09701919555664,48.20147705078125,42.60004425048828,50.700050354003906,43.30011749267578,48.699729919433594,47.300662994384766,42.399879455566406,60.299461364746094,38.599857330322266,43.20040512084961,53.60043716430664,46.000125885009766,55.90000534057617,38.500396728515625,51.997745513916016,70.25000762939453,40.80064010620117,46.79972457885742,49.90110778808594,92.59917449951172,69.59820556640625,48.6995849609375,41.000091552734375,53.09999084472656,44.1001091003418,84.59971618652344,52.40104675292969,55.001251220703125,53.29823303222656,43.19992446899414,54.59987258911133,58.800018310546875,46.20045471191406,42.09919738769531,45.70051574707031,44.90116882324219,44.00009536743164,52.299591064453125,79.00061798095703,52.79977798461914,61.99686050415039,37.100379943847656,42.19975662231445,45.2989387512207,44.196659088134766,35.5009651184082,43.400699615478516,39.10045623779297,49.79998016357422,80.49964141845703,55.09889221191406,48.100196838378906,44.99992752075195,44.0997314453125,67.40009307861328,48.399776458740234,42.301246643066406,49.90018081665039,43.20001983642578,39.60075378417969,51.39958190917969,41.200626373291016,48.59996795654297,74.80237579345703,42.29953384399414,38.199974060058594,68.79962921142578,44.60139846801758,51.59961700439453,39.9024543762207,47.00326919555664,54.7000846862793,52.69976043701172,51.499515533447266,52.69930648803711,53.09952926635742,41.601070404052734,41.8997688293457,62.39947509765625,73.30025482177734,54.3996467590332,51.90108871459961,45.9017448425293,52.598976135253906,43.20109939575195,37.50017547607422,50.00079345703125,54.798683166503906,37.200462341308594,39.59910202026367,56.00064468383789,66.89869689941406,42.19998550415039,54.89979934692383,49.69975662231445,44.60063934326172,48.30011749267578,64.699951171875,45.20061111450195,39.500125885009766,67.00052642822266,34.50102615356445,75.7994384765625,39.8017578125,44.299896240234375,49.49798583984375,63.198299407958984,54.765193939208984,53.099754333496094,50.49937057495117,80.69988250732422,65.50216674804688,39.40053939819336,53.59931182861328,36.999000549316406,43.410831451416016,47.29973220825195,40.90137481689453,46.998680114746094,44.19862365722656,49.70039749145508,66.7996597290039,67.39945983886719,41.60039138793945,45.99869155883789,73.89971160888672,42.502288818359375,54.05057907104492,41.40055465698242,49.30057144165039,53.09926986694336,45.899742126464844,49.000160217285156,48.000484466552734,38.20074462890625,43.100364685058594,33.05323028564453,88.79975128173828,41.00160598754883,50.59992599487305,74.99922180175781,39.60282516479492,41.600528717041016,40.501319885253906,37.900718688964844,34.6035041809082,43.703216552734375,63.00001525878906,48.59951400756836,51.20101547241211,63.599735260009766,61.09834289550781,53.39516830444336,45.60140609741211,56.19972229003906,53.999969482421875,70.4002456665039,51.09916305541992,71.49984741210938,38.233280181884766,53.59988784790039,34.39963912963867,42.59889602661133,47.40005111694336,71.30044555664062,49.59983444213867,47.10420227050781,47.5005989074707,52.19929885864258,39.301204681396484,79.20020294189453,36.80051803588867,45.800559997558594,51.99818801879883,65.18441009521484,69.90010833740234,30.702404022216797,43.399898529052734,64.39879608154297,50.00010681152344,44.699222564697266,39.40186309814453,54.600440979003906,41.30220413208008,54.99802017211914,47.00050354003906,49.29948043823242,48.99973678588867,70.29937744140625,44.39990234375,45.697269439697266,49.79930877685547,46.59970474243164,51.79954528808594,98.29953002929688,41.60062789916992,83.29715728759766,54.39951705932617,42.49989700317383,40.29991149902344,51.69986343383789,61.20233154296875,52.000648498535156,62.851654052734375,43.60077667236328,49.498695373535156,41.00090789794922,40.40209197998047,50.40016555786133,50.099361419677734,41.69956588745117,28.299726486206055,64.39917755126953,38.30113220214844,47.50033950805664,50.29920196533203,56.599185943603516,53.39981460571289,49.60015869140625,42.10028839111328,45.60013198852539,40.70262145996094,66.20089721679688,41.300079345703125,44.80085372924805,69.3994140625,47.49964904785156,48.70001220703125,64.80020904541016,47.800994873046875,42.000553131103516,47.80055618286133,81.89988708496094,48.700382232666016,48.70045471191406,52.99831771850586,55.39300537109375,41.9003791809082,37.00056457519531,60.10139083862305,43.306636810302734,41.80086135864258,69.99962615966797,47.80024337768555,53.50041961669922,42.40005111694336,57.7995491027832,75.09969329833984,44.10346603393555,63.29894256591797,36.399600982666016,73.34983825683594,39.99925994873047,57.196231842041016,64.89981079101562,66.09856414794922,49.600120544433594,50.60037612915039,47.899906158447266,46.89996337890625,42.50001525878906,51.001033782958984,53.89902877807617,71.8001937866211,71.59996032714844,38.9012565612793,34.40021514892578,50.599212646484375,70.09900665283203,57.25102615356445,59.733909606933594,43.100067138671875,52.59761428833008,58.2998046875,68.59908294677734,42.498451232910156,50.89969253540039,47.699337005615234,44.29914474487305,38.701900482177734,45.60011672973633,76.4989013671875,39.30101013183594,48.29826354980469,47.399566650390625,45.50030517578125,49.10036849975586,48.40007019042969,35.30091857910156,41.00028610229492,51.398677825927734,56.400238037109375,56.795772552490234,54.999755859375,47.8000602722168,38.301692962646484,46.70068359375,66.70089721679688,47.89950180053711,37.09943771362305,62.600345611572266,60.2978630065918,65.5993881225586,43.2999382019043,53.50005340576172,47.59973907470703,57.09894561767578,51.50018310546875,51.19914245605469,47.424537658691406,42.70140838623047,87.09992980957031,40.201595306396484,42.699668884277344,43.00006866455078,41.60129928588867,53.09999084472656,50.49759292602539,49.199947357177734,39.40007781982422,49.8994255065918,89.59894561767578,57.29806900024414,52.0991325378418,54.9007453918457,46.80040740966797,56.80010986328125,47.40803146362305,51.099952697753906,55.49795913696289,51.00006866455078,62.89985656738281,42.40092849731445,36.79983901977539,49.799781799316406,61.6706428527832,53.40004348754883,45.80050277709961,45.500179290771484,69.19876098632812,45.89889144897461,83.70024871826172,52.39897155761719,48.6999626159668,39.20591354370117,61.00005340576172,64.15021514892578,39.60059356689453,43.00016784667969,54.99732971191406,49.200035095214844,47.7995719909668,60.09934997558594,46.899742126464844,37.50531005859375,43.90022659301758,47.99991989135742,49.6003532409668,50.79956817626953,40.301300048828125,46.79955291748047,34.6008186340332,62.04857635498047,50.2999267578125,45.39991760253906,52.3991813659668,47.70144271850586,48.20017623901367,37.599666595458984,42.90046310424805,44.69999694824219,52.799129486083984,85.59955596923828,46.59919357299805,36.19994354248047,50.598297119140625,37.399898529052734,47.900482177734375,43.90010452270508,44.89961624145508,55.99214172363281,44.999595642089844,68.59474182128906,34.50026321411133,38.90035629272461,44.7000732421875,67.06693267822266,52.799964904785156,46.99956130981445,41.300079345703125,53.600196838378906,45.10069274902344,50.1996955871582,53.79994583129883,49.999839782714844,43.950645446777344,43.40000915527344,36.69993209838867,46.80011749267578,64.09507751464844,86.70384979248047,37.40299987792969,41.299869537353516,70.59967803955078,37.499961853027344,81.50357055664062,47.40156555175781,40.30118179321289,45.30096435546875,43.600196838378906,44.90043258666992,80.79994201660156,50.499515533447266,47.00091552734375,62.00190353393555,46.59510803222656,44.07841491699219,36.200565338134766,52.19914245605469,52.20018768310547,54.3997802734375,44.29973220825195,40.201053619384766,73.09962463378906,55.49881362915039,48.99993133544922,62.901329040527344,43.602596282958984,53.198055267333984,53.9000129699707,38.400726318359375,42.600341796875,44.10004806518555,52.099754333496094,44.1007194519043,44.49991226196289,47.699466705322266,57.19894790649414,41.40034484863281,41.72175598144531,45.50115203857422,50.99946975708008,28.00066375732422,55.699562072753906,46.59978485107422,45.90011215209961,40.40053176879883,54.89860534667969,38.70188903808594,46.40031051635742,67.69754028320312,48.76649475097656,34.7000732421875,44.90038299560547,52.09379959106445,50.199337005615234,55.189510345458984,47.100311279296875,69.39630126953125,43.20048141479492,48.397071838378906,43.600772857666016,51.1997184753418,82.49202728271484,43.2003059387207,49.30037307739258,52.49907302856445,65.10027313232422,42.899234771728516,46.00014877319336,45.49977493286133,66.2945327758789,40.20026397705078,83.40164947509766,40.90009307861328,69.30017852783203,45.600669860839844,34.898223876953125,57.68258285522461,51.998069763183594,49.89874267578125,53.99990463256836,74.69999694824219,69.00007629394531,61.19990539550781,66.3980941772461,53.49982833862305,53.29796600341797,42.20065689086914,46.999698638916016,57.4957389831543,49.699222564697266,44.40018081665039,60.699798583984375,52.69921112060547,52.59974670410156,51.30036544799805,43.09995651245117,41.198387145996094,41.600486755371094,63.4971809387207,44.30034255981445,48.70066833496094,47.19962692260742,61.69996643066406,65.10005187988281,43.59995651245117,42.60066604614258,54.09994125366211,57.59811019897461,48.39918518066406,43.60157012939453,51.600040435791016,67.59484100341797,49.00233840942383,46.003841400146484,50.099124908447266,49.69933319091797,49.400272369384766,45.99943161010742,71.29920959472656,89.99593353271484,41.999969482421875,39.70030212402344,41.79971694946289,45.2999153137207,64.59980773925781,80.5981674194336,78.19967651367188,59.501426696777344,52.999610900878906,43.99992370605469,52.59865951538086,51.59978485107422,41.200130462646484,70.49951934814453,43.700462341308594,37.90074920654297,46.60036849975586,47.400047302246094,51.299461364746094,38.60256576538086,44.399627685546875,48.597862243652344,66.09941864013672,45.300724029541016,64.699951171875,62.80009078979492,50.298194885253906,50.40019607543945,39.49979782104492,66.80036926269531,55.89927291870117,49.00017166137695,47.89972686767578,64.2998046875,44.20000076293945,41.1010856628418,48.19792556762695,54.599403381347656,35.99898910522461,49.699928283691406,41.799922943115234,46.700721740722656,47.29830551147461,46.099220275878906,38.1016845703125,40.00149154663086,48.79950714111328,47.60124969482422,54.89875030517578,43.39946746826172,48.342960357666016,72.69998931884766,52.49984359741211,47.69970703125,58.999488830566406,40.599937438964844,56.898460388183594,56.299072265625,50.9996452331543,63.9971923828125,54.99993133544922,46.099510192871094,49.79948043823242,64.79962158203125,88.19989776611328,40.600494384765625,47.80111312866211,42.800228118896484,49.59901809692383,65.10027313232422,84.40021514892578,48.1007080078125,35.69987487792969,50.39922332763672,47.199501037597656,42.498451232910156,51.99894714355469,75.09917449951172,70.59901428222656,45.30018615722656,67.0108871459961,45.59972381591797,45.90142059326172,41.800235748291016,44.29948425292969,81.70100402832031,41.001468658447266,38.500343322753906,46.602783203125,38.30458450317383,79.50089263916016,54.79948043823242,72.19989013671875,41.69929122924805,59.299503326416016,44.99985122680664,51.00049591064453,50.9984245300293,39.00019836425781,55.802757263183594,50.698822021484375,49.70063400268555,65.34967803955078,41.700286865234375,37.799530029296875,46.30180740356445,50.09828186035156,76.59986114501953,44.800048828125,44.59986877441406,37.699951171875,60.899879455566406,42.20048904418945,36.60023880004883,49.900177001953125,52.599761962890625,38.917301177978516,54.70016860961914,57.719600677490234,50.49690246582031,57.0997428894043,48.80122756958008,83.69972229003906,35.90148162841797,53.400238037109375,75.79696655273438,39.199466705322266,39.799591064453125,87.99974822998047,53.899234771728516,42.40180587768555,46.200111389160156,75.09968566894531,48.89969253540039,44.49971008300781,38.90019607543945,37.00071716308594,48.39979934692383,38.20115661621094,52.599246978759766,71.90062713623047,49.30048370361328,40.50021743774414,94.59929656982422,47.999549865722656,50.59846115112305,49.300148010253906,39.900081634521484,40.899803161621094,52.400413513183594,45.20079040527344,55.400211334228516,45.40047073364258,53.599857330322266,50.10061264038086,38.00000762939453,48.59843063354492,57.498619079589844,56.198551177978516,50.599945068359375,35.10307312011719,67.19734191894531,66.6976089477539,43.299964904785156,52.099483489990234,79.59882354736328,52.60026931762695,87.49877166748047,52.30103302001953,54.99979782104492,45.300079345703125,41.80583190917969,54.999568939208984,67.60045623779297,45.40003967285156,46.700157165527344,54.000308990478516,51.00041198730469,47.19927978515625,44.10036087036133,47.81283950805664,59.9998664855957,38.80072784423828,41.599605560302734,50.799861907958984,41.60024642944336,62.50185012817383,52.49684524536133,49.79997253417969,49.09945297241211,86.79994201660156,73.70001983642578,51.69993209838867,50.548919677734375,61.39980697631836,46.551639556884766,43.000064849853516,63.471858978271484,47.30008316040039,45.10101318359375,39.40278244018555,43.80010223388672,55.98934555053711,52.900264739990234,96.0994873046875,38.39927673339844,47.40021514892578,40.826026916503906,74.99976348876953,48.99968338012695,54.3991584777832,42.20068359375,51.59859085083008,74.00898742675781,37.301090240478516,58.198429107666016,69.73289489746094,54.998512268066406,54.89847183227539,45.09965896606445,57.99945068359375,64.89900970458984,41.59836196899414,67.29988098144531,40.59975814819336,60.89861297607422,45.90156555175781,48.50065231323242,54.60007858276367,44.998844146728516,48.90010070800781,55.60080337524414,47.39930725097656,52.39699935913086,75.30008697509766,87.09984588623047,86.99854278564453,45.00429153442383,46.4000244140625,54.69835662841797,38.400123596191406,32.5994758605957,60.503021240234375,59.00584411621094,33.05088424682617,49.00101852416992,57.7992057800293,47.199520111083984,45.90008544921875,48.49626922607422,44.20015335083008,88.59998321533203,55.800235748291016,61.500186920166016,48.30013656616211,45.49681854248047,43.600181579589844,53.69966125488281,54.398807525634766,97.89740753173828,58.99399948120117,44.900543212890625,56.69990539550781,95.09957885742188,71.7996597290039,68.60098266601562,77.39954376220703,43.80080795288086,43.79981231689453,91.80083465576172,48.59917068481445,94.59942626953125,41.00047302246094,48.798614501953125,59.26528549194336,44.89993667602539,43.300086975097656,48.200130462646484,53.099937438964844,54.29917907714844,46.99991989135742,50.598384857177734,48.50014114379883,65.098876953125,56.09693145751953,46.40044021606445,44.70064926147461,49.299346923828125,81.69951629638672,51.39918899536133,43.700382232666016,46.79999923706055,55.89812088012695,56.897151947021484,54.199928283691406,47.496864318847656,41.299888610839844,55.00025177001953,46.198490142822266,47.59977722167969,30.900863647460938,34.89995574951172,91.59728240966797,49.20038986206055,46.20072937011719,39.69965744018555,50.60013961791992,48.95347213745117,39.89964294433594,40.00104522705078,42.79952621459961,48.70071029663086,47.8996696472168,53.00188446044922,67.29937744140625,86.19998168945312,43.100582122802734,42.50432205200195,47.80006790161133,50.90072250366211,62.9991569519043,51.301090240478516,48.49889373779297,64.99329376220703,38.50067901611328,45.50033187866211,47.5997200012207,37.94951248168945,45.0020637512207,72.60011291503906,54.09955978393555,49.89993667602539,53.20014190673828,45.300567626953125,40.204200744628906,40.30015182495117,45.20058059692383,47.800193786621094,48.299320220947266,46.09949493408203,58.19988250732422,48.59961700439453,48.20050048828125,49.49951171875,50.099647521972656,67.29217529296875,49.2999267578125,73.2005615234375,53.89923858642578,42.90027618408203,46.20143508911133,44.39997100830078,79.00045776367188,46.700927734375,34.402366638183594,41.30071258544922,52.90021514892578,38.80027389526367,49.799530029296875,49.699588775634766,65.99625396728516,66.60008239746094,52.90291213989258,43.199893951416016,63.90016174316406,42.7998046875,49.19106674194336,58.40098571777344,78.40042114257812,45.30036926269531,51.50010681152344,75.099365234375,80.50008392333984,79.2929916381836,51.499725341796875,56.60017776489258,46.999263763427734,52.29833221435547,39.50018310546875,42.00016784667969,34.70081329345703,54.99415969848633,49.000938415527344,66.8997573852539,53.800106048583984,41.89984130859375,53.89832305908203,41.00011444091797,50.79990768432617,54.69954299926758,43.00210952758789,48.400230407714844,46.151283264160156,57.000030517578125,48.49952697753906,41.30058670043945,45.70018768310547,68.4997329711914,48.60024642944336,51.99921798706055,56.99958801269531,46.600379943847656,54.10020446777344,45.199771881103516,44.90176010131836,62.199371337890625,71.79998016357422,74.84268951416016,49.39787292480469,66.74897766113281,47.89986801147461,49.59972381591797,42.90009307861328,56.39828109741211,57.0757942199707,50.799930572509766,88.49970245361328,53.80042266845703,50.899391174316406,75.30022430419922,44.29988098144531,44.2002067565918,74.9990463256836,42.400577545166016,42.20010757446289,40.101707458496094,40.13336181640625,49.79744338989258,52.999412536621094,82.50006103515625,42.000404357910156,48.897850036621094,50.699981689453125,50.39971160888672,52.19930648803711,52.29910659790039,41.20050811767578,46.49979782104492,48.99908447265625,62.54660415649414,47.29994583129883,73.1004638671875,51.998104095458984,52.798648834228516,47.29960632324219,41.800140380859375,50.7036247253418,49.699832916259766,74.49964141845703,51.19948196411133,60.99961853027344,47.300621032714844,48.299949645996094,37.002471923828125,58.397735595703125,48.19964599609375,63.10124588012695,46.39999008178711,45.40001678466797,49.19999313354492,49.299922943115234,64.89984130859375,86.30045318603516,56.80546188354492,38.804752349853516,51.3002815246582,49.500587463378906,47.10280227661133,37.661312103271484,47.99797058105469,44.60072326660156,67.79523468017578,38.10043716430664,49.19852066040039,47.393123626708984,74.40005493164062,41.60082244873047,89.30075073242188,56.398841857910156,44.10110092163086,43.41349792480469,53.700374603271484,54.59903335571289,56.099788665771484,43.00065231323242,53.299747467041016,49.900123596191406,55.599769592285156,56.60002899169922,75.70469665527344,56.700294494628906,38.804866790771484,88.4001693725586,51.298648834228516,40.70039367675781,43.300045013427734,60.504573822021484,74.30107116699219,41.1009407043457,41.59990692138672,39.60169219970703,53.299652099609375,51.20024871826172,46.70045852661133,57.804264068603516,49.39980697631836,50.500579833984375,39.000404357910156,50.49871826171875,50.79905319213867,54.79969024658203,52.99977111816406,46.80004119873047,53.60019302368164,47.799869537353516,58.19803237915039,71.2001953125,48.599700927734375,39.19974136352539,48.29977798461914,47.79977035522461,52.3980598449707,71.7000732421875,46.60009002685547,50.00009536743164,42.50012969970703,83.50016021728516,40.10163116455078,51.89984893798828,41.40431213378906,45.700340270996094,52.600135803222656,48.600502014160156,38.40196990966797,51.395416259765625,67.89949798583984,42.7003173828125,69.49909973144531,53.1995735168457,62.69954299926758,64.65288543701172,42.101016998291016,63.150203704833984,52.79969024658203,41.70100021362305,46.15189743041992,67.09978485107422,45.20030975341797,45.09954071044922,53.99898910522461,44.3035774230957,59.10069274902344,46.998687744140625,52.299922943115234,55.398406982421875,49.200138092041016,43.09873580932617,57.799537658691406,49.399723052978516,47.000003814697266,43.82916259765625,44.50007629394531,46.100067138671875,48.30045700073242,45.70033645629883,45.70033264160156,46.999752044677734,61.9998893737793,46.000633239746094,66.69792938232422,51.00118637084961,48.399620056152344,47.50022888183594,30.99897003173828,32.002647399902344,72.39776611328125,44.89961242675781,52.60018539428711,38.30073928833008,37.50397872924805,49.000267028808594,50.09981155395508,52.60083770751953,45.40003204345703,40.7001953125,53.09968185424805,42.2006950378418,48.79984664916992,45.499935150146484,73.50027465820312,47.79676055908203,38.40045928955078,51.69824981689453,48.89979934692383,55.39974594116211,43.50039291381836,34.516666412353516,31.205881118774414,70.40028381347656,49.499942779541016,44.90079879760742,45.098690032958984,38.799930572509766,43.60006332397461,53.19997787475586,70.60065460205078,42.40013885498047,50.80052185058594,48.500179290771484,49.39982604980469,41.671539306640625,65.29989624023438,85.20026397705078,42.5005989074707,51.80072784423828,46.80051803588867,39.00043487548828,71.0993881225586,54.20454788208008,65.59992218017578,55.89738464355469,51.8000373840332,47.50004959106445,48.900672912597656,51.40006637573242,69.60041809082031,48.099891662597656,35.30097579956055,58.29896926879883,51.898746490478516,40.89989471435547,38.59419250488281,33.602481842041016,64.8994140625,75.30001068115234,48.30027770996094,50.8999137878418,56.00886917114258,38.899574279785156,57.400062561035156,46.30065155029297,70.20075988769531,59.199684143066406,41.89006423950195,45.699703216552734,49.8022346496582,52.39600372314453,70.29693603515625,94.40023803710938,40.199947357177734,61.09629440307617,50.89740753173828,44.60080337524414,37.800025939941406,57.50031280517578,44.59894561767578,37.30150604248047,65.09964752197266,47.901371002197266,47.20098114013672,48.19964599609375,49.4001579284668,48.89956283569336,46.50069808959961,67.59989166259766,46.20037078857422,41.30085754394531,42.900123596191406,46.800567626953125,44.20008850097656,54.69928741455078,36.800086975097656,48.49947738647461,63.30010986328125,79.20185089111328,41.399932861328125,50.3001708984375,45.89369583129883,45.44754409790039,50.60018539428711,61.69772720336914,57.99988555908203,44.500572204589844,42.803802490234375,35.202613830566406,60.9000129699707,51.901546478271484,76.29656982421875,43.33329391479492,58.094783782958984,66.50041961669922,96.39907836914062,59.19967269897461,50.79771423339844,39.39990997314453,37.60019302368164,59.39995193481445,51.89999008178711,35.999725341796875,72.89995574951172,54.499542236328125,53.2010383605957,48.10004425048828,43.60026168823242,41.80172348022461,45.200374603271484,74.39833068847656,67.10006713867188,88.60017395019531,48.301700592041016,44.40058517456055,59.89969253540039,39.20182418823242,49.298431396484375,38.80034637451172,57.19797134399414,47.001983642578125,52.00008010864258,52.79943084716797,54.79937744140625,45.00075149536133,74.2992935180664,48.697635650634766,63.49888229370117,86.49925231933594,46.49983596801758,84.20030975341797,47.50074768066406,42.70161819458008,50.89962387084961,58.69959259033203,49.195533752441406,67.400390625,34.90043258666992,41.400997161865234,83.00005340576172,39.50102615356445,55.49934768676758,45.59959030151367,42.2022590637207,67.39996337890625,55.399417877197266,45.00007629394531,47.10061264038086,83.79887390136719,41.10005187988281,50.798519134521484,48.79922866821289,40.20143508911133,54.50003433227539,50.900062561035156,45.09973907470703,40.10182571411133,40.80015182495117,34.00267028808594,50.60039138793945,47.59998321533203,48.70066452026367,46.90007400512695,63.285240173339844,60.29948806762695,47.99962615966797,64.19951629638672,69.50032806396484,47.598960876464844,45.10235595703125,44.50022888183594,45.70016860961914,38.10039520263672,53.39963150024414,52.80017852783203,58.50017166137695,64.99974060058594,48.70033264160156,65.39862060546875,61.00019836425781,44.899600982666016,50.40025329589844,65.4006118774414,51.199405670166016,40.302310943603516,49.60049057006836,76.69953155517578,54.89619064331055,82.79964447021484,46.49897766113281,70.09898376464844,71.80017852783203,54.399166107177734,45.20112228393555,42.60083770751953,50.99945831298828,44.4003791809082,52.49982452392578,55.099090576171875,57.49681854248047,48.199459075927734,53.69957733154297,47.099605560302734,38.700836181640625,33.10006332397461,52.69950485229492,36.20111083984375,47.30014419555664,43.94943618774414,55.29841995239258,42.300079345703125,46.20003128051758,47.800594329833984,85.40042114257812,42.70002365112305,51.10012435913086,39.90047836303711,47.2017707824707,50.30002212524414,45.40087127685547,49.69978713989258,43.33329391479492,45.60004806518555,36.20661544799805,46.899627685546875,41.799991607666016,48.90000915527344,37.20120620727539,47.90270233154297,46.80192947387695,55.89970397949219,42.00022888183594,47.49981689453125,54.400089263916016,47.59968948364258,72.9983139038086,51.1993522644043,39.90045928955078,59.69866943359375,47.401214599609375,37.000675201416016,72.89964294433594,49.99886703491211,66.29558563232422,46.40099334716797,44.90007019042969,35.10139465332031,48.999755859375,52.15418243408203],\"type\":\"scattergl\"}],                        {\"template\":{\"data\":{\"histogram2dcontour\":[{\"type\":\"histogram2dcontour\",\"colorbar\":{\"outlinewidth\":0,\"ticks\":\"\"},\"colorscale\":[[0.0,\"#0d0887\"],[0.1111111111111111,\"#46039f\"],[0.2222222222222222,\"#7201a8\"],[0.3333333333333333,\"#9c179e\"],[0.4444444444444444,\"#bd3786\"],[0.5555555555555556,\"#d8576b\"],[0.6666666666666666,\"#ed7953\"],[0.7777777777777778,\"#fb9f3a\"],[0.8888888888888888,\"#fdca26\"],[1.0,\"#f0f921\"]]}],\"choropleth\":[{\"type\":\"choropleth\",\"colorbar\":{\"outlinewidth\":0,\"ticks\":\"\"}}],\"histogram2d\":[{\"type\":\"histogram2d\",\"colorbar\":{\"outlinewidth\":0,\"ticks\":\"\"},\"colorscale\":[[0.0,\"#0d0887\"],[0.1111111111111111,\"#46039f\"],[0.2222222222222222,\"#7201a8\"],[0.3333333333333333,\"#9c179e\"],[0.4444444444444444,\"#bd3786\"],[0.5555555555555556,\"#d8576b\"],[0.6666666666666666,\"#ed7953\"],[0.7777777777777778,\"#fb9f3a\"],[0.8888888888888888,\"#fdca26\"],[1.0,\"#f0f921\"]]}],\"heatmap\":[{\"type\":\"heatmap\",\"colorbar\":{\"outlinewidth\":0,\"ticks\":\"\"},\"colorscale\":[[0.0,\"#0d0887\"],[0.1111111111111111,\"#46039f\"],[0.2222222222222222,\"#7201a8\"],[0.3333333333333333,\"#9c179e\"],[0.4444444444444444,\"#bd3786\"],[0.5555555555555556,\"#d8576b\"],[0.6666666666666666,\"#ed7953\"],[0.7777777777777778,\"#fb9f3a\"],[0.8888888888888888,\"#fdca26\"],[1.0,\"#f0f921\"]]}],\"heatmapgl\":[{\"type\":\"heatmapgl\",\"colorbar\":{\"outlinewidth\":0,\"ticks\":\"\"},\"colorscale\":[[0.0,\"#0d0887\"],[0.1111111111111111,\"#46039f\"],[0.2222222222222222,\"#7201a8\"],[0.3333333333333333,\"#9c179e\"],[0.4444444444444444,\"#bd3786\"],[0.5555555555555556,\"#d8576b\"],[0.6666666666666666,\"#ed7953\"],[0.7777777777777778,\"#fb9f3a\"],[0.8888888888888888,\"#fdca26\"],[1.0,\"#f0f921\"]]}],\"contourcarpet\":[{\"type\":\"contourcarpet\",\"colorbar\":{\"outlinewidth\":0,\"ticks\":\"\"}}],\"contour\":[{\"type\":\"contour\",\"colorbar\":{\"outlinewidth\":0,\"ticks\":\"\"},\"colorscale\":[[0.0,\"#0d0887\"],[0.1111111111111111,\"#46039f\"],[0.2222222222222222,\"#7201a8\"],[0.3333333333333333,\"#9c179e\"],[0.4444444444444444,\"#bd3786\"],[0.5555555555555556,\"#d8576b\"],[0.6666666666666666,\"#ed7953\"],[0.7777777777777778,\"#fb9f3a\"],[0.8888888888888888,\"#fdca26\"],[1.0,\"#f0f921\"]]}],\"surface\":[{\"type\":\"surface\",\"colorbar\":{\"outlinewidth\":0,\"ticks\":\"\"},\"colorscale\":[[0.0,\"#0d0887\"],[0.1111111111111111,\"#46039f\"],[0.2222222222222222,\"#7201a8\"],[0.3333333333333333,\"#9c179e\"],[0.4444444444444444,\"#bd3786\"],[0.5555555555555556,\"#d8576b\"],[0.6666666666666666,\"#ed7953\"],[0.7777777777777778,\"#fb9f3a\"],[0.8888888888888888,\"#fdca26\"],[1.0,\"#f0f921\"]]}],\"mesh3d\":[{\"type\":\"mesh3d\",\"colorbar\":{\"outlinewidth\":0,\"ticks\":\"\"}}],\"scatter\":[{\"fillpattern\":{\"fillmode\":\"overlay\",\"size\":10,\"solidity\":0.2},\"type\":\"scatter\"}],\"parcoords\":[{\"type\":\"parcoords\",\"line\":{\"colorbar\":{\"outlinewidth\":0,\"ticks\":\"\"}}}],\"scatterpolargl\":[{\"type\":\"scatterpolargl\",\"marker\":{\"colorbar\":{\"outlinewidth\":0,\"ticks\":\"\"}}}],\"bar\":[{\"error_x\":{\"color\":\"#2a3f5f\"},\"error_y\":{\"color\":\"#2a3f5f\"},\"marker\":{\"line\":{\"color\":\"#E5ECF6\",\"width\":0.5},\"pattern\":{\"fillmode\":\"overlay\",\"size\":10,\"solidity\":0.2}},\"type\":\"bar\"}],\"scattergeo\":[{\"type\":\"scattergeo\",\"marker\":{\"colorbar\":{\"outlinewidth\":0,\"ticks\":\"\"}}}],\"scatterpolar\":[{\"type\":\"scatterpolar\",\"marker\":{\"colorbar\":{\"outlinewidth\":0,\"ticks\":\"\"}}}],\"histogram\":[{\"marker\":{\"pattern\":{\"fillmode\":\"overlay\",\"size\":10,\"solidity\":0.2}},\"type\":\"histogram\"}],\"scattergl\":[{\"type\":\"scattergl\",\"marker\":{\"colorbar\":{\"outlinewidth\":0,\"ticks\":\"\"}}}],\"scatter3d\":[{\"type\":\"scatter3d\",\"line\":{\"colorbar\":{\"outlinewidth\":0,\"ticks\":\"\"}},\"marker\":{\"colorbar\":{\"outlinewidth\":0,\"ticks\":\"\"}}}],\"scattermapbox\":[{\"type\":\"scattermapbox\",\"marker\":{\"colorbar\":{\"outlinewidth\":0,\"ticks\":\"\"}}}],\"scatterternary\":[{\"type\":\"scatterternary\",\"marker\":{\"colorbar\":{\"outlinewidth\":0,\"ticks\":\"\"}}}],\"scattercarpet\":[{\"type\":\"scattercarpet\",\"marker\":{\"colorbar\":{\"outlinewidth\":0,\"ticks\":\"\"}}}],\"carpet\":[{\"aaxis\":{\"endlinecolor\":\"#2a3f5f\",\"gridcolor\":\"white\",\"linecolor\":\"white\",\"minorgridcolor\":\"white\",\"startlinecolor\":\"#2a3f5f\"},\"baxis\":{\"endlinecolor\":\"#2a3f5f\",\"gridcolor\":\"white\",\"linecolor\":\"white\",\"minorgridcolor\":\"white\",\"startlinecolor\":\"#2a3f5f\"},\"type\":\"carpet\"}],\"table\":[{\"cells\":{\"fill\":{\"color\":\"#EBF0F8\"},\"line\":{\"color\":\"white\"}},\"header\":{\"fill\":{\"color\":\"#C8D4E3\"},\"line\":{\"color\":\"white\"}},\"type\":\"table\"}],\"barpolar\":[{\"marker\":{\"line\":{\"color\":\"#E5ECF6\",\"width\":0.5},\"pattern\":{\"fillmode\":\"overlay\",\"size\":10,\"solidity\":0.2}},\"type\":\"barpolar\"}],\"pie\":[{\"automargin\":true,\"type\":\"pie\"}]},\"layout\":{\"autotypenumbers\":\"strict\",\"colorway\":[\"#636efa\",\"#EF553B\",\"#00cc96\",\"#ab63fa\",\"#FFA15A\",\"#19d3f3\",\"#FF6692\",\"#B6E880\",\"#FF97FF\",\"#FECB52\"],\"font\":{\"color\":\"#2a3f5f\"},\"hovermode\":\"closest\",\"hoverlabel\":{\"align\":\"left\"},\"paper_bgcolor\":\"white\",\"plot_bgcolor\":\"#E5ECF6\",\"polar\":{\"bgcolor\":\"#E5ECF6\",\"angularaxis\":{\"gridcolor\":\"white\",\"linecolor\":\"white\",\"ticks\":\"\"},\"radialaxis\":{\"gridcolor\":\"white\",\"linecolor\":\"white\",\"ticks\":\"\"}},\"ternary\":{\"bgcolor\":\"#E5ECF6\",\"aaxis\":{\"gridcolor\":\"white\",\"linecolor\":\"white\",\"ticks\":\"\"},\"baxis\":{\"gridcolor\":\"white\",\"linecolor\":\"white\",\"ticks\":\"\"},\"caxis\":{\"gridcolor\":\"white\",\"linecolor\":\"white\",\"ticks\":\"\"}},\"coloraxis\":{\"colorbar\":{\"outlinewidth\":0,\"ticks\":\"\"}},\"colorscale\":{\"sequential\":[[0.0,\"#0d0887\"],[0.1111111111111111,\"#46039f\"],[0.2222222222222222,\"#7201a8\"],[0.3333333333333333,\"#9c179e\"],[0.4444444444444444,\"#bd3786\"],[0.5555555555555556,\"#d8576b\"],[0.6666666666666666,\"#ed7953\"],[0.7777777777777778,\"#fb9f3a\"],[0.8888888888888888,\"#fdca26\"],[1.0,\"#f0f921\"]],\"sequentialminus\":[[0.0,\"#0d0887\"],[0.1111111111111111,\"#46039f\"],[0.2222222222222222,\"#7201a8\"],[0.3333333333333333,\"#9c179e\"],[0.4444444444444444,\"#bd3786\"],[0.5555555555555556,\"#d8576b\"],[0.6666666666666666,\"#ed7953\"],[0.7777777777777778,\"#fb9f3a\"],[0.8888888888888888,\"#fdca26\"],[1.0,\"#f0f921\"]],\"diverging\":[[0,\"#8e0152\"],[0.1,\"#c51b7d\"],[0.2,\"#de77ae\"],[0.3,\"#f1b6da\"],[0.4,\"#fde0ef\"],[0.5,\"#f7f7f7\"],[0.6,\"#e6f5d0\"],[0.7,\"#b8e186\"],[0.8,\"#7fbc41\"],[0.9,\"#4d9221\"],[1,\"#276419\"]]},\"xaxis\":{\"gridcolor\":\"white\",\"linecolor\":\"white\",\"ticks\":\"\",\"title\":{\"standoff\":15},\"zerolinecolor\":\"white\",\"automargin\":true,\"zerolinewidth\":2},\"yaxis\":{\"gridcolor\":\"white\",\"linecolor\":\"white\",\"ticks\":\"\",\"title\":{\"standoff\":15},\"zerolinecolor\":\"white\",\"automargin\":true,\"zerolinewidth\":2},\"scene\":{\"xaxis\":{\"backgroundcolor\":\"#E5ECF6\",\"gridcolor\":\"white\",\"linecolor\":\"white\",\"showbackground\":true,\"ticks\":\"\",\"zerolinecolor\":\"white\",\"gridwidth\":2},\"yaxis\":{\"backgroundcolor\":\"#E5ECF6\",\"gridcolor\":\"white\",\"linecolor\":\"white\",\"showbackground\":true,\"ticks\":\"\",\"zerolinecolor\":\"white\",\"gridwidth\":2},\"zaxis\":{\"backgroundcolor\":\"#E5ECF6\",\"gridcolor\":\"white\",\"linecolor\":\"white\",\"showbackground\":true,\"ticks\":\"\",\"zerolinecolor\":\"white\",\"gridwidth\":2}},\"shapedefaults\":{\"line\":{\"color\":\"#2a3f5f\"}},\"annotationdefaults\":{\"arrowcolor\":\"#2a3f5f\",\"arrowhead\":0,\"arrowwidth\":1},\"geo\":{\"bgcolor\":\"white\",\"landcolor\":\"#E5ECF6\",\"subunitcolor\":\"white\",\"showland\":true,\"showlakes\":true,\"lakecolor\":\"white\"},\"title\":{\"x\":0.05},\"mapbox\":{\"style\":\"light\"}}},\"annotations\":[{\"showarrow\":false,\"text\":\"Spearman Rank Correlation = 0.997\",\"x\":0.95,\"xref\":\"paper\",\"y\":0.1,\"yref\":\"paper\"}],\"title\":{\"text\":\"Actual vs. Predicted\"},\"height\":700},                        {\"responsive\": true}                    ).then(function(){\n",
              "                            \n",
              "var gd = document.getElementById('49fedb32-8bfa-4613-9017-e64eae3b5289');\n",
              "var x = new MutationObserver(function (mutations, observer) {{\n",
              "        var display = window.getComputedStyle(gd).display;\n",
              "        if (!display || display === 'none') {{\n",
              "            console.log([gd, 'removed!']);\n",
              "            Plotly.purge(gd);\n",
              "            observer.disconnect();\n",
              "        }}\n",
              "}});\n",
              "\n",
              "// Listen for the removal of the full notebook cells\n",
              "var notebookContainer = gd.closest('#notebook-container');\n",
              "if (notebookContainer) {{\n",
              "    x.observe(notebookContainer, {childList: true});\n",
              "}}\n",
              "\n",
              "// Listen for the clearing of the current output cell\n",
              "var outputEl = gd.closest('.output');\n",
              "if (outputEl) {{\n",
              "    x.observe(outputEl, {childList: true});\n",
              "}}\n",
              "\n",
              "                        })                };                            </script>        </div>\n",
              "</body>\n",
              "</html>"
            ]
          },
          "metadata": {}
        }
      ]
    },
    {
      "cell_type": "code",
      "source": [
        "r2_train = r2_score(y_train, y_pred_train)\n",
        "r2_val = r2_score(y_val, y_pred_val)\n",
        "r2_test = r2_score(y_test, pred1)\n",
        "print('r2 score for train is', r2_train)\n",
        "print('r2 score for val is', r2_val)\n",
        "print('r2 score for test is', r2_test)"
      ],
      "metadata": {
        "colab": {
          "base_uri": "https://localhost:8080/"
        },
        "outputId": "8c954e9d-3eb4-4fb6-d6e1-d46131a0142d",
        "id": "oka64_RN8FLj"
      },
      "execution_count": null,
      "outputs": [
        {
          "output_type": "stream",
          "name": "stdout",
          "text": [
            "r2 score for train is 0.9924098344859508\n",
            "r2 score for val is 0.9922527783763758\n",
            "r2 score for test is 0.994946838327278\n"
          ]
        }
      ]
    },
    {
      "cell_type": "code",
      "source": [
        "print('Mean Absolute Error Train:', metrics.mean_absolute_error(y_train, y_pred_train))\n",
        "print('Mean Absolute Error Val:', metrics.mean_absolute_error(y_val, y_pred_val))\n",
        "print('Mean Absolute Error Test:', metrics.mean_absolute_error(y_test, pred1))"
      ],
      "metadata": {
        "colab": {
          "base_uri": "https://localhost:8080/"
        },
        "outputId": "f01e1b56-aa7d-448f-ef8d-cfb2abc9602d",
        "id": "BQ2mcHRP8FLj"
      },
      "execution_count": null,
      "outputs": [
        {
          "output_type": "stream",
          "name": "stdout",
          "text": [
            "Mean Absolute Error Train: 0.1436972944217904\n",
            "Mean Absolute Error Val: 0.14239589087157264\n",
            "Mean Absolute Error Test: 0.11034466537800916\n"
          ]
        }
      ]
    },
    {
      "cell_type": "code",
      "source": [],
      "metadata": {
        "id": "BRA81BD68FLj"
      },
      "execution_count": null,
      "outputs": []
    },
    {
      "cell_type": "markdown",
      "source": [
        "## Model 2"
      ],
      "metadata": {
        "id": "L_6EU8NlybNi"
      }
    },
    {
      "cell_type": "code",
      "source": [
        "# Split the data into train and validation set\n",
        "train_df_new, rem_df = train_test_split(train_df, train_size=0.8,random_state=98)\n",
        "\n",
        "val_df, test_df = train_test_split(rem_df, test_size=0.5,random_state=123)"
      ],
      "metadata": {
        "id": "PovpPDCVnH9z"
      },
      "execution_count": null,
      "outputs": []
    },
    {
      "cell_type": "code",
      "source": [
        "X_train = train_df.drop(columns=['tm'])\n",
        "y_train = train_df['tm']\n",
        "\n",
        "X_val = val_df.drop(columns=['tm'])\n",
        "y_val = val_df['tm']\n",
        "\n",
        "X_test = test_df.drop(columns=['tm'])\n",
        "y_test = test_df['tm']\n"
      ],
      "metadata": {
        "id": "mNb4Iu6SnIBV"
      },
      "execution_count": null,
      "outputs": []
    },
    {
      "cell_type": "code",
      "source": [
        "#XGBoost Model\n",
        "model = XGBRegressor(learning_rate=0.1, max_depth=8, n_estimators=200, tree_method=\"gpu_hist\",random_state=98)\n",
        "model.fit(X_train, y_train)"
      ],
      "metadata": {
        "colab": {
          "base_uri": "https://localhost:8080/",
          "height": 248
        },
        "id": "11FnZ4D0yuCV",
        "outputId": "de5f59ec-5ec3-4a84-a4d2-dff121db216a"
      },
      "execution_count": null,
      "outputs": [
        {
          "output_type": "execute_result",
          "data": {
            "text/plain": [
              "XGBRegressor(base_score=None, booster=None, callbacks=None,\n",
              "             colsample_bylevel=None, colsample_bynode=None,\n",
              "             colsample_bytree=None, early_stopping_rounds=None,\n",
              "             enable_categorical=False, eval_metric=None, feature_types=None,\n",
              "             gamma=None, gpu_id=None, grow_policy=None, importance_type=None,\n",
              "             interaction_constraints=None, learning_rate=0.1, max_bin=None,\n",
              "             max_cat_threshold=None, max_cat_to_onehot=None,\n",
              "             max_delta_step=None, max_depth=8, max_leaves=None,\n",
              "             min_child_weight=None, missing=nan, monotone_constraints=None,\n",
              "             n_estimators=200, n_jobs=None, num_parallel_tree=None,\n",
              "             predictor=None, random_state=98, ...)"
            ],
            "text/html": [
              "<style>#sk-container-id-3 {color: black;background-color: white;}#sk-container-id-3 pre{padding: 0;}#sk-container-id-3 div.sk-toggleable {background-color: white;}#sk-container-id-3 label.sk-toggleable__label {cursor: pointer;display: block;width: 100%;margin-bottom: 0;padding: 0.3em;box-sizing: border-box;text-align: center;}#sk-container-id-3 label.sk-toggleable__label-arrow:before {content: \"▸\";float: left;margin-right: 0.25em;color: #696969;}#sk-container-id-3 label.sk-toggleable__label-arrow:hover:before {color: black;}#sk-container-id-3 div.sk-estimator:hover label.sk-toggleable__label-arrow:before {color: black;}#sk-container-id-3 div.sk-toggleable__content {max-height: 0;max-width: 0;overflow: hidden;text-align: left;background-color: #f0f8ff;}#sk-container-id-3 div.sk-toggleable__content pre {margin: 0.2em;color: black;border-radius: 0.25em;background-color: #f0f8ff;}#sk-container-id-3 input.sk-toggleable__control:checked~div.sk-toggleable__content {max-height: 200px;max-width: 100%;overflow: auto;}#sk-container-id-3 input.sk-toggleable__control:checked~label.sk-toggleable__label-arrow:before {content: \"▾\";}#sk-container-id-3 div.sk-estimator input.sk-toggleable__control:checked~label.sk-toggleable__label {background-color: #d4ebff;}#sk-container-id-3 div.sk-label input.sk-toggleable__control:checked~label.sk-toggleable__label {background-color: #d4ebff;}#sk-container-id-3 input.sk-hidden--visually {border: 0;clip: rect(1px 1px 1px 1px);clip: rect(1px, 1px, 1px, 1px);height: 1px;margin: -1px;overflow: hidden;padding: 0;position: absolute;width: 1px;}#sk-container-id-3 div.sk-estimator {font-family: monospace;background-color: #f0f8ff;border: 1px dotted black;border-radius: 0.25em;box-sizing: border-box;margin-bottom: 0.5em;}#sk-container-id-3 div.sk-estimator:hover {background-color: #d4ebff;}#sk-container-id-3 div.sk-parallel-item::after {content: \"\";width: 100%;border-bottom: 1px solid gray;flex-grow: 1;}#sk-container-id-3 div.sk-label:hover label.sk-toggleable__label {background-color: #d4ebff;}#sk-container-id-3 div.sk-serial::before {content: \"\";position: absolute;border-left: 1px solid gray;box-sizing: border-box;top: 0;bottom: 0;left: 50%;z-index: 0;}#sk-container-id-3 div.sk-serial {display: flex;flex-direction: column;align-items: center;background-color: white;padding-right: 0.2em;padding-left: 0.2em;position: relative;}#sk-container-id-3 div.sk-item {position: relative;z-index: 1;}#sk-container-id-3 div.sk-parallel {display: flex;align-items: stretch;justify-content: center;background-color: white;position: relative;}#sk-container-id-3 div.sk-item::before, #sk-container-id-3 div.sk-parallel-item::before {content: \"\";position: absolute;border-left: 1px solid gray;box-sizing: border-box;top: 0;bottom: 0;left: 50%;z-index: -1;}#sk-container-id-3 div.sk-parallel-item {display: flex;flex-direction: column;z-index: 1;position: relative;background-color: white;}#sk-container-id-3 div.sk-parallel-item:first-child::after {align-self: flex-end;width: 50%;}#sk-container-id-3 div.sk-parallel-item:last-child::after {align-self: flex-start;width: 50%;}#sk-container-id-3 div.sk-parallel-item:only-child::after {width: 0;}#sk-container-id-3 div.sk-dashed-wrapped {border: 1px dashed gray;margin: 0 0.4em 0.5em 0.4em;box-sizing: border-box;padding-bottom: 0.4em;background-color: white;}#sk-container-id-3 div.sk-label label {font-family: monospace;font-weight: bold;display: inline-block;line-height: 1.2em;}#sk-container-id-3 div.sk-label-container {text-align: center;}#sk-container-id-3 div.sk-container {/* jupyter's `normalize.less` sets `[hidden] { display: none; }` but bootstrap.min.css set `[hidden] { display: none !important; }` so we also need the `!important` here to be able to override the default hidden behavior on the sphinx rendered scikit-learn.org. See: https://github.com/scikit-learn/scikit-learn/issues/21755 */display: inline-block !important;position: relative;}#sk-container-id-3 div.sk-text-repr-fallback {display: none;}</style><div id=\"sk-container-id-3\" class=\"sk-top-container\"><div class=\"sk-text-repr-fallback\"><pre>XGBRegressor(base_score=None, booster=None, callbacks=None,\n",
              "             colsample_bylevel=None, colsample_bynode=None,\n",
              "             colsample_bytree=None, early_stopping_rounds=None,\n",
              "             enable_categorical=False, eval_metric=None, feature_types=None,\n",
              "             gamma=None, gpu_id=None, grow_policy=None, importance_type=None,\n",
              "             interaction_constraints=None, learning_rate=0.1, max_bin=None,\n",
              "             max_cat_threshold=None, max_cat_to_onehot=None,\n",
              "             max_delta_step=None, max_depth=8, max_leaves=None,\n",
              "             min_child_weight=None, missing=nan, monotone_constraints=None,\n",
              "             n_estimators=200, n_jobs=None, num_parallel_tree=None,\n",
              "             predictor=None, random_state=98, ...)</pre><b>In a Jupyter environment, please rerun this cell to show the HTML representation or trust the notebook. <br />On GitHub, the HTML representation is unable to render, please try loading this page with nbviewer.org.</b></div><div class=\"sk-container\" hidden><div class=\"sk-item\"><div class=\"sk-estimator sk-toggleable\"><input class=\"sk-toggleable__control sk-hidden--visually\" id=\"sk-estimator-id-3\" type=\"checkbox\" checked><label for=\"sk-estimator-id-3\" class=\"sk-toggleable__label sk-toggleable__label-arrow\">XGBRegressor</label><div class=\"sk-toggleable__content\"><pre>XGBRegressor(base_score=None, booster=None, callbacks=None,\n",
              "             colsample_bylevel=None, colsample_bynode=None,\n",
              "             colsample_bytree=None, early_stopping_rounds=None,\n",
              "             enable_categorical=False, eval_metric=None, feature_types=None,\n",
              "             gamma=None, gpu_id=None, grow_policy=None, importance_type=None,\n",
              "             interaction_constraints=None, learning_rate=0.1, max_bin=None,\n",
              "             max_cat_threshold=None, max_cat_to_onehot=None,\n",
              "             max_delta_step=None, max_depth=8, max_leaves=None,\n",
              "             min_child_weight=None, missing=nan, monotone_constraints=None,\n",
              "             n_estimators=200, n_jobs=None, num_parallel_tree=None,\n",
              "             predictor=None, random_state=98, ...)</pre></div></div></div></div></div>"
            ]
          },
          "metadata": {},
          "execution_count": 62
        }
      ]
    },
    {
      "cell_type": "code",
      "source": [
        "rfecv = RFECV(estimator= model, step = 5, cv = 5, scoring='neg_mean_squared_error')\n",
        "rfecv = rfecv.fit(X_train, y_train)\n",
        "\n",
        "print(\"The optimal number of features:\", rfecv.n_features_)\n",
        "print('Selected features: %s' % list(X_train.columns[rfecv.support_]))\n",
        "\n",
        "best_features = list(X_train.columns[rfecv.support_])"
      ],
      "metadata": {
        "colab": {
          "base_uri": "https://localhost:8080/"
        },
        "id": "aIEl5HMhyuEn",
        "outputId": "409bce99-6586-4ff9-88e0-27526837bac3"
      },
      "execution_count": null,
      "outputs": [
        {
          "output_type": "stream",
          "name": "stdout",
          "text": [
            "The optimal number of features: 27\n",
            "Selected features: ['pH', 'A', 'C', 'D', 'E', 'F', 'G', 'H', 'I', 'K', 'L', 'M', 'N', 'P', 'Q', 'R', 'S', 'T', 'V', 'W', 'Y', 'Aromaticity', 'Molecular Weight', 'Instability Index', 'Hydrophobicity', 'Isoelectric Point', 'Charge']\n"
          ]
        }
      ]
    },
    {
      "cell_type": "code",
      "source": [
        "X_train_new = X_train[best_features]\n",
        "X_val_new = X_val[best_features]\n",
        "X_test_new = X_test[best_features]"
      ],
      "metadata": {
        "id": "GhzIDMPQyuGu"
      },
      "execution_count": null,
      "outputs": []
    },
    {
      "cell_type": "code",
      "source": [
        "model2 = XGBRegressor(learning_rate=0.1, max_depth=20, n_estimators=250, tree_method=\"gpu_hist\",random_state=123)\n",
        "model2.fit(X_train_new, y_train)"
      ],
      "metadata": {
        "colab": {
          "base_uri": "https://localhost:8080/",
          "height": 248
        },
        "id": "C3mlQAklyuJb",
        "outputId": "ba805973-45c0-41ef-ced8-972ce3326ae4"
      },
      "execution_count": null,
      "outputs": [
        {
          "output_type": "execute_result",
          "data": {
            "text/plain": [
              "XGBRegressor(base_score=None, booster=None, callbacks=None,\n",
              "             colsample_bylevel=None, colsample_bynode=None,\n",
              "             colsample_bytree=None, early_stopping_rounds=None,\n",
              "             enable_categorical=False, eval_metric=None, feature_types=None,\n",
              "             gamma=None, gpu_id=None, grow_policy=None, importance_type=None,\n",
              "             interaction_constraints=None, learning_rate=0.1, max_bin=None,\n",
              "             max_cat_threshold=None, max_cat_to_onehot=None,\n",
              "             max_delta_step=None, max_depth=20, max_leaves=None,\n",
              "             min_child_weight=None, missing=nan, monotone_constraints=None,\n",
              "             n_estimators=250, n_jobs=None, num_parallel_tree=None,\n",
              "             predictor=None, random_state=123, ...)"
            ],
            "text/html": [
              "<style>#sk-container-id-4 {color: black;background-color: white;}#sk-container-id-4 pre{padding: 0;}#sk-container-id-4 div.sk-toggleable {background-color: white;}#sk-container-id-4 label.sk-toggleable__label {cursor: pointer;display: block;width: 100%;margin-bottom: 0;padding: 0.3em;box-sizing: border-box;text-align: center;}#sk-container-id-4 label.sk-toggleable__label-arrow:before {content: \"▸\";float: left;margin-right: 0.25em;color: #696969;}#sk-container-id-4 label.sk-toggleable__label-arrow:hover:before {color: black;}#sk-container-id-4 div.sk-estimator:hover label.sk-toggleable__label-arrow:before {color: black;}#sk-container-id-4 div.sk-toggleable__content {max-height: 0;max-width: 0;overflow: hidden;text-align: left;background-color: #f0f8ff;}#sk-container-id-4 div.sk-toggleable__content pre {margin: 0.2em;color: black;border-radius: 0.25em;background-color: #f0f8ff;}#sk-container-id-4 input.sk-toggleable__control:checked~div.sk-toggleable__content {max-height: 200px;max-width: 100%;overflow: auto;}#sk-container-id-4 input.sk-toggleable__control:checked~label.sk-toggleable__label-arrow:before {content: \"▾\";}#sk-container-id-4 div.sk-estimator input.sk-toggleable__control:checked~label.sk-toggleable__label {background-color: #d4ebff;}#sk-container-id-4 div.sk-label input.sk-toggleable__control:checked~label.sk-toggleable__label {background-color: #d4ebff;}#sk-container-id-4 input.sk-hidden--visually {border: 0;clip: rect(1px 1px 1px 1px);clip: rect(1px, 1px, 1px, 1px);height: 1px;margin: -1px;overflow: hidden;padding: 0;position: absolute;width: 1px;}#sk-container-id-4 div.sk-estimator {font-family: monospace;background-color: #f0f8ff;border: 1px dotted black;border-radius: 0.25em;box-sizing: border-box;margin-bottom: 0.5em;}#sk-container-id-4 div.sk-estimator:hover {background-color: #d4ebff;}#sk-container-id-4 div.sk-parallel-item::after {content: \"\";width: 100%;border-bottom: 1px solid gray;flex-grow: 1;}#sk-container-id-4 div.sk-label:hover label.sk-toggleable__label {background-color: #d4ebff;}#sk-container-id-4 div.sk-serial::before {content: \"\";position: absolute;border-left: 1px solid gray;box-sizing: border-box;top: 0;bottom: 0;left: 50%;z-index: 0;}#sk-container-id-4 div.sk-serial {display: flex;flex-direction: column;align-items: center;background-color: white;padding-right: 0.2em;padding-left: 0.2em;position: relative;}#sk-container-id-4 div.sk-item {position: relative;z-index: 1;}#sk-container-id-4 div.sk-parallel {display: flex;align-items: stretch;justify-content: center;background-color: white;position: relative;}#sk-container-id-4 div.sk-item::before, #sk-container-id-4 div.sk-parallel-item::before {content: \"\";position: absolute;border-left: 1px solid gray;box-sizing: border-box;top: 0;bottom: 0;left: 50%;z-index: -1;}#sk-container-id-4 div.sk-parallel-item {display: flex;flex-direction: column;z-index: 1;position: relative;background-color: white;}#sk-container-id-4 div.sk-parallel-item:first-child::after {align-self: flex-end;width: 50%;}#sk-container-id-4 div.sk-parallel-item:last-child::after {align-self: flex-start;width: 50%;}#sk-container-id-4 div.sk-parallel-item:only-child::after {width: 0;}#sk-container-id-4 div.sk-dashed-wrapped {border: 1px dashed gray;margin: 0 0.4em 0.5em 0.4em;box-sizing: border-box;padding-bottom: 0.4em;background-color: white;}#sk-container-id-4 div.sk-label label {font-family: monospace;font-weight: bold;display: inline-block;line-height: 1.2em;}#sk-container-id-4 div.sk-label-container {text-align: center;}#sk-container-id-4 div.sk-container {/* jupyter's `normalize.less` sets `[hidden] { display: none; }` but bootstrap.min.css set `[hidden] { display: none !important; }` so we also need the `!important` here to be able to override the default hidden behavior on the sphinx rendered scikit-learn.org. See: https://github.com/scikit-learn/scikit-learn/issues/21755 */display: inline-block !important;position: relative;}#sk-container-id-4 div.sk-text-repr-fallback {display: none;}</style><div id=\"sk-container-id-4\" class=\"sk-top-container\"><div class=\"sk-text-repr-fallback\"><pre>XGBRegressor(base_score=None, booster=None, callbacks=None,\n",
              "             colsample_bylevel=None, colsample_bynode=None,\n",
              "             colsample_bytree=None, early_stopping_rounds=None,\n",
              "             enable_categorical=False, eval_metric=None, feature_types=None,\n",
              "             gamma=None, gpu_id=None, grow_policy=None, importance_type=None,\n",
              "             interaction_constraints=None, learning_rate=0.1, max_bin=None,\n",
              "             max_cat_threshold=None, max_cat_to_onehot=None,\n",
              "             max_delta_step=None, max_depth=20, max_leaves=None,\n",
              "             min_child_weight=None, missing=nan, monotone_constraints=None,\n",
              "             n_estimators=250, n_jobs=None, num_parallel_tree=None,\n",
              "             predictor=None, random_state=123, ...)</pre><b>In a Jupyter environment, please rerun this cell to show the HTML representation or trust the notebook. <br />On GitHub, the HTML representation is unable to render, please try loading this page with nbviewer.org.</b></div><div class=\"sk-container\" hidden><div class=\"sk-item\"><div class=\"sk-estimator sk-toggleable\"><input class=\"sk-toggleable__control sk-hidden--visually\" id=\"sk-estimator-id-4\" type=\"checkbox\" checked><label for=\"sk-estimator-id-4\" class=\"sk-toggleable__label sk-toggleable__label-arrow\">XGBRegressor</label><div class=\"sk-toggleable__content\"><pre>XGBRegressor(base_score=None, booster=None, callbacks=None,\n",
              "             colsample_bylevel=None, colsample_bynode=None,\n",
              "             colsample_bytree=None, early_stopping_rounds=None,\n",
              "             enable_categorical=False, eval_metric=None, feature_types=None,\n",
              "             gamma=None, gpu_id=None, grow_policy=None, importance_type=None,\n",
              "             interaction_constraints=None, learning_rate=0.1, max_bin=None,\n",
              "             max_cat_threshold=None, max_cat_to_onehot=None,\n",
              "             max_delta_step=None, max_depth=20, max_leaves=None,\n",
              "             min_child_weight=None, missing=nan, monotone_constraints=None,\n",
              "             n_estimators=250, n_jobs=None, num_parallel_tree=None,\n",
              "             predictor=None, random_state=123, ...)</pre></div></div></div></div></div>"
            ]
          },
          "metadata": {},
          "execution_count": 65
        }
      ]
    },
    {
      "cell_type": "code",
      "source": [
        "y_pred_train = model2.predict(X_train_new)\n",
        "y_pred_val = model2.predict(X_val_new)\n",
        "\n",
        "mse_train=mean_squared_error(y_train, y_pred_train)\n",
        "mse_val=mean_squared_error(y_val, y_pred_val)\n",
        "\n",
        "print(\"Root Mean Squared error on Train data is:\",math.sqrt(mse_train))\n",
        "print(\"Root Mean Squared error on Val data is:\",math.sqrt(mse_val))"
      ],
      "metadata": {
        "colab": {
          "base_uri": "https://localhost:8080/"
        },
        "id": "O6hpMXiEyuMJ",
        "outputId": "53396ab0-2d4c-430b-c4a2-ddf2d96c3dcf"
      },
      "execution_count": null,
      "outputs": [
        {
          "output_type": "stream",
          "name": "stdout",
          "text": [
            "Root Mean Squared error on Train data is: 1.0510422638776984\n",
            "Root Mean Squared error on Val data is: 0.9040693685976806\n"
          ]
        }
      ]
    },
    {
      "cell_type": "code",
      "source": [
        "# Results with the best model\n",
        "pred2 = model2.predict(X_test_new)\n",
        "mse_test=mean_squared_error(y_test, pred2)\n",
        "print(\"Root Mean Squared error on Test data is:\",math.sqrt(mse_test))"
      ],
      "metadata": {
        "colab": {
          "base_uri": "https://localhost:8080/"
        },
        "id": "UHICXBggyuOF",
        "outputId": "eb740ccd-dbe4-44ae-de5f-a7ea4324abba"
      },
      "execution_count": null,
      "outputs": [
        {
          "output_type": "stream",
          "name": "stdout",
          "text": [
            "Root Mean Squared error on Test data is: 0.9289066026075286\n"
          ]
        }
      ]
    },
    {
      "cell_type": "code",
      "source": [
        "spearmanr(y_test, pred2)"
      ],
      "metadata": {
        "colab": {
          "base_uri": "https://localhost:8080/"
        },
        "id": "DEH9LStOzLH6",
        "outputId": "12c3fbe0-620e-4438-a923-1c2a4e824a24"
      },
      "execution_count": null,
      "outputs": [
        {
          "output_type": "execute_result",
          "data": {
            "text/plain": [
              "SignificanceResult(statistic=0.9960643067468167, pvalue=0.0)"
            ]
          },
          "metadata": {},
          "execution_count": 68
        }
      ]
    },
    {
      "cell_type": "code",
      "source": [
        "eval_df = pd.DataFrame({\"Actual\": y_test.values, \"Predicted\": pred2})\n",
        "spearmanr_val = spearmanr(eval_df[\"Actual\"], eval_df[\"Predicted\"])"
      ],
      "metadata": {
        "id": "AGnDkXZ-zLLR"
      },
      "execution_count": null,
      "outputs": []
    },
    {
      "cell_type": "code",
      "source": [
        "fig = go.Figure()\n",
        "\n",
        "fig.add_trace(\n",
        "    go.Scattergl(\n",
        "        x=eval_df[\"Actual\"],\n",
        "        y=eval_df[\"Predicted\"],\n",
        "        name='Actual vs. Predicted',\n",
        "        mode='markers'\n",
        "    )\n",
        ")\n",
        "\n",
        "fig.add_annotation(\n",
        "    x=0.95,\n",
        "    y=0.10,\n",
        "    xref='paper',\n",
        "    yref='paper',\n",
        "    text='Spearman Rank Correlation = {:.3f}'.format(spearmanr_val.correlation),\n",
        "    showarrow=False\n",
        ")\n",
        "\n",
        "fig.update_layout(\n",
        "    title='Actual vs. Predicted',\n",
        "    height=700\n",
        ")\n",
        "\n",
        "fig.show()"
      ],
      "metadata": {
        "colab": {
          "base_uri": "https://localhost:8080/",
          "height": 717
        },
        "id": "T80_J9eyyuQg",
        "outputId": "d4ba7186-aaa6-4936-c253-9f10cfb35bc8"
      },
      "execution_count": null,
      "outputs": [
        {
          "output_type": "display_data",
          "data": {
            "text/html": [
              "<html>\n",
              "<head><meta charset=\"utf-8\" /></head>\n",
              "<body>\n",
              "    <div>            <script src=\"https://cdnjs.cloudflare.com/ajax/libs/mathjax/2.7.5/MathJax.js?config=TeX-AMS-MML_SVG\"></script><script type=\"text/javascript\">if (window.MathJax && window.MathJax.Hub && window.MathJax.Hub.Config) {window.MathJax.Hub.Config({SVG: {font: \"STIX-Web\"}});}</script>                <script type=\"text/javascript\">window.PlotlyConfig = {MathJaxConfig: 'local'};</script>\n",
              "        <script src=\"https://cdn.plot.ly/plotly-2.18.2.min.js\"></script>                <div id=\"c07c8398-8e75-47b4-90de-7c49f17d7e68\" class=\"plotly-graph-div\" style=\"height:700px; width:100%;\"></div>            <script type=\"text/javascript\">                                    window.PLOTLYENV=window.PLOTLYENV || {};                                    if (document.getElementById(\"c07c8398-8e75-47b4-90de-7c49f17d7e68\")) {                    Plotly.newPlot(                        \"c07c8398-8e75-47b4-90de-7c49f17d7e68\",                        [{\"mode\":\"markers\",\"name\":\"Actual vs. Predicted\",\"x\":[64.6,65.0,48.7,43.0,46.2,49.7,47.8,35.4,51.0,48.7,48.9,43.8,76.7,45.8,51.0,39.9,40.7,54.4,55.0,64.3,48.1,39.8,66.5,48.5,36.6,57.4,77.6,44.1,52.5,55.5,39.2,68.6,85.1,51.4,50.5,50.2,50.0,42.0,50.7,83.6,43.4,62.8,37.3,71.2,44.8,61.6,53.9,34.6,37.3,52.5,41.7,49.8,44.4,43.9,53.8,90.1,26.8,40.0,59.9,65.6,50.3,46.5,45.7,52.7,33.7,49.6,41.5,42.8,52.1,65.6,61.0,41.6,57.4,44.5,45.0,57.5,50.4,42.5,64.0,47.5,32.6,58.2,48.8,90.1,62.5,48.7,44.7,55.6,50.4,60.9,51.4,45.8,75.9,49.7,52.3,50.2,42.8,84.1,41.7,50.4,35.9,60.0,37.2,55.8,65.9,44.2,43.7,48.3,47.7,37.6,55.8,40.5,48.5,33.0,53.0,42.7,42.7,50.9,39.0,61.6,40.4,46.7,65.4,67.6,58.4,40.8,70.0,57.5,43.8,47.6,56.9,46.2,38.6,45.2,61.1,47.1,38.3,47.6,39.9,36.3,52.1,40.1,43.7,51.9,63.4,96.1,63.5,42.8,48.4,32.1,50.5,39.9,53.6,42.6,39.1,60.3,61.0,44.5,50.0,39.3,49.8,45.2,43.3,47.3,42.3,60.0,33.1,37.7,45.2,41.2,76.7,51.7,47.4,53.2,52.8,48.8,46.7,71.0,50.0,48.1,36.5,47.2,43.6,51.2,42.0,39.6,55.1,54.1,33.5,38.4,46.9,50.0,81.1,57.5,41.1,50.8,45.3,43.4,50.7,40.3,37.0,92.8,43.2,53.5,47.5,53.2,39.5,41.0,48.2,47.1,47.7,79.6,41.8,83.4,48.6,52.0,44.4,55.2,53.2,70.5,69.3,38.2,37.6,47.1,73.8,40.0,56.1,41.4,45.0,37.8,80.4,47.1,38.5,51.7,47.8,48.8,37.4,47.1,65.0,58.4,51.6,51.8,47.8,49.3,39.9,43.1,73.8,39.9,53.8,48.5,56.7,46.5,54.4,45.3,50.8,36.5,47.2,44.9,51.3,41.5,47.3,52.8,45.5,77.4,48.3,65.9,47.1,51.6,96.5,46.5,42.6,47.3,64.0,34.1,50.1,50.1,42.0,49.0,38.7,41.0,57.0,62.0,66.7,42.8,41.9,45.1,46.6,49.4,46.0,48.9,47.6,66.1,44.2,37.1,50.6,46.2,65.0,48.3,44.0,44.3,71.2,59.2,52.5,48.6,47.4,55.0,49.8,35.1,37.2,39.4,52.7,72.1,44.7,50.1,52.0,40.1,73.0,57.1,56.1,73.2,48.5,44.7,49.1,49.7,36.8,52.5,55.1,80.7,61.1,51.0,50.4,36.4,50.1,49.6,47.1,46.6,40.6,54.5,60.3,51.1,63.0,42.3,45.4,53.1,46.5,50.5,67.6,45.8,44.9,76.4,34.6,53.3,47.8,38.5,43.8,51.1,62.0,43.7,34.6,42.0,78.0,39.5,48.6,50.2,62.0,51.1,44.1,46.1,51.3,57.3,50.7,50.6,49.0,49.4,49.8,49.7,74.7,44.1,41.6,58.8,55.0,48.6,42.0,46.3,42.4,47.2,38.3,47.0,36.1,50.4,51.2,84.8,72.9,47.6,38.7,53.8,44.2,45.2,37.9,51.4,35.7,72.7,49.1,45.2,68.5,34.6,42.5,59.2,81.8,41.4,50.9,49.5,42.3,47.9,46.2,50.1,50.3,49.3,50.4,48.9,49.9,51.4,49.4,41.2,50.5,36.1,46.5,53.5,51.3,52.1,49.1,48.3,53.8,40.1,51.1,62.6,50.1,57.2,54.4,50.2,40.6,37.8,49.8,44.5,37.2,54.8,37.0,53.6,61.2,45.1,84.3,39.4,38.7,59.0,38.5,68.1,46.1,50.5,83.3,49.0,48.7,40.3,52.0,87.8,73.1,46.0,49.3,44.7,57.0,50.5,37.8,57.3,38.0,50.2,52.6,37.8,55.0,56.3,49.1,33.8,52.3,64.7,50.0,64.4,51.4,81.4,78.4,79.1,51.0,35.1,55.4,50.3,49.4,49.5,58.6,77.6,52.0,43.9,85.8,49.8,40.8,39.7,43.8,39.7,72.9,50.6,61.0,69.2,71.7,74.7,49.4,53.1,63.5,51.1,52.0,44.6,47.0,51.1,38.2,55.2,88.7,47.0,68.9,52.9,47.9,53.1,61.9,53.1,47.0,48.2,42.3,47.5,54.9,57.0,30.9,52.0,49.1,45.5,57.4,46.8,95.2,51.5,50.6,38.4,45.2,35.6,43.9,56.3,57.3,36.8,65.5,55.8,43.9,51.0,37.1,52.1,38.2,51.7,53.9,95.7,50.5,54.7,42.7,48.7,43.0,50.0,49.7,63.7,51.1,47.8,58.8,50.8,43.7,42.7,36.8,55.9,43.7,50.7,62.5,42.0,81.9,43.6,42.6,39.0,42.1,46.9,58.1,54.6,48.2,79.5,58.5,44.5,48.6,41.5,39.5,53.1,60.5,83.6,49.8,48.7,62.4,38.6,42.9,48.7,94.3,47.6,28.0,37.0,61.1,45.4,37.5,47.5,50.1,50.4,38.9,47.4,58.9,61.2,43.0,47.8,44.7,48.6,53.0,38.0,91.1,48.1,42.6,41.8,46.8,44.0,86.3,38.0,47.5,42.8,48.8,55.3,48.3,72.1,48.8,36.7,50.6,34.6,39.5,48.9,51.9,66.2,54.1,51.3,36.2,52.8,41.7,73.5,39.0,35.4,46.2,71.4,43.3,52.8,48.3,38.0,56.0,43.2,50.0,82.9,66.3,54.9,71.8,39.0,48.9,96.1,47.7,51.2,59.5,50.9,55.0,44.0,42.8,37.0,78.9,53.2,47.8,51.5,52.2,51.8,61.0,49.8,48.1,58.1,46.0,51.3,50.3,45.0,52.8,39.8,53.0,74.8,45.6,44.2,50.6,42.7,42.3,39.0,40.0,43.5,48.7,48.6,48.7,43.3,49.4,71.3,52.5,66.8,42.3,46.7,34.4,47.0,35.0,39.2,49.4,45.8,49.4,54.0,49.6,36.2,40.4,42.6,45.0,44.9,43.3,46.5,44.5,53.7,45.9,43.4,51.6,45.6,47.7,71.6,55.8,37.8,55.0,52.5,38.0,44.0,43.4,47.0,46.7,47.7,45.4,39.2,45.0,53.2,38.1,57.7,39.8,43.4,40.3,37.7,49.0,69.0,70.6,54.1,45.6,65.1,45.5,64.5,43.2,44.6,72.7,47.1,57.7,54.5,40.6,47.4,37.8,51.8,29.3,40.4,37.2,44.6,46.2,48.5,58.4,49.4,59.4,45.3,45.3,90.6,44.5,49.0,51.4,62.2,52.0,46.4,42.2,53.7,49.7,53.8,92.9,50.9,46.2,49.1,40.2,48.3,72.9,57.6,54.6,51.0,34.8,90.2,39.2,58.0,41.2,50.0,42.0,38.9,55.8,46.0,86.2,51.0,95.0,45.1,51.2,42.4,48.9,43.6,50.6,59.7,47.9,79.1,48.0,39.0,52.4,54.3,36.9,48.9,48.6,56.0,52.4,43.9,42.9,55.2,45.4,49.7,44.0,30.0,43.4,55.2,45.7,41.8,46.4,47.0,45.6,47.6,50.0,49.2,91.0,52.3,41.1,46.0,53.3,45.6,47.5,51.7,49.4,51.7,52.5,47.4,68.6,48.4,38.4,48.6,29.6,98.8,37.8,45.3,47.5,88.9,40.1,55.1,75.8,43.4,38.4,51.9,44.8,49.3,74.5,45.2,43.5,70.1,50.3,54.0,47.7,46.5,35.9,98.4,40.7,55.3,28.0,49.2,40.0,51.2,49.6,54.4,28.0,47.4,50.1,52.0,46.2,49.8,55.0,59.6,41.3,49.2,44.6,40.4,42.4,47.6,49.1,42.6,39.6,50.8,44.7,46.5,54.6,43.7,40.4,74.6,37.7,53.6,70.8,38.8,42.3,47.4,51.7,46.3,83.3,55.1,45.5,50.3,65.0,41.0,56.9,42.6,48.8,84.5,49.3,50.9,44.0,49.6,47.5,44.0,40.4,92.8,49.2,53.2,55.4,67.1,44.0,45.5,51.6,53.1,51.4,88.1,41.6,47.9,56.9,43.6,44.1,47.8,52.0,58.8,59.9,41.0,50.5,48.0,60.2,52.0,44.4,55.9,50.2,44.1,50.5,37.6,51.4,36.0,47.4,44.3,47.5,49.7,50.9,41.6,39.8,48.1,40.8,63.7,51.4,49.9,47.1,54.2,56.5,45.7,49.5,51.4,58.9,48.3,63.0,47.5,47.4,47.2,36.9,46.0,48.4,76.3,37.5,40.1,44.9,50.9,45.4,38.0,64.3,38.5,90.2,48.3,54.1,51.3,37.9,36.7,47.2,29.4,50.7,60.9,46.5,94.2,46.3,48.4,43.0,44.1,40.2,62.7,52.3,64.6,34.7,50.2,48.1,45.1,50.1,49.7,72.3,64.7,48.7,69.6,69.2,44.8,39.4,32.2,43.6,50.6,50.2,49.8,40.7,49.4,46.7,51.4,62.0,51.0,58.1,40.9,50.0,44.1,40.5,66.3,44.0,42.0,35.0,42.6,40.7,38.2,41.4,45.2,49.1,36.6,51.9,42.1,50.9,59.8,50.1,52.7,47.8,49.1,50.0,39.8,86.2,47.3,56.5,81.5,49.9,46.8,51.7,45.4,45.1,50.2,56.0,39.6,42.7,49.3,46.3,83.6,51.0,26.9,38.8,67.4,46.7,45.3,52.1,37.8,49.4,39.7,40.9,47.9,55.3,61.5,92.4,46.7,56.5,40.7,45.3,41.9,48.5,36.0,47.9,95.1,37.6,65.0,41.9,49.6,48.5,42.1,48.6,38.9,43.5,41.1,49.2,50.0,82.2,46.9,58.4,48.4,61.1,40.0,39.5,55.5,48.0,37.9,42.1,51.9,65.1,45.6,47.1,58.1,37.9,53.3,90.1,48.2,48.6,39.5,62.0,36.9,59.5,48.4,48.4,39.1,48.7,59.2,48.8,56.7,48.8,64.2,45.5,36.7,47.4,48.1,46.8,48.2,48.8,51.7,84.0,52.4,51.9,45.4,43.9,50.7,48.7,88.9,37.8,95.6,53.6,41.9,56.3,75.0,70.9,53.7,75.1,39.2,48.8,77.8,60.5,51.4,46.6,50.7,43.7,49.6,42.9,44.9,87.9,48.7,42.5,47.8,38.7,48.2,65.0,38.2,56.5,47.2,45.1,48.3,46.4,42.5,43.8,84.9,39.4,44.3,52.3,47.7,45.3,50.5,49.1,53.0,33.0,56.0,38.2,90.1,53.4,66.7,51.2,50.4,47.0,42.0,48.0,51.3,56.4,39.3,46.0,46.3,81.6,80.1,48.9,46.0,43.6,40.9,27.4,50.6,43.3,67.4,35.6,51.6,48.5,51.6,64.4,39.9,47.8,79.5,40.0,48.4,44.3,77.6,60.5,45.8,52.5,41.0,53.9,42.3,53.2,41.4,49.7,47.4,48.9,55.2,68.0,67.8,45.8,51.6,49.6,40.0,50.8,65.9,49.7,48.0,61.4,47.7,45.5,47.1,56.8,41.2,52.0,48.7,35.4,43.7,46.0,49.2,44.6,45.0,65.0,38.3,54.0,53.5,73.6,49.2,38.6,46.0,65.3,45.9,44.3,42.6,45.7,40.1,48.4,59.5,73.0,46.8,83.0,42.3,44.5,49.7,44.5,50.0,53.9,50.6,64.4,57.2,51.6,44.4,51.7,42.9,48.4,31.2,37.8,48.3,54.9,42.7,44.3,51.4,39.6,47.7,50.8,45.6,35.0,75.2,72.0,46.7,39.4,58.8,43.6,44.0,52.6,58.0,46.0,51.4,67.6,44.1,49.8,66.6,44.5,84.4,37.7,48.6,44.6,50.4,46.9,67.7,31.7,73.0,50.9,51.6,51.1,48.2,48.0,44.7,66.9,42.6,39.9,44.3,40.7,47.1,74.4,53.5,68.0,49.3,54.9,58.3,92.3,50.7,52.9,59.0,85.7,44.1,52.8,47.7,55.5,46.0,40.6,59.2,49.4,37.5,41.6,54.6,41.5,71.7,62.2,61.6,96.0,53.6,46.9,52.2,34.6,48.1,42.3,48.4,50.7,47.4,36.9,54.1,44.4,39.6,41.7,37.1,48.8,49.2,58.1,66.7,50.3,43.6,53.2,40.0,43.6,48.5,43.6,45.1,38.8,47.3,48.2,38.1,64.5,38.4,49.7,35.7,47.8,44.4,44.3,81.1,47.7,41.4,48.4,70.6,45.0,85.1,54.0,49.6,39.4,80.6,48.1,53.7,51.7,61.4,71.5,39.5,45.7,54.3,46.7,31.7,44.6,28.0,58.5,63.5,41.5,53.8,60.8,38.0,49.3,54.0,63.0,42.1,48.3,45.3,78.2,45.6,49.0,45.5,41.1,73.3,65.5,43.6,63.5,50.2,55.8,38.7,49.0,39.1,74.7,41.3,52.7,51.5,50.6,59.6,48.5,69.5,46.4,52.3,61.6,49.7,38.0,36.6,56.8,50.8,49.0,40.9,41.8,43.6,45.1,83.0,48.2,76.4,40.9,52.8,51.3,42.8,42.4,46.8,40.4,38.4,45.4,47.1,39.5,42.8,44.3,53.0,54.6,28.0,45.8,49.1,53.7,43.4,54.7,49.1,47.1,47.6,47.2,47.0,44.5,47.1,60.5,47.5,37.2,46.0,50.5,44.0,85.2,59.5,71.2,35.8,65.8,48.0,61.9,66.7,40.9,52.9,57.2,58.5,50.8,41.7,70.9,39.4,43.6,46.3,48.6,55.7,43.0,50.7,43.2,65.9,83.7,51.4,40.2,51.0,39.1,48.7,55.9,77.0,39.5,49.0,51.5,84.8,71.8,42.1,42.3,81.5,42.7,42.2,48.8,45.0,32.3,48.6,55.3,44.1,46.6,44.5,60.7,52.4,56.0,43.9,71.6,41.2,40.5,46.1,37.5,49.2,48.2,87.0,48.4,47.6,43.8,50.8,77.5,75.7,35.3,64.5,37.7,47.1,49.6,91.8,31.8,56.0,48.0,62.4,53.8,46.8,42.2,94.7,44.4,40.3,59.9,46.3,46.1,45.8,47.8,49.5,50.6,49.4,89.7,52.3,42.3,52.3,49.3,41.5,47.2,51.2,93.6,46.1,64.8,40.1,44.3,82.4,48.8,52.1,50.0,42.8,42.3,47.6,41.8,51.9,40.7,50.7,43.1,69.4,37.6,53.3,63.1,36.6,51.7,44.2,49.7,48.1,46.7,50.3,67.5,44.2,50.6,45.1,37.6,70.0,60.3,52.5,51.7,42.9,47.6,46.0,44.9,76.8,49.6,47.3,39.3,61.5,41.2,41.9,42.0,39.1,72.0,48.6,40.3,85.6,44.7,43.1,41.7,52.5,45.5,76.2,37.2,53.8,51.4,54.0,47.6,46.0,42.8,52.2,48.9,43.7,39.5,36.5,72.5,47.4,43.0,47.5,51.2,44.1,59.0,53.6,71.7,46.4,97.5,40.4,51.8,38.2,42.6,55.8,50.6,41.8,61.5,59.0,53.1,44.1,75.0,46.6,51.4,49.2,45.5,56.6,40.5,89.6,54.0,37.2,50.8,46.3,35.5,37.0,53.2,29.2,66.8,46.9,55.3,37.6,43.9,44.7,47.7,49.5,51.7,47.8,46.2,37.6,82.2,53.0,44.6,41.3,57.2,54.2,69.3,51.5,48.6,71.0,52.6,39.9,34.0,46.9,48.5,54.5,44.9,96.9,51.4,57.4,34.4,62.5,66.8,44.7,72.3,50.9,43.1,51.0,47.5,51.9,53.5,45.3,44.2,37.0,41.0,51.8,34.6,37.2,37.5,44.0,46.9,47.5,44.9,54.5,39.3,46.7,45.0,43.7,44.8,49.6,50.0,51.0,55.9,44.4,45.9,39.2,52.7,62.6,43.5,31.8,50.7,87.1,62.0,49.0,49.3,40.6,68.9,43.2,56.3,35.5,46.4,52.9,80.6,54.2,71.9,38.9,58.7,60.2,54.3,47.4,54.6,83.6,49.4,44.5,45.3,52.4,70.1,51.3,38.3,40.6,55.8,45.7,38.0,85.1,71.3,39.6,46.5,39.8,43.1,43.6,82.2,41.5,47.4,52.6,50.8,42.9,45.1,40.5,47.5,38.0,46.7,47.0,53.9,51.1,47.2,53.6,51.5,40.3,50.1,46.8,44.9,95.8,54.7,68.7,45.3,39.9,51.8,50.5,80.5,38.1,50.9,44.2,62.5,47.2,45.3,48.8,53.7,50.1,42.9,44.2,46.9,61.4,48.6,44.9,42.3,61.7,43.7,47.2,58.5,41.2,53.0,39.6,71.8,53.7,44.3,46.3,45.9,42.0,55.4,44.5,38.4,75.0,46.6,47.5,48.1,35.8,46.0,49.2,57.6,76.2,59.1,59.2,69.2,59.8,63.0,51.2,51.8,72.2,54.6,49.0,38.4,73.4,57.1,57.7,45.5,40.8,51.2,50.4,41.3,41.6,33.7,47.4,77.8,53.6,48.7,54.2,53.4,47.8,49.2,45.0,45.7,39.3,84.3,40.2,47.6,46.8,48.0,54.7,61.5,47.7,47.0,43.9,47.4,43.5,79.9,43.3,43.6,51.0,82.3,50.0,80.5,52.0,45.4,45.4,53.7,61.2,46.3,71.9,80.5,47.0,47.4,48.9,38.9,50.1,67.9,45.6,29.0,45.3,39.7,43.4,48.5,49.9,46.9,35.5,43.7,43.8,43.3,56.2,52.1,51.4,48.0,53.0,62.0,38.9,76.7,39.7,85.4,42.9,38.7,44.8,62.2,77.7,71.7,35.6,69.8,46.5,49.7,45.4,64.0,51.0,51.8,36.3,47.8,71.2,43.3,57.9,37.2,47.9,46.8,50.2,49.5,44.4,44.1,43.5,45.8,36.9,50.8,50.9,89.8,58.2,52.4,40.2,57.1,59.4,76.9,67.7,40.0,42.9,46.5,46.1,45.5,68.8,41.7,47.9,82.4,39.9,54.1,60.9,54.0,52.2,51.9,53.4,51.9,46.9,42.2,95.8,54.0,53.8,55.1,47.9,51.1,37.8,41.6,71.9,41.4,49.2,74.8,53.7,50.1,52.1,60.5,40.0,85.3,51.2,46.5,46.2,46.9,44.8,43.2,39.4,34.4,46.9,53.9,73.7,59.0,48.8,50.0,67.6,51.0,56.6,80.9,48.5,38.2,85.8,52.1,49.4,55.1,39.9,59.8,59.8,52.1,64.2,52.6,63.9,44.6,37.3,49.3,47.3,49.2,60.3,40.8,37.7,58.2,56.6,52.1,36.5,56.0,57.7,42.2,46.2,43.2,38.3,51.3,50.2,41.3,45.9,41.2,44.8,52.2,57.7,44.5,48.1,86.8,43.7,65.3,52.9,52.4,53.5,56.5,45.9,51.1,51.8,38.5,50.0,55.3,48.3,64.4,52.4,78.4,46.9,50.7,45.2,49.1,39.8,40.7,53.1,57.3,90.5,62.5,55.8,51.4,52.6,41.3,42.3,43.7,47.6,36.4,57.5,39.8,81.3,47.9,38.6,30.0,89.4,48.8,70.4,47.0,35.2,56.4,42.7,57.7,61.0,33.4,45.2,54.5,38.0,41.0,37.9,85.6,53.2,40.8,82.8,40.9,66.5,57.6,36.5,38.0,44.7,92.3,46.1,43.7,47.9,51.9,46.5,65.5,46.1,50.0,51.3,33.7,50.7,62.0,47.6,47.8,44.5,63.2,40.1,85.8,42.8,77.9,55.0,45.9,46.2,62.4,85.6,51.4,39.8,58.3,48.3,54.8,50.4,61.9,52.1,42.5,37.3,80.5,42.7,75.6,48.2,44.5,43.9,51.8,44.1,44.6,48.8,50.6,91.7,97.9,47.5,91.5,97.4,58.2,51.4,40.3,47.9,48.1,49.0,46.9,49.2,51.2,51.1,73.1,44.7,37.7,47.0,42.3,57.4,49.8,77.5,39.5,65.2,42.1,82.9,78.6,56.6,54.7,32.5,36.4,50.0,54.8,52.6,53.9,48.1,58.2,72.2,60.5,38.7,48.3,51.5,73.4,75.9,48.7,61.5,65.3,43.7,37.1,51.6,61.5,42.8,50.9,49.3,57.1,35.5,51.9,46.9,48.5,63.7,46.5,62.1,45.8,48.3,56.0,48.0,39.5,43.0,48.6,36.4,46.6,46.3,41.8,51.4,54.8,38.6,96.2,40.1,47.2,38.5,58.7,49.7,47.6,39.7,41.6,87.5,43.3,64.6,45.8,55.0,34.5,46.5,43.2,82.1,40.2,51.7,53.5,44.1,53.0,54.9,44.2,45.3,56.1,89.8,42.8,47.8,48.0,35.6,54.0,49.5,43.3,46.0,53.5,39.5,42.3,46.5,49.3,50.5,89.7,42.1,39.2,58.9,40.3,38.4,43.6,37.8,48.6,51.4,56.3,50.0,62.1,42.3,48.6,86.0,47.4,68.7,64.0,40.2,26.8,47.1,67.0,74.2,50.1,39.7,46.2,47.2,78.2,47.0,40.5,44.9,59.7,91.2,38.3,78.1,66.0,38.6,67.1,45.3,52.6,52.8,50.4,44.0,92.4,61.4,71.5,48.8,47.8,39.7,53.1,50.4,47.2,48.3,45.0,88.4,50.0,42.2,51.6,39.1,52.4,46.8,48.7,43.7,84.4,56.1,47.4,57.2,49.7,40.5,54.1,43.3,46.5,45.6,65.6,41.9,74.3,47.7,61.1,67.8,48.6,45.9,58.3,62.2,80.7,46.9,51.2,50.4,44.0,45.4,45.6,77.7,35.6,38.3,79.5,50.4,48.1,46.6,45.6,43.1,43.4,53.0,63.2,61.5,76.7,45.6,38.8,51.7,72.4,47.5,47.4,54.2,53.3,40.0,50.8,48.8,42.5,43.3,55.1,54.5,40.3,42.2,82.2,44.9,51.7,49.2,47.6,33.0,96.4,75.5,48.6,51.3,46.0,43.2,53.9,47.4,46.5,55.8,50.7,56.9,56.4,45.6,61.5,50.3,62.0,77.6,53.6,42.3,51.1,53.6,65.5,37.3,62.5,56.8,52.4,42.0,84.9,42.1,57.8,52.0,48.4,53.6,48.1,51.3,57.3,50.0,53.3,40.0,48.6,34.6,35.2,51.0,51.2,42.3,46.2,49.9,35.8,66.6,41.8,43.3,53.8,46.9,48.9,51.7,79.4,47.1,51.6,39.2,39.4,44.5,33.9,46.5,82.0,35.4,93.7,50.8,58.0,57.1,65.7,50.9,49.9,53.6,49.7,51.3,36.7,64.7,80.7,42.9,37.7,42.0,43.9,37.1,45.0,42.8,56.0,48.0,53.7,74.2,59.1,48.0,60.1,45.8,35.9,44.0,56.0,51.2,55.0,49.8,45.4,50.0,37.6,39.1,39.9,55.2,47.4,40.1,53.2,44.9,46.5,60.4,43.7,46.6,44.6,48.9,61.5,52.9,48.2,51.5,68.7,47.4,52.1,52.4,43.8,53.8,38.9,51.0,65.8,52.8,53.5,39.1,67.8,41.5,72.2,43.7,52.9,52.8,44.3,90.5,43.9,40.3,80.7,78.1,49.6,45.7,50.0,54.2,54.1,93.5,51.9,63.0,51.1,41.4,51.0,48.4,51.1,85.8,34.9,43.8,38.1,47.6,74.5,53.4,50.8,54.5,75.3,48.1,66.7,41.2,35.3,43.2,56.7,51.8,41.4,56.7,44.8,87.6,41.7,47.0,52.0,37.5,93.0,33.4,65.5,39.9,34.6,50.0,60.3,46.2,68.7,39.9,45.5,52.4,37.8,51.7,62.5,39.4,44.5,45.1,96.0,52.7,35.4,45.6,52.6,59.2,92.0,49.7,53.6,52.3,32.5,75.6,60.0,89.1,46.1,66.5,51.3,45.8,50.7,50.6,48.5,42.8,50.5,57.0,82.2,90.2,47.2,50.1,62.3,47.7,39.3,50.8,59.9,43.8,90.6,48.6,38.4,42.0,45.2,47.1,45.1,50.8,58.4,42.5,46.5,50.5,44.9,50.7,52.4,50.3,47.9,44.8,43.5,72.5,51.7,62.2,39.3,49.0,91.7,52.0,47.9,42.1,50.3,49.0,46.3,52.8,52.2,43.8,83.7,49.4,90.4,38.1,50.0,50.3,87.1,87.6,84.5,55.4,83.6,86.7,47.3,45.6,61.1,57.2,45.8,45.1,34.8,67.2,45.4,62.9,38.7,75.7,33.1,45.2,45.0,40.0,42.5,52.3,41.4,57.7,46.9,56.8,43.4,63.2,34.9,56.2,42.3,43.9,35.7,50.3,65.0,47.6,40.9,53.5,49.0,47.5,49.0,57.3,41.4,45.8,46.2],\"y\":[64.59780883789062,64.99559020996094,48.699737548828125,42.99916076660156,46.19893264770508,49.70003128051758,47.79983139038086,35.40030288696289,50.999446868896484,48.70001220703125,48.90076446533203,43.799949645996094,76.70121002197266,45.8004035949707,51.00025177001953,39.899375915527344,40.701168060302734,54.39970016479492,54.999698638916016,64.28559875488281,48.098304748535156,39.79869842529297,66.49958801269531,48.4986686706543,36.60178756713867,57.39997863769531,77.60064697265625,44.1007194519043,52.500362396240234,55.49637222290039,39.20077896118164,68.59474182128906,85.1003189086914,51.399757385253906,50.49990463256836,50.200016021728516,49.99715805053711,41.999595642089844,50.69956970214844,83.59974670410156,43.4000358581543,62.79916763305664,37.29948043823242,71.20027160644531,44.80144500732422,61.59963607788086,53.88740539550781,34.599796295166016,37.30150604248047,52.50361633300781,41.69966506958008,49.79993438720703,44.40079116821289,43.89976501464844,53.800106048583984,90.0998306274414,26.80743408203125,39.99991226196289,59.901031494140625,65.60000610351562,50.29941940307617,46.49897766113281,45.699981689453125,52.700164794921875,33.70005798339844,49.60004806518555,41.501495361328125,42.800514221191406,52.099395751953125,65.60285949707031,61.00485610961914,41.60022735595703,58.04976272583008,44.49967575073242,44.375736236572266,57.49931335449219,50.398983001708984,42.49968338012695,58.599876403808594,47.499290466308594,32.600372314453125,54.765193939208984,48.800437927246094,90.0997314453125,62.50019073486328,48.69944763183594,44.70014572143555,55.599830627441406,50.399600982666016,60.88847732543945,51.39921951293945,45.80085372924805,75.89879608154297,49.70021057128906,52.29888153076172,50.19950485229492,42.80388259887695,84.10011291503906,41.70098114013672,50.4002685546875,35.900108337402344,60.008419036865234,37.20167922973633,55.79629898071289,65.89923095703125,44.19994354248047,43.70041275024414,48.3005485534668,47.70070266723633,37.60477066040039,55.7998046875,40.50360870361328,48.49947738647461,32.996337890625,52.99918746948242,42.700775146484375,42.70010757446289,50.900909423828125,39.00154113769531,61.60010528564453,40.40053176879883,46.69578170776367,62.8502311706543,67.59484100341797,58.39976501464844,40.79975128173828,70.00005340576172,57.4995231628418,46.75144958496094,47.60143280029297,56.901466369628906,46.19990158081055,38.604896545410156,45.20042037963867,61.100006103515625,47.100345611572266,38.30123519897461,47.60114669799805,39.9002685546875,35.69987487792969,52.099334716796875,40.09803771972656,43.69977569580078,51.89699172973633,63.39881134033203,96.0994873046875,63.49871063232422,42.80137634277344,48.39918518066406,32.30134201049805,50.500579833984375,39.89973831176758,53.59806823730469,42.5997428894043,39.10123825073242,60.2994270324707,61.00334167480469,44.50001525878906,49.998809814453125,39.300636291503906,49.79875183105469,45.199928283691406,43.300132751464844,47.29986572265625,42.300968170166016,60.001895904541016,33.10006332397461,37.700218200683594,45.20065689086914,41.20198440551758,76.69953155517578,51.696617126464844,47.39802932739258,52.799278259277344,52.77588653564453,48.799888610839844,46.699527740478516,75.04999542236328,49.996726989746094,48.09943771362305,53.75129318237305,47.198612213134766,43.60039138793945,51.20124435424805,42.00242233276367,39.600616455078125,55.099884033203125,54.10008239746094,33.511600494384766,38.39886474609375,46.90024948120117,50.000221252441406,81.10014343261719,57.497825622558594,41.10001754760742,50.79090881347656,45.29993438720703,43.398780822753906,50.69939041137695,40.29978561401367,37.00038528442383,92.79840087890625,43.20022201538086,53.500396728515625,47.49958801269531,53.20047378540039,39.50071334838867,41.000389099121094,48.20491409301758,47.10280227661133,47.699466705322266,79.60018157958984,41.79983901977539,83.39986419677734,48.600311279296875,52.000736236572266,44.39946365356445,55.20005416870117,53.19895935058594,70.5000991821289,69.29937744140625,38.20314025878906,37.599761962890625,47.10114288330078,73.79965209960938,39.99997329711914,56.097103118896484,41.40113067626953,45.000789642333984,37.8013916015625,80.40007781982422,47.100555419921875,38.500343322753906,51.697227478027344,47.80367660522461,48.79791259765625,37.399898529052734,47.094337463378906,62.69965744018555,58.399559020996094,51.59857940673828,51.80000686645508,47.79989242553711,49.301109313964844,39.90083312988281,43.100521087646484,73.7951889038086,39.900325775146484,53.79994583129883,48.499305725097656,56.673770904541016,46.50035095214844,54.40087890625,45.29963302612305,50.798954010009766,36.499847412109375,47.20179748535156,44.90547180175781,51.299957275390625,41.50050354003906,47.30060577392578,52.799686431884766,45.50083923339844,77.39411163330078,48.29931640625,65.9074935913086,47.104793548583984,51.597721099853516,96.49930572509766,46.4997444152832,42.59984588623047,47.300411224365234,62.49918746948242,34.10318374633789,50.09817886352539,50.10002899169922,41.99947738647461,48.99981689453125,38.700538635253906,40.999874114990234,56.999515533447266,62.0030403137207,66.7000961303711,43.450557708740234,41.90031814575195,45.101280212402344,46.594322204589844,49.40048599243164,46.00123977661133,48.89962387084961,47.600582122802734,66.09922790527344,44.20029830932617,37.10053634643555,50.599388122558594,46.200477600097656,65.00196838378906,48.30013656616211,44.00076675415039,44.300811767578125,71.19819641113281,59.199710845947266,52.50046157836914,48.59983444213867,47.4008674621582,54.99993133544922,49.799407958984375,35.10066223144531,37.200340270996094,39.4002685546875,52.70033645629883,70.04053497314453,44.69990921020508,50.10004425048828,52.00014114379883,40.10013961791992,70.449951171875,57.099578857421875,56.0994873046875,73.19913482666016,48.49982452392578,44.69936752319336,49.1011848449707,49.69982147216797,36.802127838134766,52.50020217895508,55.54935073852539,80.70016479492188,61.09791946411133,50.99943923950195,50.39975357055664,36.398162841796875,50.10051345825195,49.59650421142578,47.09990692138672,46.60118103027344,40.60033416748047,54.49967575073242,60.295509338378906,51.099491119384766,63.00041198730469,42.2999153137207,45.39973449707031,53.09684753417969,46.5018310546875,50.49931335449219,67.59989166259766,45.79905700683594,43.1506462097168,76.3996810913086,34.6015625,53.30250549316406,47.800235748291016,38.50009536743164,43.80136489868164,51.099849700927734,61.99936294555664,43.698638916015625,34.60021209716797,42.00047302246094,77.99746704101562,39.49996566772461,48.60081481933594,50.201072692871094,60.350341796875,51.09988021850586,44.1001091003418,46.099822998046875,51.29888916015625,57.2983283996582,50.70005416870117,50.5993537902832,48.99826431274414,49.40824508666992,49.79744338989258,49.700721740722656,74.69990539550781,44.07841491699219,41.6000862121582,58.799400329589844,54.9998893737793,48.598182678222656,42.001827239990234,46.3004150390625,42.400413513183594,47.199951171875,38.30031204223633,47.000205993652344,38.36793518066406,50.400081634521484,51.20004653930664,84.79994201660156,66.59944915771484,47.599220275878906,38.69994354248047,53.799896240234375,44.20039367675781,45.19982147216797,37.90064239501953,51.39997100830078,35.7006721496582,72.70026397705078,49.09471130371094,45.20596694946289,68.5008773803711,45.85261917114258,42.50012969970703,59.20012283325195,81.79971313476562,41.402442932128906,50.89740753173828,49.50001525878906,42.30014419555664,47.900047302246094,46.20003128051758,50.099918365478516,50.29981231689453,49.29998016357422,50.39884567260742,48.89907455444336,49.899986267089844,51.40336990356445,49.66570281982422,41.20079040527344,50.4998779296875,36.10274887084961,46.49983596801758,53.499961853027344,51.300819396972656,52.0997314453125,49.10005569458008,48.30015182495117,53.7991828918457,40.099525451660156,51.09988784790039,64.15021514892578,50.099822998046875,57.199527740478516,54.39993667602539,50.20046615600586,40.60065460205078,37.80235290527344,49.800716400146484,44.4995002746582,37.20014190673828,54.797489166259766,37.000003814697266,53.59970474243164,63.10029983520508,45.09743118286133,84.30015563964844,39.40386199951172,38.70050048828125,61.000919342041016,38.500064849853516,68.1005630493164,46.099857330322266,50.49983215332031,83.30004119873047,48.999900817871094,48.70022964477539,40.30007553100586,51.997135162353516,87.79924011230469,73.1004638671875,45.999996185302734,49.29900360107422,44.70036315917969,50.500144958496094,50.4998664855957,37.801753997802734,57.29863739013672,38.00204086303711,50.19921875,52.599761962890625,37.80013656616211,54.99893569946289,56.29999542236328,49.099491119384766,33.80076217651367,52.29978561401367,64.70039367675781,50.00025177001953,64.39403533935547,51.396183013916016,81.40019226074219,78.3995132446289,79.10067749023438,50.999855041503906,35.10002136230469,55.399417877197266,50.29978561401367,49.39907455444336,49.50059509277344,58.60062789916992,77.59477996826172,57.60161209106445,43.900352478027344,85.80021667480469,49.79719924926758,40.800315856933594,39.700687408447266,43.7996711730957,39.69978332519531,72.90165710449219,50.59891891479492,60.504573822021484,69.19903564453125,71.70067596435547,74.69921875,49.40031433105469,53.100093841552734,63.50053024291992,51.09960174560547,51.99962615966797,44.600929260253906,46.99761199951172,51.09868621826172,38.20250701904297,55.19761276245117,88.70012664794922,47.000511169433594,68.90069580078125,52.89883041381836,47.9003791809082,53.09954833984375,61.89931106567383,53.10025405883789,46.999385833740234,48.20096969604492,42.299949645996094,47.50063705444336,54.89976119995117,56.999847412109375,30.903175354003906,52.00267791748047,49.10004806518555,45.50010681152344,57.39914321899414,46.80061721801758,95.1988754272461,51.49990463256836,50.59983444213867,38.400001525878906,45.1999626159668,35.60021209716797,43.90013122558594,56.29738998413086,57.29893493652344,36.80287551879883,65.4987564086914,55.54936599731445,43.899837493896484,51.00225067138672,37.100711822509766,52.09909439086914,38.201622009277344,51.699764251708984,53.90009689331055,95.7004623413086,50.5001220703125,54.69999313354492,42.69998550415039,48.6999626159668,42.994937896728516,50.00006866455078,49.69983673095703,63.70020294189453,51.10017395019531,47.80011749267578,58.813899993896484,50.80055618286133,43.700077056884766,42.70002746582031,36.80051803588867,55.89814758300781,43.700340270996094,50.69915008544922,61.75410461425781,42.00084686279297,81.89988708496094,43.60091018676758,42.60043716430664,38.999942779541016,42.100006103515625,46.90024948120117,58.09958267211914,54.597713470458984,48.199928283691406,79.50006866455078,58.498870849609375,44.480133056640625,48.59843063354492,41.5029411315918,39.50016784667969,53.099708557128906,60.4999885559082,83.59906005859375,49.80009078979492,48.700775146484375,62.39974594116211,38.60028839111328,42.8973274230957,48.698360443115234,94.29938507080078,47.59910202026367,27.999958038330078,37.001502990722656,59.64307403564453,45.40066909790039,37.50674057006836,47.50111770629883,50.09987258911133,50.39934158325195,38.90047836303711,47.39994430541992,58.89677429199219,61.20815658569336,42.99944305419922,47.79676055908203,44.70627975463867,48.59883499145508,52.9987678527832,37.99943923950195,91.09976959228516,48.09992599487305,42.59980010986328,41.800140380859375,46.80009841918945,44.00016784667969,86.30045318603516,38.00058364868164,47.4998664855957,42.79999923706055,48.8004150390625,55.30004119873047,48.29893112182617,72.09909057617188,48.7994270324707,36.700931549072266,50.600223541259766,43.09854507446289,39.5002326965332,48.899295806884766,51.90372085571289,66.20059204101562,54.100257873535156,51.299957275390625,41.102027893066406,52.800052642822266,41.69974136352539,73.49971008300781,39.000221252441406,35.400569915771484,46.199317932128906,71.40023040771484,43.301753997802734,52.799991607666016,48.299678802490234,38.001190185546875,55.999454498291016,43.20061111450195,50.00102996826172,82.90056610107422,66.29985809326172,54.89973068237305,71.79853057861328,39.00498580932617,48.89987564086914,96.09971618652344,47.699703216552734,51.19895935058594,59.49980163574219,50.89858627319336,54.99906539916992,43.99872589111328,42.79780960083008,37.002471923828125,78.89958190917969,53.199729919433594,47.80055618286133,51.499629974365234,52.20022964477539,51.79972839355469,61.6706428527832,49.796424865722656,48.099422454833984,58.09892654418945,46.00119400024414,51.29979705810547,50.300148010253906,45.00017166137695,52.79780578613281,39.8023567199707,52.999881744384766,74.80237579345703,45.600521087646484,44.200660705566406,50.598148345947266,42.699806213378906,42.29978561401367,38.998722076416016,47.80020523071289,43.500404357910156,48.6992301940918,48.59942626953125,48.70020294189453,43.300331115722656,49.400428771972656,71.29974365234375,52.49885177612305,66.79816436767578,42.301204681396484,46.70053482055664,34.40021514892578,47.000301361083984,34.99928665161133,39.20012664794922,49.40056228637695,45.79942321777344,49.393310546875,53.99995422363281,49.59901809692383,36.20027160644531,40.4002571105957,42.601158142089844,45.000953674316406,44.899452209472656,43.29954528808594,46.49947738647461,44.499267578125,53.699928283691406,45.899837493896484,43.4022102355957,51.600040435791016,45.600521087646484,47.699745178222656,71.60047912597656,55.797874450683594,37.800514221191406,54.99446487426758,52.50018310546875,38.004173278808594,43.999961853027344,43.401031494140625,48.101436614990234,46.699249267578125,47.70028305053711,45.39983367919922,39.19974136352539,44.999855041503906,53.19871520996094,38.10207748413086,57.719600677490234,39.799896240234375,43.4001579284668,40.300350189208984,37.702362060546875,48.9996452331543,68.99322509765625,70.59901428222656,54.09963607788086,45.600341796875,65.098876953125,45.50010299682617,64.49972534179688,43.20009231567383,44.6002311706543,72.70069885253906,47.0997200012207,57.689544677734375,54.50060272216797,40.60226058959961,47.408023834228516,37.80166244506836,51.800567626953125,29.309226989746094,40.40040588378906,37.20124816894531,44.601287841796875,46.200286865234375,48.49745178222656,58.40098571777344,49.40000534057617,59.40003967285156,45.29857635498047,45.096866607666016,90.59957122802734,55.13775634765625,48.99995422363281,51.400203704833984,62.20017623901367,51.999610900878906,48.902557373046875,42.2004508972168,53.69844436645508,49.69976806640625,53.796138763427734,92.89974212646484,50.90281295776367,46.200347900390625,48.04024124145508,40.200923919677734,48.30249786376953,72.89857482910156,57.598060607910156,54.59967041015625,50.99870681762695,34.80097579956055,90.19924926757812,39.20182418823242,57.9997444152832,41.198387145996094,50.0,42.00049591064453,38.906185150146484,55.802757263183594,45.99897766113281,86.19993591308594,51.001033782958984,94.9999771118164,45.1003303527832,51.198143005371094,42.40113830566406,49.40605926513672,43.598175048828125,50.598297119140625,56.87522888183594,44.701576232910156,79.10047149658203,48.00027084350586,39.00020217895508,52.399627685546875,56.34241485595703,36.90011215209961,48.897850036621094,48.60027313232422,55.99985885620117,52.400054931640625,42.452545166015625,42.90046310424805,55.19961166381836,45.399818420410156,49.70002746582031,44.00023651123047,29.999561309814453,43.400306701660156,55.19622039794922,45.69968795776367,41.800537109375,46.39994812011719,46.999324798583984,45.6004753112793,47.60005569458008,50.011436462402344,49.19898223876953,90.9992446899414,46.17643737792969,41.10005187988281,45.999996185302734,53.64949035644531,45.60013961791992,47.49851989746094,51.69971466064453,49.39985656738281,51.69824981689453,52.49946594238281,47.40034866333008,68.60682678222656,48.4001350402832,38.400421142578125,48.600440979003906,29.607990264892578,98.79850006103516,37.800296783447266,45.300514221191406,47.499786376953125,88.90036010742188,40.101707458496094,55.09983825683594,75.7999038696289,43.40084457397461,38.39984893798828,51.899192810058594,44.800270080566406,49.29948425292969,74.49990844726562,45.200035095214844,43.50016403198242,70.09900665283203,50.3004035949707,53.99934387207031,47.7003059387207,46.49957275390625,35.90049743652344,98.39945220947266,40.7017822265625,55.29978561401367,28.00031280517578,49.20005798339844,40.00067138671875,51.20002746582031,49.5999755859375,54.39986038208008,27.999208450317383,47.399654388427734,50.09996032714844,51.99818801879883,46.200477600097656,49.80107498168945,54.99851608276367,59.599552154541016,41.300350189208984,49.199851989746094,44.59971237182617,40.40031051635742,42.39901351928711,47.60015869140625,49.09600067138672,42.58644485473633,39.60215377807617,50.80020523071289,44.700294494628906,46.501461029052734,54.59966278076172,43.70051574707031,40.40168762207031,74.60052490234375,37.70863723754883,53.59991455078125,70.79962158203125,38.80300521850586,42.29975509643555,47.399898529052734,51.69942092895508,46.300254821777344,83.29981994628906,55.10037612915039,45.500160217285156,50.29981994628906,64.99974060058594,41.0,56.89981460571289,42.60018539428711,48.80008316040039,84.50049591064453,49.29983901977539,50.89856719970703,44.00056076049805,49.59909439086914,47.49614715576172,44.002708435058594,40.40090560913086,92.79972839355469,49.19928741455078,53.20028305053711,55.399810791015625,67.10002899169922,43.999576568603516,45.500308990478516,51.59933853149414,53.102657318115234,51.398189544677734,88.09976196289062,41.6001091003418,47.90047836303711,56.899322509765625,43.59986114501953,44.100364685058594,47.80017852783203,52.0010986328125,58.798316955566406,59.89969253540039,41.000091552734375,50.49848556518555,47.9998779296875,60.19940948486328,51.99686050415039,44.399681091308594,55.8983154296875,50.198944091796875,44.0997314453125,50.499820709228516,37.60137176513672,51.40146255493164,36.00006866455078,47.40043258666992,44.2999267578125,47.49848937988281,49.699989318847656,50.899253845214844,41.59836196899414,39.80131530761719,48.099708557128906,40.800296783447266,63.70061111450195,51.39934158325195,49.89833068847656,47.099674224853516,54.193397521972656,56.50002670288086,45.69977951049805,49.50021743774414,51.40339660644531,58.89876937866211,48.30048370361328,62.99998474121094,47.50102996826172,47.40022659301758,47.19981384277344,36.8996696472168,46.00181579589844,48.40023422241211,76.30064392089844,37.500038146972656,40.09971618652344,44.899532318115234,50.89968490600586,45.399803161621094,38.00016403198242,62.145328521728516,38.50078582763672,90.19995880126953,48.29997634887695,54.09955978393555,51.29972839355469,37.900604248046875,36.703125,47.19992446899414,37.661312103271484,50.700904846191406,60.89556121826172,46.497833251953125,94.20597076416016,46.30223083496094,48.39963912963867,42.99982452392578,44.101165771484375,40.20097732543945,62.69937515258789,52.30051040649414,64.5986328125,34.700164794921875,50.20018005371094,48.10163879394531,45.10056686401367,50.100494384765625,49.69820022583008,72.2992172241211,64.69865417480469,48.69953536987305,69.59820556640625,69.1980209350586,44.80109786987305,39.401912689208984,32.20112991333008,43.60017395019531,50.599853515625,50.200767517089844,49.79951095581055,40.699642181396484,49.40016555786133,46.69883346557617,51.40030288696289,62.00206756591797,50.99436950683594,58.09836959838867,40.901363372802734,49.99959182739258,44.099945068359375,40.501800537109375,66.30048370361328,43.99917984008789,42.00095748901367,34.9993896484375,42.60020446777344,40.70015335083008,38.20016098022461,41.40191650390625,45.199981689453125,49.099220275878906,36.600067138671875,51.89984893798828,42.1010856628418,50.89232635498047,59.79943084716797,50.09979248046875,52.70008850097656,47.80006790161133,49.10002517700195,49.99987030029297,41.90101623535156,86.20123291015625,47.29943084716797,56.49026870727539,81.5017318725586,49.89976119995117,46.7999382019043,51.69866943359375,45.400482177734375,45.10235595703125,50.199867248535156,56.001007080078125,39.60037612915039,42.70051193237305,49.2998046875,46.29806900024414,83.60025787353516,51.00005340576172,42.45492172241211,38.800384521484375,67.3998031616211,46.70013427734375,45.3006591796875,52.10037612915039,37.80437469482422,49.40065002441406,39.69969177246094,40.90198516845703,47.90123748779297,55.30110549926758,61.504234313964844,92.39982604980469,46.70045852661133,56.49986267089844,40.70220947265625,45.29936218261719,41.90129089355469,48.50056838989258,36.00143051147461,47.899940490722656,95.09957885742188,37.602779388427734,65.10027313232422,41.900367736816406,49.59939956665039,48.499935150146484,42.09992218017578,48.600440979003906,38.900325775146484,43.50010681152344,41.100189208984375,49.200340270996094,50.00001907348633,82.19820404052734,46.895328521728516,58.399715423583984,48.40071105957031,61.09060287475586,40.00239562988281,39.50033950805664,55.496986389160156,48.00016784667969,37.90217971801758,42.099571228027344,51.899295806884766,65.10016632080078,45.600738525390625,47.10042190551758,58.09968566894531,37.90098571777344,53.296669006347656,90.09996032714844,48.20079803466797,48.60093688964844,39.499454498291016,61.998023986816406,36.90208053588867,59.49993896484375,48.39915084838867,48.40024948120117,39.1004524230957,48.699851989746094,59.199974060058594,48.800025939941406,56.69986343383789,48.80031204223633,64.19834899902344,45.50230026245117,36.700599670410156,47.4005241394043,48.09956741333008,46.80022048950195,48.19989776611328,48.800376892089844,51.69982147216797,83.99942779541016,52.399559020996094,51.897056579589844,45.4000358581543,43.90143585205078,50.70016860961914,48.70016860961914,88.90027618408203,37.80077362060547,95.59988403320312,53.59861755371094,41.902381896972656,56.299896240234375,75.04999542236328,70.89924621582031,53.69969177246094,75.09969329833984,39.211997985839844,48.79930877685547,77.79972839355469,60.49794387817383,51.399078369140625,46.59965896606445,50.699649810791016,43.7004508972168,49.600215911865234,42.899906158447266,44.90236282348633,87.90013122558594,48.69982147216797,42.499794006347656,47.80037307739258,38.70099639892578,48.20017623901367,65.00025177001953,41.99667739868164,56.49965286254883,47.199745178222656,45.099002838134766,48.29981231689453,46.399845123291016,42.50300216674805,43.7997932434082,84.89988708496094,39.400047302246094,44.30044174194336,52.299034118652344,47.69908142089844,45.3000602722168,52.15418243408203,49.10028076171875,52.9993896484375,33.00053024291992,55.999114990234375,38.20109176635742,90.09989929199219,53.39978790283203,66.6920166015625,51.19880676269531,50.397518157958984,47.002098083496094,41.99957275390625,48.000282287597656,51.299644470214844,56.40034103393555,39.304317474365234,45.99945068359375,46.300174713134766,81.57945251464844,80.0997314453125,48.89960479736328,45.997989654541016,43.600685119628906,40.90073776245117,28.50086784362793,50.59840774536133,43.30011749267578,67.400390625,35.60285186767578,56.800819396972656,48.497676849365234,51.599281311035156,64.39928436279297,39.900753021240234,47.80012130737305,79.50025177001953,39.99947738647461,48.40220260620117,44.30033493041992,77.59879302978516,60.502906799316406,45.8009033203125,52.50013732910156,41.00028610229492,53.89918899536133,42.30024337768555,53.19950866699219,41.400306701660156,49.697391510009766,47.40077590942383,48.900657653808594,55.19843292236328,67.99970245361328,56.935516357421875,45.80152130126953,51.59796142578125,49.599979400634766,46.795814514160156,50.799400329589844,65.89958190917969,49.69997787475586,47.99987030029297,61.398773193359375,47.700191497802734,45.50133514404297,47.10419464111328,54.700687408447266,41.20008087158203,51.9998893737793,48.700382232666016,35.39995193481445,43.699981689453125,46.00010681152344,49.19931411743164,44.5999755859375,44.40288543701172,65.00021362304688,38.30064392089844,53.999969482421875,53.49851608276367,73.5999526977539,49.200164794921875,40.13336181640625,46.000240325927734,65.24956512451172,45.899757385253906,44.30018997192383,42.60285568237305,45.69978332519531,40.10029220581055,48.39765548706055,59.527530670166016,72.99641418457031,46.790897369384766,82.9992446899414,42.2999153137207,44.500980377197266,49.69942855834961,44.49996566772461,49.999977111816406,53.900230407714844,50.5986328125,64.39965057373047,57.19988250732422,51.600128173828125,44.42206573486328,51.69939422607422,42.900390625,48.39771270751953,31.200599670410156,37.80071258544922,48.29894256591797,54.900169372558594,42.69997024536133,44.30034255981445,51.40015411376953,39.60282516479492,47.6998291015625,50.799537658691406,45.600582122802734,35.00949478149414,75.19999694824219,71.99995422363281,46.69912338256836,39.40195846557617,58.800052642822266,45.200897216796875,44.00029373168945,52.60022735595703,57.9995231628418,41.102027893066406,51.40025329589844,67.60813903808594,44.09982681274414,49.799217224121094,66.59825134277344,44.49988555908203,84.40226745605469,37.70027160644531,48.59947204589844,44.59916305541992,50.399967193603516,46.89995574951172,67.70015716552734,31.700090408325195,73.00723266601562,50.9001579284668,51.59446334838867,51.099212646484375,48.198848724365234,48.00004196166992,44.70072937011719,66.9006576538086,42.60052490234375,39.903011322021484,44.29998016357422,40.69961166381836,47.10023498535156,74.3917465209961,53.499637603759766,67.99772644042969,49.299983978271484,54.89967346191406,58.300148010253906,92.29962921142578,50.69906234741211,52.90029525756836,58.999977111816406,85.70032501220703,44.10004806518555,52.79994583129883,47.69953155517578,55.50016784667969,45.999942779541016,40.599952697753906,59.19959259033203,49.4003791809082,37.50029754638672,41.60044860839844,54.59922409057617,41.50017166137695,71.69937133789062,62.20002746582031,63.305233001708984,95.99898529052734,53.5997314453125,46.900726318359375,52.2000846862793,34.5999641418457,48.10037612915039,42.30021667480469,48.40040969848633,50.69727325439453,47.39756774902344,36.901702880859375,54.09728240966797,44.39991760253906,39.599727630615234,41.70150375366211,37.1007194519043,48.79769515991211,49.19852066040039,58.10050964355469,66.69996643066406,50.300621032714844,43.599220275878906,53.20017623901367,40.000553131103516,43.5992317199707,48.49992752075195,43.6003303527832,45.100128173828125,38.80011749267578,47.30006790161133,48.199832916259766,38.103294372558594,62.6752815246582,38.400726318359375,49.69935989379883,35.69990921020508,47.80057144165039,44.40238571166992,44.301448822021484,81.09904479980469,47.70166778564453,41.40090560913086,48.40672302246094,70.59791564941406,45.00013732910156,85.10012817382812,53.998775482177734,49.59896469116211,39.40010452270508,80.60055541992188,48.100341796875,53.699581146240234,51.699851989746094,61.39796447753906,71.49984741210938,39.4995231628418,45.70581817626953,54.299888610839844,46.699607849121094,31.703317642211914,44.59990310668945,27.998872756958008,58.49985122680664,63.50040817260742,41.49962615966797,53.79902648925781,60.795040130615234,43.399505615234375,49.300045013427734,54.00070571899414,62.9994010925293,42.10163497924805,48.29860305786133,45.300254821777344,78.19998931884766,45.60009765625,48.9911994934082,45.5002326965332,41.100826263427734,73.29985809326172,65.50017547607422,43.601016998291016,63.501495361328125,50.198970794677734,55.800201416015625,38.699378967285156,48.999755859375,39.100860595703125,74.70008087158203,41.30018615722656,52.69950485229492,51.49979019165039,50.59923553466797,59.59931945800781,48.49953079223633,69.50032806396484,46.400367736816406,52.27643966674805,61.600364685058594,49.69997787475586,38.00066375732422,36.600746154785156,56.698516845703125,50.797142028808594,48.99985122680664,40.89944839477539,41.80172348022461,43.60219955444336,45.1000862121582,82.99972534179688,48.1990852355957,76.39937591552734,40.903709411621094,52.79624938964844,51.2970085144043,42.800331115722656,42.400146484375,46.80154037475586,40.40300369262695,38.399837493896484,45.399810791015625,47.09996795654297,39.500484466552734,42.80057144165039,44.300086975097656,52.993682861328125,54.59520721435547,28.00023651123047,45.79966354370117,49.10037612915039,53.70009994506836,43.400333404541016,54.700313568115234,49.10097885131836,47.09822082519531,47.59973907470703,47.201263427734375,47.00057601928711,44.50023651123047,47.099952697753906,60.49565505981445,47.499568939208984,37.20213317871094,46.000518798828125,50.49936294555664,43.998512268066406,85.19993591308594,59.49726486206055,71.2001953125,35.80802536010742,65.80052185058594,48.00039291381836,55.75095748901367,66.69950866699219,40.90049743652344,52.899349212646484,57.199668884277344,58.49895477294922,50.80750274658203,41.70273971557617,70.90006256103516,39.400821685791016,43.60006332397461,46.30012130737305,48.60004806518555,55.699806213378906,42.999820709228516,50.69968795776367,43.19979476928711,65.89984130859375,83.69972229003906,51.39999008178711,40.1995964050293,50.99988555908203,39.101985931396484,48.700504302978516,55.89701843261719,77.00004577636719,39.49978256225586,49.000038146972656,51.50001525878906,84.79999542236328,71.8001937866211,42.101173400878906,42.29960250854492,81.50016784667969,42.70002746582031,42.20164108276367,48.800079345703125,44.99981689453125,32.306785583496094,48.599876403808594,55.29756546020508,44.10013198852539,46.60007095336914,44.501373291015625,66.22648620605469,52.399593353271484,55.99888229370117,43.89960479736328,71.60018157958984,41.20060729980469,40.5025634765625,46.099510192871094,37.50102996826172,49.199684143066406,48.19882583618164,87.00128936767578,48.410911560058594,47.601749420166016,43.15015411376953,50.79894256591797,77.49881744384766,75.70095825195312,35.30185317993164,64.50012969970703,37.699951171875,47.10093307495117,49.60002136230469,91.79935455322266,31.801084518432617,55.9989128112793,47.99991989135742,62.3995361328125,51.94997787475586,46.79994583129883,42.200096130371094,94.69986724853516,44.400665283203125,40.30058288574219,59.900909423828125,46.300506591796875,46.10023498535156,45.799983978271484,47.79948806762695,49.50007247924805,50.59992599487305,49.40015411376953,89.69985961914062,52.29885482788086,42.29991912841797,52.299652099609375,49.300506591796875,41.50061798095703,47.20013427734375,51.201107025146484,93.59969329833984,46.09938049316406,64.79869842529297,40.1025276184082,44.30062484741211,82.40042877197266,48.8004150390625,52.10078430175781,49.99864196777344,42.79952621459961,42.3001823425293,47.59966278076172,41.800899505615234,51.89754867553711,40.701541900634766,50.688194274902344,43.099857330322266,69.40005493164062,37.599327087402344,53.29815673828125,63.09931182861328,36.60101318359375,51.67948532104492,44.20014572143555,49.70055389404297,48.10009002685547,46.7005615234375,50.29690933227539,67.50130462646484,44.211273193359375,50.59723663330078,45.100406646728516,37.600399017333984,70.00057220458984,60.29145431518555,52.49982452392578,51.70035171508789,42.900150299072266,47.600215911865234,41.65007019042969,44.90013885498047,76.79959106445312,49.600215911865234,47.299705505371094,39.300601959228516,61.50474166870117,41.19956588745117,41.9006462097168,42.0008659362793,39.100425720214844,72.00052642822266,48.60000228881836,40.30200958251953,85.59955596923828,44.699066162109375,43.103553771972656,41.70083236694336,52.499847412109375,45.49996566772461,76.19959259033203,37.20096969604492,53.80031204223633,51.399620056152344,53.99969482421875,47.60004425048828,45.99937057495117,42.80076217651367,52.199668884277344,48.90003204345703,43.700130462646484,39.500244140625,36.500328063964844,72.50061798095703,47.40147018432617,43.002681732177734,47.49953842163086,51.198387145996094,44.09877014160156,61.00005340576172,53.593997955322266,71.69898986816406,46.400245666503906,97.49706268310547,40.400054931640625,51.80018997192383,38.2012939453125,42.599369049072266,55.79969024658203,50.600257873535156,41.80093765258789,61.50128936767578,59.02228546142578,53.09926986694336,44.10029602050781,74.9900894165039,46.59956741333008,51.40021514892578,49.20022201538086,45.49761962890625,56.59944534301758,40.50046920776367,89.59894561767578,53.99956130981445,37.20004653930664,50.797298431396484,46.30018997192383,35.500030517578125,37.00076675415039,53.19893264770508,29.201095581054688,66.79999542236328,46.90065002441406,55.30112075805664,37.6023063659668,43.9000358581543,44.701194763183594,47.69984817504883,49.49903869628906,51.700653076171875,47.800079345703125,46.19956970214844,37.60002899169922,82.19901275634766,52.998374938964844,44.600189208984375,41.300636291503906,57.19797134399414,54.20011520385742,69.30014038085938,51.4996452331543,48.59883499145508,71.00007629394531,52.59786605834961,39.89960861206055,34.000850677490234,46.901123046875,48.501441955566406,54.49990463256836,44.90019226074219,96.89744567871094,51.40027618408203,55.000450134277344,34.40058898925781,62.49987030029297,66.7994384765625,44.700199127197266,72.30078125,50.90048599243164,43.09995651245117,50.999916076660156,47.4991455078125,51.89939880371094,53.49992752075195,45.301185607910156,44.20005416870117,37.001277923583984,41.00040817260742,51.79967498779297,42.799903869628906,37.200408935546875,34.799156188964844,44.00123596191406,46.89997863769531,47.501075744628906,44.900779724121094,54.5002326965332,39.30063247680664,46.69994354248047,45.000328063964844,43.702980041503906,44.79906463623047,49.600582122802734,49.999778747558594,51.00008773803711,55.899784088134766,44.39984130859375,45.90071105957031,39.2004508972168,52.70299530029297,62.94449996948242,43.50017547607422,31.800533294677734,50.699981689453125,87.09986877441406,62.3006706237793,48.9998664855957,49.30020523071289,40.60155487060547,68.90026092529297,43.20321273803711,56.29989242553711,35.49961853027344,46.402061462402344,52.8982048034668,80.5981674194336,54.19968032836914,71.90032958984375,38.901763916015625,58.699607849121094,61.600059509277344,49.6002082824707,47.40058898925781,54.600040435791016,83.5992202758789,49.39986801147461,44.50143051147461,45.299957275390625,52.39746856689453,70.10018920898438,51.300392150878906,38.302310943603516,40.60013198852539,55.79985809326172,45.699703216552734,38.00088119506836,85.0994644165039,71.29994201660156,39.602821350097656,46.49720764160156,39.79957580566406,43.10053634643555,43.60017013549805,82.20110321044922,41.49999237060547,47.39995574951172,52.59974670410156,50.80062484741211,42.89991760253906,45.099891662597656,40.50117111206055,47.50090026855469,38.0001335144043,46.70001983642578,47.00019836425781,53.89787673950195,51.10012435913086,47.20043182373047,53.60018539428711,51.5000114440918,40.30034255981445,50.101409912109375,46.80033493041992,44.89930725097656,95.79871368408203,54.70016098022461,68.71009063720703,45.29972839355469,39.89986038208008,51.79950714111328,50.500606536865234,80.4994888305664,38.1012077331543,50.89619827270508,44.20027160644531,62.50081253051758,47.199989318847656,45.30010986328125,48.800140380859375,53.69914245605469,50.09779357910156,42.9002799987793,44.20041275024414,46.90018844604492,61.39979934692383,48.60002136230469,44.90016174316406,42.300201416015625,61.699501037597656,43.70041275024414,47.20015335083008,58.4957160949707,41.201297760009766,54.602352142333984,39.60037612915039,71.79739379882812,53.69686508178711,44.29995346069336,46.300392150878906,45.90115737915039,42.000144958496094,55.39870834350586,44.500946044921875,38.411720275878906,74.99976348876953,46.60050582885742,47.50046920776367,48.09992980957031,35.800514221191406,45.99967956542969,49.19870376586914,57.59892272949219,76.20001220703125,59.096927642822266,59.199161529541016,69.19865417480469,59.796630859375,63.751033782958984,51.20005798339844,51.79907989501953,72.20033264160156,54.59735870361328,48.99979019165039,38.40273666381836,73.40007019042969,57.0757942199707,57.68258285522461,45.49781799316406,40.7995491027832,51.20027160644531,50.40047836303711,41.300018310546875,41.60137176513672,33.700340270996094,47.40156555175781,77.80010986328125,53.60007858276367,48.70048904418945,54.19874954223633,53.39979934692383,47.800621032714844,49.199241638183594,45.000484466552734,45.70117950439453,40.13336181640625,84.29945373535156,40.20138168334961,47.600364685058594,46.79973602294922,48.0003547668457,54.69979476928711,61.50313186645508,47.70177459716797,46.999725341796875,43.9013671875,47.399925231933594,43.50131607055664,79.90025329589844,43.30074691772461,43.59971618652344,50.9993896484375,88.17583465576172,50.000370025634766,80.49964141845703,52.00035858154297,45.40019607543945,45.400081634521484,53.697601318359375,61.19871520996094,46.301246643066406,71.89928436279297,80.49967956542969,47.001983642578125,47.399513244628906,48.900367736816406,38.90098571777344,50.09828186035156,67.90015411376953,45.60007095336914,29.003965377807617,45.30072021484375,39.70064926147461,43.40026092529297,48.49846649169922,49.900123596191406,46.8985710144043,35.50011444091797,39.699302673339844,43.82916259765625,43.30008316040039,56.20063781738281,52.0997200012207,51.39883041381836,47.999820709228516,52.99968338012695,62.00018310546875,43.09854507446289,76.69999694824219,39.70050811767578,85.40042114257812,42.89976119995117,38.700836181640625,44.800437927246094,62.19863510131836,77.70036315917969,71.69923400878906,35.59865188598633,69.80028533935547,46.500328063964844,49.69862365722656,45.40061569213867,64.00184631347656,50.99934005737305,51.800601959228516,36.30002212524414,47.799869537353516,71.19994354248047,43.29948806762695,57.899559020996094,37.20024108886719,47.89875030517578,46.79990768432617,50.2000846862793,49.49838638305664,44.40067672729492,44.10026168823242,43.49918746948242,45.7999267578125,36.899566650390625,50.799625396728516,50.899620056152344,89.8001708984375,58.19606399536133,52.397953033447266,40.202049255371094,57.09987258911133,59.39897918701172,76.89994049072266,67.69924926757812,40.001102447509766,42.900001525878906,46.49628448486328,46.101070404052734,45.499385833740234,68.79962921142578,41.70051574707031,47.9000244140625,82.3995132446289,39.90263748168945,54.09900665283203,59.498268127441406,53.998695373535156,52.199195861816406,51.901092529296875,53.399803161621094,51.898746490478516,46.90034103393555,42.19927978515625,81.3983383178711,53.999603271484375,53.798988342285156,55.099754333496094,47.8985481262207,51.101348876953125,37.79998779296875,41.60051727294922,71.90013122558594,41.39990997314453,49.200138092041016,74.80033874511719,53.70030212402344,50.09477233886719,52.0999755859375,60.49982833862305,40.00149154663086,85.29997253417969,51.20025634765625,46.49785232543945,46.2015380859375,46.899871826171875,44.80038833618164,43.200340270996094,39.40108108520508,34.40270233154297,46.90007781982422,53.89188766479492,73.70008850097656,58.998924255371094,48.7989387512207,49.99879455566406,67.61140441894531,50.99991226196289,56.59979248046875,80.90044403076172,48.50012969970703,38.20100402832031,85.79976654052734,52.10005569458008,49.40097427368164,55.0979118347168,39.900352478027344,62.401546478271484,59.79764175415039,52.0997200012207,64.20035552978516,52.601539611816406,63.899993896484375,44.59958267211914,37.29985427856445,49.29944610595703,47.300132751464844,49.1999397277832,60.29718017578125,40.80190658569336,37.69987487792969,58.19711685180664,56.59903335571289,52.099369049072266,36.50030517578125,55.997802734375,57.69980239868164,42.20005416870117,46.20029067993164,43.200408935546875,38.30122756958008,51.299705505371094,50.20012283325195,41.30192184448242,45.90005111694336,41.200626373291016,44.799964904785156,52.19868850708008,57.69928741455078,44.498931884765625,48.100059509277344,86.79853820800781,43.700077056884766,65.30006408691406,52.899356842041016,52.4000244140625,53.499290466308594,56.4992561340332,45.89955520629883,51.1003303527832,51.801429748535156,38.50357437133789,49.99920654296875,55.299049377441406,48.29957962036133,64.39965057373047,52.40207290649414,78.39948272705078,46.900108337402344,50.70035171508789,45.19205856323242,49.09912109375,39.801090240478516,40.701202392578125,53.09698486328125,57.29982376098633,90.5000228881836,61.666805267333984,55.79926300048828,51.39917755126953,52.60016632080078,41.30008316040039,42.30125045776367,43.70114517211914,47.5984992980957,36.40018081665039,57.4992790222168,39.80021667480469,81.30011749267578,47.89950180053711,38.60161590576172,30.000120162963867,89.39949035644531,48.799991607666016,70.399169921875,46.99992752075195,35.2009162902832,56.398738861083984,42.699710845947266,57.700199127197266,61.00028610229492,33.40703201293945,45.200252532958984,54.499542236328125,38.001373291015625,41.000762939453125,37.898921966552734,85.59944152832031,53.20055389404297,40.80062484741211,82.79911804199219,40.89989471435547,66.50001525878906,57.599937438964844,36.500526428222656,38.00045394897461,44.69968795776367,92.29991912841797,46.09894943237305,43.69979476928711,47.899940490722656,51.89976119995117,46.4998664855957,65.50020599365234,46.10013961791992,50.010902404785156,51.299442291259766,33.69982147216797,50.70003890991211,61.9930305480957,47.5997200012207,47.799774169921875,44.5038948059082,63.20000076293945,40.10108184814453,85.79729461669922,42.801082611083984,77.89557647705078,55.00019073486328,45.90001678466797,46.1993522644043,62.39983367919922,85.60064697265625,51.400001525878906,39.80340576171875,58.300079345703125,48.29998779296875,54.79707336425781,50.399959564208984,61.89957046508789,52.099830627441406,42.50041580200195,37.3072509765625,80.5,42.70005798339844,75.60015869140625,48.19981002807617,44.500160217285156,43.89990234375,51.80002975463867,44.10000991821289,44.5994987487793,48.804046630859375,50.5999641418457,91.70040893554688,97.89812469482422,47.500972747802734,91.50050354003906,97.39888763427734,58.200843811035156,51.40009689331055,40.300132751464844,47.89975357055664,48.10060119628906,48.99937057495117,46.89961624145508,49.20038986206055,51.197715759277344,51.10011291503906,73.09980010986328,44.700225830078125,37.7009391784668,46.99956130981445,42.3004035949707,57.39949417114258,49.79827880859375,77.49925231933594,39.50020217895508,65.19977569580078,42.09980010986328,82.9006576538086,79.67053985595703,56.5993766784668,54.6982307434082,32.50475311279297,36.40087890625,49.99936294555664,54.79604721069336,52.59915542602539,53.89952087402344,48.10048294067383,58.19953536987305,72.194091796875,60.50044631958008,38.70028305053711,48.30010986328125,51.500213623046875,73.40054321289062,75.89922332763672,48.700157165527344,61.50868225097656,65.3003921508789,43.699764251708984,37.10082244873047,51.59961700439453,61.50010299682617,42.8007926940918,50.9000358581543,49.29970169067383,57.10014343261719,35.50052261352539,51.900413513183594,46.90057373046875,48.4993782043457,61.703704833984375,46.500492095947266,62.090457916259766,45.8001823425293,48.30003356933594,56.099246978759766,47.999507904052734,39.50362014770508,43.00252914428711,48.600250244140625,36.40037536621094,46.60005569458008,46.315513610839844,41.800018310546875,51.395240783691406,54.79876708984375,38.6009521484375,96.19574737548828,40.10103225708008,47.19966125488281,38.50130081176758,58.699886322021484,49.700138092041016,60.134944915771484,39.69953918457031,41.60017776489258,87.50047302246094,43.29911422729492,64.59898376464844,45.800201416015625,54.98855972290039,37.94951248168945,46.49946212768555,43.20048141479492,82.09986877441406,40.18831253051758,51.69944763183594,53.499881744384766,44.09974670410156,52.99894714355469,54.898921966552734,44.20024871826172,45.30096435546875,56.100624084472656,89.79950714111328,42.80009460449219,47.80024337768555,48.00102233886719,35.60121536254883,54.00030517578125,49.49951171875,43.29962921142578,46.000526428222656,53.50005340576172,39.500709533691406,42.301002502441406,46.49949264526367,49.299888610839844,50.49947738647461,89.70014953613281,42.100830078125,39.199581146240234,58.896610260009766,40.30036163330078,38.40007019042969,43.601409912109375,37.803096771240234,48.60096740722656,51.397377014160156,56.30054473876953,49.99913787841797,62.098838806152344,42.30039596557617,48.60569763183594,85.99950408935547,47.39944076538086,68.70018768310547,61.20791244506836,40.200775146484375,26.81111717224121,47.10002517700195,66.99140167236328,74.20012664794922,50.0991325378418,39.700931549072266,46.199825286865234,47.19999694824219,78.19944763183594,47.0001220703125,40.50080108642578,44.90176010131836,59.69866943359375,91.20034790039062,38.299373626708984,78.10054016113281,66.0429916381836,38.60099411010742,67.0994644165039,45.30108642578125,52.59916687011719,52.79996109008789,50.40009689331055,44.002960205078125,92.39923858642578,61.4001579284668,71.50019836425781,48.80126953125,47.8006591796875,39.70082473754883,53.100154876708984,50.399635314941406,47.20165252685547,48.30005645751953,44.99411392211914,88.40188598632812,49.99658203125,42.19975662231445,51.600006103515625,39.10032272338867,52.39956283569336,46.80057907104492,48.69898223876953,43.698917388916016,84.40022277832031,56.09750747680664,47.400753021240234,57.20033264160156,49.70112228393555,40.50117874145508,54.09960174560547,43.300045013427734,46.50029754638672,45.59929275512695,65.59956359863281,41.90039825439453,74.2999496459961,47.69984436035156,61.09928512573242,67.79932403564453,48.59917068481445,45.900142669677734,58.299842834472656,62.199371337890625,80.7002182006836,46.90077590942383,51.19935607910156,50.39999008178711,44.000396728515625,45.40052795410156,45.59870147705078,77.700927734375,35.59892272949219,38.300689697265625,79.49806213378906,50.39959716796875,48.1007080078125,46.59912872314453,45.59931945800781,43.10023880004883,43.400333404541016,52.998497009277344,63.20388412475586,61.6706428527832,76.69966888427734,44.43389129638672,38.80074691772461,53.85271072387695,72.400146484375,47.49961471557617,47.401214599609375,54.19435119628906,53.300262451171875,40.29991149902344,50.79775619506836,48.799766540527344,42.50001525878906,43.30196762084961,55.10011672973633,54.500267028808594,40.300941467285156,42.20000457763672,82.1990966796875,44.90148162841797,51.69774627685547,49.20045471191406,47.60111618041992,33.001834869384766,96.3992691040039,75.49980163574219,48.600093841552734,51.29372024536133,45.99937057495117,43.20005416870117,53.9000129699707,47.39984893798828,46.50004196166992,55.79981231689453,50.69990158081055,56.89964294433594,56.4099006652832,45.59943771362305,61.502227783203125,50.30036544799805,62.00263977050781,77.59783935546875,53.599700927734375,42.29990768432617,51.09996032714844,53.599281311035156,65.48518371582031,37.30044937133789,62.48271179199219,56.79878616333008,52.40104675292969,42.00151824951172,84.89997863769531,42.101619720458984,57.7999267578125,52.002281188964844,48.399932861328125,53.59619903564453,48.100093841552734,51.30030059814453,57.299407958984375,49.99930953979492,53.2992057800293,39.99988555908203,48.5972785949707,39.9502067565918,35.201168060302734,51.000518798828125,51.19976806640625,42.300086975097656,46.20005416870117,49.89939498901367,35.802650451660156,66.60041046142578,41.80048751831055,43.30043411254883,53.799591064453125,46.897865295410156,48.9005012512207,51.70118713378906,79.40036010742188,47.10068893432617,51.59977340698242,39.20258712768555,39.40106964111328,44.50171661376953,33.91608810424805,46.50069808959961,81.99522399902344,35.4001350402832,93.69989013671875,50.79905319213867,57.99703598022461,57.09940719604492,65.69985961914062,50.9007568359375,49.899559020996094,53.59877014160156,49.70026779174805,51.30079650878906,36.700443267822266,64.69978332519531,80.69996643066406,42.899105072021484,37.706634521484375,42.00126647949219,43.89995193481445,37.10115051269531,45.000205993652344,42.80162811279297,55.99917984008789,47.998531341552734,53.700496673583984,74.19943237304688,59.10069274902344,48.000038146972656,60.10030746459961,45.800193786621094,35.90009307861328,44.000614166259766,55.99214172363281,51.200931549072266,54.99997329711914,49.800453186035156,45.400753021240234,49.9998664855957,37.601112365722656,39.10336685180664,39.90350341796875,55.21420669555664,47.39925003051758,40.10010528564453,53.19988250732422,44.89961624145508,46.499515533447266,60.49668884277344,43.699981689453125,46.599525451660156,44.60032272338867,48.89801788330078,61.49987030029297,52.89725875854492,48.19930648803711,51.498695373535156,68.6998519897461,47.401546478271484,52.09929656982422,52.39600372314453,43.801334381103516,53.79937744140625,38.900142669677734,50.99974060058594,65.79998779296875,52.79973602294922,53.49977493286133,39.10276794433594,67.79972076416016,41.49905014038086,72.19971466064453,43.70029067993164,52.898502349853516,52.79973220825195,44.29914474487305,90.50017547607422,43.90004348754883,40.30988311767578,80.69857025146484,78.10350799560547,49.60047149658203,45.70232391357422,49.99992370605469,54.199867248535156,54.099735260009766,93.49876403808594,51.89950180053711,63.0023307800293,51.099735260009766,41.4005126953125,51.000755310058594,48.39958572387695,51.09950256347656,85.80008697509766,34.90243148803711,43.80022048950195,38.10245132446289,47.60005569458008,74.50074005126953,59.20003890991211,50.800514221191406,54.498687744140625,75.30039978027344,48.10039138793945,66.69910430908203,41.20083236694336,35.30109786987305,43.19977569580078,56.69921875,51.800662994384766,41.400882720947266,56.70289611816406,44.79908752441406,87.60005187988281,41.70100021362305,46.999778747558594,51.99605941772461,37.501102447509766,93.0054702758789,44.05071258544922,65.49024963378906,39.90108108520508,37.12181854248047,50.00001907348633,60.29813766479492,46.200111389160156,68.69783020019531,39.90007781982422,45.50014877319336,52.39931106567383,37.807498931884766,51.70005798339844,62.491451263427734,39.39990997314453,44.50012969970703,45.099491119384766,95.99662780761719,52.69990539550781,35.4018669128418,45.60017013549805,52.600067138671875,59.19967269897461,91.99945831298828,49.70296096801758,53.5990104675293,52.29910659790039,32.503543853759766,75.59965515136719,60.601078033447266,89.09981536865234,46.10075759887695,66.4935302734375,51.2995491027832,45.80379867553711,50.699005126953125,50.599945068359375,48.499855041503906,42.79986572265625,50.49958419799805,56.998939514160156,82.19979858398438,90.20036315917969,47.200130462646484,50.099609375,62.300498962402344,47.70015335083008,39.299739837646484,50.799625396728516,59.900062561035156,43.80017852783203,90.5990982055664,48.59722900390625,38.400238037109375,42.00572967529297,45.20069122314453,47.09992218017578,45.1002311706543,50.8007926940918,58.394134521484375,42.49989700317383,46.498416900634766,50.499969482421875,44.90184783935547,50.70000457763672,52.39963912963867,50.299129486083984,47.900150299072266,44.79927444458008,43.499916076660156,72.50025177001953,51.699493408203125,63.9315185546875,39.30144500732422,48.997718811035156,91.69924926757812,52.002071380615234,47.90052032470703,42.10028839111328,50.29692459106445,49.00013732910156,46.30021667480469,52.7995719909668,52.200225830078125,43.80569076538086,83.70057678222656,49.399314880371094,90.39979553222656,38.10591125488281,49.999839782714844,50.29948043823242,87.09938049316406,87.59963989257812,84.4998550415039,55.4002799987793,83.59967803955078,86.69939422607422,47.300071716308594,45.60050582885742,61.099159240722656,57.19825744628906,45.80009078979492,45.10012435913086,34.800331115722656,67.199951171875,45.39995574951172,62.89952850341797,38.702518463134766,75.7009048461914,35.44988250732422,45.20010757446289,44.99928665161133,40.005210876464844,42.504005432128906,52.29933547973633,41.39994430541992,57.69908905029297,46.897247314453125,56.80064392089844,43.399879455566406,63.200469970703125,34.9010124206543,56.10041809082031,42.298702239990234,43.90031814575195,35.69874572753906,50.29978561401367,62.34972381591797,47.59828186035156,40.89997100830078,53.49978256225586,49.000526428222656,47.49894714355469,48.99875259399414,57.29924774169922,41.39590072631836,45.80096435546875,46.20009231567383],\"type\":\"scattergl\"}],                        {\"template\":{\"data\":{\"histogram2dcontour\":[{\"type\":\"histogram2dcontour\",\"colorbar\":{\"outlinewidth\":0,\"ticks\":\"\"},\"colorscale\":[[0.0,\"#0d0887\"],[0.1111111111111111,\"#46039f\"],[0.2222222222222222,\"#7201a8\"],[0.3333333333333333,\"#9c179e\"],[0.4444444444444444,\"#bd3786\"],[0.5555555555555556,\"#d8576b\"],[0.6666666666666666,\"#ed7953\"],[0.7777777777777778,\"#fb9f3a\"],[0.8888888888888888,\"#fdca26\"],[1.0,\"#f0f921\"]]}],\"choropleth\":[{\"type\":\"choropleth\",\"colorbar\":{\"outlinewidth\":0,\"ticks\":\"\"}}],\"histogram2d\":[{\"type\":\"histogram2d\",\"colorbar\":{\"outlinewidth\":0,\"ticks\":\"\"},\"colorscale\":[[0.0,\"#0d0887\"],[0.1111111111111111,\"#46039f\"],[0.2222222222222222,\"#7201a8\"],[0.3333333333333333,\"#9c179e\"],[0.4444444444444444,\"#bd3786\"],[0.5555555555555556,\"#d8576b\"],[0.6666666666666666,\"#ed7953\"],[0.7777777777777778,\"#fb9f3a\"],[0.8888888888888888,\"#fdca26\"],[1.0,\"#f0f921\"]]}],\"heatmap\":[{\"type\":\"heatmap\",\"colorbar\":{\"outlinewidth\":0,\"ticks\":\"\"},\"colorscale\":[[0.0,\"#0d0887\"],[0.1111111111111111,\"#46039f\"],[0.2222222222222222,\"#7201a8\"],[0.3333333333333333,\"#9c179e\"],[0.4444444444444444,\"#bd3786\"],[0.5555555555555556,\"#d8576b\"],[0.6666666666666666,\"#ed7953\"],[0.7777777777777778,\"#fb9f3a\"],[0.8888888888888888,\"#fdca26\"],[1.0,\"#f0f921\"]]}],\"heatmapgl\":[{\"type\":\"heatmapgl\",\"colorbar\":{\"outlinewidth\":0,\"ticks\":\"\"},\"colorscale\":[[0.0,\"#0d0887\"],[0.1111111111111111,\"#46039f\"],[0.2222222222222222,\"#7201a8\"],[0.3333333333333333,\"#9c179e\"],[0.4444444444444444,\"#bd3786\"],[0.5555555555555556,\"#d8576b\"],[0.6666666666666666,\"#ed7953\"],[0.7777777777777778,\"#fb9f3a\"],[0.8888888888888888,\"#fdca26\"],[1.0,\"#f0f921\"]]}],\"contourcarpet\":[{\"type\":\"contourcarpet\",\"colorbar\":{\"outlinewidth\":0,\"ticks\":\"\"}}],\"contour\":[{\"type\":\"contour\",\"colorbar\":{\"outlinewidth\":0,\"ticks\":\"\"},\"colorscale\":[[0.0,\"#0d0887\"],[0.1111111111111111,\"#46039f\"],[0.2222222222222222,\"#7201a8\"],[0.3333333333333333,\"#9c179e\"],[0.4444444444444444,\"#bd3786\"],[0.5555555555555556,\"#d8576b\"],[0.6666666666666666,\"#ed7953\"],[0.7777777777777778,\"#fb9f3a\"],[0.8888888888888888,\"#fdca26\"],[1.0,\"#f0f921\"]]}],\"surface\":[{\"type\":\"surface\",\"colorbar\":{\"outlinewidth\":0,\"ticks\":\"\"},\"colorscale\":[[0.0,\"#0d0887\"],[0.1111111111111111,\"#46039f\"],[0.2222222222222222,\"#7201a8\"],[0.3333333333333333,\"#9c179e\"],[0.4444444444444444,\"#bd3786\"],[0.5555555555555556,\"#d8576b\"],[0.6666666666666666,\"#ed7953\"],[0.7777777777777778,\"#fb9f3a\"],[0.8888888888888888,\"#fdca26\"],[1.0,\"#f0f921\"]]}],\"mesh3d\":[{\"type\":\"mesh3d\",\"colorbar\":{\"outlinewidth\":0,\"ticks\":\"\"}}],\"scatter\":[{\"fillpattern\":{\"fillmode\":\"overlay\",\"size\":10,\"solidity\":0.2},\"type\":\"scatter\"}],\"parcoords\":[{\"type\":\"parcoords\",\"line\":{\"colorbar\":{\"outlinewidth\":0,\"ticks\":\"\"}}}],\"scatterpolargl\":[{\"type\":\"scatterpolargl\",\"marker\":{\"colorbar\":{\"outlinewidth\":0,\"ticks\":\"\"}}}],\"bar\":[{\"error_x\":{\"color\":\"#2a3f5f\"},\"error_y\":{\"color\":\"#2a3f5f\"},\"marker\":{\"line\":{\"color\":\"#E5ECF6\",\"width\":0.5},\"pattern\":{\"fillmode\":\"overlay\",\"size\":10,\"solidity\":0.2}},\"type\":\"bar\"}],\"scattergeo\":[{\"type\":\"scattergeo\",\"marker\":{\"colorbar\":{\"outlinewidth\":0,\"ticks\":\"\"}}}],\"scatterpolar\":[{\"type\":\"scatterpolar\",\"marker\":{\"colorbar\":{\"outlinewidth\":0,\"ticks\":\"\"}}}],\"histogram\":[{\"marker\":{\"pattern\":{\"fillmode\":\"overlay\",\"size\":10,\"solidity\":0.2}},\"type\":\"histogram\"}],\"scattergl\":[{\"type\":\"scattergl\",\"marker\":{\"colorbar\":{\"outlinewidth\":0,\"ticks\":\"\"}}}],\"scatter3d\":[{\"type\":\"scatter3d\",\"line\":{\"colorbar\":{\"outlinewidth\":0,\"ticks\":\"\"}},\"marker\":{\"colorbar\":{\"outlinewidth\":0,\"ticks\":\"\"}}}],\"scattermapbox\":[{\"type\":\"scattermapbox\",\"marker\":{\"colorbar\":{\"outlinewidth\":0,\"ticks\":\"\"}}}],\"scatterternary\":[{\"type\":\"scatterternary\",\"marker\":{\"colorbar\":{\"outlinewidth\":0,\"ticks\":\"\"}}}],\"scattercarpet\":[{\"type\":\"scattercarpet\",\"marker\":{\"colorbar\":{\"outlinewidth\":0,\"ticks\":\"\"}}}],\"carpet\":[{\"aaxis\":{\"endlinecolor\":\"#2a3f5f\",\"gridcolor\":\"white\",\"linecolor\":\"white\",\"minorgridcolor\":\"white\",\"startlinecolor\":\"#2a3f5f\"},\"baxis\":{\"endlinecolor\":\"#2a3f5f\",\"gridcolor\":\"white\",\"linecolor\":\"white\",\"minorgridcolor\":\"white\",\"startlinecolor\":\"#2a3f5f\"},\"type\":\"carpet\"}],\"table\":[{\"cells\":{\"fill\":{\"color\":\"#EBF0F8\"},\"line\":{\"color\":\"white\"}},\"header\":{\"fill\":{\"color\":\"#C8D4E3\"},\"line\":{\"color\":\"white\"}},\"type\":\"table\"}],\"barpolar\":[{\"marker\":{\"line\":{\"color\":\"#E5ECF6\",\"width\":0.5},\"pattern\":{\"fillmode\":\"overlay\",\"size\":10,\"solidity\":0.2}},\"type\":\"barpolar\"}],\"pie\":[{\"automargin\":true,\"type\":\"pie\"}]},\"layout\":{\"autotypenumbers\":\"strict\",\"colorway\":[\"#636efa\",\"#EF553B\",\"#00cc96\",\"#ab63fa\",\"#FFA15A\",\"#19d3f3\",\"#FF6692\",\"#B6E880\",\"#FF97FF\",\"#FECB52\"],\"font\":{\"color\":\"#2a3f5f\"},\"hovermode\":\"closest\",\"hoverlabel\":{\"align\":\"left\"},\"paper_bgcolor\":\"white\",\"plot_bgcolor\":\"#E5ECF6\",\"polar\":{\"bgcolor\":\"#E5ECF6\",\"angularaxis\":{\"gridcolor\":\"white\",\"linecolor\":\"white\",\"ticks\":\"\"},\"radialaxis\":{\"gridcolor\":\"white\",\"linecolor\":\"white\",\"ticks\":\"\"}},\"ternary\":{\"bgcolor\":\"#E5ECF6\",\"aaxis\":{\"gridcolor\":\"white\",\"linecolor\":\"white\",\"ticks\":\"\"},\"baxis\":{\"gridcolor\":\"white\",\"linecolor\":\"white\",\"ticks\":\"\"},\"caxis\":{\"gridcolor\":\"white\",\"linecolor\":\"white\",\"ticks\":\"\"}},\"coloraxis\":{\"colorbar\":{\"outlinewidth\":0,\"ticks\":\"\"}},\"colorscale\":{\"sequential\":[[0.0,\"#0d0887\"],[0.1111111111111111,\"#46039f\"],[0.2222222222222222,\"#7201a8\"],[0.3333333333333333,\"#9c179e\"],[0.4444444444444444,\"#bd3786\"],[0.5555555555555556,\"#d8576b\"],[0.6666666666666666,\"#ed7953\"],[0.7777777777777778,\"#fb9f3a\"],[0.8888888888888888,\"#fdca26\"],[1.0,\"#f0f921\"]],\"sequentialminus\":[[0.0,\"#0d0887\"],[0.1111111111111111,\"#46039f\"],[0.2222222222222222,\"#7201a8\"],[0.3333333333333333,\"#9c179e\"],[0.4444444444444444,\"#bd3786\"],[0.5555555555555556,\"#d8576b\"],[0.6666666666666666,\"#ed7953\"],[0.7777777777777778,\"#fb9f3a\"],[0.8888888888888888,\"#fdca26\"],[1.0,\"#f0f921\"]],\"diverging\":[[0,\"#8e0152\"],[0.1,\"#c51b7d\"],[0.2,\"#de77ae\"],[0.3,\"#f1b6da\"],[0.4,\"#fde0ef\"],[0.5,\"#f7f7f7\"],[0.6,\"#e6f5d0\"],[0.7,\"#b8e186\"],[0.8,\"#7fbc41\"],[0.9,\"#4d9221\"],[1,\"#276419\"]]},\"xaxis\":{\"gridcolor\":\"white\",\"linecolor\":\"white\",\"ticks\":\"\",\"title\":{\"standoff\":15},\"zerolinecolor\":\"white\",\"automargin\":true,\"zerolinewidth\":2},\"yaxis\":{\"gridcolor\":\"white\",\"linecolor\":\"white\",\"ticks\":\"\",\"title\":{\"standoff\":15},\"zerolinecolor\":\"white\",\"automargin\":true,\"zerolinewidth\":2},\"scene\":{\"xaxis\":{\"backgroundcolor\":\"#E5ECF6\",\"gridcolor\":\"white\",\"linecolor\":\"white\",\"showbackground\":true,\"ticks\":\"\",\"zerolinecolor\":\"white\",\"gridwidth\":2},\"yaxis\":{\"backgroundcolor\":\"#E5ECF6\",\"gridcolor\":\"white\",\"linecolor\":\"white\",\"showbackground\":true,\"ticks\":\"\",\"zerolinecolor\":\"white\",\"gridwidth\":2},\"zaxis\":{\"backgroundcolor\":\"#E5ECF6\",\"gridcolor\":\"white\",\"linecolor\":\"white\",\"showbackground\":true,\"ticks\":\"\",\"zerolinecolor\":\"white\",\"gridwidth\":2}},\"shapedefaults\":{\"line\":{\"color\":\"#2a3f5f\"}},\"annotationdefaults\":{\"arrowcolor\":\"#2a3f5f\",\"arrowhead\":0,\"arrowwidth\":1},\"geo\":{\"bgcolor\":\"white\",\"landcolor\":\"#E5ECF6\",\"subunitcolor\":\"white\",\"showland\":true,\"showlakes\":true,\"lakecolor\":\"white\"},\"title\":{\"x\":0.05},\"mapbox\":{\"style\":\"light\"}}},\"annotations\":[{\"showarrow\":false,\"text\":\"Spearman Rank Correlation = 0.996\",\"x\":0.95,\"xref\":\"paper\",\"y\":0.1,\"yref\":\"paper\"}],\"title\":{\"text\":\"Actual vs. Predicted\"},\"height\":700},                        {\"responsive\": true}                    ).then(function(){\n",
              "                            \n",
              "var gd = document.getElementById('c07c8398-8e75-47b4-90de-7c49f17d7e68');\n",
              "var x = new MutationObserver(function (mutations, observer) {{\n",
              "        var display = window.getComputedStyle(gd).display;\n",
              "        if (!display || display === 'none') {{\n",
              "            console.log([gd, 'removed!']);\n",
              "            Plotly.purge(gd);\n",
              "            observer.disconnect();\n",
              "        }}\n",
              "}});\n",
              "\n",
              "// Listen for the removal of the full notebook cells\n",
              "var notebookContainer = gd.closest('#notebook-container');\n",
              "if (notebookContainer) {{\n",
              "    x.observe(notebookContainer, {childList: true});\n",
              "}}\n",
              "\n",
              "// Listen for the clearing of the current output cell\n",
              "var outputEl = gd.closest('.output');\n",
              "if (outputEl) {{\n",
              "    x.observe(outputEl, {childList: true});\n",
              "}}\n",
              "\n",
              "                        })                };                            </script>        </div>\n",
              "</body>\n",
              "</html>"
            ]
          },
          "metadata": {}
        }
      ]
    },
    {
      "cell_type": "code",
      "source": [
        "r2_train = r2_score(y_train, y_pred_train)\n",
        "r2_val = r2_score(y_val, y_pred_val)\n",
        "r2_test = r2_score(y_test, pred2)\n",
        "print('r2 score for train is', r2_train)\n",
        "print('r2 score for val is', r2_val)\n",
        "print('r2 score for test is', r2_test)"
      ],
      "metadata": {
        "colab": {
          "base_uri": "https://localhost:8080/"
        },
        "id": "bf-PK1TWyuS3",
        "outputId": "1cbcd41d-e23e-44f2-ccc3-560bedaf1b19"
      },
      "execution_count": null,
      "outputs": [
        {
          "output_type": "stream",
          "name": "stdout",
          "text": [
            "r2 score for train is 0.9924098344859508\n",
            "r2 score for val is 0.9945614914305768\n",
            "r2 score for test is 0.9944983313930463\n"
          ]
        }
      ]
    },
    {
      "cell_type": "code",
      "source": [
        "print('Mean Absolute Error Train:', metrics.mean_absolute_error(y_train, y_pred_train))\n",
        "print('Mean Absolute Error Val:', metrics.mean_absolute_error(y_val, y_pred_val))\n",
        "print('Mean Absolute Error Test:', metrics.mean_absolute_error(y_test, pred2))"
      ],
      "metadata": {
        "colab": {
          "base_uri": "https://localhost:8080/"
        },
        "id": "EQ0EfyPIzisV",
        "outputId": "65473368-68a6-4f3e-d8f9-1982fd402c77"
      },
      "execution_count": null,
      "outputs": [
        {
          "output_type": "stream",
          "name": "stdout",
          "text": [
            "Mean Absolute Error Train: 0.1436972944217904\n",
            "Mean Absolute Error Val: 0.13239399717638273\n",
            "Mean Absolute Error Test: 0.12612748704394938\n"
          ]
        }
      ]
    },
    {
      "cell_type": "code",
      "source": [],
      "metadata": {
        "id": "qbu89SGMzi3I"
      },
      "execution_count": null,
      "outputs": []
    },
    {
      "cell_type": "markdown",
      "source": [
        "## Model 3"
      ],
      "metadata": {
        "id": "sqY2LR0t0GPa"
      }
    },
    {
      "cell_type": "code",
      "source": [
        "# Split the data into train and validation set\n",
        "train_df_new, rem_df = train_test_split(train_df, train_size=0.8,random_state=101)\n",
        "\n",
        "val_df, test_df = train_test_split(rem_df, test_size=0.5,random_state=101)"
      ],
      "metadata": {
        "id": "b971vIuj0GPa"
      },
      "execution_count": null,
      "outputs": []
    },
    {
      "cell_type": "code",
      "source": [
        "X_train = train_df.drop(columns=['tm'])\n",
        "y_train = train_df['tm']\n",
        "\n",
        "X_val = val_df.drop(columns=['tm'])\n",
        "y_val = val_df['tm']\n",
        "\n",
        "X_test = test_df.drop(columns=['tm'])\n",
        "y_test = test_df['tm']\n"
      ],
      "metadata": {
        "id": "dkYaEnJP0GPa"
      },
      "execution_count": null,
      "outputs": []
    },
    {
      "cell_type": "code",
      "source": [
        "#XGBoost Model\n",
        "model = XGBRegressor(learning_rate=0.1, max_depth=8, n_estimators=200, tree_method=\"gpu_hist\",random_state=101)\n",
        "model.fit(X_train, y_train)"
      ],
      "metadata": {
        "colab": {
          "base_uri": "https://localhost:8080/",
          "height": 248
        },
        "id": "hImHFJhL0GPb",
        "outputId": "07e106bc-176e-4040-8264-7fecdf7d5f95"
      },
      "execution_count": null,
      "outputs": [
        {
          "output_type": "execute_result",
          "data": {
            "text/plain": [
              "XGBRegressor(base_score=None, booster=None, callbacks=None,\n",
              "             colsample_bylevel=None, colsample_bynode=None,\n",
              "             colsample_bytree=None, early_stopping_rounds=None,\n",
              "             enable_categorical=False, eval_metric=None, feature_types=None,\n",
              "             gamma=None, gpu_id=None, grow_policy=None, importance_type=None,\n",
              "             interaction_constraints=None, learning_rate=0.1, max_bin=None,\n",
              "             max_cat_threshold=None, max_cat_to_onehot=None,\n",
              "             max_delta_step=None, max_depth=8, max_leaves=None,\n",
              "             min_child_weight=None, missing=nan, monotone_constraints=None,\n",
              "             n_estimators=200, n_jobs=None, num_parallel_tree=None,\n",
              "             predictor=None, random_state=101, ...)"
            ],
            "text/html": [
              "<style>#sk-container-id-5 {color: black;background-color: white;}#sk-container-id-5 pre{padding: 0;}#sk-container-id-5 div.sk-toggleable {background-color: white;}#sk-container-id-5 label.sk-toggleable__label {cursor: pointer;display: block;width: 100%;margin-bottom: 0;padding: 0.3em;box-sizing: border-box;text-align: center;}#sk-container-id-5 label.sk-toggleable__label-arrow:before {content: \"▸\";float: left;margin-right: 0.25em;color: #696969;}#sk-container-id-5 label.sk-toggleable__label-arrow:hover:before {color: black;}#sk-container-id-5 div.sk-estimator:hover label.sk-toggleable__label-arrow:before {color: black;}#sk-container-id-5 div.sk-toggleable__content {max-height: 0;max-width: 0;overflow: hidden;text-align: left;background-color: #f0f8ff;}#sk-container-id-5 div.sk-toggleable__content pre {margin: 0.2em;color: black;border-radius: 0.25em;background-color: #f0f8ff;}#sk-container-id-5 input.sk-toggleable__control:checked~div.sk-toggleable__content {max-height: 200px;max-width: 100%;overflow: auto;}#sk-container-id-5 input.sk-toggleable__control:checked~label.sk-toggleable__label-arrow:before {content: \"▾\";}#sk-container-id-5 div.sk-estimator input.sk-toggleable__control:checked~label.sk-toggleable__label {background-color: #d4ebff;}#sk-container-id-5 div.sk-label input.sk-toggleable__control:checked~label.sk-toggleable__label {background-color: #d4ebff;}#sk-container-id-5 input.sk-hidden--visually {border: 0;clip: rect(1px 1px 1px 1px);clip: rect(1px, 1px, 1px, 1px);height: 1px;margin: -1px;overflow: hidden;padding: 0;position: absolute;width: 1px;}#sk-container-id-5 div.sk-estimator {font-family: monospace;background-color: #f0f8ff;border: 1px dotted black;border-radius: 0.25em;box-sizing: border-box;margin-bottom: 0.5em;}#sk-container-id-5 div.sk-estimator:hover {background-color: #d4ebff;}#sk-container-id-5 div.sk-parallel-item::after {content: \"\";width: 100%;border-bottom: 1px solid gray;flex-grow: 1;}#sk-container-id-5 div.sk-label:hover label.sk-toggleable__label {background-color: #d4ebff;}#sk-container-id-5 div.sk-serial::before {content: \"\";position: absolute;border-left: 1px solid gray;box-sizing: border-box;top: 0;bottom: 0;left: 50%;z-index: 0;}#sk-container-id-5 div.sk-serial {display: flex;flex-direction: column;align-items: center;background-color: white;padding-right: 0.2em;padding-left: 0.2em;position: relative;}#sk-container-id-5 div.sk-item {position: relative;z-index: 1;}#sk-container-id-5 div.sk-parallel {display: flex;align-items: stretch;justify-content: center;background-color: white;position: relative;}#sk-container-id-5 div.sk-item::before, #sk-container-id-5 div.sk-parallel-item::before {content: \"\";position: absolute;border-left: 1px solid gray;box-sizing: border-box;top: 0;bottom: 0;left: 50%;z-index: -1;}#sk-container-id-5 div.sk-parallel-item {display: flex;flex-direction: column;z-index: 1;position: relative;background-color: white;}#sk-container-id-5 div.sk-parallel-item:first-child::after {align-self: flex-end;width: 50%;}#sk-container-id-5 div.sk-parallel-item:last-child::after {align-self: flex-start;width: 50%;}#sk-container-id-5 div.sk-parallel-item:only-child::after {width: 0;}#sk-container-id-5 div.sk-dashed-wrapped {border: 1px dashed gray;margin: 0 0.4em 0.5em 0.4em;box-sizing: border-box;padding-bottom: 0.4em;background-color: white;}#sk-container-id-5 div.sk-label label {font-family: monospace;font-weight: bold;display: inline-block;line-height: 1.2em;}#sk-container-id-5 div.sk-label-container {text-align: center;}#sk-container-id-5 div.sk-container {/* jupyter's `normalize.less` sets `[hidden] { display: none; }` but bootstrap.min.css set `[hidden] { display: none !important; }` so we also need the `!important` here to be able to override the default hidden behavior on the sphinx rendered scikit-learn.org. See: https://github.com/scikit-learn/scikit-learn/issues/21755 */display: inline-block !important;position: relative;}#sk-container-id-5 div.sk-text-repr-fallback {display: none;}</style><div id=\"sk-container-id-5\" class=\"sk-top-container\"><div class=\"sk-text-repr-fallback\"><pre>XGBRegressor(base_score=None, booster=None, callbacks=None,\n",
              "             colsample_bylevel=None, colsample_bynode=None,\n",
              "             colsample_bytree=None, early_stopping_rounds=None,\n",
              "             enable_categorical=False, eval_metric=None, feature_types=None,\n",
              "             gamma=None, gpu_id=None, grow_policy=None, importance_type=None,\n",
              "             interaction_constraints=None, learning_rate=0.1, max_bin=None,\n",
              "             max_cat_threshold=None, max_cat_to_onehot=None,\n",
              "             max_delta_step=None, max_depth=8, max_leaves=None,\n",
              "             min_child_weight=None, missing=nan, monotone_constraints=None,\n",
              "             n_estimators=200, n_jobs=None, num_parallel_tree=None,\n",
              "             predictor=None, random_state=101, ...)</pre><b>In a Jupyter environment, please rerun this cell to show the HTML representation or trust the notebook. <br />On GitHub, the HTML representation is unable to render, please try loading this page with nbviewer.org.</b></div><div class=\"sk-container\" hidden><div class=\"sk-item\"><div class=\"sk-estimator sk-toggleable\"><input class=\"sk-toggleable__control sk-hidden--visually\" id=\"sk-estimator-id-5\" type=\"checkbox\" checked><label for=\"sk-estimator-id-5\" class=\"sk-toggleable__label sk-toggleable__label-arrow\">XGBRegressor</label><div class=\"sk-toggleable__content\"><pre>XGBRegressor(base_score=None, booster=None, callbacks=None,\n",
              "             colsample_bylevel=None, colsample_bynode=None,\n",
              "             colsample_bytree=None, early_stopping_rounds=None,\n",
              "             enable_categorical=False, eval_metric=None, feature_types=None,\n",
              "             gamma=None, gpu_id=None, grow_policy=None, importance_type=None,\n",
              "             interaction_constraints=None, learning_rate=0.1, max_bin=None,\n",
              "             max_cat_threshold=None, max_cat_to_onehot=None,\n",
              "             max_delta_step=None, max_depth=8, max_leaves=None,\n",
              "             min_child_weight=None, missing=nan, monotone_constraints=None,\n",
              "             n_estimators=200, n_jobs=None, num_parallel_tree=None,\n",
              "             predictor=None, random_state=101, ...)</pre></div></div></div></div></div>"
            ]
          },
          "metadata": {},
          "execution_count": 75
        }
      ]
    },
    {
      "cell_type": "code",
      "source": [
        "rfecv = RFECV(estimator= model, step = 5, cv = 5, scoring='neg_mean_squared_error')\n",
        "rfecv = rfecv.fit(X_train, y_train)\n",
        "\n",
        "print(\"The optimal number of features:\", rfecv.n_features_)\n",
        "print('Selected features: %s' % list(X_train.columns[rfecv.support_]))\n",
        "\n",
        "best_features = list(X_train.columns[rfecv.support_])"
      ],
      "metadata": {
        "colab": {
          "base_uri": "https://localhost:8080/"
        },
        "id": "5AuDAwe20GPb",
        "outputId": "4fc86905-e5ae-4758-8d1f-ee2f5f72d169"
      },
      "execution_count": null,
      "outputs": [
        {
          "output_type": "stream",
          "name": "stdout",
          "text": [
            "The optimal number of features: 27\n",
            "Selected features: ['pH', 'A', 'C', 'D', 'E', 'F', 'G', 'H', 'I', 'K', 'L', 'M', 'N', 'P', 'Q', 'R', 'S', 'T', 'V', 'W', 'Y', 'Aromaticity', 'Molecular Weight', 'Instability Index', 'Hydrophobicity', 'Isoelectric Point', 'Charge']\n"
          ]
        }
      ]
    },
    {
      "cell_type": "code",
      "source": [
        "X_train_new = X_train[best_features]\n",
        "X_val_new = X_val[best_features]\n",
        "X_test_new = X_test[best_features]"
      ],
      "metadata": {
        "id": "U6lLHzRO0GPb"
      },
      "execution_count": null,
      "outputs": []
    },
    {
      "cell_type": "code",
      "source": [
        "model3 = XGBRegressor(learning_rate=0.1, max_depth=20, n_estimators=250, tree_method=\"gpu_hist\",random_state=123)\n",
        "model3.fit(X_train_new, y_train)"
      ],
      "metadata": {
        "colab": {
          "base_uri": "https://localhost:8080/",
          "height": 248
        },
        "id": "tSQxYukt0GPb",
        "outputId": "5833e6f0-88f4-4c40-a375-a7111c6a76de"
      },
      "execution_count": null,
      "outputs": [
        {
          "output_type": "execute_result",
          "data": {
            "text/plain": [
              "XGBRegressor(base_score=None, booster=None, callbacks=None,\n",
              "             colsample_bylevel=None, colsample_bynode=None,\n",
              "             colsample_bytree=None, early_stopping_rounds=None,\n",
              "             enable_categorical=False, eval_metric=None, feature_types=None,\n",
              "             gamma=None, gpu_id=None, grow_policy=None, importance_type=None,\n",
              "             interaction_constraints=None, learning_rate=0.1, max_bin=None,\n",
              "             max_cat_threshold=None, max_cat_to_onehot=None,\n",
              "             max_delta_step=None, max_depth=20, max_leaves=None,\n",
              "             min_child_weight=None, missing=nan, monotone_constraints=None,\n",
              "             n_estimators=250, n_jobs=None, num_parallel_tree=None,\n",
              "             predictor=None, random_state=123, ...)"
            ],
            "text/html": [
              "<style>#sk-container-id-6 {color: black;background-color: white;}#sk-container-id-6 pre{padding: 0;}#sk-container-id-6 div.sk-toggleable {background-color: white;}#sk-container-id-6 label.sk-toggleable__label {cursor: pointer;display: block;width: 100%;margin-bottom: 0;padding: 0.3em;box-sizing: border-box;text-align: center;}#sk-container-id-6 label.sk-toggleable__label-arrow:before {content: \"▸\";float: left;margin-right: 0.25em;color: #696969;}#sk-container-id-6 label.sk-toggleable__label-arrow:hover:before {color: black;}#sk-container-id-6 div.sk-estimator:hover label.sk-toggleable__label-arrow:before {color: black;}#sk-container-id-6 div.sk-toggleable__content {max-height: 0;max-width: 0;overflow: hidden;text-align: left;background-color: #f0f8ff;}#sk-container-id-6 div.sk-toggleable__content pre {margin: 0.2em;color: black;border-radius: 0.25em;background-color: #f0f8ff;}#sk-container-id-6 input.sk-toggleable__control:checked~div.sk-toggleable__content {max-height: 200px;max-width: 100%;overflow: auto;}#sk-container-id-6 input.sk-toggleable__control:checked~label.sk-toggleable__label-arrow:before {content: \"▾\";}#sk-container-id-6 div.sk-estimator input.sk-toggleable__control:checked~label.sk-toggleable__label {background-color: #d4ebff;}#sk-container-id-6 div.sk-label input.sk-toggleable__control:checked~label.sk-toggleable__label {background-color: #d4ebff;}#sk-container-id-6 input.sk-hidden--visually {border: 0;clip: rect(1px 1px 1px 1px);clip: rect(1px, 1px, 1px, 1px);height: 1px;margin: -1px;overflow: hidden;padding: 0;position: absolute;width: 1px;}#sk-container-id-6 div.sk-estimator {font-family: monospace;background-color: #f0f8ff;border: 1px dotted black;border-radius: 0.25em;box-sizing: border-box;margin-bottom: 0.5em;}#sk-container-id-6 div.sk-estimator:hover {background-color: #d4ebff;}#sk-container-id-6 div.sk-parallel-item::after {content: \"\";width: 100%;border-bottom: 1px solid gray;flex-grow: 1;}#sk-container-id-6 div.sk-label:hover label.sk-toggleable__label {background-color: #d4ebff;}#sk-container-id-6 div.sk-serial::before {content: \"\";position: absolute;border-left: 1px solid gray;box-sizing: border-box;top: 0;bottom: 0;left: 50%;z-index: 0;}#sk-container-id-6 div.sk-serial {display: flex;flex-direction: column;align-items: center;background-color: white;padding-right: 0.2em;padding-left: 0.2em;position: relative;}#sk-container-id-6 div.sk-item {position: relative;z-index: 1;}#sk-container-id-6 div.sk-parallel {display: flex;align-items: stretch;justify-content: center;background-color: white;position: relative;}#sk-container-id-6 div.sk-item::before, #sk-container-id-6 div.sk-parallel-item::before {content: \"\";position: absolute;border-left: 1px solid gray;box-sizing: border-box;top: 0;bottom: 0;left: 50%;z-index: -1;}#sk-container-id-6 div.sk-parallel-item {display: flex;flex-direction: column;z-index: 1;position: relative;background-color: white;}#sk-container-id-6 div.sk-parallel-item:first-child::after {align-self: flex-end;width: 50%;}#sk-container-id-6 div.sk-parallel-item:last-child::after {align-self: flex-start;width: 50%;}#sk-container-id-6 div.sk-parallel-item:only-child::after {width: 0;}#sk-container-id-6 div.sk-dashed-wrapped {border: 1px dashed gray;margin: 0 0.4em 0.5em 0.4em;box-sizing: border-box;padding-bottom: 0.4em;background-color: white;}#sk-container-id-6 div.sk-label label {font-family: monospace;font-weight: bold;display: inline-block;line-height: 1.2em;}#sk-container-id-6 div.sk-label-container {text-align: center;}#sk-container-id-6 div.sk-container {/* jupyter's `normalize.less` sets `[hidden] { display: none; }` but bootstrap.min.css set `[hidden] { display: none !important; }` so we also need the `!important` here to be able to override the default hidden behavior on the sphinx rendered scikit-learn.org. See: https://github.com/scikit-learn/scikit-learn/issues/21755 */display: inline-block !important;position: relative;}#sk-container-id-6 div.sk-text-repr-fallback {display: none;}</style><div id=\"sk-container-id-6\" class=\"sk-top-container\"><div class=\"sk-text-repr-fallback\"><pre>XGBRegressor(base_score=None, booster=None, callbacks=None,\n",
              "             colsample_bylevel=None, colsample_bynode=None,\n",
              "             colsample_bytree=None, early_stopping_rounds=None,\n",
              "             enable_categorical=False, eval_metric=None, feature_types=None,\n",
              "             gamma=None, gpu_id=None, grow_policy=None, importance_type=None,\n",
              "             interaction_constraints=None, learning_rate=0.1, max_bin=None,\n",
              "             max_cat_threshold=None, max_cat_to_onehot=None,\n",
              "             max_delta_step=None, max_depth=20, max_leaves=None,\n",
              "             min_child_weight=None, missing=nan, monotone_constraints=None,\n",
              "             n_estimators=250, n_jobs=None, num_parallel_tree=None,\n",
              "             predictor=None, random_state=123, ...)</pre><b>In a Jupyter environment, please rerun this cell to show the HTML representation or trust the notebook. <br />On GitHub, the HTML representation is unable to render, please try loading this page with nbviewer.org.</b></div><div class=\"sk-container\" hidden><div class=\"sk-item\"><div class=\"sk-estimator sk-toggleable\"><input class=\"sk-toggleable__control sk-hidden--visually\" id=\"sk-estimator-id-6\" type=\"checkbox\" checked><label for=\"sk-estimator-id-6\" class=\"sk-toggleable__label sk-toggleable__label-arrow\">XGBRegressor</label><div class=\"sk-toggleable__content\"><pre>XGBRegressor(base_score=None, booster=None, callbacks=None,\n",
              "             colsample_bylevel=None, colsample_bynode=None,\n",
              "             colsample_bytree=None, early_stopping_rounds=None,\n",
              "             enable_categorical=False, eval_metric=None, feature_types=None,\n",
              "             gamma=None, gpu_id=None, grow_policy=None, importance_type=None,\n",
              "             interaction_constraints=None, learning_rate=0.1, max_bin=None,\n",
              "             max_cat_threshold=None, max_cat_to_onehot=None,\n",
              "             max_delta_step=None, max_depth=20, max_leaves=None,\n",
              "             min_child_weight=None, missing=nan, monotone_constraints=None,\n",
              "             n_estimators=250, n_jobs=None, num_parallel_tree=None,\n",
              "             predictor=None, random_state=123, ...)</pre></div></div></div></div></div>"
            ]
          },
          "metadata": {},
          "execution_count": 78
        }
      ]
    },
    {
      "cell_type": "code",
      "source": [
        "y_pred_train = model3.predict(X_train_new)\n",
        "y_pred_val = model3.predict(X_val_new)\n",
        "\n",
        "mse_train=mean_squared_error(y_train, y_pred_train)\n",
        "mse_val=mean_squared_error(y_val, y_pred_val)\n",
        "\n",
        "print(\"Root Mean Squared error on Train data is:\",math.sqrt(mse_train))\n",
        "print(\"Root Mean Squared error on Val data is:\",math.sqrt(mse_val))"
      ],
      "metadata": {
        "id": "99loVSsZ0GPb",
        "colab": {
          "base_uri": "https://localhost:8080/"
        },
        "outputId": "07ce64af-7513-4f66-a1cf-fd797e266fb0"
      },
      "execution_count": null,
      "outputs": [
        {
          "output_type": "stream",
          "name": "stdout",
          "text": [
            "Root Mean Squared error on Train data is: 1.0510422638776984\n",
            "Root Mean Squared error on Val data is: 0.9881466740536117\n"
          ]
        }
      ]
    },
    {
      "cell_type": "code",
      "source": [
        "# Results with the best model\n",
        "pred3 = model3.predict(X_test_new)\n",
        "mse_test=mean_squared_error(y_test, pred3)\n",
        "print(\"Root Mean Squared error on Test data is:\",math.sqrt(mse_test))"
      ],
      "metadata": {
        "id": "TP2Iz1Lx0GPb",
        "colab": {
          "base_uri": "https://localhost:8080/"
        },
        "outputId": "142e6857-a460-4d12-a343-e620b452056b"
      },
      "execution_count": null,
      "outputs": [
        {
          "output_type": "stream",
          "name": "stdout",
          "text": [
            "Root Mean Squared error on Test data is: 1.0395822158150478\n"
          ]
        }
      ]
    },
    {
      "cell_type": "code",
      "source": [
        "spearmanr(y_test, pred3)"
      ],
      "metadata": {
        "id": "Xi4Zfb-10GPb",
        "colab": {
          "base_uri": "https://localhost:8080/"
        },
        "outputId": "f07afb6a-5c0b-40ca-ea1f-5fa6d1ec8087"
      },
      "execution_count": null,
      "outputs": [
        {
          "output_type": "execute_result",
          "data": {
            "text/plain": [
              "SignificanceResult(statistic=0.9945303235427085, pvalue=0.0)"
            ]
          },
          "metadata": {},
          "execution_count": 81
        }
      ]
    },
    {
      "cell_type": "code",
      "source": [
        "eval_df = pd.DataFrame({\"Actual\": y_test.values, \"Predicted\": pred3})\n",
        "spearmanr_val = spearmanr(eval_df[\"Actual\"], eval_df[\"Predicted\"])"
      ],
      "metadata": {
        "id": "Rz9280gR0GPb"
      },
      "execution_count": null,
      "outputs": []
    },
    {
      "cell_type": "code",
      "source": [
        "fig = go.Figure()\n",
        "\n",
        "fig.add_trace(\n",
        "    go.Scattergl(\n",
        "        x=eval_df[\"Actual\"],\n",
        "        y=eval_df[\"Predicted\"],\n",
        "        name='Actual vs. Predicted',\n",
        "        mode='markers'\n",
        "    )\n",
        ")\n",
        "\n",
        "fig.add_annotation(\n",
        "    x=0.95,\n",
        "    y=0.10,\n",
        "    xref='paper',\n",
        "    yref='paper',\n",
        "    text='Spearman Rank Correlation = {:.3f}'.format(spearmanr_val.correlation),\n",
        "    showarrow=False\n",
        ")\n",
        "\n",
        "fig.update_layout(\n",
        "    title='Actual vs. Predicted',\n",
        "    height=700\n",
        ")\n",
        "\n",
        "fig.show()"
      ],
      "metadata": {
        "id": "d6XeJgue0GPb",
        "colab": {
          "base_uri": "https://localhost:8080/",
          "height": 717
        },
        "outputId": "00edff6c-6326-4df1-f475-23e1314f9acf"
      },
      "execution_count": null,
      "outputs": [
        {
          "output_type": "display_data",
          "data": {
            "text/html": [
              "<html>\n",
              "<head><meta charset=\"utf-8\" /></head>\n",
              "<body>\n",
              "    <div>            <script src=\"https://cdnjs.cloudflare.com/ajax/libs/mathjax/2.7.5/MathJax.js?config=TeX-AMS-MML_SVG\"></script><script type=\"text/javascript\">if (window.MathJax && window.MathJax.Hub && window.MathJax.Hub.Config) {window.MathJax.Hub.Config({SVG: {font: \"STIX-Web\"}});}</script>                <script type=\"text/javascript\">window.PlotlyConfig = {MathJaxConfig: 'local'};</script>\n",
              "        <script src=\"https://cdn.plot.ly/plotly-2.18.2.min.js\"></script>                <div id=\"80fe9400-766e-49e0-ad8d-8a983a31b147\" class=\"plotly-graph-div\" style=\"height:700px; width:100%;\"></div>            <script type=\"text/javascript\">                                    window.PLOTLYENV=window.PLOTLYENV || {};                                    if (document.getElementById(\"80fe9400-766e-49e0-ad8d-8a983a31b147\")) {                    Plotly.newPlot(                        \"80fe9400-766e-49e0-ad8d-8a983a31b147\",                        [{\"mode\":\"markers\",\"name\":\"Actual vs. Predicted\",\"x\":[33.7,33.8,41.2,55.6,43.8,58.3,50.2,44.3,47.8,44.9,64.5,49.0,51.2,42.6,45.0,72.4,50.6,36.0,46.4,32.3,59.8,46.9,42.7,43.3,53.1,77.9,54.8,44.7,58.1,44.4,48.4,38.9,45.0,47.1,44.9,42.6,49.4,49.7,60.3,65.0,41.9,35.8,49.4,40.3,46.2,64.2,53.2,64.0,36.7,50.1,38.9,44.9,68.9,43.4,67.7,49.4,45.5,41.0,57.2,53.3,35.8,43.2,43.3,42.3,45.7,65.4,63.5,46.2,56.9,41.0,52.9,46.9,45.6,74.6,56.3,45.8,56.6,42.5,37.1,59.0,39.5,41.5,66.0,45.4,53.1,57.7,62.0,48.3,56.8,47.6,53.1,38.5,57.8,41.8,53.6,49.8,37.3,48.8,39.7,96.2,41.8,93.1,38.9,74.2,84.4,45.2,72.7,40.6,77.1,38.0,54.4,79.8,57.9,32.5,78.3,32.6,28.3,63.5,55.4,41.3,52.8,93.9,40.0,55.4,47.7,43.9,64.0,35.0,40.3,59.7,38.2,44.5,49.1,60.1,53.0,53.4,51.8,39.0,50.4,49.6,42.3,50.5,61.2,50.9,47.8,38.6,49.1,45.9,50.1,45.4,47.5,45.0,39.3,65.8,51.6,45.2,43.3,46.9,75.4,50.3,39.6,46.2,38.9,39.3,83.2,54.0,72.7,60.1,28.8,69.8,37.1,41.5,42.5,46.0,39.8,93.1,52.7,63.7,67.5,80.2,47.9,60.7,50.3,40.0,60.9,42.2,41.3,52.2,46.6,42.1,35.1,47.7,54.3,37.6,45.1,45.5,43.5,67.5,46.6,57.3,54.0,48.1,44.4,51.5,44.2,80.8,53.0,48.5,92.0,41.9,52.7,48.9,49.4,47.5,78.0,47.3,51.8,55.4,57.0,50.3,49.3,39.3,54.7,41.4,46.7,58.4,76.9,53.8,37.2,38.3,50.0,42.9,88.0,40.5,72.1,54.5,75.1,30.0,49.3,52.3,67.0,50.2,49.1,59.3,45.6,32.0,50.7,39.1,61.3,46.3,77.8,69.3,46.6,36.0,89.0,75.1,55.9,48.6,46.8,49.4,65.0,70.6,48.8,64.2,43.0,45.2,88.0,47.2,60.6,66.5,40.0,88.6,42.0,45.6,48.7,62.3,47.6,50.4,44.1,37.2,66.7,52.7,78.9,52.0,51.9,49.3,47.0,49.6,38.9,37.2,44.2,43.1,54.6,43.6,48.7,37.9,82.0,50.0,56.9,43.5,44.4,44.8,40.5,71.8,50.3,45.5,59.6,39.3,43.4,54.1,69.1,40.7,90.8,64.4,56.9,64.1,49.6,41.7,46.6,56.0,49.5,36.2,48.4,51.9,56.6,59.4,78.2,45.7,38.1,47.6,35.5,73.3,36.6,92.8,43.0,50.1,52.6,42.9,73.9,53.6,48.0,59.8,37.9,36.1,43.3,40.1,52.4,74.8,47.5,62.8,40.4,48.6,73.5,68.2,62.5,46.2,39.7,56.3,60.5,46.6,47.8,45.3,49.4,53.8,39.6,37.4,44.6,37.7,43.6,51.6,90.4,88.0,55.1,42.3,41.6,55.6,42.2,54.9,43.1,51.1,46.3,62.0,74.8,53.0,42.1,58.1,50.1,50.5,63.3,31.8,40.6,45.6,40.4,82.2,50.9,27.6,52.1,38.4,33.5,48.7,61.2,51.1,41.4,50.3,46.5,54.3,45.0,51.3,75.6,51.9,46.5,45.1,45.9,43.4,28.0,61.5,52.0,42.8,43.4,46.3,50.5,50.6,52.6,56.3,48.6,57.0,50.9,45.5,47.1,45.8,48.9,50.2,74.5,70.9,49.1,49.9,53.9,67.4,58.6,47.1,42.0,39.1,54.8,37.9,53.1,52.2,56.1,47.4,44.0,74.1,51.8,47.1,45.5,48.5,49.2,72.1,43.2,45.3,43.5,45.8,54.2,48.5,56.6,49.6,46.6,42.7,49.6,51.7,53.4,52.4,46.6,39.0,52.3,49.8,41.9,52.9,51.2,65.6,51.4,47.7,76.1,45.6,40.7,31.2,53.5,37.5,51.8,50.9,48.1,46.9,30.0,59.9,51.4,44.4,43.5,43.1,46.8,45.5,46.9,42.1,72.0,44.6,47.5,49.7,47.6,39.9,52.5,48.4,61.7,43.4,41.2,47.8,44.3,47.3,81.7,62.5,45.6,46.5,73.7,68.0,52.7,41.9,72.0,57.9,54.0,48.5,49.4,46.8,50.4,47.0,51.2,42.5,40.2,70.0,45.2,42.1,51.5,52.5,43.0,40.9,45.7,49.6,45.2,49.5,43.0,52.8,46.2,50.6,50.6,40.7,51.7,38.0,47.8,49.9,44.9,51.6,56.5,42.7,40.3,41.4,37.5,51.0,44.1,40.5,55.5,49.9,48.5,40.9,54.5,53.3,46.7,47.9,41.9,40.0,45.5,47.0,44.0,79.6,47.4,46.8,82.5,57.9,52.7,50.0,47.9,47.6,58.3,46.7,41.7,45.8,69.1,38.2,48.3,79.2,54.1,59.3,64.4,61.5,52.3,45.1,43.4,63.6,49.8,49.2,44.1,71.7,43.0,48.4,46.3,67.0,48.6,33.2,45.7,46.3,44.9,61.2,67.5,43.1,60.1,51.4,37.0,46.9,47.8,60.5,46.3,52.7,37.0,39.7,41.9,47.2,44.0,44.7,44.1,45.0,55.4,44.4,45.7,91.3,54.5,52.3,39.3,38.8,50.1,93.1,57.0,43.2,50.2,51.1,55.1,42.0,39.1,39.6,80.0,42.8,39.2,50.0,38.6,47.5,46.6,68.9,55.5,47.3,52.4,89.2,49.6,46.4,67.5,64.0,37.3,42.6,69.1,47.1,53.1,91.5,40.0,52.4,51.2,46.7,30.0,41.1,46.2,44.0,42.5,87.9,54.6,42.0,51.5,46.5,71.6,64.4,48.6,50.4,40.5,50.6,48.1,53.8,60.5,49.6,50.2,69.5,40.7,45.0,40.3,55.4,46.3,71.7,53.8,50.4,37.9,43.1,37.3,49.5,52.3,30.4,84.6,40.2,88.2,48.4,34.0,49.8,52.3,66.2,52.8,55.5,44.8,38.9,42.1,33.0,49.8,54.1,52.4,46.8,47.1,41.8,44.2,49.9,47.2,39.2,43.7,46.2,68.2,33.5,48.1,47.0,44.7,71.3,46.6,77.6,42.1,76.6,45.2,53.2,43.0,46.8,76.8,43.5,46.9,43.7,47.0,47.8,50.0,66.7,44.6,90.0,60.0,41.4,53.8,48.4,35.1,41.6,43.2,48.3,55.9,45.4,50.3,45.6,43.2,46.8,52.4,57.5,46.8,53.4,47.6,46.6,45.7,50.2,48.9,36.7,70.1,82.9,51.0,41.1,59.6,45.1,43.4,49.1,39.6,70.9,53.4,53.6,38.4,40.3,43.4,46.9,47.2,41.7,40.0,45.5,96.5,94.1,51.1,48.1,60.5,66.9,60.5,45.2,91.9,41.8,67.5,41.7,53.8,38.9,43.0,87.7,51.2,47.2,49.4,54.7,47.3,52.1,49.7,78.6,52.6,51.4,48.0,52.1,48.2,35.4,89.4,42.0,44.6,52.8,51.1,70.2,37.4,41.0,55.9,47.4,46.0,67.0,49.3,47.7,51.9,41.1,42.5,49.2,71.6,76.5,51.5,47.5,65.2,62.3,69.9,43.3,37.9,46.0,42.9,45.5,41.8,49.7,49.8,48.3,39.2,46.0,49.7,40.7,71.1,59.9,57.5,39.2,43.9,54.4,61.0,44.6,44.9,52.7,41.6,37.0,60.6,48.5,45.5,53.4,50.1,47.8,39.5,75.5,51.9,39.2,56.0,84.8,54.6,66.0,69.4,48.8,44.1,43.2,40.3,39.9,72.9,42.1,44.7,53.6,46.5,50.9,64.2,65.0,41.0,63.4,60.6,80.3,56.2,38.4,79.1,52.2,41.2,49.2,54.9,39.8,49.8,48.0,61.1,53.6,48.0,46.9,49.2,48.5,53.9,40.0,50.4,41.7,55.4,40.1,50.5,53.8,41.8,54.3,35.0,49.9,40.3,63.2,92.4,52.6,46.6,66.2,55.8,43.0,45.0,47.0,57.5,44.5,43.1,51.9,57.6,45.5,42.7,52.4,45.0,38.5,74.5,48.7,45.8,47.8,56.3,77.3,42.0,47.6,88.9,48.4,38.1,46.2,49.8,40.6,36.9,47.4,79.6,48.5,49.1,58.5,40.0,54.5,72.4,98.4,50.2,65.7,67.1,41.2,46.7,62.2,60.8,37.2,47.0,40.9,46.5,50.0,28.9,56.4,54.7,54.4,45.7,46.5,65.0,71.5,49.9,38.9,49.5,47.9,43.4,47.9,47.8,60.0,36.8,29.4,51.8,48.8,45.8,82.3,41.8,52.0,47.7,42.2,58.8,53.8,53.7,49.3,49.4,46.6,37.7,47.8,61.9,40.3,48.1,42.1,46.9,52.4,34.1,48.0,46.7,64.7,44.1,46.7,45.2,53.0,50.4,51.6,80.7,50.3,46.8,40.9,50.6,35.9,42.0,51.7,42.8,42.2,65.0,46.3,37.7,45.0,78.6,38.0,66.0,56.1,39.2,62.8,73.5,43.5,36.0,49.9,46.6,45.4,35.4,43.2,61.4,34.6,44.0,69.2,48.2,37.2,62.3,46.8,51.9,45.3,38.4,50.6,49.7,58.1,61.5,48.8,46.8,71.1,40.4,62.0,39.9,48.4,52.4,64.3,46.6,54.4,44.5,61.4,48.2,49.9,52.8,62.1,47.8,38.1,47.0,46.0,53.8,55.4,47.3,81.1,45.5,37.2,42.1,52.4,60.7,49.1,95.6,37.6,52.0,49.7,45.2,32.2,51.9,92.0,56.4,45.6,64.5,44.7,55.7,51.4,73.0,47.7,42.1,64.5,36.4,87.7,42.3,71.9,73.1,43.2,37.6,38.0,46.5,49.0,46.1,71.0,38.9,48.6,81.4,49.6,54.9,48.5,50.3,46.0,54.6,34.0,53.1,65.3,58.9,43.4,49.7,45.5,46.9,48.0,46.4,58.9,41.1,55.5,39.8,47.3,45.3,46.3,49.1,55.4,47.1,65.2,44.3,41.4,83.0,43.5,53.8,39.0,44.1,53.7,42.9,86.1,64.4,55.0,50.1,49.7,47.4,60.4,73.8,38.8,45.1,43.9,40.5,61.0,59.6,41.8,37.8,65.0,84.3,52.1,44.0,41.5,36.9,48.7,47.0,48.8,56.2,60.3,88.6,50.4,69.5,82.2,41.3,31.4,58.8,56.9,39.4,52.0,39.4,43.9,42.6,69.0,39.0,34.6,58.3,44.2,50.3,61.2,68.0,52.4,46.7,42.6,53.5,40.2,50.3,36.2,60.9,64.4,60.5,60.3,41.7,50.4,43.6,60.3,40.9,37.0,50.3,76.3,90.8,43.1,47.1,52.5,36.0,76.4,47.0,46.1,48.0,50.5,36.4,48.6,49.4,52.1,44.9,85.9,52.4,46.1,55.3,62.5,44.0,45.2,51.5,74.7,47.3,44.0,88.4,38.7,64.5,48.8,49.5,43.5,40.6,64.2,54.4,54.1,71.8,66.2,54.2,78.2,39.3,45.2,46.3,73.7,55.8,53.6,38.3,43.8,91.6,51.5,41.3,49.6,44.5,75.5,36.8,42.8,35.0,80.0,55.8,77.1,46.7,45.2,52.6,68.0,52.6,49.3,53.3,49.7,43.3,55.0,50.8,48.0,41.7,55.2,46.2,46.6,59.6,43.1,41.6,48.9,42.7,62.5,45.6,35.6,38.6,47.8,49.0,43.9,91.8,52.2,40.6,51.2,49.0,45.8,63.3,42.0,39.7,46.1,38.6,48.2,55.1,47.3,66.0,50.2,48.9,37.7,70.4,28.0,67.0,62.5,47.8,50.0,42.0,49.9,41.1,53.3,48.5,64.3,49.8,49.5,49.8,52.8,41.1,58.3,54.1,53.6,46.0,52.1,49.1,28.0,48.8,48.4,54.9,42.6,43.3,49.4,50.3,54.1,42.1,47.3,43.2,48.7,46.2,46.2,64.4,46.0,48.9,40.8,56.3,40.8,43.9,50.6,36.6,48.5,48.3,48.5,50.3,43.4,39.7,47.5,54.7,44.2,46.3,37.8,45.0,52.0,33.0,50.6,42.1,37.1,44.5,64.4,42.8,49.4,41.9,44.7,40.8,48.1,72.0,49.5,61.5,41.8,63.2,34.4,49.4,40.6,45.7,37.4,30.0,48.4,46.6,90.2,57.0,73.8,42.4,48.3,43.4,68.4,38.1,50.1,42.7,50.7,46.5,45.6,59.0,57.9,48.2,49.3,51.4,65.5,44.5,53.6,51.6,46.6,41.8,44.8,49.8,58.3,48.7,80.0,46.6,52.2,42.6,49.8,39.0,41.2,52.0,39.0,74.8,36.3,44.1,43.7,47.9,62.5,41.4,51.8,48.1,53.5,40.5,96.6,43.4,39.0,53.5,51.0,56.7,43.4,49.2,65.3,47.7,34.0,49.8,72.9,79.3,55.2,45.8,48.7,51.5,43.1,47.6,53.6,44.1,48.4,48.6,41.3,42.6,45.4,68.6,49.6,42.6,52.2,63.0,47.0,37.3,33.9,49.2,47.2,44.8,95.4,48.1,59.1,44.9,96.5,46.5,40.7,65.0,43.4,54.9,45.0,56.0,89.4,41.0,51.7,77.2,43.1,51.2,81.2,56.2,54.2,49.3,45.3,46.9,64.6,40.5,46.6,49.7,53.6,49.3,44.7,45.8,49.1,66.3,48.1,54.0,88.4,35.3,60.7,56.4,76.6,51.0,36.9,45.7,49.5,89.2,44.6,48.5,48.0,38.6,49.7,55.5,43.6,55.8,44.8,36.1,51.0,66.8,42.0,44.4,39.7,40.4,49.6,48.3,50.2,52.9,54.0,51.8,38.1,65.0,38.3,50.4,43.2,36.7,56.1,48.5,48.9,40.5,59.6,49.9,74.7,46.9,55.0,62.5,40.4,46.6,58.3,58.8,49.0,85.7,41.7,39.9,43.0,63.9,48.5,53.9,49.9,51.9,56.6,38.7,47.1,44.1,50.6,46.6,50.2,71.2,39.9,55.8,79.3,40.1,86.4,44.0,48.2,45.9,55.9,44.0,70.8,55.5,36.5,49.6,46.5,43.6,46.0,50.1,49.0,48.4,46.3,50.1,51.9,48.2,49.4,50.6,43.5,43.9,50.6,82.0,47.7,37.7,49.4,44.8,37.8,90.1,53.7,47.7,50.5,48.8,41.5,41.1,51.1,42.7,88.5,54.5,41.8,42.2,48.1,45.6,54.6,43.2,48.4,54.5,37.6,53.8,50.3,96.2,46.9,49.4,42.6,52.0,50.7,51.3,37.9,63.7,67.7,48.7,55.8,47.1,41.7,47.5,52.1,42.9,87.4,58.7,74.7,49.5,46.1,57.6,48.6,59.0,60.8,48.0,77.3,45.9,38.8,50.3,41.5,69.7,43.1,50.9,61.7,42.4,57.3,39.8,83.4,50.8,42.8,52.3,43.9,41.3,46.8,51.3,53.6,63.5,50.3,56.3,45.3,52.8,52.8,51.3,40.8,53.9,41.3,37.8,66.0,39.3,41.8,43.1,43.8,51.9,46.0,43.7,87.2,49.2,44.9,37.3,92.1,50.4,92.1,73.8,48.5,52.5,43.3,46.1,46.0,49.5,73.6,48.6,45.6,78.0,58.9,54.5,49.2,41.0,59.9,49.9,47.5,44.9,65.2,87.9,80.3,63.9,44.7,40.3,51.7,47.7,44.5,75.0,48.0,57.0,53.5,78.1,39.4,82.1,45.4,68.3,41.6,50.9,47.1,50.7,45.5,45.5,40.2,50.1,51.0,34.9,49.0,38.8,48.9,52.8,36.0,53.2,50.7,49.3,49.2,33.9,36.3,44.5,37.5,49.0,36.3,44.3,44.5,33.4,44.5,45.0,60.2,60.0,54.5,43.9,41.3,38.3,47.5,41.1,37.2,56.3,48.4,73.0,43.1,52.3,52.3,42.0,51.4,48.9,42.5,65.2,42.4,64.7,53.5,43.0,36.3,47.3,51.1,43.1,58.1,47.4,56.1,49.1,40.5,74.7,41.5,38.8,42.5,38.6,55.0,56.6,50.7,47.3,43.2,54.3,61.4,39.2,48.0,37.3,48.2,49.5,73.9,48.4,36.8,47.6,51.5,44.6,46.8,56.1,46.4,43.7,44.1,38.3,45.9,53.2,46.0,72.2,32.5,37.8,49.7,47.7,42.8,45.3,44.4,43.5,45.3,51.9,43.7,82.1,50.3,43.4,64.1,46.9,47.9,52.7,65.1,44.5,57.4,50.2,52.2,51.0,77.8,49.6,46.3,40.8,41.2,55.5,43.4,57.0,62.5,42.3,54.7,71.1,36.7,74.7,51.7,47.8,54.0,97.6,43.6,44.5,57.8,41.6,65.9,58.1,62.5,56.7,53.4,38.5,50.4,52.6,40.5,45.9,37.6,39.9,43.7,51.2,50.1,43.8,45.1,57.7,51.0,52.4,38.1,50.5,44.6,54.4,68.6,50.9,38.6,68.8,46.2,49.2,53.4,66.8,53.5,48.3,52.1,39.2,44.3,43.1,41.9,40.8,46.1,49.2,45.4,79.4,47.5,50.7,52.8,40.2,45.9,51.0,32.9,43.5,43.9,60.3,42.1,47.3,87.4,43.0,42.9,47.5,47.2,41.6,51.7,49.0,82.5,50.6,40.1,54.6,46.9,56.0,46.4,41.2,49.0,49.3,52.7,47.6,60.9,45.0,65.2,46.7,48.9,53.6,48.2,44.2,64.5,50.5,50.9,64.0,91.1,50.9,46.1,45.4,49.5,87.8,52.2,48.7,36.8,41.2,44.8,84.1,51.5,51.3,40.1,42.8,55.8,58.9,51.8,58.6,40.0,94.3,52.3,52.6,50.4,42.7,45.3,53.0,82.0,53.1,50.0,85.9,47.0,44.9,47.6,52.0,43.9,42.0,42.0,38.3,76.8,52.7,46.8,49.1,38.9,48.2,56.3,33.7,84.3,55.3,65.8,68.2,46.4,83.0,44.0,52.6,71.2,42.5,49.1,47.9,76.7,51.3,84.3,51.9,41.2,34.3,50.4,52.3,86.2,82.2,39.3,41.8,47.2,53.6,41.3,50.5,41.9,56.8,42.2,43.1,63.2,50.6,50.0,51.3,80.9,61.0,55.6,48.0,54.4,64.4,42.3,41.7,97.1,45.0,48.2,48.8,42.5,61.5,41.5,92.1,86.8,71.7,46.7,39.7,54.0,90.3,55.2,49.6,46.3,48.6,41.6,45.5,40.1,47.0,52.8,49.9,47.3,46.1,50.0,39.7,40.3,47.2,51.4,51.1,43.0,43.4,45.1,65.8,52.1,52.7,48.2,43.5,42.7,41.1,48.2,46.3,72.5,50.0,49.6,75.6,41.9,51.2,45.2,42.7,30.2,39.8,42.1,53.2,47.3,37.7,85.3,36.7,47.5,39.7,51.0,43.5,52.6,49.0,48.3,48.4,49.5,47.8,52.4,73.7,36.9,42.6,47.8,51.1,39.5,40.2,45.9,54.3,35.6,58.1,45.7,52.0,64.8,50.4,42.5,38.4,42.5,52.0,43.2,46.4,50.0,39.6,82.1,40.3,46.0,50.8,46.8,65.0,44.9,40.9,48.5,49.8,46.1,44.7,41.4,76.4,48.4,36.8,48.9,49.5,46.9,40.6,94.2,48.2,56.8,51.5,46.2,45.3,45.4,40.1,42.7,41.0,38.3,33.3,51.6,85.4,42.9,40.1,37.9,51.7,51.6,51.0,42.7,42.0,44.5,38.6,46.7,37.6,46.2,45.8,50.0,52.8,85.8,39.1,84.6,56.2,53.4,51.8,45.2,46.4,62.9,25.6,37.7,44.8,48.8,38.6,46.7,58.7,46.5,51.9,49.8,51.5,40.1,42.3,54.5,50.3,40.8,36.6,51.7,50.4,65.1,48.6,50.3,50.4,59.6,71.0,75.1,83.2,40.0,49.0,58.4,43.6,53.9,53.2,50.7,43.9,41.8,52.4,49.1,46.5,42.5,57.0,64.6,39.9,44.5,54.6,51.4,47.5,42.4,52.3,42.7,50.0,82.2,43.5,46.8,44.5,49.7,39.2,36.0,56.0,47.9,55.4,36.4,37.0,40.2,55.0,61.5,39.2,38.7,60.3,55.9,41.6,47.4,52.1,44.3,67.8,42.2,36.8,73.2,43.3,38.3,44.6,68.2,37.6,53.6,45.1,52.3,52.6,83.5,48.8,50.2,59.8,43.2,70.3,54.5,42.2,62.4,39.2,59.1,70.5,56.8,56.2,35.8,58.0,49.7,46.7,49.7,39.9,65.6,71.9,79.9,50.3,38.3,52.2,55.8,49.7,54.7,37.1,71.9,51.9,38.0,40.9,39.9,53.3,41.7,43.9,40.6,44.6,45.6,40.4,39.5,52.6,43.9,49.2,42.4,49.1,48.0,62.8,35.5,36.3,48.9,57.3,42.5,45.0,44.8,84.6,38.4,32.0,43.0,55.3,58.8,48.4,59.0,49.4,48.8,35.4,50.2,43.3,51.8,71.9,39.8,43.2,51.0,50.2,42.2,47.4,45.9,47.2,79.1,46.6,46.7,39.6,52.8,49.9,87.5,49.4,46.2,48.2,46.0,46.4,49.9,88.3,50.0,43.5,54.3,51.4,41.9,46.2,71.4,42.4,40.9,49.4,50.2,44.6,49.3,46.1,52.5,64.7,39.9,53.1,57.8,44.1,48.1,47.3,82.3,49.8,49.8,50.0,76.3,43.8,46.6,53.7,50.4,40.0,53.4,41.9,50.3,38.8,56.0,82.2,48.5,74.4,48.5,52.0,52.1,50.4,71.7,50.3,48.0,81.0,79.0,53.9,53.4,63.5,41.6,50.1,56.7,44.3,48.1,54.3,46.2,55.0,79.9,55.9,50.4,48.1,51.1,41.4,41.5,80.7,55.2,36.8,30.4,39.3,33.4,42.0,50.8,41.2,51.2,76.8,49.9,50.2,50.7,44.7,47.0,41.6,51.4,54.8,48.6,42.4,61.6,46.6,48.3,72.5,48.2,46.5,51.4,52.7,39.9,47.2,58.2,50.9,50.3,36.3,53.6,46.9,41.6,38.4,64.6,95.1,84.8,46.8,41.7,64.6,42.7,52.6,45.6,62.4,63.5,52.4,52.0,39.8,40.8,59.1,53.2,39.5,84.3,83.1,47.7,43.7,44.1,30.0,57.1,41.7,45.3,39.9,48.8,41.0,49.3,87.6,46.2,54.6,55.4,39.4,44.3,40.9,42.5,56.2,46.2,58.4,49.3,39.1,69.9,68.9,55.9,39.5,40.9,60.5,41.2,50.0,43.1,64.9,54.3,34.6,65.4,50.0,87.1,45.0,50.7,52.0,39.5,48.2,38.9,44.4,57.1,42.8,42.1,61.8,67.7,45.0,51.8,45.1,48.2,74.5,74.6,49.9,41.5,70.3,42.0,56.7,34.4,38.7,33.5,56.3,58.5,81.6,54.4,35.7,50.0,46.6,47.5,53.3,39.5,54.9,40.3,52.5,84.5,43.4,63.4,47.0,92.3,54.5,47.4,42.9,49.4,34.8,44.1,38.2,57.5,48.5,43.5,46.6,49.1,79.1,53.2,41.3,38.8,44.8,61.5,40.8,44.5,51.7,88.9,50.0,55.9,50.7,46.9,41.4,55.2,40.8,53.5,46.7,83.9,89.0,43.1,40.7,44.7,44.7,40.9,49.7,41.0,50.7,80.8,48.5,37.0,47.9,42.6,51.7,39.6,51.7,46.7,40.7,48.2,70.2,72.7,49.8,54.6,65.0,39.2,46.8,48.5,46.0,44.2,45.3,85.4,47.9,50.3,78.7,47.7,38.0,39.0,38.0,49.9,46.8,39.1,50.6,37.5,55.7,79.4,66.4,55.1,45.9,54.5,38.9,52.4,50.7,45.0,45.8,87.8,65.0,59.5,37.0,45.6,50.1,52.7,71.9,49.0,53.7,54.0,39.8,46.4,40.4,46.3,44.5,81.3,52.9,45.2,71.5,70.0,46.8,47.1,69.1,56.0,40.2,54.0,51.4,81.6,38.2,111.8,57.3,47.1,50.2,44.1,46.0,55.0,30.9,52.0,52.0,47.0,42.6,40.0,50.9,49.1,56.9,44.7,50.7,42.6,40.1,40.6,43.0,48.0,39.0,65.7,77.4,45.6,49.8,51.4,60.0,43.2,36.5,47.5,44.8,41.2,53.7,81.6,49.9,40.4,62.8,53.8,55.0,67.8,38.2,48.0,42.0,42.0,47.9,44.4,51.7,60.2,43.1,36.3,42.0,54.3,57.4,55.6,55.3,60.8,48.4,47.9,47.0,48.2,53.6],\"y\":[33.70021057128906,33.800350189208984,41.20073699951172,55.59958267211914,43.80024337768555,58.29414749145508,50.199745178222656,44.30018997192383,47.79982376098633,44.900054931640625,64.50018310546875,49.66570281982422,51.19935607910156,42.59980010986328,45.00092315673828,72.39959716796875,50.593685150146484,36.004154205322266,46.40056228637695,32.30549621582031,59.798160552978516,46.902896881103516,42.702457427978516,43.30067443847656,53.09858703613281,77.89315032958984,54.7977180480957,44.70072937011719,58.09892654418945,44.39995193481445,48.397682189941406,38.89995574951172,44.99779510498047,47.099761962890625,44.89948272705078,42.599369049072266,49.399600982666016,49.70011901855469,60.2994270324707,65.00016021728516,41.89006423950195,35.800201416015625,49.400657653808594,40.30200958251953,46.20005416870117,64.19343566894531,53.199886322021484,64.00184631347656,36.70149612426758,50.09986114501953,38.90058135986328,44.900543212890625,68.90023040771484,43.40010452270508,67.69770050048828,49.40001678466797,45.50010299682617,41.000221252441406,57.206912994384766,53.30002975463867,35.801456451416016,48.04024124145508,43.30110549926758,42.300262451171875,45.69997787475586,65.40029907226562,63.500343322753906,46.200130462646484,62.951175689697266,41.001277923583984,52.90291213989258,46.899818420410156,45.597434997558594,74.5993881225586,56.30054473876953,45.800636291503906,56.59370422363281,42.500831604003906,37.10201644897461,58.441314697265625,39.50049591064453,41.50081253051758,66.00010681152344,45.39971160888672,53.09999465942383,57.699214935302734,61.997928619384766,46.49983215332031,56.698516845703125,47.59994888305664,53.100154876708984,38.500064849853516,57.804264068603516,41.799861907958984,53.59676742553711,49.80044937133789,37.30125427246094,48.7998161315918,39.69970703125,96.1986083984375,41.79985809326172,93.09915161132812,38.900001525878906,74.20016479492188,84.39936828613281,45.20061111450195,72.69998931884766,40.59996795654297,77.0995864868164,38.001075744628906,54.400264739990234,79.80078887939453,57.900577545166016,32.49979019165039,78.2998046875,32.5997314453125,28.30141258239746,63.50027084350586,55.40036392211914,41.30405044555664,52.80002975463867,93.8775634765625,40.00518035888672,55.400814056396484,47.70166778564453,43.900203704833984,64.00048828125,35.015380859375,40.301300048828125,59.697025299072266,38.20674514770508,44.499351501464844,49.100364685058594,60.1005859375,53.00074005126953,53.42183303833008,51.794891357421875,39.000423431396484,50.400028228759766,49.60091018676758,42.30036544799805,50.50040054321289,61.199127197265625,50.90048599243164,47.80046463012695,38.60398864746094,49.100433349609375,45.90022277832031,50.0996208190918,45.397674560546875,47.5005989074707,45.498661041259766,39.29964828491211,65.79998779296875,51.59929656982422,45.200225830078125,43.301753997802734,46.89992141723633,75.39959716796875,50.29920196533203,39.599857330322266,46.20051193237305,38.900146484375,39.29903030395508,83.19668579101562,53.99969482421875,72.69998931884766,60.09477615356445,35.75117111206055,69.80110168457031,37.10076904296875,41.500701904296875,42.5001106262207,46.00102615356445,39.79949188232422,93.09917449951172,52.699981689453125,63.70020294189453,67.49944305419922,80.20040130615234,47.900169372558594,60.698753356933594,50.29942321777344,41.99964904785156,60.89891815185547,42.1995964050293,41.29988479614258,52.20011520385742,46.59510803222656,42.09919357299805,35.10099411010742,47.699363708496094,54.398841857910156,37.599918365478516,45.10006332397461,41.65109634399414,43.49998092651367,67.50030517578125,46.599952697753906,57.298423767089844,53.99128341674805,48.09952163696289,44.399776458740234,51.5000114440918,44.20014572143555,80.79952239990234,52.9993896484375,48.49977493286133,91.99945831298828,41.89549255371094,52.69976043701172,48.900367736816406,49.39629364013672,47.49934768676758,77.9991683959961,47.301246643066406,51.799739837646484,53.99720764160156,56.999759674072266,50.30107498168945,49.29984664916992,39.29920959472656,54.70029830932617,41.407527923583984,46.69928741455078,58.40098571777344,76.90005493164062,53.80008316040039,37.200538635253906,38.30225372314453,49.99950408935547,42.898765563964844,88.00048065185547,40.500240325927734,72.10031127929688,54.49931335449219,75.10037231445312,30.000337600708008,49.29990768432617,52.29991912841797,66.9999008178711,50.19923782348633,49.09919738769531,59.29401397705078,45.600677490234375,31.998626708984375,50.700050354003906,39.10087966918945,61.29827117919922,46.30060958862305,77.80158233642578,69.29813385009766,46.598262786865234,35.99957275390625,89.00032806396484,75.10020446777344,55.89968490600586,48.598777770996094,46.80030822753906,49.398590087890625,65.00025939941406,70.59980773925781,48.800926208496094,64.20014190673828,43.001338958740234,45.20022201538086,87.9986801147461,47.198081970214844,60.59961700439453,70.25000762939453,40.000343322753906,88.59955596923828,42.00055694580078,45.60090637207031,48.69993591308594,62.299381256103516,47.599761962890625,50.4036750793457,44.1121826171875,37.20096969604492,66.70225524902344,52.70299530029297,78.89968872070312,52.02587127685547,51.890323638916016,49.299659729003906,46.999813079833984,49.59859085083008,43.09854507446289,37.200462341308594,44.1999626159668,43.100399017333984,54.596866607666016,43.60074234008789,48.700382232666016,37.90256118774414,81.59906005859375,50.00020217895508,56.89815139770508,43.50035858154297,44.39982986450195,44.80031204223633,40.50088882446289,71.79693603515625,50.29996871948242,45.50010681152344,59.59950256347656,39.301544189453125,43.40022277832031,54.099735260009766,69.09980010986328,40.700313568115234,90.79961395263672,64.39978790283203,56.90028762817383,64.1023178100586,49.60000991821289,41.70025634765625,46.600067138671875,54.75075912475586,49.49994659423828,36.2003288269043,48.400054931640625,51.900394439697266,56.59944534301758,59.39938735961914,78.19944763183594,45.70033645629883,38.1016845703125,47.60042190551758,35.50054931640625,73.29934692382812,36.59968948364258,92.79932403564453,42.99898910522461,50.100494384765625,52.59945297241211,42.90052795410156,73.9001693725586,53.60000991821289,47.99604034423828,59.79977798461914,37.9022102355957,36.100032806396484,43.300228118896484,40.09971618652344,52.39949417114258,74.79977416992188,47.501365661621094,62.79954528808594,40.40007781982422,48.5987548828125,73.49916076660156,68.19750213623047,62.50081253051758,46.201290130615234,39.70377731323242,56.29762649536133,60.49558639526367,46.600032806396484,47.79913330078125,45.300506591796875,49.398681640625,53.79994583129883,39.600521087646484,37.40135955810547,44.60015869140625,37.700157165527344,43.601444244384766,56.800819396972656,90.39979553222656,88.00106048583984,55.10063552856445,42.30049133300781,41.60073471069336,55.5998649597168,42.199371337890625,54.89634323120117,43.10039138793945,51.099430084228516,46.306610107421875,61.998023986816406,74.80245971679688,52.99987030029297,42.10072708129883,58.10005187988281,50.100582122802734,50.500579833984375,63.30553436279297,31.800533294677734,40.600120544433594,45.600067138671875,40.40035629272461,82.19901275634766,50.899871826171875,27.600643157958984,52.09882736206055,38.39886474609375,33.50090408325195,48.70039367675781,61.20815658569336,51.10009765625,41.40027618408203,50.29998779296875,46.49979782104492,54.29999923706055,45.002952575683594,51.300010681152344,75.60009765625,51.899627685546875,46.499542236328125,45.09963607788086,45.900936126708984,43.40084457397461,28.00089454650879,61.500736236572266,51.99909973144531,42.79976272583008,43.399147033691406,46.29996109008789,50.50019836425781,50.5986328125,51.4514045715332,56.29999923706055,48.59996795654297,56.99992370605469,51.6502571105957,45.499942779541016,47.100345611572266,45.8001823425293,48.8996467590332,50.20011520385742,74.50074005126953,70.89924621582031,49.099605560302734,49.89890670776367,53.89902877807617,67.40009307861328,58.599857330322266,47.09912872314453,42.02012252807617,39.10032272338867,54.79988479614258,37.90034103393555,53.09978485107422,52.20022964477539,56.099998474121094,47.39944076538086,44.00106430053711,74.1006851196289,51.798519134521484,47.100162506103516,45.50026321411133,48.500152587890625,49.200164794921875,72.10073852539062,43.199893951416016,45.2989616394043,43.5020751953125,45.79875183105469,54.198917388916016,48.50014114379883,56.59960174560547,49.600215911865234,46.600345611572266,42.70037841796875,49.59983825683594,51.69485855102539,53.39962387084961,52.3992805480957,46.59973907470703,39.001617431640625,52.29964065551758,49.799766540527344,41.903133392333984,52.90031051635742,51.19765853881836,65.60008239746094,51.39924240112305,47.71522521972656,76.10018157958984,45.59990692138672,40.70055389404297,31.200599670410156,53.464630126953125,37.510040283203125,51.79739761352539,50.899253845214844,48.09946060180664,46.90057373046875,30.006145477294922,59.89969253540039,51.39997100830078,44.40031051635742,43.50016403198242,43.100059509277344,46.80007553100586,45.49996566772461,46.89977264404297,42.09980392456055,71.99971771240234,44.5996208190918,47.49985885620117,49.69975662231445,47.59989929199219,39.9002685546875,52.49953842163086,48.40071105957031,61.685977935791016,43.40102767944336,41.201297760009766,47.800941467285156,44.29977798461914,47.300148010253906,81.69749450683594,62.49935531616211,45.60029220581055,46.50033187866211,73.70183563232422,70.04053497314453,52.70002365112305,41.89971923828125,71.998779296875,57.896827697753906,53.999637603759766,48.4999885559082,49.399959564208984,46.79973602294922,50.40003204345703,46.99871826171875,51.20017623901367,42.501773834228516,40.200279235839844,59.30027389526367,45.20041275024414,45.89988327026367,51.49982833862305,52.499149322509766,42.99997329711914,40.9020881652832,45.699867248535156,49.599632263183594,45.199607849121094,49.5006217956543,43.001129150390625,52.79987335205078,46.20033645629883,50.59967041015625,50.600341796875,40.70083999633789,51.70016098022461,38.00663375854492,47.80057144165039,49.90011215209961,44.89893341064453,51.59955596923828,56.49541091918945,42.70033264160156,40.30009841918945,41.399925231933594,37.50102996826172,50.99966812133789,44.10032272338867,40.499996185302734,55.49637222290039,49.898338317871094,48.49992752075195,40.90247344970703,54.50066375732422,53.296669006347656,46.69990539550781,47.8985481262207,41.90001678466797,39.99991226196289,45.50046920776367,47.00326919555664,44.00045394897461,79.59883880615234,47.39925003051758,46.799957275390625,82.49971008300781,57.89816665649414,52.699440002441406,50.000186920166016,47.89988708496094,47.59977722167969,58.28995132446289,46.700199127197266,41.700286865234375,45.79954147338867,69.09922790527344,38.20013427734375,48.29826354980469,68.66669464111328,54.10008239746094,62.14922332763672,64.4001693725586,61.499900817871094,52.29833221435547,45.099857330322266,43.40025329589844,63.598243713378906,49.80064010620117,49.192501068115234,44.101226806640625,71.69927978515625,43.0002326965332,48.400150299072266,46.30065155029297,66.9990463256836,48.59989547729492,33.200782775878906,45.6990852355957,46.29804611206055,44.899940490722656,61.19871520996094,67.50001525878906,43.10023880004883,60.098243713378906,51.3999137878418,37.001182556152344,46.89899826049805,47.800235748291016,60.49794387817383,46.300174713134766,52.70008850097656,37.00013732910156,39.701820373535156,41.902435302734375,47.20044708251953,44.00016784667969,44.69660949707031,44.100528717041016,44.999671936035156,55.399078369140625,44.400753021240234,45.70232391357422,91.29914855957031,54.5197639465332,52.29915237426758,39.300567626953125,38.8006477355957,50.09969711303711,93.09873962402344,54.3991584777832,43.199859619140625,50.199371337890625,51.09956359863281,55.0994873046875,41.9993896484375,39.10336685180664,39.60167694091797,80.00005340576172,42.80052947998047,39.20143127441406,49.999576568603516,38.60441207885742,47.50029373168945,46.60118103027344,68.90113067626953,55.50016784667969,47.2998161315918,52.399993896484375,89.19882202148438,49.59854507446289,46.40049743652344,67.49944305419922,63.99907302856445,37.29953384399414,42.59914016723633,69.10002136230469,47.09736633300781,53.10072708129883,91.49864959716797,46.97093200683594,52.3985595703125,51.20025634765625,46.700130462646484,30.000120162963867,41.1010856628418,46.20088195800781,44.00034713745117,42.50033187866211,87.89977264404297,54.59967041015625,42.000362396240234,51.50001525878906,46.50011444091797,71.60078430175781,64.39509582519531,48.600093841552734,50.39990234375,41.249996185302734,50.60042190551758,48.100196838378906,53.79969787597656,60.49830627441406,49.600711822509766,50.19990158081055,69.49977111816406,40.700260162353516,45.00146484375,40.300384521484375,55.39851379394531,46.2967643737793,71.69973754882812,53.79984664916992,50.399600982666016,37.892696380615234,43.100521087646484,37.3002815246582,49.50035858154297,52.29897689819336,30.405853271484375,84.60037994384766,40.200138092041016,88.19989776611328,48.400230407714844,34.002052307128906,49.80049133300781,52.30011749267578,66.20059204101562,52.799964904785156,55.95029067993164,44.79997634887695,38.90040588378906,42.102561950683594,33.0026969909668,49.799346923828125,54.0999641418457,52.39746856689453,46.79988098144531,47.09976577758789,41.80011749267578,44.199825286865234,49.8995475769043,47.199825286865234,39.20176696777344,43.700592041015625,46.20072937011719,68.19951629638672,33.50432586669922,48.10158920288086,47.00150680541992,44.701377868652344,71.3001708984375,46.59988021850586,77.59477996826172,42.099571228027344,76.59990692138672,45.20034408569336,53.19934844970703,43.00035858154297,46.79998016357422,70.2499771118164,43.499412536621094,46.900142669677734,43.700382232666016,46.99953842163086,47.80111312866211,49.99956512451172,66.69792938232422,44.60231399536133,90.0015640258789,60.0079460144043,41.39934539794922,53.79722213745117,48.40000534057617,35.10307312011719,41.60042953491211,43.20029067993164,48.29977798461914,55.89701843261719,45.400333404541016,50.29964065551758,45.60140609741211,43.2001838684082,46.80033493041992,52.39973831176758,57.49663162231445,46.80030059814453,53.39516830444336,47.600196838378906,46.60016632080078,45.70056915283203,50.20392608642578,48.89971923828125,36.70042037963867,70.09898376464844,82.89995574951172,50.995792388916016,41.10015869140625,59.60010528564453,45.09954071044922,43.399818420410156,49.10941696166992,39.60075378417969,70.8997802734375,53.39978790283203,53.5990104675293,45.60485076904297,40.30030059814453,43.410831451416016,46.901123046875,47.19996643066406,41.70030975341797,40.00149154663086,45.499759674072266,96.49917602539062,94.09973907470703,51.099849700927734,48.100341796875,60.506187438964844,66.89991760253906,60.501182556152344,45.79964065551758,91.89966583251953,41.802215576171875,67.50010681152344,41.7009391784668,53.79758834838867,38.90100860595703,43.566349029541016,87.69998168945312,51.19193649291992,47.20054244995117,49.40000534057617,54.698795318603516,47.30051803588867,52.09976577758789,49.6994743347168,78.60021209716797,52.599849700927734,51.40146255493164,48.00064468383789,52.10053253173828,48.1987419128418,35.40003967285156,89.39862823486328,42.00177001953125,44.59990310668945,52.79990768432617,51.09868621826172,70.19931030273438,37.39912796020508,41.00111770629883,55.89933395385742,47.40001678466797,45.997989654541016,67.00052642822266,49.29998016357422,47.700016021728516,51.899967193603516,41.100303649902344,42.50093460083008,49.20056915283203,71.59986877441406,76.34736633300781,51.5001106262207,47.501075744628906,65.19926452636719,62.300323486328125,69.90010833740234,43.30076217651367,37.90064239501953,46.00065994262695,42.89981460571289,45.50167465209961,41.80021667480469,48.9002571105957,49.79955291748047,48.300411224365234,39.20026397705078,46.00181579589844,49.69978332519531,40.70074462890625,71.0993423461914,59.9000244140625,57.50034713745117,39.20034408569336,43.900062561035156,54.39918899536133,61.00429153442383,44.60152816772461,44.90176010131836,52.69987106323242,41.601097106933594,37.000003814697266,60.60014343261719,48.49742889404297,45.48822021484375,53.400238037109375,50.09981155395508,47.79983139038086,39.500389099121094,75.50005340576172,51.900508880615234,39.20037841796875,55.99888229370117,84.79994201660156,54.59987258911133,64.65288543701172,69.40009307861328,48.80022430419922,44.10041046142578,43.19903564453125,40.300350189208984,39.90187072753906,72.89987182617188,42.08568572998047,44.69954299926758,53.59780502319336,46.500492095947266,50.899295806884766,64.20166015625,65.00041961669922,41.0014533996582,63.39961624145508,60.596092224121094,80.29939270019531,56.0965690612793,38.40384292602539,79.10033416748047,52.19986343383789,41.200294494628906,49.20001220703125,54.89973831176758,39.80169677734375,49.80180358886719,47.99987030029297,61.10391616821289,53.59970474243164,45.84912872314453,46.90007781982422,49.20087432861328,48.5001220703125,53.899234771728516,43.948455810546875,50.39979934692383,41.70066833496094,55.40008544921875,40.10000991821289,50.49943923950195,53.79962158203125,41.800537109375,54.30027770996094,34.99985122680664,49.9006233215332,40.303306579589844,63.20075607299805,92.3993911743164,52.59761428833008,46.60110092163086,66.2003173828125,47.80020523071289,42.99998474121094,44.97997283935547,46.999881744384766,57.49942398071289,44.49977493286133,43.10150909423828,51.900577545166016,57.599327087402344,45.50014877319336,42.700401306152344,52.39994812011719,45.000003814697266,38.50078582763672,76.39971160888672,48.697425842285156,45.79947280883789,47.802310943603516,56.29782485961914,77.29878997802734,42.000450134277344,47.60004425048828,72.65003967285156,48.39862823486328,38.10078430175781,46.20029067993164,49.80009460449219,40.599952697753906,36.899986267089844,47.39986038208008,79.60037231445312,48.49991226196289,49.09976577758789,58.49937057495117,41.65909194946289,54.49983596801758,72.39979553222656,98.4000244140625,50.20029067993164,62.84747314453125,67.5499038696289,41.20003128051758,46.70063018798828,62.19147872924805,60.798770904541016,37.20256042480469,46.99921798706055,40.900699615478516,46.50069808959961,50.000282287597656,28.90233612060547,56.399993896484375,54.7000846862793,54.39964294433594,45.70122146606445,46.49980163574219,62.649169921875,71.49880981445312,49.8950309753418,38.899967193603516,49.499969482421875,47.89920425415039,43.40032196044922,47.89893341064453,47.8000602722168,59.99905776977539,36.803062438964844,33.05088424682617,51.79975509643555,48.80002975463867,45.801631927490234,82.30046844482422,41.80030822753906,51.99753189086914,47.70061492919922,42.200660705566406,58.79988098144531,53.799766540527344,53.6922721862793,49.299983978271484,49.399662017822266,46.600379943847656,37.70038604736328,47.800113677978516,61.898345947265625,40.3000602722168,48.10026168823242,42.10026168823242,46.8985710144043,52.399620056152344,34.105716705322266,47.99984359741211,46.7005615234375,64.69956970214844,44.0998420715332,46.70015335083008,45.20005416870117,52.999637603759766,50.400245666503906,51.59919357299805,80.69976806640625,50.299617767333984,46.7994384765625,40.90069580078125,50.593711853027344,35.90657424926758,42.00135040283203,51.699459075927734,42.800113677978516,42.199893951416016,65.00000762939453,46.30056381225586,37.70022201538086,45.00028991699219,78.59981536865234,38.001190185546875,65.10018157958984,56.09750747680664,39.20591354370117,62.797969818115234,73.49990844726562,43.50640869140625,36.00498962402344,49.90033721923828,46.60000228881836,45.40034103393555,35.40030288696289,43.19977569580078,61.4001579284668,45.99913787841797,44.00007247924805,69.19903564453125,48.20002365112305,37.20213317871094,62.2999153137207,46.8004035949707,51.90078353881836,45.30010223388672,38.401817321777344,50.600154876708984,49.704437255859375,58.097991943359375,61.50208282470703,48.79866409301758,46.8028450012207,71.10012817382812,40.40028381347656,61.98054504394531,39.903053283691406,48.39838790893555,52.39962387084961,64.29966735839844,46.59912872314453,54.3997802734375,44.500160217285156,50.29959487915039,48.2006950378418,49.8953971862793,52.79963302612305,62.09959030151367,47.7995719909668,38.10000991821289,47.000118255615234,46.00014114379883,53.80006790161133,55.399620056152344,47.300411224365234,81.09904479980469,45.50004959106445,37.203269958496094,42.1008415222168,52.39868927001953,60.70051574707031,49.09864807128906,95.59718322753906,37.59999084472656,52.00022506713867,49.699745178222656,45.200565338134766,32.200069427490234,51.89830017089844,91.99937438964844,56.40013885498047,45.60023498535156,64.50008392333984,44.69987106323242,55.69934844970703,51.39996337890625,72.99949645996094,47.69964599609375,42.099525451660156,63.751033782958984,36.40018081665039,87.69990539550781,42.30012893676758,71.90062713623047,73.09912109375,43.1995849609375,37.601829528808594,38.00104904174805,46.49979782104492,49.0003547668457,46.10068130493164,70.99934387207031,38.90098571777344,48.59953308105469,79.67053985595703,49.59931945800781,54.924957275390625,48.499881744384766,50.29762649536133,45.99974822998047,54.59969711303711,34.00310516357422,53.099979400634766,65.29987335205078,60.949642181396484,43.40081787109375,49.69992446899414,45.50053024291992,46.897865295410156,48.00013732910156,46.40055465698242,58.89677429199219,41.101165771484375,55.5,39.801090240478516,47.3007698059082,45.29997253417969,46.29693603515625,49.099727630615234,55.397396087646484,47.10099411010742,65.1999282836914,44.29943084716797,41.399410247802734,83.00090026855469,43.50055694580078,53.78519821166992,38.99981689453125,44.10346603393555,53.69987487792969,42.900428771972656,86.09999084472656,64.3985595703125,55.00007629394531,50.09894943237305,49.699764251708984,47.40011978149414,60.40007781982422,73.79965209960938,38.80039596557617,45.099002838134766,43.89999771118164,40.500858306884766,59.733909606933594,59.599525451660156,41.79984664916992,37.80034637451172,57.49988555908203,84.29985809326172,52.09951400756836,43.99822235107422,41.501312255859375,36.90083312988281,48.69993591308594,46.999752044677734,48.79817581176758,56.19866180419922,60.298465728759766,88.59793853759766,50.399993896484375,69.4999008178711,82.19908905029297,41.301353454589844,31.434247970581055,58.79932403564453,56.8999137878418,39.40019226074219,52.01295852661133,42.498451232910156,43.90056610107422,42.60053253173828,68.99960327148438,39.00020217895508,37.12181854248047,58.2998046875,44.1999626159668,50.29948043823242,60.601078033447266,66.00366973876953,52.40016174316406,46.70075225830078,42.60285568237305,53.500465393066406,40.20070266723633,50.299964904785156,36.19991683959961,60.45430374145508,64.3991928100586,60.50044631958008,60.29890823364258,41.700984954833984,50.39827346801758,43.60066223144531,60.29813766479492,40.90054702758789,37.000003814697266,50.648643493652344,76.30046844482422,90.79984283447266,43.099754333496094,47.10063552856445,52.499542236328125,35.9998893737793,76.4004898071289,46.99991989135742,46.100067138671875,47.9998779296875,50.50055694580078,36.401248931884766,48.599491119384766,49.40056228637695,52.1002082824707,44.89993667602539,85.89703369140625,52.399383544921875,46.10045623779297,55.29887390136719,62.24724197387695,44.00077819824219,45.20012664794922,51.49840545654297,74.7002944946289,47.31618118286133,43.99872589111328,88.40039825439453,38.70125198364258,64.50010681152344,48.799869537353516,49.50007247924805,43.50111770629883,40.60095977783203,64.19983673095703,54.40166091918945,54.099674224853516,71.79938507080078,66.20089721679688,54.19678497314453,78.19998931884766,39.300601959228516,45.20200729370117,48.80160140991211,73.69791412353516,55.799015045166016,53.599281311035156,38.313812255859375,43.801849365234375,91.5987777709961,51.49981689453125,41.30099868774414,49.60001754760742,44.500648498535156,74.74909973144531,36.8010139465332,42.80002212524414,35.00949478149414,80.01775360107422,55.79781723022461,77.09935760498047,46.69997787475586,45.200008392333984,52.60005187988281,67.99970245361328,52.5993537902832,49.2995719909668,53.29721450805664,49.699886322021484,43.300086975097656,54.998783111572266,50.799530029296875,48.000457763671875,41.69918441772461,55.197330474853516,46.20100402832031,46.599544525146484,45.599700927734375,43.10479736328125,41.60006332397461,48.89940643310547,42.70283889770508,62.498722076416016,45.599998474121094,35.60021209716797,38.60028076171875,47.80048751831055,49.00022506713867,43.899932861328125,91.80083465576172,52.193145751953125,40.60013198852539,51.196598052978516,48.99899673461914,45.79949188232422,63.29314041137695,41.999664306640625,39.69965744018555,46.10026550292969,38.599998474121094,48.199432373046875,55.0994987487793,47.30084991455078,65.99009704589844,50.20214080810547,48.90091323852539,37.700653076171875,70.19839477539062,27.999958038330078,66.99970245361328,66.74897766113281,47.7996826171875,49.99980926513672,42.00084686279297,49.89994812011719,41.1036262512207,53.299747467041016,48.49693298339844,64.65165710449219,49.79939651489258,49.49867630004883,49.80010986328125,52.79780578613281,41.10020446777344,58.30011749267578,54.099281311035156,53.59806823730469,45.999977111816406,52.09894943237305,49.10074234008789,28.00066375732422,48.80141830444336,48.40040588378906,54.89885330200195,42.60018539428711,43.2999153137207,49.39918518066406,50.294456481933594,54.098148345947266,42.09972381591797,47.30286407470703,45.599308013916016,48.70180130004883,46.200233459472656,46.200286865234375,62.6995964050293,45.99991226196289,48.899662017822266,40.80012130737305,56.29875946044922,40.80154800415039,43.89984130859375,50.597862243652344,36.603694915771484,48.500160217285156,48.30038833618164,48.498390197753906,50.298282623291016,43.39946746826172,39.70024490356445,47.50028610229492,54.698951721191406,44.202476501464844,46.30006408691406,37.801753997802734,44.76669692993164,51.998069763183594,33.00020217895508,50.599308013916016,42.100341796875,37.09943771362305,44.50078201293945,64.40019989013672,42.80112838745117,49.39980697631836,41.89997482299805,44.699684143066406,40.80015182495117,48.10014343261719,71.99931335449219,49.49979782104492,61.497066497802734,41.8005256652832,63.200279235839844,34.40203857421875,49.399932861328125,40.6001091003418,45.700862884521484,37.40010452270508,29.999561309814453,48.400779724121094,46.59992218017578,90.19954681396484,57.000083923339844,77.87490844726562,42.39984893798828,48.29998779296875,43.4025764465332,68.40034484863281,38.104400634765625,50.098384857177734,42.70284652709961,50.69961929321289,46.4997673034668,45.59946060180664,58.999977111816406,57.899906158447266,48.199615478515625,49.29960632324219,51.398372650146484,64.24884033203125,44.499237060546875,53.599632263183594,51.600643157958984,46.6018180847168,41.80034637451172,44.800636291503906,49.799800872802734,58.29741287231445,48.70033264160156,79.99993896484375,46.60114669799805,52.19989013671875,42.60007095336914,49.801544189453125,38.99989318847656,41.199951171875,52.00084686279297,39.00016403198242,74.80012512207031,36.30091094970703,44.099788665771484,43.70029067993164,47.897987365722656,62.50046920776367,41.3999137878418,51.803260803222656,48.09975051879883,53.49946594238281,40.50437927246094,96.59806060791016,43.400028228759766,38.9996452331543,53.50011444091797,50.999732971191406,56.700294494628906,43.40032958984375,49.19963455200195,65.30059051513672,47.700138092041016,34.00007629394531,49.799530029296875,72.89961242675781,79.30018615722656,55.189510345458984,45.799842834472656,48.70009231567383,51.497413635253906,43.100555419921875,47.60062789916992,53.599857330322266,44.10114669799805,48.39992141723633,48.600311279296875,41.30075454711914,42.60001754760742,45.400146484375,68.59954833984375,49.59939956665039,42.59966278076172,52.19810485839844,62.99913787841797,46.99995803833008,37.299949645996094,33.9063606262207,49.20209503173828,47.20176696777344,44.79951858520508,95.3939208984375,48.09913635253906,59.10444641113281,44.900020599365234,96.49823760986328,46.499515533447266,40.70808410644531,64.99309539794922,43.40055465698242,54.89847183227539,45.00066375732422,54.05824279785156,89.39922332763672,40.99947738647461,51.69950485229492,77.1997299194336,43.103553771972656,51.19978713989258,81.19953155517578,56.100215911865234,54.19564437866211,49.29981231689453,45.30108642578125,46.900543212890625,64.60093688964844,40.50011444091797,46.6008415222168,49.70052719116211,53.597862243652344,49.29917907714844,44.700069427490234,45.79942321777344,49.102783203125,66.28910827636719,48.10015869140625,53.99907302856445,88.39997100830078,35.300716400146484,60.69915008544922,56.399478912353516,76.59982299804688,51.000091552734375,36.90213394165039,45.700523376464844,49.49964904785156,89.1995620727539,44.60040283203125,48.49982452392578,47.99845504760742,38.60256576538086,49.700618743896484,55.49974060058594,43.60042190551758,55.79786682128906,44.80162811279297,36.102630615234375,50.998355865478516,66.800048828125,42.00009536743164,44.40131378173828,39.69978713989258,40.40300369262695,49.6004753112793,48.30058288574219,50.19921875,52.8982048034668,53.99934387207031,51.79880905151367,38.10114669799805,60.10139083862305,38.30224609375,50.399436950683594,43.20003890991211,36.701271057128906,56.09980773925781,48.49900436401367,48.89907455444336,40.501731872558594,59.60161590576172,49.90024948120117,74.69613647460938,46.90066146850586,55.00211715698242,62.49510955810547,40.400150299072266,46.59904098510742,58.300506591796875,58.798316955566406,48.9971809387207,85.69918060302734,38.10237503051758,39.900936126708984,43.00052261352539,63.868377685546875,48.50065231323242,53.898948669433594,49.899715423583984,51.899818420410156,56.59853744506836,38.700130462646484,47.09811782836914,44.100791931152344,50.59992599487305,46.60841369628906,50.2003288269043,71.20072174072266,39.900665283203125,55.7998046875,79.299560546875,40.104095458984375,86.39837646484375,43.9999885559082,48.19843292236328,45.8997688293457,55.90060806274414,44.000244140625,70.79975891113281,55.49929428100586,36.50053405761719,49.60045623779297,46.49947738647461,43.60017013549805,46.00132751464844,50.098243713378906,48.999813079833984,48.399627685546875,46.30007553100586,50.100250244140625,51.89986038208008,48.19972229003906,49.400028228759766,50.59962463378906,43.49918746948242,43.90004348754883,50.5931282043457,82.00022888183594,47.70103073120117,37.700218200683594,49.39907455444336,44.79936981201172,37.80107879638672,89.20203399658203,53.699989318847656,47.69977569580078,50.49827194213867,48.798919677734375,41.4996223449707,41.100284576416016,51.100074768066406,42.688087463378906,88.49967956542969,54.499961853027344,41.80172348022461,42.2011604309082,48.1003532409668,45.60072326660156,54.59861755371094,43.200599670410156,48.40091323852539,54.50041580200195,37.60009765625,53.79313659667969,50.3001594543457,96.19574737548828,46.90459060668945,49.399375915527344,42.59975814819336,51.99900817871094,50.69921875,51.29863739013672,36.63341522216797,63.70061111450195,67.69754028320312,48.69996643066406,55.79985809326172,47.09976577758789,41.70083236694336,47.49793243408203,52.10036849975586,42.90030288696289,87.39996337890625,58.696781158447266,74.69659423828125,49.5153694152832,46.0992431640625,57.59908676147461,48.59859085083008,58.998924255371094,60.79924011230469,47.999691009521484,77.30036926269531,45.89369583129883,38.800777435302734,50.29692459106445,41.50139617919922,69.70021057128906,43.09965896606445,50.90018844604492,61.69772720336914,42.39952850341797,57.301082611083984,39.80021667480469,83.40030670166016,50.800594329833984,42.80031204223633,52.29747772216797,43.90119552612305,41.2999382019043,46.79915237426758,53.649818420410156,53.5989990234375,63.49790954589844,50.297218322753906,56.29997253417969,45.29920196533203,52.800071716308594,52.800350189208984,51.30073928833008,40.80500030517578,53.881874084472656,41.300636291503906,37.8012809753418,65.99625396728516,39.300514221191406,41.80039978027344,43.100242614746094,43.799842834472656,51.899539947509766,46.000648498535156,43.6998405456543,87.20042419433594,49.1995735168457,44.8997688293457,37.301246643066406,92.09769439697266,50.39984893798828,92.0999984741211,73.80034637451172,48.49982833862305,52.509185791015625,43.299964904785156,46.100196838378906,45.99897766113281,49.50099182128906,73.6006088256836,48.60162353515625,45.60016632080078,78.00006103515625,58.89836120605469,54.499114990234375,49.2001953125,40.99986267089844,59.89907455444336,49.900177001953125,47.50054168701172,44.90038299560547,65.2002944946289,87.89800262451172,80.29985046386719,63.90016174316406,44.700111389160156,40.30122375488281,51.699989318847656,47.699703216552734,44.500728607177734,75.00116729736328,47.998809814453125,57.000030517578125,53.499961853027344,78.0993881225586,39.40380096435547,82.10006713867188,45.40024948120117,68.299560546875,41.601131439208984,50.898868560791016,47.100154876708984,50.699649810791016,45.5,45.50230026245117,40.200260162353516,50.09981155395508,50.99436950683594,34.90060806274414,49.00020217895508,38.800262451171875,48.90035629272461,52.80034637451172,36.0128288269043,53.20017623901367,50.70045471191406,49.298587799072266,49.19939041137695,33.91432189941406,36.300235748291016,44.50196838378906,37.50017547607422,48.99348068237305,36.30039978027344,44.301151275634766,44.499752044677734,33.40131378173828,44.5007438659668,45.001991271972656,60.20090866088867,59.993141174316406,54.50844192504883,43.90022659301758,41.299888610839844,38.300079345703125,47.50054931640625,41.10758972167969,37.20278549194336,56.299835205078125,48.399662017822266,72.99641418457031,43.10110092163086,52.30009841918945,52.30058288574219,42.00098419189453,51.39883041381836,48.89973068237305,42.50055694580078,65.19807434082031,42.400245666503906,64.69938659667969,53.49995422363281,43.00323486328125,36.3002815246582,47.29830551147461,51.099246978759766,43.099918365478516,58.09992599487305,47.39815139770508,56.097103118896484,49.1011848449707,40.50046920776367,70.13308715820312,41.50050735473633,38.80258560180664,42.50049591064453,38.6007194519043,54.9998664855957,62.80003356933594,50.69978332519531,47.29891586303711,43.19978713989258,48.902557373046875,61.398773193359375,39.64850616455078,48.00005340576172,37.30046463012695,48.2000617980957,49.49980545043945,73.90077209472656,48.402076721191406,36.79983139038086,47.60096740722656,51.50027084350586,44.60005187988281,46.80168533325195,56.09941482543945,46.400245666503906,43.70051193237305,44.101165771484375,38.29985427856445,45.90163040161133,53.20004653930664,46.00032043457031,72.19978332519531,32.50257110595703,37.800296783447266,49.70055389404297,47.69993209838867,42.79936981201172,45.300506591796875,44.40058517456055,43.50067138671875,45.30061721801758,51.89921569824219,43.7005500793457,82.0990982055664,50.29973220825195,43.39963150024414,64.09982299804688,46.90065002441406,47.900482177734375,52.69933319091797,65.10016632080078,44.500572204589844,57.39949417114258,50.19943618774414,52.19603729248047,47.10420227050781,77.80278778076172,49.599849700927734,46.30036163330078,40.800601959228516,41.198387145996094,55.50648880004883,43.399898529052734,56.99966049194336,71.59973907470703,42.30068588256836,54.69884490966797,71.10100555419922,36.700443267822266,74.6997299194336,51.69931411743164,47.80013656616211,53.99667739868164,97.59912109375,43.600860595703125,44.503665924072266,57.79933166503906,41.60075759887695,65.90045928955078,58.100223541259766,62.49577331542969,56.69900894165039,53.40000915527344,42.00528335571289,50.39922332763672,52.59786605834961,40.50053787231445,45.90044021606445,37.60113525390625,39.899993896484375,43.7004508972168,51.200016021728516,50.101932525634766,43.79977798461914,45.10206985473633,57.69980239868164,51.00025177001953,52.39977264404297,38.099937438964844,46.92585372924805,44.59994888305664,54.3984489440918,68.59823608398438,50.89881134033203,38.60030746459961,68.79948425292969,46.19928741455078,49.20051193237305,53.39771270751953,66.79985046386719,53.50352096557617,48.299678802490234,52.09857177734375,39.20258712768555,44.299827575683594,43.09973907470703,41.89960479736328,40.800148010253906,46.100284576416016,49.2002067565918,45.39982604980469,79.39974212646484,47.50040054321289,50.702083587646484,52.802955627441406,40.201019287109375,45.89984893798828,50.998497009277344,32.90058898925781,43.50004196166992,43.90003204345703,66.59944915771484,42.10002136230469,46.92585372924805,87.3996353149414,43.00058364868164,42.89991760253906,47.50014114379883,47.19914627075195,41.602210998535156,51.699790954589844,48.99874496459961,82.49969482421875,50.600154876708984,40.10064697265625,54.59922409057617,46.895328521728516,56.099761962890625,46.400474548339844,41.20100784301758,48.999351501464844,49.30078887939453,52.70086669921875,47.5984992980957,60.8995361328125,45.00032043457031,65.20000457763672,46.69940948486328,48.90078353881836,53.599571228027344,48.19847106933594,44.2005615234375,64.49940490722656,50.50017166137695,50.89968490600586,63.99880599975586,91.09944915771484,55.451759338378906,46.098777770996094,45.40049362182617,49.499507904052734,87.79924011230469,52.199153900146484,48.700191497802734,36.800086975097656,41.20003128051758,44.80075454711914,84.10214233398438,51.50047302246094,51.299095153808594,40.1033821105957,42.80108642578125,55.799720764160156,58.898826599121094,51.8005485534668,58.59809875488281,40.00028610229492,94.29888153076172,52.29765319824219,52.59974670410156,50.40007400512695,42.703514099121094,45.2999382019043,52.9968147277832,82.00061798095703,53.100341796875,50.00071334838867,85.89942932128906,47.0001220703125,44.900390625,61.800262451171875,52.001747131347656,43.90020751953125,42.00095748901367,43.566349029541016,38.30013656616211,76.79959106445312,52.69940185546875,46.80043411254883,49.099822998046875,38.900001525878906,48.19991683959961,56.29924011230469,33.69997787475586,84.30015563964844,55.299049377441406,65.80013275146484,68.20172882080078,46.4001579284668,83.00000762939453,44.00008010864258,52.600372314453125,71.19993591308594,42.49980926513672,49.10026931762695,47.90143966674805,76.69782257080078,51.300819396972656,84.29985046386719,51.89968490600586,41.20061492919922,34.301185607910156,50.3969841003418,52.299034118652344,86.20011901855469,82.20114135742188,39.3013801574707,41.80086135864258,47.200138092041016,53.59992599487305,41.30025863647461,50.500389099121094,41.89997482299805,56.798316955566406,42.199466705322266,43.10045623779297,63.204307556152344,50.60509490966797,49.99938201904297,51.30014419555664,81.2660140991211,61.00485610961914,55.59811019897461,47.999725341796875,54.39982223510742,64.39995574951172,42.30022048950195,41.69974136352539,97.09877014160156,44.99946975708008,48.20111846923828,48.80021286010742,42.500755310058594,61.50349426269531,41.50079345703125,92.09966278076172,86.79998016357422,71.69937133789062,46.701171875,39.70610809326172,51.65088653564453,90.2993392944336,55.19974136352539,49.600582122802734,46.299224853515625,48.600364685058594,41.600528717041016,42.00528335571289,40.10010528564453,46.9995231628418,52.79994583129883,49.903263092041016,47.29994583129883,46.10062026977539,49.99985885620117,39.699806213378906,40.30052185058594,47.1990852355957,51.39944076538086,51.099205017089844,43.00019454956055,43.4015998840332,45.10018539428711,65.79981994628906,58.55107879638672,52.69938278198242,48.1990852355957,43.50333023071289,42.699737548828125,41.100311279296875,48.199981689453125,46.30001449584961,72.49881744384766,49.99860382080078,49.59983444213867,75.60015106201172,41.90008544921875,51.19951629638672,46.600765228271484,42.6983642578125,30.20020294189453,39.79985809326172,42.10061264038086,53.19828414916992,47.30039596557617,37.701927185058594,78.45060729980469,36.69993209838867,47.50017166137695,39.70052719116211,51.00004959106445,43.50009536743164,52.599822998046875,49.000579833984375,48.299896240234375,48.39977264404297,49.5001335144043,47.80010223388672,52.3991813659668,73.69928741455078,36.902496337890625,42.5997428894043,47.800132751464844,51.1003303527832,37.000240325927734,40.20016860961914,45.900203704833984,54.30004119873047,35.601661682128906,58.09958267211914,45.701011657714844,51.99894714355469,64.8006820678711,50.39961242675781,42.50093460083008,38.40105056762695,42.50321960449219,51.99877166748047,43.20104217529297,46.40040588378906,49.99996566772461,39.60043716430664,82.09965515136719,40.30039596557617,46.0001220703125,50.799320220947266,46.80022048950195,64.99981689453125,44.90060806274414,40.901611328125,48.49941635131836,49.80092239379883,46.100555419921875,44.7000846862793,41.40040588378906,76.6987075805664,48.40095138549805,36.79981994628906,48.90020751953125,49.49984359741211,46.900474548339844,40.601806640625,94.20597076416016,48.199928283691406,56.799530029296875,51.49894714355469,46.2001953125,45.299781799316406,45.40053939819336,40.099727630615234,42.69998550415039,41.00038528442383,38.30643081665039,33.30094909667969,51.60007858276367,88.53209686279297,42.89966583251953,40.1008186340332,37.900482177734375,51.69774627685547,51.5883903503418,51.00044250488281,42.69985580444336,41.999755859375,44.75190353393555,59.054161071777344,46.69960021972656,37.59959030151367,46.19900131225586,44.14809799194336,50.000457763671875,52.80039596557617,85.80004119873047,39.10329818725586,84.60050964355469,56.198551177978516,53.397850036621094,51.79959487915039,45.20065689086914,46.399986267089844,62.89985656738281,25.600431442260742,37.70014953613281,44.80125427246094,48.798988342285156,38.60083770751953,46.70037078857422,58.695335388183594,46.50005340576172,51.89990997314453,46.97093200683594,51.499244689941406,40.10012435913086,42.29999923706055,54.498870849609375,50.29930877685547,40.800296783447266,36.59999084472656,51.700077056884766,50.403385162353516,64.99922943115234,48.60066604614258,50.2998161315918,50.399925231933594,59.59931945800781,71.00004577636719,75.10034942626953,83.20066833496094,39.99990463256836,48.99977111816406,58.3986930847168,43.604949951171875,53.895450592041016,53.20002746582031,50.70001983642578,43.89946746826172,41.79982376098633,52.39882278442383,49.096824645996094,46.50206756591797,42.49672317504883,56.998939514160156,64.59750366210938,39.89936065673828,44.50008773803711,54.599700927734375,51.39182662963867,47.49976348876953,42.39961242675781,52.29998779296875,42.6998176574707,49.9996337890625,82.19979858398438,43.499935150146484,46.799049377441406,44.50022888183594,49.70021057128906,39.20176315307617,36.000282287597656,55.99909210205078,47.89969253540039,47.80020523071289,36.40279006958008,37.00204086303711,40.20028305053711,54.99919128417969,61.50025939941406,39.20209884643555,38.705108642578125,60.299896240234375,55.90032196044922,41.6153450012207,47.399864196777344,52.10006332397461,44.29898452758789,67.80008697509766,42.1998176574707,36.80181884765625,73.19908142089844,43.30034637451172,38.29938507080078,44.599666595458984,68.20014953613281,37.600181579589844,53.59950637817383,45.10006332397461,52.30103302001953,52.599708557128906,83.5001449584961,48.799720764160156,50.20012283325195,59.799041748046875,43.20051574707031,70.29650115966797,54.499229431152344,42.19975662231445,62.399574279785156,39.201637268066406,59.733909606933594,70.4997329711914,56.80010986328125,56.19931411743164,35.80802536010742,57.9995231628418,49.70048141479492,46.69912338256836,49.69965362548828,39.90134048461914,65.59846496582031,71.89733123779297,79.90006256103516,50.297706604003906,38.30064392089844,52.19925308227539,55.79989242553711,51.83359909057617,54.70037841796875,37.10033416748047,71.89964294433594,51.900672912597656,38.00133514404297,40.89997100830078,39.89998245239258,53.299137115478516,41.70010757446289,43.90031051635742,40.5903205871582,44.600467681884766,45.60085678100586,40.400390625,39.50028610229492,52.600215911865234,43.90019989013672,49.19969177246094,42.40065383911133,49.09870910644531,47.99749755859375,62.80008316040039,35.50082778930664,36.300785064697266,48.89952087402344,48.65046691894531,52.3016471862793,45.00047302246094,44.79987716674805,84.60014343261719,38.40043640136719,32.002647399902344,43.00175094604492,55.299381256103516,58.787715911865234,48.399932861328125,59.000728607177734,49.39999008178711,48.80038070678711,35.40076446533203,50.20012283325195,43.299495697021484,51.7995491027832,71.89874267578125,39.79926300048828,45.60121536254883,51.000396728515625,50.194000244140625,42.20056915283203,47.39887619018555,45.89933776855469,47.20029830932617,75.9487533569336,46.59891891479492,46.69993591308594,39.60037612915039,52.80020523071289,49.90018081665039,87.50047302246094,49.40114974975586,46.19980239868164,48.20005416870117,46.00178146362305,46.40099334716797,49.899471282958984,88.30077362060547,50.000221252441406,43.49969482421875,54.29875564575195,51.40024185180664,41.90058898925781,46.20001983642578,71.40023040771484,42.40021896362305,40.901363372802734,49.40017318725586,50.1995849609375,44.60139846801758,49.299991607666016,46.10010528564453,52.50018310546875,64.69953155517578,39.9024543762207,53.09698486328125,57.7995491027832,44.09979248046875,48.09806823730469,47.300132751464844,82.3001480102539,49.801055908203125,49.79989242553711,50.00004196166992,76.2991714477539,43.799713134765625,46.60044860839844,53.699886322021484,50.40046310424805,39.99957275390625,53.39639663696289,41.90018844604492,50.30002212524414,38.80060958862305,56.09183120727539,82.1990966796875,48.4982795715332,74.4046401977539,48.50076675415039,51.99404525756836,52.099666595458984,50.397003173828125,71.70050811767578,50.29961013793945,48.00016784667969,80.99111938476562,78.9986801147461,53.899967193603516,53.233333587646484,63.501495361328125,41.60029983520508,50.10018539428711,56.69749450683594,44.3010139465332,48.12820053100586,54.29539108276367,46.19840621948242,54.9996223449707,79.91007995605469,55.89948272705078,50.39884567260742,48.098819732666016,51.09917449951172,41.39973068237305,41.50017547607422,80.70037078857422,55.19832992553711,36.800575256347656,30.399700164794922,39.30016326904297,33.40530776977539,41.99977111816406,50.79986572265625,41.199859619140625,51.20022201538086,76.79734802246094,49.899600982666016,50.20187759399414,50.69839096069336,44.69913864135742,46.999385833740234,41.59947204589844,51.39998245239258,54.79969024658203,48.599815368652344,42.39901351928711,61.60018539428711,46.60000228881836,48.29997634887695,72.49970245361328,48.19994354248047,46.500152587890625,51.39967727661133,52.699588775634766,39.89992141723633,47.20289611816406,58.195640563964844,50.89957046508789,50.2996940612793,36.301002502441406,53.59648895263672,46.89920425415039,41.59836196899414,38.401309967041016,64.59919738769531,95.09954071044922,84.80023956298828,46.80000305175781,41.70100021362305,64.59980773925781,42.70011520385742,52.601539611816406,45.60020446777344,62.40091323852539,63.471858978271484,52.39949417114258,52.00035858154297,41.90101623535156,40.79940414428711,59.14728927612305,53.19844436645508,39.500244140625,84.30023193359375,83.10003662109375,47.699581146240234,43.69997787475586,48.342960357666016,30.001924514770508,57.09966278076172,41.70004653930664,45.30157470703125,39.89973831176758,48.799888610839844,41.00160598754883,49.29900360107422,87.59963989257812,41.599510192871094,54.59727096557617,55.39898681640625,39.400306701660156,44.30024337768555,40.899837493896484,42.501651763916016,56.19980239868164,46.19922637939453,58.39891052246094,49.30000686645508,39.101409912109375,69.89942169189453,68.90019226074219,55.90024185180664,39.50003433227539,40.8999137878418,60.50125503540039,41.200130462646484,50.00009536743164,43.10013961791992,64.89974212646484,54.299617767333984,46.066917419433594,65.4006118774414,50.00008773803711,87.09864807128906,43.000064849853516,50.70246505737305,52.00007629394531,39.500064849853516,48.19930648803711,38.90009307861328,44.40031051635742,57.09701919555664,42.7999267578125,42.099159240722656,61.7996711730957,67.70015716552734,45.00007629394531,51.79896545410156,45.10011672973633,48.199012756347656,74.49990844726562,74.5948486328125,49.899879455566406,41.500308990478516,70.30506134033203,42.000789642333984,56.69978332519531,34.40024948120117,38.70145034790039,33.502689361572266,56.3183479309082,58.496646881103516,83.54955291748047,54.40007400512695,35.703895568847656,50.00039291381836,46.60017013549805,47.50020217895508,53.29962158203125,39.50018310546875,54.90009307861328,40.30036163330078,52.49684524536133,84.49987030029297,43.40076446533203,63.40040969848633,47.000205993652344,92.29949951171875,54.50063705444336,47.39945602416992,42.900028228759766,49.400054931640625,34.80097579956055,44.10063934326172,38.20018768310547,57.495994567871094,48.499855041503906,43.50131607055664,46.60074996948242,49.098167419433594,79.10020446777344,53.199588775634766,41.300437927246094,38.80195617675781,44.799964904785156,61.50222396850586,40.80190658569336,44.50062561035156,51.700294494628906,88.90052795410156,49.99977493286133,55.90006637573242,50.693626403808594,46.900150299072266,41.39998245239258,55.199581146240234,40.799320220947266,53.49919891357422,46.700374603271484,83.9006118774414,89.00025177001953,43.100120544433594,40.7003059387207,44.69977569580078,44.701019287109375,40.90029525756836,49.699989318847656,40.99995040893555,50.69939041137695,80.79994201660156,48.499855041503906,36.99944305419922,47.90003204345703,42.5997200012207,51.699378967285156,39.59953689575195,51.69994354248047,46.70087432861328,40.70040512084961,48.20013427734375,70.20001983642578,72.68946075439453,49.802371978759766,54.60065460205078,65.10027313232422,39.200408935546875,46.800289154052734,48.4993782043457,46.000003814697266,44.20111083984375,45.300201416015625,85.40033721923828,47.90067672729492,50.301513671875,78.69681549072266,47.699951171875,38.0059814453125,38.99983596801758,38.00059509277344,49.898155212402344,46.80059814453125,39.09974670410156,50.60040283203125,34.799156188964844,55.69984436035156,79.40016174316406,66.3980941772461,55.10042953491211,45.90019607543945,54.49998092651367,38.90045928955078,52.400413513183594,50.699501037597656,44.99981689453125,45.80046463012695,87.80029296875,64.99724578857422,59.500083923339844,37.000675201416016,45.60014724731445,50.100276947021484,52.698890686035156,71.89862823486328,49.0001335144043,53.70087814331055,53.999698638916016,39.80141830444336,46.39878463745117,40.40113830566406,46.29983901977539,44.50365447998047,81.30023956298828,52.899696350097656,45.19989776611328,71.49970245361328,69.99967193603516,46.79648971557617,47.10061264038086,69.09976196289062,56.0003547668457,40.20024108886719,53.999969482421875,51.40065383911133,81.59983825683594,38.19994354248047,111.80007934570312,57.29990768432617,47.10114288330078,50.200172424316406,44.10091781616211,46.00078582763672,54.998653411865234,30.903175354003906,52.014556884765625,51.9998893737793,46.998558044433594,42.600128173828125,40.00047302246094,50.89619827270508,49.099937438964844,56.898521423339844,44.70017623901367,50.70038986206055,42.602779388427734,40.1018180847168,40.60027313232422,42.999542236328125,47.99991989135742,39.001705169677734,65.69985961914062,77.39954376220703,45.60042953491211,49.79995346069336,51.39985275268555,61.19517135620117,43.20140838623047,36.5001220703125,47.49995422363281,44.79963684082031,41.19963073730469,53.70003890991211,81.5929946899414,49.89961624145508,40.40013885498047,62.79916763305664,53.233333587646484,54.9986686706543,67.80030059814453,38.2068977355957,47.9978141784668,41.99983215332031,42.00092697143555,47.90003967285156,44.400020599365234,51.700035095214844,60.199527740478516,43.099952697753906,36.300254821777344,42.00032043457031,54.298831939697266,57.39942169189453,55.598609924316406,55.296627044677734,60.795040130615234,48.4000358581543,47.899940490722656,46.999778747558594,48.200252532958984,53.6002197265625],\"type\":\"scattergl\"}],                        {\"template\":{\"data\":{\"histogram2dcontour\":[{\"type\":\"histogram2dcontour\",\"colorbar\":{\"outlinewidth\":0,\"ticks\":\"\"},\"colorscale\":[[0.0,\"#0d0887\"],[0.1111111111111111,\"#46039f\"],[0.2222222222222222,\"#7201a8\"],[0.3333333333333333,\"#9c179e\"],[0.4444444444444444,\"#bd3786\"],[0.5555555555555556,\"#d8576b\"],[0.6666666666666666,\"#ed7953\"],[0.7777777777777778,\"#fb9f3a\"],[0.8888888888888888,\"#fdca26\"],[1.0,\"#f0f921\"]]}],\"choropleth\":[{\"type\":\"choropleth\",\"colorbar\":{\"outlinewidth\":0,\"ticks\":\"\"}}],\"histogram2d\":[{\"type\":\"histogram2d\",\"colorbar\":{\"outlinewidth\":0,\"ticks\":\"\"},\"colorscale\":[[0.0,\"#0d0887\"],[0.1111111111111111,\"#46039f\"],[0.2222222222222222,\"#7201a8\"],[0.3333333333333333,\"#9c179e\"],[0.4444444444444444,\"#bd3786\"],[0.5555555555555556,\"#d8576b\"],[0.6666666666666666,\"#ed7953\"],[0.7777777777777778,\"#fb9f3a\"],[0.8888888888888888,\"#fdca26\"],[1.0,\"#f0f921\"]]}],\"heatmap\":[{\"type\":\"heatmap\",\"colorbar\":{\"outlinewidth\":0,\"ticks\":\"\"},\"colorscale\":[[0.0,\"#0d0887\"],[0.1111111111111111,\"#46039f\"],[0.2222222222222222,\"#7201a8\"],[0.3333333333333333,\"#9c179e\"],[0.4444444444444444,\"#bd3786\"],[0.5555555555555556,\"#d8576b\"],[0.6666666666666666,\"#ed7953\"],[0.7777777777777778,\"#fb9f3a\"],[0.8888888888888888,\"#fdca26\"],[1.0,\"#f0f921\"]]}],\"heatmapgl\":[{\"type\":\"heatmapgl\",\"colorbar\":{\"outlinewidth\":0,\"ticks\":\"\"},\"colorscale\":[[0.0,\"#0d0887\"],[0.1111111111111111,\"#46039f\"],[0.2222222222222222,\"#7201a8\"],[0.3333333333333333,\"#9c179e\"],[0.4444444444444444,\"#bd3786\"],[0.5555555555555556,\"#d8576b\"],[0.6666666666666666,\"#ed7953\"],[0.7777777777777778,\"#fb9f3a\"],[0.8888888888888888,\"#fdca26\"],[1.0,\"#f0f921\"]]}],\"contourcarpet\":[{\"type\":\"contourcarpet\",\"colorbar\":{\"outlinewidth\":0,\"ticks\":\"\"}}],\"contour\":[{\"type\":\"contour\",\"colorbar\":{\"outlinewidth\":0,\"ticks\":\"\"},\"colorscale\":[[0.0,\"#0d0887\"],[0.1111111111111111,\"#46039f\"],[0.2222222222222222,\"#7201a8\"],[0.3333333333333333,\"#9c179e\"],[0.4444444444444444,\"#bd3786\"],[0.5555555555555556,\"#d8576b\"],[0.6666666666666666,\"#ed7953\"],[0.7777777777777778,\"#fb9f3a\"],[0.8888888888888888,\"#fdca26\"],[1.0,\"#f0f921\"]]}],\"surface\":[{\"type\":\"surface\",\"colorbar\":{\"outlinewidth\":0,\"ticks\":\"\"},\"colorscale\":[[0.0,\"#0d0887\"],[0.1111111111111111,\"#46039f\"],[0.2222222222222222,\"#7201a8\"],[0.3333333333333333,\"#9c179e\"],[0.4444444444444444,\"#bd3786\"],[0.5555555555555556,\"#d8576b\"],[0.6666666666666666,\"#ed7953\"],[0.7777777777777778,\"#fb9f3a\"],[0.8888888888888888,\"#fdca26\"],[1.0,\"#f0f921\"]]}],\"mesh3d\":[{\"type\":\"mesh3d\",\"colorbar\":{\"outlinewidth\":0,\"ticks\":\"\"}}],\"scatter\":[{\"fillpattern\":{\"fillmode\":\"overlay\",\"size\":10,\"solidity\":0.2},\"type\":\"scatter\"}],\"parcoords\":[{\"type\":\"parcoords\",\"line\":{\"colorbar\":{\"outlinewidth\":0,\"ticks\":\"\"}}}],\"scatterpolargl\":[{\"type\":\"scatterpolargl\",\"marker\":{\"colorbar\":{\"outlinewidth\":0,\"ticks\":\"\"}}}],\"bar\":[{\"error_x\":{\"color\":\"#2a3f5f\"},\"error_y\":{\"color\":\"#2a3f5f\"},\"marker\":{\"line\":{\"color\":\"#E5ECF6\",\"width\":0.5},\"pattern\":{\"fillmode\":\"overlay\",\"size\":10,\"solidity\":0.2}},\"type\":\"bar\"}],\"scattergeo\":[{\"type\":\"scattergeo\",\"marker\":{\"colorbar\":{\"outlinewidth\":0,\"ticks\":\"\"}}}],\"scatterpolar\":[{\"type\":\"scatterpolar\",\"marker\":{\"colorbar\":{\"outlinewidth\":0,\"ticks\":\"\"}}}],\"histogram\":[{\"marker\":{\"pattern\":{\"fillmode\":\"overlay\",\"size\":10,\"solidity\":0.2}},\"type\":\"histogram\"}],\"scattergl\":[{\"type\":\"scattergl\",\"marker\":{\"colorbar\":{\"outlinewidth\":0,\"ticks\":\"\"}}}],\"scatter3d\":[{\"type\":\"scatter3d\",\"line\":{\"colorbar\":{\"outlinewidth\":0,\"ticks\":\"\"}},\"marker\":{\"colorbar\":{\"outlinewidth\":0,\"ticks\":\"\"}}}],\"scattermapbox\":[{\"type\":\"scattermapbox\",\"marker\":{\"colorbar\":{\"outlinewidth\":0,\"ticks\":\"\"}}}],\"scatterternary\":[{\"type\":\"scatterternary\",\"marker\":{\"colorbar\":{\"outlinewidth\":0,\"ticks\":\"\"}}}],\"scattercarpet\":[{\"type\":\"scattercarpet\",\"marker\":{\"colorbar\":{\"outlinewidth\":0,\"ticks\":\"\"}}}],\"carpet\":[{\"aaxis\":{\"endlinecolor\":\"#2a3f5f\",\"gridcolor\":\"white\",\"linecolor\":\"white\",\"minorgridcolor\":\"white\",\"startlinecolor\":\"#2a3f5f\"},\"baxis\":{\"endlinecolor\":\"#2a3f5f\",\"gridcolor\":\"white\",\"linecolor\":\"white\",\"minorgridcolor\":\"white\",\"startlinecolor\":\"#2a3f5f\"},\"type\":\"carpet\"}],\"table\":[{\"cells\":{\"fill\":{\"color\":\"#EBF0F8\"},\"line\":{\"color\":\"white\"}},\"header\":{\"fill\":{\"color\":\"#C8D4E3\"},\"line\":{\"color\":\"white\"}},\"type\":\"table\"}],\"barpolar\":[{\"marker\":{\"line\":{\"color\":\"#E5ECF6\",\"width\":0.5},\"pattern\":{\"fillmode\":\"overlay\",\"size\":10,\"solidity\":0.2}},\"type\":\"barpolar\"}],\"pie\":[{\"automargin\":true,\"type\":\"pie\"}]},\"layout\":{\"autotypenumbers\":\"strict\",\"colorway\":[\"#636efa\",\"#EF553B\",\"#00cc96\",\"#ab63fa\",\"#FFA15A\",\"#19d3f3\",\"#FF6692\",\"#B6E880\",\"#FF97FF\",\"#FECB52\"],\"font\":{\"color\":\"#2a3f5f\"},\"hovermode\":\"closest\",\"hoverlabel\":{\"align\":\"left\"},\"paper_bgcolor\":\"white\",\"plot_bgcolor\":\"#E5ECF6\",\"polar\":{\"bgcolor\":\"#E5ECF6\",\"angularaxis\":{\"gridcolor\":\"white\",\"linecolor\":\"white\",\"ticks\":\"\"},\"radialaxis\":{\"gridcolor\":\"white\",\"linecolor\":\"white\",\"ticks\":\"\"}},\"ternary\":{\"bgcolor\":\"#E5ECF6\",\"aaxis\":{\"gridcolor\":\"white\",\"linecolor\":\"white\",\"ticks\":\"\"},\"baxis\":{\"gridcolor\":\"white\",\"linecolor\":\"white\",\"ticks\":\"\"},\"caxis\":{\"gridcolor\":\"white\",\"linecolor\":\"white\",\"ticks\":\"\"}},\"coloraxis\":{\"colorbar\":{\"outlinewidth\":0,\"ticks\":\"\"}},\"colorscale\":{\"sequential\":[[0.0,\"#0d0887\"],[0.1111111111111111,\"#46039f\"],[0.2222222222222222,\"#7201a8\"],[0.3333333333333333,\"#9c179e\"],[0.4444444444444444,\"#bd3786\"],[0.5555555555555556,\"#d8576b\"],[0.6666666666666666,\"#ed7953\"],[0.7777777777777778,\"#fb9f3a\"],[0.8888888888888888,\"#fdca26\"],[1.0,\"#f0f921\"]],\"sequentialminus\":[[0.0,\"#0d0887\"],[0.1111111111111111,\"#46039f\"],[0.2222222222222222,\"#7201a8\"],[0.3333333333333333,\"#9c179e\"],[0.4444444444444444,\"#bd3786\"],[0.5555555555555556,\"#d8576b\"],[0.6666666666666666,\"#ed7953\"],[0.7777777777777778,\"#fb9f3a\"],[0.8888888888888888,\"#fdca26\"],[1.0,\"#f0f921\"]],\"diverging\":[[0,\"#8e0152\"],[0.1,\"#c51b7d\"],[0.2,\"#de77ae\"],[0.3,\"#f1b6da\"],[0.4,\"#fde0ef\"],[0.5,\"#f7f7f7\"],[0.6,\"#e6f5d0\"],[0.7,\"#b8e186\"],[0.8,\"#7fbc41\"],[0.9,\"#4d9221\"],[1,\"#276419\"]]},\"xaxis\":{\"gridcolor\":\"white\",\"linecolor\":\"white\",\"ticks\":\"\",\"title\":{\"standoff\":15},\"zerolinecolor\":\"white\",\"automargin\":true,\"zerolinewidth\":2},\"yaxis\":{\"gridcolor\":\"white\",\"linecolor\":\"white\",\"ticks\":\"\",\"title\":{\"standoff\":15},\"zerolinecolor\":\"white\",\"automargin\":true,\"zerolinewidth\":2},\"scene\":{\"xaxis\":{\"backgroundcolor\":\"#E5ECF6\",\"gridcolor\":\"white\",\"linecolor\":\"white\",\"showbackground\":true,\"ticks\":\"\",\"zerolinecolor\":\"white\",\"gridwidth\":2},\"yaxis\":{\"backgroundcolor\":\"#E5ECF6\",\"gridcolor\":\"white\",\"linecolor\":\"white\",\"showbackground\":true,\"ticks\":\"\",\"zerolinecolor\":\"white\",\"gridwidth\":2},\"zaxis\":{\"backgroundcolor\":\"#E5ECF6\",\"gridcolor\":\"white\",\"linecolor\":\"white\",\"showbackground\":true,\"ticks\":\"\",\"zerolinecolor\":\"white\",\"gridwidth\":2}},\"shapedefaults\":{\"line\":{\"color\":\"#2a3f5f\"}},\"annotationdefaults\":{\"arrowcolor\":\"#2a3f5f\",\"arrowhead\":0,\"arrowwidth\":1},\"geo\":{\"bgcolor\":\"white\",\"landcolor\":\"#E5ECF6\",\"subunitcolor\":\"white\",\"showland\":true,\"showlakes\":true,\"lakecolor\":\"white\"},\"title\":{\"x\":0.05},\"mapbox\":{\"style\":\"light\"}}},\"annotations\":[{\"showarrow\":false,\"text\":\"Spearman Rank Correlation = 0.995\",\"x\":0.95,\"xref\":\"paper\",\"y\":0.1,\"yref\":\"paper\"}],\"title\":{\"text\":\"Actual vs. Predicted\"},\"height\":700},                        {\"responsive\": true}                    ).then(function(){\n",
              "                            \n",
              "var gd = document.getElementById('80fe9400-766e-49e0-ad8d-8a983a31b147');\n",
              "var x = new MutationObserver(function (mutations, observer) {{\n",
              "        var display = window.getComputedStyle(gd).display;\n",
              "        if (!display || display === 'none') {{\n",
              "            console.log([gd, 'removed!']);\n",
              "            Plotly.purge(gd);\n",
              "            observer.disconnect();\n",
              "        }}\n",
              "}});\n",
              "\n",
              "// Listen for the removal of the full notebook cells\n",
              "var notebookContainer = gd.closest('#notebook-container');\n",
              "if (notebookContainer) {{\n",
              "    x.observe(notebookContainer, {childList: true});\n",
              "}}\n",
              "\n",
              "// Listen for the clearing of the current output cell\n",
              "var outputEl = gd.closest('.output');\n",
              "if (outputEl) {{\n",
              "    x.observe(outputEl, {childList: true});\n",
              "}}\n",
              "\n",
              "                        })                };                            </script>        </div>\n",
              "</body>\n",
              "</html>"
            ]
          },
          "metadata": {}
        }
      ]
    },
    {
      "cell_type": "code",
      "source": [
        "r2_train = r2_score(y_train, y_pred_train)\n",
        "r2_val = r2_score(y_val, y_pred_val)\n",
        "r2_test = r2_score(y_test, pred3)\n",
        "print('r2 score for train is', r2_train)\n",
        "print('r2 score for val is', r2_val)\n",
        "print('r2 score for test is', r2_test)"
      ],
      "metadata": {
        "id": "lnYMqG9-0GPb",
        "colab": {
          "base_uri": "https://localhost:8080/"
        },
        "outputId": "26fa6088-19c5-4d45-8f72-d0c0736a7a1e"
      },
      "execution_count": null,
      "outputs": [
        {
          "output_type": "stream",
          "name": "stdout",
          "text": [
            "r2 score for train is 0.9924098344859508\n",
            "r2 score for val is 0.9932823690855941\n",
            "r2 score for test is 0.9928121864469538\n"
          ]
        }
      ]
    },
    {
      "cell_type": "code",
      "source": [
        "print('Mean Absolute Error Train:', metrics.mean_absolute_error(y_train, y_pred_train))\n",
        "print('Mean Absolute Error Val:', metrics.mean_absolute_error(y_val, y_pred_val))\n",
        "print('Mean Absolute Error Test:', metrics.mean_absolute_error(y_test, pred3))"
      ],
      "metadata": {
        "id": "8L2Beihu0GPb",
        "colab": {
          "base_uri": "https://localhost:8080/"
        },
        "outputId": "09b69fea-ccdf-4f0b-ad29-214f64314615"
      },
      "execution_count": null,
      "outputs": [
        {
          "output_type": "stream",
          "name": "stdout",
          "text": [
            "Mean Absolute Error Train: 0.1436972944217904\n",
            "Mean Absolute Error Val: 0.13897981267007062\n",
            "Mean Absolute Error Test: 0.14828002580351357\n"
          ]
        }
      ]
    },
    {
      "cell_type": "code",
      "source": [],
      "metadata": {
        "id": "IpPFZszK0GPb"
      },
      "execution_count": null,
      "outputs": []
    },
    {
      "cell_type": "code",
      "source": [],
      "metadata": {
        "id": "g5auw-8Jz8ji"
      },
      "execution_count": null,
      "outputs": []
    },
    {
      "cell_type": "markdown",
      "source": [
        "## Model 4"
      ],
      "metadata": {
        "id": "shfGStcv0MRh"
      }
    },
    {
      "cell_type": "code",
      "source": [
        "# Split the data into train and validation set\n",
        "train_df_new, rem_df = train_test_split(train_df, train_size=0.8,random_state=99)\n",
        "\n",
        "val_df, test_df = train_test_split(rem_df, test_size=0.5,random_state=101)"
      ],
      "metadata": {
        "id": "t02U3MGp0MRi"
      },
      "execution_count": null,
      "outputs": []
    },
    {
      "cell_type": "code",
      "source": [
        "X_train = train_df.drop(columns=['tm'])\n",
        "y_train = train_df['tm']\n",
        "\n",
        "X_val = val_df.drop(columns=['tm'])\n",
        "y_val = val_df['tm']\n",
        "\n",
        "X_test = test_df.drop(columns=['tm'])\n",
        "y_test = test_df['tm']\n"
      ],
      "metadata": {
        "id": "fGq8THr50MRi"
      },
      "execution_count": null,
      "outputs": []
    },
    {
      "cell_type": "code",
      "source": [
        "#XGBoost Model\n",
        "model = XGBRegressor(learning_rate=0.1, max_depth=8, n_estimators=200, tree_method=\"gpu_hist\",random_state=99)\n",
        "model.fit(X_train, y_train)"
      ],
      "metadata": {
        "id": "Qo4_Y_eP0MRi",
        "colab": {
          "base_uri": "https://localhost:8080/",
          "height": 248
        },
        "outputId": "6d76bd6a-2ae3-4554-f2a3-e67e9e4937e7"
      },
      "execution_count": null,
      "outputs": [
        {
          "output_type": "execute_result",
          "data": {
            "text/plain": [
              "XGBRegressor(base_score=None, booster=None, callbacks=None,\n",
              "             colsample_bylevel=None, colsample_bynode=None,\n",
              "             colsample_bytree=None, early_stopping_rounds=None,\n",
              "             enable_categorical=False, eval_metric=None, feature_types=None,\n",
              "             gamma=None, gpu_id=None, grow_policy=None, importance_type=None,\n",
              "             interaction_constraints=None, learning_rate=0.1, max_bin=None,\n",
              "             max_cat_threshold=None, max_cat_to_onehot=None,\n",
              "             max_delta_step=None, max_depth=8, max_leaves=None,\n",
              "             min_child_weight=None, missing=nan, monotone_constraints=None,\n",
              "             n_estimators=200, n_jobs=None, num_parallel_tree=None,\n",
              "             predictor=None, random_state=99, ...)"
            ],
            "text/html": [
              "<style>#sk-container-id-7 {color: black;background-color: white;}#sk-container-id-7 pre{padding: 0;}#sk-container-id-7 div.sk-toggleable {background-color: white;}#sk-container-id-7 label.sk-toggleable__label {cursor: pointer;display: block;width: 100%;margin-bottom: 0;padding: 0.3em;box-sizing: border-box;text-align: center;}#sk-container-id-7 label.sk-toggleable__label-arrow:before {content: \"▸\";float: left;margin-right: 0.25em;color: #696969;}#sk-container-id-7 label.sk-toggleable__label-arrow:hover:before {color: black;}#sk-container-id-7 div.sk-estimator:hover label.sk-toggleable__label-arrow:before {color: black;}#sk-container-id-7 div.sk-toggleable__content {max-height: 0;max-width: 0;overflow: hidden;text-align: left;background-color: #f0f8ff;}#sk-container-id-7 div.sk-toggleable__content pre {margin: 0.2em;color: black;border-radius: 0.25em;background-color: #f0f8ff;}#sk-container-id-7 input.sk-toggleable__control:checked~div.sk-toggleable__content {max-height: 200px;max-width: 100%;overflow: auto;}#sk-container-id-7 input.sk-toggleable__control:checked~label.sk-toggleable__label-arrow:before {content: \"▾\";}#sk-container-id-7 div.sk-estimator input.sk-toggleable__control:checked~label.sk-toggleable__label {background-color: #d4ebff;}#sk-container-id-7 div.sk-label input.sk-toggleable__control:checked~label.sk-toggleable__label {background-color: #d4ebff;}#sk-container-id-7 input.sk-hidden--visually {border: 0;clip: rect(1px 1px 1px 1px);clip: rect(1px, 1px, 1px, 1px);height: 1px;margin: -1px;overflow: hidden;padding: 0;position: absolute;width: 1px;}#sk-container-id-7 div.sk-estimator {font-family: monospace;background-color: #f0f8ff;border: 1px dotted black;border-radius: 0.25em;box-sizing: border-box;margin-bottom: 0.5em;}#sk-container-id-7 div.sk-estimator:hover {background-color: #d4ebff;}#sk-container-id-7 div.sk-parallel-item::after {content: \"\";width: 100%;border-bottom: 1px solid gray;flex-grow: 1;}#sk-container-id-7 div.sk-label:hover label.sk-toggleable__label {background-color: #d4ebff;}#sk-container-id-7 div.sk-serial::before {content: \"\";position: absolute;border-left: 1px solid gray;box-sizing: border-box;top: 0;bottom: 0;left: 50%;z-index: 0;}#sk-container-id-7 div.sk-serial {display: flex;flex-direction: column;align-items: center;background-color: white;padding-right: 0.2em;padding-left: 0.2em;position: relative;}#sk-container-id-7 div.sk-item {position: relative;z-index: 1;}#sk-container-id-7 div.sk-parallel {display: flex;align-items: stretch;justify-content: center;background-color: white;position: relative;}#sk-container-id-7 div.sk-item::before, #sk-container-id-7 div.sk-parallel-item::before {content: \"\";position: absolute;border-left: 1px solid gray;box-sizing: border-box;top: 0;bottom: 0;left: 50%;z-index: -1;}#sk-container-id-7 div.sk-parallel-item {display: flex;flex-direction: column;z-index: 1;position: relative;background-color: white;}#sk-container-id-7 div.sk-parallel-item:first-child::after {align-self: flex-end;width: 50%;}#sk-container-id-7 div.sk-parallel-item:last-child::after {align-self: flex-start;width: 50%;}#sk-container-id-7 div.sk-parallel-item:only-child::after {width: 0;}#sk-container-id-7 div.sk-dashed-wrapped {border: 1px dashed gray;margin: 0 0.4em 0.5em 0.4em;box-sizing: border-box;padding-bottom: 0.4em;background-color: white;}#sk-container-id-7 div.sk-label label {font-family: monospace;font-weight: bold;display: inline-block;line-height: 1.2em;}#sk-container-id-7 div.sk-label-container {text-align: center;}#sk-container-id-7 div.sk-container {/* jupyter's `normalize.less` sets `[hidden] { display: none; }` but bootstrap.min.css set `[hidden] { display: none !important; }` so we also need the `!important` here to be able to override the default hidden behavior on the sphinx rendered scikit-learn.org. See: https://github.com/scikit-learn/scikit-learn/issues/21755 */display: inline-block !important;position: relative;}#sk-container-id-7 div.sk-text-repr-fallback {display: none;}</style><div id=\"sk-container-id-7\" class=\"sk-top-container\"><div class=\"sk-text-repr-fallback\"><pre>XGBRegressor(base_score=None, booster=None, callbacks=None,\n",
              "             colsample_bylevel=None, colsample_bynode=None,\n",
              "             colsample_bytree=None, early_stopping_rounds=None,\n",
              "             enable_categorical=False, eval_metric=None, feature_types=None,\n",
              "             gamma=None, gpu_id=None, grow_policy=None, importance_type=None,\n",
              "             interaction_constraints=None, learning_rate=0.1, max_bin=None,\n",
              "             max_cat_threshold=None, max_cat_to_onehot=None,\n",
              "             max_delta_step=None, max_depth=8, max_leaves=None,\n",
              "             min_child_weight=None, missing=nan, monotone_constraints=None,\n",
              "             n_estimators=200, n_jobs=None, num_parallel_tree=None,\n",
              "             predictor=None, random_state=99, ...)</pre><b>In a Jupyter environment, please rerun this cell to show the HTML representation or trust the notebook. <br />On GitHub, the HTML representation is unable to render, please try loading this page with nbviewer.org.</b></div><div class=\"sk-container\" hidden><div class=\"sk-item\"><div class=\"sk-estimator sk-toggleable\"><input class=\"sk-toggleable__control sk-hidden--visually\" id=\"sk-estimator-id-7\" type=\"checkbox\" checked><label for=\"sk-estimator-id-7\" class=\"sk-toggleable__label sk-toggleable__label-arrow\">XGBRegressor</label><div class=\"sk-toggleable__content\"><pre>XGBRegressor(base_score=None, booster=None, callbacks=None,\n",
              "             colsample_bylevel=None, colsample_bynode=None,\n",
              "             colsample_bytree=None, early_stopping_rounds=None,\n",
              "             enable_categorical=False, eval_metric=None, feature_types=None,\n",
              "             gamma=None, gpu_id=None, grow_policy=None, importance_type=None,\n",
              "             interaction_constraints=None, learning_rate=0.1, max_bin=None,\n",
              "             max_cat_threshold=None, max_cat_to_onehot=None,\n",
              "             max_delta_step=None, max_depth=8, max_leaves=None,\n",
              "             min_child_weight=None, missing=nan, monotone_constraints=None,\n",
              "             n_estimators=200, n_jobs=None, num_parallel_tree=None,\n",
              "             predictor=None, random_state=99, ...)</pre></div></div></div></div></div>"
            ]
          },
          "metadata": {},
          "execution_count": 88
        }
      ]
    },
    {
      "cell_type": "code",
      "source": [
        "rfecv = RFECV(estimator= model, step = 5, cv = 5, scoring='neg_mean_squared_error')\n",
        "rfecv = rfecv.fit(X_train, y_train)\n",
        "\n",
        "print(\"The optimal number of features:\", rfecv.n_features_)\n",
        "print('Selected features: %s' % list(X_train.columns[rfecv.support_]))\n",
        "\n",
        "best_features = list(X_train.columns[rfecv.support_])"
      ],
      "metadata": {
        "id": "UQwmsDXH0MRi",
        "colab": {
          "base_uri": "https://localhost:8080/"
        },
        "outputId": "3e3d6a9d-df48-4403-ee89-da57589d26b4"
      },
      "execution_count": null,
      "outputs": [
        {
          "output_type": "stream",
          "name": "stdout",
          "text": [
            "The optimal number of features: 27\n",
            "Selected features: ['pH', 'A', 'C', 'D', 'E', 'F', 'G', 'H', 'I', 'K', 'L', 'M', 'N', 'P', 'Q', 'R', 'S', 'T', 'V', 'W', 'Y', 'Aromaticity', 'Molecular Weight', 'Instability Index', 'Hydrophobicity', 'Isoelectric Point', 'Charge']\n"
          ]
        }
      ]
    },
    {
      "cell_type": "code",
      "source": [
        "X_train_new = X_train[best_features]\n",
        "X_val_new = X_val[best_features]\n",
        "X_test_new = X_test[best_features]"
      ],
      "metadata": {
        "id": "hvvCnUlZ0MRi"
      },
      "execution_count": null,
      "outputs": []
    },
    {
      "cell_type": "code",
      "source": [
        "model4 = XGBRegressor(learning_rate=0.1, max_depth=20, n_estimators=250, tree_method=\"gpu_hist\",random_state=123)\n",
        "model4.fit(X_train_new, y_train)"
      ],
      "metadata": {
        "id": "ry5yroes0MRi",
        "colab": {
          "base_uri": "https://localhost:8080/",
          "height": 248
        },
        "outputId": "34b10ae0-d45c-40bf-f294-a996305d85a1"
      },
      "execution_count": null,
      "outputs": [
        {
          "output_type": "execute_result",
          "data": {
            "text/plain": [
              "XGBRegressor(base_score=None, booster=None, callbacks=None,\n",
              "             colsample_bylevel=None, colsample_bynode=None,\n",
              "             colsample_bytree=None, early_stopping_rounds=None,\n",
              "             enable_categorical=False, eval_metric=None, feature_types=None,\n",
              "             gamma=None, gpu_id=None, grow_policy=None, importance_type=None,\n",
              "             interaction_constraints=None, learning_rate=0.1, max_bin=None,\n",
              "             max_cat_threshold=None, max_cat_to_onehot=None,\n",
              "             max_delta_step=None, max_depth=20, max_leaves=None,\n",
              "             min_child_weight=None, missing=nan, monotone_constraints=None,\n",
              "             n_estimators=250, n_jobs=None, num_parallel_tree=None,\n",
              "             predictor=None, random_state=123, ...)"
            ],
            "text/html": [
              "<style>#sk-container-id-8 {color: black;background-color: white;}#sk-container-id-8 pre{padding: 0;}#sk-container-id-8 div.sk-toggleable {background-color: white;}#sk-container-id-8 label.sk-toggleable__label {cursor: pointer;display: block;width: 100%;margin-bottom: 0;padding: 0.3em;box-sizing: border-box;text-align: center;}#sk-container-id-8 label.sk-toggleable__label-arrow:before {content: \"▸\";float: left;margin-right: 0.25em;color: #696969;}#sk-container-id-8 label.sk-toggleable__label-arrow:hover:before {color: black;}#sk-container-id-8 div.sk-estimator:hover label.sk-toggleable__label-arrow:before {color: black;}#sk-container-id-8 div.sk-toggleable__content {max-height: 0;max-width: 0;overflow: hidden;text-align: left;background-color: #f0f8ff;}#sk-container-id-8 div.sk-toggleable__content pre {margin: 0.2em;color: black;border-radius: 0.25em;background-color: #f0f8ff;}#sk-container-id-8 input.sk-toggleable__control:checked~div.sk-toggleable__content {max-height: 200px;max-width: 100%;overflow: auto;}#sk-container-id-8 input.sk-toggleable__control:checked~label.sk-toggleable__label-arrow:before {content: \"▾\";}#sk-container-id-8 div.sk-estimator input.sk-toggleable__control:checked~label.sk-toggleable__label {background-color: #d4ebff;}#sk-container-id-8 div.sk-label input.sk-toggleable__control:checked~label.sk-toggleable__label {background-color: #d4ebff;}#sk-container-id-8 input.sk-hidden--visually {border: 0;clip: rect(1px 1px 1px 1px);clip: rect(1px, 1px, 1px, 1px);height: 1px;margin: -1px;overflow: hidden;padding: 0;position: absolute;width: 1px;}#sk-container-id-8 div.sk-estimator {font-family: monospace;background-color: #f0f8ff;border: 1px dotted black;border-radius: 0.25em;box-sizing: border-box;margin-bottom: 0.5em;}#sk-container-id-8 div.sk-estimator:hover {background-color: #d4ebff;}#sk-container-id-8 div.sk-parallel-item::after {content: \"\";width: 100%;border-bottom: 1px solid gray;flex-grow: 1;}#sk-container-id-8 div.sk-label:hover label.sk-toggleable__label {background-color: #d4ebff;}#sk-container-id-8 div.sk-serial::before {content: \"\";position: absolute;border-left: 1px solid gray;box-sizing: border-box;top: 0;bottom: 0;left: 50%;z-index: 0;}#sk-container-id-8 div.sk-serial {display: flex;flex-direction: column;align-items: center;background-color: white;padding-right: 0.2em;padding-left: 0.2em;position: relative;}#sk-container-id-8 div.sk-item {position: relative;z-index: 1;}#sk-container-id-8 div.sk-parallel {display: flex;align-items: stretch;justify-content: center;background-color: white;position: relative;}#sk-container-id-8 div.sk-item::before, #sk-container-id-8 div.sk-parallel-item::before {content: \"\";position: absolute;border-left: 1px solid gray;box-sizing: border-box;top: 0;bottom: 0;left: 50%;z-index: -1;}#sk-container-id-8 div.sk-parallel-item {display: flex;flex-direction: column;z-index: 1;position: relative;background-color: white;}#sk-container-id-8 div.sk-parallel-item:first-child::after {align-self: flex-end;width: 50%;}#sk-container-id-8 div.sk-parallel-item:last-child::after {align-self: flex-start;width: 50%;}#sk-container-id-8 div.sk-parallel-item:only-child::after {width: 0;}#sk-container-id-8 div.sk-dashed-wrapped {border: 1px dashed gray;margin: 0 0.4em 0.5em 0.4em;box-sizing: border-box;padding-bottom: 0.4em;background-color: white;}#sk-container-id-8 div.sk-label label {font-family: monospace;font-weight: bold;display: inline-block;line-height: 1.2em;}#sk-container-id-8 div.sk-label-container {text-align: center;}#sk-container-id-8 div.sk-container {/* jupyter's `normalize.less` sets `[hidden] { display: none; }` but bootstrap.min.css set `[hidden] { display: none !important; }` so we also need the `!important` here to be able to override the default hidden behavior on the sphinx rendered scikit-learn.org. See: https://github.com/scikit-learn/scikit-learn/issues/21755 */display: inline-block !important;position: relative;}#sk-container-id-8 div.sk-text-repr-fallback {display: none;}</style><div id=\"sk-container-id-8\" class=\"sk-top-container\"><div class=\"sk-text-repr-fallback\"><pre>XGBRegressor(base_score=None, booster=None, callbacks=None,\n",
              "             colsample_bylevel=None, colsample_bynode=None,\n",
              "             colsample_bytree=None, early_stopping_rounds=None,\n",
              "             enable_categorical=False, eval_metric=None, feature_types=None,\n",
              "             gamma=None, gpu_id=None, grow_policy=None, importance_type=None,\n",
              "             interaction_constraints=None, learning_rate=0.1, max_bin=None,\n",
              "             max_cat_threshold=None, max_cat_to_onehot=None,\n",
              "             max_delta_step=None, max_depth=20, max_leaves=None,\n",
              "             min_child_weight=None, missing=nan, monotone_constraints=None,\n",
              "             n_estimators=250, n_jobs=None, num_parallel_tree=None,\n",
              "             predictor=None, random_state=123, ...)</pre><b>In a Jupyter environment, please rerun this cell to show the HTML representation or trust the notebook. <br />On GitHub, the HTML representation is unable to render, please try loading this page with nbviewer.org.</b></div><div class=\"sk-container\" hidden><div class=\"sk-item\"><div class=\"sk-estimator sk-toggleable\"><input class=\"sk-toggleable__control sk-hidden--visually\" id=\"sk-estimator-id-8\" type=\"checkbox\" checked><label for=\"sk-estimator-id-8\" class=\"sk-toggleable__label sk-toggleable__label-arrow\">XGBRegressor</label><div class=\"sk-toggleable__content\"><pre>XGBRegressor(base_score=None, booster=None, callbacks=None,\n",
              "             colsample_bylevel=None, colsample_bynode=None,\n",
              "             colsample_bytree=None, early_stopping_rounds=None,\n",
              "             enable_categorical=False, eval_metric=None, feature_types=None,\n",
              "             gamma=None, gpu_id=None, grow_policy=None, importance_type=None,\n",
              "             interaction_constraints=None, learning_rate=0.1, max_bin=None,\n",
              "             max_cat_threshold=None, max_cat_to_onehot=None,\n",
              "             max_delta_step=None, max_depth=20, max_leaves=None,\n",
              "             min_child_weight=None, missing=nan, monotone_constraints=None,\n",
              "             n_estimators=250, n_jobs=None, num_parallel_tree=None,\n",
              "             predictor=None, random_state=123, ...)</pre></div></div></div></div></div>"
            ]
          },
          "metadata": {},
          "execution_count": 91
        }
      ]
    },
    {
      "cell_type": "code",
      "source": [
        "y_pred_train = model4.predict(X_train_new)\n",
        "y_pred_val = model4.predict(X_val_new)\n",
        "\n",
        "mse_train=mean_squared_error(y_train, y_pred_train)\n",
        "mse_val=mean_squared_error(y_val, y_pred_val)\n",
        "\n",
        "print(\"Root Mean Squared error on Train data is:\",math.sqrt(mse_train))\n",
        "print(\"Root Mean Squared error on Val data is:\",math.sqrt(mse_val))"
      ],
      "metadata": {
        "id": "_woPXgHQ0MRi",
        "colab": {
          "base_uri": "https://localhost:8080/"
        },
        "outputId": "7a2e48c2-bed4-4a0b-a60b-dba4a2094f8c"
      },
      "execution_count": null,
      "outputs": [
        {
          "output_type": "stream",
          "name": "stdout",
          "text": [
            "Root Mean Squared error on Train data is: 1.0510422638776984\n",
            "Root Mean Squared error on Val data is: 0.7799844450407125\n"
          ]
        }
      ]
    },
    {
      "cell_type": "code",
      "source": [
        "# Results with the best model\n",
        "pred4 = model4.predict(X_test_new)\n",
        "mse_test=mean_squared_error(y_test, pred4)\n",
        "print(\"Root Mean Squared error on Test data is:\",math.sqrt(mse_test))"
      ],
      "metadata": {
        "id": "y7-WdMh10MRj",
        "colab": {
          "base_uri": "https://localhost:8080/"
        },
        "outputId": "e170819e-01b0-43ca-b135-25cadaeb19b6"
      },
      "execution_count": null,
      "outputs": [
        {
          "output_type": "stream",
          "name": "stdout",
          "text": [
            "Root Mean Squared error on Test data is: 1.104675751969522\n"
          ]
        }
      ]
    },
    {
      "cell_type": "code",
      "source": [
        "spearmanr(y_test, pred4)"
      ],
      "metadata": {
        "id": "R8U05ipc0MRj",
        "colab": {
          "base_uri": "https://localhost:8080/"
        },
        "outputId": "111a9714-caf3-4706-9c22-b6ea71e5b6e5"
      },
      "execution_count": null,
      "outputs": [
        {
          "output_type": "execute_result",
          "data": {
            "text/plain": [
              "SignificanceResult(statistic=0.9949242080998096, pvalue=0.0)"
            ]
          },
          "metadata": {},
          "execution_count": 94
        }
      ]
    },
    {
      "cell_type": "code",
      "source": [
        "eval_df = pd.DataFrame({\"Actual\": y_test.values, \"Predicted\": pred4})\n",
        "spearmanr_val = spearmanr(eval_df[\"Actual\"], eval_df[\"Predicted\"])"
      ],
      "metadata": {
        "id": "QV6rh2hx0MRj"
      },
      "execution_count": null,
      "outputs": []
    },
    {
      "cell_type": "code",
      "source": [
        "fig = go.Figure()\n",
        "\n",
        "fig.add_trace(\n",
        "    go.Scattergl(\n",
        "        x=eval_df[\"Actual\"],\n",
        "        y=eval_df[\"Predicted\"],\n",
        "        name='Actual vs. Predicted',\n",
        "        mode='markers'\n",
        "    )\n",
        ")\n",
        "\n",
        "fig.add_annotation(\n",
        "    x=0.95,\n",
        "    y=0.10,\n",
        "    xref='paper',\n",
        "    yref='paper',\n",
        "    text='Spearman Rank Correlation = {:.3f}'.format(spearmanr_val.correlation),\n",
        "    showarrow=False\n",
        ")\n",
        "\n",
        "fig.update_layout(\n",
        "    title='Actual vs. Predicted',\n",
        "    height=700\n",
        ")\n",
        "\n",
        "fig.show()"
      ],
      "metadata": {
        "id": "UYef2Chh0MRj",
        "colab": {
          "base_uri": "https://localhost:8080/",
          "height": 717
        },
        "outputId": "4637349e-59fa-44a1-8b1d-6a2c19a5235a"
      },
      "execution_count": null,
      "outputs": [
        {
          "output_type": "display_data",
          "data": {
            "text/html": [
              "<html>\n",
              "<head><meta charset=\"utf-8\" /></head>\n",
              "<body>\n",
              "    <div>            <script src=\"https://cdnjs.cloudflare.com/ajax/libs/mathjax/2.7.5/MathJax.js?config=TeX-AMS-MML_SVG\"></script><script type=\"text/javascript\">if (window.MathJax && window.MathJax.Hub && window.MathJax.Hub.Config) {window.MathJax.Hub.Config({SVG: {font: \"STIX-Web\"}});}</script>                <script type=\"text/javascript\">window.PlotlyConfig = {MathJaxConfig: 'local'};</script>\n",
              "        <script src=\"https://cdn.plot.ly/plotly-2.18.2.min.js\"></script>                <div id=\"cbb5b9e0-d4d7-4d65-9e71-18037e2a1697\" class=\"plotly-graph-div\" style=\"height:700px; width:100%;\"></div>            <script type=\"text/javascript\">                                    window.PLOTLYENV=window.PLOTLYENV || {};                                    if (document.getElementById(\"cbb5b9e0-d4d7-4d65-9e71-18037e2a1697\")) {                    Plotly.newPlot(                        \"cbb5b9e0-d4d7-4d65-9e71-18037e2a1697\",                        [{\"mode\":\"markers\",\"name\":\"Actual vs. Predicted\",\"x\":[46.0,43.9,46.2,38.4,49.4,47.8,72.4,52.8,35.0,47.6,42.9,51.5,48.8,62.9,50.9,40.1,67.1,46.5,43.7,48.5,62.0,43.4,47.3,57.7,49.5,50.5,70.9,44.0,44.5,37.6,53.4,68.6,44.0,39.9,48.8,52.0,46.3,65.9,39.5,41.8,42.8,51.2,55.2,47.5,51.7,46.9,55.0,45.9,47.0,61.5,65.4,50.2,45.5,40.1,70.1,61.0,51.7,37.0,47.9,79.0,82.5,40.8,47.6,75.1,48.5,34.9,56.0,39.0,45.6,39.1,44.3,53.4,51.9,47.4,44.1,43.8,46.4,43.0,57.8,48.0,43.1,61.0,52.1,79.2,65.2,47.8,53.5,37.5,47.1,47.9,50.4,66.6,41.6,60.8,88.2,43.3,43.1,48.3,49.4,38.9,49.6,58.7,36.5,51.7,44.5,40.6,58.8,53.1,42.1,55.2,36.0,41.2,48.1,41.4,56.2,83.5,47.2,39.3,50.6,83.4,52.5,57.4,61.5,55.9,33.9,53.6,44.9,46.2,52.7,43.9,35.1,51.2,44.8,57.9,50.4,37.7,55.9,44.0,63.9,48.6,49.4,57.8,57.2,49.8,45.0,48.1,84.7,40.0,44.7,44.6,47.7,55.3,51.0,53.6,40.6,37.9,44.3,40.7,48.1,71.2,50.8,40.9,45.6,77.8,57.8,46.2,42.2,52.1,43.2,56.7,45.2,50.7,75.3,55.6,49.6,49.7,38.8,70.9,47.3,41.5,45.1,42.2,51.6,42.9,66.3,48.9,52.2,45.1,50.4,45.7,86.8,66.8,38.9,51.2,43.6,89.7,86.7,49.5,41.6,86.7,49.4,39.6,53.8,49.3,56.3,43.8,39.0,47.3,58.0,50.3,64.2,77.1,54.9,49.4,87.5,48.8,60.0,47.7,52.4,37.9,52.3,37.6,46.9,40.4,40.0,48.6,52.2,44.5,49.1,75.6,39.1,54.1,52.4,65.5,73.2,39.0,38.4,73.4,86.1,71.8,59.6,37.1,52.0,49.7,45.8,57.7,48.5,39.8,35.4,44.2,49.0,48.5,41.9,39.9,48.2,41.4,79.9,60.5,55.0,49.9,73.4,37.8,53.2,55.5,40.3,34.9,50.2,36.7,40.0,43.7,48.7,55.4,44.4,61.2,38.4,43.0,40.0,38.3,40.0,50.7,40.6,33.1,65.0,52.0,52.8,75.8,41.4,43.1,65.1,77.4,51.2,75.4,51.0,50.2,51.3,47.3,46.3,40.0,64.7,44.1,35.6,50.9,55.1,42.0,44.4,52.0,46.1,44.8,39.6,42.0,50.0,80.8,54.2,47.2,89.0,58.3,42.8,40.9,48.9,37.2,45.4,49.4,46.9,50.6,48.5,44.3,43.1,62.5,62.9,47.0,43.6,46.0,47.8,39.2,47.8,48.0,54.0,38.5,38.9,58.2,80.9,65.0,54.1,55.0,53.8,42.3,44.5,85.4,51.7,37.8,47.9,41.9,97.9,48.0,53.9,50.2,48.4,51.4,31.2,40.0,59.1,43.6,61.0,73.7,37.8,65.3,46.6,67.7,40.4,38.8,37.6,54.8,57.0,59.2,54.0,38.8,45.1,74.3,53.3,42.7,44.5,47.6,38.1,36.1,57.8,45.2,62.0,84.6,52.9,47.9,44.7,57.4,42.9,41.0,47.6,42.3,74.8,67.0,54.4,36.2,42.2,65.7,47.8,43.6,44.6,40.2,41.8,53.9,50.1,53.3,55.0,47.6,52.4,53.7,39.7,52.8,44.0,46.7,52.4,70.6,40.0,70.0,43.3,49.8,44.9,44.3,49.3,41.8,51.4,49.6,62.0,39.9,51.2,49.2,52.9,57.6,58.1,50.9,53.0,42.9,46.5,51.2,47.8,49.8,49.4,42.0,58.8,43.6,53.4,56.0,63.5,49.2,64.7,59.2,52.2,40.8,42.7,48.4,46.4,41.8,46.2,51.5,41.9,70.3,55.5,47.3,86.1,54.9,36.6,78.4,48.5,36.8,42.2,38.4,55.1,40.7,48.4,58.5,44.5,47.8,28.0,71.6,42.6,45.8,43.5,49.4,49.6,41.8,48.4,66.7,50.1,36.0,44.9,60.3,50.0,48.9,48.1,48.3,44.9,43.7,73.1,59.0,44.9,50.1,37.3,53.7,36.9,59.1,81.7,48.4,76.5,50.1,47.8,54.5,54.4,56.2,48.8,48.9,83.3,45.5,46.0,37.6,45.8,52.4,62.2,51.5,41.7,42.5,63.5,56.7,45.2,46.5,40.0,58.9,46.8,47.3,46.7,79.8,67.7,55.5,54.4,53.2,69.7,51.7,40.4,46.0,42.1,78.7,44.8,55.8,49.3,42.4,37.2,53.9,53.5,42.0,52.0,39.3,30.0,47.1,48.8,48.7,41.0,50.6,37.2,54.4,50.6,41.2,54.4,51.0,42.9,37.8,53.6,51.6,46.2,56.0,50.5,41.1,59.4,43.7,39.4,62.6,50.3,55.6,78.9,64.1,50.1,48.0,36.2,44.0,35.6,51.9,37.1,52.5,43.3,66.1,63.3,44.4,62.8,59.2,39.9,44.6,39.5,38.5,47.6,69.1,42.2,42.3,66.1,54.5,46.2,51.5,54.3,67.4,35.9,42.6,75.1,41.9,51.8,73.5,45.5,56.2,53.9,51.0,41.6,49.5,46.1,61.7,36.6,52.8,56.9,96.4,43.3,42.0,48.3,69.7,56.6,41.5,58.4,44.6,52.0,42.1,60.6,57.6,44.5,42.9,78.1,58.2,39.9,45.1,43.3,46.8,52.2,89.3,39.0,69.3,63.0,51.6,57.4,47.1,46.9,49.0,54.0,45.3,64.1,47.8,60.0,48.1,41.1,35.0,54.3,37.0,50.1,42.7,84.5,42.0,60.9,46.5,50.5,39.5,52.3,65.0,46.5,58.0,60.9,46.4,52.7,48.5,42.2,46.1,41.0,55.4,54.3,59.5,44.1,41.2,74.2,49.3,48.3,54.9,50.9,79.6,41.2,89.1,38.2,44.7,43.2,52.3,51.9,48.3,55.9,35.6,39.9,51.3,44.5,45.8,55.7,39.2,51.0,82.5,42.2,67.9,50.0,72.3,67.2,50.5,44.3,52.9,45.5,48.6,44.6,32.2,54.2,62.9,40.0,39.3,43.1,59.9,54.7,52.4,66.8,63.0,50.3,38.2,34.4,35.5,53.2,40.1,55.8,50.1,49.3,61.6,70.2,40.3,42.5,28.0,45.4,48.9,47.8,45.4,44.9,43.2,93.2,46.2,51.1,47.4,37.1,41.1,43.4,40.3,44.2,69.0,65.2,47.8,41.4,39.9,45.5,48.7,54.7,63.6,37.6,46.2,38.3,47.9,39.2,45.5,50.6,52.6,45.2,57.3,88.3,41.8,50.9,43.2,52.8,58.6,50.9,51.3,68.4,42.1,48.4,85.9,86.2,41.0,42.6,47.4,50.9,92.2,48.7,41.9,43.7,71.7,49.8,66.1,49.0,45.3,47.6,48.3,66.0,47.5,71.8,42.6,44.6,48.3,87.5,36.7,41.8,54.5,66.4,73.0,69.2,75.1,72.7,49.0,52.8,75.7,74.6,43.5,46.8,82.6,36.9,40.0,47.5,62.2,40.5,46.2,63.3,53.0,42.6,45.0,36.9,47.7,45.7,49.5,45.2,72.3,49.9,43.7,39.9,40.4,63.8,32.6,50.7,40.4,38.6,40.0,67.0,76.8,38.4,49.4,43.4,43.6,49.4,46.7,48.1,57.1,44.9,45.3,41.2,63.5,50.4,41.8,46.3,48.6,58.7,65.4,57.4,77.9,59.4,78.9,56.2,82.2,42.2,48.1,49.8,55.2,53.1,49.0,52.1,48.2,44.8,44.7,37.7,38.4,46.2,84.4,37.2,38.2,47.2,56.0,50.7,43.4,48.7,63.8,48.6,49.3,66.3,42.9,42.2,39.7,30.7,49.0,41.2,40.0,44.4,39.7,50.5,57.8,51.2,50.8,40.5,35.0,35.5,38.8,64.6,47.8,43.5,53.0,87.4,46.9,40.5,51.1,38.1,39.2,57.8,86.2,46.8,66.2,44.8,47.8,45.3,38.6,41.2,42.1,53.0,43.3,48.1,48.3,56.7,40.5,45.2,48.2,49.0,42.1,93.8,43.0,45.0,59.2,48.9,41.6,66.7,40.3,49.1,50.9,58.1,94.0,59.9,52.0,52.2,62.1,42.2,66.6,38.4,91.5,50.7,42.2,52.2,57.1,96.5,43.0,54.5,57.8,41.0,50.4,73.9,52.1,45.7,36.6,68.7,40.0,53.2,51.8,49.0,39.0,50.3,47.5,44.5,58.1,49.7,83.0,42.5,38.2,46.6,55.0,41.6,48.2,28.3,66.0,52.3,55.1,50.6,50.2,45.0,42.0,65.0,54.0,46.2,44.9,56.8,58.9,52.3,44.5,44.1,73.5,41.5,32.5,73.0,33.6,47.7,50.1,45.3,50.9,52.2,63.9,55.8,40.0,42.3,70.4,50.1,37.4,57.2,32.4,37.7,54.5,50.5,48.0,42.5,50.7,43.7,67.8,49.7,44.6,47.3,43.6,75.8,52.2,51.0,59.6,41.8,50.0,51.9,65.9,39.3,39.1,50.7,38.5,39.0,48.9,43.9,45.2,37.8,42.5,41.7,75.7,51.7,50.4,51.2,44.0,46.9,53.2,44.4,40.0,59.4,34.4,86.4,41.0,65.2,40.9,51.0,57.0,52.3,50.4,64.9,38.8,49.1,49.6,47.9,54.9,49.8,43.7,64.9,68.6,50.4,43.0,94.2,42.1,55.3,55.9,69.1,43.3,41.3,79.5,54.8,50.5,36.0,35.9,50.0,83.8,42.8,57.7,53.4,42.0,49.9,45.5,40.1,46.7,44.1,45.5,48.0,36.3,71.2,52.1,45.8,50.4,70.5,87.3,53.2,36.4,34.7,49.9,89.7,37.0,36.4,83.3,45.5,43.4,49.0,50.7,39.9,48.6,45.3,66.4,39.8,56.1,38.1,56.1,38.7,84.8,38.3,31.1,41.9,38.0,51.0,50.5,44.8,50.2,30.2,46.2,46.4,69.4,39.4,47.0,48.8,38.4,51.3,55.0,53.1,51.5,59.7,48.6,50.3,59.7,51.9,38.9,48.7,72.8,41.7,50.3,65.0,43.1,46.2,66.3,50.0,48.8,52.7,44.9,39.9,50.7,56.0,44.3,49.0,39.2,62.0,41.4,45.8,43.3,43.0,58.3,41.8,38.8,42.4,55.8,40.6,50.9,43.9,44.4,48.0,89.5,44.9,94.8,42.5,47.7,44.2,56.1,40.5,43.9,46.2,46.0,48.4,42.2,61.1,65.7,39.4,39.6,54.9,52.5,53.1,40.8,91.1,49.0,53.9,41.6,56.6,38.8,51.1,60.6,49.7,51.7,46.9,41.7,54.6,49.1,68.3,49.4,53.6,65.8,51.0,58.4,46.4,51.9,36.1,48.0,49.9,52.7,42.1,51.3,67.6,60.9,44.4,71.3,41.6,45.5,62.5,71.4,62.9,44.4,52.6,45.9,64.4,51.9,34.7,51.6,69.5,56.8,42.5,87.2,56.7,45.0,51.9,39.1,39.2,50.2,40.2,55.0,70.6,75.3,51.5,52.5,43.5,46.3,53.3,52.3,84.4,42.7,45.0,43.3,43.0,48.7,44.0,47.5,36.8,55.3,34.6,47.4,51.0,49.8,42.5,78.2,54.4,49.2,55.7,46.0,71.8,56.6,42.7,53.0,45.4,46.2,55.4,53.0,49.5,68.0,45.8,47.4,56.0,91.4,61.3,88.4,53.4,46.5,47.6,45.7,46.2,42.8,47.0,46.8,48.4,54.5,45.6,51.0,58.2,41.1,44.4,56.4,42.7,49.3,53.5,49.9,53.8,48.8,45.3,52.3,60.3,45.2,66.8,42.3,35.4,48.4,43.0,50.5,79.0,41.0,48.7,51.4,45.3,64.5,44.3,45.0,50.0,39.0,63.7,45.5,46.5,47.0,48.8,46.7,47.1,45.3,52.4,57.8,47.1,63.4,55.3,46.0,44.1,86.0,43.0,40.5,42.3,41.9,41.4,91.8,38.3,55.8,52.2,50.8,54.1,31.8,52.2,45.5,55.4,51.5,54.0,46.5,48.8,39.8,40.6,44.6,45.6,50.6,45.9,50.6,54.3,49.3,54.0,45.8,52.2,55.0,44.1,42.0,34.6,48.5,56.2,49.9,80.8,80.0,42.9,47.9,49.0,41.3,61.5,51.3,87.1,44.5,55.9,49.9,44.5,47.8,51.0,38.3,50.8,46.2,43.0,45.1,50.5,34.0,39.4,41.2,40.6,39.9,50.0,56.0,48.9,34.6,52.8,39.4,51.6,51.6,46.3,54.0,48.7,62.4,52.4,62.7,67.4,50.6,51.5,38.8,50.8,50.9,54.9,41.7,41.8,29.4,67.7,50.2,37.7,48.1,47.0,43.9,59.5,46.4,45.6,51.7,46.6,42.8,48.8,39.3,41.6,43.2,48.7,86.2,40.2,48.4,46.5,64.4,50.8,40.0,50.0,52.1,51.2,49.3,44.5,40.5,82.3,89.3,44.6,51.6,41.5,52.9,47.6,65.8,49.5,41.5,48.4,38.6,57.0,39.2,35.1,72.3,52.0,50.9,50.0,46.5,84.0,49.2,45.3,46.8,39.2,96.4,52.3,64.9,42.8,45.3,47.9,50.8,55.0,42.9,54.7,47.6,37.2,65.0,51.7,42.9,48.9,34.9,73.7,68.6,41.0,42.1,46.5,43.1,50.1,37.8,40.2,55.0,46.4,51.4,37.3,45.7,45.3,42.8,44.4,46.8,57.0,51.8,49.8,48.2,47.8,55.9,50.2,42.7,55.5,80.7,51.6,51.1,43.4,46.9,43.0,50.6,49.5,37.2,65.0,52.0,62.5,47.9,38.8,44.5,60.7,49.1,38.9,55.1,54.2,45.7,45.5,63.0,76.7,44.3,38.5,44.9,47.0,45.4,50.4,48.2,76.0,82.2,51.5,41.9,41.2,58.0,46.3,69.2,55.7,49.3,45.6,44.1,54.4,36.7,47.3,45.2,46.1,41.7,51.5,45.6,64.6,49.3,43.6,95.3,40.2,47.0,43.1,64.5,51.7,53.2,47.0,44.8,44.2,25.9,41.3,45.5,54.6,49.5,53.0,49.1,45.1,51.3,46.8,51.8,40.8,50.1,52.7,50.0,50.4,47.4,41.9,48.5,37.4,56.8,45.5,91.9,38.8,36.7,89.0,52.8,51.6,41.7,42.7,71.8,60.2,54.4,95.1,44.2,45.0,46.9,49.9,49.3,70.2,48.7,39.2,54.9,81.5,52.1,51.0,43.3,41.3,57.3,69.0,45.8,48.7,33.5,48.5,38.6,68.0,48.6,41.9,52.9,54.5,53.1,52.8,48.4,69.5,33.7,48.4,41.3,54.4,34.9,49.0,36.0,49.7,51.8,44.7,49.4,42.3,48.3,82.9,45.5,77.6,46.5,49.0,89.1,28.0,41.0,45.6,51.8,46.0,49.2,38.8,41.3,44.9,44.2,46.5,50.3,44.7,43.5,43.0,38.2,47.8,62.4,38.9,71.7,48.0,39.4,48.0,55.8,47.3,35.3,40.1,47.7,43.5,46.4,53.3,33.9,41.9,48.6,35.0,35.1,82.8,53.8,45.1,49.5,42.5,43.2,47.6,40.7,45.8,53.9,41.0,45.6,41.4,45.4,85.3,51.5,41.2,50.9,46.4,43.7,44.6,42.8,52.3,64.5,55.3,49.0,48.2,45.2,76.9,41.4,53.3,53.6,74.8,48.9,48.1,50.3,45.0,42.6,53.1,55.6,44.9,50.5,43.2,48.5,38.9,49.1,54.2,48.9,41.7,38.9,48.5,39.9,46.8,44.5,41.8,48.7,44.4,63.1,45.0,45.4,54.1,37.7,49.7,41.6,41.4,41.3,40.8,80.5,38.5,52.9,50.5,46.7,42.9,41.0,49.8,41.3,48.1,52.6,75.0,47.5,48.9,58.0,65.6,52.0,42.0,45.2,40.6,43.5,53.6,72.4,77.7,44.7,40.2,84.9,41.2,85.6,39.1,46.0,31.0,51.7,52.3,80.5,44.3,48.1,49.0,54.5,48.1,68.4,51.6,36.6,49.4,64.7,43.8,97.5,45.0,40.3,85.4,54.4,94.6,36.0,45.6,49.5,48.7,46.7,65.0,42.7,54.6,56.1,35.0,41.2,76.3,52.4,39.2,50.9,47.7,53.8,56.4,50.8,46.0,48.0,47.8,45.5,54.4,53.2,50.9,72.9,45.0,43.1,50.1,59.6,50.9,43.4,38.6,51.0,46.3,46.6,38.1,45.0,63.1,41.9,44.8,52.6,52.5,44.6,56.6,48.6,46.0,50.3,47.4,74.0,51.5,44.7,42.4,61.7,41.0,57.7,52.6,38.7,45.8,42.5,44.9,43.9,47.5,46.9,38.8,70.3,42.6,85.8,51.8,73.4,74.0,48.0,50.6,49.9,39.5,44.8,51.4,58.8,59.0,45.4,46.3,53.3,62.5,75.4,91.1,44.1,48.8,42.6,60.2,46.7,41.8,42.7,54.7,79.4,52.4,41.6,51.6,49.2,48.7,75.1,47.3,51.7,62.8,49.0,47.9,47.9,44.7,52.4,39.5,43.4,51.4,57.8,55.8,61.5,44.0,51.4,35.9,30.0,89.8,41.3,39.0,44.6,68.9,61.5,62.9,39.9,41.2,41.4,90.7,64.9,45.8,56.9,87.2,48.1,60.5,44.7,47.9,75.5,52.0,51.9,49.3,93.9,83.8,49.6,42.5,60.5,52.8,45.6,50.5,48.5,44.2,54.4,81.5,43.7,50.0,44.9,55.0,37.0,53.0,47.4,51.1,41.6,35.0,45.5,50.8,49.7,52.7,55.6,79.0,51.6,47.9,44.1,51.2,49.6,45.8,44.5,44.8,39.6,52.9,57.8,55.6,46.2,50.7,38.9,49.2,47.4,71.1,83.2,47.8,37.4,51.1,36.2,53.1,47.7,56.2,37.5,56.9,85.3,45.0,59.2,57.0,43.0,39.3,65.8,88.8,40.7,71.9,39.1,49.0,53.5,36.6,53.3,50.8,45.2,53.9,45.6,40.7,57.4,44.7,49.6,50.5,57.4,48.6,48.9,47.5,50.4,47.2,44.1,63.3,48.7,51.4,43.5,53.0,51.8,45.2,38.3,50.7,54.9,55.4,26.7,52.6,79.6,68.6,42.6,40.8,51.4,46.1,83.8,51.2,49.3,44.3,53.5,36.0,96.5,50.7,39.5,68.3,45.8,46.5,45.1,56.3,53.9,56.4,44.0,52.5,40.2,51.4,49.8,37.8,47.8,66.3,41.7,47.7,36.5,47.6,54.6,51.2,30.8,50.1,43.7,61.2,46.8,51.5,50.6,52.0,43.3,60.0,42.3,48.6,37.1,51.6,48.2,41.2,75.1,46.5,49.8,56.5,52.1,61.4,35.3,47.3,48.7,35.3,39.9,39.6,43.9,91.9,63.8,58.4,50.0,35.7,41.7,48.6,46.9,58.9,49.2,28.0,55.8,57.1,75.8,42.7,70.4,49.8,74.4,46.8,47.8,70.5,36.3,87.1,35.2,60.1,43.9,42.3,46.2,46.2,39.9,46.8,62.5,54.7,72.1,48.2,41.5,48.4,61.3,47.2,54.4,72.7,54.9,52.2,48.0,42.3,78.9,60.1,79.3,47.7,41.2,57.0,76.1,41.5,50.0,76.2,46.9,71.6,43.8,44.9,38.5,64.6,37.3,53.9,68.3,57.6,47.4,43.4,43.2,40.0,74.5,49.9,39.9,67.9,60.5,55.8,47.8,42.2,40.1,46.8,50.6,41.9,42.8,58.3,46.5,56.9,37.0,72.9,41.7,48.3,57.0,45.7,48.4,41.0,45.1,42.1,46.0,40.0,52.2,50.7,49.5,50.6,55.1,65.0,42.1,47.6,42.2,37.2,47.5,53.8,50.6,44.7,37.4,42.0,59.3,47.4,42.7,30.0,47.2,43.0,82.4,46.6,44.2,43.9,49.3,52.9,69.7,43.2,47.1,45.0,55.2,38.1,46.3,50.3,58.1,43.9,80.6,52.2,38.6,52.5,51.3,54.2,47.1,82.6,46.7,47.4,70.0,42.0,57.9,50.2,50.1,40.0,48.7,51.0,42.2,51.7,48.1,74.6,53.4,39.4,49.0,45.0,46.9,52.0,39.7,46.7,50.4,46.6,36.8,63.0,47.7,42.0,55.6,88.5,52.0,50.0,44.5,46.1,73.0,51.0,36.2,47.1,54.0,68.8,74.9,38.3,48.4,49.5,84.8,50.6,52.4,53.5,36.9,42.4,34.9,70.8,45.0,43.6,50.1,32.0,51.1,33.7,45.0,51.9,51.0,51.3,56.5,36.1,51.1,33.5,51.3,49.1,80.1,51.0,45.2,46.7,44.7,47.5,50.2,41.8,59.5,41.8,42.7,36.6,45.2,51.2,49.0,41.3,41.7,34.6,64.2,49.6,92.9,44.2,42.0,38.3,46.7,54.1,54.3,56.9,40.8,53.8,61.0,73.9,79.4,52.7,48.5,47.5,49.1,50.8,46.7,39.4,69.0,47.4,56.5,39.1,55.3,52.4,86.8,45.9,92.8,48.0,38.7,52.6,40.3,66.7,42.7,40.8,46.6,51.7,44.3,47.8,93.0,53.0,48.6,52.4,42.0,51.5,38.4,45.4,41.2,40.3,39.1,46.6,41.3,51.5,49.9,45.8,40.4,49.0,31.3,46.0,50.8,53.7,48.0,52.0,47.0,48.5,49.1,39.2,46.6,55.0,37.9,51.7,50.4,37.3,51.1,81.3,41.2,58.2,45.9,58.9,67.3,41.3,43.6,50.7,43.5,37.2,53.2,38.7,47.8,48.4,47.0,83.4,54.8,45.0,40.1,50.0,46.8,89.9,52.7,48.1,59.6,57.5,42.9,48.9,50.9,46.8,37.4,53.1,55.5,43.8,63.3,63.5,54.0,56.3,50.0,37.8,41.9,53.4,47.7,50.4,62.8,89.8,50.6,47.3,63.5,47.4,42.7,48.2,66.9,51.3,41.6,45.5,54.0,34.5,47.4,51.0,37.0,56.5,40.5,68.7,54.5,44.3,51.4,48.9,64.5,37.0,55.0,47.8,79.2,48.7,45.4,53.8,49.5,46.5,51.9,45.9,37.4,65.1,41.2,62.4,75.1,46.1,59.4,59.6,56.6,53.8,36.1,66.9,44.4,50.4,46.6,50.9,81.4,52.4,49.3,51.3,42.5,66.8,38.8,44.3,63.1,46.2,67.8,73.2,45.7,41.4,44.3,38.4,47.9,44.9,88.8,59.2,61.5,37.9,54.6,61.1,71.2,43.7,47.0,38.7,37.6,51.6,49.0,61.9,53.3,47.0,33.7,48.4,35.6,78.8,52.8,41.0,50.1,88.3,48.2,49.6,49.3,64.7,52.3,42.7,36.4,54.6,37.4,49.9,48.4,44.6,51.0,50.5,44.5,33.6,37.0,67.1,65.0,61.9,50.0,51.2,39.5,40.9,49.2,41.9,45.1,39.8,81.4,51.5,50.8,70.9,46.8,57.9,45.8,56.9,55.2,78.6,53.7,50.6,71.5,49.5,50.8,34.6,56.3,47.2,57.1,74.0,82.8,58.9,47.6,47.8,47.2,48.8,50.3,54.8,49.4,49.9,75.1,46.9,50.3,43.6,72.7,44.4,48.9,44.9,43.3,53.3,48.3,64.8,38.9,82.0,52.4,51.1,62.0,52.4,52.6,47.4,45.5,47.0,37.9,46.0,41.6,54.4,48.3,49.4,41.7,56.6,51.7,44.9,54.7,37.9,74.0,58.4,38.2,59.0,34.5,49.1,47.3,43.4,76.6,41.7,49.3,41.8,59.4,51.0,34.5,82.5,39.9,48.7,58.4,40.2,48.2,55.4,36.9,81.4,51.7,43.6,56.7,49.2,49.5,45.4,47.2,46.9,46.7,45.7,47.2,55.0,48.8,41.4,90.5,43.2,51.3,38.8,50.1,33.2,45.2,46.1,56.5,39.3,38.9,57.3,41.7,62.5,49.7,53.3,76.6,53.6,56.5,57.5,48.1,50.1,46.1,49.0,48.2,50.5,54.7,39.0,44.8,44.1,57.7,49.7,53.8,51.7,46.8,41.9,50.1,50.4,53.5,52.8,43.4,63.0,43.7,47.1,41.1,45.9,43.3,86.6,49.0,54.3,49.2,66.1,45.1,48.1,42.8,49.6,41.1,86.3,40.5,39.7,50.7,51.6,50.8,41.2,46.6,38.8,52.7,66.4,49.6,45.9,40.4,40.4,64.4,44.3,46.2,45.8,50.6,38.6,48.3,41.8,50.7,50.4,72.5,45.3],\"y\":[45.498661041259766,43.9004020690918,46.2009162902832,38.40182113647461,49.400028228759766,47.800994873046875,72.39776611328125,52.800575256347656,34.99985122680664,47.59968948364258,42.90550994873047,51.499244689941406,48.79981231689453,62.89952850341797,50.8999137878418,40.100440979003906,67.09822082519531,46.499691009521484,43.70100784301758,48.49952697753906,61.99686050415039,43.410831451416016,47.300132751464844,57.697227478027344,49.501258850097656,50.49984359741211,70.90038299560547,43.99822235107422,44.50242233276367,37.601463317871094,53.399253845214844,68.59908294677734,44.000099182128906,39.900001525878906,48.80122756958008,51.999359130859375,46.29944610595703,65.89959716796875,39.501461029052734,41.800628662109375,42.800621032714844,51.19954299926758,55.200172424316406,47.50185012817383,51.69993209838867,46.8997917175293,54.997596740722656,45.89967727661133,46.99956130981445,61.504234313964844,65.4006118774414,50.200927734375,45.49977493286133,40.10029220581055,70.0986099243164,61.013877868652344,51.696617126464844,37.001182556152344,47.89986801147461,78.9976577758789,82.50006103515625,39.85531234741211,47.59998321533203,75.09969329833984,48.49982833862305,34.89995574951172,54.765193939208984,39.00025939941406,45.60013198852539,39.102882385253906,44.29964828491211,53.3996696472168,51.89999008178711,47.39911651611328,44.10010528564453,43.80080795288086,46.4000244140625,43.00016784667969,57.799312591552734,47.999847412109375,43.100364685058594,60.994293212890625,52.099483489990234,79.20020294189453,64.60255432128906,47.80058288574219,53.499717712402344,37.50531005859375,47.101131439208984,47.89908981323242,50.3999137878418,66.60008239746094,46.151283264160156,60.799530029296875,88.19989776611328,43.29962921142578,43.0997428894043,48.299015045166016,49.39787292480469,38.90202713012695,49.59987258911133,58.695335388183594,36.500328063964844,51.70021057128906,44.500064849853516,40.600120544433594,58.799835205078125,53.09926986694336,42.10067367553711,55.19992446899414,36.00193405151367,41.199371337890625,48.10037612915039,41.40050506591797,56.19931411743164,83.50016021728516,47.20002746582031,39.301246643066406,50.59925079345703,83.40030670166016,52.50003433227539,57.39957046508789,56.87522888183594,58.198429107666016,33.90087127685547,53.59988784790039,44.90202331542969,46.20037078857422,52.69775390625,43.90050506591797,35.10002136230469,51.19949722290039,44.799503326416016,57.89816665649414,50.39922332763672,37.70125198364258,55.89970397949219,41.99964904785156,63.89888000488281,48.59951400756836,49.3996467590332,57.786460876464844,57.196231842041016,49.7994270324707,45.00022888183594,48.10044479370117,84.70050048828125,39.99988555908203,44.699222564697266,44.60016632080078,47.699337005615234,55.29841995239258,51.00118637084961,53.599857330322266,40.59899139404297,36.63341522216797,44.30018615722656,40.70024871826172,48.100196838378906,71.19831848144531,50.8001708984375,40.899803161621094,45.600521087646484,77.79993438720703,57.799537658691406,46.20072937011719,42.201133728027344,52.099666595458984,43.20109939575195,56.69834899902344,45.20058059692383,50.699974060058594,75.29974365234375,55.5998649597168,49.59983444213867,49.699989318847656,38.80104446411133,70.89791107177734,47.30051040649414,41.500701904296875,45.10219955444336,42.20078659057617,51.5974235534668,42.90009307861328,66.29942321777344,48.899505615234375,52.19982147216797,45.10100173950195,50.399688720703125,45.699623107910156,86.79975128173828,66.79951477050781,38.90053939819336,51.199405670166016,43.600196838378906,89.69985961914062,86.69939422607422,49.49983596801758,41.59952163696289,86.70030975341797,49.397640228271484,39.60249710083008,53.79969787597656,49.29233932495117,56.299072265625,43.801849365234375,38.99989318847656,47.30060577392578,57.99797058105469,50.2991828918457,64.19951629638672,77.0992660522461,54.89915466308594,49.39986801147461,87.49954986572266,48.799983978271484,60.00009536743164,47.70049285888672,52.39699935913086,37.90074920654297,52.29765319824219,37.60011291503906,46.90034103393555,40.401397705078125,40.00104522705078,48.59961700439453,52.200069427490234,44.50013732910156,49.10010528564453,75.5972671508789,39.10175704956055,54.096858978271484,52.39775085449219,65.03633880615234,73.2005615234375,39.00019836425781,38.400123596191406,73.400146484375,86.09970092773438,71.7996597290039,59.586185455322266,37.1000862121582,52.00026321411133,49.70039749145508,45.80012130737305,57.69943618774414,48.500205993652344,39.80002212524414,35.40117645263672,44.202510833740234,48.999488830566406,48.498756408691406,41.9014892578125,39.90007781982422,48.19890594482422,41.402679443359375,79.90025329589844,60.4990348815918,54.99997329711914,49.899898529052734,73.39868927001953,37.801204681396484,53.198055267333984,55.49876022338867,40.29989242553711,34.898223876953125,50.19993591308594,36.70149612426758,39.99991226196289,43.700321197509766,48.7002067565918,55.400306701660156,44.399349212646484,61.19997024536133,38.400726318359375,43.0010871887207,49.70180130004883,38.300689697265625,40.29991149902344,50.69868087768555,40.60039138793945,33.10006332397461,65.0001449584961,52.00008010864258,52.79969024658203,75.7999038696289,41.40251541137695,43.09965896606445,65.09976196289062,77.39954376220703,51.20180130004883,75.39982604980469,50.99998092651367,50.199337005615234,51.30001449584961,47.30030059814453,46.30022048950195,45.096866607666016,64.699951171875,44.100528717041016,35.60050582885742,50.89737319946289,55.099754333496094,42.00004577636719,44.39997100830078,51.998069763183594,46.100162506103516,44.800331115722656,39.60059356689453,42.000404357910156,69.69967651367188,80.79994201660156,54.20048522949219,47.19472122192383,89.00032806396484,58.299842834472656,42.800331115722656,40.90054702758789,48.899993896484375,37.20084762573242,45.40047073364258,49.39820098876953,46.89996337890625,50.5931282043457,48.50020217895508,44.30095672607422,43.10001754760742,62.49510955810547,62.89519500732422,46.999752044677734,43.598915100097656,45.70051574707031,47.801170349121094,39.20742416381836,47.798030853271484,48.00046920776367,53.9994010925293,38.50040054321289,38.9012565612793,58.2035026550293,80.89996337890625,64.99724578857422,54.09955978393555,54.998512268066406,53.800376892089844,42.30128860473633,44.500587463378906,88.53209686279297,51.69889831542969,37.80017852783203,47.89955139160156,41.900367736816406,97.89740753173828,47.998592376708984,53.900020599365234,50.1996955871582,48.397071838378906,51.400177001953125,31.205881118774414,40.00000762939453,59.09986114501953,43.599971771240234,59.733909606933594,73.70001983642578,37.8012809753418,65.29989624023438,46.59976577758789,67.7009048461914,40.404571533203125,38.80034637451172,37.601322174072266,54.79201889038086,56.999778747558594,59.19535446166992,54.00008010864258,38.8018684387207,45.10062026977539,74.30107116699219,53.29911422729492,42.70033645629883,44.499916076660156,47.60124969482422,38.100547790527344,36.10237503051758,57.804264068603516,45.200347900390625,61.99250030517578,84.60014343261719,52.89344787597656,47.900821685791016,44.697998046875,57.400020599365234,42.900089263916016,41.00047302246094,47.599876403808594,42.299217224121094,74.80135345458984,66.9999008178711,54.39951705932617,36.19994354248047,42.20127487182617,65.34967803955078,47.799774169921875,43.600181579589844,44.6002197265625,40.20125198364258,41.8001594543457,53.89963912963867,50.099647521972656,53.3004150390625,54.99993133544922,47.60002517700195,52.40207290649414,53.699119567871094,39.699737548828125,52.79984664916992,44.00449752807617,46.70027542114258,52.39897155761719,70.59901428222656,39.99925994873047,69.99781799316406,43.300045013427734,46.97093200683594,44.900779724121094,44.29983901977539,49.30025863647461,41.80070114135742,51.399513244628906,49.59931945800781,62.24724197387695,39.90047836303711,51.20124435424805,49.19746398925781,52.90291213989258,57.599937438964844,58.094783782958984,50.90072250366211,52.99876022338867,42.9005126953125,46.50016784667969,51.19948959350586,47.79981994628906,49.80012512207031,49.40033721923828,42.00065231323242,58.79875183105469,43.600685119628906,53.4001350402832,56.00886917114258,63.49957275390625,49.19978332519531,64.6989974975586,59.19635009765625,52.20037841796875,40.79997634887695,42.69883346557617,48.40022659301758,46.39984893798828,41.80172348022461,46.19986343383789,51.49820327758789,41.899879455566406,70.29693603515625,55.49989700317383,47.29787826538086,86.09954071044922,54.89978790283203,36.601478576660156,78.40042114257812,48.499568939208984,36.79890441894531,42.20378494262695,38.39886474609375,55.100311279296875,40.70046615600586,49.4001579284668,58.49985122680664,44.50043487548828,47.799869537353516,28.00046157836914,71.59947204589844,42.600852966308594,45.80025100708008,43.50001907348633,49.39982604980469,49.59977340698242,41.80002212524414,48.40254211425781,66.69910430908203,50.099788665771484,35.9998893737793,44.90031814575195,60.29698181152344,49.99843215942383,48.900264739990234,48.1007080078125,48.29988098144531,44.90116882324219,43.70021438598633,73.1004638671875,58.441314697265625,44.89997863769531,50.100162506103516,37.29982376098633,53.700374603271484,36.90260696411133,59.733909606933594,81.69952392578125,48.39620590209961,76.4989013671875,50.09991455078125,47.79676055908203,54.49984359741211,54.400360107421875,56.20222854614258,48.798614501953125,48.899269104003906,83.30004119873047,45.50030517578125,46.000633239746094,37.60019302368164,45.800777435302734,52.39707565307617,62.1981315612793,51.50019836425781,41.70056915283203,42.50027847290039,63.471858978271484,56.69950866699219,45.198211669921875,46.49979782104492,44.375736236572266,58.8949089050293,46.80012512207031,47.300262451171875,46.70000076293945,79.80078887939453,67.6996078491211,55.49934768676758,54.3974494934082,53.1995735168457,69.70021057128906,51.69976043701172,40.40300369262695,46.003841400146484,42.10028076171875,78.6999282836914,44.80076599121094,55.802757263183594,49.29966735839844,42.40110778808594,37.202728271484375,53.90047073364258,53.50041961669922,42.000587463378906,51.99921798706055,39.30027389526367,29.999561309814453,47.10032653808594,48.79925537109375,48.70066452026367,41.001468658447266,50.59965515136719,37.202598571777344,54.40028762817383,50.59992599487305,41.200496673583984,54.398807525634766,50.999446868896484,42.89991760253906,37.799530029296875,53.599876403808594,51.599945068359375,46.20035171508789,55.99814224243164,50.49759292602539,41.1010856628418,59.3948974609375,43.699764251708984,39.40056228637695,62.59996795654297,50.30036544799805,55.600032806396484,78.89990234375,64.09947204589844,50.103660583496094,48.0006103515625,36.20661544799805,43.163299560546875,35.603721618652344,51.89903259277344,37.10129165649414,52.49982452392578,43.30045700073242,66.09856414794922,63.30010986328125,44.39995193481445,62.79990005493164,59.14728927612305,39.90336608886719,44.60072326660156,39.501163482666016,38.50067901611328,47.5984992980957,69.10018157958984,42.20010757446289,42.30226516723633,66.10051727294922,54.49989318847656,46.19997787475586,51.499725341796875,54.299102783203125,67.39945983886719,35.89982986450195,42.59996032714844,75.10050964355469,41.8997688293457,51.79914093017578,73.49961853027344,45.50038146972656,56.20123291015625,53.9000129699707,50.9996452331543,41.60075759887695,49.49960708618164,46.10009765625,61.69996643066406,38.233280181884766,52.80036544799805,56.89958190917969,96.39907836914062,43.29994201660156,41.99921417236328,48.29998779296875,69.70021057128906,56.59945297241211,41.50081253051758,58.39390182495117,44.59990310668945,51.99900817871094,42.100101470947266,60.599300384521484,57.59811019897461,44.500946044921875,36.402400970458984,78.10350799560547,58.19803237915039,39.90121078491211,45.09610366821289,43.30011749267578,46.80040740966797,52.20018768310547,89.30075073242188,39.00447082519531,69.29813385009766,63.005672454833984,51.59961700439453,58.04976272583008,47.10061264038086,46.900360107421875,49.00046920776367,54.00077819824219,45.2989616394043,64.09507751464844,47.800174713134766,60.504573822021484,48.09913635253906,41.10054397583008,34.99982452392578,54.30027389526367,37.00071716308594,50.100250244140625,42.70309066772461,84.49964904785156,41.249996185302734,60.899879455566406,43.33329391479492,50.49827194213867,39.500125885009766,52.299922943115234,64.9998779296875,46.4998779296875,57.99988555908203,60.89891815185547,46.39993667602539,52.699440002441406,48.49983596801758,42.20068359375,46.09907150268555,40.99987030029297,53.99966049194336,54.29375076293945,59.49726486206055,44.098819732666016,41.20124435424805,74.2005615234375,49.298431396484375,48.300025939941406,54.89979934692383,50.900047302246094,79.60017395019531,41.199989318847656,89.09981536865234,38.200008392333984,44.70009231567383,43.20043182373047,52.29966354370117,51.8995246887207,48.29931640625,55.89927291870117,35.60021209716797,39.89998245239258,51.299461364746094,44.50083541870117,46.099220275878906,55.699066162109375,39.19974136352539,50.99857711791992,82.49974822998047,42.20005416870117,67.89833068847656,50.00032043457031,72.29584503173828,67.19967651367188,50.500640869140625,44.29967498779297,52.89898681640625,45.50026321411133,48.59998321533203,44.600135803222656,32.205570220947266,54.20112991333008,62.89816665649414,39.99995040893555,39.3013801574707,43.1010627746582,59.899620056152344,47.35054397583008,51.8471794128418,66.80003356933594,56.935516357421875,50.298831939697266,38.20674514770508,48.76649475097656,35.49961853027344,53.20075607299805,40.10108184814453,55.799015045166016,50.09952163696289,49.299407958984375,61.600730895996094,70.19999694824219,40.30118179321289,42.5001335144043,28.002788543701172,45.40077209472656,48.89960479736328,47.800209045410156,45.40046310424805,44.900089263916016,43.19981002807617,93.19805908203125,46.19998550415039,51.099952697753906,47.403533935546875,37.09986877441406,41.10032653808594,43.40102767944336,40.29962158203125,44.196659088134766,69.00007629394531,65.18441009521484,47.79932403564453,41.40132141113281,39.90025329589844,45.500728607177734,48.700103759765625,54.70029830932617,63.59844970703125,37.60030746459961,46.200130462646484,38.30427551269531,47.89972686767578,39.20176315307617,45.499813079833984,50.60039138793945,52.59865951538086,45.20112228393555,57.29890823364258,69.14922332763672,41.80012130737305,50.89997482299805,43.20051574707031,52.79863357543945,58.59825134277344,50.89921951293945,51.299442291259766,52.450279235839844,42.10129165649414,48.399776458740234,85.8998794555664,86.19993591308594,41.000091552734375,42.59889602661133,47.40058898925781,50.89994430541992,92.19938659667969,48.699729919433594,41.35173416137695,43.70005416870117,75.24624633789062,49.799346923828125,66.09941864013672,49.00101852416992,45.299896240234375,47.79989242553711,48.29977798461914,65.99625396728516,47.49614715576172,71.79938507080078,42.60477828979492,44.6005859375,48.300270080566406,87.50999450683594,36.69974899291992,41.799991607666016,54.499542236328125,56.10084533691406,75.04999542236328,69.19939422607422,75.09918212890625,72.70026397705078,48.95347213745117,52.80039978027344,75.70469665527344,74.60005950927734,43.50087356567383,46.79814529418945,82.60011291503906,36.900291442871094,40.00080871582031,47.4999885559082,62.19978332519531,40.50080108642578,46.1990966796875,63.29978942871094,52.99786376953125,42.59999465942383,44.99977493286133,36.90044403076172,47.69996643066406,45.700340270996094,49.49798583984375,45.19935607910156,72.30045318603516,49.90008544921875,43.698638916015625,39.901161193847656,40.40049362182617,62.851654052734375,32.5997314453125,50.69966506958008,44.19993209838867,38.59419250488281,40.00012969970703,67.0108871459961,76.79940795898438,38.40068054199219,49.39973068237305,43.39995193481445,43.60006332397461,49.400272369384766,46.70068359375,48.09904098510742,57.09966278076172,44.900543212890625,45.29973602294922,41.20101547241211,63.4971809387207,50.39995193481445,41.80025100708008,46.30179977416992,48.59859085083008,58.69959259033203,62.648250579833984,57.400062561035156,77.88445281982422,62.6752815246582,78.90022277832031,56.199493408203125,82.19869995117188,42.199989318847656,48.100059509277344,49.79948043823242,60.10139083862305,53.083404541015625,48.99995422363281,52.0997200012207,48.20010757446289,44.800411224365234,44.70026779174805,37.702091217041016,38.39927673339844,46.20015335083008,84.40498352050781,37.20272445678711,38.20722961425781,47.1994514465332,55.9990234375,45.349708557128906,43.40011978149414,48.70000457763672,63.798255920410156,48.60024642944336,49.299346923828125,66.2945327758789,42.89970397949219,42.20065689086914,39.699684143066406,30.702404022216797,49.00026321411133,44.050254821777344,40.00139236450195,44.399681091308594,39.70307540893555,50.5006103515625,57.791900634765625,51.1993522644043,50.80004119873047,40.4998664855957,34.99848937988281,35.50025177001953,38.804752349853516,64.59980773925781,47.80024337768555,43.49922180175781,53.00004577636719,87.39961242675781,46.899742126464844,40.50088882446289,51.099212646484375,38.10114669799805,39.199466705322266,57.7995491027832,86.20011901855469,46.80000305175781,66.19967651367188,44.80017852783203,47.800193786621094,45.299781799316406,38.60028839111328,41.19997787475586,42.09983825683594,52.99981689453125,43.30046081542969,48.10039138793945,48.30045700073242,56.69749450683594,40.49995803833008,45.200416564941406,48.253631591796875,48.99694061279297,42.1010856628418,93.79817199707031,42.99916076660156,45.001766204833984,59.199974060058594,48.897560119628906,41.60014724731445,66.75028991699219,40.3111457824707,49.09945297241211,50.89970016479492,58.100242614746094,93.99654388427734,59.89969253540039,52.00117492675781,52.19929504394531,62.098838806152344,42.20056915283203,66.6002426147461,38.40227508544922,91.49966430664062,50.700050354003906,42.19998550415039,52.199989318847656,57.0993766784668,96.49923706054688,42.999542236328125,54.49901580810547,57.79933166503906,40.9998779296875,50.39990997314453,73.90724182128906,52.099830627441406,45.70088577270508,36.6003532409668,68.69783020019531,43.948455810546875,53.19997787475586,51.799373626708984,48.99973678588867,39.00096893310547,50.2999267578125,47.49894714355469,44.49736785888672,58.09951400756836,49.69974899291992,83.00005340576172,42.50026321411133,38.20074462890625,46.60036849975586,54.99489974975586,41.59947204589844,48.19992446899414,28.299726486206055,66.0429916381836,52.29951858520508,55.09994888305664,50.60013961791992,50.20001983642578,41.933074951171875,42.00120544433594,57.49988555908203,53.999698638916016,46.198490142822266,44.900672912597656,56.80546188354492,58.89836120605469,52.29960632324219,44.500247955322266,44.10054016113281,73.50055694580078,41.496273040771484,32.49995422363281,72.9983139038086,33.602481842041016,47.70016860961914,50.09967041015625,45.2989387512207,50.898983001708984,52.2000617980957,63.198299407958984,55.80213928222656,40.00090408325195,42.299739837646484,70.39995574951172,53.051353454589844,37.402374267578125,57.19994354248047,32.4008674621582,37.7031364440918,54.50003433227539,50.49953842163086,48.00074768066406,42.50432205200195,50.699981689453125,43.69955062866211,67.79523468017578,49.687591552734375,44.599884033203125,47.30086898803711,43.601409912109375,75.79696655273438,52.19612503051758,50.999855041503906,59.60204315185547,41.80086135864258,50.004520416259766,51.89956283569336,65.89958190917969,39.30179977416992,39.100223541259766,50.70104217529297,38.500396728515625,39.00053024291992,48.90050506591797,43.896728515625,45.20043182373047,37.80235290527344,42.50010299682617,41.69951629638672,75.7009048461914,51.699913024902344,50.40025329589844,51.19981384277344,44.000274658203125,46.90043258666992,53.19880294799805,44.396888732910156,40.00032424926758,49.70180130004883,34.39963912963867,87.16717529296875,43.000064849853516,65.1999282836914,40.90049743652344,51.000179290771484,57.00008010864258,52.29718780517578,50.399017333984375,64.89997100830078,38.80031967163086,49.09909439086914,49.599822998046875,47.899314880371094,54.900081634521484,49.8022346496582,43.69997787475586,64.89981079101562,68.59933471679688,50.399436950683594,43.00210952758789,94.19904327392578,42.101016998291016,55.298988342285156,55.9005126953125,69.09960174560547,43.300018310546875,41.30058670043945,79.49855041503906,47.398563385009766,50.49980926513672,36.00171661376953,35.9000358581543,69.14922332763672,83.79985809326172,42.79952621459961,57.69990158081055,53.40000915527344,42.00028610229492,49.899864196777344,45.49781799316406,40.10163116455078,46.6997184753418,44.10205078125,45.5002326965332,48.000484466552734,36.302127838134766,71.19471740722656,52.0997314453125,45.79966354370117,50.39934158325195,70.49951934814453,87.2996826171875,53.20047378540039,36.399600982666016,34.700164794921875,49.900054931640625,89.6990737915039,37.002471923828125,36.40028381347656,83.29715728759766,45.499507904052734,43.39976119995117,49.000160217285156,50.70117950439453,39.89956283569336,48.60081481933594,45.3002815246582,66.40185546875,39.8017578125,56.09326171875,38.10043716430664,56.099788665771484,38.700538635253906,84.79659271240234,38.30113220214844,31.10149574279785,41.90093231201172,38.00088119506836,51.00225067138672,50.49937057495117,44.800289154052734,50.200172424316406,30.20020294189453,46.20012283325195,46.40064239501953,69.4000244140625,39.39977264404297,46.999908447265625,48.79891586303711,38.40196990966797,51.30214309692383,55.000545501708984,53.099884033203125,51.49955368041992,60.92525100708008,48.60008239746094,50.300209045410156,59.69866943359375,51.89990997314453,38.899574279785156,48.69914627075195,72.79364013671875,41.69966506958008,50.29981994628906,65.00514221191406,43.09995651245117,46.20061492919922,66.29985809326172,50.00009536743164,48.799888610839844,52.69984817504883,44.89967727661133,39.899993896484375,50.69993209838867,56.00006866455078,44.299163818359375,49.00049591064453,39.21860885620117,62.010536193847656,41.40068054199219,45.801971435546875,43.300106048583984,43.000083923339844,58.29896926879883,41.80011749267578,38.8000373840332,42.40474319458008,55.799049377441406,40.6014404296875,50.899200439453125,43.899959564208984,44.4000358581543,47.99845504760742,89.49900817871094,44.90190505981445,94.79735565185547,42.50092697143555,47.70070266723633,44.20122528076172,56.10021209716797,40.50106430053711,43.900413513183594,46.20143508911133,45.999813079833984,48.39931869506836,42.20018005371094,61.098297119140625,65.7015151977539,39.4030647277832,39.6002197265625,54.89860534667969,52.49934387207031,53.09999084472656,40.80101013183594,91.09944915771484,49.00233840942383,53.898616790771484,41.60104751586914,56.59979248046875,38.799930572509766,51.10013961791992,60.60020065307617,49.708824157714844,51.700294494628906,46.90827560424805,41.700286865234375,54.60032272338867,49.10036849975586,67.06693267822266,49.39975357055664,53.60019302368164,65.80013275146484,50.99966812133789,58.399635314941406,46.39999008178711,51.89889144897461,36.100032806396484,47.9978141784668,49.89840316772461,52.7000732421875,42.10012435913086,51.294742584228516,67.59484100341797,60.89864730834961,44.39999008178711,71.3001708984375,41.601070404052734,45.49995040893555,62.49969482421875,71.40023040771484,62.89985656738281,44.400054931640625,52.59959030151367,45.90156555175781,64.39879608154297,51.899959564208984,34.700416564941406,51.600257873535156,69.50032806396484,56.795772552490234,42.50300216674805,87.19977569580078,56.6993522644043,45.000030517578125,51.90264129638672,39.10260009765625,39.2008056640625,50.19908142089844,40.20143508911133,54.99732971191406,70.59980773925781,75.29991149902344,51.50566101074219,52.503562927246094,41.65749740600586,46.30060958862305,53.299556732177734,52.299346923828125,84.40226745605469,42.6999626159668,44.99411392211914,43.300086975097656,42.99904251098633,48.69982147216797,46.37574005126953,47.50074768066406,36.80326843261719,55.29924774169922,34.60489273071289,47.39933395385742,50.99935531616211,49.800716400146484,42.49998092651367,78.19998931884766,54.3997802734375,49.207427978515625,57.25102615356445,45.99971008300781,71.8001937866211,56.60017776489258,42.69919967651367,52.99958801269531,45.40003967285156,46.20045471191406,55.399417877197266,52.999813079833984,49.50366973876953,67.99772644042969,45.800132751464844,47.399147033691406,55.98934555053711,91.39875030517578,61.29981231689453,88.39278411865234,53.39963150024414,46.50005340576172,47.600555419921875,45.70033645629883,46.20102310180664,42.80039978027344,46.998680114746094,46.800567626953125,48.398921966552734,54.4975471496582,45.600669860839844,50.99946975708008,58.200157165527344,41.10090255737305,44.400665283203125,56.399478912353516,42.70140838623047,49.300174713134766,53.50005340576172,49.900177001953125,53.79974365234375,48.7994270324707,45.300724029541016,52.29844284057617,62.649169921875,45.19984436035156,66.7996597290039,42.30032730102539,35.40122604370117,48.399620056152344,42.99998474121094,50.5000114440918,79.00061798095703,41.000572204589844,48.70058822631836,51.39917755126953,45.300201416015625,64.50018310546875,44.300235748291016,45.00146484375,49.99934768676758,39.000404357910156,63.69955825805664,45.50321578979492,46.5003776550293,47.000396728515625,48.80022430419922,46.699710845947266,47.09969711303711,45.30049514770508,52.400054931640625,57.7992057800293,47.100284576416016,63.39974594116211,55.299171447753906,46.00021743774414,44.09974670410156,86.00009155273438,42.99986267089844,40.5018424987793,42.29978561401367,41.89997482299805,41.403804779052734,91.80083465576172,38.298641204833984,55.80045700073242,52.19987487792969,50.798519134521484,54.09954071044922,31.808467864990234,52.202613830566406,45.499935150146484,55.39986801147461,51.49873352050781,54.0002555847168,46.49999237060547,48.80006408691406,39.80046463012695,40.59975814819336,44.600013732910156,45.59986114501953,50.600425720214844,45.90013885498047,50.600074768066406,54.29942321777344,49.299964904785156,53.997283935546875,45.80379867553711,52.19984436035156,55.00016784667969,44.0997314453125,42.00904083251953,46.551639556884766,48.49934387207031,56.20014190673828,49.89993667602539,80.79952239990234,79.99993896484375,42.900123596191406,47.900142669677734,48.999755859375,41.2979850769043,61.49123764038086,51.299835205078125,87.1004409790039,44.49996566772461,55.89977264404297,49.8981819152832,44.499237060546875,47.800621032714844,50.9984245300293,38.30073928833008,50.799930572509766,46.20003128051758,43.00006866455078,45.099945068359375,50.49943923950195,34.00007629394531,42.498451232910156,41.20050811767578,40.601234436035156,39.900169372558594,50.0003662109375,56.00064468383789,48.89992904663086,34.6035041809082,52.79973220825195,39.40053939819336,51.600223541259766,51.599456787109375,46.2974739074707,53.99990463256836,48.70033264160156,62.39947509765625,51.94997787475586,62.69954299926758,67.40009307861328,50.59897232055664,51.50018310546875,38.7996826171875,50.8004035949707,50.900062561035156,54.89875030517578,41.69929122924805,41.801143646240234,33.05088424682617,67.69762420654297,50.199729919433594,37.69987487792969,48.10039138793945,47.00035858154297,43.90020751953125,59.499610900878906,46.415306091308594,45.59990692138672,51.69986343383789,46.6003532409668,42.800540924072266,48.800079345703125,39.300636291503906,41.60129928588867,43.2003059387207,48.69944763183594,86.19989776611328,40.201053619384766,48.39974594116211,46.50069808959961,64.39956665039062,50.79771423339844,40.00202560424805,49.997615814208984,52.09976577758789,51.19949722290039,49.299617767333984,44.50078201293945,40.49972915649414,77.87490844726562,89.30011749267578,44.59971237182617,51.59859085083008,41.500091552734375,52.899906158447266,47.600738525390625,65.79934692382812,49.498695373535156,41.500179290771484,48.40007019042969,38.60099411010742,56.9975700378418,39.20691680908203,35.10307312011719,72.30078125,42.498451232910156,50.89986801147461,49.9998779296875,46.49979782104492,84.00070190429688,49.19999313354492,45.299720764160156,46.8028450012207,39.199581146240234,96.3992691040039,52.2997932434082,64.89630889892578,42.800228118896484,45.300567626953125,47.90067672729492,50.79905319213867,54.99802017211914,42.899658203125,54.69968795776367,47.59973907470703,37.20044708251953,65.00028991699219,51.699676513671875,42.901344299316406,48.90008544921875,34.901458740234375,73.70183563232422,68.59474182128906,41.00067138671875,42.10163497924805,46.5018310546875,43.100830078125,50.09990692138672,37.80003356933594,40.2014274597168,54.99898910522461,46.39997482299805,51.39975357055664,37.301151275634766,45.700748443603516,45.30018615722656,42.799617767333984,44.399654388427734,46.800621032714844,54.3991584777832,51.79959487915039,49.79981231689453,48.20017623901367,47.79893112182617,55.90000534057617,50.20008087158203,42.699710845947266,55.499717712402344,80.69929504394531,51.59857940673828,51.099098205566406,43.400699615478516,46.899627685546875,43.00016784667969,50.6004638671875,49.498966217041016,37.20048904418945,64.99974060058594,51.99968719482422,62.49516296386719,47.89952850341797,38.8209342956543,44.50397872924805,60.7002067565918,49.097660064697266,38.90035629272461,55.09976577758789,54.19862365722656,45.699851989746094,45.50482177734375,62.99977111816406,76.69953155517578,44.300811767578125,38.50117111206055,44.89889907836914,45.10101318359375,45.40007781982422,50.399105072021484,48.20050048828125,75.99981689453125,82.19955444335938,51.50012969970703,41.90040969848633,41.19987487792969,58.000362396240234,46.300559997558594,69.19865417480469,55.69969177246094,49.299312591552734,45.59929275512695,44.625694274902344,54.39982986450195,36.700740814208984,47.300662994384766,45.200008392333984,46.10702896118164,41.700103759765625,51.500633239746094,45.60057830810547,64.59780883789062,49.299659729003906,43.59971618652344,95.29829406738281,40.200279235839844,46.99991989135742,43.100582122802734,64.4992904663086,51.7002067565918,53.19934844970703,46.999263763427734,44.80097961425781,44.20026397705078,25.910045623779297,41.299888610839844,45.49988555908203,54.049598693847656,49.5011100769043,52.99929428100586,49.099544525146484,45.100460052490234,51.299705505371094,46.80192947387695,51.80072784423828,43.33329391479492,50.10030746459961,52.69921112060547,49.99955749511719,50.40019607543945,47.40005111694336,41.90087127685547,48.50065231323242,37.399906158447266,56.798892974853516,45.50135040283203,91.89984130859375,38.8004150390625,36.702232360839844,89.01144409179688,52.80134963989258,51.600643157958984,41.69575881958008,42.70077896118164,71.80017852783203,60.199642181396484,50.548919677734375,95.09957885742188,44.20157241821289,45.00033187866211,46.90007400512695,49.900306701660156,49.30052185058594,70.19652557373047,48.6999626159668,39.20258712768555,54.90016555786133,81.50357055664062,52.09379959106445,51.00006103515625,43.306636810302734,41.300079345703125,57.29863739013672,68.99723815917969,45.80050277709961,48.342960357666016,33.50099182128906,48.50019073486328,38.604896545410156,68.00032043457031,48.598777770996094,41.90039825439453,52.894615173339844,58.249595642089844,53.09952926635742,52.80017852783203,48.399627685546875,69.50032043457031,33.70431137084961,48.39818572998047,41.30085754394531,54.39951705932617,34.90243148803711,48.99995422363281,36.00273513793945,49.699913024902344,51.79839324951172,44.70060348510742,49.39932632446289,42.298667907714844,48.300201416015625,82.89985656738281,45.499961853027344,77.59783935546875,46.50004196166992,49.000648498535156,89.10009765625,27.999862670898438,41.00090789794922,45.600341796875,51.79954528808594,45.99974822998047,49.200035095214844,38.80072784423828,41.300315856933594,44.90046691894531,44.200660705566406,46.49843978881836,50.29920196533203,44.7000732421875,43.500144958496094,42.999839782714844,38.19987487792969,47.80006790161133,68.2494125366211,38.902042388916016,71.7000732421875,47.99991989135742,39.40106201171875,47.999900817871094,55.798831939697266,47.29830551147461,35.300025939941406,40.10002899169922,47.69970703125,43.49989318847656,46.399349212646484,53.30036926269531,33.91608810424805,41.89980697631836,48.60013961791992,35.00252914428711,35.10139465332031,82.79964447021484,53.799827575683594,45.100101470947266,49.50099182128906,42.501380920410156,43.20000076293945,47.59952926635742,40.70024108886719,45.801353454589844,53.89923858642578,40.99999237060547,45.60042953491211,41.39924240112305,45.40050506591797,77.24937438964844,51.49934768676758,41.201656341552734,50.899471282958984,46.399017333984375,43.70051193237305,44.600364685058594,42.80084991455078,52.3000602722168,64.50059509277344,55.29986572265625,49.0003776550293,48.19977569580078,45.19953536987305,76.90005493164062,41.39997482299805,53.29819107055664,53.60043716430664,74.80237579345703,48.897850036621094,48.099613189697266,50.30357360839844,44.99930953979492,42.60122299194336,53.100341796875,54.05057907104492,44.90007019042969,50.500064849853516,43.19992446899414,48.500003814697266,38.90278244018555,49.099998474121094,54.19435119628906,48.9000129699707,41.671539306640625,38.90019607543945,48.49889373779297,39.90058898925781,46.79999923706055,44.49967575073242,41.799861907958984,48.70071029663086,44.39990234375,63.099613189697266,45.00092315673828,45.40089416503906,54.09960174560547,37.70047378540039,49.70058059692383,41.60062789916992,41.40052795410156,41.30487060546875,40.800296783447266,80.49964141845703,38.50082778930664,52.900047302246094,50.499813079833984,46.69956970214844,42.899234771728516,41.00011444091797,49.79931640625,41.301368713378906,48.103389739990234,52.60094451904297,74.99922180175781,47.50035095214844,48.89979934692383,57.99945068359375,65.5993881225586,51.999080657958984,42.00022888183594,45.20042037963867,40.60112380981445,43.50019836425781,46.795814514160156,72.40023040771484,77.69927215576172,44.70085525512695,40.20056915283203,84.89997863769531,41.198387145996094,85.60169219970703,39.100250244140625,46.001380920410156,30.99897003173828,51.700035095214844,52.300384521484375,80.50008392333984,44.30108642578125,48.09963607788086,48.99908447265625,54.499114990234375,48.1002197265625,68.40019226074219,51.59978485107422,36.60861587524414,49.4002799987793,64.699951171875,43.80085372924805,97.49765014648438,44.99992752075195,40.300472259521484,85.40042114257812,54.39952087402344,94.59929656982422,35.999725341796875,45.59956741333008,49.50001907348633,48.699737548828125,46.700927734375,65.00044250488281,42.70146942138672,54.60016632080078,56.10044479370117,35.015380859375,41.20048141479492,76.29656982421875,52.39985275268555,39.20009231567383,50.9001350402832,47.699466705322266,53.79928970336914,56.3997917175293,50.799861907958984,45.99909210205078,44.19993209838867,47.802886962890625,45.50001525878906,54.39988708496094,53.20014190673828,50.89990234375,72.89964294433594,44.9998664855957,43.09999465942383,50.099124908447266,59.59996032714844,50.90072250366211,43.399688720703125,38.599857330322266,51.000877380371094,46.29996109008789,46.59987258911133,38.1016845703125,45.00037384033203,63.09737777709961,41.9000358581543,54.3991584777832,52.600318908691406,52.509185791015625,44.60080337524414,56.59934997558594,48.60150909423828,45.99869155883789,50.30002212524414,47.40021514892578,73.99846649169922,51.50004577636719,44.69984436035156,42.400390625,61.69970703125,41.000335693359375,57.697715759277344,52.59965896606445,38.701900482177734,45.80113983154297,42.5005989074707,44.90038299560547,43.90025329589844,47.499515533447266,44.050254821777344,38.801761627197266,70.29937744140625,42.600341796875,85.80084991455078,51.799739837646484,73.40050506591797,74.00045013427734,47.99968338012695,50.60027313232422,49.90011978149414,39.50217819213867,44.80896759033203,51.400474548339844,58.795082092285156,59.00584411621094,45.40018081665039,46.300174713134766,53.30012130737305,62.495323181152344,66.13387298583984,91.09964752197266,44.1007194519043,48.80008316040039,42.5997428894043,60.19976043701172,46.70060348510742,41.80155563354492,42.70058822631836,54.69884490966797,79.39974212646484,52.3993034362793,41.60057830810547,51.59980773925781,49.199954986572266,48.70018768310547,75.099365234375,47.29960632324219,51.699745178222656,62.80009078979492,49.000938415527344,47.900230407714844,47.8995361328125,44.69558334350586,52.400211334228516,39.50018310546875,43.400020599365234,51.399845123291016,57.7999267578125,55.79985046386719,61.49869155883789,44.00088119506836,51.395240783691406,35.89997863769531,29.998855590820312,89.8001708984375,41.2999382019043,39.00020217895508,44.600215911865234,68.89982604980469,61.6706428527832,62.901329040527344,39.900081634521484,41.199886322021484,41.39998245239258,90.69902038574219,64.89984130859375,45.800559997558594,56.899776458740234,87.20042419433594,48.09967803955078,60.49558639526367,44.69990539550781,47.900245666503906,75.501708984375,54.600440979003906,51.900299072265625,49.299808502197266,93.89878845214844,83.79887390136719,49.60049057006836,42.50001525878906,60.50012969970703,52.799129486083984,45.60295486450195,50.49884033203125,48.500186920166016,44.20029830932617,54.398380279541016,81.50016784667969,43.700462341308594,49.999778747558594,44.899658203125,55.001251220703125,37.000675201416016,52.999412536621094,47.399566650390625,51.09916305541992,41.60039138793945,34.99928665161133,45.50059127807617,50.79869079589844,49.699588775634766,52.6952018737793,55.599769592285156,79.67053985595703,51.599769592285156,47.89986801147461,43.950645446777344,51.19975280761719,49.6003532409668,45.80067443847656,43.90027618408203,44.79987335205078,39.601322174072266,52.89875411987305,57.79991912841797,55.59674072265625,46.200111389160156,50.70263671875,38.90108871459961,49.19972610473633,47.400978088378906,71.09981536865234,83.2004623413086,47.80055618286133,37.400230407714844,51.09988784790039,36.2012939453125,53.09968185424805,47.700172424316406,56.19852066040039,37.499961853027344,56.901466369628906,85.2999496459961,46.000675201416016,59.19967269897461,56.99872970581055,43.00108337402344,39.29971694946289,65.79981994628906,88.79975128173828,40.700260162353516,71.89830780029297,39.10037612915039,48.999752044677734,53.4995002746582,36.60101318359375,53.29969787597656,50.79990768432617,45.20065689086914,53.89939880371094,45.599609375,40.70039367675781,57.400142669677734,44.70037078857422,49.60170364379883,52.15418243408203,55.000450134277344,48.5972785949707,48.89959716796875,47.50033950805664,50.40022277832031,47.199501037597656,44.09813690185547,63.29981231689453,48.698970794677734,51.39863204956055,43.5004997253418,52.99831771850586,51.79988098144531,45.19963073730469,38.30739974975586,50.700653076171875,54.90003967285156,55.400665283203125,26.702539443969727,54.99979782104492,79.59757232666016,68.60682678222656,42.60083770751953,40.79994583129883,51.39958190917969,46.09860610961914,83.79950714111328,51.19771194458008,49.3004150390625,44.30043411254883,53.4996223449707,35.99898910522461,96.49947357177734,50.70024108886719,39.499961853027344,68.29979705810547,45.80097961425781,46.49980163574219,45.098690032958984,56.29999923706055,53.899620056152344,56.39809799194336,43.99999237060547,52.49684524536133,40.19981002807617,51.39942169189453,49.801055908203125,37.803096771240234,47.79948806762695,66.29558563232422,41.69981384277344,47.700660705566406,36.50082778930664,47.598960876464844,54.60007858276367,51.197715759277344,30.804527282714844,50.0998649597168,43.703216552734375,61.19871520996094,46.798133850097656,51.49878692626953,50.59944152832031,51.998226165771484,41.65909194946289,59.99885559082031,42.30012512207031,48.600093841552734,37.09943771362305,51.600162506103516,48.199012756347656,41.201053619384766,75.10034942626953,46.500205993652344,49.802101135253906,56.50023651123047,52.09626007080078,61.398773193359375,35.30236053466797,47.30008316040039,48.698665618896484,35.30240249633789,39.89964294433594,39.599430084228516,43.90010452270508,91.89950561523438,63.799644470214844,58.399436950683594,50.000511169433594,39.699302673339844,41.701171875,48.59996795654297,46.89781188964844,58.89910125732422,49.199851989746094,28.000965118408203,55.7989387512207,57.0997428894043,75.7994384765625,42.700775146484375,70.39971923828125,49.799530029296875,74.40005493164062,46.80000686645508,47.79977035522461,70.50070190429688,36.3011589050293,87.09992980957031,35.202613830566406,60.099884033203125,43.899986267089844,42.301246643066406,46.200225830078125,46.19928741455078,39.90198516845703,46.80011749267578,62.49987030029297,54.69999313354492,70.04053497314453,48.20005416870117,41.502098083496094,48.4000358581543,63.150203704833984,47.200748443603516,54.400264739990234,72.69998931884766,54.89936065673828,52.19914245605469,47.98431396484375,42.300079345703125,78.89955139160156,60.09934997558594,79.29998779296875,47.699546813964844,41.19729995727539,57.00016784667969,76.09803771972656,41.500938415527344,49.99938201904297,76.19959259033203,46.899497985839844,71.59996032714844,43.81499481201172,44.904361724853516,38.50096130371094,64.60093688964844,37.301090240478516,53.899391174316406,68.29995727539062,57.59973907470703,47.399810791015625,43.4001579284668,43.2000617980957,40.00008773803711,74.49958801269531,49.8997917175293,39.902259826660156,67.8991928100586,60.503021240234375,55.800235748291016,47.7995719909668,42.20048904418945,40.10182571411133,46.79972457885742,50.59983825683594,41.89971160888672,42.80037307739258,58.297664642333984,46.49991226196289,56.898460388183594,37.0013313293457,72.89956665039062,41.700069427490234,48.30011749267578,56.99940872192383,45.70033264160156,48.400230407714844,41.00022888183594,45.10165023803711,42.0997428894043,46.00102615356445,40.00239562988281,52.196964263916016,50.69961929321289,49.49951171875,50.596370697021484,55.100318908691406,65.00029754638672,42.100101470947266,47.60062789916992,42.20032501220703,37.20024108886719,47.50029373168945,53.799591064453125,50.59846115112305,44.699825286865234,37.40299987792969,43.566349029541016,59.26528549194336,47.399864196777344,42.700401306152344,30.00150489807129,47.20211410522461,43.00066375732422,82.39984130859375,46.60053634643555,44.2000732421875,43.896366119384766,49.300148010253906,52.89909362792969,69.69953918457031,43.20069122314453,47.100311279296875,45.00028991699219,55.200069427490234,38.10207748413086,46.300411224365234,50.29930114746094,58.09958267211914,43.89957809448242,80.59989166259766,52.20003890991211,38.59943389892578,52.49993896484375,51.29947280883789,54.20023727416992,47.10063552856445,82.59918975830078,46.699974060058594,47.40156555175781,69.99962615966797,41.99828338623047,57.89962387084961,50.200435638427734,50.10002899169922,41.99964904785156,48.700923919677734,51.00049591064453,42.200538635253906,51.70035171508789,48.10010528564453,74.59915161132812,53.39516830444336,39.40019226074219,48.99968338012695,44.999481201171875,46.899803161621094,52.00425338745117,39.701412200927734,46.700408935546875,50.399261474609375,46.600128173828125,36.80051803588867,60.949642181396484,47.6998291015625,42.00047302246094,55.59937286376953,88.49970245361328,52.000648498535156,49.999839782714844,44.50023651123047,46.10030746459961,73.00020599365234,51.000091552734375,36.200565338134766,47.099578857421875,54.0005989074707,68.8000717163086,74.89999389648438,38.300262451171875,48.40071487426758,49.49984359741211,84.80023956298828,50.59950637817383,52.39997100830078,53.501197814941406,36.899932861328125,42.40013885498047,34.900299072265625,70.79918670654297,45.0020637512207,43.60026168823242,50.09922409057617,32.00015640258789,51.099422454833984,33.70042419433594,45.00075149536133,51.90039825439453,47.10420227050781,51.29981994628906,56.50002670288086,36.10274887084961,51.099830627441406,33.50114440917969,51.298744201660156,49.05020523071289,80.10050964355469,51.00041198730469,45.20033645629883,46.701072692871094,44.69954299926758,47.5005989074707,50.203636169433594,41.80284118652344,59.4954833984375,41.79985809326172,42.700069427490234,36.601158142089844,45.20079040527344,51.199466705322266,48.99987030029297,41.30084228515625,41.69956588745117,34.6008186340332,64.19933319091797,49.59896469116211,92.95487213134766,44.20029830932617,42.00080490112305,38.2982292175293,46.699607849121094,54.10015106201172,54.300113677978516,56.89981460571289,40.80303192138672,53.798980712890625,61.00485610961914,73.89971160888672,79.40016174316406,52.6999397277832,48.499881744384766,47.50004959106445,49.099891662597656,50.800228118896484,46.70045852661133,39.40087127685547,68.99134063720703,47.402374267578125,56.5010986328125,39.10268783569336,55.299224853515625,52.39600372314453,86.80065155029297,45.900142669677734,92.79972839355469,47.999549865722656,38.700836181640625,52.6004638671875,40.300350189208984,66.69792938232422,42.699668884277344,40.79985427856445,46.59510803222656,51.699283599853516,44.29962158203125,47.78953552246094,92.95487213134766,52.99979019165039,48.6000862121582,52.3997688293457,42.00016784667969,51.49885177612305,38.40025329589844,45.40003204345703,43.13456344604492,40.300941467285156,39.10057067871094,46.59970474243164,41.30071258544922,51.49657440185547,49.89992904663086,45.80018615722656,40.40068435668945,49.00038146972656,31.300613403320312,46.00028991699219,50.79956817626953,53.700279235839844,47.99948501586914,53.22410202026367,46.998687744140625,48.49991226196289,49.100059509277344,39.200042724609375,46.6008415222168,55.001102447509766,37.90064239501953,51.69953155517578,50.39827346801758,37.30001449584961,51.099609375,81.29938507080078,41.20020294189453,58.19988250732422,45.89889144897461,58.9000358581543,67.29988098144531,41.301231384277344,43.60091018676758,50.70021438598633,43.50016403198242,37.20120620727539,53.200687408447266,38.70110321044922,47.80216979980469,48.39918518066406,47.00057601928711,83.40164947509766,54.799346923828125,45.00047302246094,40.09803771972656,49.99980926513672,46.800289154052734,89.9005355834961,52.69976043701172,48.10004425048828,59.599212646484375,57.50031280517578,42.90027618408203,48.899410247802734,50.90008544921875,46.79955291748047,37.400489807128906,53.098419189453125,55.49637222290039,43.80080032348633,63.29894256591797,63.48393630981445,53.999969482421875,56.2984733581543,49.99978256225586,38.89996337890625,41.90025329589844,53.400238037109375,47.70144271850586,50.39821243286133,62.6752815246582,89.80331420898438,50.598384857177734,47.29994583129883,63.50027084350586,47.401214599609375,42.700233459472656,48.20147705078125,66.89762115478516,51.3003044128418,41.600528717041016,45.50167465209961,53.99956130981445,34.50026321411133,47.40000534057617,51.000396728515625,37.00038528442383,56.50232696533203,40.5001106262207,68.70038604736328,54.48939895629883,44.300079345703125,51.3994255065918,48.89969253540039,64.5006103515625,37.00056457519531,54.999977111816406,47.799930572509766,68.66669464111328,48.70033264160156,45.4029541015625,53.80028533935547,49.500633239746094,46.500492095947266,51.89894104003906,45.90163040161133,37.401920318603516,65.098876953125,41.200199127197266,62.34883499145508,75.09917449951172,46.10023498535156,59.40007781982422,59.5998420715332,56.59960174560547,53.80018997192383,36.100738525390625,66.89991760253906,44.39997100830078,49.4001579284668,46.599544525146484,50.899253845214844,81.40019226074219,52.39767074584961,49.299129486083984,51.30000305175781,42.50056457519531,66.79998016357422,38.80027389526367,44.30036544799805,63.09843063354492,46.20949172973633,67.79569244384766,73.19972229003906,45.70002365112305,41.399932861328125,44.29988098144531,38.40045928955078,47.900264739990234,44.90018844604492,88.79981994628906,59.18698501586914,61.500186920166016,37.90093994140625,54.59987258911133,61.09629440307617,71.19927978515625,43.700382232666016,46.99972152709961,38.70188903808594,37.600093841552734,51.600006103515625,49.00022888183594,61.901214599609375,53.30770492553711,47.000003814697266,33.69997787475586,48.39936447143555,35.60017776489258,78.80118560791016,52.7998046875,40.99986267089844,50.0991325378418,88.30077362060547,48.20018005371094,49.60009765625,49.30027770996094,64.69967651367188,52.29833221435547,42.70037841796875,36.401214599609375,54.60035705566406,37.408748626708984,49.900123596191406,48.399818420410156,44.60139846801758,51.000308990478516,50.501739501953125,44.49991226196289,39.69902801513672,37.00172424316406,67.10006713867188,65.0,61.89931106567383,50.000038146972656,51.19914245605469,39.50071334838867,40.90198516845703,49.20045471191406,41.90041732788086,45.10235595703125,39.80086898803711,79.67053985595703,51.5001106262207,50.800392150878906,70.8997802734375,46.80040740966797,57.90007019042969,45.80096435546875,56.89918518066406,55.19981384277344,78.59981536865234,53.698028564453125,50.59975051879883,71.49984741210938,49.5001335144043,50.79997634887695,34.602813720703125,56.299381256103516,47.20098114013672,57.0757942199707,74.84268951416016,82.79961395263672,58.89897155761719,47.59960174560547,47.79983139038086,47.19927978515625,48.80021286010742,50.30107498168945,54.79969024658203,49.39994430541992,49.90110778808594,75.09968566894531,46.90093231201172,50.300174713134766,43.600772857666016,72.69998931884766,44.40022659301758,48.89971923828125,44.899818420410156,43.299964904785156,53.299747467041016,48.29826354980469,64.79945373535156,38.90121841430664,81.99522399902344,52.39949417114258,51.09990310668945,61.99604797363281,52.3990478515625,52.60018539428711,47.40803146362305,45.49996566772461,47.00091552734375,37.90256118774414,44.00043487548828,41.60042953491211,54.3996467590332,48.300106048583984,49.399723052978516,41.70010757446289,56.599185943603516,51.700653076171875,44.90085220336914,54.69835662841797,37.90217971801758,74.00898742675781,58.39996337890625,38.199974060058594,58.999977111816406,34.516666412353516,49.092525482177734,47.2999267578125,43.40000915527344,76.59990692138672,41.69968795776367,49.29951858520508,41.803794860839844,59.39957809448242,51.0000114440918,37.94951248168945,82.49950408935547,39.900665283203125,48.6995849609375,58.3979377746582,40.199947357177734,48.200130462646484,55.40036392211914,36.90043640136719,81.39971160888672,51.699764251708984,43.59995651245117,56.703041076660156,49.199947357177734,49.499942779541016,45.39991760253906,47.20542907714844,46.8994140625,46.70030212402344,45.699981689453125,47.202903747558594,55.00025177001953,48.79905700683594,41.40141677856445,90.50017547607422,43.20029067993164,51.29988098144531,38.80072021484375,50.09988021850586,33.20267868041992,45.20036697387695,46.099822998046875,50.29906463623047,39.30101013183594,38.900794982910156,57.29833221435547,41.72175598144531,71.59973907470703,49.69962692260742,53.300559997558594,76.59890747070312,53.5982780456543,56.49994659423828,57.498619079589844,48.09982681274414,50.099361419677734,46.10006332397461,48.99987030029297,48.200252532958984,50.49871826171875,54.6999626159668,39.000423431396484,44.803897857666016,44.09903335571289,57.70022201538086,49.69975662231445,53.80042266845703,51.6990852355957,46.80105972290039,41.90069580078125,50.09990310668945,50.39905548095703,53.49686050415039,52.79990768432617,43.40022277832031,61.00005340576172,43.69792556762695,47.100162506103516,41.1009407043457,45.9017448425293,43.29988479614258,86.59996795654297,48.99953079223633,54.29994583129883,49.200382232666016,66.10171508789062,45.100467681884766,48.10002136230469,42.8001823425293,49.600433349609375,41.10005187988281,86.30045318603516,40.50005340576172,39.699806213378906,50.69991683959961,51.600040435791016,50.79740905761719,41.200626373291016,46.59919357299805,38.804866790771484,52.70012283325195,66.39308166503906,49.59773254394531,45.90010070800781,40.400306701660156,40.39877700805664,64.39610290527344,44.30034255981445,46.200347900390625,41.99667739868164,50.601226806640625,38.60256576538086,48.30003356933594,41.79998779296875,50.70090866088867,50.400917053222656,72.50025177001953,45.30036926269531],\"type\":\"scattergl\"}],                        {\"template\":{\"data\":{\"histogram2dcontour\":[{\"type\":\"histogram2dcontour\",\"colorbar\":{\"outlinewidth\":0,\"ticks\":\"\"},\"colorscale\":[[0.0,\"#0d0887\"],[0.1111111111111111,\"#46039f\"],[0.2222222222222222,\"#7201a8\"],[0.3333333333333333,\"#9c179e\"],[0.4444444444444444,\"#bd3786\"],[0.5555555555555556,\"#d8576b\"],[0.6666666666666666,\"#ed7953\"],[0.7777777777777778,\"#fb9f3a\"],[0.8888888888888888,\"#fdca26\"],[1.0,\"#f0f921\"]]}],\"choropleth\":[{\"type\":\"choropleth\",\"colorbar\":{\"outlinewidth\":0,\"ticks\":\"\"}}],\"histogram2d\":[{\"type\":\"histogram2d\",\"colorbar\":{\"outlinewidth\":0,\"ticks\":\"\"},\"colorscale\":[[0.0,\"#0d0887\"],[0.1111111111111111,\"#46039f\"],[0.2222222222222222,\"#7201a8\"],[0.3333333333333333,\"#9c179e\"],[0.4444444444444444,\"#bd3786\"],[0.5555555555555556,\"#d8576b\"],[0.6666666666666666,\"#ed7953\"],[0.7777777777777778,\"#fb9f3a\"],[0.8888888888888888,\"#fdca26\"],[1.0,\"#f0f921\"]]}],\"heatmap\":[{\"type\":\"heatmap\",\"colorbar\":{\"outlinewidth\":0,\"ticks\":\"\"},\"colorscale\":[[0.0,\"#0d0887\"],[0.1111111111111111,\"#46039f\"],[0.2222222222222222,\"#7201a8\"],[0.3333333333333333,\"#9c179e\"],[0.4444444444444444,\"#bd3786\"],[0.5555555555555556,\"#d8576b\"],[0.6666666666666666,\"#ed7953\"],[0.7777777777777778,\"#fb9f3a\"],[0.8888888888888888,\"#fdca26\"],[1.0,\"#f0f921\"]]}],\"heatmapgl\":[{\"type\":\"heatmapgl\",\"colorbar\":{\"outlinewidth\":0,\"ticks\":\"\"},\"colorscale\":[[0.0,\"#0d0887\"],[0.1111111111111111,\"#46039f\"],[0.2222222222222222,\"#7201a8\"],[0.3333333333333333,\"#9c179e\"],[0.4444444444444444,\"#bd3786\"],[0.5555555555555556,\"#d8576b\"],[0.6666666666666666,\"#ed7953\"],[0.7777777777777778,\"#fb9f3a\"],[0.8888888888888888,\"#fdca26\"],[1.0,\"#f0f921\"]]}],\"contourcarpet\":[{\"type\":\"contourcarpet\",\"colorbar\":{\"outlinewidth\":0,\"ticks\":\"\"}}],\"contour\":[{\"type\":\"contour\",\"colorbar\":{\"outlinewidth\":0,\"ticks\":\"\"},\"colorscale\":[[0.0,\"#0d0887\"],[0.1111111111111111,\"#46039f\"],[0.2222222222222222,\"#7201a8\"],[0.3333333333333333,\"#9c179e\"],[0.4444444444444444,\"#bd3786\"],[0.5555555555555556,\"#d8576b\"],[0.6666666666666666,\"#ed7953\"],[0.7777777777777778,\"#fb9f3a\"],[0.8888888888888888,\"#fdca26\"],[1.0,\"#f0f921\"]]}],\"surface\":[{\"type\":\"surface\",\"colorbar\":{\"outlinewidth\":0,\"ticks\":\"\"},\"colorscale\":[[0.0,\"#0d0887\"],[0.1111111111111111,\"#46039f\"],[0.2222222222222222,\"#7201a8\"],[0.3333333333333333,\"#9c179e\"],[0.4444444444444444,\"#bd3786\"],[0.5555555555555556,\"#d8576b\"],[0.6666666666666666,\"#ed7953\"],[0.7777777777777778,\"#fb9f3a\"],[0.8888888888888888,\"#fdca26\"],[1.0,\"#f0f921\"]]}],\"mesh3d\":[{\"type\":\"mesh3d\",\"colorbar\":{\"outlinewidth\":0,\"ticks\":\"\"}}],\"scatter\":[{\"fillpattern\":{\"fillmode\":\"overlay\",\"size\":10,\"solidity\":0.2},\"type\":\"scatter\"}],\"parcoords\":[{\"type\":\"parcoords\",\"line\":{\"colorbar\":{\"outlinewidth\":0,\"ticks\":\"\"}}}],\"scatterpolargl\":[{\"type\":\"scatterpolargl\",\"marker\":{\"colorbar\":{\"outlinewidth\":0,\"ticks\":\"\"}}}],\"bar\":[{\"error_x\":{\"color\":\"#2a3f5f\"},\"error_y\":{\"color\":\"#2a3f5f\"},\"marker\":{\"line\":{\"color\":\"#E5ECF6\",\"width\":0.5},\"pattern\":{\"fillmode\":\"overlay\",\"size\":10,\"solidity\":0.2}},\"type\":\"bar\"}],\"scattergeo\":[{\"type\":\"scattergeo\",\"marker\":{\"colorbar\":{\"outlinewidth\":0,\"ticks\":\"\"}}}],\"scatterpolar\":[{\"type\":\"scatterpolar\",\"marker\":{\"colorbar\":{\"outlinewidth\":0,\"ticks\":\"\"}}}],\"histogram\":[{\"marker\":{\"pattern\":{\"fillmode\":\"overlay\",\"size\":10,\"solidity\":0.2}},\"type\":\"histogram\"}],\"scattergl\":[{\"type\":\"scattergl\",\"marker\":{\"colorbar\":{\"outlinewidth\":0,\"ticks\":\"\"}}}],\"scatter3d\":[{\"type\":\"scatter3d\",\"line\":{\"colorbar\":{\"outlinewidth\":0,\"ticks\":\"\"}},\"marker\":{\"colorbar\":{\"outlinewidth\":0,\"ticks\":\"\"}}}],\"scattermapbox\":[{\"type\":\"scattermapbox\",\"marker\":{\"colorbar\":{\"outlinewidth\":0,\"ticks\":\"\"}}}],\"scatterternary\":[{\"type\":\"scatterternary\",\"marker\":{\"colorbar\":{\"outlinewidth\":0,\"ticks\":\"\"}}}],\"scattercarpet\":[{\"type\":\"scattercarpet\",\"marker\":{\"colorbar\":{\"outlinewidth\":0,\"ticks\":\"\"}}}],\"carpet\":[{\"aaxis\":{\"endlinecolor\":\"#2a3f5f\",\"gridcolor\":\"white\",\"linecolor\":\"white\",\"minorgridcolor\":\"white\",\"startlinecolor\":\"#2a3f5f\"},\"baxis\":{\"endlinecolor\":\"#2a3f5f\",\"gridcolor\":\"white\",\"linecolor\":\"white\",\"minorgridcolor\":\"white\",\"startlinecolor\":\"#2a3f5f\"},\"type\":\"carpet\"}],\"table\":[{\"cells\":{\"fill\":{\"color\":\"#EBF0F8\"},\"line\":{\"color\":\"white\"}},\"header\":{\"fill\":{\"color\":\"#C8D4E3\"},\"line\":{\"color\":\"white\"}},\"type\":\"table\"}],\"barpolar\":[{\"marker\":{\"line\":{\"color\":\"#E5ECF6\",\"width\":0.5},\"pattern\":{\"fillmode\":\"overlay\",\"size\":10,\"solidity\":0.2}},\"type\":\"barpolar\"}],\"pie\":[{\"automargin\":true,\"type\":\"pie\"}]},\"layout\":{\"autotypenumbers\":\"strict\",\"colorway\":[\"#636efa\",\"#EF553B\",\"#00cc96\",\"#ab63fa\",\"#FFA15A\",\"#19d3f3\",\"#FF6692\",\"#B6E880\",\"#FF97FF\",\"#FECB52\"],\"font\":{\"color\":\"#2a3f5f\"},\"hovermode\":\"closest\",\"hoverlabel\":{\"align\":\"left\"},\"paper_bgcolor\":\"white\",\"plot_bgcolor\":\"#E5ECF6\",\"polar\":{\"bgcolor\":\"#E5ECF6\",\"angularaxis\":{\"gridcolor\":\"white\",\"linecolor\":\"white\",\"ticks\":\"\"},\"radialaxis\":{\"gridcolor\":\"white\",\"linecolor\":\"white\",\"ticks\":\"\"}},\"ternary\":{\"bgcolor\":\"#E5ECF6\",\"aaxis\":{\"gridcolor\":\"white\",\"linecolor\":\"white\",\"ticks\":\"\"},\"baxis\":{\"gridcolor\":\"white\",\"linecolor\":\"white\",\"ticks\":\"\"},\"caxis\":{\"gridcolor\":\"white\",\"linecolor\":\"white\",\"ticks\":\"\"}},\"coloraxis\":{\"colorbar\":{\"outlinewidth\":0,\"ticks\":\"\"}},\"colorscale\":{\"sequential\":[[0.0,\"#0d0887\"],[0.1111111111111111,\"#46039f\"],[0.2222222222222222,\"#7201a8\"],[0.3333333333333333,\"#9c179e\"],[0.4444444444444444,\"#bd3786\"],[0.5555555555555556,\"#d8576b\"],[0.6666666666666666,\"#ed7953\"],[0.7777777777777778,\"#fb9f3a\"],[0.8888888888888888,\"#fdca26\"],[1.0,\"#f0f921\"]],\"sequentialminus\":[[0.0,\"#0d0887\"],[0.1111111111111111,\"#46039f\"],[0.2222222222222222,\"#7201a8\"],[0.3333333333333333,\"#9c179e\"],[0.4444444444444444,\"#bd3786\"],[0.5555555555555556,\"#d8576b\"],[0.6666666666666666,\"#ed7953\"],[0.7777777777777778,\"#fb9f3a\"],[0.8888888888888888,\"#fdca26\"],[1.0,\"#f0f921\"]],\"diverging\":[[0,\"#8e0152\"],[0.1,\"#c51b7d\"],[0.2,\"#de77ae\"],[0.3,\"#f1b6da\"],[0.4,\"#fde0ef\"],[0.5,\"#f7f7f7\"],[0.6,\"#e6f5d0\"],[0.7,\"#b8e186\"],[0.8,\"#7fbc41\"],[0.9,\"#4d9221\"],[1,\"#276419\"]]},\"xaxis\":{\"gridcolor\":\"white\",\"linecolor\":\"white\",\"ticks\":\"\",\"title\":{\"standoff\":15},\"zerolinecolor\":\"white\",\"automargin\":true,\"zerolinewidth\":2},\"yaxis\":{\"gridcolor\":\"white\",\"linecolor\":\"white\",\"ticks\":\"\",\"title\":{\"standoff\":15},\"zerolinecolor\":\"white\",\"automargin\":true,\"zerolinewidth\":2},\"scene\":{\"xaxis\":{\"backgroundcolor\":\"#E5ECF6\",\"gridcolor\":\"white\",\"linecolor\":\"white\",\"showbackground\":true,\"ticks\":\"\",\"zerolinecolor\":\"white\",\"gridwidth\":2},\"yaxis\":{\"backgroundcolor\":\"#E5ECF6\",\"gridcolor\":\"white\",\"linecolor\":\"white\",\"showbackground\":true,\"ticks\":\"\",\"zerolinecolor\":\"white\",\"gridwidth\":2},\"zaxis\":{\"backgroundcolor\":\"#E5ECF6\",\"gridcolor\":\"white\",\"linecolor\":\"white\",\"showbackground\":true,\"ticks\":\"\",\"zerolinecolor\":\"white\",\"gridwidth\":2}},\"shapedefaults\":{\"line\":{\"color\":\"#2a3f5f\"}},\"annotationdefaults\":{\"arrowcolor\":\"#2a3f5f\",\"arrowhead\":0,\"arrowwidth\":1},\"geo\":{\"bgcolor\":\"white\",\"landcolor\":\"#E5ECF6\",\"subunitcolor\":\"white\",\"showland\":true,\"showlakes\":true,\"lakecolor\":\"white\"},\"title\":{\"x\":0.05},\"mapbox\":{\"style\":\"light\"}}},\"annotations\":[{\"showarrow\":false,\"text\":\"Spearman Rank Correlation = 0.995\",\"x\":0.95,\"xref\":\"paper\",\"y\":0.1,\"yref\":\"paper\"}],\"title\":{\"text\":\"Actual vs. Predicted\"},\"height\":700},                        {\"responsive\": true}                    ).then(function(){\n",
              "                            \n",
              "var gd = document.getElementById('cbb5b9e0-d4d7-4d65-9e71-18037e2a1697');\n",
              "var x = new MutationObserver(function (mutations, observer) {{\n",
              "        var display = window.getComputedStyle(gd).display;\n",
              "        if (!display || display === 'none') {{\n",
              "            console.log([gd, 'removed!']);\n",
              "            Plotly.purge(gd);\n",
              "            observer.disconnect();\n",
              "        }}\n",
              "}});\n",
              "\n",
              "// Listen for the removal of the full notebook cells\n",
              "var notebookContainer = gd.closest('#notebook-container');\n",
              "if (notebookContainer) {{\n",
              "    x.observe(notebookContainer, {childList: true});\n",
              "}}\n",
              "\n",
              "// Listen for the clearing of the current output cell\n",
              "var outputEl = gd.closest('.output');\n",
              "if (outputEl) {{\n",
              "    x.observe(outputEl, {childList: true});\n",
              "}}\n",
              "\n",
              "                        })                };                            </script>        </div>\n",
              "</body>\n",
              "</html>"
            ]
          },
          "metadata": {}
        }
      ]
    },
    {
      "cell_type": "code",
      "source": [
        "r2_train = r2_score(y_train, y_pred_train)\n",
        "r2_val = r2_score(y_val, y_pred_val)\n",
        "r2_test = r2_score(y_test, pred4)\n",
        "print('r2 score for train is', r2_train)\n",
        "print('r2 score for val is', r2_val)\n",
        "print('r2 score for test is', r2_test)"
      ],
      "metadata": {
        "id": "jhfqWMCa0MRj",
        "colab": {
          "base_uri": "https://localhost:8080/"
        },
        "outputId": "5524f992-1b52-4c89-bd51-27cf88ef188a"
      },
      "execution_count": null,
      "outputs": [
        {
          "output_type": "stream",
          "name": "stdout",
          "text": [
            "r2 score for train is 0.9924098344859508\n",
            "r2 score for val is 0.9958193965262252\n",
            "r2 score for test is 0.9913499512205307\n"
          ]
        }
      ]
    },
    {
      "cell_type": "code",
      "source": [
        "print('Mean Absolute Error Train:', metrics.mean_absolute_error(y_train, y_pred_train))\n",
        "print('Mean Absolute Error Val:', metrics.mean_absolute_error(y_val, y_pred_val))\n",
        "print('Mean Absolute Error Test:', metrics.mean_absolute_error(y_test, pred4))"
      ],
      "metadata": {
        "id": "5fmtZfXp0MRj",
        "colab": {
          "base_uri": "https://localhost:8080/"
        },
        "outputId": "665dc57c-ba69-4562-ddf1-be274a8f1a9e"
      },
      "execution_count": null,
      "outputs": [
        {
          "output_type": "stream",
          "name": "stdout",
          "text": [
            "Mean Absolute Error Train: 0.1436972944217904\n",
            "Mean Absolute Error Val: 0.09977688861034915\n",
            "Mean Absolute Error Test: 0.15296366763923264\n"
          ]
        }
      ]
    },
    {
      "cell_type": "code",
      "source": [],
      "metadata": {
        "id": "E8NQPag70MRj"
      },
      "execution_count": null,
      "outputs": []
    },
    {
      "cell_type": "code",
      "source": [],
      "metadata": {
        "id": "lT1AME9Iz8ls"
      },
      "execution_count": null,
      "outputs": []
    },
    {
      "cell_type": "markdown",
      "source": [
        "## Model 5"
      ],
      "metadata": {
        "id": "DwfpjC4t0RWJ"
      }
    },
    {
      "cell_type": "code",
      "source": [
        "# Split the data into train and validation set\n",
        "train_df_new, rem_df = train_test_split(train_df, train_size=0.8,random_state=95)\n",
        "\n",
        "val_df, test_df = train_test_split(rem_df, test_size=0.5,random_state=99)"
      ],
      "metadata": {
        "id": "63quKilx0RWJ"
      },
      "execution_count": null,
      "outputs": []
    },
    {
      "cell_type": "code",
      "source": [
        "X_train = train_df.drop(columns=['tm'])\n",
        "y_train = train_df['tm']\n",
        "\n",
        "X_val = val_df.drop(columns=['tm'])\n",
        "y_val = val_df['tm']\n",
        "\n",
        "X_test = test_df.drop(columns=['tm'])\n",
        "y_test = test_df['tm']"
      ],
      "metadata": {
        "id": "9ip3ZgXa0RWJ"
      },
      "execution_count": null,
      "outputs": []
    },
    {
      "cell_type": "code",
      "source": [
        "#XGBoost Model\n",
        "model = XGBRegressor(learning_rate=0.1, max_depth=8, n_estimators=200, tree_method=\"gpu_hist\",random_state=99)\n",
        "model.fit(X_train, y_train)"
      ],
      "metadata": {
        "id": "bXZh4-5a0RWJ",
        "colab": {
          "base_uri": "https://localhost:8080/",
          "height": 248
        },
        "outputId": "4c7da854-9e59-4228-c999-61b11f4341d6"
      },
      "execution_count": null,
      "outputs": [
        {
          "output_type": "execute_result",
          "data": {
            "text/plain": [
              "XGBRegressor(base_score=None, booster=None, callbacks=None,\n",
              "             colsample_bylevel=None, colsample_bynode=None,\n",
              "             colsample_bytree=None, early_stopping_rounds=None,\n",
              "             enable_categorical=False, eval_metric=None, feature_types=None,\n",
              "             gamma=None, gpu_id=None, grow_policy=None, importance_type=None,\n",
              "             interaction_constraints=None, learning_rate=0.1, max_bin=None,\n",
              "             max_cat_threshold=None, max_cat_to_onehot=None,\n",
              "             max_delta_step=None, max_depth=8, max_leaves=None,\n",
              "             min_child_weight=None, missing=nan, monotone_constraints=None,\n",
              "             n_estimators=200, n_jobs=None, num_parallel_tree=None,\n",
              "             predictor=None, random_state=99, ...)"
            ],
            "text/html": [
              "<style>#sk-container-id-9 {color: black;background-color: white;}#sk-container-id-9 pre{padding: 0;}#sk-container-id-9 div.sk-toggleable {background-color: white;}#sk-container-id-9 label.sk-toggleable__label {cursor: pointer;display: block;width: 100%;margin-bottom: 0;padding: 0.3em;box-sizing: border-box;text-align: center;}#sk-container-id-9 label.sk-toggleable__label-arrow:before {content: \"▸\";float: left;margin-right: 0.25em;color: #696969;}#sk-container-id-9 label.sk-toggleable__label-arrow:hover:before {color: black;}#sk-container-id-9 div.sk-estimator:hover label.sk-toggleable__label-arrow:before {color: black;}#sk-container-id-9 div.sk-toggleable__content {max-height: 0;max-width: 0;overflow: hidden;text-align: left;background-color: #f0f8ff;}#sk-container-id-9 div.sk-toggleable__content pre {margin: 0.2em;color: black;border-radius: 0.25em;background-color: #f0f8ff;}#sk-container-id-9 input.sk-toggleable__control:checked~div.sk-toggleable__content {max-height: 200px;max-width: 100%;overflow: auto;}#sk-container-id-9 input.sk-toggleable__control:checked~label.sk-toggleable__label-arrow:before {content: \"▾\";}#sk-container-id-9 div.sk-estimator input.sk-toggleable__control:checked~label.sk-toggleable__label {background-color: #d4ebff;}#sk-container-id-9 div.sk-label input.sk-toggleable__control:checked~label.sk-toggleable__label {background-color: #d4ebff;}#sk-container-id-9 input.sk-hidden--visually {border: 0;clip: rect(1px 1px 1px 1px);clip: rect(1px, 1px, 1px, 1px);height: 1px;margin: -1px;overflow: hidden;padding: 0;position: absolute;width: 1px;}#sk-container-id-9 div.sk-estimator {font-family: monospace;background-color: #f0f8ff;border: 1px dotted black;border-radius: 0.25em;box-sizing: border-box;margin-bottom: 0.5em;}#sk-container-id-9 div.sk-estimator:hover {background-color: #d4ebff;}#sk-container-id-9 div.sk-parallel-item::after {content: \"\";width: 100%;border-bottom: 1px solid gray;flex-grow: 1;}#sk-container-id-9 div.sk-label:hover label.sk-toggleable__label {background-color: #d4ebff;}#sk-container-id-9 div.sk-serial::before {content: \"\";position: absolute;border-left: 1px solid gray;box-sizing: border-box;top: 0;bottom: 0;left: 50%;z-index: 0;}#sk-container-id-9 div.sk-serial {display: flex;flex-direction: column;align-items: center;background-color: white;padding-right: 0.2em;padding-left: 0.2em;position: relative;}#sk-container-id-9 div.sk-item {position: relative;z-index: 1;}#sk-container-id-9 div.sk-parallel {display: flex;align-items: stretch;justify-content: center;background-color: white;position: relative;}#sk-container-id-9 div.sk-item::before, #sk-container-id-9 div.sk-parallel-item::before {content: \"\";position: absolute;border-left: 1px solid gray;box-sizing: border-box;top: 0;bottom: 0;left: 50%;z-index: -1;}#sk-container-id-9 div.sk-parallel-item {display: flex;flex-direction: column;z-index: 1;position: relative;background-color: white;}#sk-container-id-9 div.sk-parallel-item:first-child::after {align-self: flex-end;width: 50%;}#sk-container-id-9 div.sk-parallel-item:last-child::after {align-self: flex-start;width: 50%;}#sk-container-id-9 div.sk-parallel-item:only-child::after {width: 0;}#sk-container-id-9 div.sk-dashed-wrapped {border: 1px dashed gray;margin: 0 0.4em 0.5em 0.4em;box-sizing: border-box;padding-bottom: 0.4em;background-color: white;}#sk-container-id-9 div.sk-label label {font-family: monospace;font-weight: bold;display: inline-block;line-height: 1.2em;}#sk-container-id-9 div.sk-label-container {text-align: center;}#sk-container-id-9 div.sk-container {/* jupyter's `normalize.less` sets `[hidden] { display: none; }` but bootstrap.min.css set `[hidden] { display: none !important; }` so we also need the `!important` here to be able to override the default hidden behavior on the sphinx rendered scikit-learn.org. See: https://github.com/scikit-learn/scikit-learn/issues/21755 */display: inline-block !important;position: relative;}#sk-container-id-9 div.sk-text-repr-fallback {display: none;}</style><div id=\"sk-container-id-9\" class=\"sk-top-container\"><div class=\"sk-text-repr-fallback\"><pre>XGBRegressor(base_score=None, booster=None, callbacks=None,\n",
              "             colsample_bylevel=None, colsample_bynode=None,\n",
              "             colsample_bytree=None, early_stopping_rounds=None,\n",
              "             enable_categorical=False, eval_metric=None, feature_types=None,\n",
              "             gamma=None, gpu_id=None, grow_policy=None, importance_type=None,\n",
              "             interaction_constraints=None, learning_rate=0.1, max_bin=None,\n",
              "             max_cat_threshold=None, max_cat_to_onehot=None,\n",
              "             max_delta_step=None, max_depth=8, max_leaves=None,\n",
              "             min_child_weight=None, missing=nan, monotone_constraints=None,\n",
              "             n_estimators=200, n_jobs=None, num_parallel_tree=None,\n",
              "             predictor=None, random_state=99, ...)</pre><b>In a Jupyter environment, please rerun this cell to show the HTML representation or trust the notebook. <br />On GitHub, the HTML representation is unable to render, please try loading this page with nbviewer.org.</b></div><div class=\"sk-container\" hidden><div class=\"sk-item\"><div class=\"sk-estimator sk-toggleable\"><input class=\"sk-toggleable__control sk-hidden--visually\" id=\"sk-estimator-id-9\" type=\"checkbox\" checked><label for=\"sk-estimator-id-9\" class=\"sk-toggleable__label sk-toggleable__label-arrow\">XGBRegressor</label><div class=\"sk-toggleable__content\"><pre>XGBRegressor(base_score=None, booster=None, callbacks=None,\n",
              "             colsample_bylevel=None, colsample_bynode=None,\n",
              "             colsample_bytree=None, early_stopping_rounds=None,\n",
              "             enable_categorical=False, eval_metric=None, feature_types=None,\n",
              "             gamma=None, gpu_id=None, grow_policy=None, importance_type=None,\n",
              "             interaction_constraints=None, learning_rate=0.1, max_bin=None,\n",
              "             max_cat_threshold=None, max_cat_to_onehot=None,\n",
              "             max_delta_step=None, max_depth=8, max_leaves=None,\n",
              "             min_child_weight=None, missing=nan, monotone_constraints=None,\n",
              "             n_estimators=200, n_jobs=None, num_parallel_tree=None,\n",
              "             predictor=None, random_state=99, ...)</pre></div></div></div></div></div>"
            ]
          },
          "metadata": {},
          "execution_count": 101
        }
      ]
    },
    {
      "cell_type": "code",
      "source": [
        "rfecv = RFECV(estimator= model, step = 5, cv = 5, scoring='neg_mean_squared_error')\n",
        "rfecv = rfecv.fit(X_train, y_train)\n",
        "\n",
        "print(\"The optimal number of features:\", rfecv.n_features_)\n",
        "print('Selected features: %s' % list(X_train.columns[rfecv.support_]))\n",
        "\n",
        "best_features = list(X_train.columns[rfecv.support_])"
      ],
      "metadata": {
        "id": "RVvaS7up0RWJ",
        "colab": {
          "base_uri": "https://localhost:8080/"
        },
        "outputId": "253bcaf9-8de6-4cfb-aa65-bf1576128650"
      },
      "execution_count": null,
      "outputs": [
        {
          "output_type": "stream",
          "name": "stdout",
          "text": [
            "The optimal number of features: 27\n",
            "Selected features: ['pH', 'A', 'C', 'D', 'E', 'F', 'G', 'H', 'I', 'K', 'L', 'M', 'N', 'P', 'Q', 'R', 'S', 'T', 'V', 'W', 'Y', 'Aromaticity', 'Molecular Weight', 'Instability Index', 'Hydrophobicity', 'Isoelectric Point', 'Charge']\n"
          ]
        }
      ]
    },
    {
      "cell_type": "code",
      "source": [
        "X_train_new = X_train[best_features]\n",
        "X_val_new = X_val[best_features]\n",
        "X_test_new = X_test[best_features]"
      ],
      "metadata": {
        "id": "5ZRNoVE50RWJ"
      },
      "execution_count": null,
      "outputs": []
    },
    {
      "cell_type": "code",
      "source": [
        "model5 = XGBRegressor(learning_rate=0.1, max_depth=20, n_estimators=250, tree_method=\"gpu_hist\",random_state=123)\n",
        "model5.fit(X_train_new, y_train)"
      ],
      "metadata": {
        "id": "34meTG8U0RWK",
        "colab": {
          "base_uri": "https://localhost:8080/",
          "height": 248
        },
        "outputId": "a656d3be-0acc-40d4-ea45-4dcfae6a5f68"
      },
      "execution_count": null,
      "outputs": [
        {
          "output_type": "execute_result",
          "data": {
            "text/plain": [
              "XGBRegressor(base_score=None, booster=None, callbacks=None,\n",
              "             colsample_bylevel=None, colsample_bynode=None,\n",
              "             colsample_bytree=None, early_stopping_rounds=None,\n",
              "             enable_categorical=False, eval_metric=None, feature_types=None,\n",
              "             gamma=None, gpu_id=None, grow_policy=None, importance_type=None,\n",
              "             interaction_constraints=None, learning_rate=0.1, max_bin=None,\n",
              "             max_cat_threshold=None, max_cat_to_onehot=None,\n",
              "             max_delta_step=None, max_depth=20, max_leaves=None,\n",
              "             min_child_weight=None, missing=nan, monotone_constraints=None,\n",
              "             n_estimators=250, n_jobs=None, num_parallel_tree=None,\n",
              "             predictor=None, random_state=123, ...)"
            ],
            "text/html": [
              "<style>#sk-container-id-10 {color: black;background-color: white;}#sk-container-id-10 pre{padding: 0;}#sk-container-id-10 div.sk-toggleable {background-color: white;}#sk-container-id-10 label.sk-toggleable__label {cursor: pointer;display: block;width: 100%;margin-bottom: 0;padding: 0.3em;box-sizing: border-box;text-align: center;}#sk-container-id-10 label.sk-toggleable__label-arrow:before {content: \"▸\";float: left;margin-right: 0.25em;color: #696969;}#sk-container-id-10 label.sk-toggleable__label-arrow:hover:before {color: black;}#sk-container-id-10 div.sk-estimator:hover label.sk-toggleable__label-arrow:before {color: black;}#sk-container-id-10 div.sk-toggleable__content {max-height: 0;max-width: 0;overflow: hidden;text-align: left;background-color: #f0f8ff;}#sk-container-id-10 div.sk-toggleable__content pre {margin: 0.2em;color: black;border-radius: 0.25em;background-color: #f0f8ff;}#sk-container-id-10 input.sk-toggleable__control:checked~div.sk-toggleable__content {max-height: 200px;max-width: 100%;overflow: auto;}#sk-container-id-10 input.sk-toggleable__control:checked~label.sk-toggleable__label-arrow:before {content: \"▾\";}#sk-container-id-10 div.sk-estimator input.sk-toggleable__control:checked~label.sk-toggleable__label {background-color: #d4ebff;}#sk-container-id-10 div.sk-label input.sk-toggleable__control:checked~label.sk-toggleable__label {background-color: #d4ebff;}#sk-container-id-10 input.sk-hidden--visually {border: 0;clip: rect(1px 1px 1px 1px);clip: rect(1px, 1px, 1px, 1px);height: 1px;margin: -1px;overflow: hidden;padding: 0;position: absolute;width: 1px;}#sk-container-id-10 div.sk-estimator {font-family: monospace;background-color: #f0f8ff;border: 1px dotted black;border-radius: 0.25em;box-sizing: border-box;margin-bottom: 0.5em;}#sk-container-id-10 div.sk-estimator:hover {background-color: #d4ebff;}#sk-container-id-10 div.sk-parallel-item::after {content: \"\";width: 100%;border-bottom: 1px solid gray;flex-grow: 1;}#sk-container-id-10 div.sk-label:hover label.sk-toggleable__label {background-color: #d4ebff;}#sk-container-id-10 div.sk-serial::before {content: \"\";position: absolute;border-left: 1px solid gray;box-sizing: border-box;top: 0;bottom: 0;left: 50%;z-index: 0;}#sk-container-id-10 div.sk-serial {display: flex;flex-direction: column;align-items: center;background-color: white;padding-right: 0.2em;padding-left: 0.2em;position: relative;}#sk-container-id-10 div.sk-item {position: relative;z-index: 1;}#sk-container-id-10 div.sk-parallel {display: flex;align-items: stretch;justify-content: center;background-color: white;position: relative;}#sk-container-id-10 div.sk-item::before, #sk-container-id-10 div.sk-parallel-item::before {content: \"\";position: absolute;border-left: 1px solid gray;box-sizing: border-box;top: 0;bottom: 0;left: 50%;z-index: -1;}#sk-container-id-10 div.sk-parallel-item {display: flex;flex-direction: column;z-index: 1;position: relative;background-color: white;}#sk-container-id-10 div.sk-parallel-item:first-child::after {align-self: flex-end;width: 50%;}#sk-container-id-10 div.sk-parallel-item:last-child::after {align-self: flex-start;width: 50%;}#sk-container-id-10 div.sk-parallel-item:only-child::after {width: 0;}#sk-container-id-10 div.sk-dashed-wrapped {border: 1px dashed gray;margin: 0 0.4em 0.5em 0.4em;box-sizing: border-box;padding-bottom: 0.4em;background-color: white;}#sk-container-id-10 div.sk-label label {font-family: monospace;font-weight: bold;display: inline-block;line-height: 1.2em;}#sk-container-id-10 div.sk-label-container {text-align: center;}#sk-container-id-10 div.sk-container {/* jupyter's `normalize.less` sets `[hidden] { display: none; }` but bootstrap.min.css set `[hidden] { display: none !important; }` so we also need the `!important` here to be able to override the default hidden behavior on the sphinx rendered scikit-learn.org. See: https://github.com/scikit-learn/scikit-learn/issues/21755 */display: inline-block !important;position: relative;}#sk-container-id-10 div.sk-text-repr-fallback {display: none;}</style><div id=\"sk-container-id-10\" class=\"sk-top-container\"><div class=\"sk-text-repr-fallback\"><pre>XGBRegressor(base_score=None, booster=None, callbacks=None,\n",
              "             colsample_bylevel=None, colsample_bynode=None,\n",
              "             colsample_bytree=None, early_stopping_rounds=None,\n",
              "             enable_categorical=False, eval_metric=None, feature_types=None,\n",
              "             gamma=None, gpu_id=None, grow_policy=None, importance_type=None,\n",
              "             interaction_constraints=None, learning_rate=0.1, max_bin=None,\n",
              "             max_cat_threshold=None, max_cat_to_onehot=None,\n",
              "             max_delta_step=None, max_depth=20, max_leaves=None,\n",
              "             min_child_weight=None, missing=nan, monotone_constraints=None,\n",
              "             n_estimators=250, n_jobs=None, num_parallel_tree=None,\n",
              "             predictor=None, random_state=123, ...)</pre><b>In a Jupyter environment, please rerun this cell to show the HTML representation or trust the notebook. <br />On GitHub, the HTML representation is unable to render, please try loading this page with nbviewer.org.</b></div><div class=\"sk-container\" hidden><div class=\"sk-item\"><div class=\"sk-estimator sk-toggleable\"><input class=\"sk-toggleable__control sk-hidden--visually\" id=\"sk-estimator-id-10\" type=\"checkbox\" checked><label for=\"sk-estimator-id-10\" class=\"sk-toggleable__label sk-toggleable__label-arrow\">XGBRegressor</label><div class=\"sk-toggleable__content\"><pre>XGBRegressor(base_score=None, booster=None, callbacks=None,\n",
              "             colsample_bylevel=None, colsample_bynode=None,\n",
              "             colsample_bytree=None, early_stopping_rounds=None,\n",
              "             enable_categorical=False, eval_metric=None, feature_types=None,\n",
              "             gamma=None, gpu_id=None, grow_policy=None, importance_type=None,\n",
              "             interaction_constraints=None, learning_rate=0.1, max_bin=None,\n",
              "             max_cat_threshold=None, max_cat_to_onehot=None,\n",
              "             max_delta_step=None, max_depth=20, max_leaves=None,\n",
              "             min_child_weight=None, missing=nan, monotone_constraints=None,\n",
              "             n_estimators=250, n_jobs=None, num_parallel_tree=None,\n",
              "             predictor=None, random_state=123, ...)</pre></div></div></div></div></div>"
            ]
          },
          "metadata": {},
          "execution_count": 104
        }
      ]
    },
    {
      "cell_type": "code",
      "source": [
        "y_pred_train = model5.predict(X_train)\n",
        "y_pred_val = model5.predict(X_val)\n",
        "\n",
        "mse_train=mean_squared_error(y_train, y_pred_train)\n",
        "mse_val=mean_squared_error(y_val, y_pred_val)\n",
        "\n",
        "print(\"Root Mean Squared error on Train data is:\",math.sqrt(mse_train))\n",
        "print(\"Root Mean Squared error on Val data is:\",math.sqrt(mse_val))"
      ],
      "metadata": {
        "id": "sHrl7Q7F0RWK",
        "colab": {
          "base_uri": "https://localhost:8080/"
        },
        "outputId": "8f3e8a72-9d84-40e2-eb37-1879555a9722"
      },
      "execution_count": null,
      "outputs": [
        {
          "output_type": "stream",
          "name": "stdout",
          "text": [
            "Root Mean Squared error on Train data is: 1.0510422638776984\n",
            "Root Mean Squared error on Val data is: 0.9950483712042965\n"
          ]
        }
      ]
    },
    {
      "cell_type": "code",
      "source": [
        "# Results with the best model\n",
        "pred5 = model5.predict(X_test)\n",
        "mse_test=mean_squared_error(y_test, pred5)\n",
        "print(\"Root Mean Squared error on Test data is:\",math.sqrt(mse_test))"
      ],
      "metadata": {
        "id": "F8HX8VQt0RWK",
        "colab": {
          "base_uri": "https://localhost:8080/"
        },
        "outputId": "cc8a72df-16a3-4376-a61a-99d15927e541"
      },
      "execution_count": null,
      "outputs": [
        {
          "output_type": "stream",
          "name": "stdout",
          "text": [
            "Root Mean Squared error on Test data is: 0.97164757779033\n"
          ]
        }
      ]
    },
    {
      "cell_type": "code",
      "source": [
        "spearmanr(y_test, pred5)"
      ],
      "metadata": {
        "id": "Kch2gRln0RWO",
        "colab": {
          "base_uri": "https://localhost:8080/"
        },
        "outputId": "ddef41cd-9d13-472b-9d0b-2601549a4735"
      },
      "execution_count": null,
      "outputs": [
        {
          "output_type": "execute_result",
          "data": {
            "text/plain": [
              "SignificanceResult(statistic=0.9950704646217198, pvalue=0.0)"
            ]
          },
          "metadata": {},
          "execution_count": 107
        }
      ]
    },
    {
      "cell_type": "code",
      "source": [
        "eval_df = pd.DataFrame({\"Actual\": y_test.values, \"Predicted\": pred5})\n",
        "spearmanr_val = spearmanr(eval_df[\"Actual\"], eval_df[\"Predicted\"])"
      ],
      "metadata": {
        "id": "P9oHnj9s0RWO"
      },
      "execution_count": null,
      "outputs": []
    },
    {
      "cell_type": "code",
      "source": [
        "fig = go.Figure()\n",
        "\n",
        "fig.add_trace(\n",
        "    go.Scattergl(\n",
        "        x=eval_df[\"Actual\"],\n",
        "        y=eval_df[\"Predicted\"],\n",
        "        name='Actual vs. Predicted',\n",
        "        mode='markers'\n",
        "    )\n",
        ")\n",
        "\n",
        "fig.add_annotation(\n",
        "    x=0.95,\n",
        "    y=0.10,\n",
        "    xref='paper',\n",
        "    yref='paper',\n",
        "    text='Spearman Rank Correlation = {:.3f}'.format(spearmanr_val.correlation),\n",
        "    showarrow=False\n",
        ")\n",
        "\n",
        "fig.update_layout(\n",
        "    title='Actual vs. Predicted',\n",
        "    height=700\n",
        ")\n",
        "\n",
        "fig.show()"
      ],
      "metadata": {
        "id": "4M3kkqxe0RWP",
        "colab": {
          "base_uri": "https://localhost:8080/",
          "height": 717
        },
        "outputId": "8c16a9e4-5f61-43fb-857e-62e997ba40ad"
      },
      "execution_count": null,
      "outputs": [
        {
          "output_type": "display_data",
          "data": {
            "text/html": [
              "<html>\n",
              "<head><meta charset=\"utf-8\" /></head>\n",
              "<body>\n",
              "    <div>            <script src=\"https://cdnjs.cloudflare.com/ajax/libs/mathjax/2.7.5/MathJax.js?config=TeX-AMS-MML_SVG\"></script><script type=\"text/javascript\">if (window.MathJax && window.MathJax.Hub && window.MathJax.Hub.Config) {window.MathJax.Hub.Config({SVG: {font: \"STIX-Web\"}});}</script>                <script type=\"text/javascript\">window.PlotlyConfig = {MathJaxConfig: 'local'};</script>\n",
              "        <script src=\"https://cdn.plot.ly/plotly-2.18.2.min.js\"></script>                <div id=\"ce7aed01-5434-4c7a-a0f3-a80550d18b56\" class=\"plotly-graph-div\" style=\"height:700px; width:100%;\"></div>            <script type=\"text/javascript\">                                    window.PLOTLYENV=window.PLOTLYENV || {};                                    if (document.getElementById(\"ce7aed01-5434-4c7a-a0f3-a80550d18b56\")) {                    Plotly.newPlot(                        \"ce7aed01-5434-4c7a-a0f3-a80550d18b56\",                        [{\"mode\":\"markers\",\"name\":\"Actual vs. Predicted\",\"x\":[48.7,62.3,82.5,51.9,52.6,90.0,49.9,51.8,57.8,48.8,39.4,51.2,43.7,45.3,45.6,49.0,44.6,88.5,90.2,49.6,49.0,53.4,39.9,44.1,49.1,54.5,51.7,46.3,73.5,39.0,43.9,49.0,41.9,45.5,28.0,40.6,72.3,66.5,47.0,50.7,44.7,57.1,44.5,53.5,43.5,51.2,34.8,30.0,51.2,50.0,47.8,50.8,60.0,51.9,51.3,68.4,55.2,37.0,47.3,55.0,50.5,50.7,49.0,60.7,47.3,65.8,43.1,37.0,54.5,41.1,68.0,47.5,47.2,40.5,46.1,53.8,49.1,43.6,81.8,60.9,66.5,44.9,33.5,54.2,37.7,53.6,38.0,52.4,48.8,58.8,55.7,39.5,76.7,49.7,38.2,45.9,44.2,53.9,51.2,67.8,44.4,52.5,62.7,56.4,47.4,83.4,47.7,47.4,44.1,39.2,36.2,41.8,62.0,41.0,45.4,56.3,81.4,49.3,48.3,43.0,59.2,50.5,95.2,53.2,50.7,43.0,55.8,38.9,46.3,33.9,51.3,49.5,49.0,49.0,36.6,52.8,43.2,41.7,55.3,56.9,39.4,44.1,50.8,55.1,46.9,49.5,42.2,43.1,43.7,37.6,45.6,84.7,58.8,33.6,54.8,66.9,76.5,44.0,40.2,46.1,52.3,58.4,50.5,85.9,48.7,49.7,51.6,86.6,51.1,61.5,70.8,39.3,41.6,41.9,78.7,50.7,51.1,88.3,54.5,34.7,68.9,49.7,47.7,45.8,48.7,39.0,92.4,35.6,38.2,50.6,57.2,40.0,53.3,39.8,58.2,52.4,38.5,46.2,75.5,52.4,52.6,51.1,70.7,41.0,35.0,44.5,50.6,47.6,46.7,54.9,52.5,46.0,49.1,52.5,50.4,66.0,46.9,46.6,44.1,50.2,41.0,52.7,89.6,58.8,37.7,50.9,48.8,45.8,38.5,38.5,37.3,43.3,48.3,41.6,52.2,57.8,71.2,41.4,50.7,54.9,49.8,47.6,50.4,48.2,49.5,53.9,48.9,61.7,54.2,49.1,65.2,58.1,71.7,52.3,41.0,50.9,44.1,45.6,50.0,37.3,40.1,48.5,46.7,65.3,61.0,59.3,67.6,28.0,45.4,53.5,60.3,45.1,45.6,48.3,53.9,52.9,49.1,50.1,42.7,45.4,54.0,54.9,53.0,48.5,39.7,79.2,47.2,42.7,43.7,56.2,39.9,56.2,45.9,49.7,53.6,42.3,46.4,46.9,59.5,64.5,37.9,42.0,43.1,48.3,57.7,46.6,47.4,60.2,46.4,40.5,38.2,70.0,45.2,39.2,42.6,47.4,60.0,47.8,61.0,34.9,51.7,90.4,42.2,32.5,35.8,69.8,52.3,54.2,89.0,52.9,40.1,55.4,39.7,59.1,55.1,47.0,46.2,51.7,43.4,79.5,42.0,41.7,41.8,38.3,45.2,57.0,60.3,51.6,76.3,45.8,54.6,28.0,34.0,41.9,51.0,40.7,43.8,41.6,38.6,42.9,44.8,41.1,44.2,46.8,50.6,48.7,75.3,43.7,41.3,68.1,47.0,44.6,42.8,56.8,87.2,48.3,87.3,47.9,42.9,66.7,46.8,66.2,90.4,44.2,46.4,89.9,52.7,46.4,50.1,40.4,55.3,37.4,48.5,49.2,35.7,67.5,37.6,38.4,37.7,49.1,56.0,51.1,47.1,55.5,47.4,41.2,47.3,47.8,51.0,75.8,49.2,48.9,46.9,49.7,43.7,82.2,42.9,54.1,41.7,50.9,48.1,47.2,36.9,47.8,49.4,43.1,54.7,50.8,64.1,88.3,45.6,43.2,47.8,30.0,57.4,47.2,43.1,49.6,65.4,44.8,47.8,83.8,39.5,90.2,48.4,39.3,42.3,38.9,49.0,46.9,50.4,88.0,49.1,49.1,43.5,37.4,87.0,59.3,52.1,52.1,42.3,51.3,45.8,49.4,61.2,64.1,33.2,80.5,48.6,48.7,37.6,50.1,41.3,62.5,64.0,41.8,43.4,70.2,47.5,41.7,50.7,52.8,41.6,48.1,46.0,42.9,38.9,48.5,67.0,71.4,49.4,54.6,50.5,45.7,37.3,51.2,50.0,42.6,47.2,52.2,52.7,51.2,44.9,48.2,51.5,36.5,89.2,49.9,50.1,43.2,42.8,83.2,45.5,41.1,50.0,54.3,46.7,47.4,63.7,45.9,49.5,36.1,40.2,46.9,67.0,52.1,44.7,53.1,47.4,51.3,42.2,73.9,44.9,85.1,36.5,53.8,46.0,74.0,49.3,50.6,68.5,56.3,47.1,56.9,68.4,53.8,48.1,49.3,48.7,48.8,51.7,95.6,35.4,48.0,94.4,54.7,73.8,52.3,45.7,45.9,51.7,42.9,53.1,50.3,38.5,40.7,41.8,49.6,87.4,50.7,48.8,50.8,59.3,38.2,45.2,44.7,48.8,57.0,50.0,44.0,41.9,52.2,41.9,53.7,48.3,51.1,63.2,45.0,49.4,50.5,45.6,38.8,49.3,54.6,71.7,43.8,52.1,52.1,50.0,39.7,81.5,80.8,51.9,38.2,48.4,64.5,54.6,47.7,45.5,46.9,47.2,49.4,53.5,60.7,53.8,39.6,50.7,48.2,66.8,43.9,39.5,50.0,39.4,75.1,39.4,59.5,47.7,34.6,47.9,43.4,49.2,49.0,48.7,44.1,44.1,60.5,28.9,52.6,47.9,51.4,65.0,43.9,51.4,44.5,51.1,40.0,36.4,48.7,47.7,39.9,42.4,38.8,46.4,45.3,49.7,34.4,55.4,47.5,41.0,48.8,49.9,68.4,50.6,62.2,41.9,48.6,49.2,79.5,52.6,63.1,44.0,49.6,45.2,42.3,41.3,59.6,52.3,42.6,66.4,45.3,48.8,38.8,52.8,52.1,42.7,45.0,49.4,45.7,52.0,50.0,48.6,50.5,44.1,51.0,43.7,51.5,69.4,47.8,45.6,48.8,53.7,54.8,49.9,42.6,74.6,58.8,47.5,40.9,53.4,50.1,28.0,47.4,45.9,37.8,60.3,53.7,40.7,90.6,46.3,50.6,70.8,53.6,48.3,57.4,71.6,55.4,49.9,44.7,53.7,61.4,58.6,42.1,49.8,84.6,39.3,48.8,50.3,63.4,34.9,50.7,39.1,85.8,38.0,46.3,55.7,25.8,46.2,47.1,68.1,61.3,38.6,39.8,54.0,38.4,37.9,54.5,50.1,47.6,88.3,47.2,53.2,43.8,48.1,60.5,52.2,53.4,58.8,50.5,64.5,47.5,47.1,71.3,55.4,45.7,48.0,43.0,48.9,48.0,53.9,49.0,96.5,48.4,60.4,47.5,42.4,45.8,43.2,36.7,39.1,44.1,53.8,44.8,50.0,46.5,48.8,42.7,43.2,36.3,41.4,73.8,47.8,36.9,36.8,53.4,37.9,93.1,51.3,42.4,45.9,51.1,46.1,41.6,39.2,54.3,46.7,52.3,45.4,48.1,55.2,38.2,53.6,62.4,48.4,77.9,43.2,44.5,41.3,46.2,37.7,43.4,52.8,60.2,85.8,51.9,50.8,35.9,47.2,87.5,40.4,50.8,48.0,46.1,45.2,43.9,42.7,43.6,47.9,50.0,50.3,50.2,57.4,66.7,43.0,40.0,54.0,86.7,52.0,38.6,52.5,48.6,47.0,53.4,41.9,53.1,39.4,61.5,45.9,54.4,76.9,36.7,41.4,42.0,48.3,46.0,41.4,62.0,51.4,56.3,43.2,45.0,56.0,45.9,51.0,52.0,44.4,69.3,76.4,39.6,44.1,61.0,47.4,36.2,45.5,48.6,51.5,73.8,43.3,50.6,80.2,48.7,43.4,42.0,51.7,51.0,41.4,48.4,69.8,52.0,51.0,91.8,38.6,51.6,41.3,53.3,50.0,52.0,45.2,37.9,51.7,67.0,49.7,48.4,43.4,62.3,44.6,41.5,50.7,49.0,42.0,54.6,38.6,39.0,38.3,54.1,37.2,47.0,52.4,42.7,47.2,57.5,50.7,52.4,42.2,65.2,54.0,54.1,55.2,84.3,41.1,57.2,45.8,41.8,38.5,43.5,46.5,46.2,77.7,47.9,37.7,49.0,50.8,40.5,48.6,47.6,50.1,39.3,44.0,51.7,52.2,70.4,37.8,59.1,47.8,45.9,41.5,46.5,45.8,41.0,46.5,51.4,52.1,36.6,44.9,52.2,51.1,51.0,44.3,81.4,43.1,50.8,49.9,71.5,47.7,43.1,90.4,49.3,51.7,42.5,60.3,45.6,37.1,74.2,38.4,43.0,53.6,55.5,36.9,37.4,42.3,50.2,49.0,42.2,37.2,59.3,67.7,39.7,37.1,45.0,52.3,47.9,72.6,46.9,85.7,67.2,52.0,44.3,56.1,45.0,57.2,50.3,45.7,43.4,48.0,48.7,39.1,42.2,51.0,61.0,38.4,51.4,47.5,37.5,41.0,48.9,56.2,68.5,51.9,42.2,42.5,55.8,34.4,51.3,38.9,48.5,43.4,72.9,43.2,41.3,29.9,63.2,46.9,41.3,47.1,46.0,53.6,38.3,43.5,54.0,39.2,70.5,88.9,47.2,39.5,75.5,51.2,72.9,52.9,44.1,51.8,46.1,45.6,65.8,38.9,41.3,45.5,70.7,38.8,46.5,39.6,48.7,41.4,51.7,47.4,49.0,84.0,46.9,87.7,46.4,45.0,48.6,48.3,42.3,42.3,42.6,48.4,52.4,42.3,39.7,42.8,52.0,42.2,66.6,40.1,63.7,45.8,51.6,47.7,47.2,41.4,67.7,69.7,44.2,49.8,54.3,48.4,53.4,62.7,68.4,48.0,49.1,40.9,66.8,41.1,58.7,41.7,84.4,67.6,40.8,54.7,56.9,47.4,51.9,34.5,85.4,66.6,92.9,42.6,61.4,67.2,74.9,49.0,95.6,75.7,38.0,66.7,54.7,94.6,49.7,47.2,75.1,39.1,41.6,42.1,53.9,47.6,39.6,40.1,34.4,45.2,49.1,39.2,35.4,48.1,63.2,62.1,37.3,55.5,46.6,61.5,48.5,55.3,45.3,43.2,48.4,40.5,78.3,43.7,67.5,77.1,40.0,49.9,31.0,61.5,62.0,49.1,50.2,43.8,41.1,33.8,52.0,43.6,40.8,64.4,48.8,69.4,50.3,41.9,55.3,40.6,40.0,49.8,45.9,53.9,52.0,43.5,46.3,44.9,47.2,93.1,44.2,46.0,42.2,46.7,64.2,43.9,40.0,53.5,50.1,40.3,44.3,49.4,51.7,53.5,49.0,40.7,45.7,42.3,51.3,39.4,44.0,56.1,40.7,46.3,53.6,65.2,48.7,62.0,52.9,49.3,70.8,65.0,50.9,85.0,49.4,49.2,48.9,51.4,50.5,83.6,85.4,52.7,47.9,47.9,42.9,50.5,52.8,52.2,48.5,44.3,69.5,53.6,47.3,55.5,48.5,62.0,40.0,49.9,53.5,37.3,54.9,50.0,50.5,48.2,53.5,45.2,64.7,46.7,56.6,44.5,48.0,53.0,47.9,47.9,56.5,40.0,37.1,43.5,41.1,31.9,43.5,44.1,49.7,41.8,42.7,43.2,49.6,47.8,47.7,39.4,41.9,51.0,73.1,89.1,53.4,61.5,36.3,45.7,62.6,36.4,48.0,49.9,49.8,45.0,51.8,66.0,61.0,46.5,60.4,35.9,75.2,79.0,73.8,53.4,52.4,44.2,52.0,43.1,64.0,53.8,55.0,49.8,47.1,56.0,42.7,42.5,74.8,69.7,43.1,78.9,56.1,41.7,79.6,44.9,61.5,89.1,39.1,54.1,58.8,55.2,41.4,42.8,69.8,41.1,43.6,43.5,41.4,55.4,50.0,52.0,43.8,38.7,48.4,62.0,39.1,45.4,49.4,42.2,37.5,50.9,28.0,46.1,43.5,42.6,54.6,49.9,67.0,59.0,39.5,51.9,39.8,41.1,39.1,39.9,37.1,50.1,51.4,50.5,48.8,41.9,49.6,47.4,48.7,55.0,43.0,51.4,39.1,42.3,47.4,50.3,55.7,58.7,79.6,47.2,45.3,28.0,51.3,44.6,49.3,47.7,48.2,88.4,70.6,46.7,42.5,72.4,47.2,43.3,72.2,40.0,49.1,42.6,51.5,44.1,63.0,69.8,49.2,34.7,46.3,43.3,49.7,53.4,39.6,66.9,46.7,47.1,88.6,53.6,40.4,44.0,41.1,63.2,42.8,48.0,41.4,57.7,43.6,40.7,47.2,54.6,48.8,78.3,41.8,54.4,65.5,55.0,48.3,50.3,52.0,55.6,43.9,76.1,48.5,46.1,72.4,49.6,49.3,38.3,43.4,50.9,50.2,48.1,56.0,36.2,45.3,38.9,68.9,50.1,48.5,60.1,52.4,34.2,49.9,47.0,50.8,71.0,51.4,39.9,58.9,56.4,50.5,83.8,42.1,51.7,41.1,53.6,42.0,51.4,58.0,44.6,55.0,50.2,40.9,38.3,65.9,73.6,44.9,50.4,43.0,53.6,61.8,50.3,50.2,51.3,43.9,51.9,36.6,90.8,86.5,83.9,50.0,53.8,64.8,39.9,49.6,44.0,37.3,38.5,35.7,68.5,54.2,44.1,46.2,47.0,58.7,58.9,42.2,40.7,49.0,43.5,52.6,53.4,62.6,47.5,45.7,52.2,51.2,50.9,50.2,49.6,37.3,41.6,45.2,90.2,52.2,36.8,45.5,41.3,51.9,49.4,85.2,48.0,63.8,48.0,88.5,43.5,51.9,42.1,62.4,44.5,59.4,47.5,45.2,70.4,49.4,51.9,43.4,61.2,51.3,50.8,52.4,44.7,87.6,48.8,52.8,36.0,63.9,74.1,34.1,64.9,70.3,65.5,43.5,46.6,88.5,48.9,52.2,45.1,49.8,40.9,51.0,47.5,50.7,52.5,40.2,35.5,40.0,55.7,46.4,48.3,46.0,41.6,41.9,57.0,72.1,47.4,45.1,43.6,83.2,37.8,52.5,54.5,43.4,50.2,64.2,39.9,96.0,49.8,45.0,39.1,50.6,54.6,58.9,37.0,39.0,45.5,45.4,40.8,40.4,43.7,89.7,52.2,86.5,39.8,72.0,51.0,41.3,69.3,40.4,48.3,50.4,39.6,91.5,40.4,41.0,41.1,47.8,45.4,41.2,89.7,51.7,51.5,34.2,74.7,53.1,38.9,52.5,38.1,47.4,51.7,42.7,45.0,44.2,53.7,49.1,37.1,52.2,50.2,79.9,36.8,38.8,58.4,42.6,39.6,45.9,54.5,38.0,57.8,35.6,36.7,50.4,43.7,42.9,44.4,76.0,45.6,54.7,48.3,50.4,40.2,56.0,49.6,47.7,49.3,50.6,91.5,50.8,38.1,43.3,63.0,59.7,47.7,40.6,46.1,47.3,44.3,46.4,43.2,37.9,37.1,38.1,50.3,50.8,63.4,44.5,42.2,50.9,48.9,42.7,48.1,60.6,49.4,91.1,62.4,66.0,37.5,48.7,47.9,83.4,48.4,44.7,46.0,49.6,34.2,77.8,59.1,48.9,49.0,78.4,56.1,43.3,65.7,46.0,47.2,43.7,58.1,51.8,39.9,55.0,46.8,57.6,39.0,65.2,57.4,55.5,92.0,48.9,55.6,28.8,46.4,35.7,71.9,63.6,54.2,39.9,42.9,74.6,50.4,53.8,37.1,53.0,52.8,52.0,41.5,43.2,50.2,38.9,47.7,43.3,94.1,33.5,62.9,38.4,52.1,44.6,50.7,52.3,37.4,50.4,60.5,31.2,49.0,48.4,60.7,51.0,58.2,50.6,42.1,68.0,49.5,42.7,69.5,63.3,93.5,48.8,37.0,45.7,39.6,46.3,86.2,64.6,38.9,30.0,40.7,43.2,45.6,38.6,54.0,41.1,45.1,40.2,54.5,77.3,57.8,27.7,81.7,47.1,45.3,59.0,41.9,48.8,56.0,41.6,74.3,49.7,50.5,38.2,74.7,49.6,39.0,48.1,42.5,32.2,39.3,48.4,46.1,47.3,39.0,33.8,51.8,57.1,63.5,39.5,42.3,45.2,45.0,50.7,44.2,48.9,51.5,46.4,44.9,46.3,49.7,54.4,49.1,59.3,66.6,37.5,55.5,46.4,45.1,42.7,41.8,37.8,52.3,65.0,50.0,40.0,52.2,40.1,45.0,65.1,58.5,50.3,49.0,41.1,87.8,47.7,40.0,60.4,52.0,45.5,53.8,46.2,49.2,86.1,40.4,56.9,75.5,46.3,47.8,52.3,35.8,36.9,42.0,42.5,90.3,48.5,62.6,50.2,55.0,52.4,45.5,51.8,46.0,49.8,54.6,45.9,43.5,34.1,57.8,52.6,49.1,48.2,52.5,42.2,39.2,68.1,59.6,71.1,48.3,49.4,48.9,48.7,51.3,71.9,41.6,73.8,50.3,56.1,46.8,62.0,49.0,50.8,50.0,50.3,46.0,45.6,44.4,45.5,47.6,50.8,65.0,50.4,34.3,47.3,85.6,54.1,39.4,45.6,47.6,42.5,47.2,49.8,50.1,51.0,59.6,51.6,47.2,42.7,41.9,68.0,44.8,55.5,47.3,40.8,46.1,41.7,44.3,46.5,51.1,48.9,43.2,54.3,48.8,58.7,69.4,47.2,78.5,90.7,42.7,37.5,56.4,49.2,46.5,47.3,44.3,37.0,85.1,51.0,50.7,49.1,47.6,50.0,92.3,44.1,62.4,54.2,46.1,54.3,57.7,66.2,43.3,55.0,39.6,43.7,63.3,43.7,46.8,45.0,39.5,46.4,90.3,52.3,56.5,45.9,56.5,37.5,81.0,35.1,36.7,34.6,41.7,55.2,39.2,43.1,53.4,63.5,60.6,53.6,51.0,52.8,53.6,47.8,44.9,53.7,40.0,65.1,64.0,49.9,47.6,32.0,53.3,52.7,41.6,51.3,53.8,49.1,47.1,85.7,45.4,51.6,66.7,46.2,46.0,46.0,49.5,45.6,42.5,37.5,50.6,50.3,68.1,51.1,70.5,67.5,79.2,55.5,46.3,57.8,49.6,57.9,37.8,52.5,54.8,45.3,71.1,55.5,65.0,60.3,49.6,65.5,51.5,68.4,37.6,50.9,37.6,47.0,56.8,50.7,38.9,43.3,37.2,44.8,41.9,49.9,51.0,41.9,49.6,45.1,38.8,46.8,86.2,38.0,45.5,55.8,44.7,50.0,39.4,49.3,46.9,62.5,78.4,47.4,38.6,42.0,46.9,46.8,48.6,38.3,52.0,51.7,44.5,47.4,42.8,49.7,51.7,50.8,50.1,55.9,51.0,74.8,53.2,47.7,46.4,38.6,75.0,55.2,50.3,48.5,36.5,49.8,41.1,48.3,42.8,52.1,54.8,48.1,42.6,52.4,54.3,57.4,95.0,45.8,54.7,56.2,42.8,48.5,46.3,48.5,53.2,46.0,61.6,49.8,42.1,37.5,38.9,43.9,48.5,57.5,39.2,37.4,65.2,67.4,40.0,73.2,88.1,48.9,53.4,44.0,49.2,54.7,71.0,70.2,47.0,38.1,51.4,46.7,40.9,43.8,45.4,79.3,72.8,51.3,51.4,54.4,55.1,49.5,48.8,54.4,47.7,45.2,41.0,40.4,37.8,49.3,48.5,57.3,48.5,59.0,38.3,59.4,88.4,35.0,46.3,76.2,39.5,66.4,45.4,48.3,39.8,48.9,41.9,50.3,50.9,58.8,49.7,42.9,38.8,49.7,48.8,45.8,52.8,44.4,45.2,46.4,49.1,55.4,50.9,50.5,64.4,62.9,48.9,87.4,74.8,71.9,63.4,83.5,56.6,41.8,45.6,71.9,70.2,74.0,80.3,51.3,59.0,53.7,50.9,63.8,40.2,46.5,48.4,44.8,59.6,49.6,37.3,46.8,42.4,84.0,41.6,53.2,49.9,46.2,43.1,48.9,50.4,51.3,50.5,47.4,49.7,50.4,51.4,79.5,47.4,52.6,39.7,51.4,44.6,40.6,53.0,43.5,54.3,54.4,65.8,40.0,49.7,45.0,43.0,42.1,55.5,40.5,53.3,42.4,52.0,66.1,37.8,51.4,55.4,46.4,38.9,39.7,78.1,55.4,51.5,43.5,71.6,54.7,43.5,71.1,90.8,40.6,41.5,49.2,42.8,52.0,46.9,83.7,54.3,45.3,49.4,57.0,36.1,46.6,49.9,41.3,40.3,25.5,56.2,48.7,49.7,50.9,43.5,40.3,67.9,66.1,48.1,47.2,48.2,45.5,43.4,65.0,52.4,42.2,52.6,37.6,90.1,52.4,53.1,74.2,74.2,50.0,52.0,37.1,50.6,50.7,64.7,42.2,44.8,68.5,86.6,45.9,52.9,54.7,47.8,62.1,53.3,34.4,42.0,91.0,44.7,48.3,42.6,40.6,49.4,54.3,63.2,44.4,48.3,43.9,71.8,55.0,51.8,84.4,60.9,51.7,47.3,41.1,65.6,58.8,44.9,65.0,36.9,66.3,48.2,90.1,54.3,63.0,96.4,62.7,52.8,52.0,50.5,45.0,55.1,50.8,40.0,71.3,49.7,39.4,59.9,54.6,70.2,49.9,42.1,47.7,53.5,36.8,46.5,49.8,78.4,53.3,47.6,40.4,51.3,46.9,47.5,44.5,59.4,61.5,45.7,79.3,45.8,44.7,47.3,50.6,41.8,41.4,54.1,87.6,67.7,51.0,67.1,43.2,67.1,46.9,38.5,35.8,47.3,42.7,47.6,39.6,48.6,78.4,72.7,39.0,42.3,43.0,60.5,52.8,57.7,91.9,95.0,48.1,42.6,65.0,40.0,50.1,64.5,49.0,44.9,55.1,50.5,60.9,46.2,48.3,40.3,43.6,56.0,42.3,51.0,42.4,57.8,46.0,47.6,44.7,50.6,45.7,47.0,43.0,53.6,40.0,47.0,42.6,43.0,44.3,44.0,34.6,56.7,42.7,41.9,44.3,48.2,46.7,44.4,43.7,42.9,60.0,46.8,38.1,40.9,50.3,42.4,40.1,50.6,35.8,45.7,50.8,38.8,65.6,45.3,53.3,54.0,57.0,55.5,43.6,53.3,39.7,45.3,41.7,49.4,46.2,40.3,53.6,51.3,64.5,28.0,47.6,43.0,71.1,40.5,64.7,62.1,58.0,48.1,43.8,50.4,51.6,51.9,44.4,47.5,44.2,54.9,57.2,51.5,44.2,42.8,38.5,50.4,40.3,43.1,58.1,49.6,70.4,36.6,40.3,46.9,68.8,38.0,54.7,53.6,48.2,96.4,54.2,48.3,50.8,36.8,53.7,40.6,47.7,48.6,38.4,56.0,53.2,66.9,44.6,72.8,41.6,53.6,52.2,52.3,51.7,45.1,56.9,51.4,45.8,61.9,45.7,42.2,51.8,59.3,78.0,51.3,96.1,41.6,61.0,46.8,50.4,35.3,36.7,78.3,42.9,47.4,44.8,44.0,34.6,41.7,72.5,48.4,53.2,44.7,47.4,46.5,71.9,45.5,53.5,37.9,49.1,51.6,50.6,96.5,33.9,36.3,71.0,57.7,26.4,45.2,49.5,87.0,44.2,41.7,50.0,52.0,47.9,51.1,39.9,39.3,50.5,46.0,53.5,44.4,48.0,65.0,36.2,52.1,37.9,40.1,47.4,51.6,49.4,44.5,73.3,84.0,40.5,67.7,48.0,46.3,47.9,37.9,46.9,50.0,42.6,45.1,50.5,49.1,41.2,89.1,37.7,35.6,42.8,42.7,35.9,45.1,50.0,81.8,46.6,40.8,49.4,71.9,47.6,51.4,38.5,69.1,33.6,39.0,76.9,45.8,64.6,62.5,49.3,41.9,37.6,52.5,81.2,45.8,62.7,42.0,42.7,36.6,40.9,31.3,37.6,36.8,42.0,44.3,48.0,64.4,44.9,78.0,35.1,40.0,83.8,50.8,41.3,46.3,46.4,53.2,74.1,61.9,39.1,47.1,50.9,42.2,40.2,45.7,50.7,52.9,52.0,35.0,64.7,47.0,44.4,52.3,43.8,53.2,44.4,48.9,41.7,53.3,50.9,45.2,46.3,53.3,51.9,50.3,44.5,45.7,54.8,50.1,45.0,52.7,88.2,38.0,37.6,70.1,52.1,50.1,45.3,53.3,40.7,59.5,74.8,38.0,43.1,42.2,62.0,68.0,87.1,89.7,37.1,45.4,36.6,42.0,76.1,54.3,50.4,45.3,55.8,73.0,91.2,76.2,51.4,42.5,39.5,45.5,41.0,40.0,52.8,41.3,49.1,39.7,48.2,44.0,43.7,42.1,42.1,51.6,55.9,52.2,40.0,50.2,71.4,66.5,51.8,51.7,52.9,40.8,34.1,42.0,42.0,42.5],\"y\":[48.70039367675781,62.27134704589844,82.50019836425781,51.90123748779297,52.59873580932617,89.99846649169922,49.9041748046875,51.80002975463867,57.7994384765625,48.800113677978516,39.40186309814453,51.19997787475586,43.70027160644531,45.300506591796875,45.60105895996094,48.99993896484375,44.60007095336914,88.5,90.19995880126953,49.59940719604492,49.00038528442383,49.29927444458008,39.90206527709961,44.10004806518555,49.099937438964844,54.49868392944336,51.70035171508789,46.302467346191406,73.49998474121094,39.00010299682617,43.901912689208984,49.00038146972656,41.90366744995117,45.49837875366211,27.99940299987793,40.597816467285156,72.29203796386719,66.48728942871094,47.0002326965332,50.70104217529297,44.69721984863281,57.094482421875,44.500728607177734,53.464630126953125,41.65749740600586,51.199867248535156,34.80115509033203,30.000120162963867,51.19975280761719,49.99956512451172,47.79928207397461,50.800270080566406,59.99921417236328,51.89963912963867,51.2996711730957,68.4005126953125,55.19976806640625,37.001277923583984,47.30000305175781,54.998687744140625,50.499671936035156,50.699623107910156,48.99992752075195,60.695064544677734,47.30202102661133,65.79255676269531,43.09922409057617,36.99851608276367,54.50013732910156,41.10036087036133,70.04053497314453,47.500335693359375,47.200077056884766,40.495880126953125,46.09952926635742,53.79974365234375,49.09319305419922,43.59856414794922,81.80107879638672,60.89386749267578,66.50098419189453,44.900062561035156,33.50432586669922,54.197784423828125,37.699981689453125,53.5989990234375,38.000205993652344,52.39775085449219,48.800140380859375,58.79875183105469,55.699302673339844,39.50362014770508,76.69929504394531,49.70034408569336,38.20109176635742,45.906986236572266,44.196659088134766,53.899967193603516,51.19969940185547,67.79889678955078,44.3998908996582,52.50022506713867,62.699684143066406,56.400028228759766,47.400047302246094,83.39986419677734,47.70016860961914,47.39841079711914,45.70051574707031,39.200408935546875,36.20254898071289,41.800437927246094,62.99055862426758,41.00094223022461,45.401702880859375,56.300018310546875,81.40064239501953,49.29951858520508,48.30015563964844,42.999691009521484,59.199867248535156,50.49863815307617,95.1988754272461,53.19809341430664,50.70001983642578,43.000240325927734,55.80045700073242,38.901763916015625,46.300018310546875,33.91608810424805,51.29894256591797,49.50032043457031,49.00018310546875,49.00053405761719,36.60542678833008,52.80134963989258,43.20104217529297,41.7001953125,55.29978561401367,56.8993034362793,39.40127182006836,44.10000991821289,50.7999382019043,55.098358154296875,46.90563201904297,49.49980545043945,42.19998550415039,43.100955963134766,43.69978713989258,37.60004425048828,45.59809494018555,84.69091033935547,58.799835205078125,33.6058349609375,54.79201889038086,66.89972686767578,76.34736633300781,43.99957275390625,40.20024108886719,46.099998474121094,52.298465728759766,58.396305084228516,50.49979019165039,85.8998031616211,48.70058822631836,49.69960021972656,51.599822998046875,86.59996795654297,51.100181579589844,61.49977493286133,70.0469741821289,39.30042266845703,41.60039138793945,41.899627685546875,78.699951171875,45.349708557128906,51.09994125366211,88.30005645751953,59.75059509277344,34.700416564941406,68.90068054199219,49.70179748535156,47.70015335083008,45.79887008666992,48.70009231567383,39.00162124633789,92.39923858642578,35.60285186767578,38.20035171508789,50.59961700439453,57.19956588745117,40.00006866455078,53.30250549316406,39.79951095581055,58.19953536987305,52.401554107666016,38.502357482910156,46.1998405456543,75.49928283691406,52.39994812011719,52.600257873535156,51.10030746459961,70.69979858398438,40.9998779296875,35.00949478149414,44.500980377197266,50.59950637817383,47.599666595458984,46.69927215576172,54.89619064331055,52.50020217895508,46.0001106262207,49.099361419677734,52.500732421875,50.40032958984375,64.65288543701172,46.900360107421875,46.59904098510742,44.10029602050781,50.2002067565918,41.00016403198242,52.6999397277832,89.60075378417969,58.799888610839844,37.700653076171875,50.89923095703125,48.80060958862305,45.80088806152344,38.502010345458984,38.49983596801758,37.300636291503906,43.30066680908203,48.29899215698242,41.60051727294922,52.202613830566406,57.804264068603516,71.19471740722656,41.39997482299805,50.699981689453125,54.89875030517578,49.80009460449219,47.599876403808594,50.3969841003418,48.19823455810547,49.49994659423828,53.898948669433594,48.89982223510742,61.699501037597656,54.19862365722656,49.10031509399414,65.20048522949219,49.04749298095703,71.70079803466797,52.30103302001953,40.99927520751953,50.894737243652344,44.102230072021484,45.59981155395508,49.9998664855957,37.30180740356445,40.10050582885742,48.50307083129883,46.698760986328125,65.29930114746094,70.13308715820312,59.299583435058594,67.59713745117188,27.999521255493164,45.40026092529297,53.49977493286133,60.29948806762695,45.10006332397461,45.597434997558594,48.29987335205078,53.900020599365234,52.89931869506836,49.09791946411133,50.092376708984375,42.6997184753418,45.400272369384766,54.00595474243164,54.924957275390625,52.999759674072266,48.49982452392578,39.70030212402344,79.19973754882812,47.199642181396484,42.70085525512695,43.70050048828125,54.09995651245117,39.899688720703125,56.20012664794922,45.90064239501953,49.700172424316406,53.599700927734375,42.30105209350586,46.40020751953125,46.900699615478516,59.496585845947266,64.49803161621094,37.89958190917969,41.9970817565918,43.099857330322266,48.29946517944336,57.699684143066406,46.6018180847168,47.39917755126953,60.19976043701172,46.40076446533203,40.5002555847168,38.20314025878906,69.99916076660156,45.19863510131836,39.20034408569336,42.59999465942383,47.399864196777344,62.145328521728516,47.79993438720703,60.995243072509766,34.90019989013672,51.69944763183594,90.39979553222656,42.199642181396484,32.49995422363281,35.80229568481445,69.80115509033203,52.299922943115234,54.20000457763672,89.00084686279297,52.89960479736328,40.10051727294922,55.40000534057617,39.699710845947266,59.733909606933594,55.100067138671875,46.998680114746094,46.20018768310547,51.697227478027344,43.398250579833984,79.50395202636719,41.9968147277832,41.70051956176758,41.8001594543457,38.30009460449219,45.20024871826172,56.99940872192383,60.298763275146484,51.599796295166016,76.29959869384766,45.80110549926758,54.60074996948242,27.999958038330078,34.001220703125,41.89997482299805,51.000518798828125,40.70262145996094,43.799949645996094,41.60075759887695,38.605262756347656,42.90064239501953,44.80059051513672,41.10121536254883,44.201961517333984,46.79956817626953,50.600013732910156,48.70014953613281,75.2997055053711,43.699867248535156,41.3003044128418,68.10025787353516,46.999755859375,44.5994987487793,42.800537109375,56.79941940307617,87.20043182373047,48.29912567138672,87.2996826171875,47.89832305908203,42.900638580322266,66.70178985595703,46.79973602294922,66.20045471191406,70.20075988769531,44.59946060180664,46.40099334716797,89.89979553222656,52.70086669921875,46.39993667602539,50.10171127319336,40.3996467590332,55.29977035522461,37.3996696472168,48.50065612792969,49.19904327392578,35.706233978271484,67.4982681274414,37.599761962890625,38.40273666381836,37.70144271850586,49.10017395019531,55.99814224243164,51.09961700439453,47.10114288330078,55.49955749511719,47.40147018432617,41.19944763183594,47.30036163330078,47.80447769165039,50.99952697753906,75.79979705810547,49.20002746582031,48.898983001708984,46.90024948120117,49.70090866088867,43.700416564941406,82.18553924560547,42.899566650390625,54.10008239746094,41.70048141479492,50.90038299560547,48.09999084472656,47.201171875,36.899932861328125,47.80034255981445,49.40003967285156,43.09999465942383,54.69999313354492,50.80062484741211,64.09947204589844,88.2997055053711,45.60017395019531,43.20034408569336,47.80046463012695,29.999820709228516,57.3992919921875,47.20033264160156,43.102867126464844,49.600215911865234,65.39995574951172,44.799503326416016,47.79977035522461,83.79991912841797,39.50257110595703,90.19957733154297,48.3999137878418,39.301246643066406,42.299591064453125,38.899967193603516,48.99909973144531,46.900142669677734,50.399967193603516,88.00106048583984,49.09956741333008,49.100223541259766,43.50026321411133,37.40032196044922,87.00128936767578,59.29988098144531,52.099525451660156,52.09979248046875,42.3001823425293,51.29975509643555,45.800132751464844,49.40336608886719,61.20303726196289,64.09902954101562,33.20166778564453,80.4994888305664,48.59975814819336,48.69960403442383,37.600189208984375,50.099727630615234,41.30071258544922,71.59973907470703,64.00019073486328,41.80000305175781,43.40076446533203,70.19989776611328,47.50054931640625,41.69997024536133,50.70002746582031,52.79945755004883,41.60066223144531,48.099430084228516,41.102027893066406,42.900428771972656,38.906185150146484,48.49934387207031,66.9999008178711,71.40049743652344,49.39980697631836,54.59965133666992,50.500022888183594,45.700374603271484,37.302581787109375,51.19951629638672,50.00020217895508,42.59980010986328,47.20038986206055,52.19996643066406,52.69994354248047,51.19990921020508,44.90184783935547,48.1987419128418,51.497581481933594,36.50013732910156,89.19953918457031,49.89970016479492,50.098243713378906,43.19988250732422,37.4501838684082,83.19976043701172,45.50131607055664,41.1007080078125,50.000511169433594,54.298831939697266,46.69919204711914,47.39984893798828,63.69899368286133,45.900691986083984,49.49979782104492,36.10062026977539,40.2001838684082,46.90018844604492,67.00001525878906,52.10036849975586,44.69997787475586,53.10005187988281,47.40047836303711,51.299564361572266,42.199562072753906,73.89888763427734,44.90016174316406,85.10009002685547,36.501182556152344,53.79998016357422,48.902557373046875,73.99930572509766,49.30083465576172,50.5993537902832,68.49433898925781,56.30054473876953,47.099849700927734,56.89897918701172,68.39778137207031,53.799896240234375,48.09956741333008,49.29965591430664,48.700050354003906,48.79963302612305,51.699851989746094,95.59904479980469,35.401607513427734,48.00004196166992,91.89981079101562,54.700347900390625,73.79996490478516,52.300594329833984,45.70117950439453,45.90011978149414,51.69972229003906,42.90019607543945,53.101905822753906,50.300453186035156,38.50044250488281,40.70005798339844,41.79983901977539,49.60045623779297,87.3997802734375,50.69666290283203,48.80021286010742,50.7995491027832,62.14922332763672,38.20040512084961,45.19987869262695,44.70009994506836,48.799720764160156,56.994415283203125,49.99971008300781,44.00062942504883,41.901458740234375,52.20005416870117,41.90000915527344,53.699832916259766,48.29952621459961,51.0992317199707,63.19722366333008,45.00165939331055,49.400428771972656,50.50026321411133,45.59982681274414,38.80103302001953,49.29917907714844,54.60638427734375,71.70014953613281,43.80051040649414,52.10011672973633,52.10078430175781,49.99955749511719,39.70040512084961,81.49974060058594,80.79994201660156,51.90372085571289,38.20582962036133,48.40003204345703,64.49984741210938,54.60023498535156,47.69966506958008,45.500301361083984,46.900447845458984,47.20027542114258,49.40039825439453,53.4979248046875,60.6982421875,53.79313659667969,39.600860595703125,50.699310302734375,48.20111846923828,66.80036926269531,43.896366119384766,39.50106430053711,50.004520416259766,39.35118865966797,75.10034942626953,39.40147018432617,59.518253326416016,47.70144271850586,34.60026550292969,47.8985481262207,43.40000915527344,49.19350051879883,49.00022888183594,48.700225830078125,44.101043701171875,44.09967041015625,60.4990348815918,28.899858474731445,52.599002838134766,47.90143966674805,51.398372650146484,64.99724578857422,43.900634765625,51.39836883544922,44.50007629394531,51.09693908691406,40.00345230102539,36.40312957763672,48.69944763183594,47.70020294189453,39.900390625,42.40176010131836,38.80120849609375,46.399513244628906,52.301578521728516,49.699222564697266,34.400299072265625,55.40008544921875,47.499725341796875,41.001468658447266,48.799468994140625,49.899959564208984,68.39997100830078,50.599796295166016,62.1981315612793,41.89986038208008,48.59983444213867,49.200069427490234,79.50006866455078,52.5988883972168,63.104373931884766,44.00023651123047,49.600399017333984,45.199989318847656,42.3005256652832,41.30482482910156,59.60087203979492,52.299747467041016,42.599876403808594,66.40017700195312,45.300628662109375,48.7997932434082,37.12181854248047,52.80013656616211,52.099082946777344,42.700069427490234,44.99930953979492,49.40190124511719,45.700164794921875,54.09995651245117,50.0025749206543,48.59883499145508,50.500091552734375,44.09988021850586,51.00043869018555,43.70005416870117,51.499786376953125,69.40009307861328,47.80032730102539,45.599884033203125,48.7998046875,53.69984817504883,54.800437927246094,49.900001525878906,42.59978103637695,74.60034942626953,58.796138763427734,47.4991455078125,40.90032196044922,53.399574279785156,50.09950637817383,28.00066375732422,47.40001678466797,45.9000244140625,37.80166244506836,60.30018997192383,53.699867248535156,40.7005615234375,90.60037231445312,46.300392150878906,50.6001091003418,70.79861450195312,53.60007858276367,48.29994583129883,57.39997863769531,71.60018157958984,55.400169372558594,49.89976119995117,44.700111389160156,53.699771881103516,61.39979934692383,58.59825134277344,42.10061264038086,49.801055908203125,84.60037994384766,39.300968170166016,48.800086975097656,50.298828125,63.39954376220703,34.90031051635742,50.69974899291992,39.100521087646484,85.79729461669922,38.00047302246094,46.299224853515625,55.69826889038086,25.800804138183594,46.20100402832031,47.10173797607422,68.09922790527344,61.29926681518555,38.601932525634766,39.8017578125,53.999237060546875,38.403717041015625,37.90264892578125,54.49974822998047,50.098724365234375,47.60111618041992,69.14922332763672,47.200347900390625,53.19893264770508,43.82916259765625,48.09980773925781,60.500083923339844,52.199485778808594,53.39897537231445,58.79922866821289,50.500389099121094,64.49976348876953,47.499813079833984,47.09956741333008,71.29974365234375,55.399810791015625,45.70032501220703,47.99604034423828,43.00323486328125,48.89991760253906,48.00068664550781,53.90009689331055,50.748512268066406,96.49917602539062,48.3961067199707,60.39806365966797,51.750572204589844,42.399932861328125,45.799468994140625,43.20003890991211,36.70366287231445,39.10040283203125,44.10050964355469,53.804874420166016,44.80049514770508,49.999996185302734,46.49973678588867,48.802223205566406,42.70091247558594,48.04024124145508,36.325355529785156,41.400150299072266,73.79887390136719,47.80173110961914,36.901695251464844,36.800235748291016,53.39960479736328,37.90018081665039,93.09873962402344,51.299957275390625,42.40474319458008,45.90013885498047,51.096961975097656,46.100162506103516,41.601131439208984,39.20009231567383,54.29973220825195,46.70018768310547,52.30002212524414,45.400081634521484,48.10063552856445,55.199771881103516,38.200416564941406,53.59794616699219,62.399574279785156,48.39891052246094,77.89999389648438,43.2005615234375,44.499916076660156,41.30084228515625,46.20016098022461,37.699832916259766,43.39990234375,52.795719146728516,60.19768142700195,85.80084991455078,51.89854431152344,50.799842834472656,35.90009307861328,49.648075103759766,87.49954986572266,40.40000915527344,50.79986572265625,48.00004959106445,46.09941864013672,45.200252532958984,43.90009307861328,42.70132827758789,43.600502014160156,47.899940490722656,49.99938201904297,50.29930114746094,50.199371337890625,57.39994430541992,66.6920166015625,43.00012969970703,47.49970245361328,54.00008010864258,86.69793701171875,52.00096893310547,38.604515075683594,52.497344970703125,48.59790802001953,46.999839782714844,53.39516830444336,41.900657653808594,53.099266052246094,48.800472259521484,61.50010299682617,45.90272521972656,54.39917755126953,76.89279174804688,36.700618743896484,41.40052795410156,41.9993896484375,48.2999153137207,46.00006103515625,41.40027618408203,62.003536224365234,51.400123596191406,56.299072265625,43.19731903076172,45.00022888183594,55.98814392089844,45.900203704833984,50.99934005737305,52.000179290771484,44.39984130859375,69.29986572265625,76.6987075805664,39.59920120239258,44.1005744934082,61.00019836425781,47.40031051635742,36.200782775878906,45.500892639160156,48.60001754760742,51.499732971191406,73.79964447021484,43.301048278808594,50.600101470947266,80.19951629638672,48.69795608520508,43.40019226074219,42.000823974609375,51.699764251708984,50.99991226196289,41.40074920654297,48.41374969482422,69.80145263671875,51.999210357666016,51.00118637084961,91.79945373535156,38.60161590576172,51.600643157958984,41.30233383178711,53.30130386352539,50.0003662109375,51.99993133544922,45.19935607910156,37.900604248046875,51.69917678833008,67.00054168701172,49.69923782348633,48.40060043334961,43.40032196044922,62.300498962402344,44.59894561767578,41.50034713745117,50.698211669921875,48.99996566772461,43.566349029541016,54.599403381347656,38.60028076171875,39.000694274902344,38.29718017578125,54.0993766784668,37.20096969604492,46.999942779541016,52.38259506225586,42.70140838623047,47.20542907714844,57.49897384643555,50.70024108886719,52.39994812011719,42.20378494262695,65.10027313232422,51.65088653564453,54.09960174560547,55.19924545288086,84.29985046386719,41.0994987487793,57.19903564453125,45.79996871948242,41.800235748291016,38.50965118408203,43.498741149902344,46.49970245361328,46.19880676269531,77.700927734375,47.90053176879883,37.70027160644531,48.9997444152832,50.79869079589844,40.4998664855957,48.60002136230469,47.599769592285156,50.09940719604492,39.299888610839844,43.99892044067383,51.701454162597656,52.19603729248047,70.40008544921875,37.80126953125,59.10069274902344,47.800411224365234,45.899803161621094,41.50061798095703,46.50033187866211,45.80065155029297,41.00033950805664,46.5018310546875,51.399654388427734,52.099082946777344,36.600006103515625,44.900089263916016,52.2000846862793,51.097007751464844,51.00001907348633,44.299827575683594,79.67053985595703,43.100364685058594,50.797142028808594,49.899471282958984,71.49921417236328,47.70021438598633,43.0998420715332,90.39988708496094,49.29983139038086,51.70013427734375,42.49881362915039,60.299034118652344,45.60131072998047,37.0992546081543,74.197509765625,38.400001525878906,43.00016784667969,53.59794616699219,55.49892044067383,36.900238037109375,37.40195846557617,42.30197525024414,50.19943618774414,48.999755859375,42.20008087158203,37.20077133178711,59.301048278808594,67.69908905029297,39.7015495300293,37.10136413574219,45.002479553222656,52.299591064453125,47.9000244140625,72.59976196289062,46.8997917175293,85.70065307617188,67.20282745361328,51.99998474121094,44.3005485534668,56.099430084228516,44.99996566772461,57.198856353759766,50.29923629760742,45.70033264160156,43.40004348754883,48.0003547668457,48.699031829833984,39.10015869140625,42.200828552246094,50.99870300292969,60.99961853027344,38.39927673339844,51.40025329589844,47.50054168701172,37.50082778930664,41.00027084350586,48.899925231933594,56.0996208190918,68.50029754638672,51.899539947509766,42.20132064819336,42.49881362915039,55.800201416015625,34.40003204345703,51.300331115722656,38.900325775146484,48.500160217285156,43.399566650390625,72.89949035644531,43.19990921020508,41.30088424682617,36.402400970458984,63.200469970703125,46.90092086791992,41.300140380859375,47.10009002685547,46.00335693359375,53.601051330566406,38.299373626708984,43.50044250488281,53.996910095214844,39.200260162353516,70.49626922607422,88.90036010742188,47.19927978515625,39.50217819213867,75.49718475341797,51.200130462646484,72.89928436279297,52.89898681640625,44.10017776489258,51.796531677246094,46.10075759887695,45.59956741333008,65.80008697509766,38.90019607543945,41.30057144165039,45.50053024291992,70.70044708251953,38.79990005493164,46.498809814453125,39.601715087890625,48.6995849609375,41.400238037109375,51.700294494628906,47.39839172363281,49.000099182128906,83.99981689453125,46.897544860839844,87.69989776611328,46.400150299072266,45.0009765625,48.600364685058594,48.30055618286133,42.30007553100586,42.29985809326172,42.600528717041016,48.400211334228516,52.40008544921875,42.299476623535156,39.70071792602539,42.800987243652344,51.997745513916016,42.20027160644531,66.60035705566406,40.101261138916016,63.69944381713867,45.80067443847656,51.59977340698242,47.7021484375,47.20151138305664,41.40132141113281,67.69891357421875,69.70021057128906,44.19968795776367,49.800350189208984,54.29999923706055,48.39986038208008,53.39995574951172,62.69938659667969,68.39887237548828,48.000003814697266,49.09963607788086,40.90049743652344,66.04960632324219,41.101139068603516,58.69896697998047,41.699771881103516,84.39878845214844,67.59484100341797,40.801387786865234,54.69928741455078,62.951175689697266,47.39927291870117,51.90006637573242,34.50070571899414,85.40033721923828,66.5992202758789,92.89999389648438,42.60036849975586,61.395206451416016,67.19734191894531,74.89999389648438,48.999839782714844,95.59718322753906,75.70069122314453,38.00074768066406,66.69950866699219,54.6999626159668,94.59416198730469,49.698036193847656,47.2013053894043,75.10020446777344,39.10143280029297,41.59999084472656,42.100154876708984,53.899784088134766,47.601749420166016,39.59953689575195,40.10045623779297,34.4023551940918,45.19963073730469,49.09986114501953,39.20034408569336,35.40559768676758,48.09986114501953,63.2009391784668,62.090457916259766,37.3002815246582,55.50010299682617,46.59510803222656,61.501853942871094,48.5001220703125,55.299766540527344,45.29802703857422,43.200714111328125,48.39950180053711,40.4997444152832,78.29936218261719,43.70001220703125,67.49982452392578,77.0984878540039,49.70180130004883,49.90028762817383,31.010011672973633,61.49974822998047,62.3006706237793,49.099891662597656,50.198909759521484,43.80018997192383,41.09952163696289,33.80083465576172,51.989105224609375,43.599971771240234,40.800689697265625,64.40018463134766,48.79991149902344,69.4003677368164,50.29924392700195,41.9014892578125,55.296627044677734,40.599998474121094,40.00145721435547,49.80049133300781,45.899837493896484,53.89247131347656,53.22410202026367,43.501407623291016,46.3002815246582,44.9000358581543,47.19956970214844,93.10005950927734,44.20005416870117,46.00047302246094,42.20023727416992,46.69974899291992,64.19786834716797,43.901363372802734,40.00518035888672,53.50141906738281,50.09967041015625,40.30118179321289,44.299991607666016,49.40013122558594,53.85271072387695,53.499053955078125,49.00049591064453,40.69993209838867,45.70581817626953,42.300350189208984,51.299835205078125,39.45026779174805,43.999603271484375,56.09980773925781,40.70024108886719,46.2993278503418,53.59992599487305,65.19807434082031,48.699764251708984,62.000362396240234,52.89883041381836,49.30027770996094,70.80014038085938,65.10027313232422,50.90025329589844,84.99982452392578,49.397640228271484,49.19977569580078,48.904075622558594,51.40044021606445,50.4998664855957,83.5992202758789,85.40033721923828,52.69957733154297,47.89948272705078,47.900508880615234,42.900123596191406,50.50046920776367,52.79948806762695,52.1998405456543,48.50167465209961,44.30166244506836,69.49903106689453,53.59619903564453,47.30092239379883,55.49929428100586,48.50064468383789,61.988319396972656,40.00067138671875,49.90004348754883,53.500526428222656,37.29550552368164,54.89860534667969,50.00009536743164,50.49997329711914,48.20119094848633,53.49906539916992,45.19978332519531,64.6988525390625,46.69960021972656,56.60002899169922,44.500545501708984,47.999507904052734,53.00458526611328,47.90000915527344,47.89952850341797,56.501216888427734,39.99969482421875,37.100093841552734,43.50022506713867,41.100826263427734,31.902889251708984,43.500579833984375,44.099830627441406,49.699825286865234,41.799861907958984,42.70368576049805,43.19977569580078,49.600074768066406,47.79983139038086,47.700382232666016,39.4006233215332,41.90116882324219,51.00006103515625,73.0997085571289,89.10009765625,53.39963150024414,61.50474166870117,36.30039978027344,45.69981384277344,62.59780502319336,36.400238037109375,47.999107360839844,49.900123596191406,49.798824310302734,44.97997283935547,51.7999382019043,65.10018157958984,61.0004768371582,46.50040817260742,54.3991584777832,35.900611877441406,75.2003173828125,79.67053985595703,73.8017807006836,53.40003204345703,52.400211334228516,44.20003128051758,51.998809814453125,43.100830078125,63.999855041503906,53.79078674316406,54.999698638916016,49.79893493652344,47.100223541259766,54.765193939208984,42.70125198364258,42.500221252441406,74.80085754394531,69.70021057128906,43.099815368652344,78.90022277832031,56.099998474121094,41.69997787475586,79.60017395019531,44.90060806274414,61.499542236328125,89.09893035888672,39.10074234008789,54.099884033203125,58.79918670654297,55.19974136352539,41.39590072631836,42.79975509643555,69.80010986328125,41.10118865966797,43.599769592285156,43.50067138671875,41.3999137878418,55.39851379394531,49.99909210205078,51.99998474121094,43.800228118896484,38.699703216552734,48.40043258666992,62.00313186645508,39.102264404296875,45.4029541015625,49.39994430541992,42.19999313354492,37.50674057006836,50.89915084838867,27.999176025390625,46.098785400390625,43.50123977661133,42.600215911865234,54.59967041015625,49.90011215209961,66.99983215332031,58.441314697265625,39.499515533447266,51.897056579589844,39.80103302001953,41.09977722167969,39.10002136230469,39.90803527832031,37.10094451904297,50.09946823120117,51.39997100830078,50.49690246582031,48.7999267578125,41.90041732788086,49.5997200012207,47.399444580078125,48.69855880737305,54.99945831298828,43.00046157836914,51.40019607543945,39.09987258911133,42.29999923706055,47.39993667602539,50.29995346069336,55.699222564697266,58.44564437866211,79.60049438476562,47.200748443603516,45.30027770996094,27.99966812133789,51.29848098754883,44.599971771240234,49.3001708984375,47.69745635986328,48.19970703125,91.5674819946289,70.60045623779297,46.70100402832031,42.499794006347656,72.39959716796875,47.20061111450195,43.30008316040039,72.19978332519531,47.79962921142578,49.10030746459961,42.60044860839844,51.50520706176758,44.100833892822266,62.9973030090332,69.79961395263672,49.19968032836914,34.7020263671875,46.92585372924805,43.29987716674805,49.69959259033203,53.400634765625,39.600276947021484,66.89997100830078,46.700408935546875,47.09992218017578,88.59956359863281,53.5987663269043,40.400169372558594,44.00052261352539,41.09886932373047,63.21350860595703,42.80039978027344,47.98431396484375,41.399898529052734,57.699462890625,43.60091018676758,40.70040512084961,47.202049255371094,54.60064697265625,48.79867935180664,78.29686737060547,41.80093765258789,54.40166091918945,65.50006103515625,54.999595642089844,48.299808502197266,50.29996871948242,51.999961853027344,55.59264373779297,43.903751373291016,76.09778594970703,48.500003814697266,46.09771728515625,72.40094757080078,49.60188674926758,49.29906463623047,38.300907135009766,43.3997688293457,50.89824676513672,50.200927734375,48.09971237182617,56.0003547668457,36.20056915283203,45.299896240234375,38.90278244018555,68.9002685546875,50.09921646118164,48.49990463256836,61.54976272583008,52.400150299072266,34.20237731933594,49.8997802734375,46.99860763549805,50.799217224121094,71.00016021728516,51.400634765625,39.9002685546875,58.9041633605957,56.39982604980469,50.499473571777344,83.79887390136719,42.09993362426758,51.692440032958984,41.10054397583008,53.60002136230469,42.967628479003906,51.400474548339844,57.99703598022461,44.5997200012207,55.00033950805664,50.20029067993164,40.90073776245117,38.30063247680664,65.89984130859375,73.5999526977539,44.90079879760742,50.39989471435547,42.999542236328125,53.59991455078125,61.79880142211914,50.29692459106445,50.20152282714844,51.30015563964844,43.900352478027344,51.89999008178711,36.60458755493164,90.79961395263672,86.49998474121094,83.89978790283203,49.99797058105469,53.79976272583008,64.7996826171875,39.90121078491211,49.599815368652344,44.000396728515625,37.30067825317383,38.502098083496094,35.70065689086914,68.5002212524414,54.19266128540039,44.1001091003418,46.19951629638672,45.70051574707031,58.25105285644531,58.89960861206055,42.200218200683594,40.70172119140625,48.95347213745117,43.49990463256836,52.599761962890625,53.40009307861328,62.60142517089844,47.49958801269531,45.699623107910156,52.19995880126953,51.18208312988281,50.89997863769531,50.20042419433594,49.599788665771484,37.3072509765625,41.600284576416016,45.20034408569336,90.2004165649414,52.21062088012695,36.80467987060547,45.48822021484375,41.30327224731445,51.90016174316406,49.40021514892578,85.2002182006836,48.00022506713867,63.798255920410156,48.00010299682617,88.49976348876953,43.502140045166016,51.89982223510742,42.10072708129883,62.399078369140625,44.49974060058594,59.40035629272461,47.500667572021484,45.19953536987305,70.39850616455078,49.400238037109375,51.8983268737793,43.399688720703125,61.19900894165039,51.29991149902344,50.800079345703125,52.39897155761719,44.700016021728516,87.59820556640625,48.800270080566406,52.79655075073242,36.00143051147461,63.899898529052734,74.094482421875,36.63341522216797,64.89749908447266,70.29937744140625,65.49960327148438,43.50019454956055,46.6053352355957,88.49990844726562,48.90035629272461,52.19694137573242,45.100135803222656,49.79937744140625,40.90230941772461,51.000179290771484,47.50022506713867,50.699005126953125,52.49661636352539,40.201202392578125,35.50627517700195,37.661312103271484,55.69984436035156,46.40016555786133,48.30060577392578,46.000526428222656,41.60017776489258,41.90040969848633,56.99990463256836,72.09821319580078,47.4008674621582,45.10100173950195,43.60219955444336,83.20066833496094,37.8012809753418,52.500694274902344,54.49998474121094,43.40003967285156,50.19734191894531,64.19343566894531,39.90263748168945,95.99967193603516,49.79983901977539,45.00001525878906,39.10118865966797,50.60042190551758,54.59735870361328,58.898826599121094,37.00126266479492,38.99983596801758,45.50321578979492,45.40052795410156,41.35173416137695,40.40217208862305,43.70039749145508,89.6983413696289,52.19987487792969,86.50007629394531,39.801666259765625,72.00052642822266,50.99857711791992,41.30008316040039,69.30472564697266,40.4002571105957,48.29899215698242,50.4036750793457,39.60077667236328,91.49864959716797,40.40007781982422,41.00093460083008,41.10005187988281,47.79978942871094,45.40010070800781,41.20022201538086,89.69898223876953,51.69944381713867,51.49989700317383,34.19986343383789,74.6994857788086,53.09858703613281,38.90047836303711,52.49993896484375,38.10028839111328,47.40004348754883,51.699790954589844,42.6995964050293,44.998844146728516,44.20048904418945,53.699886322021484,49.09890365600586,37.10022735595703,52.19989013671875,50.19997024536133,79.90055847167969,36.79983901977539,38.8018684387207,56.34241485595703,42.59994125366211,39.60049819946289,45.90016174316406,54.500274658203125,38.00160217285156,57.80003356933594,35.60038375854492,36.70048522949219,50.399845123291016,43.700843811035156,42.89976119995117,44.40287399291992,75.99981689453125,45.601348876953125,47.35054397583008,48.30058288574219,50.40091323852539,40.20383071899414,56.10041809082031,49.59939956665039,47.69944763183594,49.29921340942383,50.59891891479492,91.49966430664062,50.80000686645508,37.661312103271484,43.29988479614258,61.449371337890625,59.69866943359375,47.70057678222656,40.60102844238281,46.100685119628906,47.30014419555664,44.29977798461914,46.400184631347656,43.1995849609375,37.900482177734375,37.101539611816406,38.10245132446289,50.29948043823242,50.79988098144531,63.408203125,44.50284957885742,42.199317932128906,50.9007568359375,48.900177001953125,42.700103759765625,48.098819732666016,60.59981918334961,49.39990997314453,91.09864044189453,62.39879608154297,66.00066375732422,37.49911117553711,48.699501037597656,47.89875030517578,83.40008544921875,48.399288177490234,44.699153900146484,46.003841400146484,49.59942626953125,34.20233917236328,77.79927062988281,59.123409271240234,48.900634765625,48.999481201171875,78.39976501464844,56.099788665771484,43.30045700073242,65.34967803955078,46.004112243652344,47.20036315917969,43.70005798339844,58.09951400756836,51.79896545410156,39.899375915527344,54.9996223449707,46.79971694946289,57.598060607910156,39.00084686279297,65.19959259033203,57.3995361328125,55.499027252197266,91.99937438964844,48.90081787109375,55.5998649597168,28.803020477294922,46.39398193359375,35.70009231567383,71.8996353149414,63.59844970703125,54.199134826660156,39.89975357055664,42.901344299316406,74.5997543334961,50.39827346801758,53.7991828918457,37.12181854248047,52.999324798583984,52.79990768432617,51.99605941772461,41.49982452392578,43.20061111450195,50.205238342285156,38.902042388916016,47.699676513671875,43.30110549926758,94.0995101928711,33.50148391723633,62.90016174316406,38.40025329589844,52.09892654418945,44.60131072998047,50.69956588745117,52.29995346069336,37.40031814575195,50.40021514892578,60.499637603759766,31.200599670410156,49.00026321411133,48.400054931640625,60.699798583984375,51.000221252441406,58.44564437866211,50.599388122558594,42.09978485107422,68.00175476074219,49.4997673034668,42.70011520385742,69.50043487548828,63.29927444458008,93.50025939941406,48.799251556396484,37.000003814697266,45.699981689453125,39.60059356689453,48.80160140991211,86.20011901855469,64.6010513305664,38.902992248535156,30.000383377075195,40.700225830078125,43.199607849121094,45.60132598876953,46.17643737792969,53.98763656616211,41.10102844238281,45.10100173950195,40.20024490356445,54.498870849609375,77.29878997802734,57.80012130737305,27.700847625732422,81.69995880126953,47.099525451660156,45.30021667480469,59.000728607177734,41.899993896484375,48.800567626953125,55.999267578125,41.600528717041016,74.29903411865234,49.699729919433594,50.499141693115234,38.20095443725586,74.6996841430664,49.5999641418457,39.00096893310547,48.09941101074219,42.50093460083008,32.20112991333008,39.30166244506836,48.39997863769531,46.0999870300293,47.299678802490234,37.85013961791992,33.800537109375,51.79978561401367,57.09645462036133,63.49977111816406,39.50065994262695,42.29966354370117,45.20026397705078,45.0004997253418,50.70034408569336,44.200138092041016,48.89875030517578,51.50051498413086,46.099220275878906,44.900543212890625,46.29955291748047,49.70039749145508,54.400360107421875,49.1010856628418,59.299766540527344,66.60108947753906,37.50091552734375,55.49993896484375,46.400047302246094,45.100101470947266,42.70099639892578,41.80083465576172,41.65109634399414,52.29960632324219,65.00044250488281,49.99930953979492,39.99991226196289,52.199615478515625,40.09986114501953,44.75190353393555,65.10123443603516,58.49919509887695,50.29966735839844,49.00017547607422,41.100189208984375,87.79979705810547,47.699546813964844,40.00136947631836,60.40483856201172,51.99916076660156,45.49982833862305,53.799171447753906,46.19900131225586,49.199745178222656,86.09968566894531,38.7539176940918,56.99565124511719,75.499267578125,46.299930572509766,47.79989242553711,52.29962158203125,35.800201416015625,36.90213394165039,42.00177001953125,42.49900817871094,90.29989624023438,48.5054817199707,64.15021514892578,50.199867248535156,55.00025177001953,52.39984893798828,45.49977111816406,51.800662994384766,45.99998092651367,49.80005645751953,54.59988021850586,45.8985710144043,43.5001220703125,34.105716705322266,57.7999267578125,52.59973907470703,49.099029541015625,48.200191497802734,52.50011444091797,42.20048904418945,39.20050811767578,68.10037231445312,59.57941436767578,71.10040283203125,48.30011749267578,49.39821243286133,48.899444580078125,48.700321197509766,51.30118179321289,71.90011596679688,41.600669860839844,73.80150604248047,50.29996871948242,56.10017013549805,46.79994583129883,62.002262115478516,48.999717712402344,50.799625396728516,50.0020751953125,50.30073165893555,46.00163650512695,45.60016632080078,44.39970016479492,45.499385833740234,47.59592819213867,50.800235748291016,65.34967803955078,50.39995574951172,34.304447174072266,47.29994201660156,85.5996322631836,54.09923553466797,39.400245666503906,45.59972381591797,47.599735260009766,42.500030517578125,47.20003128051758,49.79975891113281,50.100215911865234,50.999446868896484,59.597877502441406,51.59933853149414,47.19962692260742,42.70002746582031,41.90134048461914,68.00032043457031,44.79936981201172,55.50016403198242,47.30020523071289,39.85531234741211,46.10077667236328,41.700069427490234,44.300045013427734,55.667633056640625,51.09911346435547,48.90050506591797,43.20016098022461,54.29767608642578,48.800140380859375,58.69632339477539,69.39991760253906,47.199520111083984,78.50017547607422,90.69902038574219,42.7003059387207,37.50005340576172,56.3997917175293,49.199703216552734,46.5,47.30015563964844,44.300537109375,37.000675201416016,85.1003189086914,50.99934768676758,50.69993209838867,49.099918365478516,47.600894927978516,50.00001525878906,92.29731750488281,44.10039138793945,62.40091323852539,54.199222564697266,46.10142135620117,54.300113677978516,57.69978332519531,66.20089721679688,43.300132751464844,54.99922180175781,39.60037612915039,43.698917388916016,63.3000602722168,43.699581146240234,46.80192947387695,45.0003547668457,39.499855041503906,46.40003204345703,90.2993392944336,52.30015563964844,56.49921798706055,45.89985275268555,56.4994010925293,37.49979019165039,81.00052642822266,35.10139465332031,36.70136260986328,34.60007858276367,41.70071792602539,55.19898223876953,39.20073318481445,43.0997314453125,53.39927291870117,63.49955749511719,60.596092224121094,53.599876403808594,51.00041961669922,52.79973220825195,53.59970474243164,47.800865173339844,44.90337371826172,53.69852066040039,47.80020523071289,65.09843444824219,64.00007629394531,49.901275634765625,47.599300384521484,31.998626708984375,53.290218353271484,52.699668884277344,41.60033416748047,51.30012130737305,53.7999267578125,49.098167419433594,47.1000862121582,85.69891357421875,45.39963912963867,51.5998420715332,66.70225524902344,46.20067596435547,45.99985885620117,45.99974060058594,49.49577331542969,45.599552154541016,42.501651763916016,37.50056838989258,50.6003303527832,50.2991828918457,68.0992202758789,51.10057067871094,70.4997787475586,67.49932098388672,79.20099639892578,55.49828338623047,46.30044937133789,57.8004035949707,49.59964370727539,57.89979934692383,37.803096771240234,52.499542236328125,54.799930572509766,45.300697326660156,71.09981536865234,55.49811553955078,64.99829864501953,60.2994270324707,49.59956741333008,65.03633880615234,51.49906921386719,68.39971923828125,37.599327087402344,50.90029525756836,37.59999084472656,47.00075149536133,56.80010986328125,50.70000457763672,38.900001525878906,43.30022430419922,37.2021484375,44.79803466796875,41.90011215209961,49.89833068847656,50.99968719482422,41.90003204345703,49.59861373901367,45.1003303527832,38.8209342956543,46.79999542236328,86.19831848144531,38.004173278808594,45.50003433227539,55.80002212524414,44.70075225830078,50.00079345703125,39.400047302246094,49.299034118652344,46.9039306640625,61.666805267333984,78.39995574951172,47.39887619018555,38.60133361816406,42.00201416015625,46.899879455566406,46.800201416015625,48.59963607788086,38.29985427856445,54.600440979003906,51.69950485229492,44.49985885620117,47.40176773071289,42.801570892333984,49.69976806640625,51.696617126464844,50.80177307128906,50.09800720214844,55.89787673950195,51.00006866455078,74.80033874511719,53.199974060058594,47.70034408569336,46.40036392211914,38.60054016113281,75.04999542236328,55.199851989746094,50.30039978027344,48.49953079223633,36.49985122680664,49.800453186035156,41.10049057006836,48.300411224365234,42.800010681152344,52.099544525146484,54.79604721069336,48.099937438964844,42.600135803222656,52.39985275268555,54.300086975097656,57.40034866333008,94.99935913085938,45.79814147949219,54.69999313354492,56.199066162109375,42.80052947998047,48.50017166137695,46.299964904785156,48.49928283691406,53.19828414916992,46.000003814697266,61.599544525146484,51.94997787475586,42.10053634643555,37.502098083496094,39.85531234741211,43.89316940307617,48.499332427978516,57.50034713745117,38.949951171875,37.401222229003906,65.19977569580078,67.3998031616211,46.97093200683594,73.19908142089844,88.09976196289062,48.89986801147461,53.39958953857422,44.000614166259766,49.20018005371094,54.698795318603516,70.9984130859375,70.19931030273438,47.00026321411133,38.09970474243164,51.40024185180664,46.699954986572266,40.901363372802734,43.796539306640625,45.39922332763672,79.29627990722656,72.80028533935547,51.299957275390625,52.095577239990234,54.39816665649414,55.09983825683594,49.50063705444336,48.80029296875,54.39900207519531,47.699920654296875,45.199981689453125,41.001224517822266,40.400814056396484,37.801841735839844,49.297698974609375,48.500267028808594,57.29982376098633,48.4982795715332,59.00584411621094,38.30821228027344,59.40053176879883,88.39949798583984,35.00556564331055,46.30060958862305,76.19989013671875,39.5002326965332,66.39642333984375,45.39997863769531,48.29944610595703,39.79996109008789,48.89887619018555,41.9002571105957,50.300201416015625,50.900150299072266,58.79900360107422,49.69929504394531,42.90049743652344,38.80042266845703,49.70066452026367,48.801082611083984,45.80018615722656,52.799888610839844,44.40067672729492,45.199771881103516,46.4001579284668,49.10061264038086,55.398406982421875,51.6502571105957,50.50034713745117,64.3982162475586,62.89990997314453,48.899845123291016,87.39961242675781,74.80012512207031,71.90009307861328,63.3997802734375,83.50061798095703,56.59996795654297,41.800537109375,44.43389129638672,71.90062713623047,70.20033264160156,70.25000762939453,80.29986572265625,51.29981231689453,59.00082015991211,53.70002365112305,50.899818420410156,63.799747467041016,40.2000617980957,46.500205993652344,48.39950180053711,44.8004264831543,59.59931945800781,49.59977722167969,37.30125427246094,46.80014419555664,42.4006462097168,83.99992370605469,41.59983825683594,53.19991683959961,49.899497985839844,46.20001983642578,43.09995651245117,48.89969253540039,50.400028228759766,51.299861907958984,50.500640869140625,47.403533935546875,49.69974899291992,50.39995193481445,51.390010833740234,79.5015869140625,47.39898681640625,52.600341796875,39.70052719116211,51.40006637573242,44.60050964355469,40.60074234008789,52.99786376953125,43.50012969970703,54.29917907714844,54.39902877807617,65.80101776123047,40.00000762939453,49.70017623901367,41.933074951171875,42.999610900878906,42.101173400878906,55.499210357666016,40.5003776550293,53.29740524291992,42.39990997314453,51.9993782043457,66.09941864013672,37.8004264831543,51.398677825927734,57.2002067565918,46.40098571777344,38.899574279785156,39.700706481933594,78.10023498535156,53.99966049194336,51.49782180786133,43.50020217895508,71.59947204589844,54.69933319091797,43.49962615966797,71.10150909423828,90.79984283447266,40.59923553466797,41.5004997253418,49.207427978515625,42.79983139038086,52.00008010864258,46.90459060668945,83.69977569580078,54.29934310913086,45.29857635498047,49.3996467590332,56.99968719482422,36.10105895996094,49.44704818725586,49.90004348754883,41.2998161315918,40.30036163330078,25.50010871887207,56.201263427734375,48.70039367675781,49.70036697387695,50.89970397949219,43.50184631347656,40.30021667480469,67.89949798583984,66.09844970703125,48.0997428894043,47.198612213134766,48.19990158081055,45.499507904052734,43.399898529052734,64.9998779296875,52.40207290649414,42.201595306396484,52.600379943847656,37.600181579589844,90.0998306274414,52.399986267089844,53.100250244140625,74.19994354248047,74.19933319091797,50.000144958496094,51.99909973144531,37.099937438964844,50.59980773925781,50.70011520385742,64.69613647460938,42.199989318847656,44.799964904785156,68.5000228881836,86.59927368164062,45.89986801147461,52.90058135986328,54.6995849609375,47.7996826171875,52.3016471862793,53.29969787597656,34.402366638183594,42.00080490112305,90.9992446899414,44.70026779174805,48.30009078979492,42.59843444824219,40.602386474609375,49.39629364013672,54.29974365234375,63.20388412475586,44.3983268737793,48.30005645751953,43.90018844604492,71.80017852783203,54.999141693115234,51.799739837646484,84.3991928100586,60.899986267089844,51.69866943359375,47.29991912841797,41.099918365478516,65.59956359863281,58.80010223388672,44.90031051635742,65.00022888183594,36.89984893798828,66.29558563232422,48.20010757446289,89.20203399658203,54.300472259521484,62.54660415649414,96.39686584472656,62.69990158081055,52.7995719909668,52.000492095947266,50.499916076660156,44.999916076660156,55.10063552856445,50.799930572509766,40.00101089477539,71.29684448242188,49.70048522949219,39.40403747558594,59.901031494140625,54.599700927734375,70.19999694824219,49.900482177734375,42.08568572998047,47.704917907714844,53.499900817871094,36.800437927246094,46.49897766113281,49.80548858642578,78.40042114257812,53.299556732177734,47.6005973815918,40.40153884887695,51.30031967163086,46.900543212890625,47.5008544921875,44.500736236572266,59.39897918701172,61.500244140625,45.70034408569336,77.87490844726562,45.800106048583984,44.69969940185547,47.30005645751953,50.60023880004883,41.80085372924805,41.401466369628906,54.09994125366211,87.59950256347656,67.7014389038086,50.998802185058594,67.09986114501953,43.20191955566406,67.09939575195312,46.8998908996582,38.5001106262207,35.80125427246094,47.2999153137207,42.70033264160156,47.599552154541016,39.600643157958984,48.599674224853516,78.39956665039062,72.70069885253906,38.99970626831055,42.299991607666016,43.000064849853516,60.508487701416016,52.80017852783203,57.700313568115234,91.89990234375,94.99901580810547,48.101036071777344,42.59993362426758,65.00028991699219,44.375736236572266,50.10030746459961,64.49972534179688,48.99947738647461,44.900150299072266,55.09974670410156,50.49871826171875,60.89891815185547,46.1995735168457,48.30029296875,40.300758361816406,43.60066223144531,55.99948501586914,42.301429748535156,50.999637603759766,42.40013885498047,57.799800872802734,46.00031280517578,47.600196838378906,44.69984436035156,50.600425720214844,45.70018768310547,46.99985122680664,42.99892807006836,53.59780502319336,47.398563385009766,46.999664306640625,42.60055160522461,43.000343322753906,44.30259323120117,44.00170135498047,45.99913787841797,56.69978332519531,42.70135498046875,41.90048599243164,44.30015182495117,48.19878387451172,46.699859619140625,44.4002571105957,43.69989776611328,42.900108337402344,59.993141174316406,46.80113220214844,38.10101318359375,40.90009307861328,50.299774169921875,42.399925231933594,40.100440979003906,50.600223541259766,35.800514221191406,45.70016860961914,50.79359817504883,38.80088424682617,65.60008239746094,45.300514221191406,53.29969787597656,54.000003814697266,56.998939514160156,55.50016784667969,43.60026168823242,53.30027389526367,39.700687408447266,45.29981994628906,41.70008087158203,49.399444580078125,46.20002746582031,40.30036163330078,53.59731674194336,51.300140380859375,64.49940490722656,27.99772071838379,47.600215911865234,43.00001525878906,71.0993881225586,41.249996185302734,64.69953155517578,62.09851837158203,57.99755859375,48.098636627197266,43.800254821777344,50.39934158325195,51.598106384277344,51.89945602416992,44.40110397338867,47.50065994262695,44.20417785644531,54.89982604980469,57.196231842041016,51.499385833740234,44.200138092041016,42.803768157958984,38.500328063964844,50.399635314941406,40.30025100708008,43.099708557128906,58.09950256347656,49.5994758605957,70.39872741699219,36.60009765625,40.30137634277344,46.902896881103516,68.7992935180664,38.00013732910156,54.70050811767578,53.593997955322266,48.20039367675781,96.3992691040039,54.198570251464844,48.29957962036133,50.80004119873047,36.80683898925781,53.70003890991211,40.59988021850586,47.69919204711914,48.602073669433594,38.39980697631836,55.99674987792969,53.19866180419922,66.8997573852539,44.59954833984375,72.79364013671875,41.60284423828125,53.598690032958984,52.19955825805664,52.29958724975586,51.69967269897461,45.10078811645508,56.898460388183594,51.40106964111328,45.80083084106445,61.898468017578125,45.69752883911133,42.20200729370117,51.79989242553711,52.301578521728516,78.00006103515625,51.30017852783203,96.09971618652344,41.60029983520508,60.99909973144531,46.8059196472168,50.39884567260742,35.300716400146484,36.700443267822266,78.29773712158203,42.899749755859375,47.40089797973633,44.80024337768555,44.000244140625,43.09854507446289,41.70100021362305,72.4998779296875,48.39980697631836,53.19895935058594,44.6996955871582,47.40093231201172,46.50006866455078,71.9000015258789,45.499977111816406,53.500221252441406,37.899452209472656,49.100189208984375,51.5992546081543,50.599395751953125,96.49988555908203,33.90202331542969,36.300926208496094,70.29891967773438,57.69908905029297,26.406986236572266,45.19976806640625,49.50008010864258,87.00041961669922,44.201141357421875,41.699832916259766,49.99934768676758,51.99867630004883,47.901371002197266,51.099830627441406,39.90033721923828,39.3009147644043,50.500606536865234,45.99937057495117,53.497589111328125,44.4015998840332,45.897830963134766,64.9974365234375,36.20256042480469,52.09951400756836,37.89983367919922,40.10308837890625,47.40038299560547,51.59990310668945,49.4007453918457,44.500946044921875,73.30123138427734,83.99991607666016,40.49970626831055,67.69738006591797,47.999542236328125,46.299400329589844,47.899906158447266,36.63341522216797,46.90009689331055,45.096866607666016,42.599063873291016,45.10033416748047,50.49981689453125,49.09976577758789,41.20101547241211,89.09947204589844,37.700706481933594,35.60106658935547,42.79988098144531,42.702457427978516,35.89995574951172,45.10206985473633,49.991912841796875,81.80003356933594,46.599952697753906,40.80017852783203,49.39985275268555,71.90013122558594,55.13775634765625,51.39610290527344,38.50331497192383,69.09980010986328,33.601680755615234,39.00028610229492,76.89934539794922,45.80003356933594,64.59750366210938,61.75410461425781,49.300315856933594,41.90065383911133,37.600975036621094,52.50074005126953,81.20061492919922,45.80020523071289,62.70163345336914,41.99994659423828,42.703514099121094,36.59999084472656,40.90037155151367,31.300567626953125,37.60019302368164,36.803062438964844,42.00094223022461,44.29995346069336,47.9978141784668,64.39610290527344,44.89997863769531,78.00100708007812,35.100868225097656,40.000553131103516,83.79964447021484,50.79933166503906,41.301353454589844,46.29940414428711,46.399017333984375,53.200687408447266,74.10118865966797,61.89842987060547,39.100242614746094,47.094337463378906,50.89617156982422,42.20091247558594,40.200321197509766,45.699867248535156,50.700653076171875,52.899906158447266,51.998104095458984,34.99928665161133,64.699951171875,47.007537841796875,44.39990234375,52.29725646972656,43.79995346069336,53.197853088378906,44.40201950073242,48.900657653808594,41.70072937011719,53.2994384765625,50.899253845214844,45.200416564941406,46.30021286010742,53.300865173339844,51.901161193847656,50.300113677978516,44.500030517578125,45.70130157470703,54.799888610839844,50.0981330871582,44.999874114990234,52.69992446899414,88.19998168945312,38.001224517822266,37.600093841552734,70.09889221191406,54.99415969848633,50.099605560302734,45.300724029541016,53.29999923706055,40.700233459472656,59.49872970581055,74.7981948852539,38.000728607177734,43.0997428894043,42.19938659667969,61.89805603027344,65.65359497070312,87.09992980957031,89.70069885253906,37.10045623779297,45.400150299072266,36.60006332397461,41.99995040893555,77.87490844726562,54.29921340942383,50.39997100830078,45.2998046875,55.79549026489258,73.00020599365234,91.19972229003906,76.34736633300781,51.3994255065918,42.50033187866211,39.49996566772461,45.49994659423828,40.99995803833008,39.99947738647461,52.79890060424805,41.30085754394531,49.10004806518555,39.70132827758789,48.19959259033203,44.00045394897461,43.700077056884766,42.101016998291016,42.09969711303711,51.59972381591797,55.89968490600586,52.19905090332031,36.250755310058594,50.199981689453125,71.39937591552734,66.50041961669922,51.799373626708984,51.67948532104492,52.89975357055664,40.80036544799805,34.099945068359375,42.00572967529297,42.0012092590332,42.50103759765625],\"type\":\"scattergl\"}],                        {\"template\":{\"data\":{\"histogram2dcontour\":[{\"type\":\"histogram2dcontour\",\"colorbar\":{\"outlinewidth\":0,\"ticks\":\"\"},\"colorscale\":[[0.0,\"#0d0887\"],[0.1111111111111111,\"#46039f\"],[0.2222222222222222,\"#7201a8\"],[0.3333333333333333,\"#9c179e\"],[0.4444444444444444,\"#bd3786\"],[0.5555555555555556,\"#d8576b\"],[0.6666666666666666,\"#ed7953\"],[0.7777777777777778,\"#fb9f3a\"],[0.8888888888888888,\"#fdca26\"],[1.0,\"#f0f921\"]]}],\"choropleth\":[{\"type\":\"choropleth\",\"colorbar\":{\"outlinewidth\":0,\"ticks\":\"\"}}],\"histogram2d\":[{\"type\":\"histogram2d\",\"colorbar\":{\"outlinewidth\":0,\"ticks\":\"\"},\"colorscale\":[[0.0,\"#0d0887\"],[0.1111111111111111,\"#46039f\"],[0.2222222222222222,\"#7201a8\"],[0.3333333333333333,\"#9c179e\"],[0.4444444444444444,\"#bd3786\"],[0.5555555555555556,\"#d8576b\"],[0.6666666666666666,\"#ed7953\"],[0.7777777777777778,\"#fb9f3a\"],[0.8888888888888888,\"#fdca26\"],[1.0,\"#f0f921\"]]}],\"heatmap\":[{\"type\":\"heatmap\",\"colorbar\":{\"outlinewidth\":0,\"ticks\":\"\"},\"colorscale\":[[0.0,\"#0d0887\"],[0.1111111111111111,\"#46039f\"],[0.2222222222222222,\"#7201a8\"],[0.3333333333333333,\"#9c179e\"],[0.4444444444444444,\"#bd3786\"],[0.5555555555555556,\"#d8576b\"],[0.6666666666666666,\"#ed7953\"],[0.7777777777777778,\"#fb9f3a\"],[0.8888888888888888,\"#fdca26\"],[1.0,\"#f0f921\"]]}],\"heatmapgl\":[{\"type\":\"heatmapgl\",\"colorbar\":{\"outlinewidth\":0,\"ticks\":\"\"},\"colorscale\":[[0.0,\"#0d0887\"],[0.1111111111111111,\"#46039f\"],[0.2222222222222222,\"#7201a8\"],[0.3333333333333333,\"#9c179e\"],[0.4444444444444444,\"#bd3786\"],[0.5555555555555556,\"#d8576b\"],[0.6666666666666666,\"#ed7953\"],[0.7777777777777778,\"#fb9f3a\"],[0.8888888888888888,\"#fdca26\"],[1.0,\"#f0f921\"]]}],\"contourcarpet\":[{\"type\":\"contourcarpet\",\"colorbar\":{\"outlinewidth\":0,\"ticks\":\"\"}}],\"contour\":[{\"type\":\"contour\",\"colorbar\":{\"outlinewidth\":0,\"ticks\":\"\"},\"colorscale\":[[0.0,\"#0d0887\"],[0.1111111111111111,\"#46039f\"],[0.2222222222222222,\"#7201a8\"],[0.3333333333333333,\"#9c179e\"],[0.4444444444444444,\"#bd3786\"],[0.5555555555555556,\"#d8576b\"],[0.6666666666666666,\"#ed7953\"],[0.7777777777777778,\"#fb9f3a\"],[0.8888888888888888,\"#fdca26\"],[1.0,\"#f0f921\"]]}],\"surface\":[{\"type\":\"surface\",\"colorbar\":{\"outlinewidth\":0,\"ticks\":\"\"},\"colorscale\":[[0.0,\"#0d0887\"],[0.1111111111111111,\"#46039f\"],[0.2222222222222222,\"#7201a8\"],[0.3333333333333333,\"#9c179e\"],[0.4444444444444444,\"#bd3786\"],[0.5555555555555556,\"#d8576b\"],[0.6666666666666666,\"#ed7953\"],[0.7777777777777778,\"#fb9f3a\"],[0.8888888888888888,\"#fdca26\"],[1.0,\"#f0f921\"]]}],\"mesh3d\":[{\"type\":\"mesh3d\",\"colorbar\":{\"outlinewidth\":0,\"ticks\":\"\"}}],\"scatter\":[{\"fillpattern\":{\"fillmode\":\"overlay\",\"size\":10,\"solidity\":0.2},\"type\":\"scatter\"}],\"parcoords\":[{\"type\":\"parcoords\",\"line\":{\"colorbar\":{\"outlinewidth\":0,\"ticks\":\"\"}}}],\"scatterpolargl\":[{\"type\":\"scatterpolargl\",\"marker\":{\"colorbar\":{\"outlinewidth\":0,\"ticks\":\"\"}}}],\"bar\":[{\"error_x\":{\"color\":\"#2a3f5f\"},\"error_y\":{\"color\":\"#2a3f5f\"},\"marker\":{\"line\":{\"color\":\"#E5ECF6\",\"width\":0.5},\"pattern\":{\"fillmode\":\"overlay\",\"size\":10,\"solidity\":0.2}},\"type\":\"bar\"}],\"scattergeo\":[{\"type\":\"scattergeo\",\"marker\":{\"colorbar\":{\"outlinewidth\":0,\"ticks\":\"\"}}}],\"scatterpolar\":[{\"type\":\"scatterpolar\",\"marker\":{\"colorbar\":{\"outlinewidth\":0,\"ticks\":\"\"}}}],\"histogram\":[{\"marker\":{\"pattern\":{\"fillmode\":\"overlay\",\"size\":10,\"solidity\":0.2}},\"type\":\"histogram\"}],\"scattergl\":[{\"type\":\"scattergl\",\"marker\":{\"colorbar\":{\"outlinewidth\":0,\"ticks\":\"\"}}}],\"scatter3d\":[{\"type\":\"scatter3d\",\"line\":{\"colorbar\":{\"outlinewidth\":0,\"ticks\":\"\"}},\"marker\":{\"colorbar\":{\"outlinewidth\":0,\"ticks\":\"\"}}}],\"scattermapbox\":[{\"type\":\"scattermapbox\",\"marker\":{\"colorbar\":{\"outlinewidth\":0,\"ticks\":\"\"}}}],\"scatterternary\":[{\"type\":\"scatterternary\",\"marker\":{\"colorbar\":{\"outlinewidth\":0,\"ticks\":\"\"}}}],\"scattercarpet\":[{\"type\":\"scattercarpet\",\"marker\":{\"colorbar\":{\"outlinewidth\":0,\"ticks\":\"\"}}}],\"carpet\":[{\"aaxis\":{\"endlinecolor\":\"#2a3f5f\",\"gridcolor\":\"white\",\"linecolor\":\"white\",\"minorgridcolor\":\"white\",\"startlinecolor\":\"#2a3f5f\"},\"baxis\":{\"endlinecolor\":\"#2a3f5f\",\"gridcolor\":\"white\",\"linecolor\":\"white\",\"minorgridcolor\":\"white\",\"startlinecolor\":\"#2a3f5f\"},\"type\":\"carpet\"}],\"table\":[{\"cells\":{\"fill\":{\"color\":\"#EBF0F8\"},\"line\":{\"color\":\"white\"}},\"header\":{\"fill\":{\"color\":\"#C8D4E3\"},\"line\":{\"color\":\"white\"}},\"type\":\"table\"}],\"barpolar\":[{\"marker\":{\"line\":{\"color\":\"#E5ECF6\",\"width\":0.5},\"pattern\":{\"fillmode\":\"overlay\",\"size\":10,\"solidity\":0.2}},\"type\":\"barpolar\"}],\"pie\":[{\"automargin\":true,\"type\":\"pie\"}]},\"layout\":{\"autotypenumbers\":\"strict\",\"colorway\":[\"#636efa\",\"#EF553B\",\"#00cc96\",\"#ab63fa\",\"#FFA15A\",\"#19d3f3\",\"#FF6692\",\"#B6E880\",\"#FF97FF\",\"#FECB52\"],\"font\":{\"color\":\"#2a3f5f\"},\"hovermode\":\"closest\",\"hoverlabel\":{\"align\":\"left\"},\"paper_bgcolor\":\"white\",\"plot_bgcolor\":\"#E5ECF6\",\"polar\":{\"bgcolor\":\"#E5ECF6\",\"angularaxis\":{\"gridcolor\":\"white\",\"linecolor\":\"white\",\"ticks\":\"\"},\"radialaxis\":{\"gridcolor\":\"white\",\"linecolor\":\"white\",\"ticks\":\"\"}},\"ternary\":{\"bgcolor\":\"#E5ECF6\",\"aaxis\":{\"gridcolor\":\"white\",\"linecolor\":\"white\",\"ticks\":\"\"},\"baxis\":{\"gridcolor\":\"white\",\"linecolor\":\"white\",\"ticks\":\"\"},\"caxis\":{\"gridcolor\":\"white\",\"linecolor\":\"white\",\"ticks\":\"\"}},\"coloraxis\":{\"colorbar\":{\"outlinewidth\":0,\"ticks\":\"\"}},\"colorscale\":{\"sequential\":[[0.0,\"#0d0887\"],[0.1111111111111111,\"#46039f\"],[0.2222222222222222,\"#7201a8\"],[0.3333333333333333,\"#9c179e\"],[0.4444444444444444,\"#bd3786\"],[0.5555555555555556,\"#d8576b\"],[0.6666666666666666,\"#ed7953\"],[0.7777777777777778,\"#fb9f3a\"],[0.8888888888888888,\"#fdca26\"],[1.0,\"#f0f921\"]],\"sequentialminus\":[[0.0,\"#0d0887\"],[0.1111111111111111,\"#46039f\"],[0.2222222222222222,\"#7201a8\"],[0.3333333333333333,\"#9c179e\"],[0.4444444444444444,\"#bd3786\"],[0.5555555555555556,\"#d8576b\"],[0.6666666666666666,\"#ed7953\"],[0.7777777777777778,\"#fb9f3a\"],[0.8888888888888888,\"#fdca26\"],[1.0,\"#f0f921\"]],\"diverging\":[[0,\"#8e0152\"],[0.1,\"#c51b7d\"],[0.2,\"#de77ae\"],[0.3,\"#f1b6da\"],[0.4,\"#fde0ef\"],[0.5,\"#f7f7f7\"],[0.6,\"#e6f5d0\"],[0.7,\"#b8e186\"],[0.8,\"#7fbc41\"],[0.9,\"#4d9221\"],[1,\"#276419\"]]},\"xaxis\":{\"gridcolor\":\"white\",\"linecolor\":\"white\",\"ticks\":\"\",\"title\":{\"standoff\":15},\"zerolinecolor\":\"white\",\"automargin\":true,\"zerolinewidth\":2},\"yaxis\":{\"gridcolor\":\"white\",\"linecolor\":\"white\",\"ticks\":\"\",\"title\":{\"standoff\":15},\"zerolinecolor\":\"white\",\"automargin\":true,\"zerolinewidth\":2},\"scene\":{\"xaxis\":{\"backgroundcolor\":\"#E5ECF6\",\"gridcolor\":\"white\",\"linecolor\":\"white\",\"showbackground\":true,\"ticks\":\"\",\"zerolinecolor\":\"white\",\"gridwidth\":2},\"yaxis\":{\"backgroundcolor\":\"#E5ECF6\",\"gridcolor\":\"white\",\"linecolor\":\"white\",\"showbackground\":true,\"ticks\":\"\",\"zerolinecolor\":\"white\",\"gridwidth\":2},\"zaxis\":{\"backgroundcolor\":\"#E5ECF6\",\"gridcolor\":\"white\",\"linecolor\":\"white\",\"showbackground\":true,\"ticks\":\"\",\"zerolinecolor\":\"white\",\"gridwidth\":2}},\"shapedefaults\":{\"line\":{\"color\":\"#2a3f5f\"}},\"annotationdefaults\":{\"arrowcolor\":\"#2a3f5f\",\"arrowhead\":0,\"arrowwidth\":1},\"geo\":{\"bgcolor\":\"white\",\"landcolor\":\"#E5ECF6\",\"subunitcolor\":\"white\",\"showland\":true,\"showlakes\":true,\"lakecolor\":\"white\"},\"title\":{\"x\":0.05},\"mapbox\":{\"style\":\"light\"}}},\"annotations\":[{\"showarrow\":false,\"text\":\"Spearman Rank Correlation = 0.995\",\"x\":0.95,\"xref\":\"paper\",\"y\":0.1,\"yref\":\"paper\"}],\"title\":{\"text\":\"Actual vs. Predicted\"},\"height\":700},                        {\"responsive\": true}                    ).then(function(){\n",
              "                            \n",
              "var gd = document.getElementById('ce7aed01-5434-4c7a-a0f3-a80550d18b56');\n",
              "var x = new MutationObserver(function (mutations, observer) {{\n",
              "        var display = window.getComputedStyle(gd).display;\n",
              "        if (!display || display === 'none') {{\n",
              "            console.log([gd, 'removed!']);\n",
              "            Plotly.purge(gd);\n",
              "            observer.disconnect();\n",
              "        }}\n",
              "}});\n",
              "\n",
              "// Listen for the removal of the full notebook cells\n",
              "var notebookContainer = gd.closest('#notebook-container');\n",
              "if (notebookContainer) {{\n",
              "    x.observe(notebookContainer, {childList: true});\n",
              "}}\n",
              "\n",
              "// Listen for the clearing of the current output cell\n",
              "var outputEl = gd.closest('.output');\n",
              "if (outputEl) {{\n",
              "    x.observe(outputEl, {childList: true});\n",
              "}}\n",
              "\n",
              "                        })                };                            </script>        </div>\n",
              "</body>\n",
              "</html>"
            ]
          },
          "metadata": {}
        }
      ]
    },
    {
      "cell_type": "code",
      "source": [
        "r2_train = r2_score(y_train, y_pred_train)\n",
        "r2_val = r2_score(y_val, y_pred_val)\n",
        "r2_test = r2_score(y_test, pred5)\n",
        "print('r2 score for train is', r2_train)\n",
        "print('r2 score for val is', r2_val)\n",
        "print('r2 score for test is', r2_test)"
      ],
      "metadata": {
        "id": "WOL3763j0RWP",
        "colab": {
          "base_uri": "https://localhost:8080/"
        },
        "outputId": "4d3be097-e3c4-468d-acb9-2eca77416a8e"
      },
      "execution_count": null,
      "outputs": [
        {
          "output_type": "stream",
          "name": "stdout",
          "text": [
            "r2 score for train is 0.9924098344859508\n",
            "r2 score for val is 0.9933603606247883\n",
            "r2 score for test is 0.9936587214796955\n"
          ]
        }
      ]
    },
    {
      "cell_type": "code",
      "source": [
        "print('Mean Absolute Error Train:', metrics.mean_absolute_error(y_train, y_pred_train))\n",
        "print('Mean Absolute Error Val:', metrics.mean_absolute_error(y_val, y_pred_val))\n",
        "print('Mean Absolute Error Test:', metrics.mean_absolute_error(y_test, pred5))"
      ],
      "metadata": {
        "id": "jsotpUHM0RWP",
        "colab": {
          "base_uri": "https://localhost:8080/"
        },
        "outputId": "2cac450b-f368-465b-c887-15640eebfc83"
      },
      "execution_count": null,
      "outputs": [
        {
          "output_type": "stream",
          "name": "stdout",
          "text": [
            "Mean Absolute Error Train: 0.1436972944217904\n",
            "Mean Absolute Error Val: 0.12430796164892975\n",
            "Mean Absolute Error Test: 0.13316221427184147\n"
          ]
        }
      ]
    },
    {
      "cell_type": "markdown",
      "source": [
        "## Combine XGBoost models"
      ],
      "metadata": {
        "id": "QutLCBjB19qU"
      }
    },
    {
      "cell_type": "code",
      "source": [
        "# xgb_preds = np.round((pred1 + pred2 + pred3 + pred4 + pred5) / 5)\n",
        "# mse_test_ensemble=mean_squared_error(y_test, xgb_preds)\n",
        "# print(\"Ensemble Root Mean Squared Error on Test data is:\",math.sqrt(mse_test_ensemble))"
      ],
      "metadata": {
        "id": "IVBo4TwWz8qU"
      },
      "execution_count": null,
      "outputs": []
    },
    {
      "cell_type": "markdown",
      "source": [
        "## LightBGM"
      ],
      "metadata": {
        "id": "sbIEuDB3WAVS"
      }
    },
    {
      "cell_type": "code",
      "source": [
        "train_data = lgb.Dataset(X_train, label=y_train)\n",
        "val_data = lgb.Dataset(X_val, label=y_val)"
      ],
      "metadata": {
        "id": "uNzd5XwmW8iH"
      },
      "execution_count": null,
      "outputs": []
    },
    {
      "cell_type": "code",
      "source": [
        "params = {\n",
        "    \"objective\": \"regression\",\n",
        "    \"metric\": \"rmse\",\n",
        "    \"num_leaves\": 1024,\n",
        "    \"max_depth\": 500,\n",
        "    \"learning_rate\": 0.1,\n",
        "    \"feature_fraction\": 0.9,\n",
        "    \"bagging_fraction\": 0.9,\n",
        "    \"bagging_freq\": 1,\n",
        "    \"min_data_in_leaf\": 10,\n",
        "    \"lambda_l1\": 0.000001,\n",
        "    \"lambda_l2\": 0.000001,\n",
        "    \"seed\": 123\n",
        "}\n",
        "num_rounds=1000"
      ],
      "metadata": {
        "id": "F5jG-X8Bz8uN"
      },
      "execution_count": null,
      "outputs": []
    },
    {
      "cell_type": "code",
      "source": [
        "lgmodel = lgb.train(params, train_data, num_rounds, valid_sets=[train_data, val_data], verbose_eval=100, early_stopping_rounds=50)"
      ],
      "metadata": {
        "id": "hMU3FaaY6eM8",
        "colab": {
          "base_uri": "https://localhost:8080/"
        },
        "outputId": "4c5b842d-fee2-436b-e593-4d94daf511c0"
      },
      "execution_count": null,
      "outputs": [
        {
          "output_type": "stream",
          "name": "stderr",
          "text": [
            "/usr/local/lib/python3.9/dist-packages/lightgbm/engine.py:181: UserWarning:\n",
            "\n",
            "'early_stopping_rounds' argument is deprecated and will be removed in a future release of LightGBM. Pass 'early_stopping()' callback via 'callbacks' argument instead.\n",
            "\n",
            "/usr/local/lib/python3.9/dist-packages/lightgbm/engine.py:239: UserWarning:\n",
            "\n",
            "'verbose_eval' argument is deprecated and will be removed in a future release of LightGBM. Pass 'log_evaluation()' callback via 'callbacks' argument instead.\n",
            "\n"
          ]
        },
        {
          "output_type": "stream",
          "name": "stdout",
          "text": [
            "[LightGBM] [Warning] Found whitespace in feature_names, replace with underlines\n",
            "[LightGBM] [Warning] Auto-choosing col-wise multi-threading, the overhead of testing was 0.008077 seconds.\n",
            "You can set `force_col_wise=true` to remove the overhead.\n",
            "[LightGBM] [Info] Total Bins 6477\n",
            "[LightGBM] [Info] Number of data points in the train set: 28606, number of used features: 27\n",
            "[LightGBM] [Warning] Found whitespace in feature_names, replace with underlines\n",
            "[LightGBM] [Info] Start training from score 51.354995\n",
            "Training until validation scores don't improve for 50 rounds\n",
            "[100]\ttraining's rmse: 1.48281\tvalid_1's rmse: 1.45704\n",
            "[200]\ttraining's rmse: 1.16805\tvalid_1's rmse: 1.15109\n",
            "[300]\ttraining's rmse: 1.1043\tvalid_1's rmse: 1.09343\n",
            "[400]\ttraining's rmse: 1.07891\tvalid_1's rmse: 1.08431\n",
            "[500]\ttraining's rmse: 1.06572\tvalid_1's rmse: 1.06691\n",
            "Early stopping, best iteration is:\n",
            "[513]\ttraining's rmse: 1.06452\tvalid_1's rmse: 1.05716\n"
          ]
        }
      ]
    },
    {
      "cell_type": "code",
      "source": [
        "y_pred_train = lgmodel.predict(X_train)\n",
        "y_pred_val = lgmodel.predict(X_val)\n",
        "\n",
        "mse_train=mean_squared_error(y_train, y_pred_train)\n",
        "mse_val=mean_squared_error(y_val, y_pred_val)\n",
        "\n",
        "print(\"Root Mean Squared error on Train data is:\",math.sqrt(mse_train))\n",
        "print(\"Root Mean Squared error on Val data is:\",math.sqrt(mse_val))"
      ],
      "metadata": {
        "id": "Ll_Byuyr6eWM",
        "colab": {
          "base_uri": "https://localhost:8080/"
        },
        "outputId": "23e319a9-2194-4fda-ad11-134dcd4f2da4"
      },
      "execution_count": null,
      "outputs": [
        {
          "output_type": "stream",
          "name": "stdout",
          "text": [
            "Root Mean Squared error on Train data is: 1.0645236653040733\n",
            "Root Mean Squared error on Val data is: 1.0571595026077882\n"
          ]
        }
      ]
    },
    {
      "cell_type": "code",
      "source": [
        "# Results with the best model\n",
        "lgbmpred = lgmodel.predict(X_test)\n",
        "mse_test=mean_squared_error(y_test, lgbmpred)\n",
        "print(\"Root Mean Squared error on Test data is:\",math.sqrt(mse_test))"
      ],
      "metadata": {
        "id": "7q4SfoucXOaw",
        "colab": {
          "base_uri": "https://localhost:8080/"
        },
        "outputId": "f6732dea-afc6-4a9d-e012-aab4b1ab1b1e"
      },
      "execution_count": null,
      "outputs": [
        {
          "output_type": "stream",
          "name": "stdout",
          "text": [
            "Root Mean Squared error on Test data is: 0.8865122562553175\n"
          ]
        }
      ]
    },
    {
      "cell_type": "code",
      "source": [
        "from sklearn.metrics import r2_score\n",
        "r2_train = r2_score(y_train, y_pred_train)\n",
        "r2_val = r2_score(y_val, y_pred_val)\n",
        "r2_test = r2_score(y_test, lgbmpred)\n",
        "print('r2 score for train is', r2_train)\n",
        "print('r2 score for val is', r2_val)\n",
        "print('r2 score for test is', r2_test)"
      ],
      "metadata": {
        "id": "R6ef2gCuXRip",
        "colab": {
          "base_uri": "https://localhost:8080/"
        },
        "outputId": "3668b9c4-70f5-40ba-e70e-d341d1498111"
      },
      "execution_count": null,
      "outputs": [
        {
          "output_type": "stream",
          "name": "stdout",
          "text": [
            "r2 score for train is 0.9922138722026053\n",
            "r2 score for val is 0.9920832903907838\n",
            "r2 score for test is 0.9945970497021803\n"
          ]
        }
      ]
    },
    {
      "cell_type": "code",
      "source": [
        "from sklearn import metrics\n",
        "print('Mean Absolute Error Train:', metrics.mean_absolute_error(y_train, y_pred_train))\n",
        "print('Mean Absolute Error Val:', metrics.mean_absolute_error(y_val, y_pred_val))\n",
        "print('Mean Absolute Error Test:', metrics.mean_absolute_error(y_test, lgbmpred))"
      ],
      "metadata": {
        "id": "MVTbeQjwXRmQ",
        "colab": {
          "base_uri": "https://localhost:8080/"
        },
        "outputId": "7aeb93ca-37d2-4436-88b4-e7d5f15cfd8e"
      },
      "execution_count": null,
      "outputs": [
        {
          "output_type": "stream",
          "name": "stdout",
          "text": [
            "Mean Absolute Error Train: 0.18575501395041727\n",
            "Mean Absolute Error Val: 0.18396341726641038\n",
            "Mean Absolute Error Test: 0.15612099797272785\n"
          ]
        }
      ]
    },
    {
      "cell_type": "code",
      "source": [],
      "metadata": {
        "id": "agEycpzkB7Ec"
      },
      "execution_count": null,
      "outputs": []
    },
    {
      "cell_type": "code",
      "source": [
        "xgb_weight = 0.5\n",
        "lgbm_weight = 0.5\n",
        "\n",
        "# Combine predictions using weighted average\n",
        "ensemble_preds = np.round((xgb_weight * pred1 + lgbm_weight * lgbmpred) / (xgb_weight + lgbm_weight))"
      ],
      "metadata": {
        "id": "_zu4ljPrB7H9"
      },
      "execution_count": null,
      "outputs": []
    },
    {
      "cell_type": "code",
      "source": [
        "mse_test_ensemble=mean_squared_error(y_test, ensemble_preds)\n",
        "print(\"Ensemble Root Mean Squared Error on Test data is:\",math.sqrt(mse_test_ensemble))"
      ],
      "metadata": {
        "colab": {
          "base_uri": "https://localhost:8080/"
        },
        "id": "jHHURzMeCJ7O",
        "outputId": "10090910-c2dc-4459-eb2a-047ddfa4a22b"
      },
      "execution_count": null,
      "outputs": [
        {
          "output_type": "stream",
          "name": "stdout",
          "text": [
            "Ensemble Root Mean Squared Error on Test data is: 0.9139143432367475\n"
          ]
        }
      ]
    },
    {
      "cell_type": "code",
      "source": [
        "mse_test_ensemble=mean_squared_error(y_test, ensemble_preds)\n",
        "print(\"Ensemble Root Mean Squared Error on Test data is:\",math.sqrt(mse_test_ensemble))"
      ],
      "metadata": {
        "id": "qtpyqbxICJ_B"
      },
      "execution_count": null,
      "outputs": []
    },
    {
      "cell_type": "code",
      "source": [],
      "metadata": {
        "id": "wGu7gW5QCt5_"
      },
      "execution_count": null,
      "outputs": []
    },
    {
      "cell_type": "markdown",
      "metadata": {
        "id": "QGxiZFcGMiOC"
      },
      "source": [
        "## Random Forest"
      ]
    },
    {
      "cell_type": "code",
      "source": [
        "model = RandomForestRegressor(n_estimators=1024, max_depth=256, min_samples_split=20, min_samples_leaf=1, \n",
        "                               max_features='sqrt', bootstrap=False, random_state=42)"
      ],
      "metadata": {
        "id": "L3SZffBOhQrH"
      },
      "execution_count": null,
      "outputs": []
    },
    {
      "cell_type": "code",
      "execution_count": null,
      "metadata": {
        "id": "P87C_9SVkNwH"
      },
      "outputs": [],
      "source": [
        "# Train the model on training data\n",
        "model.fit(X_train, y_train);"
      ]
    },
    {
      "cell_type": "code",
      "execution_count": null,
      "metadata": {
        "id": "YpOhN_SGjwy8"
      },
      "outputs": [],
      "source": [
        "y_pred_train = model.predict(X_train)\n",
        "y_pred_val = model.predict(X_val)\n",
        "\n",
        "mse_train=mean_squared_error(y_train, y_pred_train)\n",
        "mse_val=mean_squared_error(y_val, y_pred_val)\n",
        "\n",
        "print(\"Root Mean Squared error on Train data is:\",math.sqrt(mse_train))\n",
        "print(\"Root Mean Squared error on Val data is:\",math.sqrt(mse_val))"
      ]
    },
    {
      "cell_type": "code",
      "execution_count": null,
      "metadata": {
        "id": "41ohNka0j7We"
      },
      "outputs": [],
      "source": [
        "# Results with the best model\n",
        "y_pred_test = model.predict(X_test)\n",
        "mse_test=mean_squared_error(y_test, y_pred_test)\n",
        "print(\"Root Mean Squared error on Test data is:\",math.sqrt(mse_test))"
      ]
    },
    {
      "cell_type": "code",
      "source": [],
      "metadata": {
        "id": "H_0tk2lFkLnv"
      },
      "execution_count": null,
      "outputs": []
    },
    {
      "cell_type": "code",
      "source": [],
      "metadata": {
        "id": "hg-B6l6RkLyq"
      },
      "execution_count": null,
      "outputs": []
    },
    {
      "cell_type": "markdown",
      "metadata": {
        "id": "SBXIgWSCDUeH"
      },
      "source": [
        "## Linear Regression"
      ]
    },
    {
      "cell_type": "code",
      "execution_count": null,
      "metadata": {
        "id": "9rns1P416JSd",
        "colab": {
          "base_uri": "https://localhost:8080/",
          "height": 74
        },
        "outputId": "51653336-ea96-4906-8775-391b4bd16ac4"
      },
      "outputs": [
        {
          "output_type": "execute_result",
          "data": {
            "text/plain": [
              "LinearRegression()"
            ],
            "text/html": [
              "<style>#sk-container-id-13 {color: black;background-color: white;}#sk-container-id-13 pre{padding: 0;}#sk-container-id-13 div.sk-toggleable {background-color: white;}#sk-container-id-13 label.sk-toggleable__label {cursor: pointer;display: block;width: 100%;margin-bottom: 0;padding: 0.3em;box-sizing: border-box;text-align: center;}#sk-container-id-13 label.sk-toggleable__label-arrow:before {content: \"▸\";float: left;margin-right: 0.25em;color: #696969;}#sk-container-id-13 label.sk-toggleable__label-arrow:hover:before {color: black;}#sk-container-id-13 div.sk-estimator:hover label.sk-toggleable__label-arrow:before {color: black;}#sk-container-id-13 div.sk-toggleable__content {max-height: 0;max-width: 0;overflow: hidden;text-align: left;background-color: #f0f8ff;}#sk-container-id-13 div.sk-toggleable__content pre {margin: 0.2em;color: black;border-radius: 0.25em;background-color: #f0f8ff;}#sk-container-id-13 input.sk-toggleable__control:checked~div.sk-toggleable__content {max-height: 200px;max-width: 100%;overflow: auto;}#sk-container-id-13 input.sk-toggleable__control:checked~label.sk-toggleable__label-arrow:before {content: \"▾\";}#sk-container-id-13 div.sk-estimator input.sk-toggleable__control:checked~label.sk-toggleable__label {background-color: #d4ebff;}#sk-container-id-13 div.sk-label input.sk-toggleable__control:checked~label.sk-toggleable__label {background-color: #d4ebff;}#sk-container-id-13 input.sk-hidden--visually {border: 0;clip: rect(1px 1px 1px 1px);clip: rect(1px, 1px, 1px, 1px);height: 1px;margin: -1px;overflow: hidden;padding: 0;position: absolute;width: 1px;}#sk-container-id-13 div.sk-estimator {font-family: monospace;background-color: #f0f8ff;border: 1px dotted black;border-radius: 0.25em;box-sizing: border-box;margin-bottom: 0.5em;}#sk-container-id-13 div.sk-estimator:hover {background-color: #d4ebff;}#sk-container-id-13 div.sk-parallel-item::after {content: \"\";width: 100%;border-bottom: 1px solid gray;flex-grow: 1;}#sk-container-id-13 div.sk-label:hover label.sk-toggleable__label {background-color: #d4ebff;}#sk-container-id-13 div.sk-serial::before {content: \"\";position: absolute;border-left: 1px solid gray;box-sizing: border-box;top: 0;bottom: 0;left: 50%;z-index: 0;}#sk-container-id-13 div.sk-serial {display: flex;flex-direction: column;align-items: center;background-color: white;padding-right: 0.2em;padding-left: 0.2em;position: relative;}#sk-container-id-13 div.sk-item {position: relative;z-index: 1;}#sk-container-id-13 div.sk-parallel {display: flex;align-items: stretch;justify-content: center;background-color: white;position: relative;}#sk-container-id-13 div.sk-item::before, #sk-container-id-13 div.sk-parallel-item::before {content: \"\";position: absolute;border-left: 1px solid gray;box-sizing: border-box;top: 0;bottom: 0;left: 50%;z-index: -1;}#sk-container-id-13 div.sk-parallel-item {display: flex;flex-direction: column;z-index: 1;position: relative;background-color: white;}#sk-container-id-13 div.sk-parallel-item:first-child::after {align-self: flex-end;width: 50%;}#sk-container-id-13 div.sk-parallel-item:last-child::after {align-self: flex-start;width: 50%;}#sk-container-id-13 div.sk-parallel-item:only-child::after {width: 0;}#sk-container-id-13 div.sk-dashed-wrapped {border: 1px dashed gray;margin: 0 0.4em 0.5em 0.4em;box-sizing: border-box;padding-bottom: 0.4em;background-color: white;}#sk-container-id-13 div.sk-label label {font-family: monospace;font-weight: bold;display: inline-block;line-height: 1.2em;}#sk-container-id-13 div.sk-label-container {text-align: center;}#sk-container-id-13 div.sk-container {/* jupyter's `normalize.less` sets `[hidden] { display: none; }` but bootstrap.min.css set `[hidden] { display: none !important; }` so we also need the `!important` here to be able to override the default hidden behavior on the sphinx rendered scikit-learn.org. See: https://github.com/scikit-learn/scikit-learn/issues/21755 */display: inline-block !important;position: relative;}#sk-container-id-13 div.sk-text-repr-fallback {display: none;}</style><div id=\"sk-container-id-13\" class=\"sk-top-container\"><div class=\"sk-text-repr-fallback\"><pre>LinearRegression()</pre><b>In a Jupyter environment, please rerun this cell to show the HTML representation or trust the notebook. <br />On GitHub, the HTML representation is unable to render, please try loading this page with nbviewer.org.</b></div><div class=\"sk-container\" hidden><div class=\"sk-item\"><div class=\"sk-estimator sk-toggleable\"><input class=\"sk-toggleable__control sk-hidden--visually\" id=\"sk-estimator-id-13\" type=\"checkbox\" checked><label for=\"sk-estimator-id-13\" class=\"sk-toggleable__label sk-toggleable__label-arrow\">LinearRegression</label><div class=\"sk-toggleable__content\"><pre>LinearRegression()</pre></div></div></div></div></div>"
            ]
          },
          "metadata": {},
          "execution_count": 159
        }
      ],
      "source": [
        "model_lr= LinearRegression()  \n",
        "model_lr.fit(X_train_new, y_train)  "
      ]
    },
    {
      "cell_type": "code",
      "execution_count": null,
      "metadata": {
        "id": "B_KGqXwcM6Gt",
        "colab": {
          "base_uri": "https://localhost:8080/"
        },
        "outputId": "9157e87b-e2fa-44dc-9b02-8f00a9872107"
      },
      "outputs": [
        {
          "output_type": "stream",
          "name": "stdout",
          "text": [
            "Root Mean Squared error on Train data is: 10.348112314464077\n",
            "Root Mean Squared error on Val data is: 10.203220983770612\n"
          ]
        }
      ],
      "source": [
        "y_pred_train = model_lr.predict(X_train_new)\n",
        "y_pred_val = model_lr.predict(X_val_new)\n",
        "\n",
        "mse_train=mean_squared_error(y_train, y_pred_train)\n",
        "mse_val=mean_squared_error(y_val, y_pred_val)\n",
        "\n",
        "print(\"Root Mean Squared error on Train data is:\",math.sqrt(mse_train))\n",
        "print(\"Root Mean Squared error on Val data is:\",math.sqrt(mse_val))"
      ]
    },
    {
      "cell_type": "code",
      "execution_count": null,
      "metadata": {
        "id": "0LsgULVZ6WXm",
        "colab": {
          "base_uri": "https://localhost:8080/"
        },
        "outputId": "5f06fccf-a66c-412d-82c9-027ad30b1acd"
      },
      "outputs": [
        {
          "output_type": "stream",
          "name": "stdout",
          "text": [
            "Root Mean Squared error on Test data is: 10.288884345628928\n"
          ]
        }
      ],
      "source": [
        "y_pred_test_lr= model_lr.predict(X_test_new)  \n",
        "mse_test=mean_squared_error(y_test, y_pred_test_lr)\n",
        "print(\"Root Mean Squared error on Test data is:\",math.sqrt(mse_test))"
      ]
    },
    {
      "cell_type": "markdown",
      "source": [
        "## Catboost"
      ],
      "metadata": {
        "id": "kELf7bwiiVu2"
      }
    },
    {
      "cell_type": "code",
      "source": [
        "train_dataset = cb.Pool(X_train, y_train) \n",
        "val_dataset = cb.Pool(X_val, y_val) \n",
        "test_dataset = cb.Pool(X_test, y_test)"
      ],
      "metadata": {
        "id": "w3_MEEW-iXTF"
      },
      "execution_count": null,
      "outputs": []
    },
    {
      "cell_type": "code",
      "source": [
        "model = CatBoostRegressor(iterations=2000,\n",
        "                           learning_rate=0.1,\n",
        "                           depth=13,\n",
        "                           l2_leaf_reg=8,\n",
        "                           loss_function='RMSE',\n",
        "                           random_seed=99)"
      ],
      "metadata": {
        "id": "AhqfGOYikgkz"
      },
      "execution_count": null,
      "outputs": []
    },
    {
      "cell_type": "code",
      "source": [
        "# Fit the model to the training data\n",
        "model.fit(X_train, y_train,\n",
        "          eval_set=(X_val, y_val),\n",
        "          early_stopping_rounds=100,\n",
        "          verbose=100)"
      ],
      "metadata": {
        "colab": {
          "base_uri": "https://localhost:8080/"
        },
        "id": "GwKiGItxi7zj",
        "outputId": "d78065bd-5e64-4d4a-ea9d-d08abc313b9f"
      },
      "execution_count": null,
      "outputs": [
        {
          "output_type": "stream",
          "name": "stdout",
          "text": [
            "0:\tlearn: 11.5467354\ttest: 11.3790540\tbest: 11.3790540 (0)\ttotal: 568ms\tremaining: 18m 55s\n",
            "100:\tlearn: 5.6928329\ttest: 5.6303214\tbest: 5.6303214 (100)\ttotal: 56.3s\tremaining: 17m 39s\n",
            "200:\tlearn: 4.6204637\ttest: 4.5889351\tbest: 4.5889351 (200)\ttotal: 1m 50s\tremaining: 16m 28s\n",
            "300:\tlearn: 3.7440021\ttest: 3.7262652\tbest: 3.7262652 (300)\ttotal: 2m 44s\tremaining: 15m 27s\n",
            "400:\tlearn: 3.1785131\ttest: 3.1608956\tbest: 3.1608956 (400)\ttotal: 3m 38s\tremaining: 14m 29s\n",
            "500:\tlearn: 2.7436795\ttest: 2.7290505\tbest: 2.7290505 (500)\ttotal: 4m 31s\tremaining: 13m 33s\n",
            "600:\tlearn: 2.4568250\ttest: 2.4306967\tbest: 2.4306967 (600)\ttotal: 5m 25s\tremaining: 12m 37s\n",
            "700:\tlearn: 2.2295078\ttest: 2.1989811\tbest: 2.1989811 (700)\ttotal: 6m 18s\tremaining: 11m 42s\n",
            "800:\tlearn: 2.0618738\ttest: 2.0285788\tbest: 2.0285788 (800)\ttotal: 7m 12s\tremaining: 10m 47s\n",
            "900:\tlearn: 1.9144854\ttest: 1.8775135\tbest: 1.8775135 (900)\ttotal: 8m 6s\tremaining: 9m 52s\n",
            "1000:\tlearn: 1.8095591\ttest: 1.7691956\tbest: 1.7691956 (1000)\ttotal: 9m\tremaining: 8m 59s\n",
            "1100:\tlearn: 1.7083270\ttest: 1.6699386\tbest: 1.6699386 (1100)\ttotal: 9m 53s\tremaining: 8m 4s\n",
            "1200:\tlearn: 1.6361560\ttest: 1.5918890\tbest: 1.5918890 (1200)\ttotal: 10m 46s\tremaining: 7m 10s\n",
            "1300:\tlearn: 1.5744795\ttest: 1.5291898\tbest: 1.5291898 (1300)\ttotal: 11m 39s\tremaining: 6m 16s\n",
            "1400:\tlearn: 1.5289802\ttest: 1.4824810\tbest: 1.4824810 (1400)\ttotal: 12m 32s\tremaining: 5m 21s\n",
            "1500:\tlearn: 1.4868703\ttest: 1.4428173\tbest: 1.4428173 (1500)\ttotal: 13m 26s\tremaining: 4m 28s\n",
            "1600:\tlearn: 1.4494510\ttest: 1.4037559\tbest: 1.4037559 (1600)\ttotal: 14m 19s\tremaining: 3m 34s\n",
            "1700:\tlearn: 1.4147322\ttest: 1.3707688\tbest: 1.3707688 (1700)\ttotal: 15m 12s\tremaining: 2m 40s\n",
            "1800:\tlearn: 1.3885488\ttest: 1.3446182\tbest: 1.3446182 (1800)\ttotal: 16m 3s\tremaining: 1m 46s\n",
            "1900:\tlearn: 1.3634822\ttest: 1.3198453\tbest: 1.3198453 (1900)\ttotal: 16m 55s\tremaining: 52.9s\n",
            "1999:\tlearn: 1.3408528\ttest: 1.2976562\tbest: 1.2976562 (1999)\ttotal: 17m 46s\tremaining: 0us\n",
            "\n",
            "bestTest = 1.297656206\n",
            "bestIteration = 1999\n",
            "\n"
          ]
        },
        {
          "output_type": "execute_result",
          "data": {
            "text/plain": [
              "<catboost.core.CatBoostRegressor at 0x7f521c98b1c0>"
            ]
          },
          "metadata": {},
          "execution_count": 155
        }
      ]
    },
    {
      "cell_type": "code",
      "source": [
        "catpred = model.predict(X_test)\n",
        "rmse = (np.sqrt(mean_squared_error(y_test,catpred)))\n",
        "mae = (np.sqrt(mean_absolute_error(y_test, catpred)))\n",
        "r2 = r2_score(y_test, catpred)\n",
        "print('Testing performance')\n",
        "print('RMSE: {:.2f}'.format(rmse))\n",
        "print('R2: {:.2f}'.format(r2))\n",
        "print('MAE: {:.2f}'.format(mae))"
      ],
      "metadata": {
        "colab": {
          "base_uri": "https://localhost:8080/"
        },
        "id": "VYThUuwLi8gA",
        "outputId": "e3816f45-fc1e-4ce5-87c3-70377bc4e8cb"
      },
      "execution_count": null,
      "outputs": [
        {
          "output_type": "stream",
          "name": "stdout",
          "text": [
            "Testing performance\n",
            "RMSE: 1.23\n",
            "R2: 0.99\n",
            "MAE: 0.75\n"
          ]
        }
      ]
    },
    {
      "cell_type": "code",
      "source": [],
      "metadata": {
        "id": "YHzXVQCmlHsK"
      },
      "execution_count": null,
      "outputs": []
    },
    {
      "cell_type": "code",
      "source": [
        "# catboost_model = CatBoostRegressor()\n",
        "\n",
        "# # Define the hyperparameter grid for GridSearchCV\n",
        "# param_grid = {\n",
        "#     'iterations': [500, 1000],\n",
        "#     'learning_rate': [0.01, 0.05, 0.1],\n",
        "#     'depth': [4, 6, 8],\n",
        "#     'l2_leaf_reg': [1, 3, 5]\n",
        "# }\n",
        "\n",
        "# # Perform GridSearchCV\n",
        "# grid_search = GridSearchCV(estimator=catboost_model, param_grid=param_grid, cv=5, verbose=0)\n",
        "# grid_search.fit(X_train_check, y_train_check)\n",
        "\n",
        "# # Print the best parameters and RMSE score\n",
        "# print(\"Best parameters:\", grid_search.best_params_)\n",
        "# y_pred = grid_search.predict(X_test_check)\n",
        "# rmse = np.sqrt(mean_squared_error(y_test_check, y_pred))\n",
        "# print(\"RMSE:\", rmse)"
      ],
      "metadata": {
        "id": "ziZNPYl_lff0"
      },
      "execution_count": null,
      "outputs": []
    },
    {
      "cell_type": "code",
      "source": [],
      "metadata": {
        "id": "b7Zg_5-zosy8"
      },
      "execution_count": null,
      "outputs": []
    }
  ],
  "metadata": {
    "accelerator": "GPU",
    "colab": {
      "collapsed_sections": [
        "QGxiZFcGMiOC",
        "SBXIgWSCDUeH",
        "kELf7bwiiVu2"
      ],
      "provenance": []
    },
    "gpuClass": "standard",
    "kernelspec": {
      "display_name": "Python 3",
      "name": "python3"
    },
    "language_info": {
      "name": "python"
    }
  },
  "nbformat": 4,
  "nbformat_minor": 0
}